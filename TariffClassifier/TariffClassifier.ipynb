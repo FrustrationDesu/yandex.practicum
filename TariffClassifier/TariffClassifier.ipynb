{
 "cells": [
  {
   "cell_type": "markdown",
   "metadata": {},
   "source": [
    "# Рекомендация тарифов"
   ]
  },
  {
   "cell_type": "markdown",
   "metadata": {},
   "source": [
    "В вашем распоряжении данные о поведении клиентов, которые уже перешли на эти тарифы (из проекта курса «Статистический анализ данных»). Нужно построить модель для задачи классификации, которая выберет подходящий тариф. Предобработка данных не понадобится — вы её уже сделали.\n",
    "\n",
    "Постройте модель с максимально большим значением *accuracy*. Чтобы сдать проект успешно, нужно довести долю правильных ответов по крайней мере до 0.75. Проверьте *accuracy* на тестовой выборке самостоятельно."
   ]
  },
  {
   "cell_type": "markdown",
   "metadata": {},
   "source": [
    "## Откройте и изучите файл"
   ]
  },
  {
   "cell_type": "code",
   "execution_count": 1,
   "metadata": {},
   "outputs": [],
   "source": [
    "import pandas as pd\n",
    "from sklearn.model_selection import train_test_split \n",
    "from sklearn.tree import DecisionTreeClassifier\n",
    "from sklearn.metrics import accuracy_score\n",
    "from sklearn.ensemble import RandomForestClassifier\n",
    "from sklearn.linear_model import LogisticRegression\n",
    "from sklearn.dummy import DummyClassifier"
   ]
  },
  {
   "cell_type": "code",
   "execution_count": 2,
   "metadata": {},
   "outputs": [],
   "source": [
    "df = pd.read_csv('users_behavior.csv')"
   ]
  },
  {
   "cell_type": "code",
   "execution_count": 3,
   "metadata": {},
   "outputs": [
    {
     "data": {
      "text/html": [
       "<div>\n",
       "<style scoped>\n",
       "    .dataframe tbody tr th:only-of-type {\n",
       "        vertical-align: middle;\n",
       "    }\n",
       "\n",
       "    .dataframe tbody tr th {\n",
       "        vertical-align: top;\n",
       "    }\n",
       "\n",
       "    .dataframe thead th {\n",
       "        text-align: right;\n",
       "    }\n",
       "</style>\n",
       "<table border=\"1\" class=\"dataframe\">\n",
       "  <thead>\n",
       "    <tr style=\"text-align: right;\">\n",
       "      <th></th>\n",
       "      <th>calls</th>\n",
       "      <th>minutes</th>\n",
       "      <th>messages</th>\n",
       "      <th>mb_used</th>\n",
       "      <th>is_ultra</th>\n",
       "    </tr>\n",
       "  </thead>\n",
       "  <tbody>\n",
       "    <tr>\n",
       "      <th>0</th>\n",
       "      <td>40.0</td>\n",
       "      <td>311.90</td>\n",
       "      <td>83.0</td>\n",
       "      <td>19915.42</td>\n",
       "      <td>0</td>\n",
       "    </tr>\n",
       "    <tr>\n",
       "      <th>1</th>\n",
       "      <td>85.0</td>\n",
       "      <td>516.75</td>\n",
       "      <td>56.0</td>\n",
       "      <td>22696.96</td>\n",
       "      <td>0</td>\n",
       "    </tr>\n",
       "    <tr>\n",
       "      <th>2</th>\n",
       "      <td>77.0</td>\n",
       "      <td>467.66</td>\n",
       "      <td>86.0</td>\n",
       "      <td>21060.45</td>\n",
       "      <td>0</td>\n",
       "    </tr>\n",
       "    <tr>\n",
       "      <th>3</th>\n",
       "      <td>106.0</td>\n",
       "      <td>745.53</td>\n",
       "      <td>81.0</td>\n",
       "      <td>8437.39</td>\n",
       "      <td>1</td>\n",
       "    </tr>\n",
       "    <tr>\n",
       "      <th>4</th>\n",
       "      <td>66.0</td>\n",
       "      <td>418.74</td>\n",
       "      <td>1.0</td>\n",
       "      <td>14502.75</td>\n",
       "      <td>0</td>\n",
       "    </tr>\n",
       "    <tr>\n",
       "      <th>5</th>\n",
       "      <td>58.0</td>\n",
       "      <td>344.56</td>\n",
       "      <td>21.0</td>\n",
       "      <td>15823.37</td>\n",
       "      <td>0</td>\n",
       "    </tr>\n",
       "    <tr>\n",
       "      <th>6</th>\n",
       "      <td>57.0</td>\n",
       "      <td>431.64</td>\n",
       "      <td>20.0</td>\n",
       "      <td>3738.90</td>\n",
       "      <td>1</td>\n",
       "    </tr>\n",
       "    <tr>\n",
       "      <th>7</th>\n",
       "      <td>15.0</td>\n",
       "      <td>132.40</td>\n",
       "      <td>6.0</td>\n",
       "      <td>21911.60</td>\n",
       "      <td>0</td>\n",
       "    </tr>\n",
       "    <tr>\n",
       "      <th>8</th>\n",
       "      <td>7.0</td>\n",
       "      <td>43.39</td>\n",
       "      <td>3.0</td>\n",
       "      <td>2538.67</td>\n",
       "      <td>1</td>\n",
       "    </tr>\n",
       "    <tr>\n",
       "      <th>9</th>\n",
       "      <td>90.0</td>\n",
       "      <td>665.41</td>\n",
       "      <td>38.0</td>\n",
       "      <td>17358.61</td>\n",
       "      <td>0</td>\n",
       "    </tr>\n",
       "  </tbody>\n",
       "</table>\n",
       "</div>"
      ],
      "text/plain": [
       "   calls  minutes  messages   mb_used  is_ultra\n",
       "0   40.0   311.90      83.0  19915.42         0\n",
       "1   85.0   516.75      56.0  22696.96         0\n",
       "2   77.0   467.66      86.0  21060.45         0\n",
       "3  106.0   745.53      81.0   8437.39         1\n",
       "4   66.0   418.74       1.0  14502.75         0\n",
       "5   58.0   344.56      21.0  15823.37         0\n",
       "6   57.0   431.64      20.0   3738.90         1\n",
       "7   15.0   132.40       6.0  21911.60         0\n",
       "8    7.0    43.39       3.0   2538.67         1\n",
       "9   90.0   665.41      38.0  17358.61         0"
      ]
     },
     "execution_count": 3,
     "metadata": {},
     "output_type": "execute_result"
    }
   ],
   "source": [
    "df.head(10)"
   ]
  },
  {
   "cell_type": "code",
   "execution_count": 4,
   "metadata": {
    "scrolled": true
   },
   "outputs": [
    {
     "name": "stdout",
     "output_type": "stream",
     "text": [
      "<class 'pandas.core.frame.DataFrame'>\n",
      "RangeIndex: 3214 entries, 0 to 3213\n",
      "Data columns (total 5 columns):\n",
      " #   Column    Non-Null Count  Dtype  \n",
      "---  ------    --------------  -----  \n",
      " 0   calls     3214 non-null   float64\n",
      " 1   minutes   3214 non-null   float64\n",
      " 2   messages  3214 non-null   float64\n",
      " 3   mb_used   3214 non-null   float64\n",
      " 4   is_ultra  3214 non-null   int64  \n",
      "dtypes: float64(4), int64(1)\n",
      "memory usage: 125.7 KB\n"
     ]
    }
   ],
   "source": [
    "df.info()"
   ]
  },
  {
   "cell_type": "code",
   "execution_count": 5,
   "metadata": {},
   "outputs": [],
   "source": [
    "df['messages']=df['messages'].astype(\"int\")\n",
    "df['calls']=df['calls'].astype(\"int\")"
   ]
  },
  {
   "cell_type": "code",
   "execution_count": 6,
   "metadata": {},
   "outputs": [
    {
     "data": {
      "text/plain": [
       "0"
      ]
     },
     "execution_count": 6,
     "metadata": {},
     "output_type": "execute_result"
    }
   ],
   "source": [
    "#проверка на дубликаты\n",
    "df.duplicated().sum()"
   ]
  },
  {
   "cell_type": "markdown",
   "metadata": {},
   "source": [
    "## Разбейте данные на выборки"
   ]
  },
  {
   "cell_type": "code",
   "execution_count": 7,
   "metadata": {},
   "outputs": [],
   "source": [
    "features = df.drop(['is_ultra'], axis=1)\n",
    "target = df['is_ultra']"
   ]
  },
  {
   "cell_type": "code",
   "execution_count": 8,
   "metadata": {},
   "outputs": [],
   "source": [
    "features_train, features_test, target_train, target_test = train_test_split(features, \n",
    "                                                                            target, \n",
    "                                                                            test_size=0.4, \n",
    "                                                                            random_state=123\n",
    "                                                                           ) "
   ]
  },
  {
   "cell_type": "markdown",
   "metadata": {},
   "source": [
    "Сперва отделил для обучающей выборки 60%"
   ]
  },
  {
   "cell_type": "code",
   "execution_count": 9,
   "metadata": {},
   "outputs": [
    {
     "name": "stdout",
     "output_type": "stream",
     "text": [
      "(1928, 4)\n",
      "(1928,)\n"
     ]
    }
   ],
   "source": [
    "print(features_train.shape)\n",
    "print(target_train.shape)"
   ]
  },
  {
   "cell_type": "code",
   "execution_count": 10,
   "metadata": {},
   "outputs": [],
   "source": [
    "features_valid, features_test, target_valid, target_test = train_test_split(features_test, \n",
    "                                                                            target_test, \n",
    "                                                                            test_size=0.5, \n",
    "                                                                            random_state=123\n",
    "                                                                           ) "
   ]
  },
  {
   "cell_type": "code",
   "execution_count": 11,
   "metadata": {},
   "outputs": [
    {
     "name": "stdout",
     "output_type": "stream",
     "text": [
      "(643, 4)\n",
      "(643,)\n"
     ]
    }
   ],
   "source": [
    "print(features_valid.shape)\n",
    "print(target_valid.shape)"
   ]
  },
  {
   "cell_type": "code",
   "execution_count": 12,
   "metadata": {},
   "outputs": [
    {
     "name": "stdout",
     "output_type": "stream",
     "text": [
      "(643, 4)\n",
      "(643,)\n"
     ]
    }
   ],
   "source": [
    "print(features_test.shape)\n",
    "print(target_test.shape)"
   ]
  },
  {
   "cell_type": "markdown",
   "metadata": {},
   "source": [
    "Далее поделил пополам и получилось 3 выборки: 60-20-20"
   ]
  },
  {
   "cell_type": "markdown",
   "metadata": {},
   "source": [
    "<ul><li>features_train, target_train - обучающая выборка\n",
    "<li>features_valid, target_valid - валидационная выборка\n",
    "<li>features_test, target_test - тестовая выборка"
   ]
  },
  {
   "cell_type": "markdown",
   "metadata": {},
   "source": [
    "## Исследуйте модели"
   ]
  },
  {
   "cell_type": "markdown",
   "metadata": {},
   "source": [
    "### DecisionTreeClassifier"
   ]
  },
  {
   "cell_type": "code",
   "execution_count": 13,
   "metadata": {},
   "outputs": [
    {
     "name": "stdout",
     "output_type": "stream",
     "text": [
      "Глубина дерева: 5 ; Точность: 0.8227060653188181\n"
     ]
    }
   ],
   "source": [
    "best_accuracy = 0\n",
    "best_depth = 0\n",
    "for depth in range(1,12):\n",
    "    model = DecisionTreeClassifier(max_depth=depth, random_state=123)\n",
    "    model.fit(features_train, target_train)\n",
    "    accuracy = model.score(features_valid, target_valid)\n",
    "    if accuracy > best_accuracy:\n",
    "        best_accuracy = accuracy\n",
    "        best_depth = depth\n",
    "print(\"Глубина дерева:\", best_depth, \"; Точность:\", best_accuracy)"
   ]
  },
  {
   "cell_type": "markdown",
   "metadata": {},
   "source": [
    "### RandomForestClassifier"
   ]
  },
  {
   "cell_type": "code",
   "execution_count": 14,
   "metadata": {
    "scrolled": true
   },
   "outputs": [
    {
     "name": "stdout",
     "output_type": "stream",
     "text": [
      "Глубина дерева: 9 ; Количество деревьев: 25 ; мин. объектов в узле: 4 ; Точность: 0.8398133748055988\n"
     ]
    }
   ],
   "source": [
    "best_accuracy = 0\n",
    "best_depth = 0\n",
    "for depth in range(1,10):\n",
    "    for est in range(5,51,5):\n",
    "        for sample in range(1,6):\n",
    "            model = RandomForestClassifier(max_depth=depth, n_estimators=est, \n",
    "                                           min_samples_leaf=sample, random_state=123)\n",
    "            model.fit(features_train, target_train)\n",
    "            accuracy = model.score(features_valid, target_valid)\n",
    "            if accuracy > best_accuracy:\n",
    "                best_accuracy = accuracy\n",
    "                best_depth = depth\n",
    "                best_est = est\n",
    "                best_sample = sample\n",
    "print(\"Глубина дерева:\", best_depth, \"; Количество деревьев:\",\n",
    "      best_est, \"; мин. объектов в узле:\", best_sample, \"; Точность:\", best_accuracy)"
   ]
  },
  {
   "cell_type": "markdown",
   "metadata": {},
   "source": [
    "### LogisticRegression"
   ]
  },
  {
   "cell_type": "code",
   "execution_count": 15,
   "metadata": {},
   "outputs": [
    {
     "name": "stdout",
     "output_type": "stream",
     "text": [
      "Качество: 0.7589424572317263\n"
     ]
    }
   ],
   "source": [
    "model = LogisticRegression()\n",
    "model.fit(features_train, target_train)\n",
    "accuracy = model.score(features_valid, target_valid)\n",
    "print(\"Качество:\", accuracy)"
   ]
  },
  {
   "cell_type": "markdown",
   "metadata": {},
   "source": [
    "Самая простая и быстрая. но хромает точность"
   ]
  },
  {
   "cell_type": "markdown",
   "metadata": {},
   "source": [
    "### Вывод\n",
    "    "
   ]
  },
  {
   "cell_type": "markdown",
   "metadata": {},
   "source": [
    "<ul><li> Наилучший результат точности у модели DecisionTreeClassifier - 0.8227060653188181\n",
    "<li>Наилучший результат точности у модели RandomForestClassifier - 0.8398133748055988\n",
    "<li>Наилучший результат точности у модели  LogisticRegression - 0.7589424572317263"
   ]
  },
  {
   "cell_type": "markdown",
   "metadata": {},
   "source": [
    "Наилучший результат показала модель Случайнго леса с гиперпараметрами: Глубина дерева: 9 ; Количество деревьев: 25 ; мин. объектов в узле: 4, что дало на валидационной выборке точность - 0.8398133748055988.\n",
    "Это отличный показатель и далее именно эти параметры я буду использовать для проверки на тестовой выборке."
   ]
  },
  {
   "cell_type": "markdown",
   "metadata": {},
   "source": [
    "## Проверьте модель на тестовой выборке"
   ]
  },
  {
   "cell_type": "markdown",
   "metadata": {},
   "source": [
    "### DecisionTreeClassifier"
   ]
  },
  {
   "cell_type": "code",
   "execution_count": 16,
   "metadata": {},
   "outputs": [
    {
     "name": "stdout",
     "output_type": "stream",
     "text": [
      "Точность: 0.7480559875583204\n"
     ]
    }
   ],
   "source": [
    "model = DecisionTreeClassifier(max_depth=12, random_state=123)\n",
    "model.fit(features_train, target_train)\n",
    "accuracy = model.score(features_test, target_test)\n",
    "print(\"Точность:\", accuracy)"
   ]
  },
  {
   "cell_type": "markdown",
   "metadata": {},
   "source": [
    "### RandomForestClassifier"
   ]
  },
  {
   "cell_type": "code",
   "execution_count": 17,
   "metadata": {},
   "outputs": [
    {
     "name": "stdout",
     "output_type": "stream",
     "text": [
      "Точность: 0.7931570762052877\n"
     ]
    }
   ],
   "source": [
    "model = RandomForestClassifier(max_depth=9, n_estimators=25, min_samples_leaf=4, random_state=123)\n",
    "model.fit(features_train, target_train)\n",
    "accuracy = model.score(features_test, target_test)\n",
    "print(\"Точность:\", accuracy)"
   ]
  },
  {
   "cell_type": "markdown",
   "metadata": {},
   "source": [
    "### LogisticRegression"
   ]
  },
  {
   "cell_type": "code",
   "execution_count": 18,
   "metadata": {
    "scrolled": true
   },
   "outputs": [
    {
     "name": "stdout",
     "output_type": "stream",
     "text": [
      "Точность: 0.7309486780715396\n"
     ]
    }
   ],
   "source": [
    "model = LogisticRegression()\n",
    "model.fit(features_train, target_train)\n",
    "accuracy = model.score(features_test, target_test)\n",
    "print(\"Точность:\", accuracy)"
   ]
  },
  {
   "cell_type": "markdown",
   "metadata": {},
   "source": [
    "### Вывод"
   ]
  },
  {
   "cell_type": "markdown",
   "metadata": {},
   "source": [
    "<ul><li>При проверке на тестовой выборке оказалась лучше модель Случайного леса с показателем точности - 0.7931570762052877\n",
    "<li>А самая же худшая по точности оказалась модель логистической регрессии - 0.7309486780715396"
   ]
  },
  {
   "cell_type": "markdown",
   "metadata": {},
   "source": [
    "## (бонус) Проверьте модели на адекватность"
   ]
  },
  {
   "cell_type": "markdown",
   "metadata": {},
   "source": [
    "Для проверки модели на адекватность используем модель DummyClassifier"
   ]
  },
  {
   "cell_type": "code",
   "execution_count": 19,
   "metadata": {},
   "outputs": [
    {
     "name": "stdout",
     "output_type": "stream",
     "text": [
      "Точность: 0.6936236391912908\n"
     ]
    }
   ],
   "source": [
    "model = DummyClassifier(strategy='most_frequent', random_state=123)\n",
    "model.fit(features_train, target_train)\n",
    "result = model.score(features_test, target_test)\n",
    "print('Точность:', result)"
   ]
  },
  {
   "cell_type": "markdown",
   "metadata": {},
   "source": [
    "Точность модели DummyClassifier ниже всех остальных, а значит наилучшая модель случайного леса адекватна и выполняет свою задачу."
   ]
  },
  {
   "cell_type": "markdown",
   "metadata": {},
   "source": [
    "## Общий вывод"
   ]
  },
  {
   "cell_type": "markdown",
   "metadata": {},
   "source": [
    "<ul><li> Данные были заранее предобработаны.\n",
    "<li> Было проведено исследование трёх моделей: DecisionTreeClassifier, RandomForestClassifier, LogisticRegression\n",
    "<li> Самый лучший показатель точности был достигнут моделью RandomForestClassifier с гиперпараметрами: max_depth=9, n_estimators=25, min_samples_leaf=4\n",
    "<li> Показатель точности лучшей модели  - 0.7931570762052877\n",
    "<li> Также модели прошли проверку на адекватность путём сравнения с моделью DummyClassifier"
   ]
  },
  {
   "cell_type": "markdown",
   "metadata": {},
   "source": [
    "## Чек-лист готовности проекта"
   ]
  },
  {
   "cell_type": "markdown",
   "metadata": {},
   "source": [
    "Поставьте 'x' в выполненных пунктах. Далее нажмите Shift+Enter."
   ]
  },
  {
   "cell_type": "markdown",
   "metadata": {},
   "source": [
    "- [x] Jupyter Notebook открыт\n",
    "- [x] Весь код исполняется без ошибок\n",
    "- [x] Ячейки с кодом расположены в порядке исполнения\n",
    "- [x] Выполнено задание 1: данные загружены и изучены\n",
    "- [x] Выполнено задание 2: данные разбиты на три выборки\n",
    "- [x] Выполнено задание 3: проведено исследование моделей\n",
    "    - [x] Рассмотрено больше одной модели\n",
    "    - [x] Рассмотрено хотя бы 3 значения гипепараметров для какой-нибудь модели\n",
    "    - [x] Написаны выводы по результатам исследования\n",
    "- [x] Выполнено задание 3: Проведено тестирование\n",
    "- [x] Удалось достичь accuracy не меньше 0.75\n"
   ]
  },
  {
   "cell_type": "code",
   "execution_count": null,
   "metadata": {},
   "outputs": [],
   "source": []
  }
 ],
 "metadata": {
  "ExecuteTimeLog": [
   {
    "duration": 50,
    "start_time": "2023-02-22T06:15:58.817Z"
   },
   {
    "duration": 409,
    "start_time": "2023-02-22T06:16:29.054Z"
   },
   {
    "duration": 118,
    "start_time": "2023-02-22T06:16:56.378Z"
   },
   {
    "duration": 19,
    "start_time": "2023-02-22T06:16:59.536Z"
   },
   {
    "duration": 10,
    "start_time": "2023-02-22T06:17:17.924Z"
   },
   {
    "duration": 12,
    "start_time": "2023-02-22T06:17:32.085Z"
   },
   {
    "duration": 786,
    "start_time": "2023-02-22T06:19:56.380Z"
   },
   {
    "duration": 28,
    "start_time": "2023-02-22T06:19:57.168Z"
   },
   {
    "duration": 15,
    "start_time": "2023-02-22T06:19:57.199Z"
   },
   {
    "duration": 12,
    "start_time": "2023-02-22T06:19:58.163Z"
   },
   {
    "duration": 5,
    "start_time": "2023-02-22T06:22:56.982Z"
   },
   {
    "duration": 5,
    "start_time": "2023-02-22T06:22:57.329Z"
   },
   {
    "duration": 3,
    "start_time": "2023-02-22T06:22:57.613Z"
   },
   {
    "duration": 4,
    "start_time": "2023-02-22T06:24:07.132Z"
   },
   {
    "duration": 3,
    "start_time": "2023-02-22T06:24:07.307Z"
   },
   {
    "duration": 40,
    "start_time": "2023-02-22T06:24:34.954Z"
   },
   {
    "duration": 2,
    "start_time": "2023-02-22T06:24:35.105Z"
   },
   {
    "duration": 52,
    "start_time": "2023-02-22T06:32:56.069Z"
   },
   {
    "duration": 4,
    "start_time": "2023-02-22T06:43:11.500Z"
   },
   {
    "duration": 3,
    "start_time": "2023-02-22T06:43:16.564Z"
   },
   {
    "duration": 5,
    "start_time": "2023-02-22T06:43:33.659Z"
   },
   {
    "duration": 2,
    "start_time": "2023-02-22T06:43:33.969Z"
   },
   {
    "duration": 5,
    "start_time": "2023-02-22T06:43:34.241Z"
   },
   {
    "duration": 49,
    "start_time": "2023-02-22T06:43:53.021Z"
   },
   {
    "duration": 57,
    "start_time": "2023-02-22T06:46:07.424Z"
   },
   {
    "duration": 54,
    "start_time": "2023-02-22T06:46:51.315Z"
   },
   {
    "duration": 78,
    "start_time": "2023-02-22T06:47:35.020Z"
   },
   {
    "duration": 31,
    "start_time": "2023-02-22T06:48:17.502Z"
   },
   {
    "duration": 33,
    "start_time": "2023-02-22T06:48:45.162Z"
   },
   {
    "duration": 113,
    "start_time": "2023-02-22T06:49:47.715Z"
   },
   {
    "duration": 14,
    "start_time": "2023-02-22T06:50:48.552Z"
   },
   {
    "duration": 49,
    "start_time": "2023-02-22T06:51:54.164Z"
   },
   {
    "duration": 3,
    "start_time": "2023-02-22T06:55:19.730Z"
   },
   {
    "duration": 3,
    "start_time": "2023-02-22T06:55:23.035Z"
   },
   {
    "duration": 17,
    "start_time": "2023-02-22T06:57:24.748Z"
   },
   {
    "duration": 28,
    "start_time": "2023-02-22T06:57:30.825Z"
   },
   {
    "duration": 69,
    "start_time": "2023-02-22T06:57:42.420Z"
   },
   {
    "duration": 11,
    "start_time": "2023-02-22T06:59:12.116Z"
   },
   {
    "duration": 12,
    "start_time": "2023-02-22T06:59:30.185Z"
   },
   {
    "duration": 262,
    "start_time": "2023-02-22T06:59:37.411Z"
   },
   {
    "duration": 3,
    "start_time": "2023-02-22T07:10:09.785Z"
   },
   {
    "duration": 4,
    "start_time": "2023-02-22T07:10:46.852Z"
   },
   {
    "duration": 7,
    "start_time": "2023-02-22T07:10:54.278Z"
   },
   {
    "duration": 2,
    "start_time": "2023-02-22T07:13:26.263Z"
   },
   {
    "duration": 6,
    "start_time": "2023-02-22T07:13:38.431Z"
   },
   {
    "duration": 3,
    "start_time": "2023-02-22T08:17:09.369Z"
   },
   {
    "duration": 7,
    "start_time": "2023-02-22T08:18:58.140Z"
   },
   {
    "duration": 6,
    "start_time": "2023-02-22T08:18:59.067Z"
   },
   {
    "duration": 46,
    "start_time": "2023-02-22T08:19:02.338Z"
   },
   {
    "duration": 52,
    "start_time": "2023-02-22T08:19:04.901Z"
   },
   {
    "duration": 241,
    "start_time": "2023-02-22T08:19:06.669Z"
   },
   {
    "duration": 11,
    "start_time": "2023-02-22T08:19:14.615Z"
   },
   {
    "duration": 2,
    "start_time": "2023-02-22T08:19:26.670Z"
   },
   {
    "duration": 249,
    "start_time": "2023-02-22T08:19:32.523Z"
   },
   {
    "duration": 9,
    "start_time": "2023-02-22T08:19:33.367Z"
   },
   {
    "duration": 2,
    "start_time": "2023-02-22T08:19:50.724Z"
   },
   {
    "duration": 30,
    "start_time": "2023-02-22T08:19:55.730Z"
   },
   {
    "duration": 18,
    "start_time": "2023-02-22T08:20:02.294Z"
   },
   {
    "duration": 12749,
    "start_time": "2023-02-22T08:22:23.920Z"
   },
   {
    "duration": 13239,
    "start_time": "2023-02-22T08:23:20.044Z"
   },
   {
    "duration": 25056,
    "start_time": "2023-02-22T08:24:58.940Z"
   },
   {
    "duration": 30217,
    "start_time": "2023-02-22T08:25:36.868Z"
   },
   {
    "duration": 119,
    "start_time": "2023-02-22T08:27:27.771Z"
   },
   {
    "duration": 31251,
    "start_time": "2023-02-22T08:27:30.959Z"
   },
   {
    "duration": 112,
    "start_time": "2023-02-22T08:28:02.212Z"
   },
   {
    "duration": 5,
    "start_time": "2023-02-22T08:28:02.326Z"
   },
   {
    "duration": 19,
    "start_time": "2023-02-22T08:28:02.338Z"
   },
   {
    "duration": 99,
    "start_time": "2023-02-22T08:28:03.992Z"
   },
   {
    "duration": 32179,
    "start_time": "2023-02-22T08:28:05.401Z"
   },
   {
    "duration": 32,
    "start_time": "2023-02-22T08:28:43.673Z"
   },
   {
    "duration": 17,
    "start_time": "2023-02-22T08:30:09.138Z"
   },
   {
    "duration": 172,
    "start_time": "2023-02-22T08:31:59.119Z"
   },
   {
    "duration": 20,
    "start_time": "2023-02-22T08:33:00.388Z"
   },
   {
    "duration": 2,
    "start_time": "2023-02-22T08:35:19.006Z"
   },
   {
    "duration": 2,
    "start_time": "2023-02-22T08:35:19.402Z"
   },
   {
    "duration": 416,
    "start_time": "2023-02-22T08:35:35.357Z"
   },
   {
    "duration": 723,
    "start_time": "2023-02-22T08:35:35.775Z"
   },
   {
    "duration": 52,
    "start_time": "2023-02-22T08:35:36.500Z"
   },
   {
    "duration": 3,
    "start_time": "2023-02-22T08:35:36.555Z"
   },
   {
    "duration": 22,
    "start_time": "2023-02-22T08:35:36.560Z"
   },
   {
    "duration": 2,
    "start_time": "2023-02-22T08:35:36.584Z"
   },
   {
    "duration": 13,
    "start_time": "2023-02-22T08:35:36.588Z"
   },
   {
    "duration": 39,
    "start_time": "2023-02-22T08:35:36.603Z"
   },
   {
    "duration": 22,
    "start_time": "2023-02-22T08:35:36.644Z"
   },
   {
    "duration": 11,
    "start_time": "2023-02-22T08:35:36.668Z"
   },
   {
    "duration": 4,
    "start_time": "2023-02-22T08:35:36.681Z"
   },
   {
    "duration": 12,
    "start_time": "2023-02-22T08:35:36.686Z"
   },
   {
    "duration": 15,
    "start_time": "2023-02-22T08:35:36.700Z"
   },
   {
    "duration": 26,
    "start_time": "2023-02-22T08:35:36.717Z"
   },
   {
    "duration": 133,
    "start_time": "2023-02-22T08:35:36.745Z"
   },
   {
    "duration": 0,
    "start_time": "2023-02-22T08:35:36.880Z"
   },
   {
    "duration": 0,
    "start_time": "2023-02-22T08:35:36.881Z"
   },
   {
    "duration": 0,
    "start_time": "2023-02-22T08:35:36.882Z"
   },
   {
    "duration": 0,
    "start_time": "2023-02-22T08:35:36.884Z"
   },
   {
    "duration": 0,
    "start_time": "2023-02-22T08:35:36.885Z"
   },
   {
    "duration": 5,
    "start_time": "2023-02-22T08:36:04.235Z"
   },
   {
    "duration": 11,
    "start_time": "2023-02-22T08:36:06.393Z"
   },
   {
    "duration": 5,
    "start_time": "2023-02-22T08:38:00.356Z"
   },
   {
    "duration": 83,
    "start_time": "2023-02-22T08:38:02.977Z"
   },
   {
    "duration": 409,
    "start_time": "2023-02-22T08:48:23.661Z"
   },
   {
    "duration": 747,
    "start_time": "2023-02-22T08:48:24.072Z"
   },
   {
    "duration": 40,
    "start_time": "2023-02-22T08:48:24.821Z"
   },
   {
    "duration": 3,
    "start_time": "2023-02-22T08:48:24.863Z"
   },
   {
    "duration": 20,
    "start_time": "2023-02-22T08:48:24.867Z"
   },
   {
    "duration": 6,
    "start_time": "2023-02-22T08:48:24.889Z"
   },
   {
    "duration": 13,
    "start_time": "2023-02-22T08:48:24.897Z"
   },
   {
    "duration": 37,
    "start_time": "2023-02-22T08:48:24.912Z"
   },
   {
    "duration": 19,
    "start_time": "2023-02-22T08:48:24.951Z"
   },
   {
    "duration": 17,
    "start_time": "2023-02-22T08:48:24.973Z"
   },
   {
    "duration": 13,
    "start_time": "2023-02-22T08:48:24.992Z"
   },
   {
    "duration": 13,
    "start_time": "2023-02-22T08:48:25.006Z"
   },
   {
    "duration": 18,
    "start_time": "2023-02-22T08:48:25.021Z"
   },
   {
    "duration": 10,
    "start_time": "2023-02-22T08:48:25.041Z"
   },
   {
    "duration": 6,
    "start_time": "2023-02-22T08:48:25.053Z"
   },
   {
    "duration": 11,
    "start_time": "2023-02-22T08:48:25.061Z"
   },
   {
    "duration": 7,
    "start_time": "2023-02-22T08:48:25.074Z"
   },
   {
    "duration": 13,
    "start_time": "2023-02-22T08:48:25.083Z"
   },
   {
    "duration": 105,
    "start_time": "2023-02-22T08:48:25.099Z"
   },
   {
    "duration": 32490,
    "start_time": "2023-02-22T08:48:25.206Z"
   },
   {
    "duration": 48,
    "start_time": "2023-02-22T08:48:57.698Z"
   },
   {
    "duration": 17,
    "start_time": "2023-02-22T08:48:57.749Z"
   },
   {
    "duration": 183,
    "start_time": "2023-02-22T08:48:57.768Z"
   },
   {
    "duration": 33,
    "start_time": "2023-02-22T08:48:57.953Z"
   },
   {
    "duration": 86,
    "start_time": "2023-02-22T08:49:26.545Z"
   },
   {
    "duration": 4,
    "start_time": "2023-02-22T08:50:04.275Z"
   },
   {
    "duration": 4,
    "start_time": "2023-02-22T08:50:05.076Z"
   },
   {
    "duration": 6,
    "start_time": "2023-02-22T08:55:09.375Z"
   },
   {
    "duration": 7,
    "start_time": "2023-02-22T08:55:24.074Z"
   },
   {
    "duration": 4,
    "start_time": "2023-02-22T08:57:37.322Z"
   },
   {
    "duration": 423,
    "start_time": "2023-02-22T08:58:41.203Z"
   },
   {
    "duration": 704,
    "start_time": "2023-02-22T08:58:41.628Z"
   },
   {
    "duration": 39,
    "start_time": "2023-02-22T08:58:42.334Z"
   },
   {
    "duration": 3,
    "start_time": "2023-02-22T08:58:42.375Z"
   },
   {
    "duration": 22,
    "start_time": "2023-02-22T08:58:42.379Z"
   },
   {
    "duration": 7,
    "start_time": "2023-02-22T08:58:42.404Z"
   },
   {
    "duration": 8,
    "start_time": "2023-02-22T08:58:42.413Z"
   },
   {
    "duration": 47,
    "start_time": "2023-02-22T08:58:42.423Z"
   },
   {
    "duration": 24,
    "start_time": "2023-02-22T08:58:42.472Z"
   },
   {
    "duration": 14,
    "start_time": "2023-02-22T08:58:42.500Z"
   },
   {
    "duration": 14,
    "start_time": "2023-02-22T08:58:42.517Z"
   },
   {
    "duration": 17,
    "start_time": "2023-02-22T08:58:42.534Z"
   },
   {
    "duration": 7,
    "start_time": "2023-02-22T08:58:42.553Z"
   },
   {
    "duration": 16,
    "start_time": "2023-02-22T08:58:42.562Z"
   },
   {
    "duration": 30,
    "start_time": "2023-02-22T08:58:42.581Z"
   },
   {
    "duration": 18,
    "start_time": "2023-02-22T08:58:42.614Z"
   },
   {
    "duration": 21,
    "start_time": "2023-02-22T08:58:42.634Z"
   },
   {
    "duration": 11,
    "start_time": "2023-02-22T08:58:42.657Z"
   },
   {
    "duration": 87,
    "start_time": "2023-02-22T08:58:42.670Z"
   },
   {
    "duration": 32093,
    "start_time": "2023-02-22T08:58:42.759Z"
   },
   {
    "duration": 41,
    "start_time": "2023-02-22T08:59:14.854Z"
   },
   {
    "duration": 16,
    "start_time": "2023-02-22T08:59:14.896Z"
   },
   {
    "duration": 112,
    "start_time": "2023-02-22T08:59:14.913Z"
   },
   {
    "duration": 43,
    "start_time": "2023-02-22T08:59:15.027Z"
   },
   {
    "duration": 5,
    "start_time": "2023-02-22T08:59:15.072Z"
   },
   {
    "duration": 392,
    "start_time": "2023-02-22T09:10:52.977Z"
   },
   {
    "duration": 659,
    "start_time": "2023-02-22T09:10:53.371Z"
   },
   {
    "duration": 38,
    "start_time": "2023-02-22T09:10:54.032Z"
   },
   {
    "duration": 2,
    "start_time": "2023-02-22T09:10:54.072Z"
   },
   {
    "duration": 17,
    "start_time": "2023-02-22T09:10:54.077Z"
   },
   {
    "duration": 3,
    "start_time": "2023-02-22T09:10:54.096Z"
   },
   {
    "duration": 10,
    "start_time": "2023-02-22T09:10:54.100Z"
   },
   {
    "duration": 40,
    "start_time": "2023-02-22T09:10:54.112Z"
   },
   {
    "duration": 19,
    "start_time": "2023-02-22T09:10:54.153Z"
   },
   {
    "duration": 12,
    "start_time": "2023-02-22T09:10:54.173Z"
   },
   {
    "duration": 16,
    "start_time": "2023-02-22T09:10:54.187Z"
   },
   {
    "duration": 26,
    "start_time": "2023-02-22T09:10:54.205Z"
   },
   {
    "duration": 7,
    "start_time": "2023-02-22T09:10:54.233Z"
   },
   {
    "duration": 39,
    "start_time": "2023-02-22T09:10:54.243Z"
   },
   {
    "duration": 9,
    "start_time": "2023-02-22T09:10:54.284Z"
   },
   {
    "duration": 19,
    "start_time": "2023-02-22T09:10:54.295Z"
   },
   {
    "duration": 25,
    "start_time": "2023-02-22T09:10:54.316Z"
   },
   {
    "duration": 13,
    "start_time": "2023-02-22T09:10:54.343Z"
   },
   {
    "duration": 107,
    "start_time": "2023-02-22T09:10:54.357Z"
   },
   {
    "duration": 32122,
    "start_time": "2023-02-22T09:10:54.466Z"
   },
   {
    "duration": 34,
    "start_time": "2023-02-22T09:11:26.590Z"
   },
   {
    "duration": 15,
    "start_time": "2023-02-22T09:11:26.637Z"
   },
   {
    "duration": 100,
    "start_time": "2023-02-22T09:11:26.654Z"
   },
   {
    "duration": 34,
    "start_time": "2023-02-22T09:11:26.756Z"
   },
   {
    "duration": 7,
    "start_time": "2023-02-22T09:11:26.791Z"
   },
   {
    "duration": 398,
    "start_time": "2023-02-22T09:13:38.547Z"
   },
   {
    "duration": 686,
    "start_time": "2023-02-22T09:13:38.947Z"
   },
   {
    "duration": 37,
    "start_time": "2023-02-22T09:13:39.635Z"
   },
   {
    "duration": 3,
    "start_time": "2023-02-22T09:13:39.673Z"
   },
   {
    "duration": 14,
    "start_time": "2023-02-22T09:13:39.679Z"
   },
   {
    "duration": 3,
    "start_time": "2023-02-22T09:13:39.695Z"
   },
   {
    "duration": 6,
    "start_time": "2023-02-22T09:13:39.699Z"
   },
   {
    "duration": 32,
    "start_time": "2023-02-22T09:13:39.706Z"
   },
   {
    "duration": 18,
    "start_time": "2023-02-22T09:13:39.739Z"
   },
   {
    "duration": 11,
    "start_time": "2023-02-22T09:13:39.759Z"
   },
   {
    "duration": 9,
    "start_time": "2023-02-22T09:13:39.771Z"
   },
   {
    "duration": 10,
    "start_time": "2023-02-22T09:13:39.781Z"
   },
   {
    "duration": 4,
    "start_time": "2023-02-22T09:13:39.793Z"
   },
   {
    "duration": 12,
    "start_time": "2023-02-22T09:13:39.799Z"
   },
   {
    "duration": 26,
    "start_time": "2023-02-22T09:13:39.812Z"
   },
   {
    "duration": 8,
    "start_time": "2023-02-22T09:13:39.840Z"
   },
   {
    "duration": 10,
    "start_time": "2023-02-22T09:13:39.849Z"
   },
   {
    "duration": 7,
    "start_time": "2023-02-22T09:13:39.861Z"
   },
   {
    "duration": 88,
    "start_time": "2023-02-22T09:13:39.870Z"
   },
   {
    "duration": 32716,
    "start_time": "2023-02-22T09:13:39.959Z"
   },
   {
    "duration": 37,
    "start_time": "2023-02-22T09:14:12.677Z"
   },
   {
    "duration": 32,
    "start_time": "2023-02-22T09:14:12.716Z"
   },
   {
    "duration": 103,
    "start_time": "2023-02-22T09:14:12.750Z"
   },
   {
    "duration": 40,
    "start_time": "2023-02-22T09:14:12.855Z"
   },
   {
    "duration": 6,
    "start_time": "2023-02-22T09:14:12.896Z"
   },
   {
    "duration": 419,
    "start_time": "2023-02-22T11:16:25.929Z"
   },
   {
    "duration": 1563,
    "start_time": "2023-02-22T11:16:26.351Z"
   },
   {
    "duration": 59,
    "start_time": "2023-02-22T11:16:27.916Z"
   },
   {
    "duration": 6,
    "start_time": "2023-02-22T11:16:27.978Z"
   },
   {
    "duration": 29,
    "start_time": "2023-02-22T11:16:27.987Z"
   },
   {
    "duration": 6,
    "start_time": "2023-02-22T11:16:28.018Z"
   },
   {
    "duration": 17,
    "start_time": "2023-02-22T11:16:28.026Z"
   },
   {
    "duration": 143,
    "start_time": "2023-02-22T11:16:28.045Z"
   },
   {
    "duration": 22,
    "start_time": "2023-02-22T11:16:28.190Z"
   },
   {
    "duration": 18,
    "start_time": "2023-02-22T11:16:28.215Z"
   },
   {
    "duration": 17,
    "start_time": "2023-02-22T11:16:28.236Z"
   },
   {
    "duration": 31,
    "start_time": "2023-02-22T11:16:28.255Z"
   },
   {
    "duration": 10,
    "start_time": "2023-02-22T11:16:28.288Z"
   },
   {
    "duration": 25,
    "start_time": "2023-02-22T11:16:28.302Z"
   },
   {
    "duration": 15,
    "start_time": "2023-02-22T11:16:28.329Z"
   },
   {
    "duration": 13,
    "start_time": "2023-02-22T11:16:28.346Z"
   },
   {
    "duration": 11,
    "start_time": "2023-02-22T11:16:28.361Z"
   },
   {
    "duration": 7,
    "start_time": "2023-02-22T11:16:28.374Z"
   },
   {
    "duration": 86,
    "start_time": "2023-02-22T11:16:28.388Z"
   },
   {
    "duration": 38327,
    "start_time": "2023-02-22T11:16:28.476Z"
   },
   {
    "duration": 51,
    "start_time": "2023-02-22T11:17:06.805Z"
   },
   {
    "duration": 19,
    "start_time": "2023-02-22T11:17:06.858Z"
   },
   {
    "duration": 149,
    "start_time": "2023-02-22T11:17:06.879Z"
   },
   {
    "duration": 58,
    "start_time": "2023-02-22T11:17:07.030Z"
   },
   {
    "duration": 14,
    "start_time": "2023-02-22T11:17:07.092Z"
   },
   {
    "duration": 45,
    "start_time": "2023-02-22T12:02:58.166Z"
   },
   {
    "duration": 425,
    "start_time": "2023-02-22T12:03:17.910Z"
   },
   {
    "duration": 28,
    "start_time": "2023-02-22T12:03:29.561Z"
   },
   {
    "duration": 386,
    "start_time": "2023-02-22T12:03:37.060Z"
   },
   {
    "duration": 720,
    "start_time": "2023-02-22T12:03:37.448Z"
   },
   {
    "duration": 38,
    "start_time": "2023-02-22T12:03:38.170Z"
   },
   {
    "duration": 3,
    "start_time": "2023-02-22T12:03:38.210Z"
   },
   {
    "duration": 18,
    "start_time": "2023-02-22T12:03:38.224Z"
   },
   {
    "duration": 6,
    "start_time": "2023-02-22T12:03:38.244Z"
   },
   {
    "duration": 12,
    "start_time": "2023-02-22T12:03:38.252Z"
   },
   {
    "duration": 146,
    "start_time": "2023-02-22T12:03:38.265Z"
   },
   {
    "duration": 27,
    "start_time": "2023-02-22T12:03:38.413Z"
   },
   {
    "duration": 18,
    "start_time": "2023-02-22T12:03:38.441Z"
   },
   {
    "duration": 30,
    "start_time": "2023-02-22T12:03:38.461Z"
   },
   {
    "duration": 23,
    "start_time": "2023-02-22T12:03:38.493Z"
   },
   {
    "duration": 25,
    "start_time": "2023-02-22T12:03:38.518Z"
   },
   {
    "duration": 6,
    "start_time": "2023-02-22T12:03:38.546Z"
   },
   {
    "duration": 5,
    "start_time": "2023-02-22T12:03:38.554Z"
   },
   {
    "duration": 8,
    "start_time": "2023-02-22T12:03:38.561Z"
   },
   {
    "duration": 9,
    "start_time": "2023-02-22T12:03:38.570Z"
   },
   {
    "duration": 5,
    "start_time": "2023-02-22T12:03:38.581Z"
   },
   {
    "duration": 101,
    "start_time": "2023-02-22T12:03:38.588Z"
   },
   {
    "duration": 32291,
    "start_time": "2023-02-22T12:03:38.691Z"
   },
   {
    "duration": 37,
    "start_time": "2023-02-22T12:04:10.984Z"
   },
   {
    "duration": 16,
    "start_time": "2023-02-22T12:04:11.031Z"
   },
   {
    "duration": 115,
    "start_time": "2023-02-22T12:04:11.049Z"
   },
   {
    "duration": 0,
    "start_time": "2023-02-22T12:04:11.166Z"
   },
   {
    "duration": 0,
    "start_time": "2023-02-22T12:04:11.167Z"
   },
   {
    "duration": 0,
    "start_time": "2023-02-22T12:04:11.169Z"
   },
   {
    "duration": 11,
    "start_time": "2023-02-22T12:13:07.506Z"
   },
   {
    "duration": 5,
    "start_time": "2023-02-22T12:13:29.174Z"
   },
   {
    "duration": 419,
    "start_time": "2023-02-22T12:13:40.098Z"
   },
   {
    "duration": 662,
    "start_time": "2023-02-22T12:13:40.520Z"
   },
   {
    "duration": 35,
    "start_time": "2023-02-22T12:13:41.184Z"
   },
   {
    "duration": 3,
    "start_time": "2023-02-22T12:13:41.223Z"
   },
   {
    "duration": 13,
    "start_time": "2023-02-22T12:13:41.228Z"
   },
   {
    "duration": 4,
    "start_time": "2023-02-22T12:13:41.242Z"
   },
   {
    "duration": 9,
    "start_time": "2023-02-22T12:13:41.247Z"
   },
   {
    "duration": 39,
    "start_time": "2023-02-22T12:13:41.257Z"
   },
   {
    "duration": 17,
    "start_time": "2023-02-22T12:13:41.297Z"
   },
   {
    "duration": 17,
    "start_time": "2023-02-22T12:13:41.317Z"
   },
   {
    "duration": 10,
    "start_time": "2023-02-22T12:13:41.335Z"
   },
   {
    "duration": 8,
    "start_time": "2023-02-22T12:13:41.347Z"
   },
   {
    "duration": 4,
    "start_time": "2023-02-22T12:13:41.357Z"
   },
   {
    "duration": 8,
    "start_time": "2023-02-22T12:13:41.363Z"
   },
   {
    "duration": 5,
    "start_time": "2023-02-22T12:13:41.373Z"
   },
   {
    "duration": 13,
    "start_time": "2023-02-22T12:13:41.379Z"
   },
   {
    "duration": 7,
    "start_time": "2023-02-22T12:13:41.393Z"
   },
   {
    "duration": 33,
    "start_time": "2023-02-22T12:13:41.402Z"
   },
   {
    "duration": 78,
    "start_time": "2023-02-22T12:13:41.437Z"
   },
   {
    "duration": 30426,
    "start_time": "2023-02-22T12:13:41.517Z"
   },
   {
    "duration": 35,
    "start_time": "2023-02-22T12:14:11.945Z"
   },
   {
    "duration": 17,
    "start_time": "2023-02-22T12:14:11.981Z"
   },
   {
    "duration": 108,
    "start_time": "2023-02-22T12:14:12.000Z"
   },
   {
    "duration": 47,
    "start_time": "2023-02-22T12:14:12.110Z"
   },
   {
    "duration": 11,
    "start_time": "2023-02-22T12:14:12.159Z"
   }
  ],
  "kernelspec": {
   "display_name": "Python 3 (ipykernel)",
   "language": "python",
   "name": "python3"
  },
  "language_info": {
   "codemirror_mode": {
    "name": "ipython",
    "version": 3
   },
   "file_extension": ".py",
   "mimetype": "text/x-python",
   "name": "python",
   "nbconvert_exporter": "python",
   "pygments_lexer": "ipython3",
   "version": "3.11.4"
  },
  "toc": {
   "base_numbering": 1,
   "nav_menu": {},
   "number_sections": true,
   "sideBar": true,
   "skip_h1_title": true,
   "title_cell": "Table of Contents",
   "title_sidebar": "Contents",
   "toc_cell": false,
   "toc_position": {},
   "toc_section_display": true,
   "toc_window_display": false
  }
 },
 "nbformat": 4,
 "nbformat_minor": 2
}
