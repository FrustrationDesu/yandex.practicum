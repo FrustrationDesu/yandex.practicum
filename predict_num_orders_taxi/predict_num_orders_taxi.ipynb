{
 "cells": [
  {
   "cell_type": "markdown",
   "metadata": {
    "toc": true
   },
   "source": [
    "<h1>Содержание<span class=\"tocSkip\"></span></h1>\n",
    "<div class=\"toc\"><ul class=\"toc-item\"><li><span><a href=\"#Подготовка\" data-toc-modified-id=\"Подготовка-1\"><span class=\"toc-item-num\">1&nbsp;&nbsp;</span>Подготовка</a></span></li><li><span><a href=\"#Анализ\" data-toc-modified-id=\"Анализ-2\"><span class=\"toc-item-num\">2&nbsp;&nbsp;</span>Анализ</a></span></li><li><span><a href=\"#Создание-признаков\" data-toc-modified-id=\"Создание-признаков-3\"><span class=\"toc-item-num\">3&nbsp;&nbsp;</span>Создание признаков</a></span></li><li><span><a href=\"#Обучение\" data-toc-modified-id=\"Обучение-4\"><span class=\"toc-item-num\">4&nbsp;&nbsp;</span>Обучение</a></span><ul class=\"toc-item\"><li><span><a href=\"#CatBoost\" data-toc-modified-id=\"CatBoost-4.1\"><span class=\"toc-item-num\">4.1&nbsp;&nbsp;</span>CatBoost</a></span></li><li><span><a href=\"#SARIMAX\" data-toc-modified-id=\"SARIMAX-4.2\"><span class=\"toc-item-num\">4.2&nbsp;&nbsp;</span>SARIMAX</a></span></li><li><span><a href=\"#Lasso\" data-toc-modified-id=\"Lasso-4.3\"><span class=\"toc-item-num\">4.3&nbsp;&nbsp;</span>Lasso</a></span></li></ul></li><li><span><a href=\"#Тест\" data-toc-modified-id=\"Тест-5\"><span class=\"toc-item-num\">5&nbsp;&nbsp;</span>Тест</a></span><ul class=\"toc-item\"><li><span><a href=\"#CatBoost\" data-toc-modified-id=\"CatBoost-5.1\"><span class=\"toc-item-num\">5.1&nbsp;&nbsp;</span>CatBoost</a></span></li></ul></li><li><span><a href=\"#Чек-лист-проверки\" data-toc-modified-id=\"Чек-лист-проверки-6\"><span class=\"toc-item-num\">6&nbsp;&nbsp;</span>Чек-лист проверки</a></span></li></ul></div>"
   ]
  },
  {
   "cell_type": "markdown",
   "metadata": {},
   "source": [
    "#  Прогнозирование заказов такси"
   ]
  },
  {
   "cell_type": "markdown",
   "metadata": {},
   "source": [
    "Компания «Чётенькое такси» собрала исторические данные о заказах такси в аэропортах. Чтобы привлекать больше водителей в период пиковой нагрузки, нужно спрогнозировать количество заказов такси на следующий час. Постройте модель для такого предсказания.\n",
    "\n",
    "Значение метрики *RMSE* на тестовой выборке должно быть не больше 48.\n",
    "\n",
    "Вам нужно:\n",
    "\n",
    "1. Загрузить данные и выполнить их ресемплирование по одному часу.\n",
    "2. Проанализировать данные.\n",
    "3. Обучить разные модели с различными гиперпараметрами. Сделать тестовую выборку размером 10% от исходных данных.\n",
    "4. Проверить данные на тестовой выборке и сделать выводы.\n",
    "\n",
    "\n",
    "Данные лежат в файле `taxi.csv`. Количество заказов находится в столбце `num_orders` (от англ. *number of orders*, «число заказов»)."
   ]
  },
  {
   "cell_type": "code",
   "execution_count": 1,
   "metadata": {},
   "outputs": [
    {
     "name": "stdout",
     "output_type": "stream",
     "text": [
      "Collecting optuna\n",
      "  Downloading optuna-3.4.0-py3-none-any.whl (409 kB)\n",
      "\u001b[K     |████████████████████████████████| 409 kB 989 kB/s eta 0:00:01\n",
      "\u001b[?25hRequirement already satisfied: sqlalchemy>=1.3.0 in /opt/conda/lib/python3.9/site-packages (from optuna) (1.4.20)\n",
      "Requirement already satisfied: alembic>=1.5.0 in /opt/conda/lib/python3.9/site-packages (from optuna) (1.6.5)\n",
      "Requirement already satisfied: tqdm in /opt/conda/lib/python3.9/site-packages (from optuna) (4.61.2)\n",
      "Requirement already satisfied: packaging>=20.0 in /opt/conda/lib/python3.9/site-packages (from optuna) (21.3)\n",
      "Collecting colorlog\n",
      "  Downloading colorlog-6.8.0-py3-none-any.whl (11 kB)\n",
      "Requirement already satisfied: numpy in /opt/conda/lib/python3.9/site-packages (from optuna) (1.21.1)\n",
      "Requirement already satisfied: PyYAML in /opt/conda/lib/python3.9/site-packages (from optuna) (6.0)\n",
      "Requirement already satisfied: Mako in /opt/conda/lib/python3.9/site-packages (from alembic>=1.5.0->optuna) (1.1.4)\n",
      "Requirement already satisfied: python-dateutil in /opt/conda/lib/python3.9/site-packages (from alembic>=1.5.0->optuna) (2.8.1)\n",
      "Requirement already satisfied: python-editor>=0.3 in /opt/conda/lib/python3.9/site-packages (from alembic>=1.5.0->optuna) (1.0.4)\n",
      "Requirement already satisfied: pyparsing!=3.0.5,>=2.0.2 in /opt/conda/lib/python3.9/site-packages (from packaging>=20.0->optuna) (2.4.7)\n",
      "Requirement already satisfied: greenlet!=0.4.17 in /opt/conda/lib/python3.9/site-packages (from sqlalchemy>=1.3.0->optuna) (1.1.0)\n",
      "Requirement already satisfied: MarkupSafe>=0.9.2 in /opt/conda/lib/python3.9/site-packages (from Mako->alembic>=1.5.0->optuna) (2.1.1)\n",
      "Requirement already satisfied: six>=1.5 in /opt/conda/lib/python3.9/site-packages (from python-dateutil->alembic>=1.5.0->optuna) (1.16.0)\n",
      "Installing collected packages: colorlog, optuna\n",
      "Successfully installed colorlog-6.8.0 optuna-3.4.0\n",
      "Note: you may need to restart the kernel to use updated packages.\n"
     ]
    }
   ],
   "source": [
    "pip install optuna\n"
   ]
  },
  {
   "cell_type": "code",
   "execution_count": 2,
   "metadata": {},
   "outputs": [],
   "source": [
    "import pandas as pd\n",
    "import numpy as np\n",
    "from statsmodels.tsa.seasonal import seasonal_decompose\n",
    "import matplotlib.pyplot as plt\n",
    "import seaborn as sns\n",
    "import statsmodels.api as sm\n",
    "import optuna\n",
    "import catboost as cb\n",
    "from sklearn.metrics import mean_squared_error\n",
    "from sklearn.model_selection import train_test_split\n",
    "from statsmodels.tsa.statespace.sarimax import SARIMAX\n",
    "from sklearn.preprocessing import StandardScaler\n",
    "from sklearn.linear_model import LinearRegression\n",
    "from sklearn.impute import SimpleImputer\n",
    "from sklearn.model_selection import cross_val_score"
   ]
  },
  {
   "cell_type": "code",
   "execution_count": 3,
   "metadata": {},
   "outputs": [],
   "source": [
    "RANDOM_STATE = 12345"
   ]
  },
  {
   "cell_type": "markdown",
   "metadata": {},
   "source": [
    "## Подготовка"
   ]
  },
  {
   "cell_type": "code",
   "execution_count": 4,
   "metadata": {},
   "outputs": [],
   "source": [
    "data = pd.read_csv('https://code.s3.yandex.net/datasets/taxi.csv', index_col=[0], parse_dates=[0])"
   ]
  },
  {
   "cell_type": "code",
   "execution_count": 5,
   "metadata": {},
   "outputs": [],
   "source": [
    "data.sort_index(inplace=True)"
   ]
  },
  {
   "cell_type": "code",
   "execution_count": 6,
   "metadata": {},
   "outputs": [],
   "source": [
    "data = data.resample('1H').sum()"
   ]
  },
  {
   "cell_type": "code",
   "execution_count": 7,
   "metadata": {},
   "outputs": [
    {
     "data": {
      "text/html": [
       "<div>\n",
       "<style scoped>\n",
       "    .dataframe tbody tr th:only-of-type {\n",
       "        vertical-align: middle;\n",
       "    }\n",
       "\n",
       "    .dataframe tbody tr th {\n",
       "        vertical-align: top;\n",
       "    }\n",
       "\n",
       "    .dataframe thead th {\n",
       "        text-align: right;\n",
       "    }\n",
       "</style>\n",
       "<table border=\"1\" class=\"dataframe\">\n",
       "  <thead>\n",
       "    <tr style=\"text-align: right;\">\n",
       "      <th></th>\n",
       "      <th>num_orders</th>\n",
       "    </tr>\n",
       "    <tr>\n",
       "      <th>datetime</th>\n",
       "      <th></th>\n",
       "    </tr>\n",
       "  </thead>\n",
       "  <tbody>\n",
       "    <tr>\n",
       "      <th>2018-03-01 00:00:00</th>\n",
       "      <td>124</td>\n",
       "    </tr>\n",
       "    <tr>\n",
       "      <th>2018-03-01 01:00:00</th>\n",
       "      <td>85</td>\n",
       "    </tr>\n",
       "    <tr>\n",
       "      <th>2018-03-01 02:00:00</th>\n",
       "      <td>71</td>\n",
       "    </tr>\n",
       "    <tr>\n",
       "      <th>2018-03-01 03:00:00</th>\n",
       "      <td>66</td>\n",
       "    </tr>\n",
       "    <tr>\n",
       "      <th>2018-03-01 04:00:00</th>\n",
       "      <td>43</td>\n",
       "    </tr>\n",
       "    <tr>\n",
       "      <th>...</th>\n",
       "      <td>...</td>\n",
       "    </tr>\n",
       "    <tr>\n",
       "      <th>2018-08-31 19:00:00</th>\n",
       "      <td>136</td>\n",
       "    </tr>\n",
       "    <tr>\n",
       "      <th>2018-08-31 20:00:00</th>\n",
       "      <td>154</td>\n",
       "    </tr>\n",
       "    <tr>\n",
       "      <th>2018-08-31 21:00:00</th>\n",
       "      <td>159</td>\n",
       "    </tr>\n",
       "    <tr>\n",
       "      <th>2018-08-31 22:00:00</th>\n",
       "      <td>223</td>\n",
       "    </tr>\n",
       "    <tr>\n",
       "      <th>2018-08-31 23:00:00</th>\n",
       "      <td>205</td>\n",
       "    </tr>\n",
       "  </tbody>\n",
       "</table>\n",
       "<p>4416 rows × 1 columns</p>\n",
       "</div>"
      ],
      "text/plain": [
       "                     num_orders\n",
       "datetime                       \n",
       "2018-03-01 00:00:00         124\n",
       "2018-03-01 01:00:00          85\n",
       "2018-03-01 02:00:00          71\n",
       "2018-03-01 03:00:00          66\n",
       "2018-03-01 04:00:00          43\n",
       "...                         ...\n",
       "2018-08-31 19:00:00         136\n",
       "2018-08-31 20:00:00         154\n",
       "2018-08-31 21:00:00         159\n",
       "2018-08-31 22:00:00         223\n",
       "2018-08-31 23:00:00         205\n",
       "\n",
       "[4416 rows x 1 columns]"
      ]
     },
     "execution_count": 7,
     "metadata": {},
     "output_type": "execute_result"
    }
   ],
   "source": [
    "data"
   ]
  },
  {
   "cell_type": "markdown",
   "metadata": {},
   "source": [
    "## Анализ"
   ]
  },
  {
   "cell_type": "code",
   "execution_count": 8,
   "metadata": {
    "scrolled": true
   },
   "outputs": [
    {
     "data": {
      "text/plain": [
       "True"
      ]
     },
     "execution_count": 8,
     "metadata": {},
     "output_type": "execute_result"
    }
   ],
   "source": [
    "data.index.is_monotonic"
   ]
  },
  {
   "cell_type": "markdown",
   "metadata": {},
   "source": [
    "Отсортировали индекс. Теперь он монотонный. "
   ]
  },
  {
   "cell_type": "code",
   "execution_count": 9,
   "metadata": {
    "scrolled": false
   },
   "outputs": [
    {
     "data": {
      "image/png": "[encoded data removed]",
      "text/plain": [
       "<Figure size 1440x720 with 1 Axes>"
      ]
     },
     "metadata": {
      "needs_background": "light"
     },
     "output_type": "display_data"
    }
   ],
   "source": [
    "plt.figure(figsize=(20, 10))\n",
    "sns.lineplot(data=data)\n",
    "plt.title('Количество заказов в зависимости от времени')\n",
    "plt.xlabel('Дата')\n",
    "plt.ylabel('Количество заказов')\n",
    "plt.show()"
   ]
  },
  {
   "cell_type": "markdown",
   "metadata": {},
   "source": [
    "Данных достаточно мало, даже на таком графике видны всплески активности в некоторые дни."
   ]
  },
  {
   "cell_type": "code",
   "execution_count": 10,
   "metadata": {
    "scrolled": false
   },
   "outputs": [
    {
     "data": {
      "image/png": "[encoded data removed]",
      "text/plain": [
       "<Figure size 720x1440 with 3 Axes>"
      ]
     },
     "metadata": {
      "needs_background": "light"
     },
     "output_type": "display_data"
    }
   ],
   "source": [
    "decomposed = sm.tsa.seasonal_decompose(data)\n",
    "\n",
    "fig, axes = plt.subplots(3, 1, figsize=(10, 20))\n",
    "\n",
    "decomposed.trend.plot(ax=axes[0], title='Тренд')\n",
    "decomposed.seasonal.plot(ax=axes[1], title='Сезонность')\n",
    "decomposed.resid.plot(ax=axes[2], title='Остаток декомпозиции')\n",
    "\n",
    "axes[0].set_ylabel('Тренд')\n",
    "axes[1].set_ylabel('Сезонность')\n",
    "axes[2].set_ylabel('Остаток декомпозиции')\n",
    "\n",
    "plt.tight_layout()\n",
    "plt.show()\n"
   ]
  },
  {
   "cell_type": "markdown",
   "metadata": {},
   "source": [
    "- Тренд <br>\n",
    "На графике тренда видно увеличение кол-ва заказов такси. Пока большего сказать о тренде я не могу. \n",
    "- Сезонность <br>\n",
    "График сезонности имеет одинаковую частоту и аплитуду, что показывает нам, что наши данные имеют стационарную сезонность, т.е. наши данные не меняются со временем. Но для такого вывода нам нужно было бы больше данных, чтоб оценивать сезонность. \n",
    "- Остаток <br>\n",
    "На графике остатка декомпозиции присутствуют всплески с большой аплитудой с данными свежими. Вероятнее всего, это можно объяснить тем, что либо больше кол-во рейсов в аэропорт осуществляться начало (допустим, расширение терминала аэропорта), либо просто внимание директора компании стало более сосредоточенным, что влияет на проблему предсказания необходимого кол-ва машин (отсюда и аплитуда, есть отрицательные и положительные остатки )"
   ]
  },
  {
   "cell_type": "markdown",
   "metadata": {},
   "source": [
    "Далее, я буду создавать признаки для модели."
   ]
  },
  {
   "cell_type": "markdown",
   "metadata": {},
   "source": [
    "## Создание признаков"
   ]
  },
  {
   "cell_type": "markdown",
   "metadata": {},
   "source": [
    "Попробую сделать неделю для скользящего среднего и неделю для прыдыдущих значений. \n",
    "Если этого будет недостаточно, то в виде дополнительного перебора еще будут эти параметры. "
   ]
  },
  {
   "cell_type": "code",
   "execution_count": 11,
   "metadata": {},
   "outputs": [],
   "source": [
    "def make_features(data, max_lag, rolling_mean_size):\n",
    "    data['dayofweek'] = data.index.dayofweek\n",
    "    data['hour'] = data.index.hour\n",
    "    for lag in range(1, max_lag + 1):\n",
    "        data['lag_{}'.format(lag)] = data['num_orders'].shift(lag)\n",
    "\n",
    "    data['rolling_mean'] = data['num_orders'].shift().rolling(rolling_mean_size).mean()\n"
   ]
  },
  {
   "cell_type": "code",
   "execution_count": 12,
   "metadata": {},
   "outputs": [],
   "source": [
    "make_features(data, 2, 24)"
   ]
  },
  {
   "cell_type": "code",
   "execution_count": 13,
   "metadata": {},
   "outputs": [
    {
     "data": {
      "text/html": [
       "<div>\n",
       "<style scoped>\n",
       "    .dataframe tbody tr th:only-of-type {\n",
       "        vertical-align: middle;\n",
       "    }\n",
       "\n",
       "    .dataframe tbody tr th {\n",
       "        vertical-align: top;\n",
       "    }\n",
       "\n",
       "    .dataframe thead th {\n",
       "        text-align: right;\n",
       "    }\n",
       "</style>\n",
       "<table border=\"1\" class=\"dataframe\">\n",
       "  <thead>\n",
       "    <tr style=\"text-align: right;\">\n",
       "      <th></th>\n",
       "      <th>num_orders</th>\n",
       "      <th>dayofweek</th>\n",
       "      <th>hour</th>\n",
       "      <th>lag_1</th>\n",
       "      <th>lag_2</th>\n",
       "      <th>rolling_mean</th>\n",
       "    </tr>\n",
       "    <tr>\n",
       "      <th>datetime</th>\n",
       "      <th></th>\n",
       "      <th></th>\n",
       "      <th></th>\n",
       "      <th></th>\n",
       "      <th></th>\n",
       "      <th></th>\n",
       "    </tr>\n",
       "  </thead>\n",
       "  <tbody>\n",
       "    <tr>\n",
       "      <th>2018-03-01 00:00:00</th>\n",
       "      <td>124</td>\n",
       "      <td>3</td>\n",
       "      <td>0</td>\n",
       "      <td>NaN</td>\n",
       "      <td>NaN</td>\n",
       "      <td>NaN</td>\n",
       "    </tr>\n",
       "    <tr>\n",
       "      <th>2018-03-01 01:00:00</th>\n",
       "      <td>85</td>\n",
       "      <td>3</td>\n",
       "      <td>1</td>\n",
       "      <td>124.0</td>\n",
       "      <td>NaN</td>\n",
       "      <td>NaN</td>\n",
       "    </tr>\n",
       "    <tr>\n",
       "      <th>2018-03-01 02:00:00</th>\n",
       "      <td>71</td>\n",
       "      <td>3</td>\n",
       "      <td>2</td>\n",
       "      <td>85.0</td>\n",
       "      <td>124.0</td>\n",
       "      <td>NaN</td>\n",
       "    </tr>\n",
       "    <tr>\n",
       "      <th>2018-03-01 03:00:00</th>\n",
       "      <td>66</td>\n",
       "      <td>3</td>\n",
       "      <td>3</td>\n",
       "      <td>71.0</td>\n",
       "      <td>85.0</td>\n",
       "      <td>NaN</td>\n",
       "    </tr>\n",
       "    <tr>\n",
       "      <th>2018-03-01 04:00:00</th>\n",
       "      <td>43</td>\n",
       "      <td>3</td>\n",
       "      <td>4</td>\n",
       "      <td>66.0</td>\n",
       "      <td>71.0</td>\n",
       "      <td>NaN</td>\n",
       "    </tr>\n",
       "    <tr>\n",
       "      <th>...</th>\n",
       "      <td>...</td>\n",
       "      <td>...</td>\n",
       "      <td>...</td>\n",
       "      <td>...</td>\n",
       "      <td>...</td>\n",
       "      <td>...</td>\n",
       "    </tr>\n",
       "    <tr>\n",
       "      <th>2018-08-31 19:00:00</th>\n",
       "      <td>136</td>\n",
       "      <td>4</td>\n",
       "      <td>19</td>\n",
       "      <td>207.0</td>\n",
       "      <td>217.0</td>\n",
       "      <td>164.875000</td>\n",
       "    </tr>\n",
       "    <tr>\n",
       "      <th>2018-08-31 20:00:00</th>\n",
       "      <td>154</td>\n",
       "      <td>4</td>\n",
       "      <td>20</td>\n",
       "      <td>136.0</td>\n",
       "      <td>207.0</td>\n",
       "      <td>167.541667</td>\n",
       "    </tr>\n",
       "    <tr>\n",
       "      <th>2018-08-31 21:00:00</th>\n",
       "      <td>159</td>\n",
       "      <td>4</td>\n",
       "      <td>21</td>\n",
       "      <td>154.0</td>\n",
       "      <td>136.0</td>\n",
       "      <td>168.041667</td>\n",
       "    </tr>\n",
       "    <tr>\n",
       "      <th>2018-08-31 22:00:00</th>\n",
       "      <td>223</td>\n",
       "      <td>4</td>\n",
       "      <td>22</td>\n",
       "      <td>159.0</td>\n",
       "      <td>154.0</td>\n",
       "      <td>166.416667</td>\n",
       "    </tr>\n",
       "    <tr>\n",
       "      <th>2018-08-31 23:00:00</th>\n",
       "      <td>205</td>\n",
       "      <td>4</td>\n",
       "      <td>23</td>\n",
       "      <td>223.0</td>\n",
       "      <td>159.0</td>\n",
       "      <td>169.125000</td>\n",
       "    </tr>\n",
       "  </tbody>\n",
       "</table>\n",
       "<p>4416 rows × 6 columns</p>\n",
       "</div>"
      ],
      "text/plain": [
       "                     num_orders  dayofweek  hour  lag_1  lag_2  rolling_mean\n",
       "datetime                                                                    \n",
       "2018-03-01 00:00:00         124          3     0    NaN    NaN           NaN\n",
       "2018-03-01 01:00:00          85          3     1  124.0    NaN           NaN\n",
       "2018-03-01 02:00:00          71          3     2   85.0  124.0           NaN\n",
       "2018-03-01 03:00:00          66          3     3   71.0   85.0           NaN\n",
       "2018-03-01 04:00:00          43          3     4   66.0   71.0           NaN\n",
       "...                         ...        ...   ...    ...    ...           ...\n",
       "2018-08-31 19:00:00         136          4    19  207.0  217.0    164.875000\n",
       "2018-08-31 20:00:00         154          4    20  136.0  207.0    167.541667\n",
       "2018-08-31 21:00:00         159          4    21  154.0  136.0    168.041667\n",
       "2018-08-31 22:00:00         223          4    22  159.0  154.0    166.416667\n",
       "2018-08-31 23:00:00         205          4    23  223.0  159.0    169.125000\n",
       "\n",
       "[4416 rows x 6 columns]"
      ]
     },
     "execution_count": 13,
     "metadata": {},
     "output_type": "execute_result"
    }
   ],
   "source": [
    "data"
   ]
  },
  {
   "cell_type": "markdown",
   "metadata": {},
   "source": [
    "## Обучение"
   ]
  },
  {
   "cell_type": "markdown",
   "metadata": {},
   "source": [
    "Наметим таргет и фичи, а также разделим выборки. Обязательным условием было - размер test_size = 0.1"
   ]
  },
  {
   "cell_type": "code",
   "execution_count": 14,
   "metadata": {},
   "outputs": [],
   "source": [
    "target = data['num_orders']\n",
    "feature = data.drop('num_orders', axis=1)"
   ]
  },
  {
   "cell_type": "code",
   "execution_count": 15,
   "metadata": {},
   "outputs": [],
   "source": [
    "X_train, X_test, y_train, y_test = train_test_split(feature, target, \n",
    "                                                    test_size=0.2, random_state= RANDOM_STATE, shuffle= False)\n",
    "X_val, X_val_test, y_val, y_val_test = train_test_split(X_test, y_test, test_size= 0.5, random_state= RANDOM_STATE, \n",
    "                                                       shuffle= False)"
   ]
  },
  {
   "cell_type": "code",
   "execution_count": 16,
   "metadata": {},
   "outputs": [
    {
     "name": "stdout",
     "output_type": "stream",
     "text": [
      "(3532, 5)\n"
     ]
    },
    {
     "data": {
      "text/plain": [
       "(442, 5)"
      ]
     },
     "execution_count": 16,
     "metadata": {},
     "output_type": "execute_result"
    }
   ],
   "source": [
    "print(X_train.shape)\n",
    "X_val.shape"
   ]
  },
  {
   "cell_type": "markdown",
   "metadata": {},
   "source": [
    "### CatBoost"
   ]
  },
  {
   "cell_type": "code",
   "execution_count": 17,
   "metadata": {
    "scrolled": true
   },
   "outputs": [
    {
     "name": "stderr",
     "output_type": "stream",
     "text": [
      "[I 2023-12-07 20:26:04,326] A new study created in memory with name: no-name-6aba883b-4947-46ad-8b44-63923fef97c5\n",
      "[I 2023-12-07 20:26:06,019] Trial 0 finished with value: 41.15775599652583 and parameters: {'learning_rate': 0.0018803120993401, 'depth': 6, 'subsample': 0.567110839984639, 'colsample_bylevel': 0.5782882033084076, 'min_data_in_leaf': 44}. Best is trial 0 with value: 41.15775599652583.\n",
      "[I 2023-12-07 20:26:07,625] Trial 1 finished with value: 40.48273901456818 and parameters: {'learning_rate': 0.0019157126691039844, 'depth': 6, 'subsample': 0.38651539650059064, 'colsample_bylevel': 0.8146333442412843, 'min_data_in_leaf': 60}. Best is trial 1 with value: 40.48273901456818.\n",
      "[I 2023-12-07 20:26:12,426] Trial 2 finished with value: 38.82770122319357 and parameters: {'learning_rate': 0.002086206532753508, 'depth': 9, 'subsample': 0.42377579452715286, 'colsample_bylevel': 0.8859980866546114, 'min_data_in_leaf': 100}. Best is trial 2 with value: 38.82770122319357.\n",
      "[I 2023-12-07 20:26:17,393] Trial 3 finished with value: 41.77677547765966 and parameters: {'learning_rate': 0.001671387686191054, 'depth': 10, 'subsample': 0.056049222078103686, 'colsample_bylevel': 0.5910745995952559, 'min_data_in_leaf': 61}. Best is trial 2 with value: 38.82770122319357.\n",
      "[I 2023-12-07 20:26:18,270] Trial 4 finished with value: 38.92228777522288 and parameters: {'learning_rate': 0.00438423827053047, 'depth': 3, 'subsample': 0.34753561485987017, 'colsample_bylevel': 0.527729377938361, 'min_data_in_leaf': 37}. Best is trial 2 with value: 38.82770122319357.\n",
      "[I 2023-12-07 20:26:19,158] Trial 5 finished with value: 42.66277682166083 and parameters: {'learning_rate': 0.007201778357520392, 'depth': 3, 'subsample': 0.5030929594886723, 'colsample_bylevel': 0.1583446290872425, 'min_data_in_leaf': 11}. Best is trial 2 with value: 38.82770122319357.\n",
      "[I 2023-12-07 20:26:23,626] Trial 6 finished with value: 38.436979940433666 and parameters: {'learning_rate': 0.0022830386433460186, 'depth': 9, 'subsample': 0.2566715297225936, 'colsample_bylevel': 0.7977067492999186, 'min_data_in_leaf': 33}. Best is trial 6 with value: 38.436979940433666.\n",
      "[I 2023-12-07 20:26:25,756] Trial 7 finished with value: 31.97743446436725 and parameters: {'learning_rate': 0.07886659033609297, 'depth': 7, 'subsample': 0.059534549189909955, 'colsample_bylevel': 0.9878889979063087, 'min_data_in_leaf': 39}. Best is trial 7 with value: 31.97743446436725.\n",
      "[I 2023-12-07 20:26:33,717] Trial 8 finished with value: 43.733870077394585 and parameters: {'learning_rate': 0.0011071902197948502, 'depth': 10, 'subsample': 0.9900832468282316, 'colsample_bylevel': 0.9811814024006345, 'min_data_in_leaf': 97}. Best is trial 7 with value: 31.97743446436725.\n",
      "[I 2023-12-07 20:26:36,540] Trial 9 finished with value: 30.81734141165081 and parameters: {'learning_rate': 0.024344680065811062, 'depth': 8, 'subsample': 0.5740275877391492, 'colsample_bylevel': 0.721308389836987, 'min_data_in_leaf': 79}. Best is trial 9 with value: 30.81734141165081.\n",
      "[I 2023-12-07 20:26:39,109] Trial 10 finished with value: 31.742776581389712 and parameters: {'learning_rate': 0.0245545806796752, 'depth': 12, 'subsample': 0.7031748864030558, 'colsample_bylevel': 0.3010362104010098, 'min_data_in_leaf': 84}. Best is trial 9 with value: 30.81734141165081.\n",
      "[I 2023-12-07 20:26:41,120] Trial 11 finished with value: 32.42968348837219 and parameters: {'learning_rate': 0.019723460044516552, 'depth': 12, 'subsample': 0.6803269284569538, 'colsample_bylevel': 0.27456098299107334, 'min_data_in_leaf': 80}. Best is trial 9 with value: 30.81734141165081.\n",
      "[I 2023-12-07 20:26:45,641] Trial 12 finished with value: 31.17986044659064 and parameters: {'learning_rate': 0.026763760023689357, 'depth': 12, 'subsample': 0.7481003684049233, 'colsample_bylevel': 0.36412876577850906, 'min_data_in_leaf': 81}. Best is trial 9 with value: 30.81734141165081.\n",
      "[I 2023-12-07 20:26:46,520] Trial 13 finished with value: 37.55384153167997 and parameters: {'learning_rate': 0.025421135540374347, 'depth': 1, 'subsample': 0.8122880622267084, 'colsample_bylevel': 0.41202993671742594, 'min_data_in_leaf': 75}. Best is trial 9 with value: 30.81734141165081.\n",
      "[I 2023-12-07 20:26:47,361] Trial 14 finished with value: 38.238013261561214 and parameters: {'learning_rate': 0.046891164698728824, 'depth': 8, 'subsample': 0.8373482074784535, 'colsample_bylevel': 0.06310088111065898, 'min_data_in_leaf': 66}. Best is trial 9 with value: 30.81734141165081.\n",
      "[I 2023-12-07 20:26:57,960] Trial 15 finished with value: 31.899502149456488 and parameters: {'learning_rate': 0.012047725406604228, 'depth': 11, 'subsample': 0.6259368750751567, 'colsample_bylevel': 0.6922781792409971, 'min_data_in_leaf': 87}. Best is trial 9 with value: 30.81734141165081.\n",
      "[I 2023-12-07 20:26:59,008] Trial 16 finished with value: 30.830855013438534 and parameters: {'learning_rate': 0.04896104233830465, 'depth': 5, 'subsample': 0.5113815461855625, 'colsample_bylevel': 0.41995598212892143, 'min_data_in_leaf': 72}. Best is trial 9 with value: 30.81734141165081.\n",
      "[I 2023-12-07 20:26:59,992] Trial 17 finished with value: 30.726647721500942 and parameters: {'learning_rate': 0.09315691963126671, 'depth': 4, 'subsample': 0.4996905257172434, 'colsample_bylevel': 0.4613049119221097, 'min_data_in_leaf': 54}. Best is trial 17 with value: 30.726647721500942.\n",
      "[I 2023-12-07 20:27:01,221] Trial 18 finished with value: 30.41881543764782 and parameters: {'learning_rate': 0.06303927115693085, 'depth': 4, 'subsample': 0.6036639508123792, 'colsample_bylevel': 0.685045860830299, 'min_data_in_leaf': 22}. Best is trial 18 with value: 30.41881543764782.\n",
      "[I 2023-12-07 20:27:02,409] Trial 19 finished with value: 30.705433398548013 and parameters: {'learning_rate': 0.09913430566715065, 'depth': 4, 'subsample': 0.6319328427343908, 'colsample_bylevel': 0.4837965095389072, 'min_data_in_leaf': 20}. Best is trial 18 with value: 30.41881543764782.\n",
      "[I 2023-12-07 20:27:03,318] Trial 20 finished with value: 35.53363100302657 and parameters: {'learning_rate': 0.06272219564428777, 'depth': 1, 'subsample': 0.6400055106815293, 'colsample_bylevel': 0.6194171248601364, 'min_data_in_leaf': 7}. Best is trial 18 with value: 30.41881543764782.\n",
      "[I 2023-12-07 20:27:04,343] Trial 21 finished with value: 30.613481706610347 and parameters: {'learning_rate': 0.09637087204519927, 'depth': 4, 'subsample': 0.49834131505662593, 'colsample_bylevel': 0.4720150144677434, 'min_data_in_leaf': 21}. Best is trial 18 with value: 30.41881543764782.\n",
      "[I 2023-12-07 20:27:05,302] Trial 22 finished with value: 30.721253572231415 and parameters: {'learning_rate': 0.09954776731615922, 'depth': 3, 'subsample': 0.5864305374257823, 'colsample_bylevel': 0.5154640002149273, 'min_data_in_leaf': 23}. Best is trial 18 with value: 30.41881543764782.\n",
      "[I 2023-12-07 20:27:06,360] Trial 23 finished with value: 30.57768336278045 and parameters: {'learning_rate': 0.06144754436400458, 'depth': 5, 'subsample': 0.46295035482061353, 'colsample_bylevel': 0.4870921781219248, 'min_data_in_leaf': 20}. Best is trial 18 with value: 30.41881543764782.\n",
      "[I 2023-12-07 20:27:07,538] Trial 24 finished with value: 30.333077725865756 and parameters: {'learning_rate': 0.044759272419995104, 'depth': 5, 'subsample': 0.4210466164763227, 'colsample_bylevel': 0.6542359778520339, 'min_data_in_leaf': 1}. Best is trial 24 with value: 30.333077725865756.\n",
      "[I 2023-12-07 20:27:08,688] Trial 25 finished with value: 30.994503986158882 and parameters: {'learning_rate': 0.04116060301881796, 'depth': 5, 'subsample': 0.3202662806639156, 'colsample_bylevel': 0.6524931354384176, 'min_data_in_leaf': 1}. Best is trial 24 with value: 30.333077725865756.\n",
      "[I 2023-12-07 20:27:09,566] Trial 26 finished with value: 31.9194943539809 and parameters: {'learning_rate': 0.05607982312173005, 'depth': 2, 'subsample': 0.45917091294134194, 'colsample_bylevel': 0.7251641378917775, 'min_data_in_leaf': 13}. Best is trial 24 with value: 30.333077725865756.\n",
      "[I 2023-12-07 20:27:10,658] Trial 27 finished with value: 30.906401639578377 and parameters: {'learning_rate': 0.039056849472422855, 'depth': 5, 'subsample': 0.4363244952965026, 'colsample_bylevel': 0.5645787415339967, 'min_data_in_leaf': 29}. Best is trial 24 with value: 30.333077725865756.\n",
      "[I 2023-12-07 20:27:11,985] Trial 28 finished with value: 30.241157212732062 and parameters: {'learning_rate': 0.06685531382173267, 'depth': 6, 'subsample': 0.2532044215622801, 'colsample_bylevel': 0.6481027480682321, 'min_data_in_leaf': 3}. Best is trial 28 with value: 30.241157212732062.\n",
      "[I 2023-12-07 20:27:13,835] Trial 29 finished with value: 30.85979349355217 and parameters: {'learning_rate': 0.06950165406748159, 'depth': 7, 'subsample': 0.2527178254747608, 'colsample_bylevel': 0.6443282055922599, 'min_data_in_leaf': 1}. Best is trial 28 with value: 30.241157212732062.\n"
     ]
    },
    {
     "name": "stdout",
     "output_type": "stream",
     "text": [
      "Best hyperparameters: {'learning_rate': 0.06685531382173267, 'depth': 6, 'subsample': 0.2532044215622801, 'colsample_bylevel': 0.6481027480682321, 'min_data_in_leaf': 3}\n",
      "Best RMSE: 30.241157212732062\n"
     ]
    }
   ],
   "source": [
    "def objective(trial, X_train, y_train,X, y_val):\n",
    "    params = {\n",
    "      \"iterations\": 1000,\n",
    "      \"learning_rate\": trial.suggest_float(\"learning_rate\", 1e-3, 0.1, log=True),\n",
    "      \"depth\": trial.suggest_int(\"depth\", 1, 12),\n",
    "      \"subsample\": trial.suggest_float(\"subsample\", 0.05, 1.0),\n",
    "      \"colsample_bylevel\": trial.suggest_float(\"colsample_bylevel\", 0.05, 1.0),\n",
    "      \"min_data_in_leaf\": trial.suggest_int(\"min_data_in_leaf\", 1, 100),\n",
    "  }\n",
    "    model = cb.CatBoostRegressor(**params, silent=True, random_state= RANDOM_STATE)\n",
    "    model.fit(X_train, y_train)\n",
    "    predictions = model.predict(X_val)\n",
    "    rmse = mean_squared_error(y_val, predictions, squared=False)\n",
    "    return rmse\n",
    "\n",
    "study = optuna.create_study(direction='minimize')\n",
    "study.optimize(lambda trial: objective(trial, X_train, y_train, X_val, y_val), n_trials=30)\n",
    "\n",
    "print('Best hyperparameters:', study.best_params)\n",
    "print('Best RMSE:', study.best_value)"
   ]
  },
  {
   "cell_type": "code",
   "execution_count": 18,
   "metadata": {},
   "outputs": [],
   "source": [
    "best_params_for_cb = study.best_trial.params"
   ]
  },
  {
   "cell_type": "code",
   "execution_count": 19,
   "metadata": {
    "scrolled": true
   },
   "outputs": [],
   "source": [
    "model = cb.CatBoostRegressor(iterations = 1000,\n",
    "                             learning_rate = best_params_for_cb['learning_rate'],\n",
    "                             depth = best_params_for_cb['depth'],\n",
    "                             subsample = best_params_for_cb['subsample'],\n",
    "                             colsample_bylevel = best_params_for_cb['colsample_bylevel'],\n",
    "                             min_data_in_leaf = best_params_for_cb['min_data_in_leaf'], silent=True,\n",
    "                            random_state = RANDOM_STATE)\n",
    "cb_model = model.fit(X_train, y_train)\n",
    "predictions = model.predict(X_val)\n",
    "rmse_cb = mean_squared_error(y_val, predictions, squared=False)"
   ]
  },
  {
   "cell_type": "code",
   "execution_count": 20,
   "metadata": {
    "scrolled": true
   },
   "outputs": [
    {
     "data": {
      "text/plain": [
       "30.241157212732062"
      ]
     },
     "execution_count": 20,
     "metadata": {},
     "output_type": "execute_result"
    }
   ],
   "source": [
    "rmse_cb"
   ]
  },
  {
   "cell_type": "markdown",
   "metadata": {},
   "source": [
    "### SARIMAX"
   ]
  },
  {
   "cell_type": "code",
   "execution_count": 21,
   "metadata": {
    "scrolled": true
   },
   "outputs": [
    {
     "name": "stderr",
     "output_type": "stream",
     "text": [
      "[I 2023-12-07 20:27:15,229] A new study created in memory with name: no-name-85a50af8-5295-4d0e-83bf-deb8f0f89fd1\n",
      "[I 2023-12-07 20:27:15,734] Trial 0 finished with value: 57931.78476538182 and parameters: {'p': 2, 'd': 1, 'q': 0, 'P': 0, 'D': 2, 'Q': 0, 's': 4}. Best is trial 0 with value: 57931.78476538182.\n",
      "/opt/conda/lib/python3.9/site-packages/statsmodels/tsa/statespace/sarimax.py:1009: UserWarning: Non-invertible starting seasonal moving average Using zeros as starting parameters.\n",
      "  warn('Non-invertible starting seasonal moving average'\n",
      "[I 2023-12-07 20:27:35,164] Trial 1 finished with value: 81.76024709983278 and parameters: {'p': 0, 'd': 1, 'q': 2, 'P': 0, 'D': 2, 'Q': 1, 's': 4}. Best is trial 1 with value: 81.76024709983278.\n",
      "/opt/conda/lib/python3.9/site-packages/statsmodels/tsa/statespace/sarimax.py:1009: UserWarning: Non-invertible starting seasonal moving average Using zeros as starting parameters.\n",
      "  warn('Non-invertible starting seasonal moving average'\n",
      "[I 2023-12-07 20:27:57,157] Trial 2 finished with value: 105.3987984744303 and parameters: {'p': 0, 'd': 0, 'q': 2, 'P': 0, 'D': 2, 'Q': 1, 's': 4}. Best is trial 1 with value: 81.76024709983278.\n",
      "[I 2023-12-07 20:29:02,836] Trial 3 finished with value: 44.16692069946461 and parameters: {'p': 1, 'd': 0, 'q': 2, 'P': 2, 'D': 0, 'Q': 2, 's': 4}. Best is trial 3 with value: 44.16692069946461.\n",
      "[I 2023-12-07 20:29:48,162] Trial 4 finished with value: 42.732885197464896 and parameters: {'p': 1, 'd': 1, 'q': 1, 'P': 2, 'D': 1, 'Q': 2, 's': 4}. Best is trial 4 with value: 42.732885197464896.\n",
      "/opt/conda/lib/python3.9/site-packages/statsmodels/base/model.py:604: ConvergenceWarning: Maximum Likelihood optimization failed to converge. Check mle_retvals\n",
      "  warnings.warn(\"Maximum Likelihood optimization failed to \"\n",
      "[I 2023-12-07 20:32:06,603] Trial 5 finished with value: 32.331678623629344 and parameters: {'p': 1, 'd': 1, 'q': 1, 'P': 2, 'D': 1, 'Q': 2, 's': 12}. Best is trial 5 with value: 32.331678623629344.\n",
      "[I 2023-12-07 20:32:34,261] Trial 6 finished with value: 262.8426897163919 and parameters: {'p': 1, 'd': 0, 'q': 0, 'P': 2, 'D': 2, 'Q': 0, 's': 12}. Best is trial 5 with value: 32.331678623629344.\n",
      "/opt/conda/lib/python3.9/site-packages/statsmodels/base/model.py:604: ConvergenceWarning: Maximum Likelihood optimization failed to converge. Check mle_retvals\n",
      "  warnings.warn(\"Maximum Likelihood optimization failed to \"\n",
      "[I 2023-12-07 20:34:16,462] Trial 7 finished with value: 53.64455143485394 and parameters: {'p': 2, 'd': 1, 'q': 2, 'P': 1, 'D': 0, 'Q': 2, 's': 12}. Best is trial 5 with value: 32.331678623629344.\n",
      "[I 2023-12-07 20:34:25,936] Trial 8 finished with value: 2894.615792281097 and parameters: {'p': 1, 'd': 2, 'q': 0, 'P': 0, 'D': 0, 'Q': 2, 's': 4}. Best is trial 5 with value: 32.331678623629344.\n",
      "/opt/conda/lib/python3.9/site-packages/statsmodels/tsa/statespace/sarimax.py:1009: UserWarning: Non-invertible starting seasonal moving average Using zeros as starting parameters.\n",
      "  warn('Non-invertible starting seasonal moving average'\n",
      "/opt/conda/lib/python3.9/site-packages/statsmodels/base/model.py:604: ConvergenceWarning: Maximum Likelihood optimization failed to converge. Check mle_retvals\n",
      "  warnings.warn(\"Maximum Likelihood optimization failed to \"\n",
      "[I 2023-12-07 20:36:39,068] Trial 9 finished with value: 2562.643516664111 and parameters: {'p': 1, 'd': 2, 'q': 0, 'P': 1, 'D': 2, 'Q': 2, 's': 12}. Best is trial 5 with value: 32.331678623629344.\n",
      "/opt/conda/lib/python3.9/site-packages/statsmodels/tsa/statespace/sarimax.py:978: UserWarning: Non-invertible starting MA parameters found. Using zeros as starting parameters.\n",
      "  warn('Non-invertible starting MA parameters found.'\n",
      "[I 2023-12-07 20:38:14,426] Trial 10 finished with value: 55.935044011658974 and parameters: {'p': 0, 'd': 2, 'q': 1, 'P': 2, 'D': 1, 'Q': 1, 's': 12}. Best is trial 5 with value: 32.331678623629344.\n",
      "[I 2023-12-07 20:40:26,896] Trial 11 finished with value: 33.13844622177799 and parameters: {'p': 2, 'd': 1, 'q': 1, 'P': 2, 'D': 1, 'Q': 2, 's': 12}. Best is trial 5 with value: 32.331678623629344.\n",
      "/opt/conda/lib/python3.9/site-packages/statsmodels/base/model.py:604: ConvergenceWarning: Maximum Likelihood optimization failed to converge. Check mle_retvals\n",
      "  warnings.warn(\"Maximum Likelihood optimization failed to \"\n",
      "[I 2023-12-07 20:42:38,606] Trial 12 finished with value: 31.460257852702387 and parameters: {'p': 2, 'd': 1, 'q': 1, 'P': 1, 'D': 1, 'Q': 2, 's': 12}. Best is trial 12 with value: 31.460257852702387.\n",
      "[I 2023-12-07 20:43:48,363] Trial 13 finished with value: 38.59856312756077 and parameters: {'p': 2, 'd': 1, 'q': 1, 'P': 1, 'D': 1, 'Q': 1, 's': 12}. Best is trial 12 with value: 31.460257852702387.\n",
      "[I 2023-12-07 20:45:50,003] Trial 14 finished with value: 53.27382250378979 and parameters: {'p': 2, 'd': 2, 'q': 1, 'P': 1, 'D': 1, 'Q': 2, 's': 12}. Best is trial 12 with value: 31.460257852702387.\n",
      "[I 2023-12-07 20:46:40,015] Trial 15 finished with value: 39.48895761515184 and parameters: {'p': 1, 'd': 0, 'q': 1, 'P': 1, 'D': 1, 'Q': 1, 's': 12}. Best is trial 12 with value: 31.460257852702387.\n",
      "/opt/conda/lib/python3.9/site-packages/statsmodels/base/model.py:604: ConvergenceWarning: Maximum Likelihood optimization failed to converge. Check mle_retvals\n",
      "  warnings.warn(\"Maximum Likelihood optimization failed to \"\n",
      "[I 2023-12-07 20:48:18,544] Trial 16 finished with value: 40.82110670509417 and parameters: {'p': 2, 'd': 1, 'q': 1, 'P': 1, 'D': 0, 'Q': 2, 's': 12}. Best is trial 12 with value: 31.460257852702387.\n",
      "[I 2023-12-07 20:50:32,099] Trial 17 finished with value: 209.9320395423591 and parameters: {'p': 0, 'd': 2, 'q': 2, 'P': 2, 'D': 1, 'Q': 0, 's': 12}. Best is trial 12 with value: 31.460257852702387.\n",
      "[I 2023-12-07 20:50:49,468] Trial 18 finished with value: 78.71151912445114 and parameters: {'p': 1, 'd': 1, 'q': 0, 'P': 1, 'D': 0, 'Q': 1, 's': 12}. Best is trial 12 with value: 31.460257852702387.\n",
      "[I 2023-12-07 20:52:21,892] Trial 19 finished with value: 47.40106460706625 and parameters: {'p': 1, 'd': 0, 'q': 1, 'P': 2, 'D': 1, 'Q': 2, 's': 12}. Best is trial 12 with value: 31.460257852702387.\n",
      "/opt/conda/lib/python3.9/site-packages/statsmodels/base/model.py:604: ConvergenceWarning: Maximum Likelihood optimization failed to converge. Check mle_retvals\n",
      "  warnings.warn(\"Maximum Likelihood optimization failed to \"\n",
      "[I 2023-12-07 20:54:33,827] Trial 20 finished with value: 31.460257852702387 and parameters: {'p': 2, 'd': 1, 'q': 1, 'P': 1, 'D': 1, 'Q': 2, 's': 12}. Best is trial 12 with value: 31.460257852702387.\n",
      "/opt/conda/lib/python3.9/site-packages/statsmodels/base/model.py:604: ConvergenceWarning: Maximum Likelihood optimization failed to converge. Check mle_retvals\n",
      "  warnings.warn(\"Maximum Likelihood optimization failed to \"\n",
      "[I 2023-12-07 20:56:44,896] Trial 21 finished with value: 31.460257852702387 and parameters: {'p': 2, 'd': 1, 'q': 1, 'P': 1, 'D': 1, 'Q': 2, 's': 12}. Best is trial 12 with value: 31.460257852702387.\n",
      "/opt/conda/lib/python3.9/site-packages/statsmodels/base/model.py:604: ConvergenceWarning: Maximum Likelihood optimization failed to converge. Check mle_retvals\n",
      "  warnings.warn(\"Maximum Likelihood optimization failed to \"\n",
      "[I 2023-12-07 20:58:56,224] Trial 22 finished with value: 31.460257852702387 and parameters: {'p': 2, 'd': 1, 'q': 1, 'P': 1, 'D': 1, 'Q': 2, 's': 12}. Best is trial 12 with value: 31.460257852702387.\n",
      "/opt/conda/lib/python3.9/site-packages/statsmodels/base/model.py:604: ConvergenceWarning: Maximum Likelihood optimization failed to converge. Check mle_retvals\n",
      "  warnings.warn(\"Maximum Likelihood optimization failed to \"\n",
      "[I 2023-12-07 21:01:06,802] Trial 23 finished with value: 31.460257852702387 and parameters: {'p': 2, 'd': 1, 'q': 1, 'P': 1, 'D': 1, 'Q': 2, 's': 12}. Best is trial 12 with value: 31.460257852702387.\n",
      "/opt/conda/lib/python3.9/site-packages/statsmodels/base/model.py:604: ConvergenceWarning: Maximum Likelihood optimization failed to converge. Check mle_retvals\n",
      "  warnings.warn(\"Maximum Likelihood optimization failed to \"\n",
      "[I 2023-12-07 21:03:18,815] Trial 24 finished with value: 31.460257852702387 and parameters: {'p': 2, 'd': 1, 'q': 1, 'P': 1, 'D': 1, 'Q': 2, 's': 12}. Best is trial 12 with value: 31.460257852702387.\n",
      "/opt/conda/lib/python3.9/site-packages/statsmodels/base/model.py:604: ConvergenceWarning: Maximum Likelihood optimization failed to converge. Check mle_retvals\n",
      "  warnings.warn(\"Maximum Likelihood optimization failed to \"\n",
      "[I 2023-12-07 21:04:58,126] Trial 25 finished with value: 39.4720647737623 and parameters: {'p': 2, 'd': 0, 'q': 2, 'P': 1, 'D': 1, 'Q': 1, 's': 12}. Best is trial 12 with value: 31.460257852702387.\n",
      "[I 2023-12-07 21:06:34,390] Trial 26 finished with value: 4203.803032242449 and parameters: {'p': 2, 'd': 2, 'q': 0, 'P': 0, 'D': 2, 'Q': 2, 's': 12}. Best is trial 12 with value: 31.460257852702387.\n",
      "[I 2023-12-07 21:07:13,666] Trial 27 finished with value: 38.854930065111915 and parameters: {'p': 2, 'd': 1, 'q': 1, 'P': 1, 'D': 0, 'Q': 1, 's': 12}. Best is trial 12 with value: 31.460257852702387.\n",
      "[I 2023-12-07 21:08:57,621] Trial 28 finished with value: 38.71567245045298 and parameters: {'p': 2, 'd': 1, 'q': 1, 'P': 0, 'D': 1, 'Q': 2, 's': 12}. Best is trial 12 with value: 31.460257852702387.\n",
      "[I 2023-12-07 21:08:57,930] Trial 29 finished with value: 57931.78476538182 and parameters: {'p': 2, 'd': 1, 'q': 0, 'P': 0, 'D': 2, 'Q': 0, 's': 4}. Best is trial 12 with value: 31.460257852702387.\n"
     ]
    },
    {
     "name": "stdout",
     "output_type": "stream",
     "text": [
      "Best hyperparameters: {'p': 2, 'd': 1, 'q': 1, 'P': 1, 'D': 1, 'Q': 2, 's': 12}\n",
      "Best RMSE: 31.460257852702387\n"
     ]
    }
   ],
   "source": [
    "def objective(trial):\n",
    "    model = SARIMAX(y_train,  random_state= RANDOM_STATE, \n",
    "                    order=(trial.suggest_int('p', 0, 2),\n",
    "                                  trial.suggest_int('d', 0, 2),\n",
    "                                  trial.suggest_int('q', 0, 2)), \n",
    "                seasonal_order=(trial.suggest_int('P', 0, 2),\n",
    "                                trial.suggest_int('D', 0, 2),\n",
    "                                trial.suggest_int('Q', 0, 2),\n",
    "                                trial.suggest_categorical('s', [12, 4])))\n",
    "    model_fit = model.fit(disp=False)\n",
    "    y_pred = model_fit.predict(start=len(y_train), end=len(y_train)+len(y_val)-1)\n",
    "    rmse = mean_squared_error(y_val, y_pred, squared=False)\n",
    "    return rmse\n",
    "\n",
    "study = optuna.create_study(direction='minimize')\n",
    "study.optimize(objective, n_trials=30)\n",
    "\n",
    "print('Best hyperparameters:', study.best_params)\n",
    "print('Best RMSE:', study.best_value)"
   ]
  },
  {
   "cell_type": "markdown",
   "metadata": {},
   "source": [
    "Такие гиперпараметры (безрассудно-рандомные) были выбраны специально, дабы посмотреть, какая метрика будет при неправильном анализе данных. "
   ]
  },
  {
   "cell_type": "code",
   "execution_count": 22,
   "metadata": {},
   "outputs": [
    {
     "data": {
      "text/plain": [
       "{'p': 2, 'd': 1, 'q': 1, 'P': 1, 'D': 1, 'Q': 2, 's': 12}"
      ]
     },
     "execution_count": 22,
     "metadata": {},
     "output_type": "execute_result"
    }
   ],
   "source": [
    "study.best_trial.params"
   ]
  },
  {
   "cell_type": "code",
   "execution_count": 23,
   "metadata": {},
   "outputs": [],
   "source": [
    "best_params_for_sarimax = study.best_trial.params"
   ]
  },
  {
   "cell_type": "code",
   "execution_count": 24,
   "metadata": {
    "scrolled": false
   },
   "outputs": [
    {
     "name": "stderr",
     "output_type": "stream",
     "text": [
      "/opt/conda/lib/python3.9/site-packages/statsmodels/base/model.py:604: ConvergenceWarning: Maximum Likelihood optimization failed to converge. Check mle_retvals\n",
      "  warnings.warn(\"Maximum Likelihood optimization failed to \"\n"
     ]
    },
    {
     "name": "stdout",
     "output_type": "stream",
     "text": [
      "31.460257852702387\n"
     ]
    }
   ],
   "source": [
    "model = SARIMAX(y_train, random_state= RANDOM_STATE, \n",
    "                order=(best_params_for_sarimax['p'],\n",
    "                best_params_for_sarimax['d'],\n",
    "                best_params_for_sarimax['q']),\n",
    "                seasonal_order=(\n",
    "                best_params_for_sarimax['P'],\n",
    "                best_params_for_sarimax['D'],\n",
    "                best_params_for_sarimax['Q'],\n",
    "                best_params_for_sarimax['s']))\n",
    "model_fit = model.fit(disp=False)\n",
    "y_pred = model_fit.predict(start=len(y_train), end=len(y_train)+len(y_val)-1)\n",
    "rmse_sarimax = mean_squared_error(y_val, y_pred, squared=False)\n",
    "print(rmse_sarimax)"
   ]
  },
  {
   "cell_type": "markdown",
   "metadata": {},
   "source": [
    "### Lasso"
   ]
  },
  {
   "cell_type": "code",
   "execution_count": 25,
   "metadata": {},
   "outputs": [],
   "source": [
    "\n",
    "imputer = SimpleImputer(strategy='mean')\n",
    "X_train = imputer.fit_transform(X_train)\n",
    "X_val = imputer.transform(X_val)"
   ]
  },
  {
   "cell_type": "code",
   "execution_count": 26,
   "metadata": {
    "scrolled": true
   },
   "outputs": [
    {
     "name": "stderr",
     "output_type": "stream",
     "text": [
      "[I 2023-12-07 21:11:08,522] A new study created in memory with name: no-name-6e1976e1-96e3-4e4e-a900-34c60d61c9eb\n",
      "[I 2023-12-07 21:11:08,528] Trial 0 finished with value: 41.12546745813309 and parameters: {'fit_intercept': False, 'normalize': True, 'alpha': 7.899209049644749}. Best is trial 0 with value: 41.12546745813309.\n",
      "[I 2023-12-07 21:11:08,536] Trial 1 finished with value: 41.21132700568858 and parameters: {'fit_intercept': False, 'normalize': False, 'alpha': 0.9383259145170204}. Best is trial 0 with value: 41.12546745813309.\n",
      "[I 2023-12-07 21:11:08,618] Trial 2 finished with value: 41.22544964980263 and parameters: {'fit_intercept': True, 'normalize': False, 'alpha': 6.661492132348847}. Best is trial 0 with value: 41.12546745813309.\n",
      "[I 2023-12-07 21:11:08,623] Trial 3 finished with value: 58.23418017859991 and parameters: {'fit_intercept': True, 'normalize': True, 'alpha': 4.423772873632967}. Best is trial 0 with value: 41.12546745813309.\n",
      "[I 2023-12-07 21:11:08,717] Trial 4 finished with value: 41.13384263823395 and parameters: {'fit_intercept': False, 'normalize': False, 'alpha': 7.151960969378755}. Best is trial 0 with value: 41.12546745813309.\n",
      "[I 2023-12-07 21:11:08,724] Trial 5 finished with value: 41.214283417142404 and parameters: {'fit_intercept': False, 'normalize': False, 'alpha': 0.7237568278303834}. Best is trial 0 with value: 41.12546745813309.\n",
      "[I 2023-12-07 21:11:08,820] Trial 6 finished with value: 41.12083403792758 and parameters: {'fit_intercept': False, 'normalize': False, 'alpha': 8.320717445088713}. Best is trial 6 with value: 41.12083403792758.\n",
      "[I 2023-12-07 21:11:08,825] Trial 7 finished with value: 58.23418017859991 and parameters: {'fit_intercept': True, 'normalize': True, 'alpha': 0.7909826636876072}. Best is trial 6 with value: 41.12083403792758.\n",
      "[I 2023-12-07 21:11:08,920] Trial 8 finished with value: 41.11634399408302 and parameters: {'fit_intercept': False, 'normalize': False, 'alpha': 8.742272685921533}. Best is trial 8 with value: 41.11634399408302.\n",
      "[I 2023-12-07 21:11:08,924] Trial 9 finished with value: 58.23418017859991 and parameters: {'fit_intercept': True, 'normalize': True, 'alpha': 2.6608162178557606}. Best is trial 8 with value: 41.11634399408302.\n",
      "[I 2023-12-07 21:11:09,118] Trial 10 finished with value: 41.104714386159074 and parameters: {'fit_intercept': False, 'normalize': False, 'alpha': 9.843510429481377}. Best is trial 10 with value: 41.104714386159074.\n",
      "[I 2023-12-07 21:11:09,317] Trial 11 finished with value: 41.1033460708056 and parameters: {'fit_intercept': False, 'normalize': False, 'alpha': 9.975952940121054}. Best is trial 11 with value: 41.1033460708056.\n",
      "[I 2023-12-07 21:11:09,420] Trial 12 finished with value: 41.105618066976604 and parameters: {'fit_intercept': False, 'normalize': False, 'alpha': 9.756380654375112}. Best is trial 11 with value: 41.1033460708056.\n",
      "[I 2023-12-07 21:11:09,517] Trial 13 finished with value: 41.105180616589294 and parameters: {'fit_intercept': False, 'normalize': False, 'alpha': 9.798524579379269}. Best is trial 11 with value: 41.1033460708056.\n",
      "[I 2023-12-07 21:11:09,624] Trial 14 finished with value: 41.14650924753172 and parameters: {'fit_intercept': False, 'normalize': False, 'alpha': 6.04948321202472}. Best is trial 11 with value: 41.1033460708056.\n",
      "[I 2023-12-07 21:11:09,819] Trial 15 finished with value: 41.10515893076037 and parameters: {'fit_intercept': False, 'normalize': False, 'alpha': 9.800615424121375}. Best is trial 11 with value: 41.1033460708056.\n",
      "[I 2023-12-07 21:11:09,917] Trial 16 finished with value: 41.116935893323465 and parameters: {'fit_intercept': False, 'normalize': False, 'alpha': 8.68733005527341}. Best is trial 11 with value: 41.1033460708056.\n",
      "[I 2023-12-07 21:11:10,023] Trial 17 finished with value: 41.15372538990246 and parameters: {'fit_intercept': False, 'normalize': False, 'alpha': 5.4370398269727}. Best is trial 11 with value: 41.1033460708056.\n",
      "[I 2023-12-07 21:11:10,216] Trial 18 finished with value: 58.23418017859991 and parameters: {'fit_intercept': True, 'normalize': True, 'alpha': 7.647107736105321}. Best is trial 11 with value: 41.1033460708056.\n",
      "[I 2023-12-07 21:11:10,331] Trial 19 finished with value: 41.11253667470577 and parameters: {'fit_intercept': False, 'normalize': False, 'alpha': 9.09817262345137}. Best is trial 11 with value: 41.1033460708056.\n",
      "[I 2023-12-07 21:11:10,518] Trial 20 finished with value: 41.13264160970561 and parameters: {'fit_intercept': False, 'normalize': False, 'alpha': 7.258006418262877}. Best is trial 11 with value: 41.1033460708056.\n",
      "[I 2023-12-07 21:11:10,624] Trial 21 finished with value: 41.10311923288898 and parameters: {'fit_intercept': False, 'normalize': False, 'alpha': 9.997969501362387}. Best is trial 21 with value: 41.10311923288898.\n",
      "[I 2023-12-07 21:11:10,817] Trial 22 finished with value: 41.10412298931009 and parameters: {'fit_intercept': False, 'normalize': False, 'alpha': 9.900676741571548}. Best is trial 21 with value: 41.10311923288898.\n",
      "[I 2023-12-07 21:11:10,924] Trial 23 finished with value: 41.116165997569574 and parameters: {'fit_intercept': False, 'normalize': False, 'alpha': 8.758815208564775}. Best is trial 21 with value: 41.10311923288898.\n",
      "[I 2023-12-07 21:11:11,117] Trial 24 finished with value: 41.12331379727809 and parameters: {'fit_intercept': False, 'normalize': False, 'alpha': 8.094394191435255}. Best is trial 21 with value: 41.10311923288898.\n",
      "[I 2023-12-07 21:11:11,224] Trial 25 finished with value: 41.11227805161735 and parameters: {'fit_intercept': False, 'normalize': False, 'alpha': 9.122506725633986}. Best is trial 21 with value: 41.10311923288898.\n",
      "[I 2023-12-07 21:11:11,317] Trial 26 finished with value: 41.226336407070576 and parameters: {'fit_intercept': True, 'normalize': False, 'alpha': 9.991136143790007}. Best is trial 21 with value: 41.10311923288898.\n",
      "[I 2023-12-07 21:11:11,420] Trial 27 finished with value: 41.11215381014762 and parameters: {'fit_intercept': False, 'normalize': True, 'alpha': 9.134203999939157}. Best is trial 21 with value: 41.10311923288898.\n",
      "[I 2023-12-07 21:11:11,619] Trial 28 finished with value: 41.1205860117368 and parameters: {'fit_intercept': False, 'normalize': False, 'alpha': 8.350752380671162}. Best is trial 21 with value: 41.10311923288898.\n",
      "[I 2023-12-07 21:11:11,719] Trial 29 finished with value: 41.12736620560221 and parameters: {'fit_intercept': False, 'normalize': True, 'alpha': 7.728181326343549}. Best is trial 21 with value: 41.10311923288898.\n",
      "[I 2023-12-07 21:11:11,824] Trial 30 finished with value: 41.124307576618634 and parameters: {'fit_intercept': False, 'normalize': False, 'alpha': 8.004171269626942}. Best is trial 21 with value: 41.10311923288898.\n",
      "[I 2023-12-07 21:11:12,018] Trial 31 finished with value: 41.10994783800787 and parameters: {'fit_intercept': False, 'normalize': False, 'alpha': 9.342687730128477}. Best is trial 21 with value: 41.10311923288898.\n",
      "[I 2023-12-07 21:11:12,216] Trial 32 finished with value: 41.103538059583 and parameters: {'fit_intercept': False, 'normalize': False, 'alpha': 9.957332258279013}. Best is trial 21 with value: 41.10311923288898.\n",
      "[I 2023-12-07 21:11:12,321] Trial 33 finished with value: 41.11020210725902 and parameters: {'fit_intercept': False, 'normalize': False, 'alpha': 9.31858001790056}. Best is trial 21 with value: 41.10311923288898.\n",
      "[I 2023-12-07 21:11:12,424] Trial 34 finished with value: 41.10332942528334 and parameters: {'fit_intercept': False, 'normalize': False, 'alpha': 9.977567943899974}. Best is trial 21 with value: 41.10311923288898.\n",
      "[I 2023-12-07 21:11:12,616] Trial 35 finished with value: 41.22463090255527 and parameters: {'fit_intercept': True, 'normalize': False, 'alpha': 8.38600920022045}. Best is trial 21 with value: 41.10311923288898.\n",
      "[I 2023-12-07 21:11:12,722] Trial 36 finished with value: 41.136455498507544 and parameters: {'fit_intercept': False, 'normalize': False, 'alpha': 6.922501506923368}. Best is trial 21 with value: 41.10311923288898.\n",
      "[I 2023-12-07 21:11:12,917] Trial 37 finished with value: 41.11179324589165 and parameters: {'fit_intercept': False, 'normalize': False, 'alpha': 9.168177737213378}. Best is trial 21 with value: 41.10311923288898.\n",
      "[I 2023-12-07 21:11:13,021] Trial 38 finished with value: 58.23418017859991 and parameters: {'fit_intercept': True, 'normalize': True, 'alpha': 7.581558418776007}. Best is trial 21 with value: 41.10311923288898.\n",
      "[I 2023-12-07 21:11:13,216] Trial 39 finished with value: 41.11662783325389 and parameters: {'fit_intercept': False, 'normalize': False, 'alpha': 8.715912694623835}. Best is trial 21 with value: 41.10311923288898.\n",
      "[I 2023-12-07 21:11:13,321] Trial 40 finished with value: 41.14290863367112 and parameters: {'fit_intercept': False, 'normalize': False, 'alpha': 6.357493888010591}. Best is trial 21 with value: 41.10311923288898.\n",
      "[I 2023-12-07 21:11:13,424] Trial 41 finished with value: 41.10339973817049 and parameters: {'fit_intercept': False, 'normalize': False, 'alpha': 9.970746586446207}. Best is trial 21 with value: 41.10311923288898.\n",
      "[I 2023-12-07 21:11:13,619] Trial 42 finished with value: 41.109598323786585 and parameters: {'fit_intercept': False, 'normalize': False, 'alpha': 9.375858821803881}. Best is trial 21 with value: 41.10311923288898.\n",
      "[I 2023-12-07 21:11:13,717] Trial 43 finished with value: 41.107860349460914 and parameters: {'fit_intercept': False, 'normalize': False, 'alpha': 9.541375916941476}. Best is trial 21 with value: 41.10311923288898.\n",
      "[I 2023-12-07 21:11:13,817] Trial 44 finished with value: 41.103672134775806 and parameters: {'fit_intercept': False, 'normalize': False, 'alpha': 9.944335832043222}. Best is trial 21 with value: 41.10311923288898.\n",
      "[I 2023-12-07 21:11:13,923] Trial 45 finished with value: 41.11649482247167 and parameters: {'fit_intercept': False, 'normalize': False, 'alpha': 8.728262389016649}. Best is trial 21 with value: 41.10311923288898.\n",
      "[I 2023-12-07 21:11:14,117] Trial 46 finished with value: 41.10781698794526 and parameters: {'fit_intercept': False, 'normalize': True, 'alpha': 9.545517753127207}. Best is trial 21 with value: 41.10311923288898.\n",
      "[I 2023-12-07 21:11:14,222] Trial 47 finished with value: 41.22462106918198 and parameters: {'fit_intercept': True, 'normalize': False, 'alpha': 8.353941899724475}. Best is trial 21 with value: 41.10311923288898.\n",
      "[I 2023-12-07 21:11:14,323] Trial 48 finished with value: 41.10309964948418 and parameters: {'fit_intercept': False, 'normalize': False, 'alpha': 9.999871048167206}. Best is trial 48 with value: 41.10309964948418.\n",
      "[I 2023-12-07 21:11:14,516] Trial 49 finished with value: 41.10806700946687 and parameters: {'fit_intercept': False, 'normalize': False, 'alpha': 9.521644272216237}. Best is trial 48 with value: 41.10309964948418.\n",
      "[I 2023-12-07 21:11:14,623] Trial 50 finished with value: 41.11220200721849 and parameters: {'fit_intercept': False, 'normalize': False, 'alpha': 9.129665708129158}. Best is trial 48 with value: 41.10309964948418.\n",
      "[I 2023-12-07 21:11:14,816] Trial 51 finished with value: 41.10325311962505 and parameters: {'fit_intercept': False, 'normalize': False, 'alpha': 9.984972560598099}. Best is trial 48 with value: 41.10309964948418.\n",
      "[I 2023-12-07 21:11:14,924] Trial 52 finished with value: 41.10786557249998 and parameters: {'fit_intercept': False, 'normalize': False, 'alpha': 9.540877059530224}. Best is trial 48 with value: 41.10309964948418.\n",
      "[I 2023-12-07 21:11:15,117] Trial 53 finished with value: 41.10322243829772 and parameters: {'fit_intercept': False, 'normalize': False, 'alpha': 9.987950393015717}. Best is trial 48 with value: 41.10309964948418.\n",
      "[I 2023-12-07 21:11:15,316] Trial 54 finished with value: 41.11443384218185 and parameters: {'fit_intercept': False, 'normalize': False, 'alpha': 8.920286844803176}. Best is trial 48 with value: 41.10309964948418.\n",
      "[I 2023-12-07 21:11:15,417] Trial 55 finished with value: 41.10755341958426 and parameters: {'fit_intercept': False, 'normalize': False, 'alpha': 9.570706407918191}. Best is trial 48 with value: 41.10309964948418.\n",
      "[I 2023-12-07 21:11:15,524] Trial 56 finished with value: 41.114465681553234 and parameters: {'fit_intercept': False, 'normalize': False, 'alpha': 8.917310715258468}. Best is trial 48 with value: 41.10309964948418.\n",
      "[I 2023-12-07 21:11:15,720] Trial 57 finished with value: 41.1187242500282 and parameters: {'fit_intercept': False, 'normalize': True, 'alpha': 8.52194707300917}. Best is trial 48 with value: 41.10309964948418.\n",
      "[I 2023-12-07 21:11:15,816] Trial 58 finished with value: 41.22573610569487 and parameters: {'fit_intercept': True, 'normalize': False, 'alpha': 9.62375008114164}. Best is trial 48 with value: 41.10309964948418.\n",
      "[I 2023-12-07 21:11:15,917] Trial 59 finished with value: 41.1239502349513 and parameters: {'fit_intercept': False, 'normalize': False, 'alpha': 8.036582326415735}. Best is trial 48 with value: 41.10309964948418.\n",
      "[I 2023-12-07 21:11:16,024] Trial 60 finished with value: 41.11430969891441 and parameters: {'fit_intercept': False, 'normalize': False, 'alpha': 8.931893820270318}. Best is trial 48 with value: 41.10309964948418.\n",
      "[I 2023-12-07 21:11:16,217] Trial 61 finished with value: 41.10345684875857 and parameters: {'fit_intercept': False, 'normalize': False, 'alpha': 9.965207259633258}. Best is trial 48 with value: 41.10309964948418.\n",
      "[I 2023-12-07 21:11:16,317] Trial 62 finished with value: 41.10606649960577 and parameters: {'fit_intercept': False, 'normalize': False, 'alpha': 9.71324370215929}. Best is trial 48 with value: 41.10309964948418.\n",
      "[I 2023-12-07 21:11:16,517] Trial 63 finished with value: 41.11039288437138 and parameters: {'fit_intercept': False, 'normalize': False, 'alpha': 9.300505363300203}. Best is trial 48 with value: 41.10309964948418.\n",
      "[I 2023-12-07 21:11:16,624] Trial 64 finished with value: 41.10562446745366 and parameters: {'fit_intercept': False, 'normalize': False, 'alpha': 9.75576449861233}. Best is trial 48 with value: 41.10309964948418.\n",
      "[I 2023-12-07 21:11:16,819] Trial 65 finished with value: 41.10343197179729 and parameters: {'fit_intercept': False, 'normalize': False, 'alpha': 9.96762001632381}. Best is trial 48 with value: 41.10309964948418.\n",
      "[I 2023-12-07 21:11:16,921] Trial 66 finished with value: 41.11272791131181 and parameters: {'fit_intercept': False, 'normalize': False, 'alpha': 9.080192108490769}. Best is trial 48 with value: 41.10309964948418.\n",
      "[I 2023-12-07 21:11:17,117] Trial 67 finished with value: 41.117815872349915 and parameters: {'fit_intercept': False, 'normalize': False, 'alpha': 8.605835804877062}. Best is trial 48 with value: 41.10309964948418.\n",
      "[I 2023-12-07 21:11:17,217] Trial 68 finished with value: 41.109804829606766 and parameters: {'fit_intercept': False, 'normalize': True, 'alpha': 9.356255494895196}. Best is trial 48 with value: 41.10309964948418.\n",
      "[I 2023-12-07 21:11:17,324] Trial 69 finished with value: 41.22597438925106 and parameters: {'fit_intercept': True, 'normalize': False, 'alpha': 9.778883556513142}. Best is trial 48 with value: 41.10309964948418.\n",
      "[I 2023-12-07 21:11:17,520] Trial 70 finished with value: 41.121517446337386 and parameters: {'fit_intercept': False, 'normalize': False, 'alpha': 8.258172668797418}. Best is trial 48 with value: 41.10309964948418.\n",
      "[I 2023-12-07 21:11:17,617] Trial 71 finished with value: 41.10325028809134 and parameters: {'fit_intercept': False, 'normalize': False, 'alpha': 9.9852473670644}. Best is trial 48 with value: 41.10309964948418.\n",
      "[I 2023-12-07 21:11:17,817] Trial 72 finished with value: 41.103167182465725 and parameters: {'fit_intercept': False, 'normalize': False, 'alpha': 9.993314145574441}. Best is trial 48 with value: 41.10309964948418.\n",
      "[I 2023-12-07 21:11:17,924] Trial 73 finished with value: 41.109569941358714 and parameters: {'fit_intercept': False, 'normalize': False, 'alpha': 9.378554174870226}. Best is trial 48 with value: 41.10309964948418.\n",
      "[I 2023-12-07 21:11:18,023] Trial 74 finished with value: 41.10608222173764 and parameters: {'fit_intercept': False, 'normalize': False, 'alpha': 9.711732502907774}. Best is trial 48 with value: 41.10309964948418.\n",
      "[I 2023-12-07 21:11:18,216] Trial 75 finished with value: 41.114059540628126 and parameters: {'fit_intercept': False, 'normalize': False, 'alpha': 8.955296818250938}. Best is trial 48 with value: 41.10309964948418.\n",
      "[I 2023-12-07 21:11:18,322] Trial 76 finished with value: 41.11021761867559 and parameters: {'fit_intercept': False, 'normalize': False, 'alpha': 9.317110007149603}. Best is trial 48 with value: 41.10309964948418.\n",
      "[I 2023-12-07 21:11:18,516] Trial 77 finished with value: 41.10648957519634 and parameters: {'fit_intercept': False, 'normalize': False, 'alpha': 9.672606029716915}. Best is trial 48 with value: 41.10309964948418.\n",
      "[I 2023-12-07 21:11:18,623] Trial 78 finished with value: 41.103232408003954 and parameters: {'fit_intercept': False, 'normalize': False, 'alpha': 9.9869827302863}. Best is trial 48 with value: 41.10309964948418.\n",
      "[I 2023-12-07 21:11:18,822] Trial 79 finished with value: 41.111238415693464 and parameters: {'fit_intercept': False, 'normalize': False, 'alpha': 9.220534046331203}. Best is trial 48 with value: 41.10309964948418.\n",
      "[I 2023-12-07 21:11:19,016] Trial 80 finished with value: 41.11619027720031 and parameters: {'fit_intercept': False, 'normalize': False, 'alpha': 8.756558174942644}. Best is trial 48 with value: 41.10309964948418.\n",
      "[I 2023-12-07 21:11:19,127] Trial 81 finished with value: 41.10317909216893 and parameters: {'fit_intercept': False, 'normalize': False, 'alpha': 9.992157969200774}. Best is trial 48 with value: 41.10309964948418.\n",
      "[I 2023-12-07 21:11:19,316] Trial 82 finished with value: 41.103471430390954 and parameters: {'fit_intercept': False, 'normalize': False, 'alpha': 9.963793118431314}. Best is trial 48 with value: 41.10309964948418.\n",
      "[I 2023-12-07 21:11:19,517] Trial 83 finished with value: 41.10741378447497 and parameters: {'fit_intercept': False, 'normalize': False, 'alpha': 9.584060053678991}. Best is trial 48 with value: 41.10309964948418.\n",
      "[I 2023-12-07 21:11:19,624] Trial 84 finished with value: 41.10321494023245 and parameters: {'fit_intercept': False, 'normalize': False, 'alpha': 9.988678179488465}. Best is trial 48 with value: 41.10309964948418.\n",
      "[I 2023-12-07 21:11:19,722] Trial 85 finished with value: 41.10881327227019 and parameters: {'fit_intercept': False, 'normalize': False, 'alpha': 9.450505220970623}. Best is trial 48 with value: 41.10309964948418.\n",
      "[I 2023-12-07 21:11:19,917] Trial 86 finished with value: 41.10587529080535 and parameters: {'fit_intercept': False, 'normalize': True, 'alpha': 9.731628993803948}. Best is trial 48 with value: 41.10309964948418.\n",
      "[I 2023-12-07 21:11:20,016] Trial 87 finished with value: 41.225163970449024 and parameters: {'fit_intercept': True, 'normalize': False, 'alpha': 9.167383772645696}. Best is trial 48 with value: 41.10309964948418.\n",
      "[I 2023-12-07 21:11:20,118] Trial 88 finished with value: 41.1061490447737 and parameters: {'fit_intercept': False, 'normalize': False, 'alpha': 9.70531042207884}. Best is trial 48 with value: 41.10309964948418.\n",
      "[I 2023-12-07 21:11:20,220] Trial 89 finished with value: 41.10900662835434 and parameters: {'fit_intercept': False, 'normalize': False, 'alpha': 9.43210196247663}. Best is trial 48 with value: 41.10309964948418.\n",
      "[I 2023-12-07 21:11:20,416] Trial 90 finished with value: 41.118356211770724 and parameters: {'fit_intercept': False, 'normalize': False, 'alpha': 8.555906727980823}. Best is trial 48 with value: 41.10309964948418.\n",
      "[I 2023-12-07 21:11:20,521] Trial 91 finished with value: 41.10356824937126 and parameters: {'fit_intercept': False, 'normalize': False, 'alpha': 9.95440532146176}. Best is trial 48 with value: 41.10309964948418.\n",
      "[I 2023-12-07 21:11:20,617] Trial 92 finished with value: 41.10331406980759 and parameters: {'fit_intercept': False, 'normalize': False, 'alpha': 9.97905786542074}. Best is trial 48 with value: 41.10309964948418.\n",
      "[I 2023-12-07 21:11:20,718] Trial 93 finished with value: 41.10582565542482 and parameters: {'fit_intercept': False, 'normalize': False, 'alpha': 9.736403532421143}. Best is trial 48 with value: 41.10309964948418.\n",
      "[I 2023-12-07 21:11:20,818] Trial 94 finished with value: 41.113324103840675 and parameters: {'fit_intercept': False, 'normalize': False, 'alpha': 9.024208072554151}. Best is trial 48 with value: 41.10309964948418.\n",
      "[I 2023-12-07 21:11:20,917] Trial 95 finished with value: 41.10876118642686 and parameters: {'fit_intercept': False, 'normalize': False, 'alpha': 9.455464673529194}. Best is trial 48 with value: 41.10309964948418.\n",
      "[I 2023-12-07 21:11:21,017] Trial 96 finished with value: 41.105396132710275 and parameters: {'fit_intercept': False, 'normalize': False, 'alpha': 9.777753934453509}. Best is trial 48 with value: 41.10309964948418.\n",
      "[I 2023-12-07 21:11:21,126] Trial 97 finished with value: 41.103130799735894 and parameters: {'fit_intercept': False, 'normalize': False, 'alpha': 9.996846422097011}. Best is trial 48 with value: 41.10309964948418.\n",
      "[I 2023-12-07 21:11:21,317] Trial 98 finished with value: 41.11112467587316 and parameters: {'fit_intercept': False, 'normalize': False, 'alpha': 9.231278787071695}. Best is trial 48 with value: 41.10309964948418.\n",
      "[I 2023-12-07 21:11:21,418] Trial 99 finished with value: 41.108153015765815 and parameters: {'fit_intercept': False, 'normalize': True, 'alpha': 9.513436511971852}. Best is trial 48 with value: 41.10309964948418.\n"
     ]
    },
    {
     "name": "stdout",
     "output_type": "stream",
     "text": [
      "Best hyperparameters: {'fit_intercept': False, 'normalize': False, 'alpha': 9.999871048167206}\n",
      "Best RMSE: 41.10309964948418\n"
     ]
    }
   ],
   "source": [
    "from sklearn.linear_model import Lasso\n",
    "from sklearn.metrics import mean_squared_error\n",
    "import optuna\n",
    "\n",
    "def objective(trial):\n",
    "    model = Lasso(fit_intercept=trial.suggest_categorical('fit_intercept', [True, False]), \n",
    "               normalize=trial.suggest_categorical('normalize', [True, False]), \n",
    "               alpha=trial.suggest_float('alpha', 1e-3, 1e1))\n",
    "    model.fit(X_train, y_train)\n",
    "    y_pred = model.predict(X_val)\n",
    "    rmse = mean_squared_error(y_val, y_pred, squared=False)\n",
    "    return rmse\n",
    "study = optuna.create_study(direction='minimize')\n",
    "study.optimize(objective, n_trials=100)\n",
    "\n",
    "print('Best hyperparameters:', study.best_params)\n",
    "print('Best RMSE:', study.best_value)\n"
   ]
  },
  {
   "cell_type": "code",
   "execution_count": 27,
   "metadata": {},
   "outputs": [],
   "source": [
    "best_params_for_lasso = study.best_trial.params"
   ]
  },
  {
   "cell_type": "code",
   "execution_count": 28,
   "metadata": {},
   "outputs": [],
   "source": [
    "model = Lasso(fit_intercept=best_params_for_lasso['fit_intercept'], \n",
    "               normalize=best_params_for_lasso['normalize'], \n",
    "               alpha=best_params_for_lasso['alpha'])\n",
    "model.fit(X_train, y_train)\n",
    "predictions = model.predict(X_val)\n",
    "rmse_lasso = mean_squared_error(y_val, predictions, squared=False)"
   ]
  },
  {
   "cell_type": "code",
   "execution_count": 29,
   "metadata": {
    "scrolled": false
   },
   "outputs": [
    {
     "data": {
      "text/plain": [
       "41.10309964948418"
      ]
     },
     "execution_count": 29,
     "metadata": {},
     "output_type": "execute_result"
    }
   ],
   "source": [
    "rmse_lasso"
   ]
  },
  {
   "cell_type": "code",
   "execution_count": 30,
   "metadata": {},
   "outputs": [],
   "source": [
    "data = [rmse_cb, rmse_sarimax, rmse_lasso ]"
   ]
  },
  {
   "cell_type": "code",
   "execution_count": 31,
   "metadata": {},
   "outputs": [
    {
     "data": {
      "text/html": [
       "<div>\n",
       "<style scoped>\n",
       "    .dataframe tbody tr th:only-of-type {\n",
       "        vertical-align: middle;\n",
       "    }\n",
       "\n",
       "    .dataframe tbody tr th {\n",
       "        vertical-align: top;\n",
       "    }\n",
       "\n",
       "    .dataframe thead th {\n",
       "        text-align: right;\n",
       "    }\n",
       "</style>\n",
       "<table border=\"1\" class=\"dataframe\">\n",
       "  <thead>\n",
       "    <tr style=\"text-align: right;\">\n",
       "      <th></th>\n",
       "      <th>score</th>\n",
       "    </tr>\n",
       "  </thead>\n",
       "  <tbody>\n",
       "    <tr>\n",
       "      <th>CatBoostRegressor</th>\n",
       "      <td>30.241157</td>\n",
       "    </tr>\n",
       "    <tr>\n",
       "      <th>SARIMAX</th>\n",
       "      <td>31.460258</td>\n",
       "    </tr>\n",
       "    <tr>\n",
       "      <th>Lasso</th>\n",
       "      <td>41.103100</td>\n",
       "    </tr>\n",
       "  </tbody>\n",
       "</table>\n",
       "</div>"
      ],
      "text/plain": [
       "                       score\n",
       "CatBoostRegressor  30.241157\n",
       "SARIMAX            31.460258\n",
       "Lasso              41.103100"
      ]
     },
     "execution_count": 31,
     "metadata": {},
     "output_type": "execute_result"
    }
   ],
   "source": [
    "scores = pd.DataFrame(data, columns= ['score'],\n",
    "                      index= ['CatBoostRegressor', 'SARIMAX', 'Lasso'])\n",
    "scores"
   ]
  },
  {
   "cell_type": "markdown",
   "metadata": {},
   "source": [
    "Проверили три различных модели, одна из которых для меня была абсолютно новой. <br>\n",
    "Она же и оказалась самой точной, набрала лучшую метрику. <br>\n",
    "Порог метрики, важной заказчику, мы преодолели. <br>"
   ]
  },
  {
   "cell_type": "markdown",
   "metadata": {},
   "source": [
    "## Тест"
   ]
  },
  {
   "cell_type": "markdown",
   "metadata": {},
   "source": [
    "### CatBoost"
   ]
  },
  {
   "cell_type": "code",
   "execution_count": 33,
   "metadata": {},
   "outputs": [],
   "source": [
    "X_train_val = np.concatenate((X_train, X_val), axis=0)\n",
    "y_train_val = np.concatenate((y_train, y_val), axis=0)\n"
   ]
  },
  {
   "cell_type": "code",
   "execution_count": 34,
   "metadata": {},
   "outputs": [
    {
     "data": {
      "text/plain": [
       "<catboost.core.CatBoostRegressor at 0x7f1b80aadac0>"
      ]
     },
     "execution_count": 34,
     "metadata": {},
     "output_type": "execute_result"
    }
   ],
   "source": [
    "model = cb.CatBoostRegressor(iterations = 1000,\n",
    "                             learning_rate = best_params_for_cb['learning_rate'],\n",
    "                             depth = best_params_for_cb['depth'],\n",
    "                             subsample = best_params_for_cb['subsample'],\n",
    "                             colsample_bylevel = best_params_for_cb['colsample_bylevel'],\n",
    "                             min_data_in_leaf = best_params_for_cb['min_data_in_leaf'], silent=True,\n",
    "                            random_state = RANDOM_STATE)\n",
    "model.fit(X_train_val, y_train_val)"
   ]
  },
  {
   "cell_type": "code",
   "execution_count": 35,
   "metadata": {
    "scrolled": true
   },
   "outputs": [
    {
     "name": "stdout",
     "output_type": "stream",
     "text": [
      "RMSE best-model on val-test: 46.46691078867796\n"
     ]
    }
   ],
   "source": [
    "preds = model.predict(X_val_test)\n",
    "rmse_best_model_on_valtest = mean_squared_error(y_val_test, preds, squared=False)\n",
    "\n",
    "print('RMSE best-model on val-test:', rmse_best_model_on_valtest)"
   ]
  }
 ],
 "metadata": {
  "ExecuteTimeLog": [
   {
    "duration": 52,
    "start_time": "2023-12-05T09:08:49.249Z"
   },
   {
    "duration": 385,
    "start_time": "2023-12-05T09:09:08.147Z"
   },
   {
    "duration": 103,
    "start_time": "2023-12-05T09:09:10.743Z"
   },
   {
    "duration": 139,
    "start_time": "2023-12-05T09:11:24.136Z"
   },
   {
    "duration": 15,
    "start_time": "2023-12-05T09:11:30.602Z"
   },
   {
    "duration": 3,
    "start_time": "2023-12-05T09:12:05.399Z"
   },
   {
    "duration": 9,
    "start_time": "2023-12-05T09:12:18.662Z"
   },
   {
    "duration": 9,
    "start_time": "2023-12-05T09:12:23.099Z"
   },
   {
    "duration": 657,
    "start_time": "2023-12-05T09:24:38.211Z"
   },
   {
    "duration": 4,
    "start_time": "2023-12-05T09:27:11.285Z"
   },
   {
    "duration": 4,
    "start_time": "2023-12-05T09:27:15.172Z"
   },
   {
    "duration": 4,
    "start_time": "2023-12-05T09:32:10.552Z"
   },
   {
    "duration": 18,
    "start_time": "2023-12-05T09:36:23.645Z"
   },
   {
    "duration": 484,
    "start_time": "2023-12-05T09:36:34.872Z"
   },
   {
    "duration": 8,
    "start_time": "2023-12-05T09:36:40.616Z"
   },
   {
    "duration": 4,
    "start_time": "2023-12-05T09:36:45.768Z"
   },
   {
    "duration": 941,
    "start_time": "2023-12-05T09:37:02.524Z"
   },
   {
    "duration": 8,
    "start_time": "2023-12-05T09:39:50.418Z"
   },
   {
    "duration": 841,
    "start_time": "2023-12-05T09:39:50.565Z"
   },
   {
    "duration": 257,
    "start_time": "2023-12-05T09:40:01.617Z"
   },
   {
    "duration": 3,
    "start_time": "2023-12-05T09:40:17.925Z"
   },
   {
    "duration": 358,
    "start_time": "2023-12-05T09:40:21.583Z"
   },
   {
    "duration": 3,
    "start_time": "2023-12-05T09:40:41.633Z"
   },
   {
    "duration": 230,
    "start_time": "2023-12-05T09:40:44.904Z"
   },
   {
    "duration": 234,
    "start_time": "2023-12-05T09:44:29.735Z"
   },
   {
    "duration": 233,
    "start_time": "2023-12-05T09:45:47.473Z"
   },
   {
    "duration": 223,
    "start_time": "2023-12-05T09:47:20.030Z"
   },
   {
    "duration": 287,
    "start_time": "2023-12-05T09:47:26.149Z"
   },
   {
    "duration": 7,
    "start_time": "2023-12-05T09:48:28.478Z"
   },
   {
    "duration": 7,
    "start_time": "2023-12-05T09:48:31.417Z"
   },
   {
    "duration": 243,
    "start_time": "2023-12-05T09:48:54.820Z"
   },
   {
    "duration": 233,
    "start_time": "2023-12-05T09:49:44.962Z"
   },
   {
    "duration": 222,
    "start_time": "2023-12-05T09:49:49.513Z"
   },
   {
    "duration": 57,
    "start_time": "2023-12-05T09:50:58.448Z"
   },
   {
    "duration": 353,
    "start_time": "2023-12-05T09:51:05.422Z"
   },
   {
    "duration": 442,
    "start_time": "2023-12-05T09:51:15.550Z"
   },
   {
    "duration": 509,
    "start_time": "2023-12-05T09:52:35.490Z"
   },
   {
    "duration": 14,
    "start_time": "2023-12-05T09:54:09.588Z"
   },
   {
    "duration": 169,
    "start_time": "2023-12-05T09:54:49.099Z"
   },
   {
    "duration": 1018,
    "start_time": "2023-12-05T09:54:52.623Z"
   },
   {
    "duration": 1042,
    "start_time": "2023-12-05T09:55:41.388Z"
   },
   {
    "duration": 859,
    "start_time": "2023-12-05T09:56:02.121Z"
   },
   {
    "duration": 1011,
    "start_time": "2023-12-05T09:57:20.368Z"
   },
   {
    "duration": 847,
    "start_time": "2023-12-05T09:57:43.938Z"
   },
   {
    "duration": 5,
    "start_time": "2023-12-05T10:26:17.547Z"
   },
   {
    "duration": 14,
    "start_time": "2023-12-05T10:26:47.353Z"
   },
   {
    "duration": 25,
    "start_time": "2023-12-05T10:26:51.736Z"
   },
   {
    "duration": 1561,
    "start_time": "2023-12-06T13:58:30.629Z"
   },
   {
    "duration": 155,
    "start_time": "2023-12-06T13:58:32.192Z"
   },
   {
    "duration": 4,
    "start_time": "2023-12-06T13:58:32.348Z"
   },
   {
    "duration": 44,
    "start_time": "2023-12-06T13:58:32.353Z"
   },
   {
    "duration": 55,
    "start_time": "2023-12-06T13:58:32.399Z"
   },
   {
    "duration": 34,
    "start_time": "2023-12-06T13:58:32.456Z"
   },
   {
    "duration": 689,
    "start_time": "2023-12-06T13:58:32.492Z"
   },
   {
    "duration": 991,
    "start_time": "2023-12-06T13:58:33.183Z"
   },
   {
    "duration": 4,
    "start_time": "2023-12-06T13:58:34.176Z"
   },
   {
    "duration": 41,
    "start_time": "2023-12-06T13:58:34.182Z"
   },
   {
    "duration": 23,
    "start_time": "2023-12-06T13:58:34.224Z"
   },
   {
    "duration": 133,
    "start_time": "2023-12-06T14:59:46.205Z"
   },
   {
    "duration": 5280,
    "start_time": "2023-12-06T14:59:58.705Z"
   },
   {
    "duration": 20,
    "start_time": "2023-12-06T15:19:06.325Z"
   },
   {
    "duration": 540,
    "start_time": "2023-12-06T15:19:14.492Z"
   },
   {
    "duration": 45,
    "start_time": "2023-12-06T15:19:17.358Z"
   },
   {
    "duration": 12,
    "start_time": "2023-12-06T15:20:33.441Z"
   },
   {
    "duration": 9,
    "start_time": "2023-12-06T15:20:48.545Z"
   },
   {
    "duration": 10,
    "start_time": "2023-12-06T15:31:50.716Z"
   },
   {
    "duration": 4,
    "start_time": "2023-12-06T15:32:56.200Z"
   },
   {
    "duration": 2,
    "start_time": "2023-12-06T15:35:31.342Z"
   },
   {
    "duration": 4,
    "start_time": "2023-12-06T15:37:12.389Z"
   },
   {
    "duration": 6,
    "start_time": "2023-12-06T15:37:13.867Z"
   },
   {
    "duration": 37,
    "start_time": "2023-12-06T15:37:22.387Z"
   },
   {
    "duration": 29,
    "start_time": "2023-12-06T15:38:02.299Z"
   },
   {
    "duration": 4,
    "start_time": "2023-12-06T15:40:17.783Z"
   },
   {
    "duration": 6,
    "start_time": "2023-12-06T15:40:18.356Z"
   },
   {
    "duration": 48,
    "start_time": "2023-12-06T15:40:19.203Z"
   },
   {
    "duration": 30,
    "start_time": "2023-12-06T15:40:35.828Z"
   },
   {
    "duration": 3,
    "start_time": "2023-12-06T15:43:50.890Z"
   },
   {
    "duration": 4,
    "start_time": "2023-12-06T15:46:52.317Z"
   },
   {
    "duration": 5,
    "start_time": "2023-12-06T15:46:52.509Z"
   },
   {
    "duration": 3,
    "start_time": "2023-12-06T15:46:52.702Z"
   },
   {
    "duration": 29,
    "start_time": "2023-12-06T15:46:53.008Z"
   },
   {
    "duration": 33,
    "start_time": "2023-12-06T15:48:28.159Z"
   },
   {
    "duration": 4,
    "start_time": "2023-12-06T15:49:36.856Z"
   },
   {
    "duration": 5,
    "start_time": "2023-12-06T15:49:37.301Z"
   },
   {
    "duration": 3,
    "start_time": "2023-12-06T15:49:37.777Z"
   },
   {
    "duration": 41,
    "start_time": "2023-12-06T15:49:39.308Z"
   },
   {
    "duration": 3,
    "start_time": "2023-12-06T15:50:33.278Z"
   },
   {
    "duration": 4,
    "start_time": "2023-12-06T15:50:33.691Z"
   },
   {
    "duration": 3,
    "start_time": "2023-12-06T15:50:34.089Z"
   },
   {
    "duration": 68090,
    "start_time": "2023-12-06T15:50:34.567Z"
   },
   {
    "duration": 3,
    "start_time": "2023-12-06T16:44:32.311Z"
   },
   {
    "duration": 1566,
    "start_time": "2023-12-06T16:47:56.009Z"
   },
   {
    "duration": 4,
    "start_time": "2023-12-06T16:48:06.517Z"
   },
   {
    "duration": 43,
    "start_time": "2023-12-06T16:48:27.383Z"
   },
   {
    "duration": 1530,
    "start_time": "2023-12-06T16:48:35.206Z"
   },
   {
    "duration": 4,
    "start_time": "2023-12-06T16:48:37.062Z"
   },
   {
    "duration": 5,
    "start_time": "2023-12-06T17:01:37.341Z"
   },
   {
    "duration": 6,
    "start_time": "2023-12-06T17:01:37.639Z"
   },
   {
    "duration": 4,
    "start_time": "2023-12-06T17:01:38.756Z"
   },
   {
    "duration": 4,
    "start_time": "2023-12-06T17:02:01.772Z"
   },
   {
    "duration": 136905,
    "start_time": "2023-12-06T17:02:04.391Z"
   },
   {
    "duration": 1455,
    "start_time": "2023-12-06T17:04:21.297Z"
   },
   {
    "duration": 3,
    "start_time": "2023-12-06T17:04:22.754Z"
   },
   {
    "duration": 4,
    "start_time": "2023-12-06T17:05:16.034Z"
   },
   {
    "duration": 8,
    "start_time": "2023-12-06T17:05:16.469Z"
   },
   {
    "duration": 22,
    "start_time": "2023-12-06T17:05:16.913Z"
   },
   {
    "duration": 4,
    "start_time": "2023-12-06T17:05:20.335Z"
   },
   {
    "duration": 5,
    "start_time": "2023-12-06T17:05:20.708Z"
   },
   {
    "duration": 4,
    "start_time": "2023-12-06T17:05:21.222Z"
   },
   {
    "duration": 74994,
    "start_time": "2023-12-06T17:05:21.750Z"
   },
   {
    "duration": 1555,
    "start_time": "2023-12-06T17:06:36.746Z"
   },
   {
    "duration": 5,
    "start_time": "2023-12-06T17:06:38.302Z"
   },
   {
    "duration": 4,
    "start_time": "2023-12-06T17:07:38.799Z"
   },
   {
    "duration": 10,
    "start_time": "2023-12-06T17:07:38.954Z"
   },
   {
    "duration": 23,
    "start_time": "2023-12-06T17:07:39.139Z"
   },
   {
    "duration": 5,
    "start_time": "2023-12-06T17:07:39.654Z"
   },
   {
    "duration": 5,
    "start_time": "2023-12-06T17:07:39.834Z"
   },
   {
    "duration": 3,
    "start_time": "2023-12-06T17:07:40.030Z"
   },
   {
    "duration": 2636,
    "start_time": "2023-12-06T18:00:24.656Z"
   },
   {
    "duration": 2169,
    "start_time": "2023-12-06T18:00:27.295Z"
   },
   {
    "duration": 3,
    "start_time": "2023-12-06T18:00:29.466Z"
   },
   {
    "duration": 181,
    "start_time": "2023-12-06T18:00:29.470Z"
   },
   {
    "duration": 3,
    "start_time": "2023-12-06T18:00:29.653Z"
   },
   {
    "duration": 17,
    "start_time": "2023-12-06T18:00:29.658Z"
   },
   {
    "duration": 12,
    "start_time": "2023-12-06T18:00:29.677Z"
   },
   {
    "duration": 9,
    "start_time": "2023-12-06T18:00:29.691Z"
   },
   {
    "duration": 608,
    "start_time": "2023-12-06T18:00:29.702Z"
   },
   {
    "duration": 1105,
    "start_time": "2023-12-06T18:00:30.312Z"
   },
   {
    "duration": 6,
    "start_time": "2023-12-06T18:00:31.419Z"
   },
   {
    "duration": 59,
    "start_time": "2023-12-06T18:00:31.427Z"
   },
   {
    "duration": 76,
    "start_time": "2023-12-06T18:00:31.488Z"
   },
   {
    "duration": 34,
    "start_time": "2023-12-06T18:00:31.567Z"
   },
   {
    "duration": 39,
    "start_time": "2023-12-06T18:00:31.603Z"
   },
   {
    "duration": 75,
    "start_time": "2023-12-06T18:00:31.644Z"
   },
   {
    "duration": 134953,
    "start_time": "2023-12-06T18:00:31.721Z"
   },
   {
    "duration": 0,
    "start_time": "2023-12-06T18:02:46.676Z"
   },
   {
    "duration": 0,
    "start_time": "2023-12-06T18:02:46.678Z"
   },
   {
    "duration": 4,
    "start_time": "2023-12-06T18:02:52.484Z"
   },
   {
    "duration": 4,
    "start_time": "2023-12-06T18:03:16.610Z"
   },
   {
    "duration": 4,
    "start_time": "2023-12-06T18:03:49.794Z"
   },
   {
    "duration": 6,
    "start_time": "2023-12-06T18:03:50.023Z"
   },
   {
    "duration": 3,
    "start_time": "2023-12-06T18:03:50.336Z"
   },
   {
    "duration": 13,
    "start_time": "2023-12-06T18:03:50.672Z"
   },
   {
    "duration": 4,
    "start_time": "2023-12-06T18:04:41.079Z"
   },
   {
    "duration": 6,
    "start_time": "2023-12-06T18:04:41.992Z"
   },
   {
    "duration": 2407,
    "start_time": "2023-12-06T18:12:46.203Z"
   },
   {
    "duration": 1807,
    "start_time": "2023-12-06T18:12:48.612Z"
   },
   {
    "duration": 2,
    "start_time": "2023-12-06T18:12:50.421Z"
   },
   {
    "duration": 57,
    "start_time": "2023-12-06T18:12:50.425Z"
   },
   {
    "duration": 2,
    "start_time": "2023-12-06T18:12:50.485Z"
   },
   {
    "duration": 15,
    "start_time": "2023-12-06T18:12:50.489Z"
   },
   {
    "duration": 13,
    "start_time": "2023-12-06T18:12:50.505Z"
   },
   {
    "duration": 4,
    "start_time": "2023-12-06T18:12:50.519Z"
   },
   {
    "duration": 544,
    "start_time": "2023-12-06T18:12:50.525Z"
   },
   {
    "duration": 1003,
    "start_time": "2023-12-06T18:12:51.070Z"
   },
   {
    "duration": 5,
    "start_time": "2023-12-06T18:12:52.074Z"
   },
   {
    "duration": 22,
    "start_time": "2023-12-06T18:12:52.080Z"
   },
   {
    "duration": 24,
    "start_time": "2023-12-06T18:12:52.103Z"
   },
   {
    "duration": 4,
    "start_time": "2023-12-06T18:12:52.130Z"
   },
   {
    "duration": 7,
    "start_time": "2023-12-06T18:12:52.135Z"
   },
   {
    "duration": 25,
    "start_time": "2023-12-06T18:12:52.143Z"
   },
   {
    "duration": 5,
    "start_time": "2023-12-06T18:12:52.170Z"
   },
   {
    "duration": 5,
    "start_time": "2023-12-06T18:12:52.176Z"
   },
   {
    "duration": 2077,
    "start_time": "2023-12-06T18:12:52.182Z"
   },
   {
    "duration": 0,
    "start_time": "2023-12-06T18:12:54.260Z"
   },
   {
    "duration": 0,
    "start_time": "2023-12-06T18:12:54.261Z"
   },
   {
    "duration": 189840,
    "start_time": "2023-12-06T18:13:05.694Z"
   },
   {
    "duration": 0,
    "start_time": "2023-12-06T18:16:15.535Z"
   },
   {
    "duration": 244584,
    "start_time": "2023-12-06T18:16:18.273Z"
   },
   {
    "duration": 1855,
    "start_time": "2023-12-06T18:20:30.324Z"
   },
   {
    "duration": 4,
    "start_time": "2023-12-06T18:20:32.181Z"
   },
   {
    "duration": 2409,
    "start_time": "2023-12-06T18:20:55.447Z"
   },
   {
    "duration": 1843,
    "start_time": "2023-12-06T18:20:57.858Z"
   },
   {
    "duration": 3,
    "start_time": "2023-12-06T18:20:59.702Z"
   },
   {
    "duration": 54,
    "start_time": "2023-12-06T18:20:59.706Z"
   },
   {
    "duration": 3,
    "start_time": "2023-12-06T18:20:59.762Z"
   },
   {
    "duration": 29,
    "start_time": "2023-12-06T18:20:59.766Z"
   },
   {
    "duration": 20,
    "start_time": "2023-12-06T18:20:59.796Z"
   },
   {
    "duration": 19,
    "start_time": "2023-12-06T18:20:59.818Z"
   },
   {
    "duration": 556,
    "start_time": "2023-12-06T18:20:59.839Z"
   },
   {
    "duration": 979,
    "start_time": "2023-12-06T18:21:00.397Z"
   },
   {
    "duration": 5,
    "start_time": "2023-12-06T18:21:01.377Z"
   },
   {
    "duration": 52,
    "start_time": "2023-12-06T18:21:01.384Z"
   },
   {
    "duration": 70,
    "start_time": "2023-12-06T18:21:01.438Z"
   },
   {
    "duration": 50,
    "start_time": "2023-12-06T18:21:01.511Z"
   },
   {
    "duration": 23,
    "start_time": "2023-12-06T18:21:01.562Z"
   },
   {
    "duration": 56,
    "start_time": "2023-12-06T18:21:01.587Z"
   },
   {
    "duration": 44,
    "start_time": "2023-12-06T18:21:01.645Z"
   },
   {
    "duration": 47,
    "start_time": "2023-12-06T18:21:01.692Z"
   },
   {
    "duration": 261117,
    "start_time": "2023-12-06T18:21:01.741Z"
   },
   {
    "duration": 1723,
    "start_time": "2023-12-06T18:25:22.860Z"
   },
   {
    "duration": 3,
    "start_time": "2023-12-06T18:25:24.585Z"
   },
   {
    "duration": 2391,
    "start_time": "2023-12-06T18:26:43.530Z"
   },
   {
    "duration": 1748,
    "start_time": "2023-12-06T18:26:45.923Z"
   },
   {
    "duration": 2,
    "start_time": "2023-12-06T18:26:47.673Z"
   },
   {
    "duration": 73,
    "start_time": "2023-12-06T18:26:47.677Z"
   },
   {
    "duration": 3,
    "start_time": "2023-12-06T18:26:47.752Z"
   },
   {
    "duration": 15,
    "start_time": "2023-12-06T18:26:47.756Z"
   },
   {
    "duration": 26,
    "start_time": "2023-12-06T18:26:47.773Z"
   },
   {
    "duration": 20,
    "start_time": "2023-12-06T18:26:47.800Z"
   },
   {
    "duration": 528,
    "start_time": "2023-12-06T18:26:47.822Z"
   },
   {
    "duration": 982,
    "start_time": "2023-12-06T18:26:48.351Z"
   },
   {
    "duration": 5,
    "start_time": "2023-12-06T18:26:49.335Z"
   },
   {
    "duration": 28,
    "start_time": "2023-12-06T18:26:49.342Z"
   },
   {
    "duration": 23,
    "start_time": "2023-12-06T18:26:49.372Z"
   },
   {
    "duration": 5,
    "start_time": "2023-12-06T18:26:49.399Z"
   },
   {
    "duration": 19,
    "start_time": "2023-12-06T18:26:49.405Z"
   },
   {
    "duration": 11,
    "start_time": "2023-12-06T18:26:49.426Z"
   },
   {
    "duration": 29,
    "start_time": "2023-12-06T18:26:49.439Z"
   },
   {
    "duration": 41,
    "start_time": "2023-12-06T18:26:49.470Z"
   },
   {
    "duration": 46139,
    "start_time": "2023-12-06T18:26:49.513Z"
   },
   {
    "duration": 0,
    "start_time": "2023-12-06T18:27:35.653Z"
   },
   {
    "duration": 0,
    "start_time": "2023-12-06T18:27:35.654Z"
   },
   {
    "duration": 2479,
    "start_time": "2023-12-06T18:28:06.332Z"
   },
   {
    "duration": 1778,
    "start_time": "2023-12-06T18:28:08.813Z"
   },
   {
    "duration": 3,
    "start_time": "2023-12-06T18:28:10.593Z"
   },
   {
    "duration": 55,
    "start_time": "2023-12-06T18:28:10.598Z"
   },
   {
    "duration": 3,
    "start_time": "2023-12-06T18:28:10.656Z"
   },
   {
    "duration": 10,
    "start_time": "2023-12-06T18:28:10.661Z"
   },
   {
    "duration": 12,
    "start_time": "2023-12-06T18:28:10.673Z"
   },
   {
    "duration": 7,
    "start_time": "2023-12-06T18:28:10.687Z"
   },
   {
    "duration": 543,
    "start_time": "2023-12-06T18:28:10.695Z"
   },
   {
    "duration": 1008,
    "start_time": "2023-12-06T18:28:11.240Z"
   },
   {
    "duration": 4,
    "start_time": "2023-12-06T18:28:12.250Z"
   },
   {
    "duration": 16,
    "start_time": "2023-12-06T18:28:12.267Z"
   },
   {
    "duration": 25,
    "start_time": "2023-12-06T18:28:12.285Z"
   },
   {
    "duration": 5,
    "start_time": "2023-12-06T18:28:12.313Z"
   },
   {
    "duration": 6,
    "start_time": "2023-12-06T18:28:12.319Z"
   },
   {
    "duration": 3,
    "start_time": "2023-12-06T18:28:12.327Z"
   },
   {
    "duration": 6,
    "start_time": "2023-12-06T18:28:12.332Z"
   },
   {
    "duration": 30,
    "start_time": "2023-12-06T18:28:12.339Z"
   },
   {
    "duration": 381825,
    "start_time": "2023-12-06T18:28:12.371Z"
   },
   {
    "duration": 0,
    "start_time": "2023-12-06T18:34:34.197Z"
   },
   {
    "duration": 0,
    "start_time": "2023-12-06T18:34:34.198Z"
   },
   {
    "duration": 0,
    "start_time": "2023-12-06T18:34:34.200Z"
   },
   {
    "duration": 2500,
    "start_time": "2023-12-06T18:35:39.238Z"
   },
   {
    "duration": 1841,
    "start_time": "2023-12-06T18:35:41.741Z"
   },
   {
    "duration": 3,
    "start_time": "2023-12-06T18:35:43.583Z"
   },
   {
    "duration": 61,
    "start_time": "2023-12-06T18:35:43.587Z"
   },
   {
    "duration": 2,
    "start_time": "2023-12-06T18:35:43.650Z"
   },
   {
    "duration": 10,
    "start_time": "2023-12-06T18:35:43.654Z"
   },
   {
    "duration": 12,
    "start_time": "2023-12-06T18:35:43.665Z"
   },
   {
    "duration": 4,
    "start_time": "2023-12-06T18:35:43.678Z"
   },
   {
    "duration": 571,
    "start_time": "2023-12-06T18:35:43.683Z"
   },
   {
    "duration": 985,
    "start_time": "2023-12-06T18:35:44.256Z"
   },
   {
    "duration": 4,
    "start_time": "2023-12-06T18:35:45.243Z"
   },
   {
    "duration": 26,
    "start_time": "2023-12-06T18:35:45.248Z"
   },
   {
    "duration": 24,
    "start_time": "2023-12-06T18:35:45.276Z"
   },
   {
    "duration": 4,
    "start_time": "2023-12-06T18:35:45.302Z"
   },
   {
    "duration": 18,
    "start_time": "2023-12-06T18:35:45.308Z"
   },
   {
    "duration": 6,
    "start_time": "2023-12-06T18:35:45.327Z"
   },
   {
    "duration": 14,
    "start_time": "2023-12-06T18:35:45.335Z"
   },
   {
    "duration": 11,
    "start_time": "2023-12-06T18:35:45.350Z"
   },
   {
    "duration": 6,
    "start_time": "2023-12-06T18:35:45.362Z"
   },
   {
    "duration": 3968,
    "start_time": "2023-12-06T18:35:45.370Z"
   },
   {
    "duration": 0,
    "start_time": "2023-12-06T18:35:49.339Z"
   },
   {
    "duration": 0,
    "start_time": "2023-12-06T18:35:49.341Z"
   },
   {
    "duration": 2422,
    "start_time": "2023-12-06T18:35:56.706Z"
   },
   {
    "duration": 1792,
    "start_time": "2023-12-06T18:35:59.130Z"
   },
   {
    "duration": 3,
    "start_time": "2023-12-06T18:36:00.923Z"
   },
   {
    "duration": 146,
    "start_time": "2023-12-06T18:36:00.927Z"
   },
   {
    "duration": 59,
    "start_time": "2023-12-06T18:36:01.075Z"
   },
   {
    "duration": 100,
    "start_time": "2023-12-06T18:36:01.136Z"
   },
   {
    "duration": 187,
    "start_time": "2023-12-06T18:36:01.238Z"
   },
   {
    "duration": 154,
    "start_time": "2023-12-06T18:36:01.426Z"
   },
   {
    "duration": 671,
    "start_time": "2023-12-06T18:36:01.582Z"
   },
   {
    "duration": 997,
    "start_time": "2023-12-06T18:36:02.255Z"
   },
   {
    "duration": 4,
    "start_time": "2023-12-06T18:36:03.254Z"
   },
   {
    "duration": 26,
    "start_time": "2023-12-06T18:36:03.267Z"
   },
   {
    "duration": 41,
    "start_time": "2023-12-06T18:36:03.294Z"
   },
   {
    "duration": 25,
    "start_time": "2023-12-06T18:36:03.338Z"
   },
   {
    "duration": 33,
    "start_time": "2023-12-06T18:36:03.364Z"
   },
   {
    "duration": 14,
    "start_time": "2023-12-06T18:36:03.399Z"
   },
   {
    "duration": 13,
    "start_time": "2023-12-06T18:36:03.415Z"
   },
   {
    "duration": 16,
    "start_time": "2023-12-06T18:36:03.430Z"
   },
   {
    "duration": 42,
    "start_time": "2023-12-06T18:36:03.448Z"
   },
   {
    "duration": 65559,
    "start_time": "2023-12-06T18:36:03.492Z"
   },
   {
    "duration": 0,
    "start_time": "2023-12-06T18:37:09.052Z"
   },
   {
    "duration": 0,
    "start_time": "2023-12-06T18:37:09.053Z"
   },
   {
    "duration": 2584,
    "start_time": "2023-12-06T18:37:12.298Z"
   },
   {
    "duration": 1825,
    "start_time": "2023-12-06T18:37:14.885Z"
   },
   {
    "duration": 3,
    "start_time": "2023-12-06T18:37:16.712Z"
   },
   {
    "duration": 57,
    "start_time": "2023-12-06T18:37:16.717Z"
   },
   {
    "duration": 2,
    "start_time": "2023-12-06T18:37:16.776Z"
   },
   {
    "duration": 16,
    "start_time": "2023-12-06T18:37:16.780Z"
   },
   {
    "duration": 12,
    "start_time": "2023-12-06T18:37:16.798Z"
   },
   {
    "duration": 4,
    "start_time": "2023-12-06T18:37:16.811Z"
   },
   {
    "duration": 549,
    "start_time": "2023-12-06T18:37:16.817Z"
   },
   {
    "duration": 1048,
    "start_time": "2023-12-06T18:37:17.367Z"
   },
   {
    "duration": 4,
    "start_time": "2023-12-06T18:37:18.416Z"
   },
   {
    "duration": 22,
    "start_time": "2023-12-06T18:37:18.422Z"
   },
   {
    "duration": 26,
    "start_time": "2023-12-06T18:37:18.446Z"
   },
   {
    "duration": 4,
    "start_time": "2023-12-06T18:37:18.475Z"
   },
   {
    "duration": 10,
    "start_time": "2023-12-06T18:37:18.481Z"
   },
   {
    "duration": 82,
    "start_time": "2023-12-06T18:37:18.493Z"
   },
   {
    "duration": 0,
    "start_time": "2023-12-06T18:37:18.577Z"
   },
   {
    "duration": 0,
    "start_time": "2023-12-06T18:37:18.579Z"
   },
   {
    "duration": 0,
    "start_time": "2023-12-06T18:37:18.580Z"
   },
   {
    "duration": 0,
    "start_time": "2023-12-06T18:37:18.581Z"
   },
   {
    "duration": 0,
    "start_time": "2023-12-06T18:37:18.582Z"
   },
   {
    "duration": 2436,
    "start_time": "2023-12-06T18:39:15.702Z"
   },
   {
    "duration": 1871,
    "start_time": "2023-12-06T18:39:18.140Z"
   },
   {
    "duration": 3,
    "start_time": "2023-12-06T18:39:20.015Z"
   },
   {
    "duration": 69,
    "start_time": "2023-12-06T18:39:20.020Z"
   },
   {
    "duration": 3,
    "start_time": "2023-12-06T18:39:20.091Z"
   },
   {
    "duration": 21,
    "start_time": "2023-12-06T18:39:20.095Z"
   },
   {
    "duration": 15,
    "start_time": "2023-12-06T18:39:20.117Z"
   },
   {
    "duration": 8,
    "start_time": "2023-12-06T18:39:20.134Z"
   },
   {
    "duration": 540,
    "start_time": "2023-12-06T18:39:20.143Z"
   },
   {
    "duration": 962,
    "start_time": "2023-12-06T18:39:20.684Z"
   },
   {
    "duration": 5,
    "start_time": "2023-12-06T18:39:21.648Z"
   },
   {
    "duration": 26,
    "start_time": "2023-12-06T18:39:21.654Z"
   },
   {
    "duration": 21,
    "start_time": "2023-12-06T18:39:21.682Z"
   },
   {
    "duration": 5,
    "start_time": "2023-12-06T18:39:21.704Z"
   },
   {
    "duration": 8,
    "start_time": "2023-12-06T18:39:21.710Z"
   },
   {
    "duration": 6,
    "start_time": "2023-12-06T18:39:21.719Z"
   },
   {
    "duration": 5,
    "start_time": "2023-12-06T18:39:21.726Z"
   },
   {
    "duration": 10,
    "start_time": "2023-12-06T18:39:21.732Z"
   },
   {
    "duration": 25,
    "start_time": "2023-12-06T18:39:21.744Z"
   },
   {
    "duration": 180,
    "start_time": "2023-12-06T18:39:21.770Z"
   },
   {
    "duration": 0,
    "start_time": "2023-12-06T18:39:21.952Z"
   },
   {
    "duration": 0,
    "start_time": "2023-12-06T18:39:21.954Z"
   },
   {
    "duration": 4,
    "start_time": "2023-12-06T18:51:46.903Z"
   },
   {
    "duration": 5,
    "start_time": "2023-12-06T18:51:47.059Z"
   },
   {
    "duration": 3,
    "start_time": "2023-12-06T18:51:47.476Z"
   },
   {
    "duration": 3,
    "start_time": "2023-12-06T18:51:47.928Z"
   },
   {
    "duration": 18,
    "start_time": "2023-12-06T18:51:48.335Z"
   },
   {
    "duration": 21,
    "start_time": "2023-12-06T18:52:04.674Z"
   },
   {
    "duration": 53,
    "start_time": "2023-12-06T18:54:27.957Z"
   },
   {
    "duration": 3,
    "start_time": "2023-12-06T18:54:29.322Z"
   },
   {
    "duration": 40,
    "start_time": "2023-12-06T18:54:30.951Z"
   },
   {
    "duration": 42,
    "start_time": "2023-12-06T18:56:48.054Z"
   },
   {
    "duration": 3,
    "start_time": "2023-12-06T18:57:04.739Z"
   },
   {
    "duration": 39,
    "start_time": "2023-12-06T19:01:37.080Z"
   },
   {
    "duration": 4,
    "start_time": "2023-12-06T19:05:03.590Z"
   },
   {
    "duration": 3,
    "start_time": "2023-12-06T19:05:14.517Z"
   },
   {
    "duration": 26,
    "start_time": "2023-12-06T19:05:39.989Z"
   },
   {
    "duration": 2517,
    "start_time": "2023-12-06T19:07:54.478Z"
   },
   {
    "duration": 1818,
    "start_time": "2023-12-06T19:07:56.997Z"
   },
   {
    "duration": 3,
    "start_time": "2023-12-06T19:07:58.816Z"
   },
   {
    "duration": 52,
    "start_time": "2023-12-06T19:07:58.821Z"
   },
   {
    "duration": 3,
    "start_time": "2023-12-06T19:07:58.875Z"
   },
   {
    "duration": 13,
    "start_time": "2023-12-06T19:07:58.879Z"
   },
   {
    "duration": 15,
    "start_time": "2023-12-06T19:07:58.893Z"
   },
   {
    "duration": 12,
    "start_time": "2023-12-06T19:07:58.909Z"
   },
   {
    "duration": 541,
    "start_time": "2023-12-06T19:07:58.922Z"
   },
   {
    "duration": 993,
    "start_time": "2023-12-06T19:07:59.467Z"
   },
   {
    "duration": 4,
    "start_time": "2023-12-06T19:08:00.462Z"
   },
   {
    "duration": 40,
    "start_time": "2023-12-06T19:08:00.468Z"
   },
   {
    "duration": 52,
    "start_time": "2023-12-06T19:08:00.510Z"
   },
   {
    "duration": 28,
    "start_time": "2023-12-06T19:08:00.564Z"
   },
   {
    "duration": 35,
    "start_time": "2023-12-06T19:08:00.594Z"
   },
   {
    "duration": 86,
    "start_time": "2023-12-06T19:08:00.631Z"
   },
   {
    "duration": 89,
    "start_time": "2023-12-06T19:08:00.718Z"
   },
   {
    "duration": 81,
    "start_time": "2023-12-06T19:08:00.809Z"
   },
   {
    "duration": 23,
    "start_time": "2023-12-06T19:08:00.892Z"
   },
   {
    "duration": 65,
    "start_time": "2023-12-06T19:08:00.918Z"
   },
   {
    "duration": 278,
    "start_time": "2023-12-06T19:08:00.984Z"
   },
   {
    "duration": 0,
    "start_time": "2023-12-06T19:08:01.267Z"
   },
   {
    "duration": 0,
    "start_time": "2023-12-06T19:08:01.268Z"
   },
   {
    "duration": 13,
    "start_time": "2023-12-06T19:11:32.105Z"
   },
   {
    "duration": 4,
    "start_time": "2023-12-06T19:11:32.997Z"
   },
   {
    "duration": 17,
    "start_time": "2023-12-06T19:11:34.376Z"
   },
   {
    "duration": 2584,
    "start_time": "2023-12-06T19:18:30.362Z"
   },
   {
    "duration": 1937,
    "start_time": "2023-12-06T19:18:32.949Z"
   },
   {
    "duration": 3,
    "start_time": "2023-12-06T19:18:34.888Z"
   },
   {
    "duration": 52,
    "start_time": "2023-12-06T19:18:34.893Z"
   },
   {
    "duration": 4,
    "start_time": "2023-12-06T19:18:34.948Z"
   },
   {
    "duration": 13,
    "start_time": "2023-12-06T19:18:34.954Z"
   },
   {
    "duration": 13,
    "start_time": "2023-12-06T19:18:34.969Z"
   },
   {
    "duration": 5,
    "start_time": "2023-12-06T19:18:34.984Z"
   },
   {
    "duration": 566,
    "start_time": "2023-12-06T19:18:34.991Z"
   },
   {
    "duration": 995,
    "start_time": "2023-12-06T19:18:35.559Z"
   },
   {
    "duration": 4,
    "start_time": "2023-12-06T19:18:36.556Z"
   },
   {
    "duration": 18,
    "start_time": "2023-12-06T19:18:36.561Z"
   },
   {
    "duration": 21,
    "start_time": "2023-12-06T19:18:36.580Z"
   },
   {
    "duration": 4,
    "start_time": "2023-12-06T19:18:36.604Z"
   },
   {
    "duration": 5,
    "start_time": "2023-12-06T19:18:36.610Z"
   },
   {
    "duration": 167,
    "start_time": "2023-12-06T19:18:36.616Z"
   },
   {
    "duration": 0,
    "start_time": "2023-12-06T19:18:36.784Z"
   },
   {
    "duration": 0,
    "start_time": "2023-12-06T19:18:36.785Z"
   },
   {
    "duration": 0,
    "start_time": "2023-12-06T19:18:36.786Z"
   },
   {
    "duration": 32,
    "start_time": "2023-12-06T19:19:34.360Z"
   },
   {
    "duration": 647241,
    "start_time": "2023-12-06T19:19:52.128Z"
   },
   {
    "duration": 2495,
    "start_time": "2023-12-06T19:34:22.352Z"
   },
   {
    "duration": 1853,
    "start_time": "2023-12-06T19:34:24.849Z"
   },
   {
    "duration": 3,
    "start_time": "2023-12-06T19:34:26.704Z"
   },
   {
    "duration": 53,
    "start_time": "2023-12-06T19:34:26.708Z"
   },
   {
    "duration": 2,
    "start_time": "2023-12-06T19:34:26.764Z"
   },
   {
    "duration": 24,
    "start_time": "2023-12-06T19:34:26.767Z"
   },
   {
    "duration": 12,
    "start_time": "2023-12-06T19:34:26.792Z"
   },
   {
    "duration": 4,
    "start_time": "2023-12-06T19:34:26.806Z"
   },
   {
    "duration": 540,
    "start_time": "2023-12-06T19:34:26.811Z"
   },
   {
    "duration": 1005,
    "start_time": "2023-12-06T19:34:27.353Z"
   },
   {
    "duration": 8,
    "start_time": "2023-12-06T19:34:28.360Z"
   },
   {
    "duration": 13,
    "start_time": "2023-12-06T19:34:28.369Z"
   },
   {
    "duration": 22,
    "start_time": "2023-12-06T19:34:28.384Z"
   },
   {
    "duration": 5,
    "start_time": "2023-12-06T19:34:28.409Z"
   },
   {
    "duration": 5,
    "start_time": "2023-12-06T19:34:28.415Z"
   },
   {
    "duration": 2462,
    "start_time": "2023-12-06T19:36:23.822Z"
   },
   {
    "duration": 1832,
    "start_time": "2023-12-06T19:36:26.286Z"
   },
   {
    "duration": 3,
    "start_time": "2023-12-06T19:36:28.121Z"
   },
   {
    "duration": 112,
    "start_time": "2023-12-06T19:36:28.126Z"
   },
   {
    "duration": 3,
    "start_time": "2023-12-06T19:36:28.240Z"
   },
   {
    "duration": 11,
    "start_time": "2023-12-06T19:36:28.245Z"
   },
   {
    "duration": 12,
    "start_time": "2023-12-06T19:36:28.258Z"
   },
   {
    "duration": 3,
    "start_time": "2023-12-06T19:36:28.272Z"
   },
   {
    "duration": 548,
    "start_time": "2023-12-06T19:36:28.277Z"
   },
   {
    "duration": 1015,
    "start_time": "2023-12-06T19:36:28.827Z"
   },
   {
    "duration": 4,
    "start_time": "2023-12-06T19:36:29.844Z"
   },
   {
    "duration": 29,
    "start_time": "2023-12-06T19:36:29.849Z"
   },
   {
    "duration": 21,
    "start_time": "2023-12-06T19:36:29.881Z"
   },
   {
    "duration": 4,
    "start_time": "2023-12-06T19:36:29.904Z"
   },
   {
    "duration": 8,
    "start_time": "2023-12-06T19:36:29.910Z"
   },
   {
    "duration": 430650,
    "start_time": "2023-12-06T19:36:29.919Z"
   },
   {
    "duration": 1474,
    "start_time": "2023-12-06T19:43:40.571Z"
   },
   {
    "duration": 4,
    "start_time": "2023-12-06T19:43:42.046Z"
   },
   {
    "duration": 155,
    "start_time": "2023-12-06T22:13:09.308Z"
   },
   {
    "duration": 3052807,
    "start_time": "2023-12-06T22:14:12.767Z"
   },
   {
    "duration": 4,
    "start_time": "2023-12-07T04:34:55.226Z"
   },
   {
    "duration": 3,
    "start_time": "2023-12-07T04:35:32.230Z"
   },
   {
    "duration": 49,
    "start_time": "2023-12-07T04:37:36.484Z"
   },
   {
    "duration": 13,
    "start_time": "2023-12-07T04:37:42.267Z"
   },
   {
    "duration": 81,
    "start_time": "2023-12-07T04:38:08.668Z"
   },
   {
    "duration": 58,
    "start_time": "2023-12-07T04:39:01.598Z"
   },
   {
    "duration": 57347,
    "start_time": "2023-12-07T04:39:06.868Z"
   },
   {
    "duration": 2386,
    "start_time": "2023-12-07T04:42:55.447Z"
   },
   {
    "duration": 1758,
    "start_time": "2023-12-07T04:42:57.834Z"
   },
   {
    "duration": 3,
    "start_time": "2023-12-07T04:42:59.593Z"
   },
   {
    "duration": 66,
    "start_time": "2023-12-07T04:42:59.597Z"
   },
   {
    "duration": 3,
    "start_time": "2023-12-07T04:42:59.665Z"
   },
   {
    "duration": 32,
    "start_time": "2023-12-07T04:42:59.669Z"
   },
   {
    "duration": 23,
    "start_time": "2023-12-07T04:42:59.702Z"
   },
   {
    "duration": 4,
    "start_time": "2023-12-07T04:42:59.726Z"
   },
   {
    "duration": 540,
    "start_time": "2023-12-07T04:42:59.732Z"
   },
   {
    "duration": 990,
    "start_time": "2023-12-07T04:43:00.274Z"
   },
   {
    "duration": 4,
    "start_time": "2023-12-07T04:43:01.266Z"
   },
   {
    "duration": 104,
    "start_time": "2023-12-07T04:43:01.272Z"
   },
   {
    "duration": 81,
    "start_time": "2023-12-07T04:43:01.378Z"
   },
   {
    "duration": 38,
    "start_time": "2023-12-07T04:43:01.460Z"
   },
   {
    "duration": 52,
    "start_time": "2023-12-07T04:43:01.500Z"
   },
   {
    "duration": 133182,
    "start_time": "2023-12-07T04:43:01.553Z"
   },
   {
    "duration": 0,
    "start_time": "2023-12-07T04:45:14.736Z"
   },
   {
    "duration": 0,
    "start_time": "2023-12-07T04:45:14.738Z"
   },
   {
    "duration": 0,
    "start_time": "2023-12-07T04:45:14.738Z"
   },
   {
    "duration": 0,
    "start_time": "2023-12-07T04:45:14.740Z"
   },
   {
    "duration": 0,
    "start_time": "2023-12-07T04:45:14.740Z"
   },
   {
    "duration": 0,
    "start_time": "2023-12-07T04:45:14.741Z"
   },
   {
    "duration": 2425,
    "start_time": "2023-12-07T04:45:22.777Z"
   },
   {
    "duration": 1785,
    "start_time": "2023-12-07T04:45:25.204Z"
   },
   {
    "duration": 2,
    "start_time": "2023-12-07T04:45:26.991Z"
   },
   {
    "duration": 61,
    "start_time": "2023-12-07T04:45:26.995Z"
   },
   {
    "duration": 3,
    "start_time": "2023-12-07T04:45:27.058Z"
   },
   {
    "duration": 11,
    "start_time": "2023-12-07T04:45:27.062Z"
   },
   {
    "duration": 12,
    "start_time": "2023-12-07T04:45:27.075Z"
   },
   {
    "duration": 4,
    "start_time": "2023-12-07T04:45:27.089Z"
   },
   {
    "duration": 532,
    "start_time": "2023-12-07T04:45:27.095Z"
   },
   {
    "duration": 959,
    "start_time": "2023-12-07T04:45:27.629Z"
   },
   {
    "duration": 5,
    "start_time": "2023-12-07T04:45:28.590Z"
   },
   {
    "duration": 24,
    "start_time": "2023-12-07T04:45:28.596Z"
   },
   {
    "duration": 40,
    "start_time": "2023-12-07T04:45:28.622Z"
   },
   {
    "duration": 20,
    "start_time": "2023-12-07T04:45:28.666Z"
   },
   {
    "duration": 22,
    "start_time": "2023-12-07T04:45:28.687Z"
   },
   {
    "duration": 2400,
    "start_time": "2023-12-07T04:46:40.496Z"
   },
   {
    "duration": 1769,
    "start_time": "2023-12-07T04:46:42.898Z"
   },
   {
    "duration": 3,
    "start_time": "2023-12-07T04:46:44.668Z"
   },
   {
    "duration": 53,
    "start_time": "2023-12-07T04:46:44.672Z"
   },
   {
    "duration": 2,
    "start_time": "2023-12-07T04:46:44.727Z"
   },
   {
    "duration": 10,
    "start_time": "2023-12-07T04:46:44.731Z"
   },
   {
    "duration": 11,
    "start_time": "2023-12-07T04:46:44.742Z"
   },
   {
    "duration": 4,
    "start_time": "2023-12-07T04:46:44.755Z"
   },
   {
    "duration": 536,
    "start_time": "2023-12-07T04:46:44.760Z"
   },
   {
    "duration": 961,
    "start_time": "2023-12-07T04:46:45.297Z"
   },
   {
    "duration": 9,
    "start_time": "2023-12-07T04:46:46.260Z"
   },
   {
    "duration": 17,
    "start_time": "2023-12-07T04:46:46.270Z"
   },
   {
    "duration": 23,
    "start_time": "2023-12-07T04:46:46.289Z"
   },
   {
    "duration": 4,
    "start_time": "2023-12-07T04:46:46.315Z"
   },
   {
    "duration": 9,
    "start_time": "2023-12-07T04:46:46.320Z"
   },
   {
    "duration": 377386,
    "start_time": "2023-12-07T04:46:46.331Z"
   },
   {
    "duration": 0,
    "start_time": "2023-12-07T04:53:03.719Z"
   },
   {
    "duration": 0,
    "start_time": "2023-12-07T04:53:03.720Z"
   },
   {
    "duration": 0,
    "start_time": "2023-12-07T04:53:03.721Z"
   },
   {
    "duration": 0,
    "start_time": "2023-12-07T04:53:03.722Z"
   },
   {
    "duration": 0,
    "start_time": "2023-12-07T04:53:03.723Z"
   },
   {
    "duration": 0,
    "start_time": "2023-12-07T04:53:03.724Z"
   },
   {
    "duration": 2446,
    "start_time": "2023-12-07T04:53:12.002Z"
   },
   {
    "duration": 1885,
    "start_time": "2023-12-07T04:53:14.450Z"
   },
   {
    "duration": 3,
    "start_time": "2023-12-07T04:53:16.336Z"
   },
   {
    "duration": 78,
    "start_time": "2023-12-07T04:53:16.340Z"
   },
   {
    "duration": 3,
    "start_time": "2023-12-07T04:53:16.420Z"
   },
   {
    "duration": 17,
    "start_time": "2023-12-07T04:53:16.424Z"
   },
   {
    "duration": 12,
    "start_time": "2023-12-07T04:53:16.443Z"
   },
   {
    "duration": 17,
    "start_time": "2023-12-07T04:53:16.457Z"
   },
   {
    "duration": 534,
    "start_time": "2023-12-07T04:53:16.475Z"
   },
   {
    "duration": 993,
    "start_time": "2023-12-07T04:53:17.011Z"
   },
   {
    "duration": 4,
    "start_time": "2023-12-07T04:53:18.006Z"
   },
   {
    "duration": 33,
    "start_time": "2023-12-07T04:53:18.012Z"
   },
   {
    "duration": 32,
    "start_time": "2023-12-07T04:53:18.047Z"
   },
   {
    "duration": 5,
    "start_time": "2023-12-07T04:53:18.081Z"
   },
   {
    "duration": 23,
    "start_time": "2023-12-07T04:53:18.087Z"
   },
   {
    "duration": 403084,
    "start_time": "2023-12-07T04:53:18.111Z"
   },
   {
    "duration": 0,
    "start_time": "2023-12-07T05:00:01.199Z"
   },
   {
    "duration": 0,
    "start_time": "2023-12-07T05:00:01.201Z"
   },
   {
    "duration": 0,
    "start_time": "2023-12-07T05:00:01.202Z"
   },
   {
    "duration": 0,
    "start_time": "2023-12-07T05:00:01.203Z"
   },
   {
    "duration": 0,
    "start_time": "2023-12-07T05:00:01.204Z"
   },
   {
    "duration": 0,
    "start_time": "2023-12-07T05:00:01.205Z"
   },
   {
    "duration": 2466,
    "start_time": "2023-12-07T05:00:08.035Z"
   },
   {
    "duration": 1817,
    "start_time": "2023-12-07T05:00:10.503Z"
   },
   {
    "duration": 2,
    "start_time": "2023-12-07T05:00:12.322Z"
   },
   {
    "duration": 58,
    "start_time": "2023-12-07T05:00:12.326Z"
   },
   {
    "duration": 3,
    "start_time": "2023-12-07T05:00:12.386Z"
   },
   {
    "duration": 15,
    "start_time": "2023-12-07T05:00:12.391Z"
   },
   {
    "duration": 24,
    "start_time": "2023-12-07T05:00:12.407Z"
   },
   {
    "duration": 54,
    "start_time": "2023-12-07T05:00:12.433Z"
   },
   {
    "duration": 521,
    "start_time": "2023-12-07T05:00:12.489Z"
   },
   {
    "duration": 1003,
    "start_time": "2023-12-07T05:00:13.012Z"
   },
   {
    "duration": 5,
    "start_time": "2023-12-07T05:00:14.017Z"
   },
   {
    "duration": 28,
    "start_time": "2023-12-07T05:00:14.024Z"
   },
   {
    "duration": 39,
    "start_time": "2023-12-07T05:00:14.053Z"
   },
   {
    "duration": 5,
    "start_time": "2023-12-07T05:00:14.095Z"
   },
   {
    "duration": 14,
    "start_time": "2023-12-07T05:00:14.102Z"
   },
   {
    "duration": 280667,
    "start_time": "2023-12-07T05:00:14.117Z"
   },
   {
    "duration": 2,
    "start_time": "2023-12-07T05:04:54.786Z"
   },
   {
    "duration": 138,
    "start_time": "2023-12-07T05:04:54.790Z"
   },
   {
    "duration": 0,
    "start_time": "2023-12-07T05:04:54.929Z"
   },
   {
    "duration": 0,
    "start_time": "2023-12-07T05:04:54.931Z"
   },
   {
    "duration": 0,
    "start_time": "2023-12-07T05:04:54.932Z"
   },
   {
    "duration": 0,
    "start_time": "2023-12-07T05:04:54.934Z"
   },
   {
    "duration": 11,
    "start_time": "2023-12-07T05:05:26.784Z"
   },
   {
    "duration": 1573,
    "start_time": "2023-12-07T05:05:39.530Z"
   },
   {
    "duration": 4,
    "start_time": "2023-12-07T05:06:18.877Z"
   },
   {
    "duration": 1951008,
    "start_time": "2023-12-07T05:06:23.837Z"
   },
   {
    "duration": 3,
    "start_time": "2023-12-07T05:38:54.847Z"
   },
   {
    "duration": 12,
    "start_time": "2023-12-07T05:38:54.868Z"
   },
   {
    "duration": 4,
    "start_time": "2023-12-07T05:40:11.432Z"
   },
   {
    "duration": 4,
    "start_time": "2023-12-07T05:40:22.588Z"
   },
   {
    "duration": 3,
    "start_time": "2023-12-07T05:40:31.280Z"
   },
   {
    "duration": 87,
    "start_time": "2023-12-07T05:40:51.688Z"
   },
   {
    "duration": 457,
    "start_time": "2023-12-07T05:41:38.980Z"
   },
   {
    "duration": 80,
    "start_time": "2023-12-07T05:41:53.076Z"
   },
   {
    "duration": 59,
    "start_time": "2023-12-07T05:50:01.293Z"
   },
   {
    "duration": 92,
    "start_time": "2023-12-07T05:50:34.489Z"
   },
   {
    "duration": 61,
    "start_time": "2023-12-07T05:51:14.916Z"
   },
   {
    "duration": 87,
    "start_time": "2023-12-07T05:51:22.636Z"
   },
   {
    "duration": 47,
    "start_time": "2023-12-07T05:51:26.031Z"
   },
   {
    "duration": 50,
    "start_time": "2023-12-07T05:51:31.928Z"
   },
   {
    "duration": 56,
    "start_time": "2023-12-07T05:51:35.574Z"
   },
   {
    "duration": 48,
    "start_time": "2023-12-07T05:51:39.641Z"
   },
   {
    "duration": 4,
    "start_time": "2023-12-07T05:51:53.350Z"
   },
   {
    "duration": 87,
    "start_time": "2023-12-07T05:51:56.381Z"
   },
   {
    "duration": 81695,
    "start_time": "2023-12-07T05:53:40.982Z"
   },
   {
    "duration": 69718,
    "start_time": "2023-12-07T05:56:17.466Z"
   },
   {
    "duration": 23,
    "start_time": "2023-12-07T06:26:11.541Z"
   },
   {
    "duration": 4,
    "start_time": "2023-12-07T06:26:28.673Z"
   },
   {
    "duration": 35,
    "start_time": "2023-12-07T06:28:19.956Z"
   },
   {
    "duration": 30,
    "start_time": "2023-12-07T06:35:31.926Z"
   },
   {
    "duration": 33,
    "start_time": "2023-12-07T06:38:51.587Z"
   },
   {
    "duration": 30,
    "start_time": "2023-12-07T06:38:56.880Z"
   },
   {
    "duration": 8,
    "start_time": "2023-12-07T06:39:12.527Z"
   },
   {
    "duration": 32,
    "start_time": "2023-12-07T06:39:13.396Z"
   },
   {
    "duration": 3,
    "start_time": "2023-12-07T06:39:37.240Z"
   },
   {
    "duration": 6,
    "start_time": "2023-12-07T06:39:37.521Z"
   },
   {
    "duration": 9,
    "start_time": "2023-12-07T06:39:41.216Z"
   },
   {
    "duration": 32,
    "start_time": "2023-12-07T06:39:41.753Z"
   },
   {
    "duration": 32,
    "start_time": "2023-12-07T06:41:48.809Z"
   },
   {
    "duration": 3,
    "start_time": "2023-12-07T06:41:58.021Z"
   },
   {
    "duration": 5,
    "start_time": "2023-12-07T06:41:58.199Z"
   },
   {
    "duration": 32,
    "start_time": "2023-12-07T06:42:03.024Z"
   },
   {
    "duration": 26,
    "start_time": "2023-12-07T06:42:50.643Z"
   },
   {
    "duration": 5581,
    "start_time": "2023-12-07T06:42:52.700Z"
   },
   {
    "duration": 29,
    "start_time": "2023-12-07T07:09:24.194Z"
   },
   {
    "duration": 31169,
    "start_time": "2023-12-07T07:10:24.916Z"
   },
   {
    "duration": 25264,
    "start_time": "2023-12-07T07:14:15.323Z"
   },
   {
    "duration": 25404,
    "start_time": "2023-12-07T07:14:46.870Z"
   },
   {
    "duration": 3,
    "start_time": "2023-12-07T07:21:52.467Z"
   },
   {
    "duration": 2,
    "start_time": "2023-12-07T07:24:24.427Z"
   },
   {
    "duration": 175,
    "start_time": "2023-12-07T07:24:25.304Z"
   },
   {
    "duration": 4,
    "start_time": "2023-12-07T07:24:31.908Z"
   },
   {
    "duration": 3,
    "start_time": "2023-12-07T07:29:06.739Z"
   },
   {
    "duration": 8,
    "start_time": "2023-12-07T07:29:06.902Z"
   },
   {
    "duration": 2472,
    "start_time": "2023-12-07T07:30:58.303Z"
   },
   {
    "duration": 1889,
    "start_time": "2023-12-07T07:31:00.777Z"
   },
   {
    "duration": 3,
    "start_time": "2023-12-07T07:31:02.668Z"
   },
   {
    "duration": 101,
    "start_time": "2023-12-07T07:31:02.673Z"
   },
   {
    "duration": 4,
    "start_time": "2023-12-07T07:31:02.776Z"
   },
   {
    "duration": 61,
    "start_time": "2023-12-07T07:31:02.781Z"
   },
   {
    "duration": 34,
    "start_time": "2023-12-07T07:31:02.844Z"
   },
   {
    "duration": 13,
    "start_time": "2023-12-07T07:31:02.879Z"
   },
   {
    "duration": 562,
    "start_time": "2023-12-07T07:31:02.893Z"
   },
   {
    "duration": 1038,
    "start_time": "2023-12-07T07:31:03.457Z"
   },
   {
    "duration": 5,
    "start_time": "2023-12-07T07:31:04.496Z"
   },
   {
    "duration": 64,
    "start_time": "2023-12-07T07:31:04.502Z"
   },
   {
    "duration": 59,
    "start_time": "2023-12-07T07:31:04.568Z"
   },
   {
    "duration": 6,
    "start_time": "2023-12-07T07:31:04.630Z"
   },
   {
    "duration": 93,
    "start_time": "2023-12-07T07:31:04.637Z"
   },
   {
    "duration": 276482,
    "start_time": "2023-12-07T07:31:04.731Z"
   },
   {
    "duration": 2,
    "start_time": "2023-12-07T07:35:41.216Z"
   },
   {
    "duration": 2492,
    "start_time": "2023-12-07T07:35:41.220Z"
   },
   {
    "duration": 4,
    "start_time": "2023-12-07T07:35:43.713Z"
   },
   {
    "duration": 1270653,
    "start_time": "2023-12-07T07:35:43.718Z"
   },
   {
    "duration": 0,
    "start_time": "2023-12-07T07:56:54.373Z"
   },
   {
    "duration": 0,
    "start_time": "2023-12-07T07:56:54.374Z"
   },
   {
    "duration": 0,
    "start_time": "2023-12-07T07:56:54.375Z"
   },
   {
    "duration": 0,
    "start_time": "2023-12-07T07:56:54.376Z"
   },
   {
    "duration": 0,
    "start_time": "2023-12-07T07:56:54.378Z"
   },
   {
    "duration": 0,
    "start_time": "2023-12-07T07:56:54.379Z"
   },
   {
    "duration": 0,
    "start_time": "2023-12-07T07:56:54.380Z"
   },
   {
    "duration": 1,
    "start_time": "2023-12-07T07:56:54.381Z"
   },
   {
    "duration": 0,
    "start_time": "2023-12-07T07:56:54.383Z"
   },
   {
    "duration": 0,
    "start_time": "2023-12-07T07:56:54.385Z"
   },
   {
    "duration": 2512,
    "start_time": "2023-12-07T07:58:50.930Z"
   },
   {
    "duration": 1913,
    "start_time": "2023-12-07T07:58:53.444Z"
   },
   {
    "duration": 3,
    "start_time": "2023-12-07T07:58:55.358Z"
   },
   {
    "duration": 72,
    "start_time": "2023-12-07T07:58:55.362Z"
   },
   {
    "duration": 3,
    "start_time": "2023-12-07T07:58:55.436Z"
   },
   {
    "duration": 22,
    "start_time": "2023-12-07T07:58:55.440Z"
   },
   {
    "duration": 28,
    "start_time": "2023-12-07T07:58:55.463Z"
   },
   {
    "duration": 19,
    "start_time": "2023-12-07T07:58:55.493Z"
   },
   {
    "duration": 566,
    "start_time": "2023-12-07T07:58:55.514Z"
   },
   {
    "duration": 1000,
    "start_time": "2023-12-07T07:58:56.082Z"
   },
   {
    "duration": 4,
    "start_time": "2023-12-07T07:58:57.084Z"
   },
   {
    "duration": 18,
    "start_time": "2023-12-07T07:58:57.090Z"
   },
   {
    "duration": 32,
    "start_time": "2023-12-07T07:58:57.110Z"
   },
   {
    "duration": 26,
    "start_time": "2023-12-07T07:58:57.145Z"
   },
   {
    "duration": 6,
    "start_time": "2023-12-07T07:58:57.172Z"
   },
   {
    "duration": 250588,
    "start_time": "2023-12-07T07:58:57.179Z"
   },
   {
    "duration": 3,
    "start_time": "2023-12-07T08:03:07.769Z"
   },
   {
    "duration": 3112,
    "start_time": "2023-12-07T08:03:07.773Z"
   },
   {
    "duration": 4,
    "start_time": "2023-12-07T08:03:10.886Z"
   },
   {
    "duration": 1810348,
    "start_time": "2023-12-07T08:03:10.891Z"
   },
   {
    "duration": 5,
    "start_time": "2023-12-07T08:33:21.240Z"
   },
   {
    "duration": 17,
    "start_time": "2023-12-07T08:33:21.247Z"
   },
   {
    "duration": 65344,
    "start_time": "2023-12-07T08:33:21.265Z"
   },
   {
    "duration": 9,
    "start_time": "2023-12-07T08:34:26.611Z"
   },
   {
    "duration": 24946,
    "start_time": "2023-12-07T08:34:26.622Z"
   },
   {
    "duration": 3,
    "start_time": "2023-12-07T08:34:51.571Z"
   },
   {
    "duration": 298,
    "start_time": "2023-12-07T08:34:51.576Z"
   },
   {
    "duration": 5,
    "start_time": "2023-12-07T08:34:51.876Z"
   },
   {
    "duration": 3,
    "start_time": "2023-12-07T08:34:51.969Z"
   },
   {
    "duration": 98,
    "start_time": "2023-12-07T08:34:51.974Z"
   },
   {
    "duration": 1441,
    "start_time": "2023-12-07T09:48:08.778Z"
   },
   {
    "duration": 3,
    "start_time": "2023-12-07T09:48:19.756Z"
   },
   {
    "duration": 3772,
    "start_time": "2023-12-07T10:00:41.038Z"
   },
   {
    "duration": 2,
    "start_time": "2023-12-07T10:00:44.812Z"
   },
   {
    "duration": 110,
    "start_time": "2023-12-07T10:00:44.815Z"
   },
   {
    "duration": 3,
    "start_time": "2023-12-07T10:00:44.927Z"
   },
   {
    "duration": 12,
    "start_time": "2023-12-07T10:00:44.931Z"
   },
   {
    "duration": 9,
    "start_time": "2023-12-07T10:00:44.944Z"
   },
   {
    "duration": 4,
    "start_time": "2023-12-07T10:00:44.954Z"
   },
   {
    "duration": 532,
    "start_time": "2023-12-07T10:00:45.236Z"
   },
   {
    "duration": 767,
    "start_time": "2023-12-07T10:00:45.770Z"
   },
   {
    "duration": 64,
    "start_time": "2023-12-07T11:00:26.091Z"
   },
   {
    "duration": 45,
    "start_time": "2023-12-07T11:50:48.952Z"
   },
   {
    "duration": 4556,
    "start_time": "2023-12-07T11:50:57.797Z"
   },
   {
    "duration": 1988,
    "start_time": "2023-12-07T11:51:02.356Z"
   },
   {
    "duration": 3,
    "start_time": "2023-12-07T11:51:04.345Z"
   },
   {
    "duration": 168,
    "start_time": "2023-12-07T11:51:04.350Z"
   },
   {
    "duration": 5,
    "start_time": "2023-12-07T11:51:04.519Z"
   },
   {
    "duration": 55,
    "start_time": "2023-12-07T11:51:04.525Z"
   },
   {
    "duration": 40,
    "start_time": "2023-12-07T11:51:04.582Z"
   },
   {
    "duration": 8,
    "start_time": "2023-12-07T11:51:04.623Z"
   },
   {
    "duration": 540,
    "start_time": "2023-12-07T11:51:04.633Z"
   },
   {
    "duration": 1026,
    "start_time": "2023-12-07T11:51:05.176Z"
   },
   {
    "duration": 4,
    "start_time": "2023-12-07T11:51:06.204Z"
   },
   {
    "duration": 69,
    "start_time": "2023-12-07T11:51:06.209Z"
   },
   {
    "duration": 34,
    "start_time": "2023-12-07T11:51:06.280Z"
   },
   {
    "duration": 37,
    "start_time": "2023-12-07T11:51:06.315Z"
   },
   {
    "duration": 153,
    "start_time": "2023-12-07T11:51:06.354Z"
   },
   {
    "duration": 0,
    "start_time": "2023-12-07T11:51:06.509Z"
   },
   {
    "duration": 0,
    "start_time": "2023-12-07T11:51:06.511Z"
   },
   {
    "duration": 0,
    "start_time": "2023-12-07T11:51:06.512Z"
   },
   {
    "duration": 0,
    "start_time": "2023-12-07T11:51:06.514Z"
   },
   {
    "duration": 0,
    "start_time": "2023-12-07T11:51:06.516Z"
   },
   {
    "duration": 0,
    "start_time": "2023-12-07T11:51:06.517Z"
   },
   {
    "duration": 0,
    "start_time": "2023-12-07T11:51:06.518Z"
   },
   {
    "duration": 0,
    "start_time": "2023-12-07T11:51:06.519Z"
   },
   {
    "duration": 0,
    "start_time": "2023-12-07T11:51:06.521Z"
   },
   {
    "duration": 0,
    "start_time": "2023-12-07T11:51:06.522Z"
   },
   {
    "duration": 0,
    "start_time": "2023-12-07T11:51:06.524Z"
   },
   {
    "duration": 0,
    "start_time": "2023-12-07T11:51:06.525Z"
   },
   {
    "duration": 0,
    "start_time": "2023-12-07T11:51:06.526Z"
   },
   {
    "duration": 0,
    "start_time": "2023-12-07T11:51:06.528Z"
   },
   {
    "duration": 0,
    "start_time": "2023-12-07T11:51:06.529Z"
   },
   {
    "duration": 1,
    "start_time": "2023-12-07T11:51:06.530Z"
   },
   {
    "duration": 12,
    "start_time": "2023-12-07T11:54:28.952Z"
   },
   {
    "duration": 7,
    "start_time": "2023-12-07T11:54:56.311Z"
   },
   {
    "duration": 2342,
    "start_time": "2023-12-07T11:55:09.408Z"
   },
   {
    "duration": 1896,
    "start_time": "2023-12-07T11:55:11.752Z"
   },
   {
    "duration": 2,
    "start_time": "2023-12-07T11:55:13.650Z"
   },
   {
    "duration": 65,
    "start_time": "2023-12-07T11:55:13.654Z"
   },
   {
    "duration": 3,
    "start_time": "2023-12-07T11:55:13.721Z"
   },
   {
    "duration": 34,
    "start_time": "2023-12-07T11:55:13.726Z"
   },
   {
    "duration": 20,
    "start_time": "2023-12-07T11:55:13.761Z"
   },
   {
    "duration": 11,
    "start_time": "2023-12-07T11:55:13.783Z"
   },
   {
    "duration": 550,
    "start_time": "2023-12-07T11:55:13.795Z"
   },
   {
    "duration": 1047,
    "start_time": "2023-12-07T11:55:14.347Z"
   },
   {
    "duration": 4,
    "start_time": "2023-12-07T11:55:15.396Z"
   },
   {
    "duration": 33,
    "start_time": "2023-12-07T11:55:15.402Z"
   },
   {
    "duration": 36,
    "start_time": "2023-12-07T11:55:15.437Z"
   },
   {
    "duration": 22,
    "start_time": "2023-12-07T11:55:15.476Z"
   },
   {
    "duration": 30,
    "start_time": "2023-12-07T11:55:15.499Z"
   },
   {
    "duration": 775,
    "start_time": "2023-12-07T11:55:15.530Z"
   },
   {
    "duration": 0,
    "start_time": "2023-12-07T11:55:16.308Z"
   },
   {
    "duration": 0,
    "start_time": "2023-12-07T11:55:16.309Z"
   },
   {
    "duration": 0,
    "start_time": "2023-12-07T11:55:16.310Z"
   },
   {
    "duration": 0,
    "start_time": "2023-12-07T11:55:16.311Z"
   },
   {
    "duration": 0,
    "start_time": "2023-12-07T11:55:16.313Z"
   },
   {
    "duration": 0,
    "start_time": "2023-12-07T11:55:16.314Z"
   },
   {
    "duration": 0,
    "start_time": "2023-12-07T11:55:16.315Z"
   },
   {
    "duration": 0,
    "start_time": "2023-12-07T11:55:16.316Z"
   },
   {
    "duration": 0,
    "start_time": "2023-12-07T11:55:16.317Z"
   },
   {
    "duration": 0,
    "start_time": "2023-12-07T11:55:16.319Z"
   },
   {
    "duration": 0,
    "start_time": "2023-12-07T11:55:16.320Z"
   },
   {
    "duration": 0,
    "start_time": "2023-12-07T11:55:16.321Z"
   },
   {
    "duration": 0,
    "start_time": "2023-12-07T11:55:16.321Z"
   },
   {
    "duration": 0,
    "start_time": "2023-12-07T11:55:16.323Z"
   },
   {
    "duration": 4,
    "start_time": "2023-12-07T11:56:42.325Z"
   },
   {
    "duration": 6,
    "start_time": "2023-12-07T11:56:42.683Z"
   },
   {
    "duration": 569,
    "start_time": "2023-12-07T11:56:44.152Z"
   },
   {
    "duration": 10,
    "start_time": "2023-12-07T11:58:26.300Z"
   },
   {
    "duration": 5,
    "start_time": "2023-12-07T11:58:29.590Z"
   },
   {
    "duration": 27,
    "start_time": "2023-12-07T11:58:40.423Z"
   },
   {
    "duration": 9,
    "start_time": "2023-12-07T11:58:47.592Z"
   },
   {
    "duration": 4,
    "start_time": "2023-12-07T11:58:50.806Z"
   },
   {
    "duration": 17,
    "start_time": "2023-12-07T11:59:21.027Z"
   },
   {
    "duration": 4,
    "start_time": "2023-12-07T11:59:23.359Z"
   },
   {
    "duration": 17,
    "start_time": "2023-12-07T11:59:23.796Z"
   },
   {
    "duration": 10,
    "start_time": "2023-12-07T11:59:31.044Z"
   },
   {
    "duration": 2400,
    "start_time": "2023-12-07T11:59:34.697Z"
   },
   {
    "duration": 1856,
    "start_time": "2023-12-07T11:59:37.099Z"
   },
   {
    "duration": 2,
    "start_time": "2023-12-07T11:59:38.957Z"
   },
   {
    "duration": 67,
    "start_time": "2023-12-07T11:59:38.961Z"
   },
   {
    "duration": 3,
    "start_time": "2023-12-07T11:59:39.030Z"
   },
   {
    "duration": 46,
    "start_time": "2023-12-07T11:59:39.035Z"
   },
   {
    "duration": 27,
    "start_time": "2023-12-07T11:59:39.083Z"
   },
   {
    "duration": 28,
    "start_time": "2023-12-07T11:59:39.112Z"
   },
   {
    "duration": 547,
    "start_time": "2023-12-07T11:59:39.142Z"
   },
   {
    "duration": 975,
    "start_time": "2023-12-07T11:59:39.691Z"
   },
   {
    "duration": 4,
    "start_time": "2023-12-07T11:59:40.668Z"
   },
   {
    "duration": 33,
    "start_time": "2023-12-07T11:59:40.674Z"
   },
   {
    "duration": 49,
    "start_time": "2023-12-07T11:59:40.708Z"
   },
   {
    "duration": 19,
    "start_time": "2023-12-07T11:59:40.760Z"
   },
   {
    "duration": 183,
    "start_time": "2023-12-07T11:59:40.781Z"
   },
   {
    "duration": 0,
    "start_time": "2023-12-07T11:59:40.966Z"
   },
   {
    "duration": 0,
    "start_time": "2023-12-07T11:59:40.967Z"
   },
   {
    "duration": 0,
    "start_time": "2023-12-07T11:59:40.968Z"
   },
   {
    "duration": 0,
    "start_time": "2023-12-07T11:59:40.969Z"
   },
   {
    "duration": 0,
    "start_time": "2023-12-07T11:59:40.970Z"
   },
   {
    "duration": 0,
    "start_time": "2023-12-07T11:59:40.971Z"
   },
   {
    "duration": 0,
    "start_time": "2023-12-07T11:59:40.972Z"
   },
   {
    "duration": 0,
    "start_time": "2023-12-07T11:59:40.973Z"
   },
   {
    "duration": 0,
    "start_time": "2023-12-07T11:59:40.975Z"
   },
   {
    "duration": 0,
    "start_time": "2023-12-07T11:59:40.976Z"
   },
   {
    "duration": 0,
    "start_time": "2023-12-07T11:59:41.000Z"
   },
   {
    "duration": 0,
    "start_time": "2023-12-07T11:59:41.001Z"
   },
   {
    "duration": 0,
    "start_time": "2023-12-07T11:59:41.002Z"
   },
   {
    "duration": 0,
    "start_time": "2023-12-07T11:59:41.003Z"
   },
   {
    "duration": 0,
    "start_time": "2023-12-07T11:59:41.004Z"
   },
   {
    "duration": 0,
    "start_time": "2023-12-07T11:59:41.005Z"
   },
   {
    "duration": 0,
    "start_time": "2023-12-07T11:59:41.005Z"
   },
   {
    "duration": 0,
    "start_time": "2023-12-07T11:59:41.006Z"
   },
   {
    "duration": 4,
    "start_time": "2023-12-07T12:00:20.640Z"
   },
   {
    "duration": 10,
    "start_time": "2023-12-07T12:01:35.839Z"
   },
   {
    "duration": 10,
    "start_time": "2023-12-07T12:01:36.464Z"
   },
   {
    "duration": 3,
    "start_time": "2023-12-07T12:01:41.798Z"
   },
   {
    "duration": 5,
    "start_time": "2023-12-07T12:01:58.456Z"
   },
   {
    "duration": 4,
    "start_time": "2023-12-07T12:02:03.085Z"
   },
   {
    "duration": 4,
    "start_time": "2023-12-07T12:02:14.012Z"
   },
   {
    "duration": 4,
    "start_time": "2023-12-07T12:02:19.425Z"
   },
   {
    "duration": 7,
    "start_time": "2023-12-07T12:06:25.933Z"
   },
   {
    "duration": 4,
    "start_time": "2023-12-07T12:06:26.885Z"
   },
   {
    "duration": 4,
    "start_time": "2023-12-07T12:06:28.864Z"
   },
   {
    "duration": 4,
    "start_time": "2023-12-07T12:06:38.549Z"
   },
   {
    "duration": 27,
    "start_time": "2023-12-07T12:06:46.774Z"
   },
   {
    "duration": 4,
    "start_time": "2023-12-07T12:06:51.232Z"
   },
   {
    "duration": 4,
    "start_time": "2023-12-07T12:07:07.868Z"
   },
   {
    "duration": 2410,
    "start_time": "2023-12-07T12:08:57.436Z"
   },
   {
    "duration": 1821,
    "start_time": "2023-12-07T12:08:59.848Z"
   },
   {
    "duration": 3,
    "start_time": "2023-12-07T12:09:01.671Z"
   },
   {
    "duration": 166,
    "start_time": "2023-12-07T12:09:01.675Z"
   },
   {
    "duration": 64,
    "start_time": "2023-12-07T12:09:01.844Z"
   },
   {
    "duration": 70,
    "start_time": "2023-12-07T12:09:01.909Z"
   },
   {
    "duration": 52,
    "start_time": "2023-12-07T12:09:01.980Z"
   },
   {
    "duration": 97,
    "start_time": "2023-12-07T12:09:02.033Z"
   },
   {
    "duration": 602,
    "start_time": "2023-12-07T12:09:02.131Z"
   },
   {
    "duration": 962,
    "start_time": "2023-12-07T12:09:02.734Z"
   },
   {
    "duration": 4,
    "start_time": "2023-12-07T12:09:03.699Z"
   },
   {
    "duration": 23,
    "start_time": "2023-12-07T12:09:03.705Z"
   },
   {
    "duration": 28,
    "start_time": "2023-12-07T12:09:03.730Z"
   },
   {
    "duration": 4,
    "start_time": "2023-12-07T12:09:03.761Z"
   },
   {
    "duration": 14,
    "start_time": "2023-12-07T12:09:03.766Z"
   },
   {
    "duration": 20,
    "start_time": "2023-12-07T12:09:03.781Z"
   },
   {
    "duration": 337490,
    "start_time": "2023-12-07T12:09:03.803Z"
   },
   {
    "duration": 3,
    "start_time": "2023-12-07T12:14:41.294Z"
   },
   {
    "duration": 3535,
    "start_time": "2023-12-07T12:14:41.299Z"
   },
   {
    "duration": 4,
    "start_time": "2023-12-07T12:14:44.836Z"
   },
   {
    "duration": 2019302,
    "start_time": "2023-12-07T12:14:44.842Z"
   },
   {
    "duration": 4,
    "start_time": "2023-12-07T12:48:24.146Z"
   },
   {
    "duration": 7,
    "start_time": "2023-12-07T12:48:24.151Z"
   },
   {
    "duration": 132242,
    "start_time": "2023-12-07T12:48:24.159Z"
   },
   {
    "duration": 10,
    "start_time": "2023-12-07T12:50:36.402Z"
   },
   {
    "duration": 29598,
    "start_time": "2023-12-07T12:50:36.414Z"
   },
   {
    "duration": 87,
    "start_time": "2023-12-07T12:51:06.014Z"
   },
   {
    "duration": 497,
    "start_time": "2023-12-07T12:51:06.103Z"
   },
   {
    "duration": 5,
    "start_time": "2023-12-07T12:51:06.602Z"
   },
   {
    "duration": 90,
    "start_time": "2023-12-07T12:51:06.609Z"
   },
   {
    "duration": 19,
    "start_time": "2023-12-07T12:51:06.701Z"
   },
   {
    "duration": 3780,
    "start_time": "2023-12-07T12:52:02.198Z"
   },
   {
    "duration": 3,
    "start_time": "2023-12-07T12:52:05.980Z"
   },
   {
    "duration": 145,
    "start_time": "2023-12-07T12:53:08.954Z"
   },
   {
    "duration": 3427,
    "start_time": "2023-12-07T12:53:25.587Z"
   },
   {
    "duration": 4,
    "start_time": "2023-12-07T12:53:32.685Z"
   },
   {
    "duration": 5,
    "start_time": "2023-12-07T12:53:41.907Z"
   },
   {
    "duration": 7,
    "start_time": "2023-12-07T12:53:46.406Z"
   },
   {
    "duration": 6,
    "start_time": "2023-12-07T12:56:41.819Z"
   },
   {
    "duration": 6,
    "start_time": "2023-12-07T13:01:11.045Z"
   },
   {
    "duration": 454,
    "start_time": "2023-12-07T13:01:35.171Z"
   },
   {
    "duration": 5903,
    "start_time": "2023-12-07T13:06:08.514Z"
   },
   {
    "duration": 15585,
    "start_time": "2023-12-07T13:06:22.125Z"
   },
   {
    "duration": 15118,
    "start_time": "2023-12-07T13:07:18.372Z"
   },
   {
    "duration": 4,
    "start_time": "2023-12-07T13:07:33.492Z"
   },
   {
    "duration": 96,
    "start_time": "2023-12-07T13:56:31.834Z"
   },
   {
    "duration": 5,
    "start_time": "2023-12-07T14:22:15.675Z"
   },
   {
    "duration": 22,
    "start_time": "2023-12-07T14:22:31.267Z"
   },
   {
    "duration": 3,
    "start_time": "2023-12-07T14:23:39.430Z"
   },
   {
    "duration": 13,
    "start_time": "2023-12-07T14:23:41.037Z"
   },
   {
    "duration": 14,
    "start_time": "2023-12-07T14:23:46.054Z"
   },
   {
    "duration": 14,
    "start_time": "2023-12-07T14:23:48.617Z"
   },
   {
    "duration": 2462,
    "start_time": "2023-12-07T14:24:03.955Z"
   },
   {
    "duration": 4,
    "start_time": "2023-12-07T14:24:06.419Z"
   },
   {
    "duration": 4,
    "start_time": "2023-12-07T14:24:06.425Z"
   },
   {
    "duration": 53,
    "start_time": "2023-12-07T14:24:06.431Z"
   },
   {
    "duration": 3,
    "start_time": "2023-12-07T14:24:06.485Z"
   },
   {
    "duration": 11,
    "start_time": "2023-12-07T14:24:06.489Z"
   },
   {
    "duration": 13,
    "start_time": "2023-12-07T14:24:06.501Z"
   },
   {
    "duration": 4,
    "start_time": "2023-12-07T14:24:07.765Z"
   },
   {
    "duration": 431,
    "start_time": "2023-12-07T14:24:08.438Z"
   },
   {
    "duration": 857,
    "start_time": "2023-12-07T14:24:09.137Z"
   },
   {
    "duration": 3,
    "start_time": "2023-12-07T14:24:12.296Z"
   },
   {
    "duration": 8,
    "start_time": "2023-12-07T14:24:14.274Z"
   },
   {
    "duration": 4,
    "start_time": "2023-12-07T14:24:31.086Z"
   },
   {
    "duration": 6,
    "start_time": "2023-12-07T14:24:32.381Z"
   },
   {
    "duration": 16,
    "start_time": "2023-12-07T14:24:34.801Z"
   },
   {
    "duration": 4,
    "start_time": "2023-12-07T14:24:40.996Z"
   },
   {
    "duration": 6,
    "start_time": "2023-12-07T14:24:41.577Z"
   },
   {
    "duration": 4,
    "start_time": "2023-12-07T14:24:42.740Z"
   },
   {
    "duration": 74065,
    "start_time": "2023-12-07T14:24:47.140Z"
   },
   {
    "duration": 3,
    "start_time": "2023-12-07T14:26:01.206Z"
   },
   {
    "duration": 2347,
    "start_time": "2023-12-07T14:26:01.210Z"
   },
   {
    "duration": 4,
    "start_time": "2023-12-07T14:26:03.558Z"
   },
   {
    "duration": 2189121,
    "start_time": "2023-12-07T14:26:03.563Z"
   },
   {
    "duration": 5,
    "start_time": "2023-12-07T15:02:32.686Z"
   },
   {
    "duration": 29,
    "start_time": "2023-12-07T15:02:32.692Z"
   },
   {
    "duration": 157816,
    "start_time": "2023-12-07T15:02:32.722Z"
   },
   {
    "duration": 10,
    "start_time": "2023-12-07T15:05:10.540Z"
   },
   {
    "duration": 11955,
    "start_time": "2023-12-07T15:05:10.553Z"
   },
   {
    "duration": 3,
    "start_time": "2023-12-07T15:05:22.599Z"
   },
   {
    "duration": 9,
    "start_time": "2023-12-07T15:05:22.604Z"
   },
   {
    "duration": 93,
    "start_time": "2023-12-07T15:05:22.617Z"
   },
   {
    "duration": 71,
    "start_time": "2023-12-07T15:05:22.729Z"
   },
   {
    "duration": 28,
    "start_time": "2023-12-07T15:05:22.802Z"
   },
   {
    "duration": 15,
    "start_time": "2023-12-07T15:05:22.832Z"
   },
   {
    "duration": 4649,
    "start_time": "2023-12-07T20:05:21.257Z"
   },
   {
    "duration": 4659,
    "start_time": "2023-12-07T20:05:25.909Z"
   },
   {
    "duration": 3,
    "start_time": "2023-12-07T20:05:30.570Z"
   },
   {
    "duration": 174,
    "start_time": "2023-12-07T20:05:30.575Z"
   },
   {
    "duration": 3,
    "start_time": "2023-12-07T20:05:30.751Z"
   },
   {
    "duration": 71,
    "start_time": "2023-12-07T20:05:30.756Z"
   },
   {
    "duration": 63,
    "start_time": "2023-12-07T20:05:30.829Z"
   },
   {
    "duration": 50,
    "start_time": "2023-12-07T20:05:30.893Z"
   },
   {
    "duration": 616,
    "start_time": "2023-12-07T20:05:30.945Z"
   },
   {
    "duration": 1042,
    "start_time": "2023-12-07T20:05:31.563Z"
   },
   {
    "duration": 4,
    "start_time": "2023-12-07T20:05:32.607Z"
   },
   {
    "duration": 35,
    "start_time": "2023-12-07T20:05:32.612Z"
   },
   {
    "duration": 14,
    "start_time": "2023-12-07T20:05:32.649Z"
   },
   {
    "duration": 6,
    "start_time": "2023-12-07T20:05:32.665Z"
   },
   {
    "duration": 11,
    "start_time": "2023-12-07T20:05:32.672Z"
   },
   {
    "duration": 33,
    "start_time": "2023-12-07T20:05:32.685Z"
   },
   {
    "duration": 103176,
    "start_time": "2023-12-07T20:05:32.721Z"
   },
   {
    "duration": 3,
    "start_time": "2023-12-07T20:07:15.899Z"
   },
   {
    "duration": 1138,
    "start_time": "2023-12-07T20:07:15.903Z"
   },
   {
    "duration": 4,
    "start_time": "2023-12-07T20:07:17.042Z"
   },
   {
    "duration": 390331,
    "start_time": "2023-12-07T20:07:17.048Z"
   },
   {
    "duration": 0,
    "start_time": "2023-12-07T20:13:47.381Z"
   },
   {
    "duration": 0,
    "start_time": "2023-12-07T20:13:47.382Z"
   },
   {
    "duration": 0,
    "start_time": "2023-12-07T20:13:47.384Z"
   },
   {
    "duration": 0,
    "start_time": "2023-12-07T20:13:47.385Z"
   },
   {
    "duration": 0,
    "start_time": "2023-12-07T20:13:47.386Z"
   },
   {
    "duration": 0,
    "start_time": "2023-12-07T20:13:47.387Z"
   },
   {
    "duration": 0,
    "start_time": "2023-12-07T20:13:47.388Z"
   },
   {
    "duration": 0,
    "start_time": "2023-12-07T20:13:47.389Z"
   },
   {
    "duration": 0,
    "start_time": "2023-12-07T20:13:47.390Z"
   },
   {
    "duration": 0,
    "start_time": "2023-12-07T20:13:47.391Z"
   },
   {
    "duration": 0,
    "start_time": "2023-12-07T20:13:47.415Z"
   },
   {
    "duration": 10,
    "start_time": "2023-12-07T20:13:51.090Z"
   },
   {
    "duration": 12673,
    "start_time": "2023-12-07T20:13:51.349Z"
   },
   {
    "duration": 4,
    "start_time": "2023-12-07T20:14:04.114Z"
   },
   {
    "duration": 94,
    "start_time": "2023-12-07T20:14:04.121Z"
   },
   {
    "duration": 6,
    "start_time": "2023-12-07T20:14:04.219Z"
   },
   {
    "duration": 11,
    "start_time": "2023-12-07T20:14:04.316Z"
   },
   {
    "duration": 0,
    "start_time": "2023-12-07T20:14:04.328Z"
   },
   {
    "duration": 0,
    "start_time": "2023-12-07T20:14:04.329Z"
   },
   {
    "duration": 5,
    "start_time": "2023-12-07T20:14:09.555Z"
   },
   {
    "duration": 16,
    "start_time": "2023-12-07T20:14:30.437Z"
   },
   {
    "duration": 4,
    "start_time": "2023-12-07T20:14:32.949Z"
   },
   {
    "duration": 6,
    "start_time": "2023-12-07T20:14:33.327Z"
   },
   {
    "duration": 4,
    "start_time": "2023-12-07T20:14:34.061Z"
   },
   {
    "duration": 1111,
    "start_time": "2023-12-07T20:14:40.307Z"
   },
   {
    "duration": 4,
    "start_time": "2023-12-07T20:14:42.974Z"
   },
   {
    "duration": 6,
    "start_time": "2023-12-07T20:14:46.355Z"
   },
   {
    "duration": 6,
    "start_time": "2023-12-07T20:14:54.843Z"
   },
   {
    "duration": 4,
    "start_time": "2023-12-07T20:14:55.699Z"
   },
   {
    "duration": 7,
    "start_time": "2023-12-07T20:14:56.001Z"
   },
   {
    "duration": 4,
    "start_time": "2023-12-07T20:14:56.227Z"
   },
   {
    "duration": 1162,
    "start_time": "2023-12-07T20:14:58.507Z"
   },
   {
    "duration": 4,
    "start_time": "2023-12-07T20:14:59.670Z"
   },
   {
    "duration": 5,
    "start_time": "2023-12-07T20:15:01.233Z"
   },
   {
    "duration": 13,
    "start_time": "2023-12-07T20:15:06.197Z"
   },
   {
    "duration": 3,
    "start_time": "2023-12-07T20:16:23.971Z"
   },
   {
    "duration": 10,
    "start_time": "2023-12-07T20:16:24.222Z"
   },
   {
    "duration": 11,
    "start_time": "2023-12-07T20:16:29.905Z"
   },
   {
    "duration": 3,
    "start_time": "2023-12-07T20:16:33.715Z"
   },
   {
    "duration": 7,
    "start_time": "2023-12-07T20:16:33.910Z"
   },
   {
    "duration": 4,
    "start_time": "2023-12-07T20:16:34.065Z"
   },
   {
    "duration": 40626,
    "start_time": "2023-12-07T20:16:34.711Z"
   },
   {
    "duration": 0,
    "start_time": "2023-12-07T20:17:15.339Z"
   },
   {
    "duration": 0,
    "start_time": "2023-12-07T20:17:15.341Z"
   },
   {
    "duration": 15,
    "start_time": "2023-12-07T20:17:16.906Z"
   },
   {
    "duration": 4,
    "start_time": "2023-12-07T20:17:17.217Z"
   },
   {
    "duration": 4,
    "start_time": "2023-12-07T20:17:24.393Z"
   },
   {
    "duration": 544,
    "start_time": "2023-12-07T20:17:32.883Z"
   },
   {
    "duration": 4,
    "start_time": "2023-12-07T20:17:33.767Z"
   },
   {
    "duration": 6,
    "start_time": "2023-12-07T20:17:36.385Z"
   },
   {
    "duration": 53,
    "start_time": "2023-12-07T20:17:58.123Z"
   },
   {
    "duration": 659,
    "start_time": "2023-12-07T20:18:00.393Z"
   },
   {
    "duration": 3,
    "start_time": "2023-12-07T20:18:01.287Z"
   },
   {
    "duration": 1884,
    "start_time": "2023-12-07T20:18:02.923Z"
   },
   {
    "duration": 4,
    "start_time": "2023-12-07T20:18:04.809Z"
   },
   {
    "duration": 6,
    "start_time": "2023-12-07T20:18:06.863Z"
   },
   {
    "duration": 458,
    "start_time": "2023-12-07T20:18:10.401Z"
   },
   {
    "duration": 4,
    "start_time": "2023-12-07T20:18:10.860Z"
   },
   {
    "duration": 5,
    "start_time": "2023-12-07T20:18:12.641Z"
   },
   {
    "duration": 54,
    "start_time": "2023-12-07T20:18:20.339Z"
   },
   {
    "duration": 4,
    "start_time": "2023-12-07T20:18:20.733Z"
   },
   {
    "duration": 547,
    "start_time": "2023-12-07T20:18:22.267Z"
   },
   {
    "duration": 4,
    "start_time": "2023-12-07T20:18:22.816Z"
   },
   {
    "duration": 5,
    "start_time": "2023-12-07T20:18:25.333Z"
   },
   {
    "duration": 45012,
    "start_time": "2023-12-07T20:18:29.044Z"
   },
   {
    "duration": 4,
    "start_time": "2023-12-07T20:19:14.058Z"
   },
   {
    "duration": 4,
    "start_time": "2023-12-07T20:19:16.507Z"
   },
   {
    "duration": 5,
    "start_time": "2023-12-07T20:19:18.648Z"
   },
   {
    "duration": 566,
    "start_time": "2023-12-07T20:19:27.823Z"
   },
   {
    "duration": 46,
    "start_time": "2023-12-07T20:19:40.469Z"
   },
   {
    "duration": 13,
    "start_time": "2023-12-07T20:19:41.777Z"
   },
   {
    "duration": 12,
    "start_time": "2023-12-07T20:19:49.717Z"
   },
   {
    "duration": 7,
    "start_time": "2023-12-07T20:19:54.926Z"
   },
   {
    "duration": 551,
    "start_time": "2023-12-07T20:20:03.359Z"
   },
   {
    "duration": 4,
    "start_time": "2023-12-07T20:20:04.588Z"
   },
   {
    "duration": 5,
    "start_time": "2023-12-07T20:20:06.718Z"
   },
   {
    "duration": 3992,
    "start_time": "2023-12-07T20:25:56.470Z"
   },
   {
    "duration": 2035,
    "start_time": "2023-12-07T20:26:00.465Z"
   },
   {
    "duration": 3,
    "start_time": "2023-12-07T20:26:02.501Z"
   },
   {
    "duration": 167,
    "start_time": "2023-12-07T20:26:02.505Z"
   },
   {
    "duration": 3,
    "start_time": "2023-12-07T20:26:02.674Z"
   },
   {
    "duration": 16,
    "start_time": "2023-12-07T20:26:02.678Z"
   },
   {
    "duration": 14,
    "start_time": "2023-12-07T20:26:02.696Z"
   },
   {
    "duration": 3,
    "start_time": "2023-12-07T20:26:02.712Z"
   },
   {
    "duration": 547,
    "start_time": "2023-12-07T20:26:02.717Z"
   },
   {
    "duration": 970,
    "start_time": "2023-12-07T20:26:03.266Z"
   },
   {
    "duration": 4,
    "start_time": "2023-12-07T20:26:04.237Z"
   },
   {
    "duration": 9,
    "start_time": "2023-12-07T20:26:04.242Z"
   },
   {
    "duration": 29,
    "start_time": "2023-12-07T20:26:04.253Z"
   },
   {
    "duration": 4,
    "start_time": "2023-12-07T20:26:04.285Z"
   },
   {
    "duration": 23,
    "start_time": "2023-12-07T20:26:04.290Z"
   },
   {
    "duration": 6,
    "start_time": "2023-12-07T20:26:04.315Z"
   },
   {
    "duration": 69516,
    "start_time": "2023-12-07T20:26:04.322Z"
   },
   {
    "duration": 3,
    "start_time": "2023-12-07T20:27:13.840Z"
   },
   {
    "duration": 1356,
    "start_time": "2023-12-07T20:27:13.844Z"
   },
   {
    "duration": 3,
    "start_time": "2023-12-07T20:27:15.202Z"
   },
   {
    "duration": 2502727,
    "start_time": "2023-12-07T20:27:15.207Z"
   },
   {
    "duration": 5,
    "start_time": "2023-12-07T21:08:57.935Z"
   },
   {
    "duration": 26,
    "start_time": "2023-12-07T21:08:57.941Z"
   },
   {
    "duration": 130528,
    "start_time": "2023-12-07T21:08:57.968Z"
   },
   {
    "duration": 21,
    "start_time": "2023-12-07T21:11:08.497Z"
   },
   {
    "duration": 12903,
    "start_time": "2023-12-07T21:11:08.519Z"
   },
   {
    "duration": 97,
    "start_time": "2023-12-07T21:11:21.424Z"
   },
   {
    "duration": 94,
    "start_time": "2023-12-07T21:11:21.525Z"
   },
   {
    "duration": 4,
    "start_time": "2023-12-07T21:11:21.715Z"
   },
   {
    "duration": 95,
    "start_time": "2023-12-07T21:11:21.721Z"
   },
   {
    "duration": 13,
    "start_time": "2023-12-07T21:11:21.817Z"
   },
   {
    "duration": 11,
    "start_time": "2023-12-07T21:11:21.851Z"
   },
   {
    "duration": 2220,
    "start_time": "2023-12-07T21:11:21.863Z"
   },
   {
    "duration": 5,
    "start_time": "2023-12-07T21:11:24.084Z"
   }
  ],
  "kernelspec": {
   "display_name": "Python 3 (ipykernel)",
   "language": "python",
   "name": "python3"
  },
  "language_info": {
   "codemirror_mode": {
    "name": "ipython",
    "version": 3
   },
   "file_extension": ".py",
   "mimetype": "text/x-python",
   "name": "python",
   "nbconvert_exporter": "python",
   "pygments_lexer": "ipython3",
   "version": "3.11.4"
  },
  "toc": {
   "base_numbering": 1,
   "nav_menu": {},
   "number_sections": true,
   "sideBar": true,
   "skip_h1_title": true,
   "title_cell": "Содержание",
   "title_sidebar": "Contents",
   "toc_cell": true,
   "toc_position": {},
   "toc_section_display": true,
   "toc_window_display": true
  }
 },
 "nbformat": 4,
 "nbformat_minor": 2
}
