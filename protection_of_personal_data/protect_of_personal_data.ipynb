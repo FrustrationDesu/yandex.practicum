{
 "cells": [
  {
   "cell_type": "markdown",
   "metadata": {
    "toc": true
   },
   "source": [
    "<h1>Содержание<span class=\"tocSkip\"></span></h1>\n",
    "<div class=\"toc\"><ul class=\"toc-item\"><li><span><a href=\"#Загрузка-данных\" data-toc-modified-id=\"Загрузка-данных-1\"><span class=\"toc-item-num\">1&nbsp;&nbsp;</span>Загрузка данных</a></span></li><li><span><a href=\"#Умножение-матриц\" data-toc-modified-id=\"Умножение-матриц-2\"><span class=\"toc-item-num\">2&nbsp;&nbsp;</span>Умножение матриц</a></span></li><li><span><a href=\"#Алгоритм-преобразования\" data-toc-modified-id=\"Алгоритм-преобразования-3\"><span class=\"toc-item-num\">3&nbsp;&nbsp;</span>Алгоритм преобразования</a></span></li><li><span><a href=\"#Проверка-алгоритма\" data-toc-modified-id=\"Проверка-алгоритма-4\"><span class=\"toc-item-num\">4&nbsp;&nbsp;</span>Проверка алгоритма</a></span></li><li><span><a href=\"#Вывод\" data-toc-modified-id=\"Вывод-5\"><span class=\"toc-item-num\">5&nbsp;&nbsp;</span>Вывод</a></span></li><li><span><a href=\"#Чек-лист-проверки\" data-toc-modified-id=\"Чек-лист-проверки-6\"><span class=\"toc-item-num\">6&nbsp;&nbsp;</span>Чек-лист проверки</a></span></li></ul></div>"
   ]
  },
  {
   "cell_type": "markdown",
   "metadata": {},
   "source": [
    "# Защита персональных данных клиентов"
   ]
  },
  {
   "cell_type": "markdown",
   "metadata": {},
   "source": [
    "Вам нужно защитить данные клиентов страховой компании «Хоть потоп». Разработайте такой метод преобразования данных, чтобы по ним было сложно восстановить персональную информацию. Обоснуйте корректность его работы.\n",
    "\n",
    "Нужно защитить данные, чтобы при преобразовании качество моделей машинного обучения не ухудшилось. Подбирать наилучшую модель не требуется."
   ]
  },
  {
   "cell_type": "markdown",
   "metadata": {},
   "source": [
    "## Загрузка данных"
   ]
  },
  {
   "cell_type": "code",
   "execution_count": 1,
   "metadata": {},
   "outputs": [],
   "source": [
    "import pandas as pd\n",
    "import numpy as np\n",
    "from sklearn.model_selection import train_test_split\n",
    "from sklearn.linear_model import LinearRegression\n",
    "from sklearn.metrics import r2_score\n",
    "from sklearn.preprocessing import StandardScaler\n",
    "from sklearn.pipeline import make_pipeline\n",
    "from sklearn.compose import ColumnTransformer, make_column_selector, make_column_transformer"
   ]
  },
  {
   "cell_type": "code",
   "execution_count": 2,
   "metadata": {},
   "outputs": [],
   "source": [
    "RANDOM_STATE = 12345"
   ]
  },
  {
   "cell_type": "code",
   "execution_count": 3,
   "metadata": {},
   "outputs": [
    {
     "data": {
      "text/plain": [
       "Index(['Пол', 'Возраст', 'Зарплата', 'Члены семьи', 'Страховые выплаты'], dtype='object')"
      ]
     },
     "execution_count": 3,
     "metadata": {},
     "output_type": "execute_result"
    }
   ],
   "source": [
    "df = pd.read_csv('https://code.s3.yandex.net/datasets/insurance.csv')\n",
    "df.columns"
   ]
  },
  {
   "cell_type": "code",
   "execution_count": 4,
   "metadata": {
    "scrolled": true
   },
   "outputs": [
    {
     "name": "stdout",
     "output_type": "stream",
     "text": [
      "<class 'pandas.core.frame.DataFrame'>\n",
      "RangeIndex: 5000 entries, 0 to 4999\n",
      "Data columns (total 5 columns):\n",
      " #   Column             Non-Null Count  Dtype  \n",
      "---  ------             --------------  -----  \n",
      " 0   Пол                5000 non-null   int64  \n",
      " 1   Возраст            5000 non-null   float64\n",
      " 2   Зарплата           5000 non-null   float64\n",
      " 3   Члены семьи        5000 non-null   int64  \n",
      " 4   Страховые выплаты  5000 non-null   int64  \n",
      "dtypes: float64(2), int64(3)\n",
      "memory usage: 195.4 KB\n"
     ]
    }
   ],
   "source": [
    "df.info()"
   ]
  },
  {
   "cell_type": "code",
   "execution_count": 5,
   "metadata": {},
   "outputs": [
    {
     "data": {
      "text/html": [
       "<div>\n",
       "<style scoped>\n",
       "    .dataframe tbody tr th:only-of-type {\n",
       "        vertical-align: middle;\n",
       "    }\n",
       "\n",
       "    .dataframe tbody tr th {\n",
       "        vertical-align: top;\n",
       "    }\n",
       "\n",
       "    .dataframe thead th {\n",
       "        text-align: right;\n",
       "    }\n",
       "</style>\n",
       "<table border=\"1\" class=\"dataframe\">\n",
       "  <thead>\n",
       "    <tr style=\"text-align: right;\">\n",
       "      <th></th>\n",
       "      <th>Пол</th>\n",
       "      <th>Возраст</th>\n",
       "      <th>Зарплата</th>\n",
       "      <th>Члены семьи</th>\n",
       "      <th>Страховые выплаты</th>\n",
       "    </tr>\n",
       "  </thead>\n",
       "  <tbody>\n",
       "    <tr>\n",
       "      <th>count</th>\n",
       "      <td>5000.000000</td>\n",
       "      <td>5000.000000</td>\n",
       "      <td>5000.000000</td>\n",
       "      <td>5000.000000</td>\n",
       "      <td>5000.000000</td>\n",
       "    </tr>\n",
       "    <tr>\n",
       "      <th>mean</th>\n",
       "      <td>0.499000</td>\n",
       "      <td>30.952800</td>\n",
       "      <td>39916.360000</td>\n",
       "      <td>1.194200</td>\n",
       "      <td>0.148000</td>\n",
       "    </tr>\n",
       "    <tr>\n",
       "      <th>std</th>\n",
       "      <td>0.500049</td>\n",
       "      <td>8.440807</td>\n",
       "      <td>9900.083569</td>\n",
       "      <td>1.091387</td>\n",
       "      <td>0.463183</td>\n",
       "    </tr>\n",
       "    <tr>\n",
       "      <th>min</th>\n",
       "      <td>0.000000</td>\n",
       "      <td>18.000000</td>\n",
       "      <td>5300.000000</td>\n",
       "      <td>0.000000</td>\n",
       "      <td>0.000000</td>\n",
       "    </tr>\n",
       "    <tr>\n",
       "      <th>25%</th>\n",
       "      <td>0.000000</td>\n",
       "      <td>24.000000</td>\n",
       "      <td>33300.000000</td>\n",
       "      <td>0.000000</td>\n",
       "      <td>0.000000</td>\n",
       "    </tr>\n",
       "    <tr>\n",
       "      <th>50%</th>\n",
       "      <td>0.000000</td>\n",
       "      <td>30.000000</td>\n",
       "      <td>40200.000000</td>\n",
       "      <td>1.000000</td>\n",
       "      <td>0.000000</td>\n",
       "    </tr>\n",
       "    <tr>\n",
       "      <th>75%</th>\n",
       "      <td>1.000000</td>\n",
       "      <td>37.000000</td>\n",
       "      <td>46600.000000</td>\n",
       "      <td>2.000000</td>\n",
       "      <td>0.000000</td>\n",
       "    </tr>\n",
       "    <tr>\n",
       "      <th>max</th>\n",
       "      <td>1.000000</td>\n",
       "      <td>65.000000</td>\n",
       "      <td>79000.000000</td>\n",
       "      <td>6.000000</td>\n",
       "      <td>5.000000</td>\n",
       "    </tr>\n",
       "  </tbody>\n",
       "</table>\n",
       "</div>"
      ],
      "text/plain": [
       "               Пол      Возраст      Зарплата  Члены семьи  Страховые выплаты\n",
       "count  5000.000000  5000.000000   5000.000000  5000.000000        5000.000000\n",
       "mean      0.499000    30.952800  39916.360000     1.194200           0.148000\n",
       "std       0.500049     8.440807   9900.083569     1.091387           0.463183\n",
       "min       0.000000    18.000000   5300.000000     0.000000           0.000000\n",
       "25%       0.000000    24.000000  33300.000000     0.000000           0.000000\n",
       "50%       0.000000    30.000000  40200.000000     1.000000           0.000000\n",
       "75%       1.000000    37.000000  46600.000000     2.000000           0.000000\n",
       "max       1.000000    65.000000  79000.000000     6.000000           5.000000"
      ]
     },
     "execution_count": 5,
     "metadata": {},
     "output_type": "execute_result"
    }
   ],
   "source": [
    "df.describe()"
   ]
  },
  {
   "cell_type": "code",
   "execution_count": 6,
   "metadata": {},
   "outputs": [
    {
     "data": {
      "text/html": [
       "<div>\n",
       "<style scoped>\n",
       "    .dataframe tbody tr th:only-of-type {\n",
       "        vertical-align: middle;\n",
       "    }\n",
       "\n",
       "    .dataframe tbody tr th {\n",
       "        vertical-align: top;\n",
       "    }\n",
       "\n",
       "    .dataframe thead th {\n",
       "        text-align: right;\n",
       "    }\n",
       "</style>\n",
       "<table border=\"1\" class=\"dataframe\">\n",
       "  <thead>\n",
       "    <tr style=\"text-align: right;\">\n",
       "      <th></th>\n",
       "      <th>Пол</th>\n",
       "      <th>Возраст</th>\n",
       "      <th>Зарплата</th>\n",
       "      <th>Члены семьи</th>\n",
       "      <th>Страховые выплаты</th>\n",
       "    </tr>\n",
       "  </thead>\n",
       "  <tbody>\n",
       "    <tr>\n",
       "      <th>0</th>\n",
       "      <td>1</td>\n",
       "      <td>41.0</td>\n",
       "      <td>49600.0</td>\n",
       "      <td>1</td>\n",
       "      <td>0</td>\n",
       "    </tr>\n",
       "    <tr>\n",
       "      <th>1</th>\n",
       "      <td>0</td>\n",
       "      <td>46.0</td>\n",
       "      <td>38000.0</td>\n",
       "      <td>1</td>\n",
       "      <td>1</td>\n",
       "    </tr>\n",
       "    <tr>\n",
       "      <th>2</th>\n",
       "      <td>0</td>\n",
       "      <td>29.0</td>\n",
       "      <td>21000.0</td>\n",
       "      <td>0</td>\n",
       "      <td>0</td>\n",
       "    </tr>\n",
       "    <tr>\n",
       "      <th>3</th>\n",
       "      <td>0</td>\n",
       "      <td>21.0</td>\n",
       "      <td>41700.0</td>\n",
       "      <td>2</td>\n",
       "      <td>0</td>\n",
       "    </tr>\n",
       "    <tr>\n",
       "      <th>4</th>\n",
       "      <td>1</td>\n",
       "      <td>28.0</td>\n",
       "      <td>26100.0</td>\n",
       "      <td>0</td>\n",
       "      <td>0</td>\n",
       "    </tr>\n",
       "  </tbody>\n",
       "</table>\n",
       "</div>"
      ],
      "text/plain": [
       "   Пол  Возраст  Зарплата  Члены семьи  Страховые выплаты\n",
       "0    1     41.0   49600.0            1                  0\n",
       "1    0     46.0   38000.0            1                  1\n",
       "2    0     29.0   21000.0            0                  0\n",
       "3    0     21.0   41700.0            2                  0\n",
       "4    1     28.0   26100.0            0                  0"
      ]
     },
     "execution_count": 6,
     "metadata": {},
     "output_type": "execute_result"
    }
   ],
   "source": [
    "df.head()"
   ]
  },
  {
   "cell_type": "code",
   "execution_count": 7,
   "metadata": {},
   "outputs": [
    {
     "name": "stdout",
     "output_type": "stream",
     "text": [
      "Пол                  0\n",
      "Возраст              0\n",
      "Зарплата             0\n",
      "Члены семьи          0\n",
      "Страховые выплаты    0\n",
      "dtype: int64\n"
     ]
    },
    {
     "data": {
      "text/plain": [
       "153"
      ]
     },
     "execution_count": 7,
     "metadata": {},
     "output_type": "execute_result"
    }
   ],
   "source": [
    "print(df.isna().sum())\n",
    "df.duplicated().sum()"
   ]
  },
  {
   "cell_type": "code",
   "execution_count": 8,
   "metadata": {},
   "outputs": [
    {
     "data": {
      "text/html": [
       "<div>\n",
       "<style scoped>\n",
       "    .dataframe tbody tr th:only-of-type {\n",
       "        vertical-align: middle;\n",
       "    }\n",
       "\n",
       "    .dataframe tbody tr th {\n",
       "        vertical-align: top;\n",
       "    }\n",
       "\n",
       "    .dataframe thead th {\n",
       "        text-align: right;\n",
       "    }\n",
       "</style>\n",
       "<table border=\"1\" class=\"dataframe\">\n",
       "  <thead>\n",
       "    <tr style=\"text-align: right;\">\n",
       "      <th></th>\n",
       "      <th>Пол</th>\n",
       "      <th>Возраст</th>\n",
       "      <th>Зарплата</th>\n",
       "      <th>Члены семьи</th>\n",
       "      <th>Страховые выплаты</th>\n",
       "    </tr>\n",
       "  </thead>\n",
       "  <tbody>\n",
       "    <tr>\n",
       "      <th>0</th>\n",
       "      <td>1</td>\n",
       "      <td>41.0</td>\n",
       "      <td>49600.0</td>\n",
       "      <td>1</td>\n",
       "      <td>0</td>\n",
       "    </tr>\n",
       "    <tr>\n",
       "      <th>1</th>\n",
       "      <td>0</td>\n",
       "      <td>46.0</td>\n",
       "      <td>38000.0</td>\n",
       "      <td>1</td>\n",
       "      <td>1</td>\n",
       "    </tr>\n",
       "    <tr>\n",
       "      <th>2</th>\n",
       "      <td>0</td>\n",
       "      <td>29.0</td>\n",
       "      <td>21000.0</td>\n",
       "      <td>0</td>\n",
       "      <td>0</td>\n",
       "    </tr>\n",
       "    <tr>\n",
       "      <th>3</th>\n",
       "      <td>0</td>\n",
       "      <td>21.0</td>\n",
       "      <td>41700.0</td>\n",
       "      <td>2</td>\n",
       "      <td>0</td>\n",
       "    </tr>\n",
       "    <tr>\n",
       "      <th>4</th>\n",
       "      <td>1</td>\n",
       "      <td>28.0</td>\n",
       "      <td>26100.0</td>\n",
       "      <td>0</td>\n",
       "      <td>0</td>\n",
       "    </tr>\n",
       "    <tr>\n",
       "      <th>...</th>\n",
       "      <td>...</td>\n",
       "      <td>...</td>\n",
       "      <td>...</td>\n",
       "      <td>...</td>\n",
       "      <td>...</td>\n",
       "    </tr>\n",
       "    <tr>\n",
       "      <th>4995</th>\n",
       "      <td>0</td>\n",
       "      <td>28.0</td>\n",
       "      <td>35700.0</td>\n",
       "      <td>2</td>\n",
       "      <td>0</td>\n",
       "    </tr>\n",
       "    <tr>\n",
       "      <th>4996</th>\n",
       "      <td>0</td>\n",
       "      <td>34.0</td>\n",
       "      <td>52400.0</td>\n",
       "      <td>1</td>\n",
       "      <td>0</td>\n",
       "    </tr>\n",
       "    <tr>\n",
       "      <th>4997</th>\n",
       "      <td>0</td>\n",
       "      <td>20.0</td>\n",
       "      <td>33900.0</td>\n",
       "      <td>2</td>\n",
       "      <td>0</td>\n",
       "    </tr>\n",
       "    <tr>\n",
       "      <th>4998</th>\n",
       "      <td>1</td>\n",
       "      <td>22.0</td>\n",
       "      <td>32700.0</td>\n",
       "      <td>3</td>\n",
       "      <td>0</td>\n",
       "    </tr>\n",
       "    <tr>\n",
       "      <th>4999</th>\n",
       "      <td>1</td>\n",
       "      <td>28.0</td>\n",
       "      <td>40600.0</td>\n",
       "      <td>1</td>\n",
       "      <td>0</td>\n",
       "    </tr>\n",
       "  </tbody>\n",
       "</table>\n",
       "<p>4847 rows × 5 columns</p>\n",
       "</div>"
      ],
      "text/plain": [
       "      Пол  Возраст  Зарплата  Члены семьи  Страховые выплаты\n",
       "0       1     41.0   49600.0            1                  0\n",
       "1       0     46.0   38000.0            1                  1\n",
       "2       0     29.0   21000.0            0                  0\n",
       "3       0     21.0   41700.0            2                  0\n",
       "4       1     28.0   26100.0            0                  0\n",
       "...   ...      ...       ...          ...                ...\n",
       "4995    0     28.0   35700.0            2                  0\n",
       "4996    0     34.0   52400.0            1                  0\n",
       "4997    0     20.0   33900.0            2                  0\n",
       "4998    1     22.0   32700.0            3                  0\n",
       "4999    1     28.0   40600.0            1                  0\n",
       "\n",
       "[4847 rows x 5 columns]"
      ]
     },
     "execution_count": 8,
     "metadata": {},
     "output_type": "execute_result"
    }
   ],
   "source": [
    "df = df.drop_duplicates()\n",
    "df"
   ]
  },
  {
   "cell_type": "code",
   "execution_count": 9,
   "metadata": {},
   "outputs": [
    {
     "name": "stdout",
     "output_type": "stream",
     "text": [
      "Пол\n",
      "[1 0]\n",
      "Возраст\n",
      "[41. 46. 29. 21. 28. 43. 39. 25. 36. 32. 38. 23. 40. 34. 26. 42. 27. 33.\n",
      " 47. 30. 19. 31. 22. 20. 24. 18. 37. 48. 45. 44. 52. 49. 35. 56. 65. 55.\n",
      " 57. 54. 50. 53. 51. 58. 59. 60. 61. 62.]\n",
      "Зарплата\n",
      "[49600. 38000. 21000. 41700. 26100. 41000. 39700. 38600. 49700. 51700.\n",
      " 36600. 29300. 39500. 55000. 43700. 23300. 48900. 33200. 36900. 43500.\n",
      " 36100. 26600. 48700. 40400. 38400. 34600. 34800. 36800. 42200. 46300.\n",
      " 30300. 51000. 28100. 64800. 30400. 45300. 38300. 49500. 19400. 40200.\n",
      " 31700. 69200. 33100. 31600. 34500. 38700. 39600. 42400. 34900. 30500.\n",
      " 24200. 49900. 14300. 47000. 44800. 43800. 42700. 35400. 57200. 29600.\n",
      " 37400. 48100. 33700. 61800. 39400. 15600. 52600. 37600. 52500. 32700.\n",
      " 51600. 60900. 41800. 47400. 26500. 45900. 35700. 34300. 26700. 25700.\n",
      " 33300. 31100. 31500. 42100. 37300. 42500. 27300. 46800. 33500. 44300.\n",
      " 41600. 53900. 40100. 44600. 45000. 32000. 38200. 33000. 38500. 51800.\n",
      " 33800. 46400. 43200. 31800. 50200. 35100. 30700. 45800. 49300. 42800.\n",
      " 33600. 50300. 34000. 36400. 44900. 43600. 54600. 52800. 29700. 39000.\n",
      " 44100. 31900. 37700. 35200. 43100. 51300. 47500. 40800. 26800. 64900.\n",
      " 35900. 31200. 39900. 43300. 33900. 40700. 44700. 53400. 30600. 56000.\n",
      " 35600. 55200. 40600. 48300. 50800. 41200. 44200. 44400. 40500. 39800.\n",
      " 16600. 48400. 25100. 23100. 32100. 31000. 42900. 46700. 26000. 55900.\n",
      " 52000. 41500. 49400. 60300. 45600. 49000. 37500. 21900. 45100. 47900.\n",
      " 54300. 32400. 41300. 44500. 23200. 37900. 48000. 52100. 45700. 29900.\n",
      " 42600. 45200. 36000. 46500. 23800. 30200. 24400. 32800. 29000. 43400.\n",
      " 51500. 61700. 45400. 50700. 36200. 41900. 27900. 47200. 48800. 55100.\n",
      " 48200. 35500. 35000. 43900. 40000. 22000. 40300. 36300. 49800. 25600.\n",
      " 42300. 54900. 25500. 32900. 36700. 38900. 24700. 28800. 22900. 47300.\n",
      " 14500. 28700. 44000. 34100. 53000. 59300. 28500. 47100. 41400. 58900.\n",
      " 17500. 54200. 43000. 29800. 20000. 13800. 27500. 67700. 28000. 37100.\n",
      "  8900. 14600. 56200. 38800. 27700. 50500. 58400. 34700. 34400. 49100.\n",
      " 50900. 28200. 61500. 32500. 25900.  9800. 28300. 41100. 62000. 32600.\n",
      " 37200. 53800. 24000. 53600. 54800. 59600. 20200. 21700. 29200. 38100.\n",
      " 20700. 32300. 21200. 62100. 54000. 24500. 51900. 47800. 56100. 55300.\n",
      " 58100. 28900. 39100. 58000. 27200. 24600. 30100. 57100. 60100. 22200.\n",
      " 47700. 24900. 37800. 52700. 34200. 18700. 42000. 26300. 22600. 30900.\n",
      " 35800. 30800. 51100. 53300. 46200. 24100. 54700. 51200. 62300. 51400.\n",
      " 40900. 23400. 35300. 55800. 33400. 21300. 30000. 56700. 46900.  5300.\n",
      " 39200. 57500. 31300. 53700. 21600. 50000. 36500. 16400. 15900. 65100.\n",
      " 59900. 63200. 26200. 61200. 48500. 32200. 29100. 50100. 22700. 28600.\n",
      " 23500. 23700. 19600. 17800. 50600. 57900. 22500. 22100. 58300. 64100.\n",
      " 25000. 60400. 59100. 37000. 62400. 29500. 25800. 25400. 26900. 21500.\n",
      " 52200. 46600. 57300. 46100. 19300. 18900. 31400. 28400. 29400. 17600.\n",
      " 13900. 52400. 11300. 46000. 60500. 58700. 58200. 24800. 63700. 60600.\n",
      " 20400. 26400. 55600. 57000. 45500. 48600. 57600. 52900. 62800. 17000.\n",
      " 56500. 52300. 18400. 63300. 12900. 27000. 55700. 39300. 27800. 18300.\n",
      " 56300. 59800. 24300. 14400. 13400. 17900. 47600. 54500. 54400. 23900.\n",
      " 13000. 19900. 55400. 22800. 61000. 57400. 23000. 20500. 53200. 18100.\n",
      " 25300. 59500. 18200. 50400. 21100. 20900. 27400. 17300. 60700. 70600.\n",
      " 17700. 19700. 49200. 63100. 59200. 14700. 53100. 21800. 68000. 16500.\n",
      " 71400. 10000. 55500. 54100. 56400. 20600. 66300. 18800. 11000. 66100.\n",
      " 27100. 57800. 53500. 19200. 58500. 64000. 63600. 23600. 25200. 19100.\n",
      " 18600. 57700. 62700. 56600. 21400. 58800. 68400. 17100. 13300. 68500.\n",
      " 56900. 64400. 27600. 67200. 16200. 58600. 62200. 16000. 79000. 22300.\n",
      " 11200. 71600. 61300. 70500. 67100. 59000. 13500. 16700. 15700. 60000.\n",
      " 17400. 63400. 61900. 65200. 62600. 14100. 20100. 63800. 15100. 70000.\n",
      " 60200. 20300. 65900. 15200. 63500. 13200. 68900. 12200.  6000. 74800.\n",
      " 59700. 10800. 19000. 10600. 69400. 15000. 75200. 62500. 16300. 20800.\n",
      "  7400. 65300. 61400. 56800.]\n",
      "Члены семьи\n",
      "[1 0 2 4 3 5 6]\n",
      "Страховые выплаты\n",
      "[0 1 2 3 5 4]\n"
     ]
    }
   ],
   "source": [
    "for column in df:\n",
    "    print(column)\n",
    "    print(df[column].unique())"
   ]
  },
  {
   "cell_type": "markdown",
   "metadata": {},
   "source": [
    "Были дупликаты, их удалил"
   ]
  },
  {
   "cell_type": "code",
   "execution_count": 10,
   "metadata": {},
   "outputs": [],
   "source": [
    "target = df['Страховые выплаты']\n",
    "features = df.drop('Страховые выплаты', axis= 1)"
   ]
  },
  {
   "cell_type": "markdown",
   "metadata": {},
   "source": [
    "## Умножение матриц"
   ]
  },
  {
   "cell_type": "markdown",
   "metadata": {},
   "source": [
    "В этом задании вы можете записывать формулы в *Jupyter Notebook.*\n",
    "\n",
    "Чтобы записать формулу внутри текста, окружите её символами доллара \\\\$; если снаружи —  двойными символами \\\\$\\\\$. Эти формулы записываются на языке вёрстки *LaTeX.* \n",
    "\n",
    "Для примера мы записали формулы линейной регрессии. Можете их скопировать и отредактировать, чтобы решить задачу.\n",
    "\n",
    "Работать в *LaTeX* необязательно."
   ]
  },
  {
   "cell_type": "markdown",
   "metadata": {},
   "source": [
    "Обозначения:\n",
    "\n",
    "- $X$ — матрица признаков (нулевой столбец состоит из единиц)\n",
    "\n",
    "- $y$ — вектор целевого признака\n",
    "\n",
    "- $P$ — матрица, на которую умножаются признаки\n",
    "\n",
    "- $w$ — вектор весов линейной регрессии (нулевой элемент равен сдвигу)"
   ]
  },
  {
   "cell_type": "markdown",
   "metadata": {},
   "source": [
    "Предсказания:\n",
    "\n",
    "$$\n",
    "a = Xw\n",
    "$$\n",
    "\n",
    "Задача обучения:\n",
    "\n",
    "$$\n",
    "w = \\arg\\min_w MSE(Xw, y)\n",
    "$$\n",
    "\n",
    "Формула обучения:\n",
    "\n",
    "$$\n",
    "w = (X^T X)^{-1} X^T y\n",
    "$$"
   ]
  },
  {
   "cell_type": "markdown",
   "metadata": {},
   "source": [
    "**Ответ:** При умножении матрицы признаков на случайно сгенерированную матрицу результат модели не изменится\n",
    "\n",
    "**Обоснование:** У нас есть модель линейной регресии, которая описывается по формуле: $$ a = Xw + w0 $$\n",
    "\n",
    "\n",
    "\n",
    "Допустим, мы умножим матрицу признаков X на случайно сгенерированную матрицу A:\n",
    "\n",
    "$$ X' = XA $$ A - это случайно сгенерированная матрица.\n",
    "\n",
    "Тогда новая модель линейной регрессии будет выглядеть следующим образом:\n",
    "\n",
    "$$ a' = X'w' + w0' $$ \n",
    "где a' - новый вектор зависимой переменной, X' - новый вектор признаков, w' - новый вектор весов, w0' - новая величина сдвига предсказания.\n",
    "\n",
    "Тогда $$ X'w' = (XA)w' = X(Aw') $$ \n",
    "так как умножение матриц ассоциативно.\n",
    "\n",
    "Таким образом, новая модель линейной регрессии может быть записана как:\n",
    "\n",
    "$$ a' = X(Aw') + w0' = Xw + w0 = a $$\n",
    "\n",
    "Это означает, что результат модели линейной регрессии с умножением признаков на случайно сгенерированную матрицу будет таким же, как и без умножения."
   ]
  },
  {
   "cell_type": "markdown",
   "metadata": {},
   "source": [
    "Упрощённая запись формулы предсказания linearRegression <br>\n",
    "\n",
    "$$\n",
    "a = X_i w\n",
    "$$,\n",
    "где $X_i$ - новые строки признаков<br>\n",
    "Вместо параметра $w$ подставим формулу её вычисления:\n",
    "$$\n",
    "a = X_i w = X_i (X^T X)^{-1} X^T y\n",
    "$$\n",
    "\n",
    "Далее будем упрощать формулу используя принцип ассоциативности ($A(BC) = (AB)C$) и то, что транспонированное произведение матриц равно произведению транспонированных матриц взятых в обратном порядке ($(AB)^T = B^T A^T$):\n",
    "\n",
    "$$\n",
    "a = X_i (X^T X)^{-1} X^T y = X_iX^{-1}(X^T)^{-1}X^T y = X_iX^{-1}y\n",
    "$$\n",
    "\n",
    "При умножении признаков на случайную матрицу $P$, в которой число строк равно чилу столбцов $X$ и $P$ - обратима, то есть из матрицы $P$ можно получить матрицу $P^{-1}$, при этом $PP^{-1} = E$, где $E$ - единичная матрица <br>\n",
    "\n",
    "Обучая нашу на изменённых признаках (созданных умножением на случайно сгенерированную матрицу), то модель найдёт новые коэффициенты $w'$\n",
    "\n",
    "$$\n",
    "w' = ((XP)^T(XP))^{-1}(XP)^Ty\n",
    "$$\n",
    "\n",
    "Если подставить их в формулу предсказания и упростить выражение, то получится:\n",
    "\n",
    "$$\n",
    "a'= X_iPw' = X_iP((XP)^T(XP))^{-1}(XP)^Ty = X_iP(XP)^{-1}((XP)^T)^{-1}(XP)^Ty = X_iX^{-1}y\n",
    "$$\n",
    "\n",
    "В заключение, можно сказать, что результат модели не изменится при умножении исходных признаков на случайно сгенерированную матрицу и, что $a$ = $a'$\n"
   ]
  },
  {
   "cell_type": "markdown",
   "metadata": {},
   "source": [
    "$$\n",
    "a' = X^TX^{-1}X^Ty\n",
    "$$\n"
   ]
  },
  {
   "cell_type": "markdown",
   "metadata": {},
   "source": [
    "Наверное пользуясь свойством матрицы $$\n",
    "AE = EA = A\n",
    "$$\n",
    "\n",
    "можно сказать, что $$ w_p = Pw = PwX$$"
   ]
  },
  {
   "cell_type": "markdown",
   "metadata": {},
   "source": [
    "## Алгоритм преобразования"
   ]
  },
  {
   "cell_type": "markdown",
   "metadata": {},
   "source": [
    "**Алгоритм**\n",
    "- Проверка результатов обычной линейной регрессии.\n",
    "- Преобразование признаков методом StandardScaler.\n",
    "- Проверка результатов линейной регрессии с преобразованными StandardScaler признаками.\n",
    "- Составление новой матрицы, которая будет иметь размер исходной матрицы. \n",
    "- Вычисление детерминанта новой матрицы для удостоверения, что она обратима.\n",
    "- Преобразование новых признаков путем перемножения исходной матрицы на новую случайно сгенерированную.\n",
    "- Проверка результатов."
   ]
  },
  {
   "cell_type": "markdown",
   "metadata": {},
   "source": [
    "**Обоснование**\n",
    "\n",
    "Новая матрица должна быть такого же размера, как и матрица с исходными признаками, иначе не получится умножить. <br>\n",
    "А вычисление детерминанта сразу покажет нам являются ли новые признаки зависимыми от предыдущих, без этого доказательство будет нелегитимно "
   ]
  },
  {
   "cell_type": "markdown",
   "metadata": {},
   "source": [
    "## Проверка алгоритма"
   ]
  },
  {
   "cell_type": "markdown",
   "metadata": {},
   "source": [
    "Для проверки алгоритма сперва потребуется разделить на выборки train и test"
   ]
  },
  {
   "cell_type": "code",
   "execution_count": 11,
   "metadata": {},
   "outputs": [],
   "source": [
    "train_features, test_features,  train_target, test_target = train_test_split(\n",
    "features, target, test_size= 0.25, random_state= RANDOM_STATE)"
   ]
  },
  {
   "cell_type": "code",
   "execution_count": 12,
   "metadata": {
    "scrolled": true
   },
   "outputs": [
    {
     "name": "stdout",
     "output_type": "stream",
     "text": [
      "Результат без преобразований 0.42307727492147584\n"
     ]
    }
   ],
   "source": [
    "model = LinearRegression()\n",
    "model.fit(train_features, train_target)\n",
    "model_predict = model.predict(test_features)\n",
    "score = r2_score(test_target, model_predict)\n",
    "print('Результат без преобразований',score)"
   ]
  },
  {
   "cell_type": "code",
   "execution_count": 16,
   "metadata": {
    "scrolled": true
   },
   "outputs": [
    {
     "data": {
      "text/plain": [
       "Index(['Пол', 'Возраст', 'Зарплата', 'Члены семьи', 'Страховые выплаты'], dtype='object')"
      ]
     },
     "execution_count": 16,
     "metadata": {},
     "output_type": "execute_result"
    }
   ],
   "source": [
    "df.columns"
   ]
  },
  {
   "cell_type": "code",
   "execution_count": 17,
   "metadata": {},
   "outputs": [],
   "source": [
    "num_columns = ['Пол', 'Возраст', 'Зарплата', 'Члены семьи']\n",
    "target_column = ['Страховые выплаты']"
   ]
  },
  {
   "cell_type": "code",
   "execution_count": 18,
   "metadata": {},
   "outputs": [
    {
     "data": {
      "text/plain": [
       "Pipeline(steps=[('standardscaler', StandardScaler())])"
      ]
     },
     "execution_count": 18,
     "metadata": {},
     "output_type": "execute_result"
    }
   ],
   "source": [
    "num_pipeline = make_pipeline(StandardScaler())\n",
    "num_pipeline"
   ]
  },
  {
   "cell_type": "code",
   "execution_count": 19,
   "metadata": {},
   "outputs": [
    {
     "data": {
      "text/plain": [
       "Pipeline(steps=[('pipeline',\n",
       "                 Pipeline(steps=[('standardscaler', StandardScaler())])),\n",
       "                ('linearregression', LinearRegression())])"
      ]
     },
     "execution_count": 19,
     "metadata": {},
     "output_type": "execute_result"
    }
   ],
   "source": [
    "pipeline = make_pipeline(num_pipeline, LinearRegression())\n",
    "pipeline"
   ]
  },
  {
   "cell_type": "code",
   "execution_count": 20,
   "metadata": {
    "scrolled": true
   },
   "outputs": [
    {
     "data": {
      "text/plain": [
       "Pipeline(steps=[('pipeline',\n",
       "                 Pipeline(steps=[('standardscaler', StandardScaler())])),\n",
       "                ('linearregression', LinearRegression())])"
      ]
     },
     "execution_count": 20,
     "metadata": {},
     "output_type": "execute_result"
    }
   ],
   "source": [
    "pipeline.fit(train_features, train_target)"
   ]
  },
  {
   "cell_type": "code",
   "execution_count": 21,
   "metadata": {
    "scrolled": true
   },
   "outputs": [
    {
     "name": "stdout",
     "output_type": "stream",
     "text": [
      "Результат модели Pipeline с standardScaler 0.4230772749214825\n"
     ]
    }
   ],
   "source": [
    "pipeline_predict = pipeline.predict(test_features)\n",
    "score_pipeline = r2_score(test_target, pipeline_predict)\n",
    "print('Результат модели Pipeline с standardScaler', score_pipeline)"
   ]
  },
  {
   "cell_type": "markdown",
   "metadata": {},
   "source": [
    "Результаты  почти не отличаются, отличия лишь в конце, но это вроде как проблема Python, а не из-за ошибки эксперимента."
   ]
  },
  {
   "cell_type": "markdown",
   "metadata": {},
   "source": [
    "Теперь нужно написать функцию, которая вернет рандомно сгенерированную матрицу"
   ]
  },
  {
   "cell_type": "code",
   "execution_count": 22,
   "metadata": {},
   "outputs": [],
   "source": [
    "def random_features(features):\n",
    "    new_features = features\n",
    "    n = features.shape[1]\n",
    "    np.random.seed(RANDOM_STATE)\n",
    "    new_matrix = np.random.randint(1, 10, (n,n))\n",
    "    determinant = np.linalg.det(new_matrix)\n",
    "    while determinant == 0:\n",
    "        new_matrix = np.random.randint(1, 10, (n,n))\n",
    "        determinant = np.linalg.det(new_matrix)\n",
    "    new_features = new_features @ new_matrix\n",
    "    return new_features"
   ]
  },
  {
   "cell_type": "code",
   "execution_count": 23,
   "metadata": {},
   "outputs": [
    {
     "data": {
      "text/html": [
       "<div>\n",
       "<style scoped>\n",
       "    .dataframe tbody tr th:only-of-type {\n",
       "        vertical-align: middle;\n",
       "    }\n",
       "\n",
       "    .dataframe tbody tr th {\n",
       "        vertical-align: top;\n",
       "    }\n",
       "\n",
       "    .dataframe thead th {\n",
       "        text-align: right;\n",
       "    }\n",
       "</style>\n",
       "<table border=\"1\" class=\"dataframe\">\n",
       "  <thead>\n",
       "    <tr style=\"text-align: right;\">\n",
       "      <th></th>\n",
       "      <th>Пол</th>\n",
       "      <th>Возраст</th>\n",
       "      <th>Зарплата</th>\n",
       "      <th>Члены семьи</th>\n",
       "    </tr>\n",
       "  </thead>\n",
       "  <tbody>\n",
       "    <tr>\n",
       "      <th>0</th>\n",
       "      <td>1</td>\n",
       "      <td>41.0</td>\n",
       "      <td>49600.0</td>\n",
       "      <td>1</td>\n",
       "    </tr>\n",
       "    <tr>\n",
       "      <th>1</th>\n",
       "      <td>0</td>\n",
       "      <td>46.0</td>\n",
       "      <td>38000.0</td>\n",
       "      <td>1</td>\n",
       "    </tr>\n",
       "    <tr>\n",
       "      <th>2</th>\n",
       "      <td>0</td>\n",
       "      <td>29.0</td>\n",
       "      <td>21000.0</td>\n",
       "      <td>0</td>\n",
       "    </tr>\n",
       "    <tr>\n",
       "      <th>3</th>\n",
       "      <td>0</td>\n",
       "      <td>21.0</td>\n",
       "      <td>41700.0</td>\n",
       "      <td>2</td>\n",
       "    </tr>\n",
       "    <tr>\n",
       "      <th>4</th>\n",
       "      <td>1</td>\n",
       "      <td>28.0</td>\n",
       "      <td>26100.0</td>\n",
       "      <td>0</td>\n",
       "    </tr>\n",
       "  </tbody>\n",
       "</table>\n",
       "</div>"
      ],
      "text/plain": [
       "   Пол  Возраст  Зарплата  Члены семьи\n",
       "0    1     41.0   49600.0            1\n",
       "1    0     46.0   38000.0            1\n",
       "2    0     29.0   21000.0            0\n",
       "3    0     21.0   41700.0            2\n",
       "4    1     28.0   26100.0            0"
      ]
     },
     "metadata": {},
     "output_type": "display_data"
    },
    {
     "data": {
      "text/html": [
       "<div>\n",
       "<style scoped>\n",
       "    .dataframe tbody tr th:only-of-type {\n",
       "        vertical-align: middle;\n",
       "    }\n",
       "\n",
       "    .dataframe tbody tr th {\n",
       "        vertical-align: top;\n",
       "    }\n",
       "\n",
       "    .dataframe thead th {\n",
       "        text-align: right;\n",
       "    }\n",
       "</style>\n",
       "<table border=\"1\" class=\"dataframe\">\n",
       "  <thead>\n",
       "    <tr style=\"text-align: right;\">\n",
       "      <th></th>\n",
       "      <th>0</th>\n",
       "      <th>1</th>\n",
       "      <th>2</th>\n",
       "      <th>3</th>\n",
       "    </tr>\n",
       "  </thead>\n",
       "  <tbody>\n",
       "    <tr>\n",
       "      <th>0</th>\n",
       "      <td>99452.0</td>\n",
       "      <td>396931.0</td>\n",
       "      <td>347287.0</td>\n",
       "      <td>49899.0</td>\n",
       "    </tr>\n",
       "    <tr>\n",
       "      <th>1</th>\n",
       "      <td>76279.0</td>\n",
       "      <td>304140.0</td>\n",
       "      <td>266095.0</td>\n",
       "      <td>38329.0</td>\n",
       "    </tr>\n",
       "    <tr>\n",
       "      <th>2</th>\n",
       "      <td>42174.0</td>\n",
       "      <td>168087.0</td>\n",
       "      <td>147058.0</td>\n",
       "      <td>21203.0</td>\n",
       "    </tr>\n",
       "    <tr>\n",
       "      <th>3</th>\n",
       "      <td>83532.0</td>\n",
       "      <td>333667.0</td>\n",
       "      <td>291948.0</td>\n",
       "      <td>41861.0</td>\n",
       "    </tr>\n",
       "    <tr>\n",
       "      <th>4</th>\n",
       "      <td>52371.0</td>\n",
       "      <td>208890.0</td>\n",
       "      <td>182758.0</td>\n",
       "      <td>26301.0</td>\n",
       "    </tr>\n",
       "  </tbody>\n",
       "</table>\n",
       "</div>"
      ],
      "text/plain": [
       "         0         1         2        3\n",
       "0  99452.0  396931.0  347287.0  49899.0\n",
       "1  76279.0  304140.0  266095.0  38329.0\n",
       "2  42174.0  168087.0  147058.0  21203.0\n",
       "3  83532.0  333667.0  291948.0  41861.0\n",
       "4  52371.0  208890.0  182758.0  26301.0"
      ]
     },
     "metadata": {},
     "output_type": "display_data"
    }
   ],
   "source": [
    "display(features.head())\n",
    "new_features = random_features(features)\n",
    "display(new_features.head())"
   ]
  },
  {
   "cell_type": "markdown",
   "metadata": {},
   "source": [
    "Результаты привычной нам таблицы сильно изменились и функция не выдала ошибку, детерминант не был равен нулю."
   ]
  },
  {
   "cell_type": "code",
   "execution_count": 24,
   "metadata": {},
   "outputs": [],
   "source": [
    "train_features, test_features,  train_target, test_target = train_test_split(\n",
    "new_features, target, test_size= 0.25, random_state= RANDOM_STATE)"
   ]
  },
  {
   "cell_type": "code",
   "execution_count": 25,
   "metadata": {},
   "outputs": [
    {
     "name": "stdout",
     "output_type": "stream",
     "text": [
      "Результат модели Pipeline с standardScaler для признаков с умножением на случайно сгенерированную матрицу 0.4230772749215038\n"
     ]
    }
   ],
   "source": [
    "pipeline.fit(train_features, train_target)\n",
    "new_pipeline_predict = pipeline.predict(test_features)\n",
    "new_score_pipeline = r2_score(test_target, new_pipeline_predict)\n",
    "print('Результат модели Pipeline с standardScaler для признаков с умножением на случайно сгенерированную матрицу',\n",
    "      new_score_pipeline)"
   ]
  },
  {
   "cell_type": "markdown",
   "metadata": {},
   "source": [
    "Для исходной матрицы были точно такие же результаты. Такие же результаты были у модели с standardscaler <br>\n",
    "И такие же результаты у модели с случайно сгенерированной матрицей "
   ]
  },
  {
   "cell_type": "markdown",
   "metadata": {},
   "source": [
    "## Вывод\n"
   ]
  },
  {
   "cell_type": "markdown",
   "metadata": {},
   "source": [
    "Метод защиты персональных данных клиентов путем умножения исходных значений признаков на рандомно сгенерированную матрицу позволяет получить такой же результат предикта Линейной регрессии. "
   ]
  },
  {
   "cell_type": "markdown",
   "metadata": {},
   "source": [
    "## Чек-лист проверки"
   ]
  },
  {
   "cell_type": "markdown",
   "metadata": {},
   "source": [
    "Поставьте 'x' в выполненных пунктах. Далее нажмите Shift+Enter."
   ]
  }
 ],
 "metadata": {
  "ExecuteTimeLog": [
   {
    "duration": 473,
    "start_time": "2023-08-30T10:56:12.290Z"
   },
   {
    "duration": 25,
    "start_time": "2023-08-30T11:07:00.495Z"
   },
   {
    "duration": 3,
    "start_time": "2023-08-30T11:07:24.224Z"
   },
   {
    "duration": 84,
    "start_time": "2023-08-30T11:07:54.970Z"
   },
   {
    "duration": 13,
    "start_time": "2023-08-30T11:08:13.088Z"
   },
   {
    "duration": 38,
    "start_time": "2023-08-30T11:08:20.021Z"
   },
   {
    "duration": 20,
    "start_time": "2023-08-30T11:08:27.592Z"
   },
   {
    "duration": 17,
    "start_time": "2023-08-30T11:08:44.937Z"
   },
   {
    "duration": 32,
    "start_time": "2023-08-30T11:12:13.997Z"
   },
   {
    "duration": 1778,
    "start_time": "2023-08-30T11:12:34.715Z"
   },
   {
    "duration": 18,
    "start_time": "2023-08-30T11:12:52.489Z"
   },
   {
    "duration": 3,
    "start_time": "2023-08-30T11:13:23.119Z"
   },
   {
    "duration": 7,
    "start_time": "2023-08-30T11:13:29.334Z"
   },
   {
    "duration": 3,
    "start_time": "2023-08-30T11:13:35.831Z"
   },
   {
    "duration": 19,
    "start_time": "2023-08-30T11:13:41.035Z"
   },
   {
    "duration": 10,
    "start_time": "2023-08-30T11:13:55.597Z"
   },
   {
    "duration": 9,
    "start_time": "2023-08-30T11:14:05.664Z"
   },
   {
    "duration": 5,
    "start_time": "2023-08-30T11:22:55.709Z"
   },
   {
    "duration": 3,
    "start_time": "2023-08-30T11:23:02.492Z"
   },
   {
    "duration": 30,
    "start_time": "2023-08-30T11:23:12.186Z"
   },
   {
    "duration": 4,
    "start_time": "2023-08-30T11:23:13.130Z"
   },
   {
    "duration": 3,
    "start_time": "2023-08-30T11:23:13.727Z"
   },
   {
    "duration": 3,
    "start_time": "2023-08-30T11:23:22.101Z"
   },
   {
    "duration": 7,
    "start_time": "2023-08-30T11:23:32.719Z"
   },
   {
    "duration": 436,
    "start_time": "2023-08-30T11:23:49.395Z"
   },
   {
    "duration": 5,
    "start_time": "2023-08-30T11:23:49.833Z"
   },
   {
    "duration": 3,
    "start_time": "2023-08-30T11:24:17.330Z"
   },
   {
    "duration": 2082,
    "start_time": "2023-08-30T11:24:37.766Z"
   },
   {
    "duration": 30,
    "start_time": "2023-08-30T11:24:58.706Z"
   },
   {
    "duration": 4,
    "start_time": "2023-08-30T11:25:07.504Z"
   },
   {
    "duration": 3,
    "start_time": "2023-08-30T11:25:09.978Z"
   },
   {
    "duration": 15,
    "start_time": "2023-08-30T11:25:12.972Z"
   },
   {
    "duration": 2935,
    "start_time": "2023-08-30T11:25:30.706Z"
   },
   {
    "duration": 7,
    "start_time": "2023-08-30T11:25:46.992Z"
   },
   {
    "duration": 447,
    "start_time": "2023-08-30T11:26:04.752Z"
   },
   {
    "duration": 4,
    "start_time": "2023-08-30T11:26:05.201Z"
   },
   {
    "duration": 58,
    "start_time": "2023-08-30T11:26:05.207Z"
   },
   {
    "duration": 8,
    "start_time": "2023-08-30T11:26:05.267Z"
   },
   {
    "duration": 35,
    "start_time": "2023-08-30T11:29:03.986Z"
   },
   {
    "duration": 4,
    "start_time": "2023-08-30T11:29:05.546Z"
   },
   {
    "duration": 13,
    "start_time": "2023-08-30T11:29:06.785Z"
   },
   {
    "duration": 16,
    "start_time": "2023-08-30T11:29:08.167Z"
   },
   {
    "duration": 6,
    "start_time": "2023-08-30T11:29:24.292Z"
   },
   {
    "duration": 14,
    "start_time": "2023-08-30T11:30:15.554Z"
   },
   {
    "duration": 9,
    "start_time": "2023-08-30T11:30:21.987Z"
   },
   {
    "duration": 11,
    "start_time": "2023-08-30T11:30:28.466Z"
   },
   {
    "duration": 9,
    "start_time": "2023-08-30T11:30:39.542Z"
   },
   {
    "duration": 24,
    "start_time": "2023-08-30T11:30:43.309Z"
   },
   {
    "duration": 8,
    "start_time": "2023-08-30T11:31:02.687Z"
   },
   {
    "duration": 7,
    "start_time": "2023-08-30T11:31:13.005Z"
   },
   {
    "duration": 5,
    "start_time": "2023-08-30T11:31:24.481Z"
   },
   {
    "duration": 9,
    "start_time": "2023-08-30T11:31:38.968Z"
   },
   {
    "duration": 10,
    "start_time": "2023-08-30T11:31:46.877Z"
   },
   {
    "duration": 64,
    "start_time": "2023-08-30T11:41:27.028Z"
   },
   {
    "duration": 3,
    "start_time": "2023-08-30T11:41:44.045Z"
   },
   {
    "duration": 6,
    "start_time": "2023-08-30T11:41:48.286Z"
   },
   {
    "duration": 4,
    "start_time": "2023-08-30T11:44:44.345Z"
   },
   {
    "duration": 5,
    "start_time": "2023-08-30T11:44:50.392Z"
   },
   {
    "duration": 10,
    "start_time": "2023-08-30T11:49:37.092Z"
   },
   {
    "duration": 5,
    "start_time": "2023-08-30T11:49:58.609Z"
   },
   {
    "duration": 8,
    "start_time": "2023-08-30T11:54:56.587Z"
   },
   {
    "duration": 861,
    "start_time": "2023-08-30T11:56:37.925Z"
   },
   {
    "duration": 906,
    "start_time": "2023-08-30T11:57:04.188Z"
   },
   {
    "duration": 11,
    "start_time": "2023-08-30T11:57:16.205Z"
   },
   {
    "duration": 17,
    "start_time": "2023-08-30T12:00:47.492Z"
   },
   {
    "duration": 6,
    "start_time": "2023-08-30T12:01:04.432Z"
   },
   {
    "duration": 16,
    "start_time": "2023-08-30T12:01:08.322Z"
   },
   {
    "duration": 12,
    "start_time": "2023-08-30T12:02:16.753Z"
   },
   {
    "duration": 14,
    "start_time": "2023-08-30T12:02:23.510Z"
   },
   {
    "duration": 5,
    "start_time": "2023-08-30T12:02:54.141Z"
   },
   {
    "duration": 9,
    "start_time": "2023-08-30T12:03:06.364Z"
   },
   {
    "duration": 9,
    "start_time": "2023-08-30T12:03:23.259Z"
   },
   {
    "duration": 447,
    "start_time": "2023-08-30T12:04:13.936Z"
   },
   {
    "duration": 36,
    "start_time": "2023-08-30T12:04:14.385Z"
   },
   {
    "duration": 89,
    "start_time": "2023-08-30T12:04:14.422Z"
   },
   {
    "duration": 0,
    "start_time": "2023-08-30T12:04:14.513Z"
   },
   {
    "duration": 0,
    "start_time": "2023-08-30T12:04:14.514Z"
   },
   {
    "duration": 0,
    "start_time": "2023-08-30T12:04:14.515Z"
   },
   {
    "duration": 0,
    "start_time": "2023-08-30T12:04:14.516Z"
   },
   {
    "duration": 0,
    "start_time": "2023-08-30T12:04:14.517Z"
   },
   {
    "duration": 0,
    "start_time": "2023-08-30T12:04:14.518Z"
   },
   {
    "duration": 0,
    "start_time": "2023-08-30T12:04:14.519Z"
   },
   {
    "duration": 0,
    "start_time": "2023-08-30T12:04:14.520Z"
   },
   {
    "duration": 0,
    "start_time": "2023-08-30T12:04:14.521Z"
   },
   {
    "duration": 0,
    "start_time": "2023-08-30T12:04:14.522Z"
   },
   {
    "duration": 0,
    "start_time": "2023-08-30T12:04:14.524Z"
   },
   {
    "duration": 421,
    "start_time": "2023-08-30T12:04:24.350Z"
   },
   {
    "duration": 34,
    "start_time": "2023-08-30T12:04:24.773Z"
   },
   {
    "duration": 10,
    "start_time": "2023-08-30T12:04:24.809Z"
   },
   {
    "duration": 40,
    "start_time": "2023-08-30T12:04:24.821Z"
   },
   {
    "duration": 16,
    "start_time": "2023-08-30T12:04:24.864Z"
   },
   {
    "duration": 24,
    "start_time": "2023-08-30T12:04:24.881Z"
   },
   {
    "duration": 17,
    "start_time": "2023-08-30T12:04:24.907Z"
   },
   {
    "duration": 16,
    "start_time": "2023-08-30T12:04:24.926Z"
   },
   {
    "duration": 4,
    "start_time": "2023-08-30T12:04:24.943Z"
   },
   {
    "duration": 23,
    "start_time": "2023-08-30T12:04:24.949Z"
   },
   {
    "duration": 38,
    "start_time": "2023-08-30T12:04:24.974Z"
   },
   {
    "duration": 53,
    "start_time": "2023-08-30T12:04:25.014Z"
   },
   {
    "duration": 75,
    "start_time": "2023-08-30T12:04:25.068Z"
   },
   {
    "duration": 3,
    "start_time": "2023-08-30T12:05:36.226Z"
   },
   {
    "duration": 4,
    "start_time": "2023-08-30T12:05:39.866Z"
   },
   {
    "duration": 741,
    "start_time": "2023-08-30T12:06:47.769Z"
   },
   {
    "duration": 9,
    "start_time": "2023-08-30T12:08:11.157Z"
   },
   {
    "duration": 5,
    "start_time": "2023-08-30T12:08:17.616Z"
   },
   {
    "duration": 4,
    "start_time": "2023-08-30T12:09:43.872Z"
   },
   {
    "duration": 4,
    "start_time": "2023-08-30T12:09:44.643Z"
   },
   {
    "duration": 2,
    "start_time": "2023-08-30T12:09:46.275Z"
   },
   {
    "duration": 6,
    "start_time": "2023-08-30T12:09:46.981Z"
   },
   {
    "duration": 5,
    "start_time": "2023-08-30T12:09:47.465Z"
   },
   {
    "duration": 5,
    "start_time": "2023-08-30T12:09:58.261Z"
   },
   {
    "duration": 4,
    "start_time": "2023-08-30T12:09:58.773Z"
   },
   {
    "duration": 5,
    "start_time": "2023-08-30T13:42:54.172Z"
   },
   {
    "duration": 3,
    "start_time": "2023-08-30T14:00:50.193Z"
   },
   {
    "duration": 42,
    "start_time": "2023-08-30T14:00:56.562Z"
   },
   {
    "duration": 3,
    "start_time": "2023-08-30T14:01:33.828Z"
   },
   {
    "duration": 5,
    "start_time": "2023-08-30T14:01:35.008Z"
   },
   {
    "duration": 9,
    "start_time": "2023-08-30T14:04:16.982Z"
   },
   {
    "duration": 10,
    "start_time": "2023-08-30T14:04:56.781Z"
   },
   {
    "duration": 9902,
    "start_time": "2023-08-30T14:05:13.516Z"
   },
   {
    "duration": 24,
    "start_time": "2023-08-30T14:05:29.253Z"
   },
   {
    "duration": 42,
    "start_time": "2023-08-30T14:06:44.930Z"
   },
   {
    "duration": 460,
    "start_time": "2023-08-30T14:08:02.834Z"
   },
   {
    "duration": 3,
    "start_time": "2023-08-30T14:08:03.296Z"
   },
   {
    "duration": 38,
    "start_time": "2023-08-30T14:08:03.301Z"
   },
   {
    "duration": 10,
    "start_time": "2023-08-30T14:08:03.341Z"
   },
   {
    "duration": 24,
    "start_time": "2023-08-30T14:08:03.353Z"
   },
   {
    "duration": 8,
    "start_time": "2023-08-30T14:08:03.379Z"
   },
   {
    "duration": 9,
    "start_time": "2023-08-30T14:08:03.389Z"
   },
   {
    "duration": 14,
    "start_time": "2023-08-30T14:08:03.399Z"
   },
   {
    "duration": 24,
    "start_time": "2023-08-30T14:08:03.414Z"
   },
   {
    "duration": 26,
    "start_time": "2023-08-30T14:08:03.441Z"
   },
   {
    "duration": 7,
    "start_time": "2023-08-30T14:08:03.469Z"
   },
   {
    "duration": 6,
    "start_time": "2023-08-30T14:08:03.477Z"
   },
   {
    "duration": 15,
    "start_time": "2023-08-30T14:08:03.485Z"
   },
   {
    "duration": 18,
    "start_time": "2023-08-30T14:08:03.501Z"
   },
   {
    "duration": 48,
    "start_time": "2023-08-30T14:08:03.522Z"
   },
   {
    "duration": 716,
    "start_time": "2023-08-30T14:08:03.573Z"
   },
   {
    "duration": 12,
    "start_time": "2023-08-30T14:08:04.291Z"
   },
   {
    "duration": 11,
    "start_time": "2023-08-30T14:08:04.305Z"
   },
   {
    "duration": 11,
    "start_time": "2023-08-30T14:08:04.318Z"
   },
   {
    "duration": 10,
    "start_time": "2023-08-30T14:08:04.331Z"
   },
   {
    "duration": 96,
    "start_time": "2023-08-30T14:08:04.343Z"
   },
   {
    "duration": 17,
    "start_time": "2023-08-30T14:08:41.946Z"
   },
   {
    "duration": 119,
    "start_time": "2023-08-30T14:10:52.754Z"
   },
   {
    "duration": 9,
    "start_time": "2023-08-30T14:11:06.969Z"
   },
   {
    "duration": 10,
    "start_time": "2023-08-30T14:11:45.057Z"
   },
   {
    "duration": 10,
    "start_time": "2023-08-30T14:11:59.136Z"
   },
   {
    "duration": 2,
    "start_time": "2023-08-30T14:13:07.746Z"
   },
   {
    "duration": 4,
    "start_time": "2023-08-30T14:13:09.210Z"
   },
   {
    "duration": 3,
    "start_time": "2023-08-30T14:13:09.377Z"
   },
   {
    "duration": 10,
    "start_time": "2023-08-30T14:13:15.976Z"
   },
   {
    "duration": 5,
    "start_time": "2023-08-30T14:13:43.048Z"
   },
   {
    "duration": 15,
    "start_time": "2023-08-30T14:13:44.983Z"
   },
   {
    "duration": 12,
    "start_time": "2023-08-30T14:13:59.312Z"
   },
   {
    "duration": 13,
    "start_time": "2023-08-30T14:16:57.829Z"
   },
   {
    "duration": 10,
    "start_time": "2023-08-30T14:17:14.535Z"
   },
   {
    "duration": 9,
    "start_time": "2023-08-30T14:17:17.752Z"
   },
   {
    "duration": 9,
    "start_time": "2023-08-30T14:17:21.872Z"
   },
   {
    "duration": 360,
    "start_time": "2023-08-30T14:18:24.919Z"
   },
   {
    "duration": 3,
    "start_time": "2023-08-30T14:18:25.281Z"
   },
   {
    "duration": 45,
    "start_time": "2023-08-30T14:18:25.286Z"
   },
   {
    "duration": 11,
    "start_time": "2023-08-30T14:18:25.334Z"
   },
   {
    "duration": 34,
    "start_time": "2023-08-30T14:18:25.347Z"
   },
   {
    "duration": 10,
    "start_time": "2023-08-30T14:18:25.383Z"
   },
   {
    "duration": 48,
    "start_time": "2023-08-30T14:18:25.395Z"
   },
   {
    "duration": 15,
    "start_time": "2023-08-30T14:18:25.445Z"
   },
   {
    "duration": 12,
    "start_time": "2023-08-30T14:18:25.461Z"
   },
   {
    "duration": 3,
    "start_time": "2023-08-30T14:18:25.476Z"
   },
   {
    "duration": 29,
    "start_time": "2023-08-30T14:18:25.481Z"
   },
   {
    "duration": 13,
    "start_time": "2023-08-30T14:18:25.512Z"
   },
   {
    "duration": 9,
    "start_time": "2023-08-30T14:18:25.527Z"
   },
   {
    "duration": 68,
    "start_time": "2023-08-30T14:18:25.537Z"
   },
   {
    "duration": 0,
    "start_time": "2023-08-30T14:18:25.606Z"
   },
   {
    "duration": 0,
    "start_time": "2023-08-30T14:18:25.608Z"
   },
   {
    "duration": 0,
    "start_time": "2023-08-30T14:18:25.609Z"
   },
   {
    "duration": 0,
    "start_time": "2023-08-30T14:18:25.611Z"
   },
   {
    "duration": 0,
    "start_time": "2023-08-30T14:18:25.613Z"
   },
   {
    "duration": 0,
    "start_time": "2023-08-30T14:18:25.614Z"
   },
   {
    "duration": 1,
    "start_time": "2023-08-30T14:18:25.615Z"
   },
   {
    "duration": 0,
    "start_time": "2023-08-30T14:18:25.617Z"
   },
   {
    "duration": 0,
    "start_time": "2023-08-30T14:18:25.619Z"
   },
   {
    "duration": 418,
    "start_time": "2023-08-30T14:19:19.863Z"
   },
   {
    "duration": 3,
    "start_time": "2023-08-30T14:19:20.282Z"
   },
   {
    "duration": 58,
    "start_time": "2023-08-30T14:19:20.287Z"
   },
   {
    "duration": 11,
    "start_time": "2023-08-30T14:19:20.348Z"
   },
   {
    "duration": 123,
    "start_time": "2023-08-30T14:19:20.360Z"
   },
   {
    "duration": 10,
    "start_time": "2023-08-30T14:19:20.485Z"
   },
   {
    "duration": 25,
    "start_time": "2023-08-30T14:19:20.496Z"
   },
   {
    "duration": 63,
    "start_time": "2023-08-30T14:19:20.523Z"
   },
   {
    "duration": 13,
    "start_time": "2023-08-30T14:19:20.588Z"
   },
   {
    "duration": 4,
    "start_time": "2023-08-30T14:19:20.604Z"
   },
   {
    "duration": 40,
    "start_time": "2023-08-30T14:19:20.610Z"
   },
   {
    "duration": 17,
    "start_time": "2023-08-30T14:19:20.652Z"
   },
   {
    "duration": 31,
    "start_time": "2023-08-30T14:19:20.671Z"
   },
   {
    "duration": 12,
    "start_time": "2023-08-30T14:19:20.704Z"
   },
   {
    "duration": 50,
    "start_time": "2023-08-30T14:19:20.718Z"
   },
   {
    "duration": 684,
    "start_time": "2023-08-30T14:19:20.770Z"
   },
   {
    "duration": 14,
    "start_time": "2023-08-30T14:19:21.455Z"
   },
   {
    "duration": 5,
    "start_time": "2023-08-30T14:19:21.471Z"
   },
   {
    "duration": 9,
    "start_time": "2023-08-30T14:19:21.477Z"
   },
   {
    "duration": 13,
    "start_time": "2023-08-30T14:19:21.488Z"
   },
   {
    "duration": 83,
    "start_time": "2023-08-30T14:19:21.503Z"
   },
   {
    "duration": 112,
    "start_time": "2023-08-30T14:19:21.587Z"
   },
   {
    "duration": 0,
    "start_time": "2023-08-30T14:19:21.700Z"
   },
   {
    "duration": 4,
    "start_time": "2023-08-30T14:19:50.280Z"
   },
   {
    "duration": 2,
    "start_time": "2023-08-30T14:20:41.940Z"
   },
   {
    "duration": 16,
    "start_time": "2023-08-30T14:20:49.554Z"
   },
   {
    "duration": 14,
    "start_time": "2023-08-30T14:21:00.418Z"
   },
   {
    "duration": 6,
    "start_time": "2023-08-30T14:21:52.882Z"
   },
   {
    "duration": 10,
    "start_time": "2023-08-30T14:23:06.184Z"
   },
   {
    "duration": 3,
    "start_time": "2023-08-30T14:23:39.575Z"
   },
   {
    "duration": 7,
    "start_time": "2023-08-30T14:23:46.388Z"
   },
   {
    "duration": 3,
    "start_time": "2023-08-30T14:25:24.194Z"
   },
   {
    "duration": 16,
    "start_time": "2023-08-30T14:29:49.190Z"
   },
   {
    "duration": 15,
    "start_time": "2023-08-30T14:30:09.568Z"
   },
   {
    "duration": 5,
    "start_time": "2023-08-30T14:31:35.128Z"
   },
   {
    "duration": 18,
    "start_time": "2023-08-30T14:31:36.464Z"
   },
   {
    "duration": 13,
    "start_time": "2023-08-30T14:31:47.341Z"
   },
   {
    "duration": 5,
    "start_time": "2023-08-30T14:32:04.608Z"
   },
   {
    "duration": 12,
    "start_time": "2023-08-30T14:32:05.017Z"
   },
   {
    "duration": 6,
    "start_time": "2023-08-30T14:32:10.065Z"
   },
   {
    "duration": 7,
    "start_time": "2023-08-30T14:32:55.742Z"
   },
   {
    "duration": 402,
    "start_time": "2023-08-30T14:33:52.735Z"
   },
   {
    "duration": 4,
    "start_time": "2023-08-30T14:33:53.139Z"
   },
   {
    "duration": 71,
    "start_time": "2023-08-30T14:33:53.144Z"
   },
   {
    "duration": 12,
    "start_time": "2023-08-30T14:33:53.216Z"
   },
   {
    "duration": 44,
    "start_time": "2023-08-30T14:33:53.230Z"
   },
   {
    "duration": 11,
    "start_time": "2023-08-30T14:33:53.276Z"
   },
   {
    "duration": 26,
    "start_time": "2023-08-30T14:33:53.288Z"
   },
   {
    "duration": 21,
    "start_time": "2023-08-30T14:33:53.316Z"
   },
   {
    "duration": 10,
    "start_time": "2023-08-30T14:33:53.339Z"
   },
   {
    "duration": 4,
    "start_time": "2023-08-30T14:33:53.351Z"
   },
   {
    "duration": 571,
    "start_time": "2023-08-30T14:33:53.356Z"
   },
   {
    "duration": 7,
    "start_time": "2023-08-30T14:33:53.930Z"
   },
   {
    "duration": 133,
    "start_time": "2023-08-30T14:33:53.939Z"
   },
   {
    "duration": 0,
    "start_time": "2023-08-30T14:33:54.075Z"
   },
   {
    "duration": 0,
    "start_time": "2023-08-30T14:33:54.078Z"
   },
   {
    "duration": 0,
    "start_time": "2023-08-30T14:33:54.080Z"
   },
   {
    "duration": 0,
    "start_time": "2023-08-30T14:33:54.081Z"
   },
   {
    "duration": 0,
    "start_time": "2023-08-30T14:33:54.083Z"
   },
   {
    "duration": 0,
    "start_time": "2023-08-30T14:33:54.084Z"
   },
   {
    "duration": 0,
    "start_time": "2023-08-30T14:33:54.084Z"
   },
   {
    "duration": 32,
    "start_time": "2023-08-30T14:35:05.108Z"
   },
   {
    "duration": 20,
    "start_time": "2023-08-30T14:35:07.419Z"
   },
   {
    "duration": 4,
    "start_time": "2023-08-30T14:35:27.849Z"
   },
   {
    "duration": 12,
    "start_time": "2023-08-30T14:35:30.634Z"
   },
   {
    "duration": 10,
    "start_time": "2023-08-30T14:36:13.720Z"
   },
   {
    "duration": 86,
    "start_time": "2023-08-30T14:36:20.541Z"
   },
   {
    "duration": 129,
    "start_time": "2023-08-30T14:36:20.700Z"
   },
   {
    "duration": 143,
    "start_time": "2023-08-30T14:36:20.860Z"
   },
   {
    "duration": 146,
    "start_time": "2023-08-30T14:36:21.049Z"
   },
   {
    "duration": 10,
    "start_time": "2023-08-30T14:36:21.408Z"
   },
   {
    "duration": 26,
    "start_time": "2023-08-30T14:37:01.226Z"
   },
   {
    "duration": 4,
    "start_time": "2023-08-30T14:39:23.315Z"
   },
   {
    "duration": 5,
    "start_time": "2023-08-30T14:39:41.994Z"
   },
   {
    "duration": 7,
    "start_time": "2023-08-30T14:39:47.593Z"
   },
   {
    "duration": 15,
    "start_time": "2023-08-30T14:39:48.486Z"
   },
   {
    "duration": 10,
    "start_time": "2023-08-30T14:42:36.755Z"
   },
   {
    "duration": 13,
    "start_time": "2023-08-30T14:42:45.545Z"
   },
   {
    "duration": 12,
    "start_time": "2023-08-30T14:43:14.583Z"
   },
   {
    "duration": 6,
    "start_time": "2023-08-30T14:43:29.936Z"
   },
   {
    "duration": 4,
    "start_time": "2023-08-30T14:57:28.593Z"
   },
   {
    "duration": 22,
    "start_time": "2023-08-30T14:58:16.134Z"
   },
   {
    "duration": 5,
    "start_time": "2023-08-30T14:58:31.437Z"
   },
   {
    "duration": 19,
    "start_time": "2023-08-30T14:58:31.735Z"
   },
   {
    "duration": 12,
    "start_time": "2023-08-30T15:08:20.239Z"
   },
   {
    "duration": 6,
    "start_time": "2023-08-30T15:13:48.617Z"
   },
   {
    "duration": 15,
    "start_time": "2023-08-30T15:15:02.235Z"
   },
   {
    "duration": 425,
    "start_time": "2023-08-30T15:15:27.282Z"
   },
   {
    "duration": 3,
    "start_time": "2023-08-30T15:15:27.709Z"
   },
   {
    "duration": 71,
    "start_time": "2023-08-30T15:15:27.714Z"
   },
   {
    "duration": 11,
    "start_time": "2023-08-30T15:15:27.786Z"
   },
   {
    "duration": 28,
    "start_time": "2023-08-30T15:15:27.799Z"
   },
   {
    "duration": 8,
    "start_time": "2023-08-30T15:15:27.829Z"
   },
   {
    "duration": 20,
    "start_time": "2023-08-30T15:15:27.839Z"
   },
   {
    "duration": 15,
    "start_time": "2023-08-30T15:15:27.878Z"
   },
   {
    "duration": 35,
    "start_time": "2023-08-30T15:15:27.895Z"
   },
   {
    "duration": 6,
    "start_time": "2023-08-30T15:15:27.932Z"
   },
   {
    "duration": 588,
    "start_time": "2023-08-30T15:15:27.940Z"
   },
   {
    "duration": 7,
    "start_time": "2023-08-30T15:15:28.529Z"
   },
   {
    "duration": 12,
    "start_time": "2023-08-30T15:15:28.538Z"
   },
   {
    "duration": 81,
    "start_time": "2023-08-30T15:15:28.575Z"
   },
   {
    "duration": 4,
    "start_time": "2023-08-30T15:15:28.658Z"
   },
   {
    "duration": 14,
    "start_time": "2023-08-30T15:15:28.664Z"
   },
   {
    "duration": 25,
    "start_time": "2023-08-30T15:15:28.680Z"
   },
   {
    "duration": 11,
    "start_time": "2023-08-30T15:15:28.706Z"
   },
   {
    "duration": 16,
    "start_time": "2023-08-30T15:15:28.718Z"
   },
   {
    "duration": 8,
    "start_time": "2023-08-30T15:15:28.735Z"
   },
   {
    "duration": 10,
    "start_time": "2023-08-30T15:15:28.744Z"
   },
   {
    "duration": 23,
    "start_time": "2023-08-30T15:15:28.756Z"
   },
   {
    "duration": 7,
    "start_time": "2023-08-30T15:15:28.781Z"
   },
   {
    "duration": 26,
    "start_time": "2023-08-30T15:15:28.790Z"
   },
   {
    "duration": 407,
    "start_time": "2023-08-30T15:17:27.182Z"
   },
   {
    "duration": 3,
    "start_time": "2023-08-30T15:17:27.591Z"
   },
   {
    "duration": 48,
    "start_time": "2023-08-30T15:17:27.596Z"
   },
   {
    "duration": 10,
    "start_time": "2023-08-30T15:17:27.646Z"
   },
   {
    "duration": 46,
    "start_time": "2023-08-30T15:17:27.658Z"
   },
   {
    "duration": 9,
    "start_time": "2023-08-30T15:17:27.706Z"
   },
   {
    "duration": 21,
    "start_time": "2023-08-30T15:17:27.717Z"
   },
   {
    "duration": 21,
    "start_time": "2023-08-30T15:17:27.740Z"
   },
   {
    "duration": 12,
    "start_time": "2023-08-30T15:17:27.762Z"
   },
   {
    "duration": 8,
    "start_time": "2023-08-30T15:17:27.775Z"
   },
   {
    "duration": 549,
    "start_time": "2023-08-30T15:17:27.785Z"
   },
   {
    "duration": 7,
    "start_time": "2023-08-30T15:17:28.336Z"
   },
   {
    "duration": 31,
    "start_time": "2023-08-30T15:17:28.344Z"
   },
   {
    "duration": 75,
    "start_time": "2023-08-30T15:17:28.380Z"
   },
   {
    "duration": 14,
    "start_time": "2023-08-30T15:17:28.457Z"
   },
   {
    "duration": 7,
    "start_time": "2023-08-30T15:17:28.473Z"
   },
   {
    "duration": 7,
    "start_time": "2023-08-30T15:17:28.482Z"
   },
   {
    "duration": 7,
    "start_time": "2023-08-30T15:17:28.490Z"
   },
   {
    "duration": 14,
    "start_time": "2023-08-30T15:17:28.499Z"
   },
   {
    "duration": 7,
    "start_time": "2023-08-30T15:17:28.514Z"
   },
   {
    "duration": 6,
    "start_time": "2023-08-30T15:17:28.523Z"
   },
   {
    "duration": 45,
    "start_time": "2023-08-30T15:17:28.530Z"
   },
   {
    "duration": 6,
    "start_time": "2023-08-30T15:17:28.581Z"
   },
   {
    "duration": 128,
    "start_time": "2023-08-30T15:17:28.589Z"
   },
   {
    "duration": 6,
    "start_time": "2023-08-30T15:17:56.399Z"
   },
   {
    "duration": 14,
    "start_time": "2023-08-30T15:18:12.682Z"
   },
   {
    "duration": 5,
    "start_time": "2023-08-30T15:18:23.411Z"
   },
   {
    "duration": 16,
    "start_time": "2023-08-30T15:18:35.502Z"
   },
   {
    "duration": 18,
    "start_time": "2023-08-30T15:19:09.244Z"
   },
   {
    "duration": 5,
    "start_time": "2023-08-30T15:19:51.244Z"
   },
   {
    "duration": 14,
    "start_time": "2023-08-30T15:19:51.924Z"
   },
   {
    "duration": 11,
    "start_time": "2023-08-30T15:20:13.134Z"
   },
   {
    "duration": 14,
    "start_time": "2023-08-30T15:20:29.709Z"
   },
   {
    "duration": 5,
    "start_time": "2023-08-30T15:20:30.594Z"
   },
   {
    "duration": 8,
    "start_time": "2023-08-30T15:20:33.983Z"
   },
   {
    "duration": 16,
    "start_time": "2023-08-30T15:20:34.147Z"
   },
   {
    "duration": 5,
    "start_time": "2023-08-30T15:20:42.658Z"
   },
   {
    "duration": 11,
    "start_time": "2023-08-30T15:20:42.843Z"
   },
   {
    "duration": 4,
    "start_time": "2023-08-30T15:20:43.037Z"
   },
   {
    "duration": 6,
    "start_time": "2023-08-30T15:20:43.424Z"
   },
   {
    "duration": 13,
    "start_time": "2023-08-30T15:20:43.907Z"
   },
   {
    "duration": 6,
    "start_time": "2023-08-30T15:20:46.626Z"
   },
   {
    "duration": 11,
    "start_time": "2023-08-30T15:20:46.800Z"
   },
   {
    "duration": 4,
    "start_time": "2023-08-30T15:20:46.983Z"
   },
   {
    "duration": 6,
    "start_time": "2023-08-30T15:20:47.428Z"
   },
   {
    "duration": 14,
    "start_time": "2023-08-30T15:20:47.905Z"
   },
   {
    "duration": 433,
    "start_time": "2023-08-30T15:20:52.962Z"
   },
   {
    "duration": 3,
    "start_time": "2023-08-30T15:20:53.396Z"
   },
   {
    "duration": 51,
    "start_time": "2023-08-30T15:20:53.400Z"
   },
   {
    "duration": 12,
    "start_time": "2023-08-30T15:20:53.453Z"
   },
   {
    "duration": 33,
    "start_time": "2023-08-30T15:20:53.467Z"
   },
   {
    "duration": 9,
    "start_time": "2023-08-30T15:20:53.501Z"
   },
   {
    "duration": 27,
    "start_time": "2023-08-30T15:20:53.512Z"
   },
   {
    "duration": 52,
    "start_time": "2023-08-30T15:20:53.541Z"
   },
   {
    "duration": 15,
    "start_time": "2023-08-30T15:20:53.595Z"
   },
   {
    "duration": 13,
    "start_time": "2023-08-30T15:20:53.612Z"
   },
   {
    "duration": 687,
    "start_time": "2023-08-30T15:20:53.626Z"
   },
   {
    "duration": 7,
    "start_time": "2023-08-30T15:20:54.314Z"
   },
   {
    "duration": 28,
    "start_time": "2023-08-30T15:20:54.323Z"
   },
   {
    "duration": 127,
    "start_time": "2023-08-30T15:20:54.355Z"
   },
   {
    "duration": 4,
    "start_time": "2023-08-30T15:20:54.484Z"
   },
   {
    "duration": 35,
    "start_time": "2023-08-30T15:20:54.490Z"
   },
   {
    "duration": 16,
    "start_time": "2023-08-30T15:20:54.527Z"
   },
   {
    "duration": 14,
    "start_time": "2023-08-30T15:20:54.545Z"
   },
   {
    "duration": 30,
    "start_time": "2023-08-30T15:20:54.561Z"
   },
   {
    "duration": 17,
    "start_time": "2023-08-30T15:20:54.593Z"
   },
   {
    "duration": 30,
    "start_time": "2023-08-30T15:20:54.612Z"
   },
   {
    "duration": 61,
    "start_time": "2023-08-30T15:20:54.644Z"
   },
   {
    "duration": 23,
    "start_time": "2023-08-30T15:20:54.707Z"
   },
   {
    "duration": 18,
    "start_time": "2023-08-30T15:20:54.732Z"
   },
   {
    "duration": 138,
    "start_time": "2023-08-30T15:20:54.752Z"
   },
   {
    "duration": 12,
    "start_time": "2023-08-30T15:21:12.107Z"
   },
   {
    "duration": 86,
    "start_time": "2023-08-30T15:21:42.598Z"
   },
   {
    "duration": 6,
    "start_time": "2023-08-30T15:21:59.125Z"
   },
   {
    "duration": 44,
    "start_time": "2023-08-30T15:21:59.636Z"
   },
   {
    "duration": 431,
    "start_time": "2023-08-30T15:22:35.477Z"
   },
   {
    "duration": 4,
    "start_time": "2023-08-30T15:22:35.910Z"
   },
   {
    "duration": 44,
    "start_time": "2023-08-30T15:22:35.915Z"
   },
   {
    "duration": 18,
    "start_time": "2023-08-30T15:22:35.961Z"
   },
   {
    "duration": 41,
    "start_time": "2023-08-30T15:22:35.981Z"
   },
   {
    "duration": 9,
    "start_time": "2023-08-30T15:22:36.024Z"
   },
   {
    "duration": 29,
    "start_time": "2023-08-30T15:22:36.034Z"
   },
   {
    "duration": 36,
    "start_time": "2023-08-30T15:22:36.065Z"
   },
   {
    "duration": 23,
    "start_time": "2023-08-30T15:22:36.103Z"
   },
   {
    "duration": 4,
    "start_time": "2023-08-30T15:22:36.128Z"
   },
   {
    "duration": 599,
    "start_time": "2023-08-30T15:22:36.134Z"
   },
   {
    "duration": 5,
    "start_time": "2023-08-30T15:22:36.735Z"
   },
   {
    "duration": 22,
    "start_time": "2023-08-30T15:22:36.742Z"
   },
   {
    "duration": 97,
    "start_time": "2023-08-30T15:22:36.766Z"
   },
   {
    "duration": 15,
    "start_time": "2023-08-30T15:22:36.865Z"
   },
   {
    "duration": 25,
    "start_time": "2023-08-30T15:22:36.882Z"
   },
   {
    "duration": 13,
    "start_time": "2023-08-30T15:22:36.909Z"
   },
   {
    "duration": 26,
    "start_time": "2023-08-30T15:22:36.924Z"
   },
   {
    "duration": 42,
    "start_time": "2023-08-30T15:22:36.951Z"
   },
   {
    "duration": 12,
    "start_time": "2023-08-30T15:22:36.995Z"
   },
   {
    "duration": 25,
    "start_time": "2023-08-30T15:22:37.009Z"
   },
   {
    "duration": 19,
    "start_time": "2023-08-30T15:22:37.036Z"
   },
   {
    "duration": 23,
    "start_time": "2023-08-30T15:22:37.057Z"
   },
   {
    "duration": 16,
    "start_time": "2023-08-30T15:22:37.082Z"
   },
   {
    "duration": 284,
    "start_time": "2023-08-30T15:22:37.100Z"
   },
   {
    "duration": 15,
    "start_time": "2023-08-30T15:22:58.985Z"
   },
   {
    "duration": 26,
    "start_time": "2023-08-30T15:23:19.754Z"
   },
   {
    "duration": 385,
    "start_time": "2023-08-30T15:24:15.602Z"
   },
   {
    "duration": 2,
    "start_time": "2023-08-30T15:24:15.990Z"
   },
   {
    "duration": 53,
    "start_time": "2023-08-30T15:24:15.994Z"
   },
   {
    "duration": 10,
    "start_time": "2023-08-30T15:24:16.049Z"
   },
   {
    "duration": 44,
    "start_time": "2023-08-30T15:24:16.061Z"
   },
   {
    "duration": 9,
    "start_time": "2023-08-30T15:24:16.107Z"
   },
   {
    "duration": 20,
    "start_time": "2023-08-30T15:24:16.117Z"
   },
   {
    "duration": 14,
    "start_time": "2023-08-30T15:24:16.139Z"
   },
   {
    "duration": 19,
    "start_time": "2023-08-30T15:24:16.155Z"
   },
   {
    "duration": 4,
    "start_time": "2023-08-30T15:24:16.178Z"
   },
   {
    "duration": 567,
    "start_time": "2023-08-30T15:24:16.184Z"
   },
   {
    "duration": 6,
    "start_time": "2023-08-30T15:24:16.753Z"
   },
   {
    "duration": 25,
    "start_time": "2023-08-30T15:24:16.760Z"
   },
   {
    "duration": 90,
    "start_time": "2023-08-30T15:24:16.787Z"
   },
   {
    "duration": 12,
    "start_time": "2023-08-30T15:24:16.884Z"
   },
   {
    "duration": 15,
    "start_time": "2023-08-30T15:24:16.898Z"
   },
   {
    "duration": 10,
    "start_time": "2023-08-30T15:24:16.914Z"
   },
   {
    "duration": 10,
    "start_time": "2023-08-30T15:24:16.926Z"
   },
   {
    "duration": 23,
    "start_time": "2023-08-30T15:24:16.937Z"
   },
   {
    "duration": 17,
    "start_time": "2023-08-30T15:24:16.962Z"
   },
   {
    "duration": 10,
    "start_time": "2023-08-30T15:24:16.984Z"
   },
   {
    "duration": 19,
    "start_time": "2023-08-30T15:24:16.996Z"
   },
   {
    "duration": 9,
    "start_time": "2023-08-30T15:24:17.017Z"
   },
   {
    "duration": 25,
    "start_time": "2023-08-30T15:24:17.027Z"
   },
   {
    "duration": 3,
    "start_time": "2023-08-30T15:32:34.886Z"
   },
   {
    "duration": 394,
    "start_time": "2023-08-30T15:32:42.113Z"
   },
   {
    "duration": 3,
    "start_time": "2023-08-30T15:32:42.509Z"
   },
   {
    "duration": 41,
    "start_time": "2023-08-30T15:32:42.514Z"
   },
   {
    "duration": 19,
    "start_time": "2023-08-30T15:32:42.557Z"
   },
   {
    "duration": 47,
    "start_time": "2023-08-30T15:32:42.578Z"
   },
   {
    "duration": 9,
    "start_time": "2023-08-30T15:32:42.627Z"
   },
   {
    "duration": 22,
    "start_time": "2023-08-30T15:32:42.638Z"
   },
   {
    "duration": 26,
    "start_time": "2023-08-30T15:32:42.661Z"
   },
   {
    "duration": 11,
    "start_time": "2023-08-30T15:32:42.689Z"
   },
   {
    "duration": 4,
    "start_time": "2023-08-30T15:32:42.703Z"
   },
   {
    "duration": 589,
    "start_time": "2023-08-30T15:32:42.708Z"
   },
   {
    "duration": 7,
    "start_time": "2023-08-30T15:32:43.299Z"
   },
   {
    "duration": 15,
    "start_time": "2023-08-30T15:32:43.307Z"
   },
   {
    "duration": 102,
    "start_time": "2023-08-30T15:32:43.324Z"
   },
   {
    "duration": 4,
    "start_time": "2023-08-30T15:32:43.428Z"
   },
   {
    "duration": 5,
    "start_time": "2023-08-30T15:32:43.434Z"
   },
   {
    "duration": 10,
    "start_time": "2023-08-30T15:32:43.442Z"
   },
   {
    "duration": 34,
    "start_time": "2023-08-30T15:32:43.454Z"
   },
   {
    "duration": 31,
    "start_time": "2023-08-30T15:32:43.490Z"
   },
   {
    "duration": 9,
    "start_time": "2023-08-30T15:32:43.523Z"
   },
   {
    "duration": 10,
    "start_time": "2023-08-30T15:32:43.534Z"
   },
   {
    "duration": 16,
    "start_time": "2023-08-30T15:32:43.546Z"
   },
   {
    "duration": 18,
    "start_time": "2023-08-30T15:32:43.563Z"
   },
   {
    "duration": 29,
    "start_time": "2023-08-30T15:32:43.583Z"
   },
   {
    "duration": 411,
    "start_time": "2023-08-30T15:34:06.477Z"
   },
   {
    "duration": 3,
    "start_time": "2023-08-30T15:34:06.890Z"
   },
   {
    "duration": 45,
    "start_time": "2023-08-30T15:34:06.895Z"
   },
   {
    "duration": 10,
    "start_time": "2023-08-30T15:34:06.942Z"
   },
   {
    "duration": 53,
    "start_time": "2023-08-30T15:34:06.955Z"
   },
   {
    "duration": 8,
    "start_time": "2023-08-30T15:34:07.010Z"
   },
   {
    "duration": 11,
    "start_time": "2023-08-30T15:34:07.020Z"
   },
   {
    "duration": 13,
    "start_time": "2023-08-30T15:34:07.033Z"
   },
   {
    "duration": 18,
    "start_time": "2023-08-30T15:34:07.048Z"
   },
   {
    "duration": 4,
    "start_time": "2023-08-30T15:34:07.073Z"
   },
   {
    "duration": 548,
    "start_time": "2023-08-30T15:34:07.078Z"
   },
   {
    "duration": 6,
    "start_time": "2023-08-30T15:34:07.627Z"
   },
   {
    "duration": 22,
    "start_time": "2023-08-30T15:34:07.635Z"
   },
   {
    "duration": 82,
    "start_time": "2023-08-30T15:34:07.659Z"
   },
   {
    "duration": 4,
    "start_time": "2023-08-30T15:34:07.743Z"
   },
   {
    "duration": 29,
    "start_time": "2023-08-30T15:34:07.749Z"
   },
   {
    "duration": 8,
    "start_time": "2023-08-30T15:34:07.781Z"
   },
   {
    "duration": 13,
    "start_time": "2023-08-30T15:34:07.791Z"
   },
   {
    "duration": 18,
    "start_time": "2023-08-30T15:34:07.805Z"
   },
   {
    "duration": 7,
    "start_time": "2023-08-30T15:34:07.825Z"
   },
   {
    "duration": 13,
    "start_time": "2023-08-30T15:34:07.833Z"
   },
   {
    "duration": 15,
    "start_time": "2023-08-30T15:34:07.848Z"
   },
   {
    "duration": 8,
    "start_time": "2023-08-30T15:34:07.875Z"
   },
   {
    "duration": 24,
    "start_time": "2023-08-30T15:34:07.885Z"
   },
   {
    "duration": 10,
    "start_time": "2023-08-30T15:34:29.186Z"
   },
   {
    "duration": 12,
    "start_time": "2023-08-30T15:35:59.900Z"
   },
   {
    "duration": 30,
    "start_time": "2023-08-30T15:37:45.432Z"
   },
   {
    "duration": 4,
    "start_time": "2023-08-30T15:41:06.910Z"
   },
   {
    "duration": 385,
    "start_time": "2023-08-30T16:03:50.859Z"
   },
   {
    "duration": 3,
    "start_time": "2023-08-30T16:03:51.246Z"
   },
   {
    "duration": 55,
    "start_time": "2023-08-30T16:03:51.251Z"
   },
   {
    "duration": 11,
    "start_time": "2023-08-30T16:03:51.308Z"
   },
   {
    "duration": 25,
    "start_time": "2023-08-30T16:03:51.321Z"
   },
   {
    "duration": 24,
    "start_time": "2023-08-30T16:03:51.348Z"
   },
   {
    "duration": 22,
    "start_time": "2023-08-30T16:03:51.374Z"
   },
   {
    "duration": 29,
    "start_time": "2023-08-30T16:03:51.401Z"
   },
   {
    "duration": 23,
    "start_time": "2023-08-30T16:03:51.432Z"
   },
   {
    "duration": 6,
    "start_time": "2023-08-30T16:03:51.457Z"
   },
   {
    "duration": 2712,
    "start_time": "2023-08-30T16:03:51.464Z"
   },
   {
    "duration": 5,
    "start_time": "2023-08-30T16:03:54.178Z"
   },
   {
    "duration": 30,
    "start_time": "2023-08-30T16:03:54.185Z"
   },
   {
    "duration": 126,
    "start_time": "2023-08-30T16:03:54.219Z"
   },
   {
    "duration": 0,
    "start_time": "2023-08-30T16:03:54.347Z"
   },
   {
    "duration": 0,
    "start_time": "2023-08-30T16:03:54.348Z"
   },
   {
    "duration": 0,
    "start_time": "2023-08-30T16:03:54.349Z"
   },
   {
    "duration": 0,
    "start_time": "2023-08-30T16:03:54.350Z"
   },
   {
    "duration": 0,
    "start_time": "2023-08-30T16:03:54.354Z"
   },
   {
    "duration": 0,
    "start_time": "2023-08-30T16:03:54.355Z"
   },
   {
    "duration": 0,
    "start_time": "2023-08-30T16:03:54.356Z"
   },
   {
    "duration": 0,
    "start_time": "2023-08-30T16:03:54.357Z"
   },
   {
    "duration": 0,
    "start_time": "2023-08-30T16:03:54.358Z"
   },
   {
    "duration": 0,
    "start_time": "2023-08-30T16:03:54.359Z"
   },
   {
    "duration": 8071,
    "start_time": "2023-08-30T16:04:49.897Z"
   },
   {
    "duration": 25,
    "start_time": "2023-08-30T16:05:07.587Z"
   },
   {
    "duration": 0,
    "start_time": "2023-08-30T16:05:07.614Z"
   },
   {
    "duration": 0,
    "start_time": "2023-08-30T16:05:07.615Z"
   },
   {
    "duration": 0,
    "start_time": "2023-08-30T16:05:07.617Z"
   },
   {
    "duration": 0,
    "start_time": "2023-08-30T16:05:07.618Z"
   },
   {
    "duration": 0,
    "start_time": "2023-08-30T16:05:07.619Z"
   },
   {
    "duration": 0,
    "start_time": "2023-08-30T16:05:07.621Z"
   },
   {
    "duration": 0,
    "start_time": "2023-08-30T16:05:07.622Z"
   },
   {
    "duration": 0,
    "start_time": "2023-08-30T16:05:07.623Z"
   },
   {
    "duration": 0,
    "start_time": "2023-08-30T16:05:07.624Z"
   },
   {
    "duration": 0,
    "start_time": "2023-08-30T16:05:07.625Z"
   },
   {
    "duration": 2348,
    "start_time": "2023-08-30T16:06:15.844Z"
   },
   {
    "duration": 23,
    "start_time": "2023-08-30T16:06:24.741Z"
   },
   {
    "duration": 0,
    "start_time": "2023-08-30T16:06:24.766Z"
   },
   {
    "duration": 0,
    "start_time": "2023-08-30T16:06:24.768Z"
   },
   {
    "duration": 0,
    "start_time": "2023-08-30T16:06:24.770Z"
   },
   {
    "duration": 0,
    "start_time": "2023-08-30T16:06:24.771Z"
   },
   {
    "duration": 0,
    "start_time": "2023-08-30T16:06:24.773Z"
   },
   {
    "duration": 0,
    "start_time": "2023-08-30T16:06:24.776Z"
   },
   {
    "duration": 0,
    "start_time": "2023-08-30T16:06:24.777Z"
   },
   {
    "duration": 0,
    "start_time": "2023-08-30T16:06:24.779Z"
   },
   {
    "duration": 0,
    "start_time": "2023-08-30T16:06:24.781Z"
   },
   {
    "duration": 0,
    "start_time": "2023-08-30T16:06:24.783Z"
   },
   {
    "duration": 406,
    "start_time": "2023-08-30T16:06:51.623Z"
   },
   {
    "duration": 3,
    "start_time": "2023-08-30T16:06:52.033Z"
   },
   {
    "duration": 61,
    "start_time": "2023-08-30T16:06:52.038Z"
   },
   {
    "duration": 10,
    "start_time": "2023-08-30T16:06:52.101Z"
   },
   {
    "duration": 43,
    "start_time": "2023-08-30T16:06:52.113Z"
   },
   {
    "duration": 32,
    "start_time": "2023-08-30T16:06:52.158Z"
   },
   {
    "duration": 29,
    "start_time": "2023-08-30T16:06:52.191Z"
   },
   {
    "duration": 90,
    "start_time": "2023-08-30T16:06:52.222Z"
   },
   {
    "duration": 72,
    "start_time": "2023-08-30T16:06:52.314Z"
   },
   {
    "duration": 35,
    "start_time": "2023-08-30T16:06:52.388Z"
   },
   {
    "duration": 549,
    "start_time": "2023-08-30T16:06:52.425Z"
   },
   {
    "duration": 6,
    "start_time": "2023-08-30T16:06:52.976Z"
   },
   {
    "duration": 20,
    "start_time": "2023-08-30T16:06:52.983Z"
   },
   {
    "duration": 3,
    "start_time": "2023-08-30T16:06:53.006Z"
   },
   {
    "duration": 97,
    "start_time": "2023-08-30T16:06:53.010Z"
   },
   {
    "duration": 5,
    "start_time": "2023-08-30T16:06:53.109Z"
   },
   {
    "duration": 12,
    "start_time": "2023-08-30T16:06:53.116Z"
   },
   {
    "duration": 6,
    "start_time": "2023-08-30T16:06:53.130Z"
   },
   {
    "duration": 6,
    "start_time": "2023-08-30T16:06:53.138Z"
   },
   {
    "duration": 14,
    "start_time": "2023-08-30T16:06:53.146Z"
   },
   {
    "duration": 7,
    "start_time": "2023-08-30T16:06:53.162Z"
   },
   {
    "duration": 5,
    "start_time": "2023-08-30T16:06:53.201Z"
   },
   {
    "duration": 15,
    "start_time": "2023-08-30T16:06:53.208Z"
   },
   {
    "duration": 6,
    "start_time": "2023-08-30T16:06:53.225Z"
   },
   {
    "duration": 13,
    "start_time": "2023-08-30T16:06:53.233Z"
   },
   {
    "duration": 14,
    "start_time": "2023-08-30T16:17:01.452Z"
   },
   {
    "duration": 15,
    "start_time": "2023-08-30T16:19:18.413Z"
   },
   {
    "duration": 117,
    "start_time": "2023-08-30T16:20:52.609Z"
   },
   {
    "duration": 4,
    "start_time": "2023-08-30T16:21:11.731Z"
   },
   {
    "duration": 4,
    "start_time": "2023-08-30T16:21:54.117Z"
   },
   {
    "duration": 125,
    "start_time": "2023-08-30T19:15:15.398Z"
   },
   {
    "duration": 1005,
    "start_time": "2023-08-30T19:16:04.851Z"
   },
   {
    "duration": 2,
    "start_time": "2023-08-30T19:16:05.859Z"
   },
   {
    "duration": 61,
    "start_time": "2023-08-30T19:16:05.862Z"
   },
   {
    "duration": 12,
    "start_time": "2023-08-30T19:16:05.925Z"
   },
   {
    "duration": 55,
    "start_time": "2023-08-30T19:16:05.939Z"
   },
   {
    "duration": 8,
    "start_time": "2023-08-30T19:16:05.995Z"
   },
   {
    "duration": 23,
    "start_time": "2023-08-30T19:16:06.005Z"
   },
   {
    "duration": 19,
    "start_time": "2023-08-30T19:16:06.029Z"
   },
   {
    "duration": 25,
    "start_time": "2023-08-30T19:16:06.050Z"
   },
   {
    "duration": 8,
    "start_time": "2023-08-30T19:16:06.086Z"
   },
   {
    "duration": 13,
    "start_time": "2023-08-30T19:16:06.096Z"
   },
   {
    "duration": 27,
    "start_time": "2023-08-30T19:16:06.111Z"
   },
   {
    "duration": 20,
    "start_time": "2023-08-30T19:16:06.140Z"
   },
   {
    "duration": 90,
    "start_time": "2023-08-30T19:16:06.162Z"
   },
   {
    "duration": 4,
    "start_time": "2023-08-30T19:16:06.254Z"
   },
   {
    "duration": 28,
    "start_time": "2023-08-30T19:16:06.260Z"
   },
   {
    "duration": 8,
    "start_time": "2023-08-30T19:16:06.293Z"
   },
   {
    "duration": 15,
    "start_time": "2023-08-30T19:16:06.302Z"
   },
   {
    "duration": 26,
    "start_time": "2023-08-30T19:16:06.319Z"
   },
   {
    "duration": 7,
    "start_time": "2023-08-30T19:16:06.346Z"
   },
   {
    "duration": 20,
    "start_time": "2023-08-30T19:16:06.354Z"
   },
   {
    "duration": 39,
    "start_time": "2023-08-30T19:16:06.376Z"
   },
   {
    "duration": 8,
    "start_time": "2023-08-30T19:16:06.417Z"
   },
   {
    "duration": 58,
    "start_time": "2023-08-30T19:16:06.427Z"
   },
   {
    "duration": 1199,
    "start_time": "2023-08-31T05:48:41.638Z"
   },
   {
    "duration": 2,
    "start_time": "2023-08-31T05:48:42.839Z"
   },
   {
    "duration": 97,
    "start_time": "2023-08-31T05:48:42.843Z"
   },
   {
    "duration": 14,
    "start_time": "2023-08-31T05:48:42.942Z"
   },
   {
    "duration": 50,
    "start_time": "2023-08-31T05:48:42.958Z"
   },
   {
    "duration": 12,
    "start_time": "2023-08-31T05:48:43.010Z"
   },
   {
    "duration": 41,
    "start_time": "2023-08-31T05:48:43.023Z"
   },
   {
    "duration": 62,
    "start_time": "2023-08-31T05:48:43.067Z"
   },
   {
    "duration": 68,
    "start_time": "2023-08-31T05:48:43.131Z"
   },
   {
    "duration": 6,
    "start_time": "2023-08-31T05:48:43.203Z"
   },
   {
    "duration": 11,
    "start_time": "2023-08-31T05:48:43.210Z"
   },
   {
    "duration": 14,
    "start_time": "2023-08-31T05:48:43.222Z"
   },
   {
    "duration": 3,
    "start_time": "2023-08-31T05:48:43.238Z"
   },
   {
    "duration": 131,
    "start_time": "2023-08-31T05:48:43.242Z"
   },
   {
    "duration": 0,
    "start_time": "2023-08-31T05:48:43.374Z"
   },
   {
    "duration": 0,
    "start_time": "2023-08-31T05:48:43.375Z"
   },
   {
    "duration": 0,
    "start_time": "2023-08-31T05:48:43.377Z"
   },
   {
    "duration": 0,
    "start_time": "2023-08-31T05:48:43.380Z"
   },
   {
    "duration": 0,
    "start_time": "2023-08-31T05:48:43.381Z"
   },
   {
    "duration": 0,
    "start_time": "2023-08-31T05:48:43.382Z"
   },
   {
    "duration": 0,
    "start_time": "2023-08-31T05:48:43.383Z"
   },
   {
    "duration": 0,
    "start_time": "2023-08-31T05:48:43.384Z"
   },
   {
    "duration": 0,
    "start_time": "2023-08-31T05:48:43.386Z"
   },
   {
    "duration": 0,
    "start_time": "2023-08-31T05:48:43.387Z"
   },
   {
    "duration": 6899,
    "start_time": "2023-08-31T05:49:23.906Z"
   },
   {
    "duration": 6,
    "start_time": "2023-08-31T05:49:36.517Z"
   },
   {
    "duration": 3,
    "start_time": "2023-08-31T05:49:36.725Z"
   },
   {
    "duration": 7,
    "start_time": "2023-08-31T05:49:36.924Z"
   },
   {
    "duration": 7,
    "start_time": "2023-08-31T05:49:37.112Z"
   },
   {
    "duration": 17,
    "start_time": "2023-08-31T05:49:37.285Z"
   },
   {
    "duration": 8,
    "start_time": "2023-08-31T05:49:37.639Z"
   },
   {
    "duration": 6,
    "start_time": "2023-08-31T05:49:38.158Z"
   },
   {
    "duration": 19,
    "start_time": "2023-08-31T05:49:38.686Z"
   },
   {
    "duration": 5,
    "start_time": "2023-08-31T05:49:39.222Z"
   },
   {
    "duration": 15,
    "start_time": "2023-08-31T05:49:39.409Z"
   }
  ],
  "kernelspec": {
   "display_name": "Python 3 (ipykernel)",
   "language": "python",
   "name": "python3"
  },
  "language_info": {
   "codemirror_mode": {
    "name": "ipython",
    "version": 3
   },
   "file_extension": ".py",
   "mimetype": "text/x-python",
   "name": "python",
   "nbconvert_exporter": "python",
   "pygments_lexer": "ipython3",
   "version": "3.11.4"
  },
  "toc": {
   "base_numbering": 1,
   "nav_menu": {},
   "number_sections": true,
   "sideBar": true,
   "skip_h1_title": true,
   "title_cell": "Содержание",
   "title_sidebar": "Contents",
   "toc_cell": true,
   "toc_position": {
    "height": "calc(100% - 180px)",
    "left": "10px",
    "top": "150px",
    "width": "371px"
   },
   "toc_section_display": true,
   "toc_window_display": false
  }
 },
 "nbformat": 4,
 "nbformat_minor": 2
}
