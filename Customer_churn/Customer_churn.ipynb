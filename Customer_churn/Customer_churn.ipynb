{
 "cells": [
  {
   "cell_type": "markdown",
   "metadata": {},
   "source": [
    "Ссылка на репозиторий GitHub: https://github.com/FrustrationDesu/sprint10"
   ]
  },
  {
   "cell_type": "markdown",
   "metadata": {
    "toc": true
   },
   "source": [
    "<h1>Содержание<span class=\"tocSkip\"></span></h1>\n",
    "<div class=\"toc\"><ul class=\"toc-item\"><li><span><a href=\"#Подготовка-данных\" data-toc-modified-id=\"Подготовка-данных-1\"><span class=\"toc-item-num\">1&nbsp;&nbsp;</span>Подготовка данных</a></span></li><li><span><a href=\"#Исследование-задачи\" data-toc-modified-id=\"Исследование-задачи-2\"><span class=\"toc-item-num\">2&nbsp;&nbsp;</span>Исследование задачи</a></span><ul class=\"toc-item\"><li><span><a href=\"#Подготовка-данных-для-машинного-обучения\" data-toc-modified-id=\"Подготовка-данных-для-машинного-обучения-2.1\"><span class=\"toc-item-num\">2.1&nbsp;&nbsp;</span>Подготовка данных для машинного обучения</a></span></li><li><span><a href=\"#Формирование-выборок\" data-toc-modified-id=\"Формирование-выборок-2.2\"><span class=\"toc-item-num\">2.2&nbsp;&nbsp;</span>Формирование выборок</a></span></li><li><span><a href=\"#Применение-модели-машинного-обучения\" data-toc-modified-id=\"Применение-модели-машинного-обучения-2.3\"><span class=\"toc-item-num\">2.3&nbsp;&nbsp;</span>Применение модели машинного обучения</a></span></li><li><span><a href=\"#Исследование-баланса-классов-выборки\" data-toc-modified-id=\"Исследование-баланса-классов-выборки-2.4\"><span class=\"toc-item-num\">2.4&nbsp;&nbsp;</span>Исследование баланса классов выборки</a></span><ul class=\"toc-item\"><li><span><a href=\"#RandomForest\" data-toc-modified-id=\"RandomForest-2.4.1\"><span class=\"toc-item-num\">2.4.1&nbsp;&nbsp;</span>RandomForest</a></span></li><li><span><a href=\"#DecisionTree\" data-toc-modified-id=\"DecisionTree-2.4.2\"><span class=\"toc-item-num\">2.4.2&nbsp;&nbsp;</span>DecisionTree</a></span></li><li><span><a href=\"#LogisticRegression\" data-toc-modified-id=\"LogisticRegression-2.4.3\"><span class=\"toc-item-num\">2.4.3&nbsp;&nbsp;</span>LogisticRegression</a></span></li></ul></li></ul></li><li><span><a href=\"#Борьба-с-дисбалансом\" data-toc-modified-id=\"Борьба-с-дисбалансом-3\"><span class=\"toc-item-num\">3&nbsp;&nbsp;</span>Борьба с дисбалансом</a></span></li><li><span><a href=\"#Обучение-моделей-на-сбалансированной-выборке\" data-toc-modified-id=\"Обучение-моделей-на-сбалансированной-выборке-4\"><span class=\"toc-item-num\">4&nbsp;&nbsp;</span>Обучение моделей на сбалансированной выборке</a></span><ul class=\"toc-item\"><li><span><a href=\"#RandomForest\" data-toc-modified-id=\"RandomForest-4.1\"><span class=\"toc-item-num\">4.1&nbsp;&nbsp;</span>RandomForest</a></span></li><li><span><a href=\"#DecisionTree\" data-toc-modified-id=\"DecisionTree-4.2\"><span class=\"toc-item-num\">4.2&nbsp;&nbsp;</span>DecisionTree</a></span></li><li><span><a href=\"#LogisticRegression\" data-toc-modified-id=\"LogisticRegression-4.3\"><span class=\"toc-item-num\">4.3&nbsp;&nbsp;</span>LogisticRegression</a></span></li></ul></li><li><span><a href=\"#Тестирование-модели\" data-toc-modified-id=\"Тестирование-модели-5\"><span class=\"toc-item-num\">5&nbsp;&nbsp;</span>Тестирование модели</a></span></li><li><span><a href=\"#Выводы\" data-toc-modified-id=\"Выводы-6\"><span class=\"toc-item-num\">6&nbsp;&nbsp;</span>Выводы</a></span></li><li><span><a href=\"#Чек-лист-готовности-проекта\" data-toc-modified-id=\"Чек-лист-готовности-проекта-7\"><span class=\"toc-item-num\">7&nbsp;&nbsp;</span>Чек-лист готовности проекта</a></span></li></ul></div>"
   ]
  },
  {
   "cell_type": "markdown",
   "metadata": {},
   "source": [
    "# Отток клиентов"
   ]
  },
  {
   "cell_type": "markdown",
   "metadata": {},
   "source": [
    "Из «Бета-Банка» стали уходить клиенты. Каждый месяц. Немного, но заметно. Банковские маркетологи посчитали: сохранять текущих клиентов дешевле, чем привлекать новых.\n",
    "\n",
    "Нужно спрогнозировать, уйдёт клиент из банка в ближайшее время или нет. Вам предоставлены исторические данные о поведении клиентов и расторжении договоров с банком. \n",
    "\n",
    "Постройте модель с предельно большим значением *F1*-меры. Чтобы сдать проект успешно, нужно довести метрику до 0.59. Проверьте *F1*-меру на тестовой выборке самостоятельно.\n",
    "\n",
    "Дополнительно измеряйте *AUC-ROC*, сравнивайте её значение с *F1*-мерой.\n",
    "\n",
    "Источник данных: [https://www.kaggle.com/barelydedicated/bank-customer-churn-modeling](https://www.kaggle.com/barelydedicated/bank-customer-churn-modeling)"
   ]
  },
  {
   "cell_type": "markdown",
   "metadata": {},
   "source": [
    "## Подготовка данных"
   ]
  },
  {
   "cell_type": "markdown",
   "metadata": {},
   "source": [
    "Признаки:\n",
    "* RowNumber — индекс строки в данных\n",
    "* CustomerId — уникальный идентификатор клиента\n",
    "* Surname — фамилия\n",
    "* CreditScore — кредитный рейтинг\n",
    "* Geography — страна проживания\n",
    "* Gender — пол\n",
    "* Age — возраст\n",
    "* Tenure — сколько лет человек является клиентом банка\n",
    "* Balance — баланс на счёте\n",
    "* NumOfProducts — количество продуктов банка, используемых клиентом\n",
    "* HasCrCard — наличие кредитной карты\n",
    "* IsActiveMember — активность клиента\n",
    "* EstimatedSalary — предполагаемая зарплата\n",
    "\n",
    "\n",
    "\n",
    "Целевой признак:\n",
    "* Exited — факт ухода клиента"
   ]
  },
  {
   "cell_type": "code",
   "execution_count": 1,
   "metadata": {},
   "outputs": [],
   "source": [
    "import pandas as pd\n",
    "import matplotlib.pyplot as plt\n",
    "from matplotlib.pyplot import plot\n",
    "from sklearn.preprocessing import MinMaxScaler\n",
    "from sklearn.utils import shuffle\n",
    "from sklearn.model_selection import train_test_split, GridSearchCV\n",
    "from sklearn.metrics import (\n",
    "    accuracy_score, \n",
    "    f1_score, \n",
    "    recall_score, \n",
    "    precision_score, \n",
    "    roc_auc_score, \n",
    "    roc_curve, \n",
    "    confusion_matrix\n",
    ")\n"
   ]
  },
  {
   "cell_type": "code",
   "execution_count": 2,
   "metadata": {},
   "outputs": [],
   "source": [
    "from sklearn.linear_model import LogisticRegression\n",
    "from sklearn.ensemble import RandomForestClassifier\n",
    "from sklearn.preprocessing import StandardScaler\n",
    "from sklearn.tree import DecisionTreeClassifier\n",
    "from sklearn.dummy import DummyClassifier\n",
    "RANDOM_STATE = 12345"
   ]
  },
  {
   "cell_type": "code",
   "execution_count": 3,
   "metadata": {},
   "outputs": [],
   "source": [
    "df = pd.read_csv('Churn.csv')"
   ]
  },
  {
   "cell_type": "code",
   "execution_count": 4,
   "metadata": {
    "scrolled": true
   },
   "outputs": [
    {
     "data": {
      "text/html": [
       "<div>\n",
       "<style scoped>\n",
       "    .dataframe tbody tr th:only-of-type {\n",
       "        vertical-align: middle;\n",
       "    }\n",
       "\n",
       "    .dataframe tbody tr th {\n",
       "        vertical-align: top;\n",
       "    }\n",
       "\n",
       "    .dataframe thead th {\n",
       "        text-align: right;\n",
       "    }\n",
       "</style>\n",
       "<table border=\"1\" class=\"dataframe\">\n",
       "  <thead>\n",
       "    <tr style=\"text-align: right;\">\n",
       "      <th></th>\n",
       "      <th>RowNumber</th>\n",
       "      <th>CustomerId</th>\n",
       "      <th>Surname</th>\n",
       "      <th>CreditScore</th>\n",
       "      <th>Geography</th>\n",
       "      <th>Gender</th>\n",
       "      <th>Age</th>\n",
       "      <th>Tenure</th>\n",
       "      <th>Balance</th>\n",
       "      <th>NumOfProducts</th>\n",
       "      <th>HasCrCard</th>\n",
       "      <th>IsActiveMember</th>\n",
       "      <th>EstimatedSalary</th>\n",
       "      <th>Exited</th>\n",
       "    </tr>\n",
       "  </thead>\n",
       "  <tbody>\n",
       "    <tr>\n",
       "      <th>0</th>\n",
       "      <td>1</td>\n",
       "      <td>15634602</td>\n",
       "      <td>Hargrave</td>\n",
       "      <td>619</td>\n",
       "      <td>France</td>\n",
       "      <td>Female</td>\n",
       "      <td>42</td>\n",
       "      <td>2.0</td>\n",
       "      <td>0.00</td>\n",
       "      <td>1</td>\n",
       "      <td>1</td>\n",
       "      <td>1</td>\n",
       "      <td>101348.88</td>\n",
       "      <td>1</td>\n",
       "    </tr>\n",
       "    <tr>\n",
       "      <th>1</th>\n",
       "      <td>2</td>\n",
       "      <td>15647311</td>\n",
       "      <td>Hill</td>\n",
       "      <td>608</td>\n",
       "      <td>Spain</td>\n",
       "      <td>Female</td>\n",
       "      <td>41</td>\n",
       "      <td>1.0</td>\n",
       "      <td>83807.86</td>\n",
       "      <td>1</td>\n",
       "      <td>0</td>\n",
       "      <td>1</td>\n",
       "      <td>112542.58</td>\n",
       "      <td>0</td>\n",
       "    </tr>\n",
       "    <tr>\n",
       "      <th>2</th>\n",
       "      <td>3</td>\n",
       "      <td>15619304</td>\n",
       "      <td>Onio</td>\n",
       "      <td>502</td>\n",
       "      <td>France</td>\n",
       "      <td>Female</td>\n",
       "      <td>42</td>\n",
       "      <td>8.0</td>\n",
       "      <td>159660.80</td>\n",
       "      <td>3</td>\n",
       "      <td>1</td>\n",
       "      <td>0</td>\n",
       "      <td>113931.57</td>\n",
       "      <td>1</td>\n",
       "    </tr>\n",
       "    <tr>\n",
       "      <th>3</th>\n",
       "      <td>4</td>\n",
       "      <td>15701354</td>\n",
       "      <td>Boni</td>\n",
       "      <td>699</td>\n",
       "      <td>France</td>\n",
       "      <td>Female</td>\n",
       "      <td>39</td>\n",
       "      <td>1.0</td>\n",
       "      <td>0.00</td>\n",
       "      <td>2</td>\n",
       "      <td>0</td>\n",
       "      <td>0</td>\n",
       "      <td>93826.63</td>\n",
       "      <td>0</td>\n",
       "    </tr>\n",
       "    <tr>\n",
       "      <th>4</th>\n",
       "      <td>5</td>\n",
       "      <td>15737888</td>\n",
       "      <td>Mitchell</td>\n",
       "      <td>850</td>\n",
       "      <td>Spain</td>\n",
       "      <td>Female</td>\n",
       "      <td>43</td>\n",
       "      <td>2.0</td>\n",
       "      <td>125510.82</td>\n",
       "      <td>1</td>\n",
       "      <td>1</td>\n",
       "      <td>1</td>\n",
       "      <td>79084.10</td>\n",
       "      <td>0</td>\n",
       "    </tr>\n",
       "    <tr>\n",
       "      <th>5</th>\n",
       "      <td>6</td>\n",
       "      <td>15574012</td>\n",
       "      <td>Chu</td>\n",
       "      <td>645</td>\n",
       "      <td>Spain</td>\n",
       "      <td>Male</td>\n",
       "      <td>44</td>\n",
       "      <td>8.0</td>\n",
       "      <td>113755.78</td>\n",
       "      <td>2</td>\n",
       "      <td>1</td>\n",
       "      <td>0</td>\n",
       "      <td>149756.71</td>\n",
       "      <td>1</td>\n",
       "    </tr>\n",
       "    <tr>\n",
       "      <th>6</th>\n",
       "      <td>7</td>\n",
       "      <td>15592531</td>\n",
       "      <td>Bartlett</td>\n",
       "      <td>822</td>\n",
       "      <td>France</td>\n",
       "      <td>Male</td>\n",
       "      <td>50</td>\n",
       "      <td>7.0</td>\n",
       "      <td>0.00</td>\n",
       "      <td>2</td>\n",
       "      <td>1</td>\n",
       "      <td>1</td>\n",
       "      <td>10062.80</td>\n",
       "      <td>0</td>\n",
       "    </tr>\n",
       "    <tr>\n",
       "      <th>7</th>\n",
       "      <td>8</td>\n",
       "      <td>15656148</td>\n",
       "      <td>Obinna</td>\n",
       "      <td>376</td>\n",
       "      <td>Germany</td>\n",
       "      <td>Female</td>\n",
       "      <td>29</td>\n",
       "      <td>4.0</td>\n",
       "      <td>115046.74</td>\n",
       "      <td>4</td>\n",
       "      <td>1</td>\n",
       "      <td>0</td>\n",
       "      <td>119346.88</td>\n",
       "      <td>1</td>\n",
       "    </tr>\n",
       "    <tr>\n",
       "      <th>8</th>\n",
       "      <td>9</td>\n",
       "      <td>15792365</td>\n",
       "      <td>He</td>\n",
       "      <td>501</td>\n",
       "      <td>France</td>\n",
       "      <td>Male</td>\n",
       "      <td>44</td>\n",
       "      <td>4.0</td>\n",
       "      <td>142051.07</td>\n",
       "      <td>2</td>\n",
       "      <td>0</td>\n",
       "      <td>1</td>\n",
       "      <td>74940.50</td>\n",
       "      <td>0</td>\n",
       "    </tr>\n",
       "    <tr>\n",
       "      <th>9</th>\n",
       "      <td>10</td>\n",
       "      <td>15592389</td>\n",
       "      <td>H?</td>\n",
       "      <td>684</td>\n",
       "      <td>France</td>\n",
       "      <td>Male</td>\n",
       "      <td>27</td>\n",
       "      <td>2.0</td>\n",
       "      <td>134603.88</td>\n",
       "      <td>1</td>\n",
       "      <td>1</td>\n",
       "      <td>1</td>\n",
       "      <td>71725.73</td>\n",
       "      <td>0</td>\n",
       "    </tr>\n",
       "  </tbody>\n",
       "</table>\n",
       "</div>"
      ],
      "text/plain": [
       "   RowNumber  CustomerId   Surname  CreditScore Geography  Gender  Age  \\\n",
       "0          1    15634602  Hargrave          619    France  Female   42   \n",
       "1          2    15647311      Hill          608     Spain  Female   41   \n",
       "2          3    15619304      Onio          502    France  Female   42   \n",
       "3          4    15701354      Boni          699    France  Female   39   \n",
       "4          5    15737888  Mitchell          850     Spain  Female   43   \n",
       "5          6    15574012       Chu          645     Spain    Male   44   \n",
       "6          7    15592531  Bartlett          822    France    Male   50   \n",
       "7          8    15656148    Obinna          376   Germany  Female   29   \n",
       "8          9    15792365        He          501    France    Male   44   \n",
       "9         10    15592389        H?          684    France    Male   27   \n",
       "\n",
       "   Tenure    Balance  NumOfProducts  HasCrCard  IsActiveMember  \\\n",
       "0     2.0       0.00              1          1               1   \n",
       "1     1.0   83807.86              1          0               1   \n",
       "2     8.0  159660.80              3          1               0   \n",
       "3     1.0       0.00              2          0               0   \n",
       "4     2.0  125510.82              1          1               1   \n",
       "5     8.0  113755.78              2          1               0   \n",
       "6     7.0       0.00              2          1               1   \n",
       "7     4.0  115046.74              4          1               0   \n",
       "8     4.0  142051.07              2          0               1   \n",
       "9     2.0  134603.88              1          1               1   \n",
       "\n",
       "   EstimatedSalary  Exited  \n",
       "0        101348.88       1  \n",
       "1        112542.58       0  \n",
       "2        113931.57       1  \n",
       "3         93826.63       0  \n",
       "4         79084.10       0  \n",
       "5        149756.71       1  \n",
       "6         10062.80       0  \n",
       "7        119346.88       1  \n",
       "8         74940.50       0  \n",
       "9         71725.73       0  "
      ]
     },
     "execution_count": 4,
     "metadata": {},
     "output_type": "execute_result"
    }
   ],
   "source": [
    "df.head(10)"
   ]
  },
  {
   "cell_type": "code",
   "execution_count": 5,
   "metadata": {},
   "outputs": [
    {
     "data": {
      "text/plain": [
       "(10000, 14)"
      ]
     },
     "execution_count": 5,
     "metadata": {},
     "output_type": "execute_result"
    }
   ],
   "source": [
    "df.shape"
   ]
  },
  {
   "cell_type": "code",
   "execution_count": 6,
   "metadata": {
    "scrolled": true
   },
   "outputs": [
    {
     "name": "stdout",
     "output_type": "stream",
     "text": [
      "<class 'pandas.core.frame.DataFrame'>\n",
      "RangeIndex: 10000 entries, 0 to 9999\n",
      "Data columns (total 14 columns):\n",
      " #   Column           Non-Null Count  Dtype  \n",
      "---  ------           --------------  -----  \n",
      " 0   RowNumber        10000 non-null  int64  \n",
      " 1   CustomerId       10000 non-null  int64  \n",
      " 2   Surname          10000 non-null  object \n",
      " 3   CreditScore      10000 non-null  int64  \n",
      " 4   Geography        10000 non-null  object \n",
      " 5   Gender           10000 non-null  object \n",
      " 6   Age              10000 non-null  int64  \n",
      " 7   Tenure           9091 non-null   float64\n",
      " 8   Balance          10000 non-null  float64\n",
      " 9   NumOfProducts    10000 non-null  int64  \n",
      " 10  HasCrCard        10000 non-null  int64  \n",
      " 11  IsActiveMember   10000 non-null  int64  \n",
      " 12  EstimatedSalary  10000 non-null  float64\n",
      " 13  Exited           10000 non-null  int64  \n",
      "dtypes: float64(3), int64(8), object(3)\n",
      "memory usage: 1.1+ MB\n"
     ]
    }
   ],
   "source": [
    "df.info()"
   ]
  },
  {
   "cell_type": "code",
   "execution_count": 7,
   "metadata": {
    "scrolled": false
   },
   "outputs": [
    {
     "data": {
      "text/html": [
       "<div>\n",
       "<style scoped>\n",
       "    .dataframe tbody tr th:only-of-type {\n",
       "        vertical-align: middle;\n",
       "    }\n",
       "\n",
       "    .dataframe tbody tr th {\n",
       "        vertical-align: top;\n",
       "    }\n",
       "\n",
       "    .dataframe thead th {\n",
       "        text-align: right;\n",
       "    }\n",
       "</style>\n",
       "<table border=\"1\" class=\"dataframe\">\n",
       "  <thead>\n",
       "    <tr style=\"text-align: right;\">\n",
       "      <th></th>\n",
       "      <th>RowNumber</th>\n",
       "      <th>CustomerId</th>\n",
       "      <th>Surname</th>\n",
       "      <th>CreditScore</th>\n",
       "      <th>Geography</th>\n",
       "      <th>Gender</th>\n",
       "      <th>Age</th>\n",
       "      <th>Tenure</th>\n",
       "      <th>Balance</th>\n",
       "      <th>NumOfProducts</th>\n",
       "      <th>HasCrCard</th>\n",
       "      <th>IsActiveMember</th>\n",
       "      <th>EstimatedSalary</th>\n",
       "      <th>Exited</th>\n",
       "    </tr>\n",
       "  </thead>\n",
       "  <tbody>\n",
       "    <tr>\n",
       "      <th>count</th>\n",
       "      <td>10000.00000</td>\n",
       "      <td>1.000000e+04</td>\n",
       "      <td>10000</td>\n",
       "      <td>10000.000000</td>\n",
       "      <td>10000</td>\n",
       "      <td>10000</td>\n",
       "      <td>10000.000000</td>\n",
       "      <td>9091.000000</td>\n",
       "      <td>10000.000000</td>\n",
       "      <td>10000.000000</td>\n",
       "      <td>10000.00000</td>\n",
       "      <td>10000.000000</td>\n",
       "      <td>10000.000000</td>\n",
       "      <td>10000.000000</td>\n",
       "    </tr>\n",
       "    <tr>\n",
       "      <th>unique</th>\n",
       "      <td>NaN</td>\n",
       "      <td>NaN</td>\n",
       "      <td>2932</td>\n",
       "      <td>NaN</td>\n",
       "      <td>3</td>\n",
       "      <td>2</td>\n",
       "      <td>NaN</td>\n",
       "      <td>NaN</td>\n",
       "      <td>NaN</td>\n",
       "      <td>NaN</td>\n",
       "      <td>NaN</td>\n",
       "      <td>NaN</td>\n",
       "      <td>NaN</td>\n",
       "      <td>NaN</td>\n",
       "    </tr>\n",
       "    <tr>\n",
       "      <th>top</th>\n",
       "      <td>NaN</td>\n",
       "      <td>NaN</td>\n",
       "      <td>Smith</td>\n",
       "      <td>NaN</td>\n",
       "      <td>France</td>\n",
       "      <td>Male</td>\n",
       "      <td>NaN</td>\n",
       "      <td>NaN</td>\n",
       "      <td>NaN</td>\n",
       "      <td>NaN</td>\n",
       "      <td>NaN</td>\n",
       "      <td>NaN</td>\n",
       "      <td>NaN</td>\n",
       "      <td>NaN</td>\n",
       "    </tr>\n",
       "    <tr>\n",
       "      <th>freq</th>\n",
       "      <td>NaN</td>\n",
       "      <td>NaN</td>\n",
       "      <td>32</td>\n",
       "      <td>NaN</td>\n",
       "      <td>5014</td>\n",
       "      <td>5457</td>\n",
       "      <td>NaN</td>\n",
       "      <td>NaN</td>\n",
       "      <td>NaN</td>\n",
       "      <td>NaN</td>\n",
       "      <td>NaN</td>\n",
       "      <td>NaN</td>\n",
       "      <td>NaN</td>\n",
       "      <td>NaN</td>\n",
       "    </tr>\n",
       "    <tr>\n",
       "      <th>mean</th>\n",
       "      <td>5000.50000</td>\n",
       "      <td>1.569094e+07</td>\n",
       "      <td>NaN</td>\n",
       "      <td>650.528800</td>\n",
       "      <td>NaN</td>\n",
       "      <td>NaN</td>\n",
       "      <td>38.921800</td>\n",
       "      <td>4.997690</td>\n",
       "      <td>76485.889288</td>\n",
       "      <td>1.530200</td>\n",
       "      <td>0.70550</td>\n",
       "      <td>0.515100</td>\n",
       "      <td>100090.239881</td>\n",
       "      <td>0.203700</td>\n",
       "    </tr>\n",
       "    <tr>\n",
       "      <th>std</th>\n",
       "      <td>2886.89568</td>\n",
       "      <td>7.193619e+04</td>\n",
       "      <td>NaN</td>\n",
       "      <td>96.653299</td>\n",
       "      <td>NaN</td>\n",
       "      <td>NaN</td>\n",
       "      <td>10.487806</td>\n",
       "      <td>2.894723</td>\n",
       "      <td>62397.405202</td>\n",
       "      <td>0.581654</td>\n",
       "      <td>0.45584</td>\n",
       "      <td>0.499797</td>\n",
       "      <td>57510.492818</td>\n",
       "      <td>0.402769</td>\n",
       "    </tr>\n",
       "    <tr>\n",
       "      <th>min</th>\n",
       "      <td>1.00000</td>\n",
       "      <td>1.556570e+07</td>\n",
       "      <td>NaN</td>\n",
       "      <td>350.000000</td>\n",
       "      <td>NaN</td>\n",
       "      <td>NaN</td>\n",
       "      <td>18.000000</td>\n",
       "      <td>0.000000</td>\n",
       "      <td>0.000000</td>\n",
       "      <td>1.000000</td>\n",
       "      <td>0.00000</td>\n",
       "      <td>0.000000</td>\n",
       "      <td>11.580000</td>\n",
       "      <td>0.000000</td>\n",
       "    </tr>\n",
       "    <tr>\n",
       "      <th>25%</th>\n",
       "      <td>2500.75000</td>\n",
       "      <td>1.562853e+07</td>\n",
       "      <td>NaN</td>\n",
       "      <td>584.000000</td>\n",
       "      <td>NaN</td>\n",
       "      <td>NaN</td>\n",
       "      <td>32.000000</td>\n",
       "      <td>2.000000</td>\n",
       "      <td>0.000000</td>\n",
       "      <td>1.000000</td>\n",
       "      <td>0.00000</td>\n",
       "      <td>0.000000</td>\n",
       "      <td>51002.110000</td>\n",
       "      <td>0.000000</td>\n",
       "    </tr>\n",
       "    <tr>\n",
       "      <th>50%</th>\n",
       "      <td>5000.50000</td>\n",
       "      <td>1.569074e+07</td>\n",
       "      <td>NaN</td>\n",
       "      <td>652.000000</td>\n",
       "      <td>NaN</td>\n",
       "      <td>NaN</td>\n",
       "      <td>37.000000</td>\n",
       "      <td>5.000000</td>\n",
       "      <td>97198.540000</td>\n",
       "      <td>1.000000</td>\n",
       "      <td>1.00000</td>\n",
       "      <td>1.000000</td>\n",
       "      <td>100193.915000</td>\n",
       "      <td>0.000000</td>\n",
       "    </tr>\n",
       "    <tr>\n",
       "      <th>75%</th>\n",
       "      <td>7500.25000</td>\n",
       "      <td>1.575323e+07</td>\n",
       "      <td>NaN</td>\n",
       "      <td>718.000000</td>\n",
       "      <td>NaN</td>\n",
       "      <td>NaN</td>\n",
       "      <td>44.000000</td>\n",
       "      <td>7.000000</td>\n",
       "      <td>127644.240000</td>\n",
       "      <td>2.000000</td>\n",
       "      <td>1.00000</td>\n",
       "      <td>1.000000</td>\n",
       "      <td>149388.247500</td>\n",
       "      <td>0.000000</td>\n",
       "    </tr>\n",
       "    <tr>\n",
       "      <th>max</th>\n",
       "      <td>10000.00000</td>\n",
       "      <td>1.581569e+07</td>\n",
       "      <td>NaN</td>\n",
       "      <td>850.000000</td>\n",
       "      <td>NaN</td>\n",
       "      <td>NaN</td>\n",
       "      <td>92.000000</td>\n",
       "      <td>10.000000</td>\n",
       "      <td>250898.090000</td>\n",
       "      <td>4.000000</td>\n",
       "      <td>1.00000</td>\n",
       "      <td>1.000000</td>\n",
       "      <td>199992.480000</td>\n",
       "      <td>1.000000</td>\n",
       "    </tr>\n",
       "  </tbody>\n",
       "</table>\n",
       "</div>"
      ],
      "text/plain": [
       "          RowNumber    CustomerId Surname   CreditScore Geography Gender  \\\n",
       "count   10000.00000  1.000000e+04   10000  10000.000000     10000  10000   \n",
       "unique          NaN           NaN    2932           NaN         3      2   \n",
       "top             NaN           NaN   Smith           NaN    France   Male   \n",
       "freq            NaN           NaN      32           NaN      5014   5457   \n",
       "mean     5000.50000  1.569094e+07     NaN    650.528800       NaN    NaN   \n",
       "std      2886.89568  7.193619e+04     NaN     96.653299       NaN    NaN   \n",
       "min         1.00000  1.556570e+07     NaN    350.000000       NaN    NaN   \n",
       "25%      2500.75000  1.562853e+07     NaN    584.000000       NaN    NaN   \n",
       "50%      5000.50000  1.569074e+07     NaN    652.000000       NaN    NaN   \n",
       "75%      7500.25000  1.575323e+07     NaN    718.000000       NaN    NaN   \n",
       "max     10000.00000  1.581569e+07     NaN    850.000000       NaN    NaN   \n",
       "\n",
       "                 Age       Tenure        Balance  NumOfProducts    HasCrCard  \\\n",
       "count   10000.000000  9091.000000   10000.000000   10000.000000  10000.00000   \n",
       "unique           NaN          NaN            NaN            NaN          NaN   \n",
       "top              NaN          NaN            NaN            NaN          NaN   \n",
       "freq             NaN          NaN            NaN            NaN          NaN   \n",
       "mean       38.921800     4.997690   76485.889288       1.530200      0.70550   \n",
       "std        10.487806     2.894723   62397.405202       0.581654      0.45584   \n",
       "min        18.000000     0.000000       0.000000       1.000000      0.00000   \n",
       "25%        32.000000     2.000000       0.000000       1.000000      0.00000   \n",
       "50%        37.000000     5.000000   97198.540000       1.000000      1.00000   \n",
       "75%        44.000000     7.000000  127644.240000       2.000000      1.00000   \n",
       "max        92.000000    10.000000  250898.090000       4.000000      1.00000   \n",
       "\n",
       "        IsActiveMember  EstimatedSalary        Exited  \n",
       "count     10000.000000     10000.000000  10000.000000  \n",
       "unique             NaN              NaN           NaN  \n",
       "top                NaN              NaN           NaN  \n",
       "freq               NaN              NaN           NaN  \n",
       "mean          0.515100    100090.239881      0.203700  \n",
       "std           0.499797     57510.492818      0.402769  \n",
       "min           0.000000        11.580000      0.000000  \n",
       "25%           0.000000     51002.110000      0.000000  \n",
       "50%           1.000000    100193.915000      0.000000  \n",
       "75%           1.000000    149388.247500      0.000000  \n",
       "max           1.000000    199992.480000      1.000000  "
      ]
     },
     "execution_count": 7,
     "metadata": {},
     "output_type": "execute_result"
    }
   ],
   "source": [
    "df.describe(include='all')"
   ]
  },
  {
   "cell_type": "markdown",
   "metadata": {},
   "source": [
    "Всю важную информацию вывели.\n",
    "Самый ключевой столбец - Exited.\n",
    "Он же и будет использоваться как целевой признак"
   ]
  },
  {
   "cell_type": "code",
   "execution_count": 8,
   "metadata": {},
   "outputs": [
    {
     "data": {
      "text/plain": [
       "0"
      ]
     },
     "execution_count": 8,
     "metadata": {},
     "output_type": "execute_result"
    }
   ],
   "source": [
    "df.duplicated().sum()"
   ]
  },
  {
   "cell_type": "code",
   "execution_count": 9,
   "metadata": {
    "scrolled": true
   },
   "outputs": [
    {
     "data": {
      "text/html": [
       "<div>\n",
       "<style scoped>\n",
       "    .dataframe tbody tr th:only-of-type {\n",
       "        vertical-align: middle;\n",
       "    }\n",
       "\n",
       "    .dataframe tbody tr th {\n",
       "        vertical-align: top;\n",
       "    }\n",
       "\n",
       "    .dataframe thead th {\n",
       "        text-align: right;\n",
       "    }\n",
       "</style>\n",
       "<table border=\"1\" class=\"dataframe\">\n",
       "  <thead>\n",
       "    <tr style=\"text-align: right;\">\n",
       "      <th></th>\n",
       "      <th>RowNumber</th>\n",
       "      <th>CustomerId</th>\n",
       "      <th>Surname</th>\n",
       "      <th>CreditScore</th>\n",
       "      <th>Geography</th>\n",
       "      <th>Gender</th>\n",
       "      <th>Age</th>\n",
       "      <th>Tenure</th>\n",
       "      <th>Balance</th>\n",
       "      <th>NumOfProducts</th>\n",
       "      <th>HasCrCard</th>\n",
       "      <th>IsActiveMember</th>\n",
       "      <th>EstimatedSalary</th>\n",
       "      <th>Exited</th>\n",
       "    </tr>\n",
       "  </thead>\n",
       "  <tbody>\n",
       "    <tr>\n",
       "      <th>0</th>\n",
       "      <td>1</td>\n",
       "      <td>15634602</td>\n",
       "      <td>Hargrave</td>\n",
       "      <td>619</td>\n",
       "      <td>France</td>\n",
       "      <td>Female</td>\n",
       "      <td>42</td>\n",
       "      <td>2.0</td>\n",
       "      <td>0.00</td>\n",
       "      <td>1</td>\n",
       "      <td>1</td>\n",
       "      <td>1</td>\n",
       "      <td>101348.88</td>\n",
       "      <td>1</td>\n",
       "    </tr>\n",
       "    <tr>\n",
       "      <th>1</th>\n",
       "      <td>2</td>\n",
       "      <td>15647311</td>\n",
       "      <td>Hill</td>\n",
       "      <td>608</td>\n",
       "      <td>Spain</td>\n",
       "      <td>Female</td>\n",
       "      <td>41</td>\n",
       "      <td>1.0</td>\n",
       "      <td>83807.86</td>\n",
       "      <td>1</td>\n",
       "      <td>0</td>\n",
       "      <td>1</td>\n",
       "      <td>112542.58</td>\n",
       "      <td>0</td>\n",
       "    </tr>\n",
       "    <tr>\n",
       "      <th>2</th>\n",
       "      <td>3</td>\n",
       "      <td>15619304</td>\n",
       "      <td>Onio</td>\n",
       "      <td>502</td>\n",
       "      <td>France</td>\n",
       "      <td>Female</td>\n",
       "      <td>42</td>\n",
       "      <td>8.0</td>\n",
       "      <td>159660.80</td>\n",
       "      <td>3</td>\n",
       "      <td>1</td>\n",
       "      <td>0</td>\n",
       "      <td>113931.57</td>\n",
       "      <td>1</td>\n",
       "    </tr>\n",
       "    <tr>\n",
       "      <th>3</th>\n",
       "      <td>4</td>\n",
       "      <td>15701354</td>\n",
       "      <td>Boni</td>\n",
       "      <td>699</td>\n",
       "      <td>France</td>\n",
       "      <td>Female</td>\n",
       "      <td>39</td>\n",
       "      <td>1.0</td>\n",
       "      <td>0.00</td>\n",
       "      <td>2</td>\n",
       "      <td>0</td>\n",
       "      <td>0</td>\n",
       "      <td>93826.63</td>\n",
       "      <td>0</td>\n",
       "    </tr>\n",
       "    <tr>\n",
       "      <th>4</th>\n",
       "      <td>5</td>\n",
       "      <td>15737888</td>\n",
       "      <td>Mitchell</td>\n",
       "      <td>850</td>\n",
       "      <td>Spain</td>\n",
       "      <td>Female</td>\n",
       "      <td>43</td>\n",
       "      <td>2.0</td>\n",
       "      <td>125510.82</td>\n",
       "      <td>1</td>\n",
       "      <td>1</td>\n",
       "      <td>1</td>\n",
       "      <td>79084.10</td>\n",
       "      <td>0</td>\n",
       "    </tr>\n",
       "    <tr>\n",
       "      <th>5</th>\n",
       "      <td>6</td>\n",
       "      <td>15574012</td>\n",
       "      <td>Chu</td>\n",
       "      <td>645</td>\n",
       "      <td>Spain</td>\n",
       "      <td>Male</td>\n",
       "      <td>44</td>\n",
       "      <td>8.0</td>\n",
       "      <td>113755.78</td>\n",
       "      <td>2</td>\n",
       "      <td>1</td>\n",
       "      <td>0</td>\n",
       "      <td>149756.71</td>\n",
       "      <td>1</td>\n",
       "    </tr>\n",
       "    <tr>\n",
       "      <th>6</th>\n",
       "      <td>7</td>\n",
       "      <td>15592531</td>\n",
       "      <td>Bartlett</td>\n",
       "      <td>822</td>\n",
       "      <td>France</td>\n",
       "      <td>Male</td>\n",
       "      <td>50</td>\n",
       "      <td>7.0</td>\n",
       "      <td>0.00</td>\n",
       "      <td>2</td>\n",
       "      <td>1</td>\n",
       "      <td>1</td>\n",
       "      <td>10062.80</td>\n",
       "      <td>0</td>\n",
       "    </tr>\n",
       "    <tr>\n",
       "      <th>7</th>\n",
       "      <td>8</td>\n",
       "      <td>15656148</td>\n",
       "      <td>Obinna</td>\n",
       "      <td>376</td>\n",
       "      <td>Germany</td>\n",
       "      <td>Female</td>\n",
       "      <td>29</td>\n",
       "      <td>4.0</td>\n",
       "      <td>115046.74</td>\n",
       "      <td>4</td>\n",
       "      <td>1</td>\n",
       "      <td>0</td>\n",
       "      <td>119346.88</td>\n",
       "      <td>1</td>\n",
       "    </tr>\n",
       "    <tr>\n",
       "      <th>8</th>\n",
       "      <td>9</td>\n",
       "      <td>15792365</td>\n",
       "      <td>He</td>\n",
       "      <td>501</td>\n",
       "      <td>France</td>\n",
       "      <td>Male</td>\n",
       "      <td>44</td>\n",
       "      <td>4.0</td>\n",
       "      <td>142051.07</td>\n",
       "      <td>2</td>\n",
       "      <td>0</td>\n",
       "      <td>1</td>\n",
       "      <td>74940.50</td>\n",
       "      <td>0</td>\n",
       "    </tr>\n",
       "    <tr>\n",
       "      <th>9</th>\n",
       "      <td>10</td>\n",
       "      <td>15592389</td>\n",
       "      <td>H?</td>\n",
       "      <td>684</td>\n",
       "      <td>France</td>\n",
       "      <td>Male</td>\n",
       "      <td>27</td>\n",
       "      <td>2.0</td>\n",
       "      <td>134603.88</td>\n",
       "      <td>1</td>\n",
       "      <td>1</td>\n",
       "      <td>1</td>\n",
       "      <td>71725.73</td>\n",
       "      <td>0</td>\n",
       "    </tr>\n",
       "    <tr>\n",
       "      <th>10</th>\n",
       "      <td>11</td>\n",
       "      <td>15767821</td>\n",
       "      <td>Bearce</td>\n",
       "      <td>528</td>\n",
       "      <td>France</td>\n",
       "      <td>Male</td>\n",
       "      <td>31</td>\n",
       "      <td>6.0</td>\n",
       "      <td>102016.72</td>\n",
       "      <td>2</td>\n",
       "      <td>0</td>\n",
       "      <td>0</td>\n",
       "      <td>80181.12</td>\n",
       "      <td>0</td>\n",
       "    </tr>\n",
       "    <tr>\n",
       "      <th>11</th>\n",
       "      <td>12</td>\n",
       "      <td>15737173</td>\n",
       "      <td>Andrews</td>\n",
       "      <td>497</td>\n",
       "      <td>Spain</td>\n",
       "      <td>Male</td>\n",
       "      <td>24</td>\n",
       "      <td>3.0</td>\n",
       "      <td>0.00</td>\n",
       "      <td>2</td>\n",
       "      <td>1</td>\n",
       "      <td>0</td>\n",
       "      <td>76390.01</td>\n",
       "      <td>0</td>\n",
       "    </tr>\n",
       "    <tr>\n",
       "      <th>12</th>\n",
       "      <td>13</td>\n",
       "      <td>15632264</td>\n",
       "      <td>Kay</td>\n",
       "      <td>476</td>\n",
       "      <td>France</td>\n",
       "      <td>Female</td>\n",
       "      <td>34</td>\n",
       "      <td>10.0</td>\n",
       "      <td>0.00</td>\n",
       "      <td>2</td>\n",
       "      <td>1</td>\n",
       "      <td>0</td>\n",
       "      <td>26260.98</td>\n",
       "      <td>0</td>\n",
       "    </tr>\n",
       "    <tr>\n",
       "      <th>13</th>\n",
       "      <td>14</td>\n",
       "      <td>15691483</td>\n",
       "      <td>Chin</td>\n",
       "      <td>549</td>\n",
       "      <td>France</td>\n",
       "      <td>Female</td>\n",
       "      <td>25</td>\n",
       "      <td>5.0</td>\n",
       "      <td>0.00</td>\n",
       "      <td>2</td>\n",
       "      <td>0</td>\n",
       "      <td>0</td>\n",
       "      <td>190857.79</td>\n",
       "      <td>0</td>\n",
       "    </tr>\n",
       "    <tr>\n",
       "      <th>14</th>\n",
       "      <td>15</td>\n",
       "      <td>15600882</td>\n",
       "      <td>Scott</td>\n",
       "      <td>635</td>\n",
       "      <td>Spain</td>\n",
       "      <td>Female</td>\n",
       "      <td>35</td>\n",
       "      <td>7.0</td>\n",
       "      <td>0.00</td>\n",
       "      <td>2</td>\n",
       "      <td>1</td>\n",
       "      <td>1</td>\n",
       "      <td>65951.65</td>\n",
       "      <td>0</td>\n",
       "    </tr>\n",
       "    <tr>\n",
       "      <th>15</th>\n",
       "      <td>16</td>\n",
       "      <td>15643966</td>\n",
       "      <td>Goforth</td>\n",
       "      <td>616</td>\n",
       "      <td>Germany</td>\n",
       "      <td>Male</td>\n",
       "      <td>45</td>\n",
       "      <td>3.0</td>\n",
       "      <td>143129.41</td>\n",
       "      <td>2</td>\n",
       "      <td>0</td>\n",
       "      <td>1</td>\n",
       "      <td>64327.26</td>\n",
       "      <td>0</td>\n",
       "    </tr>\n",
       "    <tr>\n",
       "      <th>16</th>\n",
       "      <td>17</td>\n",
       "      <td>15737452</td>\n",
       "      <td>Romeo</td>\n",
       "      <td>653</td>\n",
       "      <td>Germany</td>\n",
       "      <td>Male</td>\n",
       "      <td>58</td>\n",
       "      <td>1.0</td>\n",
       "      <td>132602.88</td>\n",
       "      <td>1</td>\n",
       "      <td>1</td>\n",
       "      <td>0</td>\n",
       "      <td>5097.67</td>\n",
       "      <td>1</td>\n",
       "    </tr>\n",
       "    <tr>\n",
       "      <th>17</th>\n",
       "      <td>18</td>\n",
       "      <td>15788218</td>\n",
       "      <td>Henderson</td>\n",
       "      <td>549</td>\n",
       "      <td>Spain</td>\n",
       "      <td>Female</td>\n",
       "      <td>24</td>\n",
       "      <td>9.0</td>\n",
       "      <td>0.00</td>\n",
       "      <td>2</td>\n",
       "      <td>1</td>\n",
       "      <td>1</td>\n",
       "      <td>14406.41</td>\n",
       "      <td>0</td>\n",
       "    </tr>\n",
       "    <tr>\n",
       "      <th>18</th>\n",
       "      <td>19</td>\n",
       "      <td>15661507</td>\n",
       "      <td>Muldrow</td>\n",
       "      <td>587</td>\n",
       "      <td>Spain</td>\n",
       "      <td>Male</td>\n",
       "      <td>45</td>\n",
       "      <td>6.0</td>\n",
       "      <td>0.00</td>\n",
       "      <td>1</td>\n",
       "      <td>0</td>\n",
       "      <td>0</td>\n",
       "      <td>158684.81</td>\n",
       "      <td>0</td>\n",
       "    </tr>\n",
       "    <tr>\n",
       "      <th>19</th>\n",
       "      <td>20</td>\n",
       "      <td>15568982</td>\n",
       "      <td>Hao</td>\n",
       "      <td>726</td>\n",
       "      <td>France</td>\n",
       "      <td>Female</td>\n",
       "      <td>24</td>\n",
       "      <td>6.0</td>\n",
       "      <td>0.00</td>\n",
       "      <td>2</td>\n",
       "      <td>1</td>\n",
       "      <td>1</td>\n",
       "      <td>54724.03</td>\n",
       "      <td>0</td>\n",
       "    </tr>\n",
       "  </tbody>\n",
       "</table>\n",
       "</div>"
      ],
      "text/plain": [
       "    RowNumber  CustomerId    Surname  CreditScore Geography  Gender  Age  \\\n",
       "0           1    15634602   Hargrave          619    France  Female   42   \n",
       "1           2    15647311       Hill          608     Spain  Female   41   \n",
       "2           3    15619304       Onio          502    France  Female   42   \n",
       "3           4    15701354       Boni          699    France  Female   39   \n",
       "4           5    15737888   Mitchell          850     Spain  Female   43   \n",
       "5           6    15574012        Chu          645     Spain    Male   44   \n",
       "6           7    15592531   Bartlett          822    France    Male   50   \n",
       "7           8    15656148     Obinna          376   Germany  Female   29   \n",
       "8           9    15792365         He          501    France    Male   44   \n",
       "9          10    15592389         H?          684    France    Male   27   \n",
       "10         11    15767821     Bearce          528    France    Male   31   \n",
       "11         12    15737173    Andrews          497     Spain    Male   24   \n",
       "12         13    15632264        Kay          476    France  Female   34   \n",
       "13         14    15691483       Chin          549    France  Female   25   \n",
       "14         15    15600882      Scott          635     Spain  Female   35   \n",
       "15         16    15643966    Goforth          616   Germany    Male   45   \n",
       "16         17    15737452      Romeo          653   Germany    Male   58   \n",
       "17         18    15788218  Henderson          549     Spain  Female   24   \n",
       "18         19    15661507    Muldrow          587     Spain    Male   45   \n",
       "19         20    15568982        Hao          726    France  Female   24   \n",
       "\n",
       "    Tenure    Balance  NumOfProducts  HasCrCard  IsActiveMember  \\\n",
       "0      2.0       0.00              1          1               1   \n",
       "1      1.0   83807.86              1          0               1   \n",
       "2      8.0  159660.80              3          1               0   \n",
       "3      1.0       0.00              2          0               0   \n",
       "4      2.0  125510.82              1          1               1   \n",
       "5      8.0  113755.78              2          1               0   \n",
       "6      7.0       0.00              2          1               1   \n",
       "7      4.0  115046.74              4          1               0   \n",
       "8      4.0  142051.07              2          0               1   \n",
       "9      2.0  134603.88              1          1               1   \n",
       "10     6.0  102016.72              2          0               0   \n",
       "11     3.0       0.00              2          1               0   \n",
       "12    10.0       0.00              2          1               0   \n",
       "13     5.0       0.00              2          0               0   \n",
       "14     7.0       0.00              2          1               1   \n",
       "15     3.0  143129.41              2          0               1   \n",
       "16     1.0  132602.88              1          1               0   \n",
       "17     9.0       0.00              2          1               1   \n",
       "18     6.0       0.00              1          0               0   \n",
       "19     6.0       0.00              2          1               1   \n",
       "\n",
       "    EstimatedSalary  Exited  \n",
       "0         101348.88       1  \n",
       "1         112542.58       0  \n",
       "2         113931.57       1  \n",
       "3          93826.63       0  \n",
       "4          79084.10       0  \n",
       "5         149756.71       1  \n",
       "6          10062.80       0  \n",
       "7         119346.88       1  \n",
       "8          74940.50       0  \n",
       "9          71725.73       0  \n",
       "10         80181.12       0  \n",
       "11         76390.01       0  \n",
       "12         26260.98       0  \n",
       "13        190857.79       0  \n",
       "14         65951.65       0  \n",
       "15         64327.26       0  \n",
       "16          5097.67       1  \n",
       "17         14406.41       0  \n",
       "18        158684.81       0  \n",
       "19         54724.03       0  "
      ]
     },
     "execution_count": 9,
     "metadata": {},
     "output_type": "execute_result"
    }
   ],
   "source": [
    "df.head(20)"
   ]
  },
  {
   "cell_type": "code",
   "execution_count": 10,
   "metadata": {},
   "outputs": [
    {
     "data": {
      "text/plain": [
       "array([ 2.,  1.,  8.,  7.,  4.,  6.,  3., 10.,  5.,  9.,  0., nan])"
      ]
     },
     "execution_count": 10,
     "metadata": {},
     "output_type": "execute_result"
    }
   ],
   "source": [
    "df['Tenure'].unique()"
   ]
  },
  {
   "cell_type": "markdown",
   "metadata": {},
   "source": [
    "В столбце Tenure есть nan значения\n",
    "По идее, лучшим вариантом будет заполнить или же медианным значением, или же минимальным, т.е. нулём. "
   ]
  },
  {
   "cell_type": "code",
   "execution_count": 11,
   "metadata": {
    "scrolled": false
   },
   "outputs": [
    {
     "data": {
      "text/plain": [
       "array([ 2.,  1.,  8.,  7.,  4.,  6.,  3., 10.,  5.,  9.,  0.])"
      ]
     },
     "execution_count": 11,
     "metadata": {},
     "output_type": "execute_result"
    }
   ],
   "source": [
    "df['Tenure'] = df['Tenure'].fillna(df['Tenure'].median())\n",
    "df['Tenure'].unique()"
   ]
  },
  {
   "cell_type": "code",
   "execution_count": 12,
   "metadata": {},
   "outputs": [
    {
     "data": {
      "text/plain": [
       "array(['France', 'Spain', 'Germany'], dtype=object)"
      ]
     },
     "execution_count": 12,
     "metadata": {},
     "output_type": "execute_result"
    }
   ],
   "source": [
    "df['Geography'].unique()"
   ]
  },
  {
   "cell_type": "markdown",
   "metadata": {},
   "source": [
    "Промежуточные выводы:\n",
    "* Row Number не понадобится нам для ML\n",
    "* Costomerld - есть просто ид клиента, что тоже бесполезно будет для ML\n",
    "* Surname - фамилия клиента, бесполезна для ML\n",
    "\n",
    "Все остальные столбцы, думаю, будут полезны.\n",
    "\n",
    "\n",
    "\n",
    "* Geography - стран всего 3, нужно будет делать ordinal encoding\n",
    "* Gender - всего два, поэтому требуется ordinal encoding\n"
   ]
  },
  {
   "cell_type": "markdown",
   "metadata": {},
   "source": [
    "## Исследование задачи"
   ]
  },
  {
   "cell_type": "markdown",
   "metadata": {},
   "source": [
    "### Подготовка данных для машинного обучения"
   ]
  },
  {
   "cell_type": "code",
   "execution_count": 13,
   "metadata": {},
   "outputs": [],
   "source": [
    "drop_df = ['RowNumber', 'CustomerId', 'Surname']\n",
    "df = df.drop(drop_df, axis=1)"
   ]
  },
  {
   "cell_type": "code",
   "execution_count": 14,
   "metadata": {
    "scrolled": true
   },
   "outputs": [
    {
     "data": {
      "text/html": [
       "<div>\n",
       "<style scoped>\n",
       "    .dataframe tbody tr th:only-of-type {\n",
       "        vertical-align: middle;\n",
       "    }\n",
       "\n",
       "    .dataframe tbody tr th {\n",
       "        vertical-align: top;\n",
       "    }\n",
       "\n",
       "    .dataframe thead th {\n",
       "        text-align: right;\n",
       "    }\n",
       "</style>\n",
       "<table border=\"1\" class=\"dataframe\">\n",
       "  <thead>\n",
       "    <tr style=\"text-align: right;\">\n",
       "      <th></th>\n",
       "      <th>CreditScore</th>\n",
       "      <th>Geography</th>\n",
       "      <th>Gender</th>\n",
       "      <th>Age</th>\n",
       "      <th>Tenure</th>\n",
       "      <th>Balance</th>\n",
       "      <th>NumOfProducts</th>\n",
       "      <th>HasCrCard</th>\n",
       "      <th>IsActiveMember</th>\n",
       "      <th>EstimatedSalary</th>\n",
       "      <th>Exited</th>\n",
       "    </tr>\n",
       "  </thead>\n",
       "  <tbody>\n",
       "    <tr>\n",
       "      <th>0</th>\n",
       "      <td>619</td>\n",
       "      <td>France</td>\n",
       "      <td>Female</td>\n",
       "      <td>42</td>\n",
       "      <td>2.0</td>\n",
       "      <td>0.00</td>\n",
       "      <td>1</td>\n",
       "      <td>1</td>\n",
       "      <td>1</td>\n",
       "      <td>101348.88</td>\n",
       "      <td>1</td>\n",
       "    </tr>\n",
       "    <tr>\n",
       "      <th>1</th>\n",
       "      <td>608</td>\n",
       "      <td>Spain</td>\n",
       "      <td>Female</td>\n",
       "      <td>41</td>\n",
       "      <td>1.0</td>\n",
       "      <td>83807.86</td>\n",
       "      <td>1</td>\n",
       "      <td>0</td>\n",
       "      <td>1</td>\n",
       "      <td>112542.58</td>\n",
       "      <td>0</td>\n",
       "    </tr>\n",
       "    <tr>\n",
       "      <th>2</th>\n",
       "      <td>502</td>\n",
       "      <td>France</td>\n",
       "      <td>Female</td>\n",
       "      <td>42</td>\n",
       "      <td>8.0</td>\n",
       "      <td>159660.80</td>\n",
       "      <td>3</td>\n",
       "      <td>1</td>\n",
       "      <td>0</td>\n",
       "      <td>113931.57</td>\n",
       "      <td>1</td>\n",
       "    </tr>\n",
       "    <tr>\n",
       "      <th>3</th>\n",
       "      <td>699</td>\n",
       "      <td>France</td>\n",
       "      <td>Female</td>\n",
       "      <td>39</td>\n",
       "      <td>1.0</td>\n",
       "      <td>0.00</td>\n",
       "      <td>2</td>\n",
       "      <td>0</td>\n",
       "      <td>0</td>\n",
       "      <td>93826.63</td>\n",
       "      <td>0</td>\n",
       "    </tr>\n",
       "    <tr>\n",
       "      <th>4</th>\n",
       "      <td>850</td>\n",
       "      <td>Spain</td>\n",
       "      <td>Female</td>\n",
       "      <td>43</td>\n",
       "      <td>2.0</td>\n",
       "      <td>125510.82</td>\n",
       "      <td>1</td>\n",
       "      <td>1</td>\n",
       "      <td>1</td>\n",
       "      <td>79084.10</td>\n",
       "      <td>0</td>\n",
       "    </tr>\n",
       "    <tr>\n",
       "      <th>5</th>\n",
       "      <td>645</td>\n",
       "      <td>Spain</td>\n",
       "      <td>Male</td>\n",
       "      <td>44</td>\n",
       "      <td>8.0</td>\n",
       "      <td>113755.78</td>\n",
       "      <td>2</td>\n",
       "      <td>1</td>\n",
       "      <td>0</td>\n",
       "      <td>149756.71</td>\n",
       "      <td>1</td>\n",
       "    </tr>\n",
       "    <tr>\n",
       "      <th>6</th>\n",
       "      <td>822</td>\n",
       "      <td>France</td>\n",
       "      <td>Male</td>\n",
       "      <td>50</td>\n",
       "      <td>7.0</td>\n",
       "      <td>0.00</td>\n",
       "      <td>2</td>\n",
       "      <td>1</td>\n",
       "      <td>1</td>\n",
       "      <td>10062.80</td>\n",
       "      <td>0</td>\n",
       "    </tr>\n",
       "    <tr>\n",
       "      <th>7</th>\n",
       "      <td>376</td>\n",
       "      <td>Germany</td>\n",
       "      <td>Female</td>\n",
       "      <td>29</td>\n",
       "      <td>4.0</td>\n",
       "      <td>115046.74</td>\n",
       "      <td>4</td>\n",
       "      <td>1</td>\n",
       "      <td>0</td>\n",
       "      <td>119346.88</td>\n",
       "      <td>1</td>\n",
       "    </tr>\n",
       "    <tr>\n",
       "      <th>8</th>\n",
       "      <td>501</td>\n",
       "      <td>France</td>\n",
       "      <td>Male</td>\n",
       "      <td>44</td>\n",
       "      <td>4.0</td>\n",
       "      <td>142051.07</td>\n",
       "      <td>2</td>\n",
       "      <td>0</td>\n",
       "      <td>1</td>\n",
       "      <td>74940.50</td>\n",
       "      <td>0</td>\n",
       "    </tr>\n",
       "    <tr>\n",
       "      <th>9</th>\n",
       "      <td>684</td>\n",
       "      <td>France</td>\n",
       "      <td>Male</td>\n",
       "      <td>27</td>\n",
       "      <td>2.0</td>\n",
       "      <td>134603.88</td>\n",
       "      <td>1</td>\n",
       "      <td>1</td>\n",
       "      <td>1</td>\n",
       "      <td>71725.73</td>\n",
       "      <td>0</td>\n",
       "    </tr>\n",
       "  </tbody>\n",
       "</table>\n",
       "</div>"
      ],
      "text/plain": [
       "   CreditScore Geography  Gender  Age  Tenure    Balance  NumOfProducts  \\\n",
       "0          619    France  Female   42     2.0       0.00              1   \n",
       "1          608     Spain  Female   41     1.0   83807.86              1   \n",
       "2          502    France  Female   42     8.0  159660.80              3   \n",
       "3          699    France  Female   39     1.0       0.00              2   \n",
       "4          850     Spain  Female   43     2.0  125510.82              1   \n",
       "5          645     Spain    Male   44     8.0  113755.78              2   \n",
       "6          822    France    Male   50     7.0       0.00              2   \n",
       "7          376   Germany  Female   29     4.0  115046.74              4   \n",
       "8          501    France    Male   44     4.0  142051.07              2   \n",
       "9          684    France    Male   27     2.0  134603.88              1   \n",
       "\n",
       "   HasCrCard  IsActiveMember  EstimatedSalary  Exited  \n",
       "0          1               1        101348.88       1  \n",
       "1          0               1        112542.58       0  \n",
       "2          1               0        113931.57       1  \n",
       "3          0               0         93826.63       0  \n",
       "4          1               1         79084.10       0  \n",
       "5          1               0        149756.71       1  \n",
       "6          1               1         10062.80       0  \n",
       "7          1               0        119346.88       1  \n",
       "8          0               1         74940.50       0  \n",
       "9          1               1         71725.73       0  "
      ]
     },
     "execution_count": 14,
     "metadata": {},
     "output_type": "execute_result"
    }
   ],
   "source": [
    "df.head(10)"
   ]
  },
  {
   "cell_type": "code",
   "execution_count": 15,
   "metadata": {
    "scrolled": false
   },
   "outputs": [
    {
     "data": {
      "text/plain": [
       "(10000, 11)"
      ]
     },
     "execution_count": 15,
     "metadata": {},
     "output_type": "execute_result"
    }
   ],
   "source": [
    "df.shape"
   ]
  },
  {
   "cell_type": "markdown",
   "metadata": {},
   "source": [
    "Удалили лишние столбцы, оставили лишь важные для обучения ML<br>\n"
   ]
  },
  {
   "cell_type": "code",
   "execution_count": 16,
   "metadata": {
    "scrolled": true
   },
   "outputs": [
    {
     "data": {
      "text/html": [
       "<div>\n",
       "<style scoped>\n",
       "    .dataframe tbody tr th:only-of-type {\n",
       "        vertical-align: middle;\n",
       "    }\n",
       "\n",
       "    .dataframe tbody tr th {\n",
       "        vertical-align: top;\n",
       "    }\n",
       "\n",
       "    .dataframe thead th {\n",
       "        text-align: right;\n",
       "    }\n",
       "</style>\n",
       "<table border=\"1\" class=\"dataframe\">\n",
       "  <thead>\n",
       "    <tr style=\"text-align: right;\">\n",
       "      <th></th>\n",
       "      <th>CreditScore</th>\n",
       "      <th>Age</th>\n",
       "      <th>Tenure</th>\n",
       "      <th>Balance</th>\n",
       "      <th>NumOfProducts</th>\n",
       "      <th>HasCrCard</th>\n",
       "      <th>IsActiveMember</th>\n",
       "      <th>EstimatedSalary</th>\n",
       "      <th>Exited</th>\n",
       "      <th>Geography_Germany</th>\n",
       "      <th>Geography_Spain</th>\n",
       "      <th>Gender_Male</th>\n",
       "    </tr>\n",
       "  </thead>\n",
       "  <tbody>\n",
       "    <tr>\n",
       "      <th>0</th>\n",
       "      <td>619</td>\n",
       "      <td>42</td>\n",
       "      <td>2.0</td>\n",
       "      <td>0.00</td>\n",
       "      <td>1</td>\n",
       "      <td>1</td>\n",
       "      <td>1</td>\n",
       "      <td>101348.88</td>\n",
       "      <td>1</td>\n",
       "      <td>0</td>\n",
       "      <td>0</td>\n",
       "      <td>0</td>\n",
       "    </tr>\n",
       "    <tr>\n",
       "      <th>1</th>\n",
       "      <td>608</td>\n",
       "      <td>41</td>\n",
       "      <td>1.0</td>\n",
       "      <td>83807.86</td>\n",
       "      <td>1</td>\n",
       "      <td>0</td>\n",
       "      <td>1</td>\n",
       "      <td>112542.58</td>\n",
       "      <td>0</td>\n",
       "      <td>0</td>\n",
       "      <td>1</td>\n",
       "      <td>0</td>\n",
       "    </tr>\n",
       "    <tr>\n",
       "      <th>2</th>\n",
       "      <td>502</td>\n",
       "      <td>42</td>\n",
       "      <td>8.0</td>\n",
       "      <td>159660.80</td>\n",
       "      <td>3</td>\n",
       "      <td>1</td>\n",
       "      <td>0</td>\n",
       "      <td>113931.57</td>\n",
       "      <td>1</td>\n",
       "      <td>0</td>\n",
       "      <td>0</td>\n",
       "      <td>0</td>\n",
       "    </tr>\n",
       "    <tr>\n",
       "      <th>3</th>\n",
       "      <td>699</td>\n",
       "      <td>39</td>\n",
       "      <td>1.0</td>\n",
       "      <td>0.00</td>\n",
       "      <td>2</td>\n",
       "      <td>0</td>\n",
       "      <td>0</td>\n",
       "      <td>93826.63</td>\n",
       "      <td>0</td>\n",
       "      <td>0</td>\n",
       "      <td>0</td>\n",
       "      <td>0</td>\n",
       "    </tr>\n",
       "    <tr>\n",
       "      <th>4</th>\n",
       "      <td>850</td>\n",
       "      <td>43</td>\n",
       "      <td>2.0</td>\n",
       "      <td>125510.82</td>\n",
       "      <td>1</td>\n",
       "      <td>1</td>\n",
       "      <td>1</td>\n",
       "      <td>79084.10</td>\n",
       "      <td>0</td>\n",
       "      <td>0</td>\n",
       "      <td>1</td>\n",
       "      <td>0</td>\n",
       "    </tr>\n",
       "  </tbody>\n",
       "</table>\n",
       "</div>"
      ],
      "text/plain": [
       "   CreditScore  Age  Tenure    Balance  NumOfProducts  HasCrCard  \\\n",
       "0          619   42     2.0       0.00              1          1   \n",
       "1          608   41     1.0   83807.86              1          0   \n",
       "2          502   42     8.0  159660.80              3          1   \n",
       "3          699   39     1.0       0.00              2          0   \n",
       "4          850   43     2.0  125510.82              1          1   \n",
       "\n",
       "   IsActiveMember  EstimatedSalary  Exited  Geography_Germany  \\\n",
       "0               1        101348.88       1                  0   \n",
       "1               1        112542.58       0                  0   \n",
       "2               0        113931.57       1                  0   \n",
       "3               0         93826.63       0                  0   \n",
       "4               1         79084.10       0                  0   \n",
       "\n",
       "   Geography_Spain  Gender_Male  \n",
       "0                0            0  \n",
       "1                1            0  \n",
       "2                0            0  \n",
       "3                0            0  \n",
       "4                1            0  "
      ]
     },
     "execution_count": 16,
     "metadata": {},
     "output_type": "execute_result"
    }
   ],
   "source": [
    "df = pd.get_dummies(df, drop_first=True)\n",
    "df.head()"
   ]
  },
  {
   "cell_type": "markdown",
   "metadata": {},
   "source": [
    "Итак. Методом get_dummies для датасета мы разобрали столбцы Geography и Gender на дополнительные."
   ]
  },
  {
   "cell_type": "markdown",
   "metadata": {},
   "source": [
    "### Формирование выборок"
   ]
  },
  {
   "cell_type": "markdown",
   "metadata": {},
   "source": [
    "Формировать будем 60 - 20 - 20, где 60% будет отводиться обучению, и по 20 валид. и тест. выборке"
   ]
  },
  {
   "cell_type": "code",
   "execution_count": 17,
   "metadata": {},
   "outputs": [],
   "source": [
    "features = df.drop('Exited', axis=1)\n",
    "target = df['Exited']"
   ]
  },
  {
   "cell_type": "code",
   "execution_count": 18,
   "metadata": {},
   "outputs": [],
   "source": [
    "features_train, features_validtest, target_train, target_validtest = train_test_split(features,\n",
    "                                                    target,\n",
    "                                                    train_size=0.6,\n",
    "                                                    random_state=12345)"
   ]
  },
  {
   "cell_type": "code",
   "execution_count": 19,
   "metadata": {},
   "outputs": [],
   "source": [
    "features_valid, features_test, target_valid, target_test = train_test_split(features_validtest,\n",
    "                                                    target_validtest,\n",
    "                                                    train_size=0.5,\n",
    "                                                    random_state=12345)"
   ]
  },
  {
   "cell_type": "markdown",
   "metadata": {},
   "source": [
    "**Вывод**\n",
    "\n",
    "Были создана выборки:\n",
    "\n",
    "- *Обучающая*:\n",
    "\n",
    "features_train, target_train\n",
    "\n",
    "- *Валидационная*:\n",
    "\n",
    "features_valid, target_valid\n",
    "\n",
    "- *Тестовая*:\n",
    "\n",
    "features_test, target_test"
   ]
  },
  {
   "cell_type": "code",
   "execution_count": 20,
   "metadata": {},
   "outputs": [
    {
     "data": {
      "text/plain": [
       "(6000, 11)"
      ]
     },
     "execution_count": 20,
     "metadata": {},
     "output_type": "execute_result"
    }
   ],
   "source": [
    "features_train.shape"
   ]
  },
  {
   "cell_type": "code",
   "execution_count": 21,
   "metadata": {},
   "outputs": [
    {
     "data": {
      "text/html": [
       "<div>\n",
       "<style scoped>\n",
       "    .dataframe tbody tr th:only-of-type {\n",
       "        vertical-align: middle;\n",
       "    }\n",
       "\n",
       "    .dataframe tbody tr th {\n",
       "        vertical-align: top;\n",
       "    }\n",
       "\n",
       "    .dataframe thead th {\n",
       "        text-align: right;\n",
       "    }\n",
       "</style>\n",
       "<table border=\"1\" class=\"dataframe\">\n",
       "  <thead>\n",
       "    <tr style=\"text-align: right;\">\n",
       "      <th></th>\n",
       "      <th>CreditScore</th>\n",
       "      <th>Age</th>\n",
       "      <th>Tenure</th>\n",
       "      <th>Balance</th>\n",
       "      <th>NumOfProducts</th>\n",
       "      <th>HasCrCard</th>\n",
       "      <th>IsActiveMember</th>\n",
       "      <th>EstimatedSalary</th>\n",
       "      <th>Geography_Germany</th>\n",
       "      <th>Geography_Spain</th>\n",
       "      <th>Gender_Male</th>\n",
       "    </tr>\n",
       "  </thead>\n",
       "  <tbody>\n",
       "    <tr>\n",
       "      <th>7479</th>\n",
       "      <td>567</td>\n",
       "      <td>35</td>\n",
       "      <td>8.0</td>\n",
       "      <td>153137.74</td>\n",
       "      <td>1</td>\n",
       "      <td>1</td>\n",
       "      <td>0</td>\n",
       "      <td>88659.07</td>\n",
       "      <td>0</td>\n",
       "      <td>1</td>\n",
       "      <td>1</td>\n",
       "    </tr>\n",
       "    <tr>\n",
       "      <th>3411</th>\n",
       "      <td>711</td>\n",
       "      <td>37</td>\n",
       "      <td>8.0</td>\n",
       "      <td>113899.92</td>\n",
       "      <td>1</td>\n",
       "      <td>0</td>\n",
       "      <td>0</td>\n",
       "      <td>80215.20</td>\n",
       "      <td>0</td>\n",
       "      <td>0</td>\n",
       "      <td>0</td>\n",
       "    </tr>\n",
       "    <tr>\n",
       "      <th>6027</th>\n",
       "      <td>850</td>\n",
       "      <td>44</td>\n",
       "      <td>3.0</td>\n",
       "      <td>140393.65</td>\n",
       "      <td>2</td>\n",
       "      <td>0</td>\n",
       "      <td>1</td>\n",
       "      <td>186285.52</td>\n",
       "      <td>1</td>\n",
       "      <td>0</td>\n",
       "      <td>1</td>\n",
       "    </tr>\n",
       "    <tr>\n",
       "      <th>1247</th>\n",
       "      <td>512</td>\n",
       "      <td>24</td>\n",
       "      <td>6.0</td>\n",
       "      <td>0.00</td>\n",
       "      <td>2</td>\n",
       "      <td>1</td>\n",
       "      <td>0</td>\n",
       "      <td>37654.31</td>\n",
       "      <td>0</td>\n",
       "      <td>0</td>\n",
       "      <td>1</td>\n",
       "    </tr>\n",
       "    <tr>\n",
       "      <th>3716</th>\n",
       "      <td>665</td>\n",
       "      <td>27</td>\n",
       "      <td>2.0</td>\n",
       "      <td>147435.96</td>\n",
       "      <td>1</td>\n",
       "      <td>0</td>\n",
       "      <td>0</td>\n",
       "      <td>187508.06</td>\n",
       "      <td>1</td>\n",
       "      <td>0</td>\n",
       "      <td>0</td>\n",
       "    </tr>\n",
       "  </tbody>\n",
       "</table>\n",
       "</div>"
      ],
      "text/plain": [
       "      CreditScore  Age  Tenure    Balance  NumOfProducts  HasCrCard  \\\n",
       "7479          567   35     8.0  153137.74              1          1   \n",
       "3411          711   37     8.0  113899.92              1          0   \n",
       "6027          850   44     3.0  140393.65              2          0   \n",
       "1247          512   24     6.0       0.00              2          1   \n",
       "3716          665   27     2.0  147435.96              1          0   \n",
       "\n",
       "      IsActiveMember  EstimatedSalary  Geography_Germany  Geography_Spain  \\\n",
       "7479               0         88659.07                  0                1   \n",
       "3411               0         80215.20                  0                0   \n",
       "6027               1        186285.52                  1                0   \n",
       "1247               0         37654.31                  0                0   \n",
       "3716               0        187508.06                  1                0   \n",
       "\n",
       "      Gender_Male  \n",
       "7479            1  \n",
       "3411            0  \n",
       "6027            1  \n",
       "1247            1  \n",
       "3716            0  "
      ]
     },
     "execution_count": 21,
     "metadata": {},
     "output_type": "execute_result"
    }
   ],
   "source": [
    "features_train.head()"
   ]
  },
  {
   "cell_type": "code",
   "execution_count": 22,
   "metadata": {},
   "outputs": [],
   "source": [
    "#Методом scaler определим численные признаки для масштабирования\n",
    "numeric = ['CreditScore', 'Age', 'Tenure', 'Balance', 'NumOfProducts', 'EstimatedSalary']"
   ]
  },
  {
   "cell_type": "code",
   "execution_count": 23,
   "metadata": {},
   "outputs": [
    {
     "data": {
      "text/html": [
       "<style>#sk-container-id-1 {color: black;background-color: white;}#sk-container-id-1 pre{padding: 0;}#sk-container-id-1 div.sk-toggleable {background-color: white;}#sk-container-id-1 label.sk-toggleable__label {cursor: pointer;display: block;width: 100%;margin-bottom: 0;padding: 0.3em;box-sizing: border-box;text-align: center;}#sk-container-id-1 label.sk-toggleable__label-arrow:before {content: \"▸\";float: left;margin-right: 0.25em;color: #696969;}#sk-container-id-1 label.sk-toggleable__label-arrow:hover:before {color: black;}#sk-container-id-1 div.sk-estimator:hover label.sk-toggleable__label-arrow:before {color: black;}#sk-container-id-1 div.sk-toggleable__content {max-height: 0;max-width: 0;overflow: hidden;text-align: left;background-color: #f0f8ff;}#sk-container-id-1 div.sk-toggleable__content pre {margin: 0.2em;color: black;border-radius: 0.25em;background-color: #f0f8ff;}#sk-container-id-1 input.sk-toggleable__control:checked~div.sk-toggleable__content {max-height: 200px;max-width: 100%;overflow: auto;}#sk-container-id-1 input.sk-toggleable__control:checked~label.sk-toggleable__label-arrow:before {content: \"▾\";}#sk-container-id-1 div.sk-estimator input.sk-toggleable__control:checked~label.sk-toggleable__label {background-color: #d4ebff;}#sk-container-id-1 div.sk-label input.sk-toggleable__control:checked~label.sk-toggleable__label {background-color: #d4ebff;}#sk-container-id-1 input.sk-hidden--visually {border: 0;clip: rect(1px 1px 1px 1px);clip: rect(1px, 1px, 1px, 1px);height: 1px;margin: -1px;overflow: hidden;padding: 0;position: absolute;width: 1px;}#sk-container-id-1 div.sk-estimator {font-family: monospace;background-color: #f0f8ff;border: 1px dotted black;border-radius: 0.25em;box-sizing: border-box;margin-bottom: 0.5em;}#sk-container-id-1 div.sk-estimator:hover {background-color: #d4ebff;}#sk-container-id-1 div.sk-parallel-item::after {content: \"\";width: 100%;border-bottom: 1px solid gray;flex-grow: 1;}#sk-container-id-1 div.sk-label:hover label.sk-toggleable__label {background-color: #d4ebff;}#sk-container-id-1 div.sk-serial::before {content: \"\";position: absolute;border-left: 1px solid gray;box-sizing: border-box;top: 0;bottom: 0;left: 50%;z-index: 0;}#sk-container-id-1 div.sk-serial {display: flex;flex-direction: column;align-items: center;background-color: white;padding-right: 0.2em;padding-left: 0.2em;position: relative;}#sk-container-id-1 div.sk-item {position: relative;z-index: 1;}#sk-container-id-1 div.sk-parallel {display: flex;align-items: stretch;justify-content: center;background-color: white;position: relative;}#sk-container-id-1 div.sk-item::before, #sk-container-id-1 div.sk-parallel-item::before {content: \"\";position: absolute;border-left: 1px solid gray;box-sizing: border-box;top: 0;bottom: 0;left: 50%;z-index: -1;}#sk-container-id-1 div.sk-parallel-item {display: flex;flex-direction: column;z-index: 1;position: relative;background-color: white;}#sk-container-id-1 div.sk-parallel-item:first-child::after {align-self: flex-end;width: 50%;}#sk-container-id-1 div.sk-parallel-item:last-child::after {align-self: flex-start;width: 50%;}#sk-container-id-1 div.sk-parallel-item:only-child::after {width: 0;}#sk-container-id-1 div.sk-dashed-wrapped {border: 1px dashed gray;margin: 0 0.4em 0.5em 0.4em;box-sizing: border-box;padding-bottom: 0.4em;background-color: white;}#sk-container-id-1 div.sk-label label {font-family: monospace;font-weight: bold;display: inline-block;line-height: 1.2em;}#sk-container-id-1 div.sk-label-container {text-align: center;}#sk-container-id-1 div.sk-container {/* jupyter's `normalize.less` sets `[hidden] { display: none; }` but bootstrap.min.css set `[hidden] { display: none !important; }` so we also need the `!important` here to be able to override the default hidden behavior on the sphinx rendered scikit-learn.org. See: https://github.com/scikit-learn/scikit-learn/issues/21755 */display: inline-block !important;position: relative;}#sk-container-id-1 div.sk-text-repr-fallback {display: none;}</style><div id=\"sk-container-id-1\" class=\"sk-top-container\"><div class=\"sk-text-repr-fallback\"><pre>StandardScaler()</pre><b>In a Jupyter environment, please rerun this cell to show the HTML representation or trust the notebook. <br />On GitHub, the HTML representation is unable to render, please try loading this page with nbviewer.org.</b></div><div class=\"sk-container\" hidden><div class=\"sk-item\"><div class=\"sk-estimator sk-toggleable\"><input class=\"sk-toggleable__control sk-hidden--visually\" id=\"sk-estimator-id-1\" type=\"checkbox\" checked><label for=\"sk-estimator-id-1\" class=\"sk-toggleable__label sk-toggleable__label-arrow\">StandardScaler</label><div class=\"sk-toggleable__content\"><pre>StandardScaler()</pre></div></div></div></div></div>"
      ],
      "text/plain": [
       "StandardScaler()"
      ]
     },
     "execution_count": 23,
     "metadata": {},
     "output_type": "execute_result"
    }
   ],
   "source": [
    "scaler = StandardScaler()\n",
    "scaler.fit(features_train[numeric])"
   ]
  },
  {
   "cell_type": "code",
   "execution_count": 24,
   "metadata": {},
   "outputs": [],
   "source": [
    "import warnings\n",
    "warnings.filterwarnings(\"ignore\")"
   ]
  },
  {
   "cell_type": "code",
   "execution_count": 25,
   "metadata": {
    "scrolled": true
   },
   "outputs": [
    {
     "data": {
      "text/html": [
       "<div>\n",
       "<style scoped>\n",
       "    .dataframe tbody tr th:only-of-type {\n",
       "        vertical-align: middle;\n",
       "    }\n",
       "\n",
       "    .dataframe tbody tr th {\n",
       "        vertical-align: top;\n",
       "    }\n",
       "\n",
       "    .dataframe thead th {\n",
       "        text-align: right;\n",
       "    }\n",
       "</style>\n",
       "<table border=\"1\" class=\"dataframe\">\n",
       "  <thead>\n",
       "    <tr style=\"text-align: right;\">\n",
       "      <th></th>\n",
       "      <th>CreditScore</th>\n",
       "      <th>Age</th>\n",
       "      <th>Tenure</th>\n",
       "      <th>Balance</th>\n",
       "      <th>NumOfProducts</th>\n",
       "      <th>HasCrCard</th>\n",
       "      <th>IsActiveMember</th>\n",
       "      <th>EstimatedSalary</th>\n",
       "      <th>Geography_Germany</th>\n",
       "      <th>Geography_Spain</th>\n",
       "      <th>Gender_Male</th>\n",
       "    </tr>\n",
       "  </thead>\n",
       "  <tbody>\n",
       "    <tr>\n",
       "      <th>7479</th>\n",
       "      <td>-0.886751</td>\n",
       "      <td>-0.373192</td>\n",
       "      <td>1.082277</td>\n",
       "      <td>1.232271</td>\n",
       "      <td>-0.891560</td>\n",
       "      <td>1</td>\n",
       "      <td>0</td>\n",
       "      <td>-0.187705</td>\n",
       "      <td>0</td>\n",
       "      <td>1</td>\n",
       "      <td>1</td>\n",
       "    </tr>\n",
       "    <tr>\n",
       "      <th>3411</th>\n",
       "      <td>0.608663</td>\n",
       "      <td>-0.183385</td>\n",
       "      <td>1.082277</td>\n",
       "      <td>0.600563</td>\n",
       "      <td>-0.891560</td>\n",
       "      <td>0</td>\n",
       "      <td>0</td>\n",
       "      <td>-0.333945</td>\n",
       "      <td>0</td>\n",
       "      <td>0</td>\n",
       "      <td>0</td>\n",
       "    </tr>\n",
       "    <tr>\n",
       "      <th>6027</th>\n",
       "      <td>2.052152</td>\n",
       "      <td>0.480939</td>\n",
       "      <td>-0.737696</td>\n",
       "      <td>1.027098</td>\n",
       "      <td>0.830152</td>\n",
       "      <td>0</td>\n",
       "      <td>1</td>\n",
       "      <td>1.503095</td>\n",
       "      <td>1</td>\n",
       "      <td>0</td>\n",
       "      <td>1</td>\n",
       "    </tr>\n",
       "    <tr>\n",
       "      <th>1247</th>\n",
       "      <td>-1.457915</td>\n",
       "      <td>-1.417129</td>\n",
       "      <td>0.354288</td>\n",
       "      <td>-1.233163</td>\n",
       "      <td>0.830152</td>\n",
       "      <td>1</td>\n",
       "      <td>0</td>\n",
       "      <td>-1.071061</td>\n",
       "      <td>0</td>\n",
       "      <td>0</td>\n",
       "      <td>1</td>\n",
       "    </tr>\n",
       "    <tr>\n",
       "      <th>3716</th>\n",
       "      <td>0.130961</td>\n",
       "      <td>-1.132419</td>\n",
       "      <td>-1.101690</td>\n",
       "      <td>1.140475</td>\n",
       "      <td>-0.891560</td>\n",
       "      <td>0</td>\n",
       "      <td>0</td>\n",
       "      <td>1.524268</td>\n",
       "      <td>1</td>\n",
       "      <td>0</td>\n",
       "      <td>0</td>\n",
       "    </tr>\n",
       "  </tbody>\n",
       "</table>\n",
       "</div>"
      ],
      "text/plain": [
       "      CreditScore       Age    Tenure   Balance  NumOfProducts  HasCrCard  \\\n",
       "7479    -0.886751 -0.373192  1.082277  1.232271      -0.891560          1   \n",
       "3411     0.608663 -0.183385  1.082277  0.600563      -0.891560          0   \n",
       "6027     2.052152  0.480939 -0.737696  1.027098       0.830152          0   \n",
       "1247    -1.457915 -1.417129  0.354288 -1.233163       0.830152          1   \n",
       "3716     0.130961 -1.132419 -1.101690  1.140475      -0.891560          0   \n",
       "\n",
       "      IsActiveMember  EstimatedSalary  Geography_Germany  Geography_Spain  \\\n",
       "7479               0        -0.187705                  0                1   \n",
       "3411               0        -0.333945                  0                0   \n",
       "6027               1         1.503095                  1                0   \n",
       "1247               0        -1.071061                  0                0   \n",
       "3716               0         1.524268                  1                0   \n",
       "\n",
       "      Gender_Male  \n",
       "7479            1  \n",
       "3411            0  \n",
       "6027            1  \n",
       "1247            1  \n",
       "3716            0  "
      ]
     },
     "execution_count": 25,
     "metadata": {},
     "output_type": "execute_result"
    }
   ],
   "source": [
    "#Масштабируем численные признаки обучающей выборки\n",
    "features_train[numeric] = scaler.transform(features_train[numeric])\n",
    "features_train.head()"
   ]
  },
  {
   "cell_type": "code",
   "execution_count": 26,
   "metadata": {},
   "outputs": [
    {
     "data": {
      "text/html": [
       "<div>\n",
       "<style scoped>\n",
       "    .dataframe tbody tr th:only-of-type {\n",
       "        vertical-align: middle;\n",
       "    }\n",
       "\n",
       "    .dataframe tbody tr th {\n",
       "        vertical-align: top;\n",
       "    }\n",
       "\n",
       "    .dataframe thead th {\n",
       "        text-align: right;\n",
       "    }\n",
       "</style>\n",
       "<table border=\"1\" class=\"dataframe\">\n",
       "  <thead>\n",
       "    <tr style=\"text-align: right;\">\n",
       "      <th></th>\n",
       "      <th>CreditScore</th>\n",
       "      <th>Age</th>\n",
       "      <th>Tenure</th>\n",
       "      <th>Balance</th>\n",
       "      <th>NumOfProducts</th>\n",
       "      <th>HasCrCard</th>\n",
       "      <th>IsActiveMember</th>\n",
       "      <th>EstimatedSalary</th>\n",
       "      <th>Geography_Germany</th>\n",
       "      <th>Geography_Spain</th>\n",
       "      <th>Gender_Male</th>\n",
       "    </tr>\n",
       "  </thead>\n",
       "  <tbody>\n",
       "    <tr>\n",
       "      <th>7041</th>\n",
       "      <td>-2.226392</td>\n",
       "      <td>-0.088482</td>\n",
       "      <td>-1.101690</td>\n",
       "      <td>-1.233163</td>\n",
       "      <td>0.830152</td>\n",
       "      <td>1</td>\n",
       "      <td>0</td>\n",
       "      <td>0.647083</td>\n",
       "      <td>0</td>\n",
       "      <td>0</td>\n",
       "      <td>1</td>\n",
       "    </tr>\n",
       "    <tr>\n",
       "      <th>5709</th>\n",
       "      <td>-0.087120</td>\n",
       "      <td>0.006422</td>\n",
       "      <td>1.446272</td>\n",
       "      <td>-1.233163</td>\n",
       "      <td>-0.891560</td>\n",
       "      <td>1</td>\n",
       "      <td>0</td>\n",
       "      <td>-1.658410</td>\n",
       "      <td>0</td>\n",
       "      <td>0</td>\n",
       "      <td>0</td>\n",
       "    </tr>\n",
       "    <tr>\n",
       "      <th>7117</th>\n",
       "      <td>-0.917905</td>\n",
       "      <td>-0.752805</td>\n",
       "      <td>-0.009707</td>\n",
       "      <td>0.722307</td>\n",
       "      <td>-0.891560</td>\n",
       "      <td>1</td>\n",
       "      <td>1</td>\n",
       "      <td>-1.369334</td>\n",
       "      <td>0</td>\n",
       "      <td>1</td>\n",
       "      <td>1</td>\n",
       "    </tr>\n",
       "    <tr>\n",
       "      <th>7775</th>\n",
       "      <td>-0.253277</td>\n",
       "      <td>0.101325</td>\n",
       "      <td>1.810266</td>\n",
       "      <td>-1.233163</td>\n",
       "      <td>0.830152</td>\n",
       "      <td>1</td>\n",
       "      <td>0</td>\n",
       "      <td>0.075086</td>\n",
       "      <td>0</td>\n",
       "      <td>1</td>\n",
       "      <td>1</td>\n",
       "    </tr>\n",
       "    <tr>\n",
       "      <th>8735</th>\n",
       "      <td>0.785204</td>\n",
       "      <td>-0.847708</td>\n",
       "      <td>1.810266</td>\n",
       "      <td>0.615625</td>\n",
       "      <td>-0.891560</td>\n",
       "      <td>0</td>\n",
       "      <td>1</td>\n",
       "      <td>-1.070919</td>\n",
       "      <td>0</td>\n",
       "      <td>0</td>\n",
       "      <td>1</td>\n",
       "    </tr>\n",
       "  </tbody>\n",
       "</table>\n",
       "</div>"
      ],
      "text/plain": [
       "      CreditScore       Age    Tenure   Balance  NumOfProducts  HasCrCard  \\\n",
       "7041    -2.226392 -0.088482 -1.101690 -1.233163       0.830152          1   \n",
       "5709    -0.087120  0.006422  1.446272 -1.233163      -0.891560          1   \n",
       "7117    -0.917905 -0.752805 -0.009707  0.722307      -0.891560          1   \n",
       "7775    -0.253277  0.101325  1.810266 -1.233163       0.830152          1   \n",
       "8735     0.785204 -0.847708  1.810266  0.615625      -0.891560          0   \n",
       "\n",
       "      IsActiveMember  EstimatedSalary  Geography_Germany  Geography_Spain  \\\n",
       "7041               0         0.647083                  0                0   \n",
       "5709               0        -1.658410                  0                0   \n",
       "7117               1        -1.369334                  0                1   \n",
       "7775               0         0.075086                  0                1   \n",
       "8735               1        -1.070919                  0                0   \n",
       "\n",
       "      Gender_Male  \n",
       "7041            1  \n",
       "5709            0  \n",
       "7117            1  \n",
       "7775            1  \n",
       "8735            1  "
      ]
     },
     "execution_count": 26,
     "metadata": {},
     "output_type": "execute_result"
    }
   ],
   "source": [
    "#Масштабируем численные признаки тестовой выборки \n",
    "features_test[numeric] = scaler.transform(features_test[numeric])\n",
    "features_test.head()"
   ]
  },
  {
   "cell_type": "code",
   "execution_count": 27,
   "metadata": {
    "scrolled": false
   },
   "outputs": [
    {
     "data": {
      "text/html": [
       "<div>\n",
       "<style scoped>\n",
       "    .dataframe tbody tr th:only-of-type {\n",
       "        vertical-align: middle;\n",
       "    }\n",
       "\n",
       "    .dataframe tbody tr th {\n",
       "        vertical-align: top;\n",
       "    }\n",
       "\n",
       "    .dataframe thead th {\n",
       "        text-align: right;\n",
       "    }\n",
       "</style>\n",
       "<table border=\"1\" class=\"dataframe\">\n",
       "  <thead>\n",
       "    <tr style=\"text-align: right;\">\n",
       "      <th></th>\n",
       "      <th>CreditScore</th>\n",
       "      <th>Age</th>\n",
       "      <th>Tenure</th>\n",
       "      <th>Balance</th>\n",
       "      <th>NumOfProducts</th>\n",
       "      <th>HasCrCard</th>\n",
       "      <th>IsActiveMember</th>\n",
       "      <th>EstimatedSalary</th>\n",
       "      <th>Geography_Germany</th>\n",
       "      <th>Geography_Spain</th>\n",
       "      <th>Gender_Male</th>\n",
       "    </tr>\n",
       "  </thead>\n",
       "  <tbody>\n",
       "    <tr>\n",
       "      <th>8532</th>\n",
       "      <td>-0.699824</td>\n",
       "      <td>-0.373192</td>\n",
       "      <td>-1.101690</td>\n",
       "      <td>-1.233163</td>\n",
       "      <td>0.830152</td>\n",
       "      <td>1</td>\n",
       "      <td>0</td>\n",
       "      <td>-0.015173</td>\n",
       "      <td>0</td>\n",
       "      <td>0</td>\n",
       "      <td>0</td>\n",
       "    </tr>\n",
       "    <tr>\n",
       "      <th>5799</th>\n",
       "      <td>-0.284431</td>\n",
       "      <td>0.575842</td>\n",
       "      <td>-0.737696</td>\n",
       "      <td>-1.233163</td>\n",
       "      <td>-0.891560</td>\n",
       "      <td>1</td>\n",
       "      <td>1</td>\n",
       "      <td>1.471724</td>\n",
       "      <td>0</td>\n",
       "      <td>0</td>\n",
       "      <td>0</td>\n",
       "    </tr>\n",
       "    <tr>\n",
       "      <th>5511</th>\n",
       "      <td>0.151731</td>\n",
       "      <td>-0.657902</td>\n",
       "      <td>-1.829679</td>\n",
       "      <td>0.438711</td>\n",
       "      <td>-0.891560</td>\n",
       "      <td>1</td>\n",
       "      <td>0</td>\n",
       "      <td>-1.367107</td>\n",
       "      <td>1</td>\n",
       "      <td>0</td>\n",
       "      <td>1</td>\n",
       "    </tr>\n",
       "    <tr>\n",
       "      <th>7365</th>\n",
       "      <td>-0.876366</td>\n",
       "      <td>-0.278288</td>\n",
       "      <td>1.810266</td>\n",
       "      <td>1.239884</td>\n",
       "      <td>-0.891560</td>\n",
       "      <td>1</td>\n",
       "      <td>1</td>\n",
       "      <td>-0.786517</td>\n",
       "      <td>0</td>\n",
       "      <td>1</td>\n",
       "      <td>0</td>\n",
       "    </tr>\n",
       "    <tr>\n",
       "      <th>7367</th>\n",
       "      <td>-0.481743</td>\n",
       "      <td>0.291132</td>\n",
       "      <td>1.810266</td>\n",
       "      <td>-1.233163</td>\n",
       "      <td>0.830152</td>\n",
       "      <td>1</td>\n",
       "      <td>0</td>\n",
       "      <td>1.358533</td>\n",
       "      <td>0</td>\n",
       "      <td>1</td>\n",
       "      <td>1</td>\n",
       "    </tr>\n",
       "  </tbody>\n",
       "</table>\n",
       "</div>"
      ],
      "text/plain": [
       "      CreditScore       Age    Tenure   Balance  NumOfProducts  HasCrCard  \\\n",
       "8532    -0.699824 -0.373192 -1.101690 -1.233163       0.830152          1   \n",
       "5799    -0.284431  0.575842 -0.737696 -1.233163      -0.891560          1   \n",
       "5511     0.151731 -0.657902 -1.829679  0.438711      -0.891560          1   \n",
       "7365    -0.876366 -0.278288  1.810266  1.239884      -0.891560          1   \n",
       "7367    -0.481743  0.291132  1.810266 -1.233163       0.830152          1   \n",
       "\n",
       "      IsActiveMember  EstimatedSalary  Geography_Germany  Geography_Spain  \\\n",
       "8532               0        -0.015173                  0                0   \n",
       "5799               1         1.471724                  0                0   \n",
       "5511               0        -1.367107                  1                0   \n",
       "7365               1        -0.786517                  0                1   \n",
       "7367               0         1.358533                  0                1   \n",
       "\n",
       "      Gender_Male  \n",
       "8532            0  \n",
       "5799            0  \n",
       "5511            1  \n",
       "7365            0  \n",
       "7367            1  "
      ]
     },
     "execution_count": 27,
     "metadata": {},
     "output_type": "execute_result"
    }
   ],
   "source": [
    "#Масштабируем численные признаки валидационной выборки \n",
    "features_valid[numeric] = scaler.transform(features_valid[numeric])\n",
    "features_valid.head()"
   ]
  },
  {
   "cell_type": "markdown",
   "metadata": {},
   "source": [
    "### Применение модели машинного обучения"
   ]
  },
  {
   "cell_type": "code",
   "execution_count": 28,
   "metadata": {},
   "outputs": [],
   "source": [
    "#Заранее напишем функцию для изучия полноты, точности и F1-меры\n",
    "def all_stats(target_valid, prediction):\n",
    "    print(\"Полнота:\" , recall_score(target_valid, prediction))\n",
    "    print(\"Точность:\", precision_score(target_valid, prediction))\n",
    "    print(\"F1-мера:\", f1_score(target_valid, prediction))"
   ]
  },
  {
   "cell_type": "code",
   "execution_count": 29,
   "metadata": {},
   "outputs": [
    {
     "name": "stdout",
     "output_type": "stream",
     "text": [
      "Глубина дерева: 6\n",
      "Полнота: 0.44976076555023925\n",
      "Точность: 0.7768595041322314\n",
      "F1-мера: 0.5696969696969697\n",
      "None\n",
      "CPU times: user 182 ms, sys: 2.48 ms, total: 184 ms\n",
      "Wall time: 187 ms\n"
     ]
    }
   ],
   "source": [
    "%%time\n",
    "#Дерево\n",
    "best_f1_DTC = 0\n",
    "best_depth_DTC = 0\n",
    "for depth in range(1, 16):\n",
    "    model_DTC = DecisionTreeClassifier(random_state=RANDOM_STATE, max_depth= depth)\n",
    "    model_DTC.fit(features_train, target_train)\n",
    "    predicted_valid_DTC = model_DTC.predict(features_valid)\n",
    "    f1_DTC = f1_score(target_valid, predicted_valid_DTC)\n",
    "    if f1_DTC > best_f1_DTC:\n",
    "        best_f1_DTC = f1_DTC\n",
    "        best_depth_DTC = depth\n",
    "        best_model_DTC = model_DTC\n",
    "        predicted_valid_DTC_best = predicted_valid_DTC\n",
    "print(\"Глубина дерева:\", best_depth_DTC)\n",
    "print(all_stats(target_valid, predicted_valid_DTC_best))"
   ]
  },
  {
   "cell_type": "code",
   "execution_count": 30,
   "metadata": {},
   "outputs": [
    {
     "name": "stdout",
     "output_type": "stream",
     "text": [
      "Площадь ROC-кривой: 0.8164631712023421\n"
     ]
    }
   ],
   "source": [
    "DTC_probabilities_one_valid = best_model_DTC.predict_proba(features_valid)[:, 1]\n",
    "auc_roc_DTC = roc_auc_score(target_valid, DTC_probabilities_one_valid)\n",
    "print('Площадь ROC-кривой:', auc_roc_DTC)"
   ]
  },
  {
   "cell_type": "code",
   "execution_count": 31,
   "metadata": {},
   "outputs": [
    {
     "name": "stdout",
     "output_type": "stream",
     "text": [
      "Глубина дерева: 10 ; Количество деревьев: 10\n",
      "Полнота: 0.47368421052631576\n",
      "Точность: 0.7951807228915663\n",
      "F1-мера: 0.5937031484257871\n",
      "None\n",
      "CPU times: user 50.2 s, sys: 374 ms, total: 50.6 s\n",
      "Wall time: 50.6 s\n"
     ]
    }
   ],
   "source": [
    "%%time\n",
    "#Лес\n",
    "best_f1_RFC = 0\n",
    "best_depth_RFC = 0\n",
    "for est in range(10, 151, 10):\n",
    "    for depth in range(1, 16):\n",
    "        model_RFC = RandomForestClassifier(random_state=RANDOM_STATE, n_estimators=est, max_depth=depth)\n",
    "        model_RFC.fit(features_train, target_train)\n",
    "        predicted_valid_RFC = model_RFC.predict(features_valid)\n",
    "        f1_RFC = f1_score(target_valid, predicted_valid_RFC)\n",
    "        if f1_RFC > best_f1_RFC:\n",
    "            best_f1_RFC = f1_RFC\n",
    "            best_depth_RFC = depth\n",
    "            best_est_RFC = est\n",
    "            best_model_RFC = model_RFC\n",
    "            predicted_valid_RFC_best = predicted_valid_RFC\n",
    "print(\"Глубина дерева:\", best_depth_RFC, \"; Количество деревьев:\",\n",
    "      best_est_RFC)\n",
    "print(all_stats(target_valid, predicted_valid_RFC_best))"
   ]
  },
  {
   "cell_type": "code",
   "execution_count": 32,
   "metadata": {},
   "outputs": [
    {
     "name": "stdout",
     "output_type": "stream",
     "text": [
      "Площадь ROC-кривой: 0.8449164947767649\n"
     ]
    }
   ],
   "source": [
    "RFC_probabilities_one_valid = best_model_RFC.predict_proba(features_valid)[:, 1]\n",
    "auc_roc_RFC = roc_auc_score(target_valid, RFC_probabilities_one_valid)\n",
    "print(\"Площадь ROC-кривой:\", auc_roc_RFC)"
   ]
  },
  {
   "cell_type": "code",
   "execution_count": 33,
   "metadata": {},
   "outputs": [
    {
     "name": "stdout",
     "output_type": "stream",
     "text": [
      "Площадь ROC-кривой 0.7587512627102753\n",
      "Полнота: 0.23444976076555024\n",
      "Точность: 0.5632183908045977\n",
      "F1-мера: 0.33108108108108103\n",
      "None\n",
      "CPU times: user 92.7 ms, sys: 7.43 ms, total: 100 ms\n",
      "Wall time: 24.4 ms\n"
     ]
    }
   ],
   "source": [
    "%%time\n",
    "#Логистическая регрессия\n",
    "model_LR = LogisticRegression(solver = 'liblinear')\n",
    "model_LR.fit(features_train, target_train)\n",
    "LR_probabilities_one_valid = model_LR.predict_proba(features_valid)[:, 1]\n",
    "auc_roc_LR = roc_auc_score(target_valid, LR_probabilities_one_valid)\n",
    "predicted_valid_LR = model_LR.predict(features_valid)\n",
    "f1_LR = f1_score(target_valid, predicted_valid_LR)\n",
    "print(\"Площадь ROC-кривой\", auc_roc_LR)\n",
    "print(all_stats(target_valid, predicted_valid_LR))"
   ]
  },
  {
   "cell_type": "markdown",
   "metadata": {},
   "source": [
    "Самый большой показатель f1_меры оказался у модели случайного леса с показателями:\n",
    "\n",
    "Глубина дерева: 12 ; Количество деревьев: 90\n",
    "\n",
    "При этих гиперпараметрах:\n",
    "\n",
    "- F1-мера: 0.5696969696969697\n",
    "- Полнота: 0.44976076555023925\n",
    "- Точность: 0.7768595041322314\n",
    "- F1-мера: 0.5696969696969697"
   ]
  },
  {
   "cell_type": "markdown",
   "metadata": {},
   "source": [
    "### Исследование баланса классов выборки"
   ]
  },
  {
   "cell_type": "code",
   "execution_count": 34,
   "metadata": {
    "scrolled": true
   },
   "outputs": [
    {
     "data": {
      "text/plain": [
       "0    0.800667\n",
       "1    0.199333\n",
       "Name: Exited, dtype: float64"
      ]
     },
     "execution_count": 34,
     "metadata": {},
     "output_type": "execute_result"
    }
   ],
   "source": [
    "target_train.value_counts(normalize = 1)"
   ]
  },
  {
   "cell_type": "code",
   "execution_count": 35,
   "metadata": {
    "scrolled": true
   },
   "outputs": [
    {
     "data": {
      "image/png": "[encoded data removed]",
      "text/plain": [
       "<Figure size 400x400 with 1 Axes>"
      ]
     },
     "metadata": {},
     "output_type": "display_data"
    }
   ],
   "source": [
    "# Построим диаграмму баланса классов\n",
    "names = ['Отрицательные', 'Положительные']\n",
    "values = target_train.value_counts(normalize = 1)\n",
    "plt.figure(figsize=(4,4))\n",
    "plt.title('Баланс классов')\n",
    "plt.bar(names, values)\n",
    "plt.show()"
   ]
  },
  {
   "cell_type": "markdown",
   "metadata": {},
   "source": [
    "В выборке отрицательных ответов большинство, а именно - 0.800667, что чуть более 80%.\n",
    "\n",
    "Следовательно, положительных ответов чуть меньше 20%, а это указывает на явный *дисбаланс*"
   ]
  },
  {
   "cell_type": "code",
   "execution_count": 36,
   "metadata": {},
   "outputs": [],
   "source": [
    "# Функция для отображения соотношения ответов моделей (сколько 0, сколько 1)\n",
    "def all_models_share():\n",
    "    \n",
    "    DTC_share = pd.Series(best_model_DTC.predict(features_valid)).value_counts(normalize = 1)\n",
    "    \n",
    "    RFC_share = pd.Series(model_RFC.predict(features_valid)).value_counts(normalize = 1)\n",
    "    \n",
    "    LR_share = pd.Series(model_LR.predict(features_valid)).value_counts(normalize = 1)\n",
    "        \n",
    "    print(\"Доли ответов:\")\n",
    "    print(\"Дерево решений:\\n\", DTC_share)\n",
    "    print(\"Случайный лес:\\n\", RFC_share)\n",
    "    print(\"Логистическая регрессия:\\n\", LR_share)\n"
   ]
  },
  {
   "cell_type": "code",
   "execution_count": 37,
   "metadata": {},
   "outputs": [
    {
     "name": "stdout",
     "output_type": "stream",
     "text": [
      "Доли ответов:\n",
      "Дерево решений:\n",
      " 0    0.879\n",
      "1    0.121\n",
      "dtype: float64\n",
      "Случайный лес:\n",
      " 0    0.8775\n",
      "1    0.1225\n",
      "dtype: float64\n",
      "Логистическая регрессия:\n",
      " 0    0.913\n",
      "1    0.087\n",
      "dtype: float64\n"
     ]
    }
   ],
   "source": [
    "#Применим функцию отображения соотношения ответов моделей\n",
    "all_models_share()"
   ]
  },
  {
   "cell_type": "markdown",
   "metadata": {},
   "source": [
    "Одинаково плохо модели справляются с заданной задачей, из-за неравномерного баланса классов модели обучаются чаще давать негативный ответ, что приводит к плохим результатам.\n"
   ]
  },
  {
   "cell_type": "markdown",
   "metadata": {},
   "source": [
    "Далее строим матрицу ошибок и изобразим ROC-кривую для каждой модели"
   ]
  },
  {
   "cell_type": "markdown",
   "metadata": {},
   "source": [
    "#### RandomForest"
   ]
  },
  {
   "cell_type": "code",
   "execution_count": 38,
   "metadata": {
    "scrolled": true
   },
   "outputs": [
    {
     "data": {
      "text/plain": [
       "array([[1529,   53],\n",
       "       [ 226,  192]])"
      ]
     },
     "execution_count": 38,
     "metadata": {},
     "output_type": "execute_result"
    }
   ],
   "source": [
    "#матрица ошибок для случайного леса\n",
    "RFC_prediction = model_RFC.predict(features_valid)\n",
    "confusion_matrix(target_valid, RFC_prediction)"
   ]
  },
  {
   "cell_type": "code",
   "execution_count": 39,
   "metadata": {},
   "outputs": [
    {
     "data": {
      "text/plain": [
       "['#acc2d9',\n",
       " '#56ae57',\n",
       " '#b2996e',\n",
       " '#a8ff04',\n",
       " '#69d84f',\n",
       " '#894585',\n",
       " '#70b23f',\n",
       " '#d4ffff',\n",
       " '#65ab7c',\n",
       " '#952e8f',\n",
       " '#fcfc81',\n",
       " '#a5a391',\n",
       " '#388004',\n",
       " '#4c9085',\n",
       " '#5e9b8a',\n",
       " '#efb435',\n",
       " '#d99b82',\n",
       " '#0a5f38',\n",
       " '#0c06f7',\n",
       " '#61de2a',\n",
       " '#3778bf',\n",
       " '#2242c7',\n",
       " '#533cc6',\n",
       " '#9bb53c',\n",
       " '#05ffa6',\n",
       " '#1f6357',\n",
       " '#017374',\n",
       " '#0cb577',\n",
       " '#ff0789',\n",
       " '#afa88b',\n",
       " '#08787f',\n",
       " '#dd85d7',\n",
       " '#a6c875',\n",
       " '#a7ffb5',\n",
       " '#c2b709',\n",
       " '#e78ea5',\n",
       " '#966ebd',\n",
       " '#ccad60',\n",
       " '#ac86a8',\n",
       " '#947e94',\n",
       " '#983fb2',\n",
       " '#ff63e9',\n",
       " '#b2fba5',\n",
       " '#63b365',\n",
       " '#8ee53f',\n",
       " '#b7e1a1',\n",
       " '#ff6f52',\n",
       " '#bdf8a3',\n",
       " '#d3b683',\n",
       " '#fffcc4',\n",
       " '#430541',\n",
       " '#ffb2d0',\n",
       " '#997570',\n",
       " '#ad900d',\n",
       " '#c48efd',\n",
       " '#507b9c',\n",
       " '#7d7103',\n",
       " '#fffd78',\n",
       " '#da467d',\n",
       " '#410200',\n",
       " '#c9d179',\n",
       " '#fffa86',\n",
       " '#5684ae',\n",
       " '#6b7c85',\n",
       " '#6f6c0a',\n",
       " '#7e4071',\n",
       " '#009337',\n",
       " '#d0e429',\n",
       " '#fff917',\n",
       " '#1d5dec',\n",
       " '#054907',\n",
       " '#b5ce08',\n",
       " '#8fb67b',\n",
       " '#c8ffb0',\n",
       " '#fdde6c',\n",
       " '#ffdf22',\n",
       " '#a9be70',\n",
       " '#6832e3',\n",
       " '#fdb147',\n",
       " '#c7ac7d',\n",
       " '#fff39a',\n",
       " '#850e04',\n",
       " '#efc0fe',\n",
       " '#40fd14',\n",
       " '#b6c406',\n",
       " '#9dff00',\n",
       " '#3c4142',\n",
       " '#f2ab15',\n",
       " '#ac4f06',\n",
       " '#c4fe82',\n",
       " '#2cfa1f',\n",
       " '#9a6200',\n",
       " '#ca9bf7',\n",
       " '#875f42',\n",
       " '#3a2efe',\n",
       " '#fd8d49',\n",
       " '#8b3103',\n",
       " '#cba560',\n",
       " '#698339',\n",
       " '#0cdc73',\n",
       " '#b75203',\n",
       " '#7f8f4e',\n",
       " '#26538d',\n",
       " '#63a950',\n",
       " '#c87f89',\n",
       " '#b1fc99',\n",
       " '#ff9a8a',\n",
       " '#f6688e',\n",
       " '#76fda8',\n",
       " '#53fe5c',\n",
       " '#4efd54',\n",
       " '#a0febf',\n",
       " '#7bf2da',\n",
       " '#bcf5a6',\n",
       " '#ca6b02',\n",
       " '#107ab0',\n",
       " '#2138ab',\n",
       " '#719f91',\n",
       " '#fdb915',\n",
       " '#fefcaf',\n",
       " '#fcf679',\n",
       " '#1d0200',\n",
       " '#cb6843',\n",
       " '#31668a',\n",
       " '#247afd',\n",
       " '#ffffb6',\n",
       " '#90fda9',\n",
       " '#86a17d',\n",
       " '#fddc5c',\n",
       " '#78d1b6',\n",
       " '#13bbaf',\n",
       " '#fb5ffc',\n",
       " '#20f986',\n",
       " '#ffe36e',\n",
       " '#9d0759',\n",
       " '#3a18b1',\n",
       " '#c2ff89',\n",
       " '#d767ad',\n",
       " '#720058',\n",
       " '#ffda03',\n",
       " '#01c08d',\n",
       " '#ac7434',\n",
       " '#014600',\n",
       " '#9900fa',\n",
       " '#02066f',\n",
       " '#8e7618',\n",
       " '#d1768f',\n",
       " '#96b403',\n",
       " '#fdff63',\n",
       " '#95a3a6',\n",
       " '#7f684e',\n",
       " '#751973',\n",
       " '#089404',\n",
       " '#ff6163',\n",
       " '#598556',\n",
       " '#214761',\n",
       " '#3c73a8',\n",
       " '#ba9e88',\n",
       " '#021bf9',\n",
       " '#734a65',\n",
       " '#23c48b',\n",
       " '#8fae22',\n",
       " '#e6f2a2',\n",
       " '#4b57db',\n",
       " '#d90166',\n",
       " '#015482',\n",
       " '#9d0216',\n",
       " '#728f02',\n",
       " '#ffe5ad',\n",
       " '#4e0550',\n",
       " '#f9bc08',\n",
       " '#ff073a',\n",
       " '#c77986',\n",
       " '#d6fffe',\n",
       " '#fe4b03',\n",
       " '#fd5956',\n",
       " '#fce166',\n",
       " '#b2713d',\n",
       " '#1f3b4d',\n",
       " '#699d4c',\n",
       " '#56fca2',\n",
       " '#fb5581',\n",
       " '#3e82fc',\n",
       " '#a0bf16',\n",
       " '#d6fffa',\n",
       " '#4f738e',\n",
       " '#ffb19a',\n",
       " '#5c8b15',\n",
       " '#54ac68',\n",
       " '#89a0b0',\n",
       " '#7ea07a',\n",
       " '#1bfc06',\n",
       " '#cafffb',\n",
       " '#b6ffbb',\n",
       " '#a75e09',\n",
       " '#152eff',\n",
       " '#8d5eb7',\n",
       " '#5f9e8f',\n",
       " '#63f7b4',\n",
       " '#606602',\n",
       " '#fc86aa',\n",
       " '#8c0034',\n",
       " '#758000',\n",
       " '#ab7e4c',\n",
       " '#030764',\n",
       " '#fe86a4',\n",
       " '#d5174e',\n",
       " '#fed0fc',\n",
       " '#680018',\n",
       " '#fedf08',\n",
       " '#fe420f',\n",
       " '#6f7c00',\n",
       " '#ca0147',\n",
       " '#1b2431',\n",
       " '#00fbb0',\n",
       " '#db5856',\n",
       " '#ddd618',\n",
       " '#41fdfe',\n",
       " '#cf524e',\n",
       " '#21c36f',\n",
       " '#a90308',\n",
       " '#6e1005',\n",
       " '#fe828c',\n",
       " '#4b6113',\n",
       " '#4da409',\n",
       " '#beae8a',\n",
       " '#0339f8',\n",
       " '#a88f59',\n",
       " '#5d21d0',\n",
       " '#feb209',\n",
       " '#4e518b',\n",
       " '#964e02',\n",
       " '#85a3b2',\n",
       " '#ff69af',\n",
       " '#c3fbf4',\n",
       " '#2afeb7',\n",
       " '#005f6a',\n",
       " '#0c1793',\n",
       " '#ffff81',\n",
       " '#f0833a',\n",
       " '#f1f33f',\n",
       " '#b1d27b',\n",
       " '#fc824a',\n",
       " '#71aa34',\n",
       " '#b7c9e2',\n",
       " '#4b0101',\n",
       " '#a552e6',\n",
       " '#af2f0d',\n",
       " '#8b88f8',\n",
       " '#9af764',\n",
       " '#a6fbb2',\n",
       " '#ffc512',\n",
       " '#750851',\n",
       " '#c14a09',\n",
       " '#fe2f4a',\n",
       " '#0203e2',\n",
       " '#0a437a',\n",
       " '#a50055',\n",
       " '#ae8b0c',\n",
       " '#fd798f',\n",
       " '#bfac05',\n",
       " '#3eaf76',\n",
       " '#c74767',\n",
       " '#b9484e',\n",
       " '#647d8e',\n",
       " '#bffe28',\n",
       " '#d725de',\n",
       " '#b29705',\n",
       " '#673a3f',\n",
       " '#a87dc2',\n",
       " '#fafe4b',\n",
       " '#c0022f',\n",
       " '#0e87cc',\n",
       " '#8d8468',\n",
       " '#ad03de',\n",
       " '#8cff9e',\n",
       " '#94ac02',\n",
       " '#c4fff7',\n",
       " '#fdee73',\n",
       " '#33b864',\n",
       " '#fff9d0',\n",
       " '#758da3',\n",
       " '#f504c9',\n",
       " '#77a1b5',\n",
       " '#8756e4',\n",
       " '#889717',\n",
       " '#c27e79',\n",
       " '#017371',\n",
       " '#9f8303',\n",
       " '#f7d560',\n",
       " '#bdf6fe',\n",
       " '#75b84f',\n",
       " '#9cbb04',\n",
       " '#29465b',\n",
       " '#696006',\n",
       " '#adf802',\n",
       " '#c1c6fc',\n",
       " '#35ad6b',\n",
       " '#fffd37',\n",
       " '#a442a0',\n",
       " '#f36196',\n",
       " '#947706',\n",
       " '#fff4f2',\n",
       " '#1e9167',\n",
       " '#b5c306',\n",
       " '#feff7f',\n",
       " '#cffdbc',\n",
       " '#0add08',\n",
       " '#87fd05',\n",
       " '#1ef876',\n",
       " '#7bfdc7',\n",
       " '#bcecac',\n",
       " '#bbf90f',\n",
       " '#ab9004',\n",
       " '#1fb57a',\n",
       " '#00555a',\n",
       " '#a484ac',\n",
       " '#c45508',\n",
       " '#3f829d',\n",
       " '#548d44',\n",
       " '#c95efb',\n",
       " '#3ae57f',\n",
       " '#016795',\n",
       " '#87a922',\n",
       " '#f0944d',\n",
       " '#5d1451',\n",
       " '#25ff29',\n",
       " '#d0fe1d',\n",
       " '#ffa62b',\n",
       " '#01b44c',\n",
       " '#ff6cb5',\n",
       " '#6b4247',\n",
       " '#c7c10c',\n",
       " '#b7fffa',\n",
       " '#aeff6e',\n",
       " '#ec2d01',\n",
       " '#76ff7b',\n",
       " '#730039',\n",
       " '#040348',\n",
       " '#df4ec8',\n",
       " '#6ecb3c',\n",
       " '#8f9805',\n",
       " '#5edc1f',\n",
       " '#d94ff5',\n",
       " '#c8fd3d',\n",
       " '#070d0d',\n",
       " '#4984b8',\n",
       " '#51b73b',\n",
       " '#ac7e04',\n",
       " '#4e5481',\n",
       " '#876e4b',\n",
       " '#58bc08',\n",
       " '#2fef10',\n",
       " '#2dfe54',\n",
       " '#0aff02',\n",
       " '#9cef43',\n",
       " '#18d17b',\n",
       " '#35530a',\n",
       " '#1805db',\n",
       " '#6258c4',\n",
       " '#ff964f',\n",
       " '#ffab0f',\n",
       " '#8f8ce7',\n",
       " '#24bca8',\n",
       " '#3f012c',\n",
       " '#cbf85f',\n",
       " '#ff724c',\n",
       " '#280137',\n",
       " '#b36ff6',\n",
       " '#48c072',\n",
       " '#bccb7a',\n",
       " '#a8415b',\n",
       " '#06b1c4',\n",
       " '#cd7584',\n",
       " '#f1da7a',\n",
       " '#ff0490',\n",
       " '#805b87',\n",
       " '#50a747',\n",
       " '#a8a495',\n",
       " '#cfff04',\n",
       " '#ffff7e',\n",
       " '#ff7fa7',\n",
       " '#ef4026',\n",
       " '#3c9992',\n",
       " '#886806',\n",
       " '#04f489',\n",
       " '#fef69e',\n",
       " '#cfaf7b',\n",
       " '#3b719f',\n",
       " '#fdc1c5',\n",
       " '#20c073',\n",
       " '#9b5fc0',\n",
       " '#0f9b8e',\n",
       " '#742802',\n",
       " '#9db92c',\n",
       " '#a4bf20',\n",
       " '#cd5909',\n",
       " '#ada587',\n",
       " '#be013c',\n",
       " '#b8ffeb',\n",
       " '#dc4d01',\n",
       " '#a2653e',\n",
       " '#638b27',\n",
       " '#419c03',\n",
       " '#b1ff65',\n",
       " '#9dbcd4',\n",
       " '#fdfdfe',\n",
       " '#77ab56',\n",
       " '#464196',\n",
       " '#990147',\n",
       " '#befd73',\n",
       " '#32bf84',\n",
       " '#af6f09',\n",
       " '#a0025c',\n",
       " '#ffd8b1',\n",
       " '#7f4e1e',\n",
       " '#bf9b0c',\n",
       " '#6ba353',\n",
       " '#f075e6',\n",
       " '#7bc8f6',\n",
       " '#475f94',\n",
       " '#f5bf03',\n",
       " '#fffeb6',\n",
       " '#fffd74',\n",
       " '#895b7b',\n",
       " '#436bad',\n",
       " '#d0c101',\n",
       " '#c6f808',\n",
       " '#f43605',\n",
       " '#02c14d',\n",
       " '#b25f03',\n",
       " '#2a7e19',\n",
       " '#490648',\n",
       " '#536267',\n",
       " '#5a06ef',\n",
       " '#cf0234',\n",
       " '#c4a661',\n",
       " '#978a84',\n",
       " '#1f0954',\n",
       " '#03012d',\n",
       " '#2bb179',\n",
       " '#c3909b',\n",
       " '#a66fb5',\n",
       " '#770001',\n",
       " '#922b05',\n",
       " '#7d7f7c',\n",
       " '#990f4b',\n",
       " '#8f7303',\n",
       " '#c83cb9',\n",
       " '#fea993',\n",
       " '#acbb0d',\n",
       " '#c071fe',\n",
       " '#ccfd7f',\n",
       " '#00022e',\n",
       " '#828344',\n",
       " '#ffc5cb',\n",
       " '#ab1239',\n",
       " '#b0054b',\n",
       " '#99cc04',\n",
       " '#937c00',\n",
       " '#019529',\n",
       " '#ef1de7',\n",
       " '#000435',\n",
       " '#42b395',\n",
       " '#9d5783',\n",
       " '#c8aca9',\n",
       " '#c87606',\n",
       " '#aa2704',\n",
       " '#e4cbff',\n",
       " '#fa4224',\n",
       " '#0804f9',\n",
       " '#5cb200',\n",
       " '#76424e',\n",
       " '#6c7a0e',\n",
       " '#fbdd7e',\n",
       " '#2a0134',\n",
       " '#044a05',\n",
       " '#fd4659',\n",
       " '#0d75f8',\n",
       " '#fe0002',\n",
       " '#cb9d06',\n",
       " '#fb7d07',\n",
       " '#b9cc81',\n",
       " '#edc8ff',\n",
       " '#61e160',\n",
       " '#8ab8fe',\n",
       " '#920a4e',\n",
       " '#fe02a2',\n",
       " '#9a3001',\n",
       " '#65fe08',\n",
       " '#befdb7',\n",
       " '#b17261',\n",
       " '#885f01',\n",
       " '#02ccfe',\n",
       " '#c1fd95',\n",
       " '#836539',\n",
       " '#fb2943',\n",
       " '#84b701',\n",
       " '#b66325',\n",
       " '#7f5112',\n",
       " '#5fa052',\n",
       " '#6dedfd',\n",
       " '#0bf9ea',\n",
       " '#c760ff',\n",
       " '#ffffcb',\n",
       " '#f6cefc',\n",
       " '#155084',\n",
       " '#f5054f',\n",
       " '#645403',\n",
       " '#7a5901',\n",
       " '#a8b504',\n",
       " '#3d9973',\n",
       " '#000133',\n",
       " '#76a973',\n",
       " '#2e5a88',\n",
       " '#0bf77d',\n",
       " '#bd6c48',\n",
       " '#ac1db8',\n",
       " '#2baf6a',\n",
       " '#26f7fd',\n",
       " '#aefd6c',\n",
       " '#9b8f55',\n",
       " '#ffad01',\n",
       " '#c69c04',\n",
       " '#f4d054',\n",
       " '#de9dac',\n",
       " '#05480d',\n",
       " '#c9ae74',\n",
       " '#60460f',\n",
       " '#98f6b0',\n",
       " '#8af1fe',\n",
       " '#2ee8bb',\n",
       " '#11875d',\n",
       " '#fdb0c0',\n",
       " '#b16002',\n",
       " '#f7022a',\n",
       " '#d5ab09',\n",
       " '#86775f',\n",
       " '#c69f59',\n",
       " '#7a687f',\n",
       " '#042e60',\n",
       " '#c88d94',\n",
       " '#a5fbd5',\n",
       " '#fffe71',\n",
       " '#6241c7',\n",
       " '#fffe40',\n",
       " '#d3494e',\n",
       " '#985e2b',\n",
       " '#a6814c',\n",
       " '#ff08e8',\n",
       " '#9d7651',\n",
       " '#feffca',\n",
       " '#98568d',\n",
       " '#9e003a',\n",
       " '#287c37',\n",
       " '#b96902',\n",
       " '#ba6873',\n",
       " '#ff7855',\n",
       " '#94b21c',\n",
       " '#c5c9c7',\n",
       " '#661aee',\n",
       " '#6140ef',\n",
       " '#9be5aa',\n",
       " '#7b5804',\n",
       " '#276ab3',\n",
       " '#feb308',\n",
       " '#8cfd7e',\n",
       " '#6488ea',\n",
       " '#056eee',\n",
       " '#b27a01',\n",
       " '#0ffef9',\n",
       " '#fa2a55',\n",
       " '#820747',\n",
       " '#7a6a4f',\n",
       " '#f4320c',\n",
       " '#a13905',\n",
       " '#6f828a',\n",
       " '#a55af4',\n",
       " '#ad0afd',\n",
       " '#004577',\n",
       " '#658d6d',\n",
       " '#ca7b80',\n",
       " '#005249',\n",
       " '#2b5d34',\n",
       " '#bff128',\n",
       " '#b59410',\n",
       " '#2976bb',\n",
       " '#014182',\n",
       " '#bb3f3f',\n",
       " '#fc2647',\n",
       " '#a87900',\n",
       " '#82cbb2',\n",
       " '#667c3e',\n",
       " '#fe46a5',\n",
       " '#fe83cc',\n",
       " '#94a617',\n",
       " '#a88905',\n",
       " '#7f5f00',\n",
       " '#9e43a2',\n",
       " '#062e03',\n",
       " '#8a6e45',\n",
       " '#cc7a8b',\n",
       " '#9e0168',\n",
       " '#fdff38',\n",
       " '#c0fa8b',\n",
       " '#eedc5b',\n",
       " '#7ebd01',\n",
       " '#3b5b92',\n",
       " '#01889f',\n",
       " '#3d7afd',\n",
       " '#5f34e7',\n",
       " '#6d5acf',\n",
       " '#748500',\n",
       " '#706c11',\n",
       " '#3c0008',\n",
       " '#cb00f5',\n",
       " '#002d04',\n",
       " '#658cbb',\n",
       " '#749551',\n",
       " '#b9ff66',\n",
       " '#9dc100',\n",
       " '#faee66',\n",
       " '#7efbb3',\n",
       " '#7b002c',\n",
       " '#c292a1',\n",
       " '#017b92',\n",
       " '#fcc006',\n",
       " '#657432',\n",
       " '#d8863b',\n",
       " '#738595',\n",
       " '#aa23ff',\n",
       " '#08ff08',\n",
       " '#9b7a01',\n",
       " '#f29e8e',\n",
       " '#6fc276',\n",
       " '#ff5b00',\n",
       " '#fdff52',\n",
       " '#866f85',\n",
       " '#8ffe09',\n",
       " '#eecffe',\n",
       " '#510ac9',\n",
       " '#4f9153',\n",
       " '#9f2305',\n",
       " '#728639',\n",
       " '#de0c62',\n",
       " '#916e99',\n",
       " '#ffb16d',\n",
       " '#3c4d03',\n",
       " '#7f7053',\n",
       " '#77926f',\n",
       " '#010fcc',\n",
       " '#ceaefa',\n",
       " '#8f99fb',\n",
       " '#c6fcff',\n",
       " '#5539cc',\n",
       " '#544e03',\n",
       " '#017a79',\n",
       " '#01f9c6',\n",
       " '#c9b003',\n",
       " '#929901',\n",
       " '#0b5509',\n",
       " '#a00498',\n",
       " '#2000b1',\n",
       " '#94568c',\n",
       " '#c2be0e',\n",
       " '#748b97',\n",
       " '#665fd1',\n",
       " '#9c6da5',\n",
       " '#c44240',\n",
       " '#a24857',\n",
       " '#825f87',\n",
       " '#c9643b',\n",
       " '#90b134',\n",
       " '#01386a',\n",
       " '#25a36f',\n",
       " '#59656d',\n",
       " '#75fd63',\n",
       " '#21fc0d',\n",
       " '#5a86ad',\n",
       " '#fec615',\n",
       " '#fffd01',\n",
       " '#dfc5fe',\n",
       " '#b26400',\n",
       " '#7f5e00',\n",
       " '#de7e5d',\n",
       " '#048243',\n",
       " '#ffffd4',\n",
       " '#3b638c',\n",
       " '#b79400',\n",
       " '#84597e',\n",
       " '#411900',\n",
       " '#7b0323',\n",
       " '#04d9ff',\n",
       " '#667e2c',\n",
       " '#fbeeac',\n",
       " '#d7fffe',\n",
       " '#4e7496',\n",
       " '#874c62',\n",
       " '#d5ffff',\n",
       " '#826d8c',\n",
       " '#ffbacd',\n",
       " '#d1ffbd',\n",
       " '#448ee4',\n",
       " '#05472a',\n",
       " '#d5869d',\n",
       " '#3d0734',\n",
       " '#4a0100',\n",
       " '#f8481c',\n",
       " '#02590f',\n",
       " '#89a203',\n",
       " '#e03fd8',\n",
       " '#d58a94',\n",
       " '#7bb274',\n",
       " '#526525',\n",
       " '#c94cbe',\n",
       " '#db4bda',\n",
       " '#9e3623',\n",
       " '#b5485d',\n",
       " '#735c12',\n",
       " '#9c6d57',\n",
       " '#028f1e',\n",
       " '#b1916e',\n",
       " '#49759c',\n",
       " '#a0450e',\n",
       " '#39ad48',\n",
       " '#b66a50',\n",
       " '#8cffdb',\n",
       " '#a4be5c',\n",
       " '#cb7723',\n",
       " '#05696b',\n",
       " '#ce5dae',\n",
       " '#c85a53',\n",
       " '#96ae8d',\n",
       " '#1fa774',\n",
       " '#7a9703',\n",
       " '#ac9362',\n",
       " '#01a049',\n",
       " '#d9544d',\n",
       " '#fa5ff7',\n",
       " '#82cafc',\n",
       " '#acfffc',\n",
       " '#fcb001',\n",
       " '#910951',\n",
       " '#fe2c54',\n",
       " '#c875c4',\n",
       " '#cdc50a',\n",
       " '#fd411e',\n",
       " '#9a0200',\n",
       " '#be6400',\n",
       " '#030aa7',\n",
       " '#fe019a',\n",
       " '#f7879a',\n",
       " '#887191',\n",
       " '#b00149',\n",
       " '#12e193',\n",
       " '#fe7b7c',\n",
       " '#ff9408',\n",
       " '#6a6e09',\n",
       " '#8b2e16',\n",
       " '#696112',\n",
       " '#e17701',\n",
       " '#0a481e',\n",
       " '#343837',\n",
       " '#ffb7ce',\n",
       " '#6a79f7',\n",
       " '#5d06e9',\n",
       " '#3d1c02',\n",
       " '#82a67d',\n",
       " '#be0119',\n",
       " '#c9ff27',\n",
       " '#373e02',\n",
       " '#a9561e',\n",
       " '#caa0ff',\n",
       " '#ca6641',\n",
       " '#02d8e9',\n",
       " '#88b378',\n",
       " '#980002',\n",
       " '#cb0162',\n",
       " '#5cac2d',\n",
       " '#769958',\n",
       " '#a2bffe',\n",
       " '#10a674',\n",
       " '#06b48b',\n",
       " '#af884a',\n",
       " '#0b8b87',\n",
       " '#ffa756',\n",
       " '#a2a415',\n",
       " '#154406',\n",
       " '#856798',\n",
       " '#34013f',\n",
       " '#632de9',\n",
       " '#0a888a',\n",
       " '#6f7632',\n",
       " '#d46a7e',\n",
       " '#1e488f',\n",
       " '#bc13fe',\n",
       " '#7ef4cc',\n",
       " '#76cd26',\n",
       " '#74a662',\n",
       " '#80013f',\n",
       " '#b1d1fc',\n",
       " '#ffffe4',\n",
       " '#0652ff',\n",
       " '#045c5a',\n",
       " '#5729ce',\n",
       " '#069af3',\n",
       " '#ff000d',\n",
       " '#f10c45',\n",
       " '#5170d7',\n",
       " '#acbf69',\n",
       " '#6c3461',\n",
       " '#5e819d',\n",
       " '#601ef9',\n",
       " '#b0dd16',\n",
       " '#cdfd02',\n",
       " '#2c6fbb',\n",
       " '#c0737a',\n",
       " '#d6b4fc',\n",
       " '#020035',\n",
       " '#703be7',\n",
       " '#fd3c06',\n",
       " '#960056',\n",
       " '#40a368',\n",
       " '#03719c',\n",
       " '#fc5a50',\n",
       " '#ffffc2',\n",
       " '#7f2b0a',\n",
       " '#b04e0f',\n",
       " '#a03623',\n",
       " '#87ae73',\n",
       " '#789b73',\n",
       " '#ffffff',\n",
       " '#98eff9',\n",
       " '#658b38',\n",
       " '#5a7d9a',\n",
       " '#380835',\n",
       " '#fffe7a',\n",
       " '#5ca904',\n",
       " '#d8dcd6',\n",
       " '#a5a502',\n",
       " '#d648d7',\n",
       " '#047495',\n",
       " '#b790d4',\n",
       " '#5b7c99',\n",
       " '#607c8e',\n",
       " '#0b4008',\n",
       " '#ed0dd9',\n",
       " '#8c000f',\n",
       " '#ffff84',\n",
       " '#bf9005',\n",
       " '#d2bd0a',\n",
       " '#ff474c',\n",
       " '#0485d1',\n",
       " '#ffcfdc',\n",
       " '#040273',\n",
       " '#a83c09',\n",
       " '#90e4c1',\n",
       " '#516572',\n",
       " '#fac205',\n",
       " '#d5b60a',\n",
       " '#363737',\n",
       " '#4b5d16',\n",
       " '#6b8ba4',\n",
       " '#80f9ad',\n",
       " '#a57e52',\n",
       " '#a9f971',\n",
       " '#c65102',\n",
       " '#e2ca76',\n",
       " '#b0ff9d',\n",
       " '#9ffeb0',\n",
       " '#fdaa48',\n",
       " '#fe01b1',\n",
       " '#c1f80a',\n",
       " '#36013f',\n",
       " '#341c02',\n",
       " '#b9a281',\n",
       " '#8eab12',\n",
       " '#9aae07',\n",
       " '#02ab2e',\n",
       " '#7af9ab',\n",
       " '#137e6d',\n",
       " '#aaa662',\n",
       " '#610023',\n",
       " '#014d4e',\n",
       " '#8f1402',\n",
       " '#4b006e',\n",
       " '#580f41',\n",
       " '#8fff9f',\n",
       " '#dbb40c',\n",
       " '#a2cffe',\n",
       " '#c0fb2d',\n",
       " '#be03fd',\n",
       " '#840000',\n",
       " '#d0fefe',\n",
       " '#3f9b0b',\n",
       " '#01153e',\n",
       " '#04d8b2',\n",
       " '#c04e01',\n",
       " '#0cff0c',\n",
       " '#0165fc',\n",
       " '#cf6275',\n",
       " '#ffd1df',\n",
       " '#ceb301',\n",
       " '#380282',\n",
       " '#aaff32',\n",
       " '#53fca1',\n",
       " '#8e82fe',\n",
       " '#cb416b',\n",
       " '#677a04',\n",
       " '#ffb07c',\n",
       " '#c7fdb5',\n",
       " '#ad8150',\n",
       " '#ff028d',\n",
       " '#000000',\n",
       " '#cea2fd',\n",
       " '#001146',\n",
       " '#0504aa',\n",
       " '#e6daa6',\n",
       " '#ff796c',\n",
       " '#6e750e',\n",
       " '#650021',\n",
       " '#01ff07',\n",
       " '#35063e',\n",
       " '#ae7181',\n",
       " '#06470c',\n",
       " '#13eac9',\n",
       " '#00ffff',\n",
       " '#d1b26f',\n",
       " '#00035b',\n",
       " '#c79fef',\n",
       " '#06c2ac',\n",
       " '#033500',\n",
       " '#9a0eea',\n",
       " '#bf77f6',\n",
       " '#89fe05',\n",
       " '#929591',\n",
       " '#75bbfd',\n",
       " '#ffff14',\n",
       " '#c20078',\n",
       " '#96f97b',\n",
       " '#f97306',\n",
       " '#029386',\n",
       " '#95d0fc',\n",
       " '#e50000',\n",
       " '#653700',\n",
       " '#ff81c0',\n",
       " '#0343df',\n",
       " '#15b01a',\n",
       " '#7e1e9c',\n",
       " '#5e9b8a',\n",
       " '#947e94',\n",
       " '#b7e1a1',\n",
       " '#997570',\n",
       " '#6b7c85',\n",
       " '#3c4142',\n",
       " '#719f91',\n",
       " '#86a17d',\n",
       " '#95a3a6',\n",
       " '#1f3b4d',\n",
       " '#89a0b0',\n",
       " '#7ea07a',\n",
       " '#85a3b2',\n",
       " '#b7c9e2',\n",
       " '#647d8e',\n",
       " '#8d8468',\n",
       " '#758da3',\n",
       " '#77a1b5',\n",
       " '#29465b',\n",
       " '#a8a495',\n",
       " '#9dbcd4',\n",
       " '#fdfdfe',\n",
       " '#978a84',\n",
       " '#c3909b',\n",
       " '#7d7f7c',\n",
       " '#c8aca9',\n",
       " '#86775f',\n",
       " '#7a687f',\n",
       " '#c88d94',\n",
       " '#7a6a4f',\n",
       " '#6f828a',\n",
       " '#866f85',\n",
       " '#7f7053',\n",
       " '#77926f',\n",
       " '#748b97',\n",
       " '#59656d',\n",
       " '#826d8c',\n",
       " '#96ae8d',\n",
       " '#887191',\n",
       " '#82a67d',\n",
       " '#5e819d',\n",
       " '#789b73',\n",
       " '#d8dcd6',\n",
       " '#607c8e',\n",
       " '#363737',\n",
       " '#6b8ba4',\n",
       " '#929591',\n",
       " '#F0F8FF',\n",
       " '#FAEBD7',\n",
       " '#00FFFF',\n",
       " '#7FFFD4',\n",
       " ...]"
      ]
     },
     "execution_count": 39,
     "metadata": {},
     "output_type": "execute_result"
    }
   ],
   "source": [
    "import matplotlib.colors as colors\n",
    "colors_list = list(colors._colors_full_map.values())\n",
    "colors_list"
   ]
  },
  {
   "cell_type": "code",
   "execution_count": 40,
   "metadata": {},
   "outputs": [],
   "source": [
    "#напишем функцию для удобного изображения ROC-кривой \n",
    "def plot_roc_curve(fper, tper):\n",
    "    plt.plot(fper, tper, color='#9f8303', label='ROC')\n",
    "    plt.plot([0, 1], [0, 1], color='#be03fd', linestyle='--')\n",
    "    plt.xlim([0.0, 1.0])\n",
    "    plt.ylim([0.0, 1.0])\n",
    "    plt.xlabel('False Positive Rate')\n",
    "    plt.ylabel('True Positive Rate')\n",
    "    plt.title('ROC-кривая')\n",
    "    plt.legend()\n",
    "    plt.show()"
   ]
  },
  {
   "cell_type": "code",
   "execution_count": 41,
   "metadata": {},
   "outputs": [
    {
     "data": {
      "image/png": "[encoded data removed]",
      "text/plain": [
       "<Figure size 640x480 with 1 Axes>"
      ]
     },
     "metadata": {},
     "output_type": "display_data"
    }
   ],
   "source": [
    "#ROC-кривая для случайного леса\n",
    "fper, tper, thresholds = roc_curve(target_valid, RFC_probabilities_one_valid)\n",
    "plot_roc_curve(fper, tper)"
   ]
  },
  {
   "cell_type": "markdown",
   "metadata": {},
   "source": [
    "#### DecisionTree"
   ]
  },
  {
   "cell_type": "code",
   "execution_count": 42,
   "metadata": {},
   "outputs": [
    {
     "data": {
      "text/plain": [
       "array([[1528,   54],\n",
       "       [ 230,  188]])"
      ]
     },
     "execution_count": 42,
     "metadata": {},
     "output_type": "execute_result"
    }
   ],
   "source": [
    "#Матрица ошибок для дерево решений\n",
    "DTC_prediction = best_model_DTC.predict(features_valid)\n",
    "confusion_matrix(target_valid, DTC_prediction)"
   ]
  },
  {
   "cell_type": "code",
   "execution_count": 43,
   "metadata": {},
   "outputs": [
    {
     "data": {
      "text/plain": [
       "0.8164631712023421"
      ]
     },
     "execution_count": 43,
     "metadata": {},
     "output_type": "execute_result"
    }
   ],
   "source": [
    "auc_roc_DTC"
   ]
  },
  {
   "cell_type": "code",
   "execution_count": 44,
   "metadata": {},
   "outputs": [
    {
     "data": {
      "image/png": "[encoded data removed]",
      "text/plain": [
       "<Figure size 640x480 with 1 Axes>"
      ]
     },
     "metadata": {},
     "output_type": "display_data"
    }
   ],
   "source": [
    "#ROC-кривая для дерева решений\n",
    "fper, tper, thresholds = roc_curve(target_valid, DTC_probabilities_one_valid)\n",
    "plot_roc_curve(fper, tper)"
   ]
  },
  {
   "cell_type": "markdown",
   "metadata": {},
   "source": [
    "#### LogisticRegression"
   ]
  },
  {
   "cell_type": "code",
   "execution_count": 45,
   "metadata": {
    "scrolled": true
   },
   "outputs": [
    {
     "data": {
      "text/plain": [
       "array([[1506,   76],\n",
       "       [ 320,   98]])"
      ]
     },
     "execution_count": 45,
     "metadata": {},
     "output_type": "execute_result"
    }
   ],
   "source": [
    "#Матрица ошибок для логистической регрессии\n",
    "LR_prediction = model_LR.predict(features_valid)\n",
    "confusion_matrix(target_valid, LR_prediction)"
   ]
  },
  {
   "cell_type": "code",
   "execution_count": 46,
   "metadata": {
    "scrolled": true
   },
   "outputs": [
    {
     "data": {
      "text/plain": [
       "0.7587512627102753"
      ]
     },
     "execution_count": 46,
     "metadata": {},
     "output_type": "execute_result"
    }
   ],
   "source": [
    "auc_roc_LR"
   ]
  },
  {
   "cell_type": "code",
   "execution_count": 47,
   "metadata": {},
   "outputs": [
    {
     "data": {
      "image/png": "[encoded data removed]",
      "text/plain": [
       "<Figure size 640x480 with 1 Axes>"
      ]
     },
     "metadata": {},
     "output_type": "display_data"
    }
   ],
   "source": [
    "#ROC-кривая для логистической регрессии\n",
    "fper, tper, thresholds = roc_curve(target_valid, LR_probabilities_one_valid)\n",
    "plot_roc_curve(fper, tper)"
   ]
  },
  {
   "cell_type": "markdown",
   "metadata": {},
   "source": [
    "**Вывод:**\n",
    "\n",
    "Дисбаланс очевиден, модели показывают слабые результаты, "
   ]
  },
  {
   "cell_type": "markdown",
   "metadata": {},
   "source": [
    "## Борьба с дисбалансом"
   ]
  },
  {
   "cell_type": "code",
   "execution_count": 48,
   "metadata": {},
   "outputs": [],
   "source": [
    "#Создадим функцию для увеличения представленной класса в выборке \n",
    "def upsample(features, target, repeat, upsampled_сlass):\n",
    "    \"\"\"Функция принимает значение признаков (features[]), целевого признака (target[]), repeat(int / float),\n",
    "    класс который будет увеличен (upsampled_сlass (0 or 1))\"\"\"\n",
    "    features_zeros = features[target == 0]\n",
    "    features_ones = features[target == 1]\n",
    "    target_zeros = target[target == 0]\n",
    "    target_ones = target[target == 1]\n",
    "    \n",
    "    if upsampled_сlass == 0:\n",
    "        features_upsampled = pd.concat([features_zeros]* repeat + [features_ones] )\n",
    "        target_upsampled = pd.concat([target_zeros]* repeat + [target_ones] )\n",
    "        features_upsampled, target_upsampled = shuffle(\n",
    "        features_upsampled, target_upsampled, random_state= RANDOM_STATE)\n",
    "        \n",
    "    elif upsampled_сlass == 1:\n",
    "        features_upsampled = pd.concat([features_zeros] + [features_ones] * repeat)\n",
    "        target_upsampled = pd.concat([target_zeros] + [target_ones] * repeat)\n",
    "        features_upsampled, target_upsampled = shuffle(\n",
    "        features_upsampled, target_upsampled, random_state= RANDOM_STATE)\n",
    "    else:\n",
    "        features_upsampled = 0\n",
    "        target_upsampled = 0  \n",
    "      \n",
    "    return features_upsampled, target_upsampled"
   ]
  },
  {
   "cell_type": "code",
   "execution_count": 49,
   "metadata": {},
   "outputs": [],
   "source": [
    "#Создадим функцию для уменьшения представленной класса в выборке \n",
    "def downsample(features, target, fraction):\n",
    "    features_zeros = features[target == 0]\n",
    "    features_ones = features[target == 1]\n",
    "    target_zeros = target[target == 0]\n",
    "    target_ones = target[target == 1]\n",
    "\n",
    "    features_downsampled = pd.concat(\n",
    "        [features_zeros.sample(frac=fraction, random_state= RANDOM_STATE)] + [features_ones])\n",
    "    target_downsampled = pd.concat(\n",
    "        [target_zeros.sample(frac=fraction, random_state= RANDOM_STATE)] + [target_ones])\n",
    "    \n",
    "    features_downsampled, target_downsampled = shuffle(\n",
    "        features_downsampled, target_downsampled, random_state= RANDOM_STATE)\n",
    "    \n",
    "    return features_downsampled, target_downsampled"
   ]
  },
  {
   "cell_type": "code",
   "execution_count": 50,
   "metadata": {},
   "outputs": [],
   "source": [
    "features_downsampled_train, target_downsampled_train = downsample(features_train, target_train, fraction=0.25)"
   ]
  },
  {
   "cell_type": "code",
   "execution_count": 51,
   "metadata": {
    "scrolled": false
   },
   "outputs": [
    {
     "data": {
      "text/plain": [
       "0"
      ]
     },
     "execution_count": 51,
     "metadata": {},
     "output_type": "execute_result"
    }
   ],
   "source": [
    "# Тест функции с верным значением\n",
    "features_train_upsampled, target_train_upsampled = upsample(features_train, target_train, 4, 3)\n",
    "features_train_upsampled"
   ]
  },
  {
   "cell_type": "code",
   "execution_count": 52,
   "metadata": {},
   "outputs": [
    {
     "name": "stdout",
     "output_type": "stream",
     "text": [
      "0    0.501043\n",
      "1    0.498957\n",
      "Name: Exited, dtype: float64\n",
      "(9588,)\n"
     ]
    }
   ],
   "source": [
    "#Применим функцию upsample \n",
    "#увеличим количество положительных ответов в 4 раза\n",
    "features_train_upsampled, target_train_upsampled = upsample(features_train, target_train, 4, 1)\n",
    "print(target_train_upsampled.value_counts(normalize = 1))\n",
    "print(target_train_upsampled.shape)"
   ]
  },
  {
   "cell_type": "code",
   "execution_count": 53,
   "metadata": {},
   "outputs": [
    {
     "data": {
      "image/png": "[encoded data removed]",
      "text/plain": [
       "<Figure size 400x400 with 1 Axes>"
      ]
     },
     "metadata": {},
     "output_type": "display_data"
    }
   ],
   "source": [
    "names = ['Отрицательные', 'Положительные']\n",
    "values = target_train_upsampled.value_counts(normalize = 1)\n",
    "plt.figure(figsize=(4,4))\n",
    "plt.title('Баланс классов')\n",
    "plt.bar(names, values)\n",
    "plt.show()"
   ]
  },
  {
   "cell_type": "code",
   "execution_count": 54,
   "metadata": {
    "scrolled": false
   },
   "outputs": [
    {
     "name": "stdout",
     "output_type": "stream",
     "text": [
      "1    0.554474\n",
      "0    0.445526\n",
      "Name: Exited, dtype: float64\n",
      "(2157,)\n"
     ]
    }
   ],
   "source": [
    "#тест функции downsample\n",
    "#Уменьшим кол-в пооложительных ответов в 4 раза\n",
    "#Протестируем функцию (верное значение)\n",
    "features_downsampled_train, target_downsampled_train = downsample(features_train, target_train, 0.2)\n",
    "print(target_downsampled_train.value_counts(normalize = 1))\n",
    "print(target_downsampled_train.shape)"
   ]
  },
  {
   "cell_type": "code",
   "execution_count": 55,
   "metadata": {
    "scrolled": true
   },
   "outputs": [
    {
     "data": {
      "image/png": "[encoded data removed]",
      "text/plain": [
       "<Figure size 400x400 with 1 Axes>"
      ]
     },
     "metadata": {},
     "output_type": "display_data"
    }
   ],
   "source": [
    "target_train_upsampled\n",
    "names = ['Отрицательные', 'Положительные']\n",
    "values = target_downsampled_train.value_counts(normalize = 1)\n",
    "plt.figure(figsize=(4,4))\n",
    "plt.title('Баланс классов')\n",
    "plt.bar(names, values)\n",
    "plt.show()"
   ]
  },
  {
   "cell_type": "markdown",
   "metadata": {},
   "source": [
    "Далее будем работать с методом увеличения выборки (upsampled)"
   ]
  },
  {
   "cell_type": "markdown",
   "metadata": {},
   "source": [
    "## Обучение моделей на сбалансированной выборке"
   ]
  },
  {
   "cell_type": "markdown",
   "metadata": {},
   "source": [
    "### RandomForest"
   ]
  },
  {
   "cell_type": "code",
   "execution_count": 56,
   "metadata": {},
   "outputs": [
    {
     "name": "stdout",
     "output_type": "stream",
     "text": [
      "Глубина дерева: 9 ; Количество деревьев: 70 ; F1-мера : 0.6291179596174282\n",
      "CPU times: user 1min 13s, sys: 710 ms, total: 1min 13s\n",
      "Wall time: 35min 24s\n"
     ]
    }
   ],
   "source": [
    "%%time\n",
    "#Лес на сбалансированных данных, созданных с помощью методом upsampling\n",
    "best_f1_RFC_upsampled = 0\n",
    "best_depth_RFC_upsampled = 0\n",
    "predicted_valid_RFC_upsampled_best = 0\n",
    "for est in range(10, 151, 10):\n",
    "    for depth in range(1, 16):\n",
    "        for leaf in range(1,15):\n",
    "            model_RFC_upsampled = RandomForestClassifier(random_state=RANDOM_STATE, n_estimators=est,\n",
    "                                                         max_depth=depth, min_samples_leaf = leaf)\n",
    "            model_RFC_upsampled.fit(features_train_upsampled, target_train_upsampled)\n",
    "            predicted_valid_RFC = model_RFC_upsampled.predict(features_valid)\n",
    "            f1_RFC_upsampled = f1_score(target_valid, predicted_valid_RFC)\n",
    "            if f1_RFC_upsampled > best_f1_RFC_upsampled:\n",
    "                best_f1_RFC_upsampled = f1_RFC_upsampled\n",
    "                best_depth_RFC_upsampled = depth\n",
    "                best_leaf_RFC_upsampled = leaf\n",
    "                best_est_RFC_upsampled = est\n",
    "                predicted_valid_RFC_upsampled_best = predicted_valid_RFC\n",
    "                best_model_RFC_upsampled = model_RFC_upsampled\n",
    "print(\"Глубина дерева:\", best_depth_RFC_upsampled, \"; Количество деревьев:\",\n",
    "      best_est_RFC_upsampled,\"; Количество листьев :\", best_leaf_RFC_upsampled , \"; F1-мера :\", best_f1_RFC_upsampled)"
   ]
  },
  {
   "cell_type": "code",
   "execution_count": 57,
   "metadata": {},
   "outputs": [
    {
     "name": "stdout",
     "output_type": "stream",
     "text": [
      "Площадь ROC-кривой: 0.8526303691650686\n",
      "Полнота: 0.7081339712918661\n",
      "Точность: 0.5659655831739961\n",
      "F1-мера: 0.6291179596174282\n"
     ]
    }
   ],
   "source": [
    "#auc_roc для RFC на сбалансированной выборке\n",
    "RFC_upsampled_valid = best_model_RFC_upsampled.predict_proba(features_valid)[:, 1]\n",
    "auc_roc_RFC_upsampled = roc_auc_score(target_valid, RFC_upsampled_valid)\n",
    "print('Площадь ROC-кривой:', auc_roc_RFC_upsampled)\n",
    "all_stats(target_valid, predicted_valid_RFC_upsampled_best)"
   ]
  },
  {
   "cell_type": "markdown",
   "metadata": {},
   "source": [
    "### DecisionTree"
   ]
  },
  {
   "cell_type": "code",
   "execution_count": 58,
   "metadata": {},
   "outputs": [
    {
     "name": "stdout",
     "output_type": "stream",
     "text": [
      "Глубина дерева: 5 ; F1-мера: 0.5963791267305644\n",
      "CPU times: user 229 ms, sys: 1.41 ms, total: 230 ms\n",
      "Wall time: 229 ms\n"
     ]
    }
   ],
   "source": [
    "%%time\n",
    "#Дерево на сбалансированных данных, созданных с помощью методом upsampling\n",
    "best_f1_DTC_upsampled = 0\n",
    "best_depth_DTC_upsampled = 0\n",
    "predicted_valid_DTC_upsampled_best = 0\n",
    "for depth in range(1, 16):\n",
    "    model_DTC_upsampled = DecisionTreeClassifier(random_state=RANDOM_STATE, max_depth= depth)\n",
    "    model_DTC_upsampled.fit(features_train_upsampled, target_train_upsampled)\n",
    "    predicted_valid_DTC_upsampled = model_DTC_upsampled.predict(features_valid)\n",
    "    f1_DTC_upsampled = f1_score(target_valid, predicted_valid_DTC_upsampled)\n",
    "    if f1_DTC_upsampled > best_f1_DTC:\n",
    "        best_f1_DTC_upsampled = f1_DTC_upsampled\n",
    "        best_depth_DTC_upsampled = depth\n",
    "        best_model_DTC_upsampled = model_DTC_upsampled\n",
    "        predicted_valid_DTC_upsampled_best = predicted_valid_DTC_upsampled\n",
    "print(\"Глубина дерева:\", best_depth_DTC_upsampled, \"; F1-мера:\", best_f1_DTC_upsampled)"
   ]
  },
  {
   "cell_type": "code",
   "execution_count": 59,
   "metadata": {},
   "outputs": [
    {
     "name": "stdout",
     "output_type": "stream",
     "text": [
      "Площадь ROC-кривой: 0.6974251295979288\n",
      "Полнота: 0.6698564593301436\n",
      "Точность: 0.5374280230326296\n",
      "F1-мера: 0.5963791267305644\n"
     ]
    }
   ],
   "source": [
    "DTC_upsampled_valid = model_DTC_upsampled.predict_proba(features_valid)[:, 1]\n",
    "auc_roc_DTC_upsampled = roc_auc_score(target_valid, DTC_upsampled_valid)\n",
    "print('Площадь ROC-кривой:', auc_roc_DTC_upsampled)\n",
    "all_stats(target_valid, predicted_valid_DTC_upsampled_best)"
   ]
  },
  {
   "cell_type": "markdown",
   "metadata": {},
   "source": [
    "**Вывод**\n",
    "Лучшей моделью по показателям оказалась модель Случайного Леса - RandomForest с гиперпараметрами:\n",
    "\n",
    "Глубина дерева: 9 ; Количество деревьев: 70\n",
    "\n",
    "Показатели модели случайного леса:\n",
    "- Полнота: 0.7081339712918661\n",
    "- Точность: 0.5659655831739961\n",
    "- F1-мера: 0.6291179596174282\n",
    "- Площадь ROC-кривой: 0.8526303691650686\n",
    "\n",
    "Для всех моделей применялись данные сбалансированные методом upsampling"
   ]
  },
  {
   "cell_type": "markdown",
   "metadata": {},
   "source": [
    "## Тестирование модели"
   ]
  },
  {
   "cell_type": "code",
   "execution_count": 62,
   "metadata": {},
   "outputs": [
    {
     "data": {
      "text/html": [
       "<style>#sk-container-id-2 {color: black;background-color: white;}#sk-container-id-2 pre{padding: 0;}#sk-container-id-2 div.sk-toggleable {background-color: white;}#sk-container-id-2 label.sk-toggleable__label {cursor: pointer;display: block;width: 100%;margin-bottom: 0;padding: 0.3em;box-sizing: border-box;text-align: center;}#sk-container-id-2 label.sk-toggleable__label-arrow:before {content: \"▸\";float: left;margin-right: 0.25em;color: #696969;}#sk-container-id-2 label.sk-toggleable__label-arrow:hover:before {color: black;}#sk-container-id-2 div.sk-estimator:hover label.sk-toggleable__label-arrow:before {color: black;}#sk-container-id-2 div.sk-toggleable__content {max-height: 0;max-width: 0;overflow: hidden;text-align: left;background-color: #f0f8ff;}#sk-container-id-2 div.sk-toggleable__content pre {margin: 0.2em;color: black;border-radius: 0.25em;background-color: #f0f8ff;}#sk-container-id-2 input.sk-toggleable__control:checked~div.sk-toggleable__content {max-height: 200px;max-width: 100%;overflow: auto;}#sk-container-id-2 input.sk-toggleable__control:checked~label.sk-toggleable__label-arrow:before {content: \"▾\";}#sk-container-id-2 div.sk-estimator input.sk-toggleable__control:checked~label.sk-toggleable__label {background-color: #d4ebff;}#sk-container-id-2 div.sk-label input.sk-toggleable__control:checked~label.sk-toggleable__label {background-color: #d4ebff;}#sk-container-id-2 input.sk-hidden--visually {border: 0;clip: rect(1px 1px 1px 1px);clip: rect(1px, 1px, 1px, 1px);height: 1px;margin: -1px;overflow: hidden;padding: 0;position: absolute;width: 1px;}#sk-container-id-2 div.sk-estimator {font-family: monospace;background-color: #f0f8ff;border: 1px dotted black;border-radius: 0.25em;box-sizing: border-box;margin-bottom: 0.5em;}#sk-container-id-2 div.sk-estimator:hover {background-color: #d4ebff;}#sk-container-id-2 div.sk-parallel-item::after {content: \"\";width: 100%;border-bottom: 1px solid gray;flex-grow: 1;}#sk-container-id-2 div.sk-label:hover label.sk-toggleable__label {background-color: #d4ebff;}#sk-container-id-2 div.sk-serial::before {content: \"\";position: absolute;border-left: 1px solid gray;box-sizing: border-box;top: 0;bottom: 0;left: 50%;z-index: 0;}#sk-container-id-2 div.sk-serial {display: flex;flex-direction: column;align-items: center;background-color: white;padding-right: 0.2em;padding-left: 0.2em;position: relative;}#sk-container-id-2 div.sk-item {position: relative;z-index: 1;}#sk-container-id-2 div.sk-parallel {display: flex;align-items: stretch;justify-content: center;background-color: white;position: relative;}#sk-container-id-2 div.sk-item::before, #sk-container-id-2 div.sk-parallel-item::before {content: \"\";position: absolute;border-left: 1px solid gray;box-sizing: border-box;top: 0;bottom: 0;left: 50%;z-index: -1;}#sk-container-id-2 div.sk-parallel-item {display: flex;flex-direction: column;z-index: 1;position: relative;background-color: white;}#sk-container-id-2 div.sk-parallel-item:first-child::after {align-self: flex-end;width: 50%;}#sk-container-id-2 div.sk-parallel-item:last-child::after {align-self: flex-start;width: 50%;}#sk-container-id-2 div.sk-parallel-item:only-child::after {width: 0;}#sk-container-id-2 div.sk-dashed-wrapped {border: 1px dashed gray;margin: 0 0.4em 0.5em 0.4em;box-sizing: border-box;padding-bottom: 0.4em;background-color: white;}#sk-container-id-2 div.sk-label label {font-family: monospace;font-weight: bold;display: inline-block;line-height: 1.2em;}#sk-container-id-2 div.sk-label-container {text-align: center;}#sk-container-id-2 div.sk-container {/* jupyter's `normalize.less` sets `[hidden] { display: none; }` but bootstrap.min.css set `[hidden] { display: none !important; }` so we also need the `!important` here to be able to override the default hidden behavior on the sphinx rendered scikit-learn.org. See: https://github.com/scikit-learn/scikit-learn/issues/21755 */display: inline-block !important;position: relative;}#sk-container-id-2 div.sk-text-repr-fallback {display: none;}</style><div id=\"sk-container-id-2\" class=\"sk-top-container\"><div class=\"sk-text-repr-fallback\"><pre>RandomForestClassifier(max_depth=9, n_estimators=70, random_state=12345)</pre><b>In a Jupyter environment, please rerun this cell to show the HTML representation or trust the notebook. <br />On GitHub, the HTML representation is unable to render, please try loading this page with nbviewer.org.</b></div><div class=\"sk-container\" hidden><div class=\"sk-item\"><div class=\"sk-estimator sk-toggleable\"><input class=\"sk-toggleable__control sk-hidden--visually\" id=\"sk-estimator-id-2\" type=\"checkbox\" checked><label for=\"sk-estimator-id-2\" class=\"sk-toggleable__label sk-toggleable__label-arrow\">RandomForestClassifier</label><div class=\"sk-toggleable__content\"><pre>RandomForestClassifier(max_depth=9, n_estimators=70, random_state=12345)</pre></div></div></div></div></div>"
      ],
      "text/plain": [
       "RandomForestClassifier(max_depth=9, n_estimators=70, random_state=12345)"
      ]
     },
     "execution_count": 62,
     "metadata": {},
     "output_type": "execute_result"
    }
   ],
   "source": [
    "#Обучение финальной модели\n",
    "final = RandomForestClassifier( max_depth= 9,  n_estimators = 70, random_state= RANDOM_STATE)\n",
    "final.fit(features_train_upsampled, target_train_upsampled)"
   ]
  },
  {
   "cell_type": "code",
   "execution_count": 63,
   "metadata": {
    "scrolled": true
   },
   "outputs": [
    {
     "name": "stdout",
     "output_type": "stream",
     "text": [
      "Полнота: 0.6903073286052009\n",
      "Точность: 0.5427509293680297\n",
      "F1-мера: 0.6077003121748179\n"
     ]
    }
   ],
   "source": [
    "final_prediction = final.predict(features_test)\n",
    "all_stats(target_test, final_prediction)"
   ]
  },
  {
   "cell_type": "code",
   "execution_count": 64,
   "metadata": {},
   "outputs": [
    {
     "data": {
      "text/plain": [
       "0.8531655550908374"
      ]
     },
     "execution_count": 64,
     "metadata": {},
     "output_type": "execute_result"
    }
   ],
   "source": [
    "#auc_roc для финальной моделина тестовой выборке\n",
    "final_valid = final.predict_proba(features_test)[:, 1]\n",
    "auc_roc_final = roc_auc_score(target_test, final_valid)\n",
    "auc_roc_final"
   ]
  },
  {
   "cell_type": "code",
   "execution_count": 65,
   "metadata": {},
   "outputs": [
    {
     "data": {
      "text/plain": [
       "1    2000\n",
       "dtype: int64"
      ]
     },
     "execution_count": 65,
     "metadata": {},
     "output_type": "execute_result"
    }
   ],
   "source": [
    "#константная модель\n",
    "target_predict_constant = pd.Series([1]*len(target_test))\n",
    "target_predict_constant.value_counts()"
   ]
  },
  {
   "cell_type": "code",
   "execution_count": 66,
   "metadata": {},
   "outputs": [],
   "source": [
    "dummy_model = DummyClassifier(strategy='constant', constant=1)\n",
    "dummy_model.fit(features_train, target_train)\n",
    "dummy_model_valid = dummy_model.predict_proba(features_valid)[:, 1]"
   ]
  },
  {
   "cell_type": "code",
   "execution_count": 67,
   "metadata": {},
   "outputs": [
    {
     "name": "stdout",
     "output_type": "stream",
     "text": [
      "F1-мера конст. модели: 0.3491539413949649\n",
      "F1-мера финальной модели: 0.6077003121748179\n",
      "Точность конст. модели: 0.2115\n",
      "Точность финальной модели: 0.8115\n",
      "AUC-ROC конст. модели: 0.5\n",
      "AUC-ROC финальной модели: 0.8531655550908374\n",
      "Полнота конст. модели: 0.2115\n",
      "Полнота финальной модели: 0.6903073286052009\n"
     ]
    }
   ],
   "source": [
    "#Сравнение показателей значений F1-меры финальной модели и константной  \n",
    "print('F1-мера конст. модели:', f1_score(dummy_model.predict(features_test), target_test))\n",
    "print('F1-мера финальной модели:', f1_score(target_test, final_prediction))\n",
    "#Сравнение показателей точности конст. модели и финальной\n",
    "print('Точность конст. модели:', accuracy_score(dummy_model.predict(features_test), target_test))\n",
    "print('Точность финальной модели:', accuracy_score(target_test, final_prediction))\n",
    "#сравнение AUC-ROC\n",
    "print('AUC-ROC конст. модели:', roc_auc_score(target_valid, dummy_model_valid))\n",
    "print('AUC-ROC финальной модели:', roc_auc_score(target_test, final_valid))\n",
    "#Сравнение показателей recall финальной модели и константной  \n",
    "print('Полнота конст. модели:', recall_score(dummy_model.predict(features_test), target_test))\n",
    "print('Полнота финальной модели:', recall_score(target_test, final_prediction))"
   ]
  },
  {
   "cell_type": "markdown",
   "metadata": {},
   "source": [
    "Финал модель имеет результаты выше константной, тем самым проходя проверку на адекватность"
   ]
  },
  {
   "cell_type": "markdown",
   "metadata": {},
   "source": [
    "## Выводы"
   ]
  },
  {
   "cell_type": "markdown",
   "metadata": {},
   "source": [
    "- Нашли пропущенные значения в некоторых столбцах и заполнили более полезными значениями.\n",
    "- Нашли и удалили ненужные столбцы, которые могли бы помешать обучению.\n",
    "- Методом get_dummies для датасета мы разобрали столбцы Geography и Gender на дополнительные, что улучшит рез-ты в дальнейшем.\n",
    "- Сформировали выборки train-valid-test в пропорциях 60-20-20\n",
    "- В исходных данных был явный дисбаланс( больше 80% ответов целевого признака были отрицательными, а остальная часть позитивными). Этот момент сильно мешал обучению модели, в связи с этим у модели были низкие показатели результатов.\n",
    "- Дисбаланс устраняли методами upsampling и downsampling (уравнивали кол-во негативных и позитивных ответов до баланса приблизительно 50-50)\n",
    "- За основу оставили метод upsampling\n",
    "\n",
    "Самый большой показатель f1_меры оказался у модели случайного леса с гиперпараметрами:\n",
    "\n",
    "Глубина дерева: 12 ; Количество деревьев: 90\n",
    "\n",
    "\n",
    "- F1-мера: 0.5696969696969697\n",
    "- Полнота: 0.44976076555023925\n",
    "- Точность: 0.7768595041322314\n",
    "- F1-мера: 0.5696969696969697\n",
    "\n",
    "На основе сбалансированных данных методом upsampling, у модели RandomForest показатели стали лучше:\n",
    "\n",
    "Модель Случайного Леса - RandomForest с гиперпараметрами:\n",
    "\n",
    "Глубина дерева: 9 ; Количество деревьев: 70\n",
    "\n",
    "Показатели модели случайного леса:\n",
    "- Полнота: 0.7081339712918661\n",
    "- Точность: 0.5659655831739961\n",
    "- F1-мера: 0.6291179596174282\n",
    "- Площадь ROC-кривой: 0.8526303691650686\n",
    "\n",
    "Финальная модель прошла проверку на адекватность , сравнивали с константной моделью:\n",
    "\n",
    "- F1-мера конст. модели: 0.3491539413949649\n",
    "- F1-мера финальной модели: 0.6077003121748179\n",
    "- Точность конст. модели: 0.2115\n",
    "- Точность финальной модели: 0.8115\n",
    "- AUC-ROC конст. модели: 0.5\n",
    "- AUC-ROC финальной модели: 0.8531655550908374\n",
    "- Полнота конст. модели: 0.2115\n",
    "- Полнота финальной модели: 0.6903073286052009"
   ]
  },
  {
   "cell_type": "markdown",
   "metadata": {},
   "source": [
    "## Чек-лист готовности проекта"
   ]
  },
  {
   "cell_type": "markdown",
   "metadata": {},
   "source": [
    "Поставьте 'x' в выполненных пунктах. Далее нажмите Shift+Enter."
   ]
  },
  {
   "cell_type": "markdown",
   "metadata": {},
   "source": [
    "- [x]  Jupyter Notebook открыт\n",
    "- [x]  Весь код выполняется без ошибок\n",
    "- [x]  Ячейки с кодом расположены в порядке исполнения\n",
    "- [x]  Выполнен шаг 1: данные подготовлены\n",
    "- [x]  Выполнен шаг 2: задача исследована\n",
    "    - [x]  Исследован баланс классов\n",
    "    - [x]  Изучены модели без учёта дисбаланса\n",
    "    - [x]  Написаны выводы по результатам исследования\n",
    "- [x]  Выполнен шаг 3: учтён дисбаланс\n",
    "    - [x]  Применено несколько способов борьбы с дисбалансом\n",
    "    - [x]  Написаны выводы по результатам исследования\n",
    "- [x]  Выполнен шаг 4: проведено тестирование\n",
    "- [x]  Удалось достичь *F1*-меры не менее 0.59\n",
    "- [x]  Исследована метрика *AUC-ROC*"
   ]
  }
 ],
 "metadata": {
  "ExecuteTimeLog": [
   {
    "duration": 498,
    "start_time": "2023-03-15T12:26:31.602Z"
   },
   {
    "duration": 80,
    "start_time": "2023-03-15T12:31:25.844Z"
   },
   {
    "duration": 30,
    "start_time": "2023-03-15T12:31:33.816Z"
   },
   {
    "duration": 5,
    "start_time": "2023-03-15T12:33:03.590Z"
   },
   {
    "duration": 25,
    "start_time": "2023-03-15T12:33:16.235Z"
   },
   {
    "duration": 4,
    "start_time": "2023-03-15T12:33:21.325Z"
   },
   {
    "duration": 1196,
    "start_time": "2023-03-15T12:34:20.632Z"
   },
   {
    "duration": 0,
    "start_time": "2023-03-15T12:34:21.830Z"
   },
   {
    "duration": 4,
    "start_time": "2023-03-15T12:34:27.632Z"
   },
   {
    "duration": 60,
    "start_time": "2023-03-15T12:34:29.521Z"
   },
   {
    "duration": 43,
    "start_time": "2023-03-15T12:34:29.984Z"
   },
   {
    "duration": 16,
    "start_time": "2023-03-15T12:34:30.323Z"
   },
   {
    "duration": 4,
    "start_time": "2023-03-15T12:34:32.241Z"
   },
   {
    "duration": 16,
    "start_time": "2023-03-15T12:36:57.985Z"
   },
   {
    "duration": 61,
    "start_time": "2023-03-15T12:37:12.352Z"
   },
   {
    "duration": 13,
    "start_time": "2023-03-15T12:44:14.979Z"
   },
   {
    "duration": 30,
    "start_time": "2023-03-15T12:44:36.625Z"
   },
   {
    "duration": 27,
    "start_time": "2023-03-15T13:11:13.050Z"
   },
   {
    "duration": 4,
    "start_time": "2023-03-15T13:11:52.320Z"
   },
   {
    "duration": 21,
    "start_time": "2023-03-15T13:43:17.457Z"
   },
   {
    "duration": 12,
    "start_time": "2023-03-15T13:43:22.899Z"
   },
   {
    "duration": 13,
    "start_time": "2023-03-15T13:43:50.805Z"
   },
   {
    "duration": 6,
    "start_time": "2023-03-15T13:44:26.243Z"
   },
   {
    "duration": 5,
    "start_time": "2023-03-15T13:44:28.506Z"
   },
   {
    "duration": 7,
    "start_time": "2023-03-15T13:44:45.163Z"
   },
   {
    "duration": 6,
    "start_time": "2023-03-15T14:04:25.741Z"
   },
   {
    "duration": 6,
    "start_time": "2023-03-15T14:04:28.391Z"
   },
   {
    "duration": 5,
    "start_time": "2023-03-15T14:04:53.803Z"
   },
   {
    "duration": 1429,
    "start_time": "2023-03-15T14:05:03.905Z"
   },
   {
    "duration": 43,
    "start_time": "2023-03-15T14:05:05.336Z"
   },
   {
    "duration": 37,
    "start_time": "2023-03-15T14:05:05.381Z"
   },
   {
    "duration": 19,
    "start_time": "2023-03-15T14:05:05.420Z"
   },
   {
    "duration": 4,
    "start_time": "2023-03-15T14:05:05.440Z"
   },
   {
    "duration": 21,
    "start_time": "2023-03-15T14:05:05.446Z"
   },
   {
    "duration": 42,
    "start_time": "2023-03-15T14:05:05.469Z"
   },
   {
    "duration": 26,
    "start_time": "2023-03-15T14:05:05.513Z"
   },
   {
    "duration": 26,
    "start_time": "2023-03-15T14:05:05.542Z"
   },
   {
    "duration": 11,
    "start_time": "2023-03-15T14:05:05.570Z"
   },
   {
    "duration": 10,
    "start_time": "2023-03-15T14:05:05.583Z"
   },
   {
    "duration": 1430,
    "start_time": "2023-03-15T14:05:26.429Z"
   },
   {
    "duration": 49,
    "start_time": "2023-03-15T14:05:27.861Z"
   },
   {
    "duration": 39,
    "start_time": "2023-03-15T14:05:27.912Z"
   },
   {
    "duration": 19,
    "start_time": "2023-03-15T14:05:27.953Z"
   },
   {
    "duration": 4,
    "start_time": "2023-03-15T14:05:27.974Z"
   },
   {
    "duration": 19,
    "start_time": "2023-03-15T14:05:27.979Z"
   },
   {
    "duration": 55,
    "start_time": "2023-03-15T14:05:28.000Z"
   },
   {
    "duration": 14,
    "start_time": "2023-03-15T14:05:28.057Z"
   },
   {
    "duration": 30,
    "start_time": "2023-03-15T14:05:28.073Z"
   },
   {
    "duration": 16,
    "start_time": "2023-03-15T14:05:28.105Z"
   },
   {
    "duration": 13,
    "start_time": "2023-03-15T14:05:28.131Z"
   },
   {
    "duration": 4,
    "start_time": "2023-03-15T14:05:28.146Z"
   },
   {
    "duration": 1457,
    "start_time": "2023-03-15T14:07:26.860Z"
   },
   {
    "duration": 56,
    "start_time": "2023-03-15T14:07:28.319Z"
   },
   {
    "duration": 47,
    "start_time": "2023-03-15T14:07:28.377Z"
   },
   {
    "duration": 28,
    "start_time": "2023-03-15T14:07:28.426Z"
   },
   {
    "duration": 26,
    "start_time": "2023-03-15T14:07:28.456Z"
   },
   {
    "duration": 47,
    "start_time": "2023-03-15T14:07:28.484Z"
   },
   {
    "duration": 68,
    "start_time": "2023-03-15T14:07:28.533Z"
   },
   {
    "duration": 12,
    "start_time": "2023-03-15T14:07:28.603Z"
   },
   {
    "duration": 57,
    "start_time": "2023-03-15T14:07:28.618Z"
   },
   {
    "duration": 25,
    "start_time": "2023-03-15T14:07:28.678Z"
   },
   {
    "duration": 26,
    "start_time": "2023-03-15T14:07:28.705Z"
   },
   {
    "duration": 19,
    "start_time": "2023-03-15T14:25:41.835Z"
   },
   {
    "duration": 7,
    "start_time": "2023-03-15T14:30:01.538Z"
   },
   {
    "duration": 80,
    "start_time": "2023-03-15T14:32:41.857Z"
   },
   {
    "duration": 4,
    "start_time": "2023-03-15T15:04:53.083Z"
   },
   {
    "duration": 17,
    "start_time": "2023-03-15T15:05:05.503Z"
   },
   {
    "duration": 10,
    "start_time": "2023-03-15T15:05:46.953Z"
   },
   {
    "duration": 18,
    "start_time": "2023-03-15T15:08:24.272Z"
   },
   {
    "duration": 45,
    "start_time": "2023-03-22T07:21:05.475Z"
   },
   {
    "duration": 1417,
    "start_time": "2023-03-22T07:21:11.934Z"
   },
   {
    "duration": 43,
    "start_time": "2023-03-22T07:21:13.353Z"
   },
   {
    "duration": 100,
    "start_time": "2023-03-22T07:21:13.398Z"
   },
   {
    "duration": 18,
    "start_time": "2023-03-22T07:21:13.500Z"
   },
   {
    "duration": 9,
    "start_time": "2023-03-22T07:21:13.520Z"
   },
   {
    "duration": 16,
    "start_time": "2023-03-22T07:21:13.531Z"
   },
   {
    "duration": 45,
    "start_time": "2023-03-22T07:21:13.548Z"
   },
   {
    "duration": 11,
    "start_time": "2023-03-22T07:21:13.594Z"
   },
   {
    "duration": 28,
    "start_time": "2023-03-22T07:21:13.607Z"
   },
   {
    "duration": 6,
    "start_time": "2023-03-22T07:21:13.638Z"
   },
   {
    "duration": 16,
    "start_time": "2023-03-22T07:21:13.645Z"
   },
   {
    "duration": 4,
    "start_time": "2023-03-22T07:21:13.662Z"
   },
   {
    "duration": 6,
    "start_time": "2023-03-22T07:21:13.667Z"
   },
   {
    "duration": 16,
    "start_time": "2023-03-22T07:21:13.674Z"
   },
   {
    "duration": 11,
    "start_time": "2023-03-22T07:21:13.691Z"
   },
   {
    "duration": 34,
    "start_time": "2023-03-22T07:21:13.703Z"
   },
   {
    "duration": 161,
    "start_time": "2023-03-22T08:56:40.576Z"
   },
   {
    "duration": 8,
    "start_time": "2023-03-22T08:56:46.379Z"
   },
   {
    "duration": 16,
    "start_time": "2023-03-22T08:56:46.556Z"
   },
   {
    "duration": 19,
    "start_time": "2023-03-22T08:57:53.255Z"
   },
   {
    "duration": 7,
    "start_time": "2023-03-22T08:57:53.508Z"
   },
   {
    "duration": 5,
    "start_time": "2023-03-22T08:58:00.700Z"
   },
   {
    "duration": 8,
    "start_time": "2023-03-22T08:58:01.011Z"
   },
   {
    "duration": 6,
    "start_time": "2023-03-22T08:58:01.915Z"
   },
   {
    "duration": 10,
    "start_time": "2023-03-22T08:58:02.919Z"
   },
   {
    "duration": 5,
    "start_time": "2023-03-22T08:58:17.085Z"
   },
   {
    "duration": 10,
    "start_time": "2023-03-22T08:58:23.856Z"
   },
   {
    "duration": 5,
    "start_time": "2023-03-22T08:58:35.960Z"
   },
   {
    "duration": 4,
    "start_time": "2023-03-22T08:58:55.837Z"
   },
   {
    "duration": 4,
    "start_time": "2023-03-22T08:59:22.111Z"
   },
   {
    "duration": 5,
    "start_time": "2023-03-22T09:00:03.953Z"
   },
   {
    "duration": 12,
    "start_time": "2023-03-22T09:00:04.297Z"
   },
   {
    "duration": 1587,
    "start_time": "2023-03-22T09:00:13.852Z"
   },
   {
    "duration": 48,
    "start_time": "2023-03-22T09:00:15.441Z"
   },
   {
    "duration": 41,
    "start_time": "2023-03-22T09:00:15.491Z"
   },
   {
    "duration": 18,
    "start_time": "2023-03-22T09:00:15.533Z"
   },
   {
    "duration": 4,
    "start_time": "2023-03-22T09:00:15.554Z"
   },
   {
    "duration": 37,
    "start_time": "2023-03-22T09:00:15.559Z"
   },
   {
    "duration": 41,
    "start_time": "2023-03-22T09:00:15.598Z"
   },
   {
    "duration": 14,
    "start_time": "2023-03-22T09:00:15.640Z"
   },
   {
    "duration": 31,
    "start_time": "2023-03-22T09:00:15.655Z"
   },
   {
    "duration": 12,
    "start_time": "2023-03-22T09:00:15.688Z"
   },
   {
    "duration": 10,
    "start_time": "2023-03-22T09:00:15.702Z"
   },
   {
    "duration": 6,
    "start_time": "2023-03-22T09:00:15.713Z"
   },
   {
    "duration": 6,
    "start_time": "2023-03-22T09:00:15.721Z"
   },
   {
    "duration": 20,
    "start_time": "2023-03-22T09:00:15.730Z"
   },
   {
    "duration": 8,
    "start_time": "2023-03-22T09:00:15.760Z"
   },
   {
    "duration": 32,
    "start_time": "2023-03-22T09:00:15.770Z"
   },
   {
    "duration": 5,
    "start_time": "2023-03-22T09:00:15.804Z"
   },
   {
    "duration": 6,
    "start_time": "2023-03-22T09:00:15.810Z"
   },
   {
    "duration": 165,
    "start_time": "2023-03-22T09:00:15.818Z"
   },
   {
    "duration": 0,
    "start_time": "2023-03-22T09:00:15.984Z"
   },
   {
    "duration": 7,
    "start_time": "2023-03-22T09:00:44.312Z"
   },
   {
    "duration": 7,
    "start_time": "2023-03-22T09:00:44.692Z"
   },
   {
    "duration": 6,
    "start_time": "2023-03-22T09:00:46.256Z"
   },
   {
    "duration": 12,
    "start_time": "2023-03-22T09:01:19.497Z"
   },
   {
    "duration": 8,
    "start_time": "2023-03-22T09:02:36.345Z"
   },
   {
    "duration": 2,
    "start_time": "2023-03-22T09:03:05.405Z"
   },
   {
    "duration": 9,
    "start_time": "2023-03-22T09:03:05.581Z"
   },
   {
    "duration": 28,
    "start_time": "2023-03-22T09:03:25.577Z"
   },
   {
    "duration": 3,
    "start_time": "2023-03-22T09:03:54.172Z"
   },
   {
    "duration": 28,
    "start_time": "2023-03-22T09:03:55.259Z"
   },
   {
    "duration": 21,
    "start_time": "2023-03-22T09:04:40.570Z"
   },
   {
    "duration": 23,
    "start_time": "2023-03-22T09:04:52.474Z"
   },
   {
    "duration": 8,
    "start_time": "2023-03-22T09:05:32.161Z"
   },
   {
    "duration": 139,
    "start_time": "2023-03-22T09:06:16.997Z"
   },
   {
    "duration": 100,
    "start_time": "2023-03-22T09:06:24.440Z"
   },
   {
    "duration": 143,
    "start_time": "2023-03-22T09:06:34.283Z"
   },
   {
    "duration": 92,
    "start_time": "2023-03-22T09:06:38.547Z"
   },
   {
    "duration": 6,
    "start_time": "2023-03-22T09:09:44.486Z"
   },
   {
    "duration": 242,
    "start_time": "2023-03-22T09:11:03.044Z"
   },
   {
    "duration": 7,
    "start_time": "2023-03-22T09:11:12.104Z"
   },
   {
    "duration": 7,
    "start_time": "2023-03-22T09:11:34.126Z"
   },
   {
    "duration": 7,
    "start_time": "2023-03-22T09:12:05.906Z"
   },
   {
    "duration": 1205,
    "start_time": "2023-03-22T09:12:39.807Z"
   },
   {
    "duration": 4,
    "start_time": "2023-03-22T09:13:27.181Z"
   },
   {
    "duration": 716,
    "start_time": "2023-03-22T09:13:27.551Z"
   },
   {
    "duration": 4,
    "start_time": "2023-03-22T09:13:40.612Z"
   },
   {
    "duration": 690,
    "start_time": "2023-03-22T09:13:40.982Z"
   },
   {
    "duration": 5,
    "start_time": "2023-03-22T09:13:49.427Z"
   },
   {
    "duration": 3,
    "start_time": "2023-03-22T09:13:59.695Z"
   },
   {
    "duration": 4,
    "start_time": "2023-03-22T09:13:59.955Z"
   },
   {
    "duration": 720,
    "start_time": "2023-03-22T09:14:00.595Z"
   },
   {
    "duration": 15,
    "start_time": "2023-03-22T09:15:07.558Z"
   },
   {
    "duration": 6,
    "start_time": "2023-03-22T09:16:23.232Z"
   },
   {
    "duration": 702,
    "start_time": "2023-03-22T09:16:23.817Z"
   },
   {
    "duration": 7,
    "start_time": "2023-03-22T09:16:40.931Z"
   },
   {
    "duration": 810,
    "start_time": "2023-03-22T09:16:41.153Z"
   },
   {
    "duration": 1305,
    "start_time": "2023-03-22T09:16:47.471Z"
   },
   {
    "duration": 52,
    "start_time": "2023-03-22T09:16:48.778Z"
   },
   {
    "duration": 58,
    "start_time": "2023-03-22T09:16:48.832Z"
   },
   {
    "duration": 23,
    "start_time": "2023-03-22T09:16:48.891Z"
   },
   {
    "duration": 5,
    "start_time": "2023-03-22T09:16:48.917Z"
   },
   {
    "duration": 19,
    "start_time": "2023-03-22T09:16:48.923Z"
   },
   {
    "duration": 51,
    "start_time": "2023-03-22T09:16:48.944Z"
   },
   {
    "duration": 13,
    "start_time": "2023-03-22T09:16:48.997Z"
   },
   {
    "duration": 21,
    "start_time": "2023-03-22T09:16:49.012Z"
   },
   {
    "duration": 28,
    "start_time": "2023-03-22T09:16:49.035Z"
   },
   {
    "duration": 32,
    "start_time": "2023-03-22T09:16:49.064Z"
   },
   {
    "duration": 12,
    "start_time": "2023-03-22T09:16:49.097Z"
   },
   {
    "duration": 8,
    "start_time": "2023-03-22T09:16:49.111Z"
   },
   {
    "duration": 16,
    "start_time": "2023-03-22T09:16:49.122Z"
   },
   {
    "duration": 15,
    "start_time": "2023-03-22T09:16:49.139Z"
   },
   {
    "duration": 31,
    "start_time": "2023-03-22T09:16:49.156Z"
   },
   {
    "duration": 7,
    "start_time": "2023-03-22T09:16:49.189Z"
   },
   {
    "duration": 16,
    "start_time": "2023-03-22T09:16:49.198Z"
   },
   {
    "duration": 9,
    "start_time": "2023-03-22T09:16:49.216Z"
   },
   {
    "duration": 7,
    "start_time": "2023-03-22T09:16:49.227Z"
   },
   {
    "duration": 18,
    "start_time": "2023-03-22T09:16:49.235Z"
   },
   {
    "duration": 7,
    "start_time": "2023-03-22T09:16:49.254Z"
   },
   {
    "duration": 46,
    "start_time": "2023-03-22T09:16:49.264Z"
   },
   {
    "duration": 2,
    "start_time": "2023-03-22T09:16:49.312Z"
   },
   {
    "duration": 25,
    "start_time": "2023-03-22T09:16:49.316Z"
   },
   {
    "duration": 39,
    "start_time": "2023-03-22T09:16:49.343Z"
   },
   {
    "duration": 17,
    "start_time": "2023-03-22T09:16:49.388Z"
   },
   {
    "duration": 9,
    "start_time": "2023-03-22T09:16:49.407Z"
   },
   {
    "duration": 122,
    "start_time": "2023-03-22T09:16:49.417Z"
   },
   {
    "duration": 5,
    "start_time": "2023-03-22T09:16:49.541Z"
   },
   {
    "duration": 19,
    "start_time": "2023-03-22T09:16:49.548Z"
   },
   {
    "duration": 991,
    "start_time": "2023-03-22T09:16:49.576Z"
   },
   {
    "duration": 4,
    "start_time": "2023-03-22T09:16:59.497Z"
   },
   {
    "duration": 6,
    "start_time": "2023-03-22T09:16:59.732Z"
   },
   {
    "duration": 1055,
    "start_time": "2023-03-22T09:17:00.009Z"
   },
   {
    "duration": 6,
    "start_time": "2023-03-22T09:17:06.008Z"
   },
   {
    "duration": 7,
    "start_time": "2023-03-22T09:17:06.205Z"
   },
   {
    "duration": 943,
    "start_time": "2023-03-22T09:17:06.436Z"
   },
   {
    "duration": 4,
    "start_time": "2023-03-22T09:17:11.257Z"
   },
   {
    "duration": 6,
    "start_time": "2023-03-22T09:17:11.443Z"
   },
   {
    "duration": 857,
    "start_time": "2023-03-22T09:17:11.629Z"
   },
   {
    "duration": 1013,
    "start_time": "2023-03-22T09:25:48.791Z"
   },
   {
    "duration": 5,
    "start_time": "2023-03-22T09:26:16.812Z"
   },
   {
    "duration": 1193,
    "start_time": "2023-03-22T09:27:17.151Z"
   },
   {
    "duration": 27,
    "start_time": "2023-03-22T09:27:51.983Z"
   },
   {
    "duration": 80,
    "start_time": "2023-03-22T09:28:17.734Z"
   },
   {
    "duration": 1056,
    "start_time": "2023-03-22T09:32:17.178Z"
   },
   {
    "duration": 60,
    "start_time": "2023-03-22T09:33:02.279Z"
   },
   {
    "duration": 23,
    "start_time": "2023-03-22T09:34:18.127Z"
   },
   {
    "duration": 11,
    "start_time": "2023-03-22T09:34:21.846Z"
   },
   {
    "duration": 223,
    "start_time": "2023-03-22T09:36:40.083Z"
   },
   {
    "duration": 13,
    "start_time": "2023-03-22T09:38:29.595Z"
   },
   {
    "duration": 172,
    "start_time": "2023-03-22T09:40:23.302Z"
   },
   {
    "duration": 15,
    "start_time": "2023-03-22T09:40:32.686Z"
   },
   {
    "duration": 19,
    "start_time": "2023-03-22T09:41:26.179Z"
   },
   {
    "duration": 28,
    "start_time": "2023-03-22T09:41:58.301Z"
   },
   {
    "duration": 9,
    "start_time": "2023-03-22T09:41:58.817Z"
   },
   {
    "duration": 162,
    "start_time": "2023-03-22T09:42:07.008Z"
   },
   {
    "duration": 9,
    "start_time": "2023-03-22T09:42:07.207Z"
   },
   {
    "duration": 21,
    "start_time": "2023-03-22T09:42:07.903Z"
   },
   {
    "duration": 17,
    "start_time": "2023-03-22T09:42:14.896Z"
   },
   {
    "duration": 5,
    "start_time": "2023-03-22T09:47:57.112Z"
   },
   {
    "duration": 164,
    "start_time": "2023-03-22T09:48:11.325Z"
   },
   {
    "duration": 4,
    "start_time": "2023-03-22T09:49:56.044Z"
   },
   {
    "duration": 173,
    "start_time": "2023-03-22T09:49:57.921Z"
   },
   {
    "duration": 14,
    "start_time": "2023-03-22T09:50:41.620Z"
   },
   {
    "duration": 3,
    "start_time": "2023-03-22T09:51:42.117Z"
   },
   {
    "duration": 127,
    "start_time": "2023-03-22T09:51:43.505Z"
   },
   {
    "duration": 31,
    "start_time": "2023-03-22T09:52:07.262Z"
   },
   {
    "duration": 9,
    "start_time": "2023-03-22T09:52:16.321Z"
   },
   {
    "duration": 16,
    "start_time": "2023-03-22T09:52:23.014Z"
   },
   {
    "duration": 5,
    "start_time": "2023-03-22T09:52:41.696Z"
   },
   {
    "duration": 263,
    "start_time": "2023-03-22T09:52:42.243Z"
   },
   {
    "duration": 4,
    "start_time": "2023-03-22T09:52:54.417Z"
   },
   {
    "duration": 128,
    "start_time": "2023-03-22T09:52:54.808Z"
   },
   {
    "duration": 4,
    "start_time": "2023-03-22T09:53:06.456Z"
   },
   {
    "duration": 137,
    "start_time": "2023-03-22T09:53:06.643Z"
   },
   {
    "duration": 3,
    "start_time": "2023-03-22T09:53:17.611Z"
   },
   {
    "duration": 138,
    "start_time": "2023-03-22T09:53:17.791Z"
   },
   {
    "duration": 9,
    "start_time": "2023-03-22T09:53:36.102Z"
   },
   {
    "duration": 122,
    "start_time": "2023-03-22T09:53:36.614Z"
   },
   {
    "duration": 5,
    "start_time": "2023-03-22T09:53:44.331Z"
   },
   {
    "duration": 151,
    "start_time": "2023-03-22T09:53:44.543Z"
   },
   {
    "duration": 7,
    "start_time": "2023-03-22T09:53:52.281Z"
   },
   {
    "duration": 147,
    "start_time": "2023-03-22T09:53:52.654Z"
   },
   {
    "duration": 7,
    "start_time": "2023-03-22T09:54:01.687Z"
   },
   {
    "duration": 128,
    "start_time": "2023-03-22T09:54:02.131Z"
   },
   {
    "duration": 3,
    "start_time": "2023-03-22T09:54:18.522Z"
   },
   {
    "duration": 134,
    "start_time": "2023-03-22T09:54:18.711Z"
   },
   {
    "duration": 5,
    "start_time": "2023-03-22T09:54:27.414Z"
   },
   {
    "duration": 113,
    "start_time": "2023-03-22T09:54:27.621Z"
   },
   {
    "duration": 9,
    "start_time": "2023-03-22T09:59:16.965Z"
   },
   {
    "duration": 12,
    "start_time": "2023-03-22T09:59:33.585Z"
   },
   {
    "duration": 4,
    "start_time": "2023-03-22T09:59:33.878Z"
   },
   {
    "duration": 171,
    "start_time": "2023-03-22T10:00:05.807Z"
   },
   {
    "duration": 161,
    "start_time": "2023-03-22T10:00:49.455Z"
   },
   {
    "duration": 118,
    "start_time": "2023-03-22T10:01:12.180Z"
   },
   {
    "duration": 7,
    "start_time": "2023-03-22T10:04:26.699Z"
   },
   {
    "duration": 14,
    "start_time": "2023-03-22T10:05:14.092Z"
   },
   {
    "duration": 6,
    "start_time": "2023-03-22T10:06:47.083Z"
   },
   {
    "duration": 28,
    "start_time": "2023-03-22T10:07:54.383Z"
   },
   {
    "duration": 111,
    "start_time": "2023-03-22T10:09:16.122Z"
   },
   {
    "duration": 14,
    "start_time": "2023-03-22T10:09:30.107Z"
   },
   {
    "duration": 9,
    "start_time": "2023-03-22T10:10:09.048Z"
   },
   {
    "duration": 21,
    "start_time": "2023-03-22T10:10:34.916Z"
   },
   {
    "duration": 11,
    "start_time": "2023-03-22T10:10:50.345Z"
   },
   {
    "duration": 10,
    "start_time": "2023-03-22T10:12:12.436Z"
   },
   {
    "duration": 11,
    "start_time": "2023-03-22T10:13:52.141Z"
   },
   {
    "duration": 6,
    "start_time": "2023-03-22T10:13:56.814Z"
   },
   {
    "duration": 12,
    "start_time": "2023-03-22T10:13:56.993Z"
   },
   {
    "duration": 11,
    "start_time": "2023-03-22T10:13:57.195Z"
   },
   {
    "duration": 13,
    "start_time": "2023-03-22T10:13:57.422Z"
   },
   {
    "duration": 13,
    "start_time": "2023-03-22T10:13:57.802Z"
   },
   {
    "duration": 11,
    "start_time": "2023-03-22T10:13:58.050Z"
   },
   {
    "duration": 14,
    "start_time": "2023-03-22T10:13:58.585Z"
   },
   {
    "duration": 14,
    "start_time": "2023-03-22T10:15:00.885Z"
   },
   {
    "duration": 10,
    "start_time": "2023-03-22T10:15:05.933Z"
   },
   {
    "duration": 3,
    "start_time": "2023-03-22T10:15:46.696Z"
   },
   {
    "duration": 3,
    "start_time": "2023-03-22T10:15:47.889Z"
   },
   {
    "duration": 60,
    "start_time": "2023-03-22T10:15:48.056Z"
   },
   {
    "duration": 9,
    "start_time": "2023-03-22T10:15:52.714Z"
   },
   {
    "duration": 9,
    "start_time": "2023-03-22T10:16:33.547Z"
   },
   {
    "duration": 5,
    "start_time": "2023-03-22T10:20:27.301Z"
   },
   {
    "duration": 4,
    "start_time": "2023-03-22T10:20:27.842Z"
   },
   {
    "duration": 44,
    "start_time": "2023-03-22T10:20:27.999Z"
   },
   {
    "duration": 11,
    "start_time": "2023-03-22T10:20:32.340Z"
   },
   {
    "duration": 4,
    "start_time": "2023-03-22T10:20:42.486Z"
   },
   {
    "duration": 11,
    "start_time": "2023-03-22T10:21:12.404Z"
   },
   {
    "duration": 11,
    "start_time": "2023-03-22T10:21:12.685Z"
   },
   {
    "duration": 14,
    "start_time": "2023-03-22T10:21:13.685Z"
   },
   {
    "duration": 4,
    "start_time": "2023-03-22T10:21:13.926Z"
   },
   {
    "duration": 14,
    "start_time": "2023-03-22T10:21:21.684Z"
   },
   {
    "duration": 7,
    "start_time": "2023-03-22T10:21:21.881Z"
   },
   {
    "duration": 13,
    "start_time": "2023-03-22T10:21:22.254Z"
   },
   {
    "duration": 4,
    "start_time": "2023-03-22T10:21:22.696Z"
   },
   {
    "duration": 14,
    "start_time": "2023-03-22T10:21:44.624Z"
   },
   {
    "duration": 10,
    "start_time": "2023-03-22T10:21:47.513Z"
   },
   {
    "duration": 5,
    "start_time": "2023-03-22T10:21:48.331Z"
   },
   {
    "duration": 19,
    "start_time": "2023-03-22T10:21:56.748Z"
   },
   {
    "duration": 8,
    "start_time": "2023-03-22T10:21:57.138Z"
   },
   {
    "duration": 15,
    "start_time": "2023-03-22T10:21:57.488Z"
   },
   {
    "duration": 15,
    "start_time": "2023-03-22T10:21:57.886Z"
   },
   {
    "duration": 6,
    "start_time": "2023-03-22T10:21:58.329Z"
   },
   {
    "duration": 77,
    "start_time": "2023-03-22T10:22:04.200Z"
   },
   {
    "duration": 116,
    "start_time": "2023-03-22T10:22:14.837Z"
   },
   {
    "duration": 130,
    "start_time": "2023-03-22T10:22:23.636Z"
   },
   {
    "duration": 133,
    "start_time": "2023-03-22T10:22:27.707Z"
   },
   {
    "duration": 143,
    "start_time": "2023-03-22T10:22:33.245Z"
   },
   {
    "duration": 11,
    "start_time": "2023-03-22T10:27:10.810Z"
   },
   {
    "duration": 5,
    "start_time": "2023-03-22T10:28:51.994Z"
   },
   {
    "duration": 11,
    "start_time": "2023-03-22T10:30:11.420Z"
   },
   {
    "duration": 840,
    "start_time": "2023-03-22T10:33:38.728Z"
   },
   {
    "duration": 5,
    "start_time": "2023-03-22T10:37:00.277Z"
   },
   {
    "duration": 444,
    "start_time": "2023-03-22T10:37:08.473Z"
   },
   {
    "duration": 56,
    "start_time": "2023-03-22T10:38:11.599Z"
   },
   {
    "duration": 555,
    "start_time": "2023-03-22T10:38:28.025Z"
   },
   {
    "duration": 7,
    "start_time": "2023-03-22T10:38:57.582Z"
   },
   {
    "duration": 485,
    "start_time": "2023-03-22T10:39:05.231Z"
   },
   {
    "duration": 5,
    "start_time": "2023-03-22T10:39:46.749Z"
   },
   {
    "duration": 415,
    "start_time": "2023-03-22T10:39:49.289Z"
   },
   {
    "duration": 406,
    "start_time": "2023-03-22T10:39:59.500Z"
   },
   {
    "duration": 1256,
    "start_time": "2023-03-22T10:42:29.925Z"
   },
   {
    "duration": 54,
    "start_time": "2023-03-22T10:42:31.185Z"
   },
   {
    "duration": 65,
    "start_time": "2023-03-22T10:42:31.241Z"
   },
   {
    "duration": 23,
    "start_time": "2023-03-22T10:42:31.308Z"
   },
   {
    "duration": 21,
    "start_time": "2023-03-22T10:42:31.333Z"
   },
   {
    "duration": 70,
    "start_time": "2023-03-22T10:42:31.355Z"
   },
   {
    "duration": 71,
    "start_time": "2023-03-22T10:42:31.427Z"
   },
   {
    "duration": 28,
    "start_time": "2023-03-22T10:42:31.501Z"
   },
   {
    "duration": 28,
    "start_time": "2023-03-22T10:42:31.530Z"
   },
   {
    "duration": 54,
    "start_time": "2023-03-22T10:42:31.559Z"
   },
   {
    "duration": 23,
    "start_time": "2023-03-22T10:42:31.614Z"
   },
   {
    "duration": 36,
    "start_time": "2023-03-22T10:42:31.639Z"
   },
   {
    "duration": 56,
    "start_time": "2023-03-22T10:42:31.681Z"
   },
   {
    "duration": 70,
    "start_time": "2023-03-22T10:42:31.739Z"
   },
   {
    "duration": 45,
    "start_time": "2023-03-22T10:42:31.811Z"
   },
   {
    "duration": 73,
    "start_time": "2023-03-22T10:42:31.858Z"
   },
   {
    "duration": 54,
    "start_time": "2023-03-22T10:42:31.933Z"
   },
   {
    "duration": 64,
    "start_time": "2023-03-22T10:42:31.989Z"
   },
   {
    "duration": 72,
    "start_time": "2023-03-22T10:42:32.055Z"
   },
   {
    "duration": 24,
    "start_time": "2023-03-22T10:42:32.128Z"
   },
   {
    "duration": 62,
    "start_time": "2023-03-22T10:42:32.154Z"
   },
   {
    "duration": 15,
    "start_time": "2023-03-22T10:42:32.217Z"
   },
   {
    "duration": 84,
    "start_time": "2023-03-22T10:42:32.234Z"
   },
   {
    "duration": 22,
    "start_time": "2023-03-22T10:42:32.320Z"
   },
   {
    "duration": 56,
    "start_time": "2023-03-22T10:42:32.345Z"
   },
   {
    "duration": 20,
    "start_time": "2023-03-22T10:42:32.402Z"
   },
   {
    "duration": 34,
    "start_time": "2023-03-22T10:42:32.424Z"
   },
   {
    "duration": 46,
    "start_time": "2023-03-22T10:42:32.459Z"
   },
   {
    "duration": 421,
    "start_time": "2023-03-22T10:42:32.507Z"
   },
   {
    "duration": 139,
    "start_time": "2023-03-22T10:42:32.929Z"
   },
   {
    "duration": 138,
    "start_time": "2023-03-22T10:42:33.072Z"
   },
   {
    "duration": 3,
    "start_time": "2023-03-22T10:42:33.211Z"
   },
   {
    "duration": 7,
    "start_time": "2023-03-22T10:42:33.216Z"
   },
   {
    "duration": 842,
    "start_time": "2023-03-22T10:42:33.224Z"
   },
   {
    "duration": 845,
    "start_time": "2023-03-22T10:42:34.068Z"
   },
   {
    "duration": 10,
    "start_time": "2023-03-22T10:42:34.914Z"
   },
   {
    "duration": 86,
    "start_time": "2023-03-22T10:42:34.926Z"
   },
   {
    "duration": 15,
    "start_time": "2023-03-22T10:42:35.013Z"
   },
   {
    "duration": 11,
    "start_time": "2023-03-22T10:42:35.030Z"
   },
   {
    "duration": 146,
    "start_time": "2023-03-22T10:42:35.043Z"
   },
   {
    "duration": 37,
    "start_time": "2023-03-22T10:42:35.193Z"
   },
   {
    "duration": 8,
    "start_time": "2023-03-22T10:42:35.232Z"
   },
   {
    "duration": 30,
    "start_time": "2023-03-22T10:42:35.242Z"
   },
   {
    "duration": 167,
    "start_time": "2023-03-22T10:42:35.274Z"
   },
   {
    "duration": 118,
    "start_time": "2023-03-22T10:42:35.443Z"
   },
   {
    "duration": 219,
    "start_time": "2023-03-22T10:42:35.563Z"
   },
   {
    "duration": 0,
    "start_time": "2023-03-22T10:42:35.783Z"
   },
   {
    "duration": 0,
    "start_time": "2023-03-22T10:42:35.785Z"
   },
   {
    "duration": 0,
    "start_time": "2023-03-22T10:42:35.785Z"
   },
   {
    "duration": 0,
    "start_time": "2023-03-22T10:42:35.786Z"
   },
   {
    "duration": 0,
    "start_time": "2023-03-22T10:42:35.787Z"
   },
   {
    "duration": 0,
    "start_time": "2023-03-22T10:42:35.788Z"
   },
   {
    "duration": 0,
    "start_time": "2023-03-22T10:42:35.789Z"
   },
   {
    "duration": 0,
    "start_time": "2023-03-22T10:42:35.790Z"
   },
   {
    "duration": 0,
    "start_time": "2023-03-22T10:42:35.791Z"
   },
   {
    "duration": 0,
    "start_time": "2023-03-22T10:42:35.792Z"
   },
   {
    "duration": 0,
    "start_time": "2023-03-22T10:42:35.793Z"
   },
   {
    "duration": 1346,
    "start_time": "2023-03-22T10:42:46.213Z"
   },
   {
    "duration": 57,
    "start_time": "2023-03-22T10:42:47.563Z"
   },
   {
    "duration": 38,
    "start_time": "2023-03-22T10:42:47.622Z"
   },
   {
    "duration": 25,
    "start_time": "2023-03-22T10:42:47.675Z"
   },
   {
    "duration": 8,
    "start_time": "2023-03-22T10:42:47.702Z"
   },
   {
    "duration": 19,
    "start_time": "2023-03-22T10:42:47.711Z"
   },
   {
    "duration": 57,
    "start_time": "2023-03-22T10:42:47.732Z"
   },
   {
    "duration": 12,
    "start_time": "2023-03-22T10:42:47.791Z"
   },
   {
    "duration": 19,
    "start_time": "2023-03-22T10:42:47.804Z"
   },
   {
    "duration": 6,
    "start_time": "2023-03-22T10:42:47.824Z"
   },
   {
    "duration": 8,
    "start_time": "2023-03-22T10:42:47.831Z"
   },
   {
    "duration": 5,
    "start_time": "2023-03-22T10:42:47.841Z"
   },
   {
    "duration": 6,
    "start_time": "2023-03-22T10:42:47.848Z"
   },
   {
    "duration": 16,
    "start_time": "2023-03-22T10:42:47.866Z"
   },
   {
    "duration": 22,
    "start_time": "2023-03-22T10:42:47.884Z"
   },
   {
    "duration": 18,
    "start_time": "2023-03-22T10:42:47.907Z"
   },
   {
    "duration": 6,
    "start_time": "2023-03-22T10:42:47.926Z"
   },
   {
    "duration": 6,
    "start_time": "2023-03-22T10:42:47.933Z"
   },
   {
    "duration": 5,
    "start_time": "2023-03-22T10:42:47.941Z"
   },
   {
    "duration": 47,
    "start_time": "2023-03-22T10:42:47.947Z"
   },
   {
    "duration": 16,
    "start_time": "2023-03-22T10:42:47.995Z"
   },
   {
    "duration": 4,
    "start_time": "2023-03-22T10:42:48.013Z"
   },
   {
    "duration": 12,
    "start_time": "2023-03-22T10:42:48.019Z"
   },
   {
    "duration": 2,
    "start_time": "2023-03-22T10:42:48.033Z"
   },
   {
    "duration": 45,
    "start_time": "2023-03-22T10:42:48.037Z"
   },
   {
    "duration": 17,
    "start_time": "2023-03-22T10:42:48.088Z"
   },
   {
    "duration": 17,
    "start_time": "2023-03-22T10:42:48.106Z"
   },
   {
    "duration": 4,
    "start_time": "2023-03-22T10:42:48.125Z"
   },
   {
    "duration": 398,
    "start_time": "2023-03-22T10:42:48.130Z"
   },
   {
    "duration": 39,
    "start_time": "2023-03-22T10:42:48.529Z"
   },
   {
    "duration": 263,
    "start_time": "2023-03-22T10:42:48.570Z"
   },
   {
    "duration": 3,
    "start_time": "2023-03-22T10:42:48.834Z"
   },
   {
    "duration": 7,
    "start_time": "2023-03-22T10:42:48.839Z"
   },
   {
    "duration": 829,
    "start_time": "2023-03-22T10:42:48.848Z"
   },
   {
    "duration": 863,
    "start_time": "2023-03-22T10:42:49.678Z"
   },
   {
    "duration": 10,
    "start_time": "2023-03-22T10:42:50.543Z"
   },
   {
    "duration": 92,
    "start_time": "2023-03-22T10:42:50.561Z"
   },
   {
    "duration": 19,
    "start_time": "2023-03-22T10:42:50.655Z"
   },
   {
    "duration": 29,
    "start_time": "2023-03-22T10:42:50.675Z"
   },
   {
    "duration": 122,
    "start_time": "2023-03-22T10:42:50.705Z"
   },
   {
    "duration": 57,
    "start_time": "2023-03-22T10:42:50.832Z"
   },
   {
    "duration": 9,
    "start_time": "2023-03-22T10:42:50.890Z"
   },
   {
    "duration": 11,
    "start_time": "2023-03-22T10:42:50.901Z"
   },
   {
    "duration": 124,
    "start_time": "2023-03-22T10:42:50.914Z"
   },
   {
    "duration": 26,
    "start_time": "2023-03-22T10:42:51.040Z"
   },
   {
    "duration": 241,
    "start_time": "2023-03-22T10:42:51.067Z"
   },
   {
    "duration": 0,
    "start_time": "2023-03-22T10:42:51.309Z"
   },
   {
    "duration": 0,
    "start_time": "2023-03-22T10:42:51.311Z"
   },
   {
    "duration": 0,
    "start_time": "2023-03-22T10:42:51.311Z"
   },
   {
    "duration": 0,
    "start_time": "2023-03-22T10:42:51.313Z"
   },
   {
    "duration": 0,
    "start_time": "2023-03-22T10:42:51.313Z"
   },
   {
    "duration": 0,
    "start_time": "2023-03-22T10:42:51.314Z"
   },
   {
    "duration": 0,
    "start_time": "2023-03-22T10:42:51.315Z"
   },
   {
    "duration": 0,
    "start_time": "2023-03-22T10:42:51.316Z"
   },
   {
    "duration": 0,
    "start_time": "2023-03-22T10:42:51.317Z"
   },
   {
    "duration": 0,
    "start_time": "2023-03-22T10:42:51.318Z"
   },
   {
    "duration": 0,
    "start_time": "2023-03-22T10:42:51.320Z"
   },
   {
    "duration": 8,
    "start_time": "2023-03-22T10:43:02.482Z"
   },
   {
    "duration": 28,
    "start_time": "2023-03-22T10:43:04.035Z"
   },
   {
    "duration": 179,
    "start_time": "2023-03-22T10:43:04.845Z"
   },
   {
    "duration": 12,
    "start_time": "2023-03-22T10:43:05.990Z"
   },
   {
    "duration": 4,
    "start_time": "2023-03-22T10:43:06.186Z"
   },
   {
    "duration": 15,
    "start_time": "2023-03-22T10:43:06.355Z"
   },
   {
    "duration": 94,
    "start_time": "2023-03-22T10:43:06.533Z"
   },
   {
    "duration": 9,
    "start_time": "2023-03-22T10:43:06.707Z"
   },
   {
    "duration": 19,
    "start_time": "2023-03-22T10:43:06.902Z"
   },
   {
    "duration": 23,
    "start_time": "2023-03-22T10:43:07.091Z"
   },
   {
    "duration": 166,
    "start_time": "2023-03-22T10:43:07.283Z"
   },
   {
    "duration": 569,
    "start_time": "2023-03-22T10:43:07.839Z"
   },
   {
    "duration": 6,
    "start_time": "2023-03-22T10:44:24.178Z"
   },
   {
    "duration": 821,
    "start_time": "2023-03-22T10:44:24.749Z"
   },
   {
    "duration": 7,
    "start_time": "2023-03-22T10:44:41.688Z"
   },
   {
    "duration": 886,
    "start_time": "2023-03-22T10:44:42.488Z"
   },
   {
    "duration": 8,
    "start_time": "2023-03-22T10:45:11.800Z"
   },
   {
    "duration": 856,
    "start_time": "2023-03-22T10:45:12.227Z"
   },
   {
    "duration": 4,
    "start_time": "2023-03-22T10:45:33.752Z"
   },
   {
    "duration": 433,
    "start_time": "2023-03-22T10:45:33.930Z"
   },
   {
    "duration": 526,
    "start_time": "2023-03-22T10:49:33.040Z"
   },
   {
    "duration": 67,
    "start_time": "2023-03-22T11:14:30.053Z"
   },
   {
    "duration": 64,
    "start_time": "2023-03-22T11:14:37.823Z"
   },
   {
    "duration": 14,
    "start_time": "2023-03-22T11:14:48.077Z"
   },
   {
    "duration": 366,
    "start_time": "2023-03-22T11:17:54.838Z"
   },
   {
    "duration": 0,
    "start_time": "2023-03-22T11:17:55.206Z"
   },
   {
    "duration": 332,
    "start_time": "2023-03-22T11:18:02.150Z"
   },
   {
    "duration": 4,
    "start_time": "2023-03-22T11:18:27.915Z"
   },
   {
    "duration": 345,
    "start_time": "2023-03-22T11:18:33.790Z"
   },
   {
    "duration": 23,
    "start_time": "2023-03-22T11:18:39.597Z"
   },
   {
    "duration": 566,
    "start_time": "2023-03-22T11:19:00.924Z"
   },
   {
    "duration": 35,
    "start_time": "2023-03-22T11:19:04.205Z"
   },
   {
    "duration": 66,
    "start_time": "2023-03-22T11:19:05.003Z"
   },
   {
    "duration": 8,
    "start_time": "2023-03-22T11:19:05.520Z"
   },
   {
    "duration": 330,
    "start_time": "2023-03-22T11:19:49.886Z"
   },
   {
    "duration": 319,
    "start_time": "2023-03-22T11:19:57.087Z"
   },
   {
    "duration": 20,
    "start_time": "2023-03-22T11:19:58.299Z"
   },
   {
    "duration": 45,
    "start_time": "2023-03-22T11:19:59.401Z"
   },
   {
    "duration": 8,
    "start_time": "2023-03-22T11:20:00.807Z"
   },
   {
    "duration": 10,
    "start_time": "2023-03-22T11:28:54.511Z"
   },
   {
    "duration": 26,
    "start_time": "2023-03-22T11:36:01.107Z"
   },
   {
    "duration": 8,
    "start_time": "2023-03-22T11:36:01.342Z"
   },
   {
    "duration": 26,
    "start_time": "2023-03-22T11:36:09.330Z"
   },
   {
    "duration": 10,
    "start_time": "2023-03-22T11:36:13.288Z"
   },
   {
    "duration": 28,
    "start_time": "2023-03-22T11:36:42.299Z"
   },
   {
    "duration": 13,
    "start_time": "2023-03-22T11:36:42.496Z"
   },
   {
    "duration": 28,
    "start_time": "2023-03-22T11:40:35.012Z"
   },
   {
    "duration": 103,
    "start_time": "2023-03-22T11:40:36.960Z"
   },
   {
    "duration": 429,
    "start_time": "2023-03-22T11:54:09.960Z"
   },
   {
    "duration": 33,
    "start_time": "2023-03-22T11:56:11.207Z"
   },
   {
    "duration": 364,
    "start_time": "2023-03-22T11:58:55.187Z"
   },
   {
    "duration": 364,
    "start_time": "2023-03-22T11:59:04.695Z"
   },
   {
    "duration": 5,
    "start_time": "2023-03-22T11:59:37.412Z"
   },
   {
    "duration": 284,
    "start_time": "2023-03-22T11:59:38.125Z"
   },
   {
    "duration": 30,
    "start_time": "2023-03-22T12:00:10.093Z"
   },
   {
    "duration": 304,
    "start_time": "2023-03-22T12:01:26.730Z"
   },
   {
    "duration": 8,
    "start_time": "2023-03-22T12:01:27.036Z"
   },
   {
    "duration": 327,
    "start_time": "2023-03-22T12:01:44.281Z"
   },
   {
    "duration": 10,
    "start_time": "2023-03-22T12:01:44.611Z"
   },
   {
    "duration": 20,
    "start_time": "2023-03-22T12:01:54.399Z"
   },
   {
    "duration": 37,
    "start_time": "2023-03-22T12:03:12.543Z"
   },
   {
    "duration": 7,
    "start_time": "2023-03-22T12:03:34.813Z"
   },
   {
    "duration": 9,
    "start_time": "2023-03-22T12:04:05.187Z"
   },
   {
    "duration": 8,
    "start_time": "2023-03-22T12:05:07.548Z"
   },
   {
    "duration": 8,
    "start_time": "2023-03-22T12:06:02.425Z"
   },
   {
    "duration": 49,
    "start_time": "2023-03-22T12:06:53.593Z"
   },
   {
    "duration": 8,
    "start_time": "2023-03-22T12:19:16.126Z"
   },
   {
    "duration": 50,
    "start_time": "2023-03-22T12:19:29.216Z"
   },
   {
    "duration": 332,
    "start_time": "2023-03-22T12:19:40.292Z"
   },
   {
    "duration": 13,
    "start_time": "2023-03-22T12:19:42.094Z"
   },
   {
    "duration": 38,
    "start_time": "2023-03-22T12:19:42.532Z"
   },
   {
    "duration": 29,
    "start_time": "2023-03-22T12:26:27.429Z"
   },
   {
    "duration": 364,
    "start_time": "2023-03-22T12:26:30.038Z"
   },
   {
    "duration": 21,
    "start_time": "2023-03-22T12:26:30.406Z"
   },
   {
    "duration": 24,
    "start_time": "2023-03-22T12:26:32.598Z"
   },
   {
    "duration": 383,
    "start_time": "2023-03-22T12:27:38.284Z"
   },
   {
    "duration": 22,
    "start_time": "2023-03-22T12:27:39.201Z"
   },
   {
    "duration": 24,
    "start_time": "2023-03-22T12:27:41.099Z"
   },
   {
    "duration": 9,
    "start_time": "2023-03-22T12:27:44.492Z"
   },
   {
    "duration": 11,
    "start_time": "2023-03-22T12:27:45.707Z"
   },
   {
    "duration": 1450,
    "start_time": "2023-03-22T12:28:48.112Z"
   },
   {
    "duration": 61,
    "start_time": "2023-03-22T12:28:49.565Z"
   },
   {
    "duration": 58,
    "start_time": "2023-03-22T12:28:49.628Z"
   },
   {
    "duration": 20,
    "start_time": "2023-03-22T12:28:49.698Z"
   },
   {
    "duration": 4,
    "start_time": "2023-03-22T12:28:49.721Z"
   },
   {
    "duration": 14,
    "start_time": "2023-03-22T12:28:49.727Z"
   },
   {
    "duration": 53,
    "start_time": "2023-03-22T12:28:49.743Z"
   },
   {
    "duration": 13,
    "start_time": "2023-03-22T12:28:49.799Z"
   },
   {
    "duration": 17,
    "start_time": "2023-03-22T12:28:49.814Z"
   },
   {
    "duration": 8,
    "start_time": "2023-03-22T12:28:49.833Z"
   },
   {
    "duration": 33,
    "start_time": "2023-03-22T12:28:49.871Z"
   },
   {
    "duration": 8,
    "start_time": "2023-03-22T12:28:49.906Z"
   },
   {
    "duration": 5,
    "start_time": "2023-03-22T12:28:49.916Z"
   },
   {
    "duration": 18,
    "start_time": "2023-03-22T12:28:49.925Z"
   },
   {
    "duration": 6,
    "start_time": "2023-03-22T12:28:49.945Z"
   },
   {
    "duration": 51,
    "start_time": "2023-03-22T12:28:49.953Z"
   },
   {
    "duration": 5,
    "start_time": "2023-03-22T12:28:50.005Z"
   },
   {
    "duration": 20,
    "start_time": "2023-03-22T12:28:50.012Z"
   },
   {
    "duration": 21,
    "start_time": "2023-03-22T12:28:50.033Z"
   },
   {
    "duration": 47,
    "start_time": "2023-03-22T12:28:50.056Z"
   },
   {
    "duration": 19,
    "start_time": "2023-03-22T12:28:50.105Z"
   },
   {
    "duration": 25,
    "start_time": "2023-03-22T12:28:50.126Z"
   },
   {
    "duration": 51,
    "start_time": "2023-03-22T12:28:50.153Z"
   },
   {
    "duration": 4,
    "start_time": "2023-03-22T12:28:50.207Z"
   },
   {
    "duration": 22,
    "start_time": "2023-03-22T12:28:50.213Z"
   },
   {
    "duration": 17,
    "start_time": "2023-03-22T12:28:50.237Z"
   },
   {
    "duration": 34,
    "start_time": "2023-03-22T12:28:50.256Z"
   },
   {
    "duration": 24,
    "start_time": "2023-03-22T12:28:50.292Z"
   },
   {
    "duration": 392,
    "start_time": "2023-03-22T12:28:50.318Z"
   },
   {
    "duration": 54,
    "start_time": "2023-03-22T12:28:50.712Z"
   },
   {
    "duration": 249,
    "start_time": "2023-03-22T12:28:50.772Z"
   },
   {
    "duration": 3,
    "start_time": "2023-03-22T12:28:51.023Z"
   },
   {
    "duration": 15,
    "start_time": "2023-03-22T12:28:51.028Z"
   },
   {
    "duration": 1017,
    "start_time": "2023-03-22T12:28:51.045Z"
   },
   {
    "duration": 483,
    "start_time": "2023-03-22T12:28:52.066Z"
   },
   {
    "duration": 19,
    "start_time": "2023-03-22T12:28:52.550Z"
   },
   {
    "duration": 63,
    "start_time": "2023-03-22T12:28:52.571Z"
   },
   {
    "duration": 21,
    "start_time": "2023-03-22T12:28:52.636Z"
   },
   {
    "duration": 39,
    "start_time": "2023-03-22T12:28:52.662Z"
   },
   {
    "duration": 151,
    "start_time": "2023-03-22T12:28:52.702Z"
   },
   {
    "duration": 52,
    "start_time": "2023-03-22T12:28:52.870Z"
   },
   {
    "duration": 10,
    "start_time": "2023-03-22T12:28:52.923Z"
   },
   {
    "duration": 11,
    "start_time": "2023-03-22T12:28:52.935Z"
   },
   {
    "duration": 160,
    "start_time": "2023-03-22T12:28:52.948Z"
   },
   {
    "duration": 66,
    "start_time": "2023-03-22T12:28:53.109Z"
   },
   {
    "duration": 15,
    "start_time": "2023-03-22T12:28:53.177Z"
   },
   {
    "duration": 111,
    "start_time": "2023-03-22T12:28:53.194Z"
   },
   {
    "duration": 313,
    "start_time": "2023-03-22T12:28:53.307Z"
   },
   {
    "duration": 7,
    "start_time": "2023-03-22T12:28:53.622Z"
   },
   {
    "duration": 7,
    "start_time": "2023-03-22T12:28:53.630Z"
   },
   {
    "duration": 14,
    "start_time": "2023-03-22T12:28:53.639Z"
   },
   {
    "duration": 95,
    "start_time": "2023-03-22T12:28:53.655Z"
   },
   {
    "duration": 9,
    "start_time": "2023-03-22T12:28:53.752Z"
   },
   {
    "duration": 47,
    "start_time": "2023-03-22T12:28:53.762Z"
   },
   {
    "duration": 13,
    "start_time": "2023-03-22T12:28:53.810Z"
   },
   {
    "duration": 145,
    "start_time": "2023-03-22T12:28:53.824Z"
   },
   {
    "duration": 334,
    "start_time": "2023-03-22T12:28:53.971Z"
   },
   {
    "duration": 502,
    "start_time": "2023-03-22T12:28:54.369Z"
   },
   {
    "duration": 431,
    "start_time": "2023-03-22T12:28:54.872Z"
   },
   {
    "duration": 19,
    "start_time": "2023-03-22T12:28:55.305Z"
   },
   {
    "duration": 74,
    "start_time": "2023-03-22T12:28:55.325Z"
   },
   {
    "duration": 9,
    "start_time": "2023-03-22T12:28:55.401Z"
   },
   {
    "duration": 81,
    "start_time": "2023-03-22T12:28:55.412Z"
   },
   {
    "duration": 111,
    "start_time": "2023-03-22T12:28:55.495Z"
   },
   {
    "duration": 491,
    "start_time": "2023-03-22T12:28:55.608Z"
   },
   {
    "duration": 25,
    "start_time": "2023-03-22T12:28:56.104Z"
   },
   {
    "duration": 156,
    "start_time": "2023-03-22T12:28:56.131Z"
   },
   {
    "duration": 0,
    "start_time": "2023-03-22T12:28:56.289Z"
   },
   {
    "duration": 0,
    "start_time": "2023-03-22T12:28:56.290Z"
   },
   {
    "duration": 25,
    "start_time": "2023-03-22T12:29:20.926Z"
   },
   {
    "duration": 6,
    "start_time": "2023-03-22T12:29:23.294Z"
   },
   {
    "duration": 9,
    "start_time": "2023-03-22T12:29:24.249Z"
   },
   {
    "duration": 1561,
    "start_time": "2023-03-23T03:16:40.562Z"
   },
   {
    "duration": 115,
    "start_time": "2023-03-23T03:19:58.464Z"
   },
   {
    "duration": 12,
    "start_time": "2023-03-23T03:20:03.606Z"
   },
   {
    "duration": 9,
    "start_time": "2023-03-23T03:34:29.065Z"
   },
   {
    "duration": 53,
    "start_time": "2023-03-23T03:58:07.414Z"
   },
   {
    "duration": 5,
    "start_time": "2023-03-23T03:58:17.660Z"
   },
   {
    "duration": 11,
    "start_time": "2023-03-23T03:59:03.355Z"
   },
   {
    "duration": 51,
    "start_time": "2023-03-23T04:00:03.486Z"
   },
   {
    "duration": 4,
    "start_time": "2023-03-23T04:00:06.868Z"
   },
   {
    "duration": 20,
    "start_time": "2023-03-23T04:00:17.777Z"
   },
   {
    "duration": 12,
    "start_time": "2023-03-23T04:00:46.736Z"
   },
   {
    "duration": 62,
    "start_time": "2023-03-23T04:02:00.767Z"
   },
   {
    "duration": 6,
    "start_time": "2023-03-23T04:02:09.280Z"
   },
   {
    "duration": 13,
    "start_time": "2023-03-23T04:02:15.295Z"
   },
   {
    "duration": 1452,
    "start_time": "2023-03-23T04:02:23.898Z"
   },
   {
    "duration": 53,
    "start_time": "2023-03-23T04:02:25.353Z"
   },
   {
    "duration": 94,
    "start_time": "2023-03-23T04:02:25.408Z"
   },
   {
    "duration": 19,
    "start_time": "2023-03-23T04:02:25.504Z"
   },
   {
    "duration": 4,
    "start_time": "2023-03-23T04:02:25.525Z"
   },
   {
    "duration": 22,
    "start_time": "2023-03-23T04:02:25.530Z"
   },
   {
    "duration": 60,
    "start_time": "2023-03-23T04:02:25.553Z"
   },
   {
    "duration": 16,
    "start_time": "2023-03-23T04:02:25.615Z"
   },
   {
    "duration": 19,
    "start_time": "2023-03-23T04:02:25.633Z"
   },
   {
    "duration": 12,
    "start_time": "2023-03-23T04:02:25.654Z"
   },
   {
    "duration": 31,
    "start_time": "2023-03-23T04:02:25.667Z"
   },
   {
    "duration": 5,
    "start_time": "2023-03-23T04:02:25.700Z"
   },
   {
    "duration": 8,
    "start_time": "2023-03-23T04:02:25.707Z"
   },
   {
    "duration": 17,
    "start_time": "2023-03-23T04:02:25.716Z"
   },
   {
    "duration": 16,
    "start_time": "2023-03-23T04:02:25.735Z"
   },
   {
    "duration": 22,
    "start_time": "2023-03-23T04:02:25.753Z"
   },
   {
    "duration": 23,
    "start_time": "2023-03-23T04:02:25.777Z"
   },
   {
    "duration": 7,
    "start_time": "2023-03-23T04:02:25.802Z"
   },
   {
    "duration": 10,
    "start_time": "2023-03-23T04:02:25.811Z"
   },
   {
    "duration": 8,
    "start_time": "2023-03-23T04:02:25.823Z"
   },
   {
    "duration": 23,
    "start_time": "2023-03-23T04:02:25.833Z"
   },
   {
    "duration": 10,
    "start_time": "2023-03-23T04:02:25.858Z"
   },
   {
    "duration": 14,
    "start_time": "2023-03-23T04:02:25.869Z"
   },
   {
    "duration": 3,
    "start_time": "2023-03-23T04:02:25.898Z"
   },
   {
    "duration": 27,
    "start_time": "2023-03-23T04:02:25.903Z"
   },
   {
    "duration": 21,
    "start_time": "2023-03-23T04:02:25.932Z"
   },
   {
    "duration": 21,
    "start_time": "2023-03-23T04:02:25.955Z"
   },
   {
    "duration": 5,
    "start_time": "2023-03-23T04:02:26.000Z"
   },
   {
    "duration": 137,
    "start_time": "2023-03-23T04:02:26.007Z"
   },
   {
    "duration": 0,
    "start_time": "2023-03-23T04:02:26.146Z"
   },
   {
    "duration": 0,
    "start_time": "2023-03-23T04:02:26.147Z"
   },
   {
    "duration": 0,
    "start_time": "2023-03-23T04:02:26.148Z"
   },
   {
    "duration": 1,
    "start_time": "2023-03-23T04:02:26.149Z"
   },
   {
    "duration": 0,
    "start_time": "2023-03-23T04:02:26.151Z"
   },
   {
    "duration": 0,
    "start_time": "2023-03-23T04:02:26.152Z"
   },
   {
    "duration": 0,
    "start_time": "2023-03-23T04:02:26.153Z"
   },
   {
    "duration": 0,
    "start_time": "2023-03-23T04:02:26.155Z"
   },
   {
    "duration": 0,
    "start_time": "2023-03-23T04:02:26.156Z"
   },
   {
    "duration": 0,
    "start_time": "2023-03-23T04:02:26.157Z"
   },
   {
    "duration": 0,
    "start_time": "2023-03-23T04:02:26.158Z"
   },
   {
    "duration": 0,
    "start_time": "2023-03-23T04:02:26.160Z"
   },
   {
    "duration": 0,
    "start_time": "2023-03-23T04:02:26.161Z"
   },
   {
    "duration": 0,
    "start_time": "2023-03-23T04:02:26.162Z"
   },
   {
    "duration": 0,
    "start_time": "2023-03-23T04:02:26.163Z"
   },
   {
    "duration": 0,
    "start_time": "2023-03-23T04:02:26.164Z"
   },
   {
    "duration": 0,
    "start_time": "2023-03-23T04:02:26.165Z"
   },
   {
    "duration": 0,
    "start_time": "2023-03-23T04:02:26.198Z"
   },
   {
    "duration": 0,
    "start_time": "2023-03-23T04:02:26.200Z"
   },
   {
    "duration": 0,
    "start_time": "2023-03-23T04:02:26.201Z"
   },
   {
    "duration": 0,
    "start_time": "2023-03-23T04:02:26.202Z"
   },
   {
    "duration": 0,
    "start_time": "2023-03-23T04:02:26.203Z"
   },
   {
    "duration": 0,
    "start_time": "2023-03-23T04:02:26.204Z"
   },
   {
    "duration": 0,
    "start_time": "2023-03-23T04:02:26.205Z"
   },
   {
    "duration": 0,
    "start_time": "2023-03-23T04:02:26.206Z"
   },
   {
    "duration": 0,
    "start_time": "2023-03-23T04:02:26.207Z"
   },
   {
    "duration": 0,
    "start_time": "2023-03-23T04:02:26.208Z"
   },
   {
    "duration": 0,
    "start_time": "2023-03-23T04:02:26.209Z"
   },
   {
    "duration": 0,
    "start_time": "2023-03-23T04:02:26.210Z"
   },
   {
    "duration": 0,
    "start_time": "2023-03-23T04:02:26.212Z"
   },
   {
    "duration": 0,
    "start_time": "2023-03-23T04:02:26.213Z"
   },
   {
    "duration": 0,
    "start_time": "2023-03-23T04:02:26.214Z"
   },
   {
    "duration": 0,
    "start_time": "2023-03-23T04:02:26.215Z"
   },
   {
    "duration": 0,
    "start_time": "2023-03-23T04:02:26.217Z"
   },
   {
    "duration": 0,
    "start_time": "2023-03-23T04:02:26.218Z"
   },
   {
    "duration": 0,
    "start_time": "2023-03-23T04:02:26.219Z"
   },
   {
    "duration": 0,
    "start_time": "2023-03-23T04:02:26.220Z"
   },
   {
    "duration": 0,
    "start_time": "2023-03-23T04:02:26.221Z"
   },
   {
    "duration": 0,
    "start_time": "2023-03-23T04:02:26.223Z"
   },
   {
    "duration": 0,
    "start_time": "2023-03-23T04:02:26.224Z"
   },
   {
    "duration": 0,
    "start_time": "2023-03-23T04:02:26.225Z"
   },
   {
    "duration": 394,
    "start_time": "2023-03-23T04:02:59.718Z"
   },
   {
    "duration": 103987,
    "start_time": "2023-03-23T04:07:39.399Z"
   },
   {
    "duration": 104023,
    "start_time": "2023-03-23T04:11:20.595Z"
   },
   {
    "duration": 104268,
    "start_time": "2023-03-23T04:14:21.117Z"
   },
   {
    "duration": 405,
    "start_time": "2023-03-23T04:17:27.387Z"
   },
   {
    "duration": 106236,
    "start_time": "2023-03-23T04:17:37.646Z"
   },
   {
    "duration": 36,
    "start_time": "2023-03-23T04:19:23.884Z"
   },
   {
    "duration": 48,
    "start_time": "2023-03-23T04:19:51.466Z"
   },
   {
    "duration": 152,
    "start_time": "2023-03-23T04:20:07.646Z"
   },
   {
    "duration": 51,
    "start_time": "2023-03-23T04:20:30.350Z"
   },
   {
    "duration": 8,
    "start_time": "2023-03-23T04:22:58.066Z"
   },
   {
    "duration": 121,
    "start_time": "2023-03-23T04:22:58.258Z"
   },
   {
    "duration": 126,
    "start_time": "2023-03-23T04:24:38.268Z"
   },
   {
    "duration": 4,
    "start_time": "2023-03-23T04:26:22.617Z"
   },
   {
    "duration": 142,
    "start_time": "2023-03-23T04:26:22.792Z"
   },
   {
    "duration": 116,
    "start_time": "2023-03-23T04:27:28.508Z"
   },
   {
    "duration": 134,
    "start_time": "2023-03-23T04:27:39.513Z"
   },
   {
    "duration": 134,
    "start_time": "2023-03-23T04:27:49.148Z"
   },
   {
    "duration": 120,
    "start_time": "2023-03-23T04:28:28.246Z"
   },
   {
    "duration": 130,
    "start_time": "2023-03-23T04:28:37.026Z"
   },
   {
    "duration": 237,
    "start_time": "2023-03-23T04:29:06.681Z"
   },
   {
    "duration": 81,
    "start_time": "2023-03-23T04:33:39.706Z"
   },
   {
    "duration": 86,
    "start_time": "2023-03-23T04:34:39.226Z"
   },
   {
    "duration": 4,
    "start_time": "2023-03-23T04:37:33.518Z"
   },
   {
    "duration": 392,
    "start_time": "2023-03-23T04:38:23.793Z"
   },
   {
    "duration": 398,
    "start_time": "2023-03-23T04:39:13.634Z"
   },
   {
    "duration": 85,
    "start_time": "2023-03-23T04:40:18.350Z"
   },
   {
    "duration": 3,
    "start_time": "2023-03-23T04:47:28.968Z"
   },
   {
    "duration": 8,
    "start_time": "2023-03-23T04:47:29.148Z"
   },
   {
    "duration": 14,
    "start_time": "2023-03-23T04:47:32.008Z"
   },
   {
    "duration": 1416,
    "start_time": "2023-03-23T04:47:53.921Z"
   },
   {
    "duration": 47,
    "start_time": "2023-03-23T04:47:55.339Z"
   },
   {
    "duration": 44,
    "start_time": "2023-03-23T04:47:55.387Z"
   },
   {
    "duration": 21,
    "start_time": "2023-03-23T04:47:55.433Z"
   },
   {
    "duration": 4,
    "start_time": "2023-03-23T04:47:55.457Z"
   },
   {
    "duration": 24,
    "start_time": "2023-03-23T04:47:55.463Z"
   },
   {
    "duration": 52,
    "start_time": "2023-03-23T04:47:55.489Z"
   },
   {
    "duration": 14,
    "start_time": "2023-03-23T04:47:55.544Z"
   },
   {
    "duration": 43,
    "start_time": "2023-03-23T04:47:55.560Z"
   },
   {
    "duration": 12,
    "start_time": "2023-03-23T04:47:55.606Z"
   },
   {
    "duration": 11,
    "start_time": "2023-03-23T04:47:55.620Z"
   },
   {
    "duration": 11,
    "start_time": "2023-03-23T04:47:55.633Z"
   },
   {
    "duration": 8,
    "start_time": "2023-03-23T04:47:55.646Z"
   },
   {
    "duration": 15,
    "start_time": "2023-03-23T04:47:55.658Z"
   },
   {
    "duration": 7,
    "start_time": "2023-03-23T04:47:55.697Z"
   },
   {
    "duration": 25,
    "start_time": "2023-03-23T04:47:55.706Z"
   },
   {
    "duration": 6,
    "start_time": "2023-03-23T04:47:55.733Z"
   },
   {
    "duration": 12,
    "start_time": "2023-03-23T04:47:55.740Z"
   },
   {
    "duration": 8,
    "start_time": "2023-03-23T04:47:55.754Z"
   },
   {
    "duration": 8,
    "start_time": "2023-03-23T04:47:55.764Z"
   },
   {
    "duration": 14,
    "start_time": "2023-03-23T04:47:55.798Z"
   },
   {
    "duration": 11,
    "start_time": "2023-03-23T04:47:55.814Z"
   },
   {
    "duration": 21,
    "start_time": "2023-03-23T04:47:55.827Z"
   },
   {
    "duration": 5,
    "start_time": "2023-03-23T04:47:55.850Z"
   },
   {
    "duration": 44,
    "start_time": "2023-03-23T04:47:55.857Z"
   },
   {
    "duration": 22,
    "start_time": "2023-03-23T04:47:55.903Z"
   },
   {
    "duration": 42,
    "start_time": "2023-03-23T04:47:55.927Z"
   },
   {
    "duration": 560,
    "start_time": "2023-03-23T04:47:55.971Z"
   },
   {
    "duration": 0,
    "start_time": "2023-03-23T04:47:56.534Z"
   },
   {
    "duration": 0,
    "start_time": "2023-03-23T04:47:56.535Z"
   },
   {
    "duration": 0,
    "start_time": "2023-03-23T04:47:56.537Z"
   },
   {
    "duration": 0,
    "start_time": "2023-03-23T04:47:56.539Z"
   },
   {
    "duration": 0,
    "start_time": "2023-03-23T04:47:56.541Z"
   },
   {
    "duration": 0,
    "start_time": "2023-03-23T04:47:56.542Z"
   },
   {
    "duration": 0,
    "start_time": "2023-03-23T04:47:56.544Z"
   },
   {
    "duration": 0,
    "start_time": "2023-03-23T04:47:56.546Z"
   },
   {
    "duration": 0,
    "start_time": "2023-03-23T04:47:56.547Z"
   },
   {
    "duration": 0,
    "start_time": "2023-03-23T04:47:56.548Z"
   },
   {
    "duration": 0,
    "start_time": "2023-03-23T04:47:56.550Z"
   },
   {
    "duration": 0,
    "start_time": "2023-03-23T04:47:56.551Z"
   },
   {
    "duration": 0,
    "start_time": "2023-03-23T04:47:56.552Z"
   },
   {
    "duration": 0,
    "start_time": "2023-03-23T04:47:56.553Z"
   },
   {
    "duration": 0,
    "start_time": "2023-03-23T04:47:56.554Z"
   },
   {
    "duration": 0,
    "start_time": "2023-03-23T04:47:56.556Z"
   },
   {
    "duration": 0,
    "start_time": "2023-03-23T04:47:56.557Z"
   },
   {
    "duration": 0,
    "start_time": "2023-03-23T04:47:56.558Z"
   },
   {
    "duration": 0,
    "start_time": "2023-03-23T04:47:56.598Z"
   },
   {
    "duration": 0,
    "start_time": "2023-03-23T04:47:56.599Z"
   },
   {
    "duration": 0,
    "start_time": "2023-03-23T04:47:56.600Z"
   },
   {
    "duration": 0,
    "start_time": "2023-03-23T04:47:56.601Z"
   },
   {
    "duration": 0,
    "start_time": "2023-03-23T04:47:56.602Z"
   },
   {
    "duration": 0,
    "start_time": "2023-03-23T04:47:56.603Z"
   },
   {
    "duration": 0,
    "start_time": "2023-03-23T04:47:56.604Z"
   },
   {
    "duration": 0,
    "start_time": "2023-03-23T04:47:56.606Z"
   },
   {
    "duration": 0,
    "start_time": "2023-03-23T04:47:56.608Z"
   },
   {
    "duration": 0,
    "start_time": "2023-03-23T04:47:56.609Z"
   },
   {
    "duration": 0,
    "start_time": "2023-03-23T04:47:56.610Z"
   },
   {
    "duration": 0,
    "start_time": "2023-03-23T04:47:56.611Z"
   },
   {
    "duration": 0,
    "start_time": "2023-03-23T04:47:56.613Z"
   },
   {
    "duration": 0,
    "start_time": "2023-03-23T04:47:56.614Z"
   },
   {
    "duration": 0,
    "start_time": "2023-03-23T04:47:56.615Z"
   },
   {
    "duration": 0,
    "start_time": "2023-03-23T04:47:56.616Z"
   },
   {
    "duration": 0,
    "start_time": "2023-03-23T04:47:56.617Z"
   },
   {
    "duration": 0,
    "start_time": "2023-03-23T04:47:56.619Z"
   },
   {
    "duration": 0,
    "start_time": "2023-03-23T04:47:56.621Z"
   },
   {
    "duration": 0,
    "start_time": "2023-03-23T04:47:56.622Z"
   },
   {
    "duration": 1,
    "start_time": "2023-03-23T04:47:56.623Z"
   },
   {
    "duration": 0,
    "start_time": "2023-03-23T04:47:56.625Z"
   },
   {
    "duration": 0,
    "start_time": "2023-03-23T04:47:56.626Z"
   },
   {
    "duration": 0,
    "start_time": "2023-03-23T04:47:56.627Z"
   },
   {
    "duration": 396,
    "start_time": "2023-03-23T04:49:12.179Z"
   },
   {
    "duration": 1471,
    "start_time": "2023-03-23T04:49:23.797Z"
   },
   {
    "duration": 76,
    "start_time": "2023-03-23T04:49:25.271Z"
   },
   {
    "duration": 60,
    "start_time": "2023-03-23T04:49:25.349Z"
   },
   {
    "duration": 35,
    "start_time": "2023-03-23T04:49:25.412Z"
   },
   {
    "duration": 5,
    "start_time": "2023-03-23T04:49:25.451Z"
   },
   {
    "duration": 39,
    "start_time": "2023-03-23T04:49:25.459Z"
   },
   {
    "duration": 67,
    "start_time": "2023-03-23T04:49:25.501Z"
   },
   {
    "duration": 41,
    "start_time": "2023-03-23T04:49:25.570Z"
   },
   {
    "duration": 33,
    "start_time": "2023-03-23T04:49:25.614Z"
   },
   {
    "duration": 11,
    "start_time": "2023-03-23T04:49:25.649Z"
   },
   {
    "duration": 36,
    "start_time": "2023-03-23T04:49:25.662Z"
   },
   {
    "duration": 6,
    "start_time": "2023-03-23T04:49:25.700Z"
   },
   {
    "duration": 11,
    "start_time": "2023-03-23T04:49:25.709Z"
   },
   {
    "duration": 17,
    "start_time": "2023-03-23T04:49:25.725Z"
   },
   {
    "duration": 13,
    "start_time": "2023-03-23T04:49:25.744Z"
   },
   {
    "duration": 53,
    "start_time": "2023-03-23T04:49:25.759Z"
   },
   {
    "duration": 8,
    "start_time": "2023-03-23T04:49:25.815Z"
   },
   {
    "duration": 8,
    "start_time": "2023-03-23T04:49:25.826Z"
   },
   {
    "duration": 10,
    "start_time": "2023-03-23T04:49:25.836Z"
   },
   {
    "duration": 5,
    "start_time": "2023-03-23T04:49:25.849Z"
   },
   {
    "duration": 47,
    "start_time": "2023-03-23T04:49:25.857Z"
   },
   {
    "duration": 6,
    "start_time": "2023-03-23T04:49:25.906Z"
   },
   {
    "duration": 16,
    "start_time": "2023-03-23T04:49:25.915Z"
   },
   {
    "duration": 3,
    "start_time": "2023-03-23T04:49:25.934Z"
   },
   {
    "duration": 78,
    "start_time": "2023-03-23T04:49:25.938Z"
   },
   {
    "duration": 28,
    "start_time": "2023-03-23T04:49:26.018Z"
   },
   {
    "duration": 20,
    "start_time": "2023-03-23T04:49:26.049Z"
   },
   {
    "duration": 443,
    "start_time": "2023-03-23T04:49:26.071Z"
   },
   {
    "duration": 102955,
    "start_time": "2023-03-23T04:49:26.516Z"
   },
   {
    "duration": 37,
    "start_time": "2023-03-23T04:51:09.473Z"
   },
   {
    "duration": 88,
    "start_time": "2023-03-23T04:51:09.611Z"
   },
   {
    "duration": 138,
    "start_time": "2023-03-23T04:51:09.701Z"
   },
   {
    "duration": 4,
    "start_time": "2023-03-23T04:51:09.841Z"
   },
   {
    "duration": 5,
    "start_time": "2023-03-23T04:51:09.847Z"
   },
   {
    "duration": 756,
    "start_time": "2023-03-23T04:51:09.854Z"
   },
   {
    "duration": 530,
    "start_time": "2023-03-23T04:51:10.613Z"
   },
   {
    "duration": 11,
    "start_time": "2023-03-23T04:51:11.145Z"
   },
   {
    "duration": 57,
    "start_time": "2023-03-23T04:51:11.158Z"
   },
   {
    "duration": 73,
    "start_time": "2023-03-23T04:51:11.217Z"
   },
   {
    "duration": 6,
    "start_time": "2023-03-23T04:51:11.292Z"
   },
   {
    "duration": 159,
    "start_time": "2023-03-23T04:51:11.304Z"
   },
   {
    "duration": 50,
    "start_time": "2023-03-23T04:51:11.465Z"
   },
   {
    "duration": 12,
    "start_time": "2023-03-23T04:51:11.517Z"
   },
   {
    "duration": 10,
    "start_time": "2023-03-23T04:51:11.532Z"
   },
   {
    "duration": 236,
    "start_time": "2023-03-23T04:51:11.544Z"
   },
   {
    "duration": 39,
    "start_time": "2023-03-23T04:51:11.782Z"
   },
   {
    "duration": 174,
    "start_time": "2023-03-23T04:51:11.824Z"
   },
   {
    "duration": 14,
    "start_time": "2023-03-23T04:51:12.000Z"
   },
   {
    "duration": 321,
    "start_time": "2023-03-23T04:51:12.016Z"
   },
   {
    "duration": 8,
    "start_time": "2023-03-23T04:51:12.339Z"
   },
   {
    "duration": 14,
    "start_time": "2023-03-23T04:51:12.348Z"
   },
   {
    "duration": 19,
    "start_time": "2023-03-23T04:51:12.364Z"
   },
   {
    "duration": 24,
    "start_time": "2023-03-23T04:51:12.385Z"
   },
   {
    "duration": 9,
    "start_time": "2023-03-23T04:51:12.411Z"
   },
   {
    "duration": 23,
    "start_time": "2023-03-23T04:51:12.422Z"
   },
   {
    "duration": 13,
    "start_time": "2023-03-23T04:51:12.447Z"
   },
   {
    "duration": 163,
    "start_time": "2023-03-23T04:51:12.462Z"
   },
   {
    "duration": 136,
    "start_time": "2023-03-23T04:51:12.627Z"
   },
   {
    "duration": 0,
    "start_time": "2023-03-23T04:51:12.765Z"
   },
   {
    "duration": 0,
    "start_time": "2023-03-23T04:51:12.767Z"
   },
   {
    "duration": 0,
    "start_time": "2023-03-23T04:51:12.769Z"
   },
   {
    "duration": 0,
    "start_time": "2023-03-23T04:51:12.771Z"
   },
   {
    "duration": 0,
    "start_time": "2023-03-23T04:51:12.773Z"
   },
   {
    "duration": 0,
    "start_time": "2023-03-23T04:51:12.774Z"
   },
   {
    "duration": 0,
    "start_time": "2023-03-23T04:51:12.801Z"
   },
   {
    "duration": 0,
    "start_time": "2023-03-23T04:51:12.804Z"
   },
   {
    "duration": 0,
    "start_time": "2023-03-23T04:51:12.805Z"
   },
   {
    "duration": 0,
    "start_time": "2023-03-23T04:51:12.807Z"
   },
   {
    "duration": 0,
    "start_time": "2023-03-23T04:51:12.808Z"
   },
   {
    "duration": 0,
    "start_time": "2023-03-23T04:51:12.810Z"
   },
   {
    "duration": 166,
    "start_time": "2023-03-23T04:52:10.699Z"
   },
   {
    "duration": 11,
    "start_time": "2023-03-23T05:02:09.634Z"
   },
   {
    "duration": 809,
    "start_time": "2023-03-23T05:02:09.988Z"
   },
   {
    "duration": 35,
    "start_time": "2023-03-23T05:04:33.971Z"
   },
   {
    "duration": 4,
    "start_time": "2023-03-23T05:06:15.230Z"
   },
   {
    "duration": 148,
    "start_time": "2023-03-23T05:06:15.528Z"
   },
   {
    "duration": 9,
    "start_time": "2023-03-23T05:06:25.981Z"
   },
   {
    "duration": 143,
    "start_time": "2023-03-23T05:07:15.714Z"
   },
   {
    "duration": 12,
    "start_time": "2023-03-23T05:07:41.957Z"
   },
   {
    "duration": 11,
    "start_time": "2023-03-23T05:07:43.741Z"
   },
   {
    "duration": 39,
    "start_time": "2023-03-23T05:09:49.785Z"
   },
   {
    "duration": 5,
    "start_time": "2023-03-23T05:10:31.016Z"
   },
   {
    "duration": 4,
    "start_time": "2023-03-23T05:11:17.226Z"
   },
   {
    "duration": 5,
    "start_time": "2023-03-23T05:11:52.123Z"
   },
   {
    "duration": 21,
    "start_time": "2023-03-23T05:15:08.692Z"
   },
   {
    "duration": 20,
    "start_time": "2023-03-23T05:15:12.394Z"
   },
   {
    "duration": 5,
    "start_time": "2023-03-23T05:16:32.220Z"
   },
   {
    "duration": 1596,
    "start_time": "2023-03-23T05:16:46.795Z"
   },
   {
    "duration": 61,
    "start_time": "2023-03-23T05:16:48.393Z"
   },
   {
    "duration": 47,
    "start_time": "2023-03-23T05:16:48.455Z"
   },
   {
    "duration": 29,
    "start_time": "2023-03-23T05:16:48.505Z"
   },
   {
    "duration": 21,
    "start_time": "2023-03-23T05:16:48.538Z"
   },
   {
    "duration": 16,
    "start_time": "2023-03-23T05:16:48.561Z"
   },
   {
    "duration": 69,
    "start_time": "2023-03-23T05:16:48.579Z"
   },
   {
    "duration": 16,
    "start_time": "2023-03-23T05:16:48.650Z"
   },
   {
    "duration": 37,
    "start_time": "2023-03-23T05:16:48.668Z"
   },
   {
    "duration": 25,
    "start_time": "2023-03-23T05:16:48.707Z"
   },
   {
    "duration": 19,
    "start_time": "2023-03-23T05:16:48.734Z"
   },
   {
    "duration": 21,
    "start_time": "2023-03-23T05:16:48.756Z"
   },
   {
    "duration": 11,
    "start_time": "2023-03-23T05:16:48.779Z"
   },
   {
    "duration": 40,
    "start_time": "2023-03-23T05:16:48.793Z"
   },
   {
    "duration": 10,
    "start_time": "2023-03-23T05:16:48.836Z"
   },
   {
    "duration": 32,
    "start_time": "2023-03-23T05:16:48.848Z"
   },
   {
    "duration": 7,
    "start_time": "2023-03-23T05:16:48.882Z"
   },
   {
    "duration": 10,
    "start_time": "2023-03-23T05:16:48.890Z"
   },
   {
    "duration": 23,
    "start_time": "2023-03-23T05:16:48.903Z"
   },
   {
    "duration": 6,
    "start_time": "2023-03-23T05:16:48.928Z"
   },
   {
    "duration": 24,
    "start_time": "2023-03-23T05:16:48.936Z"
   },
   {
    "duration": 5,
    "start_time": "2023-03-23T05:16:48.962Z"
   },
   {
    "duration": 17,
    "start_time": "2023-03-23T05:16:48.969Z"
   },
   {
    "duration": 8,
    "start_time": "2023-03-23T05:16:48.989Z"
   },
   {
    "duration": 51,
    "start_time": "2023-03-23T05:16:49.000Z"
   },
   {
    "duration": 30,
    "start_time": "2023-03-23T05:16:49.054Z"
   },
   {
    "duration": 41,
    "start_time": "2023-03-23T05:16:49.086Z"
   },
   {
    "duration": 443,
    "start_time": "2023-03-23T05:16:49.129Z"
   },
   {
    "duration": 112395,
    "start_time": "2023-03-23T05:16:49.574Z"
   },
   {
    "duration": 51,
    "start_time": "2023-03-23T05:18:41.970Z"
   },
   {
    "duration": 93,
    "start_time": "2023-03-23T05:18:42.023Z"
   },
   {
    "duration": 225,
    "start_time": "2023-03-23T05:18:42.118Z"
   },
   {
    "duration": 3,
    "start_time": "2023-03-23T05:18:42.345Z"
   },
   {
    "duration": 11,
    "start_time": "2023-03-23T05:18:42.350Z"
   },
   {
    "duration": 140,
    "start_time": "2023-03-23T05:18:42.363Z"
   },
   {
    "duration": 0,
    "start_time": "2023-03-23T05:18:42.507Z"
   },
   {
    "duration": 0,
    "start_time": "2023-03-23T05:18:42.512Z"
   },
   {
    "duration": 0,
    "start_time": "2023-03-23T05:18:42.514Z"
   },
   {
    "duration": 0,
    "start_time": "2023-03-23T05:18:42.515Z"
   },
   {
    "duration": 0,
    "start_time": "2023-03-23T05:18:42.518Z"
   },
   {
    "duration": 0,
    "start_time": "2023-03-23T05:18:42.519Z"
   },
   {
    "duration": 0,
    "start_time": "2023-03-23T05:18:42.520Z"
   },
   {
    "duration": 0,
    "start_time": "2023-03-23T05:18:42.522Z"
   },
   {
    "duration": 0,
    "start_time": "2023-03-23T05:18:42.523Z"
   },
   {
    "duration": 0,
    "start_time": "2023-03-23T05:18:42.525Z"
   },
   {
    "duration": 0,
    "start_time": "2023-03-23T05:18:42.526Z"
   },
   {
    "duration": 0,
    "start_time": "2023-03-23T05:18:42.527Z"
   },
   {
    "duration": 0,
    "start_time": "2023-03-23T05:18:42.529Z"
   },
   {
    "duration": 0,
    "start_time": "2023-03-23T05:18:42.530Z"
   },
   {
    "duration": 0,
    "start_time": "2023-03-23T05:18:42.531Z"
   },
   {
    "duration": 0,
    "start_time": "2023-03-23T05:18:42.533Z"
   },
   {
    "duration": 0,
    "start_time": "2023-03-23T05:18:42.534Z"
   },
   {
    "duration": 0,
    "start_time": "2023-03-23T05:18:42.535Z"
   },
   {
    "duration": 0,
    "start_time": "2023-03-23T05:18:42.536Z"
   },
   {
    "duration": 0,
    "start_time": "2023-03-23T05:18:42.538Z"
   },
   {
    "duration": 0,
    "start_time": "2023-03-23T05:18:42.539Z"
   },
   {
    "duration": 0,
    "start_time": "2023-03-23T05:18:42.541Z"
   },
   {
    "duration": 0,
    "start_time": "2023-03-23T05:18:42.542Z"
   },
   {
    "duration": 0,
    "start_time": "2023-03-23T05:18:42.543Z"
   },
   {
    "duration": 0,
    "start_time": "2023-03-23T05:18:42.598Z"
   },
   {
    "duration": 0,
    "start_time": "2023-03-23T05:18:42.600Z"
   },
   {
    "duration": 0,
    "start_time": "2023-03-23T05:18:42.601Z"
   },
   {
    "duration": 0,
    "start_time": "2023-03-23T05:18:42.603Z"
   },
   {
    "duration": 0,
    "start_time": "2023-03-23T05:18:42.604Z"
   },
   {
    "duration": 0,
    "start_time": "2023-03-23T05:18:42.606Z"
   },
   {
    "duration": 0,
    "start_time": "2023-03-23T05:18:42.607Z"
   },
   {
    "duration": 89,
    "start_time": "2023-03-23T05:19:25.562Z"
   },
   {
    "duration": 14,
    "start_time": "2023-03-23T05:19:27.480Z"
   },
   {
    "duration": 4,
    "start_time": "2023-03-23T05:19:28.298Z"
   },
   {
    "duration": 150,
    "start_time": "2023-03-23T05:19:28.940Z"
   },
   {
    "duration": 12,
    "start_time": "2023-03-23T05:19:30.825Z"
   },
   {
    "duration": 4,
    "start_time": "2023-03-23T05:19:32.064Z"
   },
   {
    "duration": 148,
    "start_time": "2023-03-23T05:19:32.835Z"
   },
   {
    "duration": 47,
    "start_time": "2023-03-23T05:19:33.952Z"
   },
   {
    "duration": 4,
    "start_time": "2023-03-23T05:19:35.471Z"
   },
   {
    "duration": 4,
    "start_time": "2023-03-23T05:20:42.688Z"
   },
   {
    "duration": 122,
    "start_time": "2023-03-23T05:20:53.478Z"
   },
   {
    "duration": 8,
    "start_time": "2023-03-23T05:21:40.998Z"
   },
   {
    "duration": 5,
    "start_time": "2023-03-23T05:21:42.858Z"
   },
   {
    "duration": 5,
    "start_time": "2023-03-23T05:22:09.489Z"
   },
   {
    "duration": 13,
    "start_time": "2023-03-23T05:22:12.462Z"
   },
   {
    "duration": 18,
    "start_time": "2023-03-23T05:22:15.257Z"
   },
   {
    "duration": 14,
    "start_time": "2023-03-23T05:22:25.693Z"
   },
   {
    "duration": 9,
    "start_time": "2023-03-23T05:22:43.743Z"
   },
   {
    "duration": 19,
    "start_time": "2023-03-23T05:22:43.992Z"
   },
   {
    "duration": 13,
    "start_time": "2023-03-23T05:22:54.541Z"
   },
   {
    "duration": 15,
    "start_time": "2023-03-23T05:22:59.148Z"
   },
   {
    "duration": 13,
    "start_time": "2023-03-23T05:23:02.521Z"
   },
   {
    "duration": 13,
    "start_time": "2023-03-23T05:23:17.995Z"
   },
   {
    "duration": 15,
    "start_time": "2023-03-23T05:23:22.094Z"
   },
   {
    "duration": 14,
    "start_time": "2023-03-23T05:23:35.274Z"
   },
   {
    "duration": 16,
    "start_time": "2023-03-23T05:23:39.675Z"
   },
   {
    "duration": 10,
    "start_time": "2023-03-23T05:24:54.183Z"
   },
   {
    "duration": 13,
    "start_time": "2023-03-23T05:24:54.797Z"
   },
   {
    "duration": 7,
    "start_time": "2023-03-23T05:24:56.102Z"
   },
   {
    "duration": 15,
    "start_time": "2023-03-23T05:24:56.886Z"
   },
   {
    "duration": 17,
    "start_time": "2023-03-23T05:25:10.674Z"
   },
   {
    "duration": 14,
    "start_time": "2023-03-23T05:25:17.542Z"
   },
   {
    "duration": 13,
    "start_time": "2023-03-23T05:25:34.364Z"
   },
   {
    "duration": 136,
    "start_time": "2023-03-23T05:25:35.371Z"
   },
   {
    "duration": 93,
    "start_time": "2023-03-23T05:26:52.667Z"
   },
   {
    "duration": 13,
    "start_time": "2023-03-23T05:27:57.350Z"
   },
   {
    "duration": 101,
    "start_time": "2023-03-23T05:27:57.546Z"
   },
   {
    "duration": 16,
    "start_time": "2023-03-23T05:30:05.198Z"
   },
   {
    "duration": 96,
    "start_time": "2023-03-23T05:30:17.674Z"
   },
   {
    "duration": 96,
    "start_time": "2023-03-23T05:30:28.780Z"
   },
   {
    "duration": 10,
    "start_time": "2023-03-23T05:31:15.546Z"
   },
   {
    "duration": 12,
    "start_time": "2023-03-23T05:31:15.743Z"
   },
   {
    "duration": 388,
    "start_time": "2023-03-23T05:34:48.251Z"
   },
   {
    "duration": 8,
    "start_time": "2023-03-23T05:35:26.974Z"
   },
   {
    "duration": 9,
    "start_time": "2023-03-23T05:36:57.859Z"
   },
   {
    "duration": 402,
    "start_time": "2023-03-23T05:37:02.302Z"
   },
   {
    "duration": 9,
    "start_time": "2023-03-23T05:37:04.741Z"
   },
   {
    "duration": 314,
    "start_time": "2023-03-23T05:37:18.845Z"
   },
   {
    "duration": 12,
    "start_time": "2023-03-23T05:37:19.632Z"
   },
   {
    "duration": 348,
    "start_time": "2023-03-23T05:38:04.641Z"
   },
   {
    "duration": 11,
    "start_time": "2023-03-23T05:38:04.991Z"
   },
   {
    "duration": 426,
    "start_time": "2023-03-23T05:39:01.496Z"
   },
   {
    "duration": 11,
    "start_time": "2023-03-23T05:39:02.900Z"
   },
   {
    "duration": 12,
    "start_time": "2023-03-23T05:41:35.364Z"
   },
   {
    "duration": 95763,
    "start_time": "2023-03-23T05:42:03.472Z"
   },
   {
    "duration": 7,
    "start_time": "2023-03-23T05:43:57.929Z"
   },
   {
    "duration": 35,
    "start_time": "2023-03-23T05:45:18.960Z"
   },
   {
    "duration": 375,
    "start_time": "2023-03-23T05:45:48.564Z"
   },
   {
    "duration": 334,
    "start_time": "2023-03-23T05:46:10.566Z"
   },
   {
    "duration": 50,
    "start_time": "2023-03-23T05:46:50.040Z"
   },
   {
    "duration": 57,
    "start_time": "2023-03-23T05:46:56.741Z"
   },
   {
    "duration": 95303,
    "start_time": "2023-03-23T05:48:55.387Z"
   },
   {
    "duration": 50,
    "start_time": "2023-03-23T05:51:33.326Z"
   },
   {
    "duration": 12,
    "start_time": "2023-03-23T05:51:37.961Z"
   },
   {
    "duration": 443,
    "start_time": "2023-03-23T06:01:14.864Z"
   },
   {
    "duration": 9,
    "start_time": "2023-03-23T06:01:16.630Z"
   },
   {
    "duration": 9,
    "start_time": "2023-03-23T06:01:54.434Z"
   },
   {
    "duration": 9,
    "start_time": "2023-03-23T06:05:11.645Z"
   },
   {
    "duration": 132108,
    "start_time": "2023-03-23T06:07:53.649Z"
   },
   {
    "duration": 82,
    "start_time": "2023-03-23T06:11:04.589Z"
   },
   {
    "duration": 88,
    "start_time": "2023-03-23T06:11:10.133Z"
   },
   {
    "duration": 86,
    "start_time": "2023-03-23T06:11:57.122Z"
   },
   {
    "duration": 15,
    "start_time": "2023-03-23T06:13:58.117Z"
   },
   {
    "duration": 425,
    "start_time": "2023-03-23T06:14:13.576Z"
   },
   {
    "duration": 14,
    "start_time": "2023-03-23T06:14:16.208Z"
   },
   {
    "duration": 10,
    "start_time": "2023-03-23T06:16:25.912Z"
   },
   {
    "duration": 9,
    "start_time": "2023-03-23T06:16:42.354Z"
   },
   {
    "duration": 525,
    "start_time": "2023-03-23T06:18:13.619Z"
   },
   {
    "duration": 527,
    "start_time": "2023-03-23T06:20:39.727Z"
   },
   {
    "duration": 543,
    "start_time": "2023-03-23T06:21:07.668Z"
   },
   {
    "duration": 427,
    "start_time": "2023-03-23T06:22:04.889Z"
   },
   {
    "duration": 15,
    "start_time": "2023-03-23T06:22:33.472Z"
   },
   {
    "duration": 38,
    "start_time": "2023-03-23T06:29:23.117Z"
   },
   {
    "duration": 12,
    "start_time": "2023-03-23T06:29:29.616Z"
   },
   {
    "duration": 10,
    "start_time": "2023-03-23T06:29:47.174Z"
   },
   {
    "duration": 430,
    "start_time": "2023-03-23T06:30:29.191Z"
   },
   {
    "duration": 435,
    "start_time": "2023-03-23T06:31:02.917Z"
   },
   {
    "duration": 109,
    "start_time": "2023-03-23T06:32:20.389Z"
   },
   {
    "duration": 15,
    "start_time": "2023-03-23T06:32:20.598Z"
   },
   {
    "duration": 438,
    "start_time": "2023-03-23T06:37:29.343Z"
   },
   {
    "duration": 20,
    "start_time": "2023-03-23T06:37:29.784Z"
   },
   {
    "duration": 82,
    "start_time": "2023-03-23T06:37:35.617Z"
   },
   {
    "duration": 12,
    "start_time": "2023-03-23T06:37:36.166Z"
   },
   {
    "duration": 129332,
    "start_time": "2023-03-23T06:37:40.982Z"
   },
   {
    "duration": 36,
    "start_time": "2023-03-23T06:39:50.317Z"
   },
   {
    "duration": 17,
    "start_time": "2023-03-23T06:39:50.354Z"
   },
   {
    "duration": 42,
    "start_time": "2023-03-23T06:40:41.250Z"
   },
   {
    "duration": 25,
    "start_time": "2023-03-23T06:43:22.772Z"
   },
   {
    "duration": 25,
    "start_time": "2023-03-23T06:43:31.012Z"
   },
   {
    "duration": 79,
    "start_time": "2023-03-23T06:43:31.321Z"
   },
   {
    "duration": 535,
    "start_time": "2023-03-23T06:44:13.743Z"
   },
   {
    "duration": 55,
    "start_time": "2023-03-23T06:44:14.280Z"
   },
   {
    "duration": 40,
    "start_time": "2023-03-23T06:44:33.511Z"
   },
   {
    "duration": 8,
    "start_time": "2023-03-23T06:44:33.690Z"
   },
   {
    "duration": 12,
    "start_time": "2023-03-23T06:44:45.554Z"
   },
   {
    "duration": 7,
    "start_time": "2023-03-23T06:45:05.604Z"
   },
   {
    "duration": 11,
    "start_time": "2023-03-23T06:45:11.691Z"
   },
   {
    "duration": 7,
    "start_time": "2023-03-23T06:46:32.380Z"
   },
   {
    "duration": 12,
    "start_time": "2023-03-23T06:46:37.364Z"
   },
   {
    "duration": 16,
    "start_time": "2023-03-23T06:49:28.050Z"
   },
   {
    "duration": 21,
    "start_time": "2023-03-23T06:55:26.389Z"
   },
   {
    "duration": 29,
    "start_time": "2023-03-23T06:57:21.705Z"
   },
   {
    "duration": 19,
    "start_time": "2023-03-23T06:57:41.027Z"
   },
   {
    "duration": 7,
    "start_time": "2023-03-23T06:59:46.614Z"
   },
   {
    "duration": 5,
    "start_time": "2023-03-23T06:59:54.476Z"
   },
   {
    "duration": 15,
    "start_time": "2023-03-23T07:00:06.405Z"
   },
   {
    "duration": 21,
    "start_time": "2023-03-23T07:01:41.949Z"
   },
   {
    "duration": 21,
    "start_time": "2023-03-23T07:01:56.691Z"
   },
   {
    "duration": 1465,
    "start_time": "2023-03-23T07:02:22.970Z"
   },
   {
    "duration": 53,
    "start_time": "2023-03-23T07:02:24.437Z"
   },
   {
    "duration": 43,
    "start_time": "2023-03-23T07:02:24.492Z"
   },
   {
    "duration": 22,
    "start_time": "2023-03-23T07:02:24.537Z"
   },
   {
    "duration": 8,
    "start_time": "2023-03-23T07:02:24.561Z"
   },
   {
    "duration": 21,
    "start_time": "2023-03-23T07:02:24.571Z"
   },
   {
    "duration": 47,
    "start_time": "2023-03-23T07:02:24.594Z"
   },
   {
    "duration": 13,
    "start_time": "2023-03-23T07:02:24.643Z"
   },
   {
    "duration": 40,
    "start_time": "2023-03-23T07:02:24.659Z"
   },
   {
    "duration": 18,
    "start_time": "2023-03-23T07:02:24.703Z"
   },
   {
    "duration": 40,
    "start_time": "2023-03-23T07:02:24.723Z"
   },
   {
    "duration": 12,
    "start_time": "2023-03-23T07:02:24.765Z"
   },
   {
    "duration": 6,
    "start_time": "2023-03-23T07:02:24.779Z"
   },
   {
    "duration": 28,
    "start_time": "2023-03-23T07:02:24.787Z"
   },
   {
    "duration": 36,
    "start_time": "2023-03-23T07:02:24.816Z"
   },
   {
    "duration": 41,
    "start_time": "2023-03-23T07:02:24.854Z"
   },
   {
    "duration": 5,
    "start_time": "2023-03-23T07:02:24.897Z"
   },
   {
    "duration": 9,
    "start_time": "2023-03-23T07:02:24.905Z"
   },
   {
    "duration": 18,
    "start_time": "2023-03-23T07:02:24.917Z"
   },
   {
    "duration": 10,
    "start_time": "2023-03-23T07:02:24.936Z"
   },
   {
    "duration": 19,
    "start_time": "2023-03-23T07:02:24.948Z"
   },
   {
    "duration": 11,
    "start_time": "2023-03-23T07:02:24.969Z"
   },
   {
    "duration": 23,
    "start_time": "2023-03-23T07:02:24.983Z"
   },
   {
    "duration": 7,
    "start_time": "2023-03-23T07:02:25.008Z"
   },
   {
    "duration": 29,
    "start_time": "2023-03-23T07:02:25.017Z"
   },
   {
    "duration": 22,
    "start_time": "2023-03-23T07:02:25.049Z"
   },
   {
    "duration": 47,
    "start_time": "2023-03-23T07:02:25.073Z"
   },
   {
    "duration": 533,
    "start_time": "2023-03-23T07:02:25.124Z"
   },
   {
    "duration": 8,
    "start_time": "2023-03-23T07:02:25.659Z"
   },
   {
    "duration": 95816,
    "start_time": "2023-03-23T07:02:25.668Z"
   },
   {
    "duration": 61,
    "start_time": "2023-03-23T07:04:01.487Z"
   },
   {
    "duration": 151,
    "start_time": "2023-03-23T07:04:01.550Z"
   },
   {
    "duration": 118,
    "start_time": "2023-03-23T07:04:01.704Z"
   },
   {
    "duration": 147,
    "start_time": "2023-03-23T07:04:01.824Z"
   },
   {
    "duration": 4,
    "start_time": "2023-03-23T07:04:01.973Z"
   },
   {
    "duration": 45,
    "start_time": "2023-03-23T07:04:01.979Z"
   },
   {
    "duration": 172,
    "start_time": "2023-03-23T07:04:02.027Z"
   },
   {
    "duration": 175,
    "start_time": "2023-03-23T07:04:02.202Z"
   },
   {
    "duration": 25,
    "start_time": "2023-03-23T07:04:02.379Z"
   },
   {
    "duration": 4,
    "start_time": "2023-03-23T07:04:02.406Z"
   },
   {
    "duration": 165,
    "start_time": "2023-03-23T07:04:02.412Z"
   },
   {
    "duration": 18,
    "start_time": "2023-03-23T07:04:02.580Z"
   },
   {
    "duration": 4,
    "start_time": "2023-03-23T07:04:02.600Z"
   },
   {
    "duration": 165,
    "start_time": "2023-03-23T07:04:02.605Z"
   },
   {
    "duration": 31,
    "start_time": "2023-03-23T07:04:02.772Z"
   },
   {
    "duration": 97,
    "start_time": "2023-03-23T07:04:02.805Z"
   },
   {
    "duration": 192,
    "start_time": "2023-03-23T07:04:02.905Z"
   },
   {
    "duration": 6,
    "start_time": "2023-03-23T07:04:03.099Z"
   },
   {
    "duration": 16,
    "start_time": "2023-03-23T07:04:03.107Z"
   },
   {
    "duration": 16,
    "start_time": "2023-03-23T07:04:03.124Z"
   },
   {
    "duration": 7,
    "start_time": "2023-03-23T07:04:03.142Z"
   },
   {
    "duration": 18,
    "start_time": "2023-03-23T07:04:03.151Z"
   },
   {
    "duration": 117,
    "start_time": "2023-03-23T07:04:03.171Z"
   },
   {
    "duration": 17,
    "start_time": "2023-03-23T07:04:03.290Z"
   },
   {
    "duration": 117,
    "start_time": "2023-03-23T07:04:03.309Z"
   },
   {
    "duration": 128912,
    "start_time": "2023-03-23T07:04:03.427Z"
   },
   {
    "duration": 59,
    "start_time": "2023-03-23T07:06:12.341Z"
   },
   {
    "duration": 417,
    "start_time": "2023-03-23T07:06:12.403Z"
   },
   {
    "duration": 14,
    "start_time": "2023-03-23T07:06:12.821Z"
   },
   {
    "duration": 71,
    "start_time": "2023-03-23T07:06:12.838Z"
   },
   {
    "duration": 105,
    "start_time": "2023-03-23T07:06:12.911Z"
   },
   {
    "duration": 633,
    "start_time": "2023-03-23T07:06:13.098Z"
   },
   {
    "duration": 40,
    "start_time": "2023-03-23T07:06:13.733Z"
   },
   {
    "duration": 53,
    "start_time": "2023-03-23T07:06:13.776Z"
   },
   {
    "duration": 8,
    "start_time": "2023-03-23T07:06:13.831Z"
   },
   {
    "duration": 5,
    "start_time": "2023-03-23T07:06:13.841Z"
   },
   {
    "duration": 23,
    "start_time": "2023-03-23T07:06:13.848Z"
   },
   {
    "duration": 340,
    "start_time": "2023-03-23T07:07:27.031Z"
   },
   {
    "duration": 9,
    "start_time": "2023-03-23T07:07:28.593Z"
   },
   {
    "duration": 4,
    "start_time": "2023-03-23T07:08:59.041Z"
   },
   {
    "duration": 365,
    "start_time": "2023-03-23T07:10:21.381Z"
   },
   {
    "duration": 229,
    "start_time": "2023-03-23T07:12:17.570Z"
   },
   {
    "duration": 1612,
    "start_time": "2023-03-23T07:18:33.860Z"
   },
   {
    "duration": 50,
    "start_time": "2023-03-23T07:18:35.474Z"
   },
   {
    "duration": 47,
    "start_time": "2023-03-23T07:18:35.526Z"
   },
   {
    "duration": 29,
    "start_time": "2023-03-23T07:18:35.575Z"
   },
   {
    "duration": 47,
    "start_time": "2023-03-23T07:18:35.606Z"
   },
   {
    "duration": 26,
    "start_time": "2023-03-23T07:18:35.655Z"
   },
   {
    "duration": 62,
    "start_time": "2023-03-23T07:18:35.683Z"
   },
   {
    "duration": 21,
    "start_time": "2023-03-23T07:18:35.747Z"
   },
   {
    "duration": 31,
    "start_time": "2023-03-23T07:18:35.771Z"
   },
   {
    "duration": 19,
    "start_time": "2023-03-23T07:18:35.806Z"
   },
   {
    "duration": 26,
    "start_time": "2023-03-23T07:18:35.827Z"
   },
   {
    "duration": 15,
    "start_time": "2023-03-23T07:18:35.856Z"
   },
   {
    "duration": 26,
    "start_time": "2023-03-23T07:18:35.874Z"
   },
   {
    "duration": 32,
    "start_time": "2023-03-23T07:18:35.903Z"
   },
   {
    "duration": 24,
    "start_time": "2023-03-23T07:18:35.938Z"
   },
   {
    "duration": 55,
    "start_time": "2023-03-23T07:18:35.965Z"
   },
   {
    "duration": 6,
    "start_time": "2023-03-23T07:18:36.023Z"
   },
   {
    "duration": 31,
    "start_time": "2023-03-23T07:18:36.033Z"
   },
   {
    "duration": 37,
    "start_time": "2023-03-23T07:18:36.066Z"
   },
   {
    "duration": 21,
    "start_time": "2023-03-23T07:18:36.106Z"
   },
   {
    "duration": 34,
    "start_time": "2023-03-23T07:18:36.129Z"
   },
   {
    "duration": 16,
    "start_time": "2023-03-23T07:18:36.166Z"
   },
   {
    "duration": 19,
    "start_time": "2023-03-23T07:18:36.184Z"
   },
   {
    "duration": 7,
    "start_time": "2023-03-23T07:18:36.205Z"
   },
   {
    "duration": 30,
    "start_time": "2023-03-23T07:18:36.214Z"
   },
   {
    "duration": 22,
    "start_time": "2023-03-23T07:18:36.246Z"
   },
   {
    "duration": 40,
    "start_time": "2023-03-23T07:18:36.270Z"
   },
   {
    "duration": 16,
    "start_time": "2023-03-23T07:18:36.317Z"
   },
   {
    "duration": 357,
    "start_time": "2023-03-23T07:18:36.336Z"
   },
   {
    "duration": 10,
    "start_time": "2023-03-23T07:18:36.695Z"
   },
   {
    "duration": 95741,
    "start_time": "2023-03-23T07:18:36.707Z"
   },
   {
    "duration": 60,
    "start_time": "2023-03-23T07:20:12.450Z"
   },
   {
    "duration": 186,
    "start_time": "2023-03-23T07:20:12.513Z"
   },
   {
    "duration": 99,
    "start_time": "2023-03-23T07:20:12.702Z"
   },
   {
    "duration": 131,
    "start_time": "2023-03-23T07:20:12.803Z"
   },
   {
    "duration": 5,
    "start_time": "2023-03-23T07:20:12.936Z"
   },
   {
    "duration": 159,
    "start_time": "2023-03-23T07:20:12.943Z"
   },
   {
    "duration": 173,
    "start_time": "2023-03-23T07:20:13.105Z"
   },
   {
    "duration": 23,
    "start_time": "2023-03-23T07:20:13.280Z"
   },
   {
    "duration": 9,
    "start_time": "2023-03-23T07:20:13.305Z"
   },
   {
    "duration": 145,
    "start_time": "2023-03-23T07:20:13.316Z"
   },
   {
    "duration": 9,
    "start_time": "2023-03-23T07:20:13.462Z"
   },
   {
    "duration": 13,
    "start_time": "2023-03-23T07:20:13.473Z"
   },
   {
    "duration": 177,
    "start_time": "2023-03-23T07:20:13.488Z"
   },
   {
    "duration": 131,
    "start_time": "2023-03-23T07:20:13.667Z"
   },
   {
    "duration": 14,
    "start_time": "2023-03-23T07:20:13.800Z"
   },
   {
    "duration": 215,
    "start_time": "2023-03-23T07:20:13.817Z"
   },
   {
    "duration": 6,
    "start_time": "2023-03-23T07:20:14.034Z"
   },
   {
    "duration": 23,
    "start_time": "2023-03-23T07:20:14.042Z"
   },
   {
    "duration": 25,
    "start_time": "2023-03-23T07:20:14.068Z"
   },
   {
    "duration": 26,
    "start_time": "2023-03-23T07:20:14.095Z"
   },
   {
    "duration": 31,
    "start_time": "2023-03-23T07:20:14.123Z"
   },
   {
    "duration": 103,
    "start_time": "2023-03-23T07:20:14.156Z"
   },
   {
    "duration": 15,
    "start_time": "2023-03-23T07:20:14.261Z"
   },
   {
    "duration": 110,
    "start_time": "2023-03-23T07:20:14.278Z"
   },
   {
    "duration": 131347,
    "start_time": "2023-03-23T07:20:14.390Z"
   },
   {
    "duration": 42,
    "start_time": "2023-03-23T07:22:25.739Z"
   },
   {
    "duration": 437,
    "start_time": "2023-03-23T07:22:25.783Z"
   },
   {
    "duration": 14,
    "start_time": "2023-03-23T07:22:26.222Z"
   },
   {
    "duration": 60,
    "start_time": "2023-03-23T07:22:26.238Z"
   },
   {
    "duration": 198,
    "start_time": "2023-03-23T07:22:26.302Z"
   },
   {
    "duration": 615,
    "start_time": "2023-03-23T07:22:26.503Z"
   },
   {
    "duration": 39,
    "start_time": "2023-03-23T07:22:27.119Z"
   },
   {
    "duration": 53,
    "start_time": "2023-03-23T07:22:27.160Z"
   },
   {
    "duration": 6,
    "start_time": "2023-03-23T07:22:27.216Z"
   },
   {
    "duration": 4,
    "start_time": "2023-03-23T07:22:27.225Z"
   },
   {
    "duration": 20,
    "start_time": "2023-03-23T07:22:27.230Z"
   },
   {
    "duration": 55,
    "start_time": "2023-03-23T11:18:13.743Z"
   }
  ],
  "kernelspec": {
   "display_name": "Python 3 (ipykernel)",
   "language": "python",
   "name": "python3"
  },
  "language_info": {
   "codemirror_mode": {
    "name": "ipython",
    "version": 3
   },
   "file_extension": ".py",
   "mimetype": "text/x-python",
   "name": "python",
   "nbconvert_exporter": "python",
   "pygments_lexer": "ipython3",
   "version": "3.10.9"
  },
  "toc": {
   "base_numbering": 1,
   "nav_menu": {},
   "number_sections": true,
   "sideBar": true,
   "skip_h1_title": true,
   "title_cell": "Содержание",
   "title_sidebar": "Contents",
   "toc_cell": true,
   "toc_position": {
    "height": "calc(100% - 180px)",
    "left": "10px",
    "top": "150px",
    "width": "494.188px"
   },
   "toc_section_display": true,
   "toc_window_display": false
  }
 },
 "nbformat": 4,
 "nbformat_minor": 2
}
