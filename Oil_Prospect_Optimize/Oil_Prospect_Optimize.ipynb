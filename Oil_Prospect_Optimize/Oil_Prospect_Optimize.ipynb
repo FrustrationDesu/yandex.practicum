{
 "cells": [
  {
   "cell_type": "markdown",
   "metadata": {},
   "source": [
    "# Выбор локации для скважины"
   ]
  },
  {
   "cell_type": "markdown",
   "metadata": {},
   "source": [
    "Допустим, вы работаете в добывающей компании «ГлавРосГосНефть». Нужно решить, где бурить новую скважину.\n",
    "\n",
    "Вам предоставлены пробы нефти в трёх регионах: в каждом 10 000 месторождений, где измерили качество нефти и объём её запасов. Постройте модель машинного обучения, которая поможет определить регион, где добыча принесёт наибольшую прибыль. Проанализируйте возможную прибыль и риски техникой *Bootstrap.*\n",
    "\n",
    "Шаги для выбора локации:\n",
    "\n",
    "- В избранном регионе ищут месторождения, для каждого определяют значения признаков;\n",
    "- Строят модель и оценивают объём запасов;\n",
    "- Выбирают месторождения с самым высокими оценками значений. Количество месторождений зависит от бюджета компании и стоимости разработки одной скважины;\n",
    "- Прибыль равна суммарной прибыли отобранных месторождений."
   ]
  },
  {
   "cell_type": "markdown",
   "metadata": {},
   "source": [
    "## Загрузка и подготовка данных"
   ]
  },
  {
   "cell_type": "code",
   "execution_count": 1,
   "metadata": {},
   "outputs": [],
   "source": [
    "import pandas as pd\n",
    "from sklearn.model_selection import train_test_split\n",
    "from sklearn.linear_model import LinearRegression\n",
    "from sklearn.preprocessing import MinMaxScaler\n",
    "from sklearn.metrics import accuracy_score\n",
    "from scipy import stats as st\n",
    "import numpy as np\n",
    "from sklearn.metrics import mean_squared_error, r2_score\n",
    "import matplotlib.pyplot as plt\n",
    "from sklearn.utils import shuffle\n",
    "from sklearn.preprocessing import OrdinalEncoder \n",
    "import warnings\n",
    "warnings.filterwarnings(\"ignore\")\n"
   ]
  },
  {
   "cell_type": "code",
   "execution_count": 2,
   "metadata": {},
   "outputs": [],
   "source": [
    "geo_data_1 = pd.read_csv('https://code.s3.yandex.net/datasets/geo_data_0.csv')\n",
    "geo_data_2 = pd.read_csv('https://code.s3.yandex.net/datasets/geo_data_1.csv')\n",
    "geo_data_3 = pd.read_csv('https://code.s3.yandex.net/datasets/geo_data_2.csv')"
   ]
  },
  {
   "cell_type": "markdown",
   "metadata": {},
   "source": [
    "- id — уникальный идентификатор скважины;\n",
    "- f0, f1, f2 — три признака точек (неважно, что они означают, но сами признаки значимы);\n",
    "- product — объём запасов в скважине (тыс. баррелей)."
   ]
  },
  {
   "cell_type": "markdown",
   "metadata": {},
   "source": [
    "Рассмотрим каждый датасет отдельно."
   ]
  },
  {
   "cell_type": "code",
   "execution_count": 3,
   "metadata": {
    "scrolled": false
   },
   "outputs": [
    {
     "name": "stdout",
     "output_type": "stream",
     "text": [
      "<class 'pandas.core.frame.DataFrame'>\n",
      "RangeIndex: 100000 entries, 0 to 99999\n",
      "Data columns (total 5 columns):\n",
      " #   Column   Non-Null Count   Dtype  \n",
      "---  ------   --------------   -----  \n",
      " 0   id       100000 non-null  object \n",
      " 1   f0       100000 non-null  float64\n",
      " 2   f1       100000 non-null  float64\n",
      " 3   f2       100000 non-null  float64\n",
      " 4   product  100000 non-null  float64\n",
      "dtypes: float64(4), object(1)\n",
      "memory usage: 3.8+ MB\n",
      "                  f0             f1             f2        product\n",
      "count  100000.000000  100000.000000  100000.000000  100000.000000\n",
      "mean        0.500419       0.250143       2.502647      92.500000\n",
      "std         0.871832       0.504433       3.248248      44.288691\n",
      "min        -1.408605      -0.848218     -12.088328       0.000000\n",
      "25%        -0.072580      -0.200881       0.287748      56.497507\n",
      "50%         0.502360       0.250252       2.515969      91.849972\n",
      "75%         1.073581       0.700646       4.715088     128.564089\n",
      "max         2.362331       1.343769      16.003790     185.364347\n"
     ]
    },
    {
     "data": {
      "text/html": [
       "<div>\n",
       "<style scoped>\n",
       "    .dataframe tbody tr th:only-of-type {\n",
       "        vertical-align: middle;\n",
       "    }\n",
       "\n",
       "    .dataframe tbody tr th {\n",
       "        vertical-align: top;\n",
       "    }\n",
       "\n",
       "    .dataframe thead th {\n",
       "        text-align: right;\n",
       "    }\n",
       "</style>\n",
       "<table border=\"1\" class=\"dataframe\">\n",
       "  <thead>\n",
       "    <tr style=\"text-align: right;\">\n",
       "      <th></th>\n",
       "      <th>id</th>\n",
       "      <th>f0</th>\n",
       "      <th>f1</th>\n",
       "      <th>f2</th>\n",
       "      <th>product</th>\n",
       "    </tr>\n",
       "  </thead>\n",
       "  <tbody>\n",
       "    <tr>\n",
       "      <th>0</th>\n",
       "      <td>txEyH</td>\n",
       "      <td>0.705745</td>\n",
       "      <td>-0.497823</td>\n",
       "      <td>1.221170</td>\n",
       "      <td>105.280062</td>\n",
       "    </tr>\n",
       "    <tr>\n",
       "      <th>1</th>\n",
       "      <td>2acmU</td>\n",
       "      <td>1.334711</td>\n",
       "      <td>-0.340164</td>\n",
       "      <td>4.365080</td>\n",
       "      <td>73.037750</td>\n",
       "    </tr>\n",
       "    <tr>\n",
       "      <th>2</th>\n",
       "      <td>409Wp</td>\n",
       "      <td>1.022732</td>\n",
       "      <td>0.151990</td>\n",
       "      <td>1.419926</td>\n",
       "      <td>85.265647</td>\n",
       "    </tr>\n",
       "    <tr>\n",
       "      <th>3</th>\n",
       "      <td>iJLyR</td>\n",
       "      <td>-0.032172</td>\n",
       "      <td>0.139033</td>\n",
       "      <td>2.978566</td>\n",
       "      <td>168.620776</td>\n",
       "    </tr>\n",
       "    <tr>\n",
       "      <th>4</th>\n",
       "      <td>Xdl7t</td>\n",
       "      <td>1.988431</td>\n",
       "      <td>0.155413</td>\n",
       "      <td>4.751769</td>\n",
       "      <td>154.036647</td>\n",
       "    </tr>\n",
       "  </tbody>\n",
       "</table>\n",
       "</div>"
      ],
      "text/plain": [
       "      id        f0        f1        f2     product\n",
       "0  txEyH  0.705745 -0.497823  1.221170  105.280062\n",
       "1  2acmU  1.334711 -0.340164  4.365080   73.037750\n",
       "2  409Wp  1.022732  0.151990  1.419926   85.265647\n",
       "3  iJLyR -0.032172  0.139033  2.978566  168.620776\n",
       "4  Xdl7t  1.988431  0.155413  4.751769  154.036647"
      ]
     },
     "execution_count": 3,
     "metadata": {},
     "output_type": "execute_result"
    }
   ],
   "source": [
    "# Первый датасет geo_data_1\n",
    "geo_data_1.info()\n",
    "print(geo_data_1.describe())\n",
    "geo_data_1.head()"
   ]
  },
  {
   "cell_type": "code",
   "execution_count": 4,
   "metadata": {},
   "outputs": [
    {
     "name": "stdout",
     "output_type": "stream",
     "text": [
      "<class 'pandas.core.frame.DataFrame'>\n",
      "RangeIndex: 100000 entries, 0 to 99999\n",
      "Data columns (total 5 columns):\n",
      " #   Column   Non-Null Count   Dtype  \n",
      "---  ------   --------------   -----  \n",
      " 0   id       100000 non-null  object \n",
      " 1   f0       100000 non-null  float64\n",
      " 2   f1       100000 non-null  float64\n",
      " 3   f2       100000 non-null  float64\n",
      " 4   product  100000 non-null  float64\n",
      "dtypes: float64(4), object(1)\n",
      "memory usage: 3.8+ MB\n",
      "                  f0             f1             f2        product\n",
      "count  100000.000000  100000.000000  100000.000000  100000.000000\n",
      "mean        1.141296      -4.796579       2.494541      68.825000\n",
      "std         8.965932       5.119872       1.703572      45.944423\n",
      "min       -31.609576     -26.358598      -0.018144       0.000000\n",
      "25%        -6.298551      -8.267985       1.000021      26.953261\n",
      "50%         1.153055      -4.813172       2.011479      57.085625\n",
      "75%         8.621015      -1.332816       3.999904     107.813044\n",
      "max        29.421755      18.734063       5.019721     137.945408\n"
     ]
    },
    {
     "data": {
      "text/html": [
       "<div>\n",
       "<style scoped>\n",
       "    .dataframe tbody tr th:only-of-type {\n",
       "        vertical-align: middle;\n",
       "    }\n",
       "\n",
       "    .dataframe tbody tr th {\n",
       "        vertical-align: top;\n",
       "    }\n",
       "\n",
       "    .dataframe thead th {\n",
       "        text-align: right;\n",
       "    }\n",
       "</style>\n",
       "<table border=\"1\" class=\"dataframe\">\n",
       "  <thead>\n",
       "    <tr style=\"text-align: right;\">\n",
       "      <th></th>\n",
       "      <th>id</th>\n",
       "      <th>f0</th>\n",
       "      <th>f1</th>\n",
       "      <th>f2</th>\n",
       "      <th>product</th>\n",
       "    </tr>\n",
       "  </thead>\n",
       "  <tbody>\n",
       "    <tr>\n",
       "      <th>0</th>\n",
       "      <td>kBEdx</td>\n",
       "      <td>-15.001348</td>\n",
       "      <td>-8.276000</td>\n",
       "      <td>-0.005876</td>\n",
       "      <td>3.179103</td>\n",
       "    </tr>\n",
       "    <tr>\n",
       "      <th>1</th>\n",
       "      <td>62mP7</td>\n",
       "      <td>14.272088</td>\n",
       "      <td>-3.475083</td>\n",
       "      <td>0.999183</td>\n",
       "      <td>26.953261</td>\n",
       "    </tr>\n",
       "    <tr>\n",
       "      <th>2</th>\n",
       "      <td>vyE1P</td>\n",
       "      <td>6.263187</td>\n",
       "      <td>-5.948386</td>\n",
       "      <td>5.001160</td>\n",
       "      <td>134.766305</td>\n",
       "    </tr>\n",
       "    <tr>\n",
       "      <th>3</th>\n",
       "      <td>KcrkZ</td>\n",
       "      <td>-13.081196</td>\n",
       "      <td>-11.506057</td>\n",
       "      <td>4.999415</td>\n",
       "      <td>137.945408</td>\n",
       "    </tr>\n",
       "    <tr>\n",
       "      <th>4</th>\n",
       "      <td>AHL4O</td>\n",
       "      <td>12.702195</td>\n",
       "      <td>-8.147433</td>\n",
       "      <td>5.004363</td>\n",
       "      <td>134.766305</td>\n",
       "    </tr>\n",
       "  </tbody>\n",
       "</table>\n",
       "</div>"
      ],
      "text/plain": [
       "      id         f0         f1        f2     product\n",
       "0  kBEdx -15.001348  -8.276000 -0.005876    3.179103\n",
       "1  62mP7  14.272088  -3.475083  0.999183   26.953261\n",
       "2  vyE1P   6.263187  -5.948386  5.001160  134.766305\n",
       "3  KcrkZ -13.081196 -11.506057  4.999415  137.945408\n",
       "4  AHL4O  12.702195  -8.147433  5.004363  134.766305"
      ]
     },
     "execution_count": 4,
     "metadata": {},
     "output_type": "execute_result"
    }
   ],
   "source": [
    "# Второй датасет geo_data_2\n",
    "geo_data_2.info()\n",
    "print(geo_data_2.describe())\n",
    "geo_data_2.head()"
   ]
  },
  {
   "cell_type": "code",
   "execution_count": 5,
   "metadata": {
    "scrolled": true
   },
   "outputs": [
    {
     "name": "stdout",
     "output_type": "stream",
     "text": [
      "<class 'pandas.core.frame.DataFrame'>\n",
      "RangeIndex: 100000 entries, 0 to 99999\n",
      "Data columns (total 5 columns):\n",
      " #   Column   Non-Null Count   Dtype  \n",
      "---  ------   --------------   -----  \n",
      " 0   id       100000 non-null  object \n",
      " 1   f0       100000 non-null  float64\n",
      " 2   f1       100000 non-null  float64\n",
      " 3   f2       100000 non-null  float64\n",
      " 4   product  100000 non-null  float64\n",
      "dtypes: float64(4), object(1)\n",
      "memory usage: 3.8+ MB\n",
      "                  f0             f1             f2        product\n",
      "count  100000.000000  100000.000000  100000.000000  100000.000000\n",
      "mean        0.002023      -0.002081       2.495128      95.000000\n",
      "std         1.732045       1.730417       3.473445      44.749921\n",
      "min        -8.760004      -7.084020     -11.970335       0.000000\n",
      "25%        -1.162288      -1.174820       0.130359      59.450441\n",
      "50%         0.009424      -0.009482       2.484236      94.925613\n",
      "75%         1.158535       1.163678       4.858794     130.595027\n",
      "max         7.238262       7.844801      16.739402     190.029838\n"
     ]
    },
    {
     "data": {
      "text/html": [
       "<div>\n",
       "<style scoped>\n",
       "    .dataframe tbody tr th:only-of-type {\n",
       "        vertical-align: middle;\n",
       "    }\n",
       "\n",
       "    .dataframe tbody tr th {\n",
       "        vertical-align: top;\n",
       "    }\n",
       "\n",
       "    .dataframe thead th {\n",
       "        text-align: right;\n",
       "    }\n",
       "</style>\n",
       "<table border=\"1\" class=\"dataframe\">\n",
       "  <thead>\n",
       "    <tr style=\"text-align: right;\">\n",
       "      <th></th>\n",
       "      <th>id</th>\n",
       "      <th>f0</th>\n",
       "      <th>f1</th>\n",
       "      <th>f2</th>\n",
       "      <th>product</th>\n",
       "    </tr>\n",
       "  </thead>\n",
       "  <tbody>\n",
       "    <tr>\n",
       "      <th>0</th>\n",
       "      <td>fwXo0</td>\n",
       "      <td>-1.146987</td>\n",
       "      <td>0.963328</td>\n",
       "      <td>-0.828965</td>\n",
       "      <td>27.758673</td>\n",
       "    </tr>\n",
       "    <tr>\n",
       "      <th>1</th>\n",
       "      <td>WJtFt</td>\n",
       "      <td>0.262778</td>\n",
       "      <td>0.269839</td>\n",
       "      <td>-2.530187</td>\n",
       "      <td>56.069697</td>\n",
       "    </tr>\n",
       "    <tr>\n",
       "      <th>2</th>\n",
       "      <td>ovLUW</td>\n",
       "      <td>0.194587</td>\n",
       "      <td>0.289035</td>\n",
       "      <td>-5.586433</td>\n",
       "      <td>62.871910</td>\n",
       "    </tr>\n",
       "    <tr>\n",
       "      <th>3</th>\n",
       "      <td>q6cA6</td>\n",
       "      <td>2.236060</td>\n",
       "      <td>-0.553760</td>\n",
       "      <td>0.930038</td>\n",
       "      <td>114.572842</td>\n",
       "    </tr>\n",
       "    <tr>\n",
       "      <th>4</th>\n",
       "      <td>WPMUX</td>\n",
       "      <td>-0.515993</td>\n",
       "      <td>1.716266</td>\n",
       "      <td>5.899011</td>\n",
       "      <td>149.600746</td>\n",
       "    </tr>\n",
       "  </tbody>\n",
       "</table>\n",
       "</div>"
      ],
      "text/plain": [
       "      id        f0        f1        f2     product\n",
       "0  fwXo0 -1.146987  0.963328 -0.828965   27.758673\n",
       "1  WJtFt  0.262778  0.269839 -2.530187   56.069697\n",
       "2  ovLUW  0.194587  0.289035 -5.586433   62.871910\n",
       "3  q6cA6  2.236060 -0.553760  0.930038  114.572842\n",
       "4  WPMUX -0.515993  1.716266  5.899011  149.600746"
      ]
     },
     "execution_count": 5,
     "metadata": {},
     "output_type": "execute_result"
    }
   ],
   "source": [
    "# Третий датасет geo_data_3\n",
    "geo_data_3.info()\n",
    "print(geo_data_3.describe())\n",
    "geo_data_3.head()"
   ]
  },
  {
   "cell_type": "code",
   "execution_count": 6,
   "metadata": {},
   "outputs": [
    {
     "name": "stdout",
     "output_type": "stream",
     "text": [
      "0\n"
     ]
    },
    {
     "data": {
      "text/plain": [
       "id         0\n",
       "f0         0\n",
       "f1         0\n",
       "f2         0\n",
       "product    0\n",
       "dtype: int64"
      ]
     },
     "execution_count": 6,
     "metadata": {},
     "output_type": "execute_result"
    }
   ],
   "source": [
    "print(geo_data_1.duplicated().sum())\n",
    "geo_data_1.isna().sum()\n"
   ]
  },
  {
   "cell_type": "code",
   "execution_count": 7,
   "metadata": {},
   "outputs": [
    {
     "name": "stdout",
     "output_type": "stream",
     "text": [
      "0\n"
     ]
    },
    {
     "data": {
      "text/plain": [
       "id         0\n",
       "f0         0\n",
       "f1         0\n",
       "f2         0\n",
       "product    0\n",
       "dtype: int64"
      ]
     },
     "execution_count": 7,
     "metadata": {},
     "output_type": "execute_result"
    }
   ],
   "source": [
    "print(geo_data_2.duplicated().sum())\n",
    "geo_data_2.isna().sum()"
   ]
  },
  {
   "cell_type": "code",
   "execution_count": 8,
   "metadata": {},
   "outputs": [
    {
     "name": "stdout",
     "output_type": "stream",
     "text": [
      "0\n"
     ]
    },
    {
     "data": {
      "text/plain": [
       "id         0\n",
       "f0         0\n",
       "f1         0\n",
       "f2         0\n",
       "product    0\n",
       "dtype: int64"
      ]
     },
     "execution_count": 8,
     "metadata": {},
     "output_type": "execute_result"
    }
   ],
   "source": [
    "print(geo_data_3.duplicated().sum())\n",
    "geo_data_3.isna().sum()"
   ]
  },
  {
   "cell_type": "markdown",
   "metadata": {},
   "source": [
    "Дупликатов и нулевых значений нет во всех датасетах"
   ]
  },
  {
   "cell_type": "markdown",
   "metadata": {},
   "source": [
    "В третьем датасете средняя mean выше, чем в остальных датасетах. <br>\n",
    "Уверен, не всё так просто и легко.<br>\n",
    "Также, во втором датасете можно заметить показатель mean сильно ниже, чем в 1 и 3 датасете. <br>\n",
    "Однако значения все еще непонятны и не представляют ничего ценного на первый взгляд, будет правильным посмотреть на зависимость столбцов f0,f1,f2 от значения product"
   ]
  },
  {
   "cell_type": "code",
   "execution_count": 9,
   "metadata": {},
   "outputs": [
    {
     "data": {
      "text/plain": [
       "f0         0.143536\n",
       "f1        -0.192356\n",
       "f2         0.483663\n",
       "product    1.000000\n",
       "Name: product, dtype: float64"
      ]
     },
     "execution_count": 9,
     "metadata": {},
     "output_type": "execute_result"
    }
   ],
   "source": [
    "#Зависимость объема от признаков для geo_data1\n",
    "corr1 = geo_data_1.corr()\n",
    "corr1['product']"
   ]
  },
  {
   "cell_type": "code",
   "execution_count": 10,
   "metadata": {},
   "outputs": [
    {
     "data": {
      "text/plain": [
       "f0        -0.030491\n",
       "f1        -0.010155\n",
       "f2         0.999397\n",
       "product    1.000000\n",
       "Name: product, dtype: float64"
      ]
     },
     "execution_count": 10,
     "metadata": {},
     "output_type": "execute_result"
    }
   ],
   "source": [
    "#Зависимость объема от признаков для geo_data2\n",
    "corr2 = geo_data_2.corr()\n",
    "corr2['product']"
   ]
  },
  {
   "cell_type": "code",
   "execution_count": 11,
   "metadata": {
    "scrolled": true
   },
   "outputs": [
    {
     "data": {
      "text/plain": [
       "f0        -0.001987\n",
       "f1        -0.001012\n",
       "f2         0.445871\n",
       "product    1.000000\n",
       "Name: product, dtype: float64"
      ]
     },
     "execution_count": 11,
     "metadata": {},
     "output_type": "execute_result"
    }
   ],
   "source": [
    "#Зависимость объема от признаков для geo_data3\n",
    "corr3 = geo_data_3.corr()\n",
    "corr3['product']"
   ]
  },
  {
   "cell_type": "markdown",
   "metadata": {},
   "source": [
    "Сильно очень бросается в глаза, что в датасете geo_data2 невероятно большая зависимость значений product от f2 показателя. <br>\n",
    "Это может сильно повлиять на результаты моделей, но пока не ясно положительно или отрицательно"
   ]
  },
  {
   "cell_type": "markdown",
   "metadata": {},
   "source": [
    "А в целом же, зависимость f2 для значений product у всех датасетов сравнительно f0,f1 сильно выше. \n"
   ]
  },
  {
   "cell_type": "markdown",
   "metadata": {},
   "source": [
    "## Обучение и проверка модели"
   ]
  },
  {
   "cell_type": "code",
   "execution_count": 12,
   "metadata": {},
   "outputs": [],
   "source": [
    "def split_train(data):\n",
    "    \"\"\"\n",
    "    Функция берет данные региона.\n",
    "    Подготавливает данные fearures и train для модели.\n",
    "    Обучает модель линейной регрессии\n",
    "    Возвращает среднеквадратичную ошибку и средний объем нефти в скважинах этого региона.\n",
    "    \"\"\"\n",
    "    \n",
    "    features = data.drop([\"product\",\"id\"], axis=1)\n",
    "    target = data[\"product\"]\n",
    "    features_train, features_valid, target_train, target_valid = train_test_split(features, \n",
    "                                                                                  target, \n",
    "                                                                                  test_size=0.25, \n",
    "                                                                                  random_state= 1)\n",
    "    scaler = MinMaxScaler()\n",
    "    features_train = scaler.fit_transform(features_train)\n",
    "    features_valid = scaler.transform(features_valid)\n",
    "    \n",
    "    lr = LinearRegression(normalize=False)\n",
    "    lr.fit(features_train, target_train)\n",
    "    predictions = lr.predict(features_valid)\n",
    "    predictions = pd.Series(predictions)\n",
    "    rmse = (mean_squared_error(target_valid, predictions))**(0.5)\n",
    "    r2 =  r2_score(target_valid, predictions)\n",
    "    average_product = sum(predictions) / len(predictions)\n",
    "    print(\"RMSE: {0:.2f}\".format(rmse))\n",
    "    print(\"r2: {0:.2f}\".format(r2))\n",
    "    print(\"Average product: {0:.2f}\".format(average_product))\n",
    "    \n",
    "    return (predictions, target_valid.reset_index(drop=True), rmse)"
   ]
  },
  {
   "cell_type": "code",
   "execution_count": 13,
   "metadata": {
    "scrolled": true
   },
   "outputs": [
    {
     "name": "stdout",
     "output_type": "stream",
     "text": [
      "Регион 1:\n",
      "\n",
      "RMSE: 37.74\n",
      "r2: 0.28\n",
      "Average product: 92.49\n",
      "\n"
     ]
    }
   ],
   "source": [
    "#geo_data_1\n",
    "print(f\"Регион 1:\")\n",
    "print()\n",
    "split_train(geo_data_1)\n",
    "print()"
   ]
  },
  {
   "cell_type": "code",
   "execution_count": 14,
   "metadata": {},
   "outputs": [
    {
     "name": "stdout",
     "output_type": "stream",
     "text": [
      "Регион 2:\n",
      "\n",
      "RMSE: 0.89\n",
      "r2: 1.00\n",
      "Average product: 69.12\n",
      "\n"
     ]
    }
   ],
   "source": [
    "#geo_data_2\n",
    "print(f\"Регион 2:\")\n",
    "print()\n",
    "split_train(geo_data_2)\n",
    "print()"
   ]
  },
  {
   "cell_type": "code",
   "execution_count": 15,
   "metadata": {
    "scrolled": true
   },
   "outputs": [
    {
     "name": "stdout",
     "output_type": "stream",
     "text": [
      "Регион 3:\n",
      "\n",
      "RMSE: 39.87\n",
      "r2: 0.20\n",
      "Average product: 94.96\n",
      "\n"
     ]
    }
   ],
   "source": [
    "#geo_data_3\n",
    "print(f\"Регион 3:\")\n",
    "print()\n",
    "split_train(geo_data_3)\n",
    "print()"
   ]
  },
  {
   "cell_type": "code",
   "execution_count": 16,
   "metadata": {
    "scrolled": true
   },
   "outputs": [
    {
     "name": "stdout",
     "output_type": "stream",
     "text": [
      "RMSE: 37.74\n",
      "r2: 0.28\n",
      "Average product: 92.49\n",
      "RMSE: 0.89\n",
      "r2: 1.00\n",
      "Average product: 69.12\n",
      "RMSE: 39.87\n",
      "r2: 0.20\n",
      "Average product: 94.96\n"
     ]
    }
   ],
   "source": [
    "#сохраним все важные значения\n",
    "predictions_1, validation_1, rmse_1 = split_train(geo_data_1)\n",
    "predictions_2, validation_2, rmse_2 = split_train(geo_data_2)\n",
    "predictions_3, validation_3, rmse_3 = split_train(geo_data_3)"
   ]
  },
  {
   "cell_type": "markdown",
   "metadata": {},
   "source": [
    "Самая минимальная среднеквадратичная ошибка у Региона 2. RMSE: 0.89<br> \n",
    "Также, у этого региона r2 score равен единице. <br>\n",
    "Думаю, это связано с тем, что очень большая зависимость была у признака f2 к product.<br>\n",
    "Средний запас объема нефти в этом регионе - 68.73 тыс.баррелей"
   ]
  },
  {
   "cell_type": "markdown",
   "metadata": {},
   "source": [
    "## Подготовка к расчёту прибыли"
   ]
  },
  {
   "cell_type": "markdown",
   "metadata": {},
   "source": [
    "Бюджет на разработку скважин в регионе — 10 млрд рублей. <br>\n",
    "При нынешних ценах один баррель сырья приносит 450 рублей дохода. <br>\n",
    "Доход с каждой единицы продукта составляет 450 тыс. рублей, поскольку объём указан в тысячах баррелей."
   ]
  },
  {
   "cell_type": "code",
   "execution_count": 1,
   "metadata": {},
   "outputs": [],
   "source": [
    "BUDGET = 10**10 \n",
    "INCOME_PER_BARREL = 450 * 10**3 "
   ]
  },
  {
   "cell_type": "markdown",
   "metadata": {},
   "source": [
    "Точка безубыточности — размер выручки, при котором бизнес работает «в ноль»: его доходы равны расходам. Всё, что бизнес зарабатывает сверх значения в точке безубыточности, становится его прибылью."
   ]
  },
  {
   "cell_type": "markdown",
   "metadata": {},
   "source": [
    "Находится это значение по формуле:<br> \n",
    "$\\Huge  x = {budget \\over income}$"
   ]
  },
  {
   "cell_type": "code",
   "execution_count": 2,
   "metadata": {},
   "outputs": [
    {
     "name": "stdout",
     "output_type": "stream",
     "text": [
      "Для работы \"в ноль\" необходимо  22222 тыс.баррелей\n"
     ]
    }
   ],
   "source": [
    "CVP = BUDGET / INCOME_PER_BARREL\n",
    "print('Для работы \"в ноль\" необходимо  {0:.0f} тыс.баррелей'.format(CVP))"
   ]
  },
  {
   "cell_type": "code",
   "execution_count": 19,
   "metadata": {},
   "outputs": [
    {
     "name": "stdout",
     "output_type": "stream",
     "text": [
      "Средний объем нефти в скважине для безубыточного функционирования: 111 тыс.баррелей\n"
     ]
    }
   ],
   "source": [
    "print(\"Средний объем нефти в скважине для безубыточного функционирования: {0:.0f} тыс.баррелей\".format(CVP/200))"
   ]
  },
  {
   "cell_type": "markdown",
   "metadata": {},
   "source": [
    "Объема нефти в скважинах значительно меньше, чем точка безубыточности. "
   ]
  },
  {
   "cell_type": "markdown",
   "metadata": {},
   "source": [
    "## Расчёт прибыли и рисков "
   ]
  },
  {
   "cell_type": "code",
   "execution_count": 20,
   "metadata": {},
   "outputs": [],
   "source": [
    "state = np.random.RandomState(12345)"
   ]
  },
  {
   "cell_type": "code",
   "execution_count": 21,
   "metadata": {},
   "outputs": [],
   "source": [
    "EXPL = 500"
   ]
  },
  {
   "cell_type": "code",
   "execution_count": 22,
   "metadata": {},
   "outputs": [],
   "source": [
    "count_of_wells = 200"
   ]
  },
  {
   "cell_type": "code",
   "execution_count": 23,
   "metadata": {},
   "outputs": [],
   "source": [
    "TOP = 200"
   ]
  },
  {
   "cell_type": "code",
   "execution_count": 24,
   "metadata": {},
   "outputs": [],
   "source": [
    "#функция для расчета прибыли с 200 лучших скважин\n",
    "def profit(predictions, target):\n",
    "    top_preds = predictions.sort_values(ascending=False)\n",
    "    top_target = target[top_preds.index][:TOP]\n",
    "    revenue = top_target.sum() * income_per_barrel\n",
    "    return revenue - budget"
   ]
  },
  {
   "cell_type": "code",
   "execution_count": 25,
   "metadata": {},
   "outputs": [],
   "source": [
    "def conf_interval_and_loss_risk(predictions, target):\n",
    "    values = []\n",
    "    for i in range(1000):\n",
    "        target_sample = target.sample(EXPL, replace=True, random_state=state)\n",
    "        predictions_sample = predictions[target_sample.index]\n",
    "        values.append(profit(predictions_sample, target_sample))\n",
    "        \n",
    "    valuess = pd.Series(values)\n",
    "    lower = valuess.quantile(0.025)\n",
    "    higher = valuess.quantile(0.975)\n",
    "    mean_revenue = valuess.mean()\n",
    "    confidence_interval = (lower, higher)\n",
    "    risk = st.percentileofscore(values, 0)\n",
    "    return (confidence_interval, mean_revenue, risk)"
   ]
  },
  {
   "cell_type": "code",
   "execution_count": 26,
   "metadata": {
    "scrolled": true
   },
   "outputs": [
    {
     "name": "stdout",
     "output_type": "stream",
     "text": [
      "Регион 1:\n",
      "Средняя прибыль: 458100401.80\n",
      "95% доверительный интервал: (-91938453.32589239, 1015824888.6825125)\n",
      "Риск убытков: 4.60\n",
      "\n",
      "Регион 2:\n",
      "Средняя прибыль: 533056709.60\n",
      "95% доверительный интервал: (99430448.40112402, 973064424.8886511)\n",
      "Риск убытков: 0.60\n",
      "\n",
      "Регион 3:\n",
      "Средняя прибыль: 411076672.56\n",
      "95% доверительный интервал: (-138944979.6146276, 959378918.3216925)\n",
      "Риск убытков: 7.20\n",
      "\n"
     ]
    }
   ],
   "source": [
    "reg = 1\n",
    "for preds, target in zip([predictions_1, predictions_2, predictions_3], \n",
    "                         [validation_1, validation_2, validation_3]):\n",
    "    interval, mean_revenue, risk = conf_interval_and_loss_risk(preds, target)\n",
    "    print(f\"Регион {reg}:\")\n",
    "    print(\"Средняя прибыль: {0:.2f}\".format(mean_revenue))\n",
    "    print(\"95% доверительный интервал: {}\".format(interval))\n",
    "    print(\"Риск убытков: {0:.2f}\".format(risk))\n",
    "    print()\n",
    "    reg+=1"
   ]
  },
  {
   "cell_type": "markdown",
   "metadata": {},
   "source": [
    "Учитывая задачу отобрать регион, для которого риск убытков менее 2.5%, то регион 1 и регион 3 не подходят."
   ]
  },
  {
   "cell_type": "markdown",
   "metadata": {},
   "source": [
    "***Вывод:*** <br>\n",
    "- Датасеты с данными по регионам изучили, проверили на дубликаты, нулевые значения, посмотрели корреляцию признаков к целевому признаку\n",
    "- Обучили модели для каждого региона и для региона 2 значения RMSE оказались лучшими. RMSE: 0.89\n",
    "- Обнаружили, что средний объем нефти в скважине для безубыточного функционирования: 111 тыс.баррелей, что выше среднего по 500 скважинам любого из регионов.\n",
    "- Провели подсчеты по лучшим 200 скважинам в каждом регионе и методом бутстреп нашли 95% доверительный интервал, среднюю прибыль и риск убытков.\n",
    "- Единственный регион, который удовлетворял нашему заданному риску убытков в 2.5% - это второй. "
   ]
  }
 ],
 "metadata": {
  "ExecuteTimeLog": [
   {
    "duration": 428,
    "start_time": "2023-04-03T09:44:37.000Z"
   },
   {
    "duration": 1709,
    "start_time": "2023-04-03T09:44:37.430Z"
   },
   {
    "duration": 34,
    "start_time": "2023-04-03T09:44:54.988Z"
   },
   {
    "duration": 57,
    "start_time": "2023-04-03T09:45:05.130Z"
   },
   {
    "duration": 49,
    "start_time": "2023-04-03T09:45:19.103Z"
   },
   {
    "duration": 19,
    "start_time": "2023-04-03T09:45:34.538Z"
   },
   {
    "duration": 45,
    "start_time": "2023-04-03T09:45:35.431Z"
   },
   {
    "duration": 16,
    "start_time": "2023-04-03T09:45:48.848Z"
   },
   {
    "duration": 14,
    "start_time": "2023-04-03T09:46:11.792Z"
   },
   {
    "duration": 1540,
    "start_time": "2023-04-03T09:48:43.339Z"
   },
   {
    "duration": 143,
    "start_time": "2023-04-03T09:49:04.602Z"
   },
   {
    "duration": 22,
    "start_time": "2023-04-03T09:49:10.503Z"
   },
   {
    "duration": 2405,
    "start_time": "2023-04-05T14:31:48.491Z"
   },
   {
    "duration": 135,
    "start_time": "2023-04-05T14:43:04.434Z"
   },
   {
    "duration": 1864,
    "start_time": "2023-04-05T14:43:08.950Z"
   },
   {
    "duration": 17,
    "start_time": "2023-04-05T14:43:10.816Z"
   },
   {
    "duration": 39,
    "start_time": "2023-04-05T14:43:16.454Z"
   },
   {
    "duration": 43,
    "start_time": "2023-04-05T14:43:28.497Z"
   },
   {
    "duration": 60,
    "start_time": "2023-04-05T14:44:12.874Z"
   },
   {
    "duration": 63,
    "start_time": "2023-04-05T14:44:21.031Z"
   },
   {
    "duration": 41,
    "start_time": "2023-04-05T14:44:42.705Z"
   },
   {
    "duration": 8,
    "start_time": "2023-04-05T14:44:45.941Z"
   },
   {
    "duration": 60,
    "start_time": "2023-04-05T14:45:05.535Z"
   },
   {
    "duration": 49,
    "start_time": "2023-04-05T14:45:20.337Z"
   },
   {
    "duration": 48,
    "start_time": "2023-04-05T14:46:25.907Z"
   },
   {
    "duration": 41,
    "start_time": "2023-04-05T14:46:41.010Z"
   },
   {
    "duration": 45,
    "start_time": "2023-04-05T14:46:46.609Z"
   },
   {
    "duration": 47,
    "start_time": "2023-04-05T14:47:00.794Z"
   },
   {
    "duration": 1431,
    "start_time": "2023-04-05T14:50:40.125Z"
   },
   {
    "duration": 363,
    "start_time": "2023-04-05T14:50:41.558Z"
   },
   {
    "duration": 82,
    "start_time": "2023-04-05T14:50:41.923Z"
   },
   {
    "duration": 58,
    "start_time": "2023-04-05T14:50:42.007Z"
   },
   {
    "duration": 70,
    "start_time": "2023-04-05T14:50:42.066Z"
   },
   {
    "duration": 1145,
    "start_time": "2023-04-05T14:57:18.107Z"
   },
   {
    "duration": 6,
    "start_time": "2023-04-05T14:57:51.811Z"
   },
   {
    "duration": 939,
    "start_time": "2023-04-05T14:58:08.200Z"
   },
   {
    "duration": 66,
    "start_time": "2023-04-05T15:01:04.666Z"
   },
   {
    "duration": 145,
    "start_time": "2023-04-05T15:01:19.796Z"
   },
   {
    "duration": 15,
    "start_time": "2023-04-05T15:02:27.641Z"
   },
   {
    "duration": 24,
    "start_time": "2023-04-05T15:02:53.264Z"
   },
   {
    "duration": 10,
    "start_time": "2023-04-05T15:03:08.802Z"
   },
   {
    "duration": 12,
    "start_time": "2023-04-05T15:03:34.999Z"
   },
   {
    "duration": 14,
    "start_time": "2023-04-05T15:03:41.931Z"
   },
   {
    "duration": 15,
    "start_time": "2023-04-05T15:03:48.010Z"
   },
   {
    "duration": 14,
    "start_time": "2023-04-05T15:04:41.296Z"
   },
   {
    "duration": 13,
    "start_time": "2023-04-05T15:07:58.799Z"
   },
   {
    "duration": 13,
    "start_time": "2023-04-05T15:07:59.106Z"
   },
   {
    "duration": 12,
    "start_time": "2023-04-05T15:08:00.061Z"
   },
   {
    "duration": 12,
    "start_time": "2023-04-05T15:08:08.736Z"
   },
   {
    "duration": 12,
    "start_time": "2023-04-05T15:08:09.037Z"
   },
   {
    "duration": 11,
    "start_time": "2023-04-05T15:08:09.426Z"
   },
   {
    "duration": 5,
    "start_time": "2023-04-05T15:33:17.163Z"
   },
   {
    "duration": 6,
    "start_time": "2023-04-05T15:34:44.901Z"
   },
   {
    "duration": 5,
    "start_time": "2023-04-05T15:36:07.547Z"
   },
   {
    "duration": 7,
    "start_time": "2023-04-05T15:50:08.144Z"
   },
   {
    "duration": 7,
    "start_time": "2023-04-05T15:51:12.205Z"
   },
   {
    "duration": 69,
    "start_time": "2023-04-05T15:51:34.906Z"
   },
   {
    "duration": 19,
    "start_time": "2023-04-05T15:51:39.299Z"
   },
   {
    "duration": 21,
    "start_time": "2023-04-05T15:51:46.731Z"
   },
   {
    "duration": 10,
    "start_time": "2023-04-05T15:52:11.375Z"
   },
   {
    "duration": 38,
    "start_time": "2023-04-05T15:52:16.701Z"
   },
   {
    "duration": 144,
    "start_time": "2023-04-05T15:52:17.447Z"
   },
   {
    "duration": 5,
    "start_time": "2023-04-05T15:53:32.615Z"
   },
   {
    "duration": 183,
    "start_time": "2023-04-05T15:53:33.614Z"
   },
   {
    "duration": 7,
    "start_time": "2023-04-05T15:54:09.447Z"
   },
   {
    "duration": 101,
    "start_time": "2023-04-05T15:54:10.122Z"
   },
   {
    "duration": 7,
    "start_time": "2023-04-05T15:54:36.258Z"
   },
   {
    "duration": 169,
    "start_time": "2023-04-05T15:54:36.732Z"
   },
   {
    "duration": 8,
    "start_time": "2023-04-05T15:55:00.245Z"
   },
   {
    "duration": 167,
    "start_time": "2023-04-05T15:55:00.738Z"
   },
   {
    "duration": 18,
    "start_time": "2023-04-05T15:55:23.011Z"
   },
   {
    "duration": 179,
    "start_time": "2023-04-05T15:55:23.602Z"
   },
   {
    "duration": 8,
    "start_time": "2023-04-05T15:55:39.532Z"
   },
   {
    "duration": 119,
    "start_time": "2023-04-05T15:55:40.260Z"
   },
   {
    "duration": 16,
    "start_time": "2023-04-05T15:56:16.199Z"
   },
   {
    "duration": 69,
    "start_time": "2023-04-05T15:56:16.421Z"
   },
   {
    "duration": 8,
    "start_time": "2023-04-05T15:56:57.229Z"
   },
   {
    "duration": 41,
    "start_time": "2023-04-05T15:56:57.402Z"
   },
   {
    "duration": 6,
    "start_time": "2023-04-05T15:58:22.620Z"
   },
   {
    "duration": 174,
    "start_time": "2023-04-05T15:58:22.799Z"
   },
   {
    "duration": 14,
    "start_time": "2023-04-05T15:59:15.656Z"
   },
   {
    "duration": 536,
    "start_time": "2023-04-05T15:59:35.150Z"
   },
   {
    "duration": 7,
    "start_time": "2023-04-05T16:03:06.008Z"
   },
   {
    "duration": 24,
    "start_time": "2023-04-05T16:03:06.619Z"
   },
   {
    "duration": 8,
    "start_time": "2023-04-05T16:03:11.449Z"
   },
   {
    "duration": 84,
    "start_time": "2023-04-05T16:03:12.399Z"
   },
   {
    "duration": 87,
    "start_time": "2023-04-05T16:03:33.734Z"
   },
   {
    "duration": 89,
    "start_time": "2023-04-05T16:03:33.900Z"
   },
   {
    "duration": 7,
    "start_time": "2023-04-05T16:03:42.997Z"
   },
   {
    "duration": 40,
    "start_time": "2023-04-05T16:03:43.169Z"
   },
   {
    "duration": 251,
    "start_time": "2023-04-05T16:03:47.234Z"
   },
   {
    "duration": 7,
    "start_time": "2023-04-05T16:04:20.807Z"
   },
   {
    "duration": 85,
    "start_time": "2023-04-05T16:04:21.098Z"
   },
   {
    "duration": 340,
    "start_time": "2023-04-05T16:04:26.151Z"
   },
   {
    "duration": 8,
    "start_time": "2023-04-05T16:04:38.197Z"
   },
   {
    "duration": 165,
    "start_time": "2023-04-05T16:04:39.424Z"
   },
   {
    "duration": 338,
    "start_time": "2023-04-05T16:04:40.367Z"
   },
   {
    "duration": 147,
    "start_time": "2023-04-05T16:04:51.962Z"
   },
   {
    "duration": 273,
    "start_time": "2023-04-05T16:05:09.924Z"
   },
   {
    "duration": 6,
    "start_time": "2023-04-05T16:05:21.335Z"
   },
   {
    "duration": 348,
    "start_time": "2023-04-05T16:05:22.059Z"
   },
   {
    "duration": 5,
    "start_time": "2023-04-05T16:06:05.035Z"
   },
   {
    "duration": 262,
    "start_time": "2023-04-05T16:06:05.511Z"
   },
   {
    "duration": 21,
    "start_time": "2023-04-05T16:06:44.869Z"
   },
   {
    "duration": 346,
    "start_time": "2023-04-05T16:06:55.558Z"
   },
   {
    "duration": 8,
    "start_time": "2023-04-05T16:07:10.897Z"
   },
   {
    "duration": 205,
    "start_time": "2023-04-05T16:07:11.599Z"
   },
   {
    "duration": 7,
    "start_time": "2023-04-05T16:11:56.507Z"
   },
   {
    "duration": 348,
    "start_time": "2023-04-05T16:11:57.253Z"
   },
   {
    "duration": 5,
    "start_time": "2023-04-05T16:12:05.451Z"
   },
   {
    "duration": 383,
    "start_time": "2023-04-05T16:12:07.714Z"
   },
   {
    "duration": 1492,
    "start_time": "2023-04-05T16:12:23.764Z"
   },
   {
    "duration": 455,
    "start_time": "2023-04-05T16:12:25.258Z"
   },
   {
    "duration": 94,
    "start_time": "2023-04-05T16:12:25.715Z"
   },
   {
    "duration": 51,
    "start_time": "2023-04-05T16:12:25.811Z"
   },
   {
    "duration": 71,
    "start_time": "2023-04-05T16:12:25.864Z"
   },
   {
    "duration": 15,
    "start_time": "2023-04-05T16:12:25.937Z"
   },
   {
    "duration": 20,
    "start_time": "2023-04-05T16:12:25.954Z"
   },
   {
    "duration": 30,
    "start_time": "2023-04-05T16:12:25.975Z"
   },
   {
    "duration": 30,
    "start_time": "2023-04-05T16:12:26.007Z"
   },
   {
    "duration": 545,
    "start_time": "2023-04-05T16:12:26.040Z"
   },
   {
    "duration": 5,
    "start_time": "2023-04-05T16:12:37.203Z"
   },
   {
    "duration": 260,
    "start_time": "2023-04-05T16:12:37.950Z"
   },
   {
    "duration": 5,
    "start_time": "2023-04-05T16:12:51.815Z"
   },
   {
    "duration": 419,
    "start_time": "2023-04-05T16:12:52.286Z"
   },
   {
    "duration": 12,
    "start_time": "2023-04-05T16:14:14.098Z"
   },
   {
    "duration": 414,
    "start_time": "2023-04-05T16:14:15.168Z"
   },
   {
    "duration": 9,
    "start_time": "2023-04-05T16:14:19.596Z"
   },
   {
    "duration": 401,
    "start_time": "2023-04-05T16:14:20.196Z"
   },
   {
    "duration": 317,
    "start_time": "2023-04-05T16:15:26.290Z"
   },
   {
    "duration": 5,
    "start_time": "2023-04-05T16:15:58.719Z"
   },
   {
    "duration": 388,
    "start_time": "2023-04-05T16:15:59.391Z"
   },
   {
    "duration": 354,
    "start_time": "2023-04-05T16:16:29.060Z"
   },
   {
    "duration": 59,
    "start_time": "2023-04-05T16:17:34.026Z"
   },
   {
    "duration": 31,
    "start_time": "2023-04-05T16:17:46.320Z"
   },
   {
    "duration": 118,
    "start_time": "2023-04-05T16:18:18.267Z"
   },
   {
    "duration": 38,
    "start_time": "2023-04-05T16:18:33.347Z"
   },
   {
    "duration": 36,
    "start_time": "2023-04-05T16:18:34.691Z"
   },
   {
    "duration": 268,
    "start_time": "2023-04-05T16:20:49.807Z"
   },
   {
    "duration": 403,
    "start_time": "2023-04-05T16:21:18.678Z"
   },
   {
    "duration": 3,
    "start_time": "2023-04-05T16:43:45.602Z"
   },
   {
    "duration": 4,
    "start_time": "2023-04-05T16:57:33.998Z"
   },
   {
    "duration": 7,
    "start_time": "2023-04-05T16:59:08.594Z"
   },
   {
    "duration": 3,
    "start_time": "2023-04-05T16:59:33.833Z"
   },
   {
    "duration": 3,
    "start_time": "2023-04-05T17:00:28.922Z"
   },
   {
    "duration": 5,
    "start_time": "2023-04-05T17:02:21.899Z"
   },
   {
    "duration": 3,
    "start_time": "2023-04-05T17:05:35.715Z"
   },
   {
    "duration": 6,
    "start_time": "2023-04-05T17:26:12.174Z"
   },
   {
    "duration": 4,
    "start_time": "2023-04-05T17:27:03.363Z"
   },
   {
    "duration": 6,
    "start_time": "2023-04-05T17:33:16.036Z"
   },
   {
    "duration": 5,
    "start_time": "2023-04-05T17:33:39.070Z"
   },
   {
    "duration": 6,
    "start_time": "2023-04-05T17:39:32.576Z"
   },
   {
    "duration": 7,
    "start_time": "2023-04-05T17:45:57.591Z"
   },
   {
    "duration": 6,
    "start_time": "2023-04-05T17:47:11.570Z"
   },
   {
    "duration": 5,
    "start_time": "2023-04-05T17:47:11.746Z"
   },
   {
    "duration": 1554,
    "start_time": "2023-04-05T17:47:12.331Z"
   },
   {
    "duration": 7,
    "start_time": "2023-04-05T17:50:28.471Z"
   },
   {
    "duration": 1325,
    "start_time": "2023-04-05T17:50:29.894Z"
   },
   {
    "duration": 5,
    "start_time": "2023-04-05T17:50:38.307Z"
   },
   {
    "duration": 3919,
    "start_time": "2023-04-05T17:50:38.487Z"
   },
   {
    "duration": 6,
    "start_time": "2023-04-05T17:51:47.872Z"
   },
   {
    "duration": 4254,
    "start_time": "2023-04-05T17:51:48.072Z"
   },
   {
    "duration": 5,
    "start_time": "2023-04-05T17:52:19.125Z"
   },
   {
    "duration": 1297,
    "start_time": "2023-04-05T17:52:19.294Z"
   },
   {
    "duration": 5,
    "start_time": "2023-04-05T17:52:43.187Z"
   },
   {
    "duration": 1275,
    "start_time": "2023-04-05T17:52:43.392Z"
   },
   {
    "duration": 5,
    "start_time": "2023-04-05T17:52:51.188Z"
   },
   {
    "duration": 4392,
    "start_time": "2023-04-05T17:52:51.367Z"
   },
   {
    "duration": 6,
    "start_time": "2023-04-05T17:53:29.018Z"
   },
   {
    "duration": 3970,
    "start_time": "2023-04-05T17:53:29.211Z"
   },
   {
    "duration": 6,
    "start_time": "2023-04-05T17:54:15.358Z"
   },
   {
    "duration": 4124,
    "start_time": "2023-04-05T17:54:15.566Z"
   },
   {
    "duration": 6,
    "start_time": "2023-04-05T17:56:06.781Z"
   },
   {
    "duration": 3990,
    "start_time": "2023-04-05T17:56:06.926Z"
   },
   {
    "duration": 4,
    "start_time": "2023-04-05T17:57:16.024Z"
   },
   {
    "duration": 4317,
    "start_time": "2023-04-05T17:57:18.903Z"
   },
   {
    "duration": 3,
    "start_time": "2023-04-05T17:57:34.135Z"
   },
   {
    "duration": 6,
    "start_time": "2023-04-05T17:57:34.334Z"
   },
   {
    "duration": 4015,
    "start_time": "2023-04-05T17:57:34.809Z"
   },
   {
    "duration": 5,
    "start_time": "2023-04-05T17:58:46.557Z"
   },
   {
    "duration": 3944,
    "start_time": "2023-04-05T17:58:46.747Z"
   },
   {
    "duration": 4,
    "start_time": "2023-04-05T17:59:57.888Z"
   },
   {
    "duration": 4,
    "start_time": "2023-04-05T17:59:58.060Z"
   },
   {
    "duration": 3885,
    "start_time": "2023-04-05T17:59:58.248Z"
   },
   {
    "duration": 5,
    "start_time": "2023-04-05T18:06:59.804Z"
   },
   {
    "duration": 12,
    "start_time": "2023-04-05T18:07:54.226Z"
   },
   {
    "duration": 7,
    "start_time": "2023-04-05T18:08:40.991Z"
   },
   {
    "duration": 11,
    "start_time": "2023-04-05T18:08:41.306Z"
   },
   {
    "duration": 4,
    "start_time": "2023-04-05T18:09:01.762Z"
   },
   {
    "duration": 1461,
    "start_time": "2023-04-05T18:09:01.940Z"
   },
   {
    "duration": 5,
    "start_time": "2023-04-05T18:09:36.747Z"
   },
   {
    "duration": 1310,
    "start_time": "2023-04-05T18:09:36.923Z"
   },
   {
    "duration": 6,
    "start_time": "2023-04-05T18:09:57.710Z"
   },
   {
    "duration": 1446,
    "start_time": "2023-04-05T18:09:57.871Z"
   },
   {
    "duration": 6,
    "start_time": "2023-04-05T18:10:01.998Z"
   },
   {
    "duration": 1342,
    "start_time": "2023-04-05T18:10:02.191Z"
   },
   {
    "duration": 4,
    "start_time": "2023-04-05T18:12:05.047Z"
   },
   {
    "duration": 1332,
    "start_time": "2023-04-05T18:12:05.231Z"
   },
   {
    "duration": 4,
    "start_time": "2023-04-05T18:12:20.417Z"
   },
   {
    "duration": 1378,
    "start_time": "2023-04-05T18:12:20.611Z"
   },
   {
    "duration": 5,
    "start_time": "2023-04-05T18:12:29.805Z"
   },
   {
    "duration": 4,
    "start_time": "2023-04-05T18:12:39.127Z"
   },
   {
    "duration": 1300,
    "start_time": "2023-04-05T18:12:39.300Z"
   },
   {
    "duration": 11,
    "start_time": "2023-04-05T18:12:57.370Z"
   },
   {
    "duration": 1419,
    "start_time": "2023-04-05T18:12:57.539Z"
   },
   {
    "duration": 3,
    "start_time": "2023-04-05T18:14:09.251Z"
   },
   {
    "duration": 4,
    "start_time": "2023-04-05T18:14:09.432Z"
   },
   {
    "duration": 14,
    "start_time": "2023-04-05T18:14:09.598Z"
   },
   {
    "duration": 18,
    "start_time": "2023-04-05T18:14:23.070Z"
   },
   {
    "duration": 4,
    "start_time": "2023-04-05T18:14:23.253Z"
   },
   {
    "duration": 3906,
    "start_time": "2023-04-05T18:14:23.702Z"
   },
   {
    "duration": 1363,
    "start_time": "2023-04-05T18:14:33.561Z"
   },
   {
    "duration": 394,
    "start_time": "2023-04-05T18:14:34.926Z"
   },
   {
    "duration": 47,
    "start_time": "2023-04-05T18:14:35.321Z"
   },
   {
    "duration": 65,
    "start_time": "2023-04-05T18:14:35.370Z"
   },
   {
    "duration": 53,
    "start_time": "2023-04-05T18:14:35.436Z"
   },
   {
    "duration": 15,
    "start_time": "2023-04-05T18:14:35.490Z"
   },
   {
    "duration": 24,
    "start_time": "2023-04-05T18:14:35.507Z"
   },
   {
    "duration": 20,
    "start_time": "2023-04-05T18:14:35.533Z"
   },
   {
    "duration": 7,
    "start_time": "2023-04-05T18:14:35.555Z"
   },
   {
    "duration": 131,
    "start_time": "2023-04-05T18:14:35.565Z"
   },
   {
    "duration": 178,
    "start_time": "2023-04-05T18:14:35.700Z"
   },
   {
    "duration": 203,
    "start_time": "2023-04-05T18:14:35.880Z"
   },
   {
    "duration": 501,
    "start_time": "2023-04-05T18:14:36.084Z"
   },
   {
    "duration": 4,
    "start_time": "2023-04-05T18:14:36.590Z"
   },
   {
    "duration": 111,
    "start_time": "2023-04-05T18:14:36.600Z"
   },
   {
    "duration": 9,
    "start_time": "2023-04-05T18:14:36.713Z"
   },
   {
    "duration": 8,
    "start_time": "2023-04-05T18:14:36.723Z"
   },
   {
    "duration": 9,
    "start_time": "2023-04-05T18:14:36.733Z"
   },
   {
    "duration": 4086,
    "start_time": "2023-04-05T18:14:36.745Z"
   },
   {
    "duration": 126,
    "start_time": "2023-04-05T18:14:40.833Z"
   },
   {
    "duration": 7,
    "start_time": "2023-04-05T18:16:14.952Z"
   },
   {
    "duration": 4,
    "start_time": "2023-04-05T18:16:38.362Z"
   },
   {
    "duration": 4054,
    "start_time": "2023-04-05T18:16:38.603Z"
   },
   {
    "duration": 4,
    "start_time": "2023-04-05T18:17:42.554Z"
   },
   {
    "duration": 341,
    "start_time": "2023-04-05T18:17:43.203Z"
   },
   {
    "duration": 44,
    "start_time": "2023-04-05T18:17:43.822Z"
   },
   {
    "duration": 44,
    "start_time": "2023-04-05T18:17:44.003Z"
   },
   {
    "duration": 52,
    "start_time": "2023-04-05T18:17:44.230Z"
   },
   {
    "duration": 18,
    "start_time": "2023-04-05T18:17:44.995Z"
   },
   {
    "duration": 11,
    "start_time": "2023-04-05T18:17:45.537Z"
   },
   {
    "duration": 15,
    "start_time": "2023-04-05T18:17:45.978Z"
   },
   {
    "duration": 6,
    "start_time": "2023-04-05T18:17:47.934Z"
   },
   {
    "duration": 32,
    "start_time": "2023-04-05T18:17:48.603Z"
   },
   {
    "duration": 29,
    "start_time": "2023-04-05T18:17:49.326Z"
   },
   {
    "duration": 83,
    "start_time": "2023-04-05T18:17:50.194Z"
   },
   {
    "duration": 289,
    "start_time": "2023-04-05T18:17:50.838Z"
   },
   {
    "duration": 3,
    "start_time": "2023-04-05T18:17:53.743Z"
   },
   {
    "duration": 3,
    "start_time": "2023-04-05T18:17:54.663Z"
   },
   {
    "duration": 3,
    "start_time": "2023-04-05T18:17:54.948Z"
   },
   {
    "duration": 3,
    "start_time": "2023-04-05T18:17:55.927Z"
   },
   {
    "duration": 4,
    "start_time": "2023-04-05T18:17:56.252Z"
   },
   {
    "duration": 4153,
    "start_time": "2023-04-05T18:17:56.599Z"
   },
   {
    "duration": 3,
    "start_time": "2023-04-05T18:21:12.819Z"
   },
   {
    "duration": 4,
    "start_time": "2023-04-05T18:21:13.697Z"
   },
   {
    "duration": 4,
    "start_time": "2023-04-05T18:21:13.866Z"
   },
   {
    "duration": 3,
    "start_time": "2023-04-05T18:21:14.520Z"
   },
   {
    "duration": 4,
    "start_time": "2023-04-05T18:21:14.731Z"
   },
   {
    "duration": 4008,
    "start_time": "2023-04-05T18:21:14.916Z"
   },
   {
    "duration": 1295,
    "start_time": "2023-04-05T18:22:04.359Z"
   },
   {
    "duration": 383,
    "start_time": "2023-04-05T18:22:05.656Z"
   },
   {
    "duration": 61,
    "start_time": "2023-04-05T18:22:06.040Z"
   },
   {
    "duration": 59,
    "start_time": "2023-04-05T18:22:06.103Z"
   },
   {
    "duration": 62,
    "start_time": "2023-04-05T18:22:06.183Z"
   },
   {
    "duration": 11,
    "start_time": "2023-04-05T18:22:06.247Z"
   },
   {
    "duration": 21,
    "start_time": "2023-04-05T18:22:06.260Z"
   },
   {
    "duration": 35,
    "start_time": "2023-04-05T18:22:06.283Z"
   },
   {
    "duration": 6,
    "start_time": "2023-04-05T18:22:06.320Z"
   },
   {
    "duration": 155,
    "start_time": "2023-04-05T18:22:06.327Z"
   },
   {
    "duration": 114,
    "start_time": "2023-04-05T18:22:06.483Z"
   },
   {
    "duration": 184,
    "start_time": "2023-04-05T18:22:06.601Z"
   },
   {
    "duration": 398,
    "start_time": "2023-04-05T18:22:06.795Z"
   },
   {
    "duration": 3,
    "start_time": "2023-04-05T18:22:07.197Z"
   },
   {
    "duration": 146,
    "start_time": "2023-04-05T18:22:07.202Z"
   },
   {
    "duration": 12,
    "start_time": "2023-04-05T18:22:07.349Z"
   },
   {
    "duration": 58,
    "start_time": "2023-04-05T18:22:07.372Z"
   },
   {
    "duration": 53,
    "start_time": "2023-04-05T18:22:07.432Z"
   },
   {
    "duration": 4010,
    "start_time": "2023-04-05T18:22:07.487Z"
   },
   {
    "duration": 1438,
    "start_time": "2023-04-05T18:22:52.907Z"
   },
   {
    "duration": 412,
    "start_time": "2023-04-05T18:22:54.346Z"
   },
   {
    "duration": 63,
    "start_time": "2023-04-05T18:22:54.760Z"
   },
   {
    "duration": 70,
    "start_time": "2023-04-05T18:22:54.824Z"
   },
   {
    "duration": 51,
    "start_time": "2023-04-05T18:22:54.902Z"
   },
   {
    "duration": 12,
    "start_time": "2023-04-05T18:22:54.955Z"
   },
   {
    "duration": 25,
    "start_time": "2023-04-05T18:22:54.969Z"
   },
   {
    "duration": 35,
    "start_time": "2023-04-05T18:22:54.995Z"
   },
   {
    "duration": 9,
    "start_time": "2023-04-05T18:22:55.033Z"
   },
   {
    "duration": 51,
    "start_time": "2023-04-05T18:22:55.044Z"
   },
   {
    "duration": 286,
    "start_time": "2023-04-05T18:22:55.102Z"
   },
   {
    "duration": 119,
    "start_time": "2023-04-05T18:22:55.390Z"
   },
   {
    "duration": 564,
    "start_time": "2023-04-05T18:22:55.522Z"
   },
   {
    "duration": 9,
    "start_time": "2023-04-05T18:22:56.094Z"
   },
   {
    "duration": 103,
    "start_time": "2023-04-05T18:22:56.106Z"
   },
   {
    "duration": 4,
    "start_time": "2023-04-05T18:22:56.211Z"
   },
   {
    "duration": 4,
    "start_time": "2023-04-05T18:22:56.216Z"
   },
   {
    "duration": 8,
    "start_time": "2023-04-05T18:22:56.221Z"
   },
   {
    "duration": 4288,
    "start_time": "2023-04-05T18:22:56.230Z"
   },
   {
    "duration": 5,
    "start_time": "2023-04-05T18:23:20.744Z"
   },
   {
    "duration": 1284,
    "start_time": "2023-04-05T18:23:25.314Z"
   },
   {
    "duration": 354,
    "start_time": "2023-04-05T18:23:26.600Z"
   },
   {
    "duration": 54,
    "start_time": "2023-04-05T18:23:26.955Z"
   },
   {
    "duration": 43,
    "start_time": "2023-04-05T18:23:27.011Z"
   },
   {
    "duration": 65,
    "start_time": "2023-04-05T18:23:27.055Z"
   },
   {
    "duration": 11,
    "start_time": "2023-04-05T18:23:27.122Z"
   },
   {
    "duration": 11,
    "start_time": "2023-04-05T18:23:27.134Z"
   },
   {
    "duration": 55,
    "start_time": "2023-04-05T18:23:27.146Z"
   },
   {
    "duration": 5,
    "start_time": "2023-04-05T18:23:27.204Z"
   },
   {
    "duration": 78,
    "start_time": "2023-04-05T18:23:27.211Z"
   },
   {
    "duration": 110,
    "start_time": "2023-04-05T18:23:27.302Z"
   },
   {
    "duration": 194,
    "start_time": "2023-04-05T18:23:27.414Z"
   },
   {
    "duration": 392,
    "start_time": "2023-04-05T18:23:27.610Z"
   },
   {
    "duration": 68,
    "start_time": "2023-04-05T18:23:28.010Z"
   },
   {
    "duration": 126,
    "start_time": "2023-04-05T18:23:28.079Z"
   },
   {
    "duration": 5,
    "start_time": "2023-04-05T18:23:28.207Z"
   },
   {
    "duration": 5,
    "start_time": "2023-04-05T18:23:28.213Z"
   },
   {
    "duration": 6,
    "start_time": "2023-04-05T18:23:28.220Z"
   },
   {
    "duration": 3943,
    "start_time": "2023-04-05T18:23:28.227Z"
   },
   {
    "duration": 6,
    "start_time": "2023-04-05T18:26:45.650Z"
   },
   {
    "duration": 131,
    "start_time": "2023-04-05T18:26:46.658Z"
   },
   {
    "duration": 44,
    "start_time": "2023-04-05T18:26:47.160Z"
   },
   {
    "duration": 32,
    "start_time": "2023-04-05T18:26:47.610Z"
   },
   {
    "duration": 449,
    "start_time": "2023-04-05T18:26:47.831Z"
   },
   {
    "duration": 3,
    "start_time": "2023-04-05T18:26:48.695Z"
   },
   {
    "duration": 4,
    "start_time": "2023-04-05T18:26:49.395Z"
   },
   {
    "duration": 4,
    "start_time": "2023-04-05T18:26:49.600Z"
   },
   {
    "duration": 3,
    "start_time": "2023-04-05T18:26:50.135Z"
   },
   {
    "duration": 4,
    "start_time": "2023-04-05T18:26:50.353Z"
   },
   {
    "duration": 4147,
    "start_time": "2023-04-05T18:26:50.568Z"
   },
   {
    "duration": 3,
    "start_time": "2023-04-05T18:27:26.399Z"
   },
   {
    "duration": 3,
    "start_time": "2023-04-05T18:27:26.598Z"
   },
   {
    "duration": 4,
    "start_time": "2023-04-05T18:27:26.799Z"
   },
   {
    "duration": 3300,
    "start_time": "2023-04-05T18:27:27.114Z"
   },
   {
    "duration": 3,
    "start_time": "2023-04-05T18:27:40.443Z"
   },
   {
    "duration": 3,
    "start_time": "2023-04-05T18:27:40.646Z"
   },
   {
    "duration": 4,
    "start_time": "2023-04-05T18:27:40.849Z"
   },
   {
    "duration": 3008,
    "start_time": "2023-04-05T18:27:41.122Z"
   },
   {
    "duration": 4,
    "start_time": "2023-04-05T18:35:06.758Z"
   },
   {
    "duration": 4,
    "start_time": "2023-04-05T18:35:07.037Z"
   },
   {
    "duration": 1113,
    "start_time": "2023-04-05T18:35:07.401Z"
   },
   {
    "duration": 4,
    "start_time": "2023-04-05T18:35:20.376Z"
   },
   {
    "duration": 5,
    "start_time": "2023-04-05T18:35:20.626Z"
   },
   {
    "duration": 1154,
    "start_time": "2023-04-05T18:35:21.071Z"
   },
   {
    "duration": 3,
    "start_time": "2023-04-05T18:35:33.280Z"
   },
   {
    "duration": 5,
    "start_time": "2023-04-05T18:35:33.494Z"
   },
   {
    "duration": 1139,
    "start_time": "2023-04-05T18:35:33.917Z"
   },
   {
    "duration": 1294,
    "start_time": "2023-04-05T18:35:46.319Z"
   },
   {
    "duration": 1333,
    "start_time": "2023-04-05T18:35:55.352Z"
   },
   {
    "duration": 1194,
    "start_time": "2023-04-05T18:44:33.515Z"
   },
   {
    "duration": 314,
    "start_time": "2023-04-05T18:44:34.711Z"
   },
   {
    "duration": 64,
    "start_time": "2023-04-05T18:44:35.027Z"
   },
   {
    "duration": 46,
    "start_time": "2023-04-05T18:44:35.094Z"
   },
   {
    "duration": 74,
    "start_time": "2023-04-05T18:44:35.141Z"
   },
   {
    "duration": 14,
    "start_time": "2023-04-05T18:44:35.216Z"
   },
   {
    "duration": 13,
    "start_time": "2023-04-05T18:44:35.232Z"
   },
   {
    "duration": 31,
    "start_time": "2023-04-05T18:44:35.246Z"
   },
   {
    "duration": 8,
    "start_time": "2023-04-05T18:44:35.279Z"
   },
   {
    "duration": 93,
    "start_time": "2023-04-05T18:44:35.289Z"
   },
   {
    "duration": 123,
    "start_time": "2023-04-05T18:44:35.385Z"
   },
   {
    "duration": 110,
    "start_time": "2023-04-05T18:44:35.571Z"
   },
   {
    "duration": 501,
    "start_time": "2023-04-05T18:44:35.683Z"
   },
   {
    "duration": 88,
    "start_time": "2023-04-05T18:44:36.185Z"
   },
   {
    "duration": 105,
    "start_time": "2023-04-05T18:44:36.274Z"
   },
   {
    "duration": 4,
    "start_time": "2023-04-05T18:44:36.381Z"
   },
   {
    "duration": 4,
    "start_time": "2023-04-05T18:44:36.387Z"
   },
   {
    "duration": 4,
    "start_time": "2023-04-05T18:44:36.393Z"
   },
   {
    "duration": 6,
    "start_time": "2023-04-05T18:44:36.398Z"
   },
   {
    "duration": 1182,
    "start_time": "2023-04-05T18:44:36.406Z"
   },
   {
    "duration": 1127,
    "start_time": "2023-04-05T18:44:51.338Z"
   },
   {
    "duration": 1004,
    "start_time": "2023-04-05T18:44:59.908Z"
   },
   {
    "duration": 101,
    "start_time": "2023-04-05T18:46:56.394Z"
   },
   {
    "duration": 43,
    "start_time": "2023-04-05T18:47:37.618Z"
   },
   {
    "duration": 12,
    "start_time": "2023-04-05T18:47:45.753Z"
   },
   {
    "duration": 13,
    "start_time": "2023-04-05T18:47:56.351Z"
   },
   {
    "duration": 3390,
    "start_time": "2023-04-05T18:48:13.143Z"
   },
   {
    "duration": 3211,
    "start_time": "2023-04-05T18:49:14.994Z"
   },
   {
    "duration": 3445,
    "start_time": "2023-04-05T18:52:22.407Z"
   },
   {
    "duration": 5,
    "start_time": "2023-04-05T18:52:50.279Z"
   },
   {
    "duration": 75,
    "start_time": "2023-04-05T18:53:03.126Z"
   },
   {
    "duration": 3293,
    "start_time": "2023-04-05T18:53:12.062Z"
   },
   {
    "duration": 78,
    "start_time": "2023-04-05T18:53:27.498Z"
   },
   {
    "duration": 1194,
    "start_time": "2023-04-05T18:53:39.170Z"
   },
   {
    "duration": 4154,
    "start_time": "2023-04-05T18:54:00.119Z"
   },
   {
    "duration": 3313,
    "start_time": "2023-04-05T18:54:50.869Z"
   },
   {
    "duration": 3271,
    "start_time": "2023-04-05T18:55:00.443Z"
   },
   {
    "duration": 3279,
    "start_time": "2023-04-05T18:55:18.399Z"
   },
   {
    "duration": 3279,
    "start_time": "2023-04-05T18:56:12.456Z"
   },
   {
    "duration": 4,
    "start_time": "2023-04-05T18:57:28.984Z"
   },
   {
    "duration": 47,
    "start_time": "2023-04-05T18:57:31.562Z"
   },
   {
    "duration": 46,
    "start_time": "2023-04-05T18:57:44.569Z"
   },
   {
    "duration": 48,
    "start_time": "2023-04-05T18:57:59.462Z"
   },
   {
    "duration": 46,
    "start_time": "2023-04-05T18:58:17.614Z"
   },
   {
    "duration": 49,
    "start_time": "2023-04-05T18:58:17.769Z"
   },
   {
    "duration": 52,
    "start_time": "2023-04-05T18:59:06.933Z"
   },
   {
    "duration": 1223,
    "start_time": "2023-04-05T19:19:16.197Z"
   },
   {
    "duration": 320,
    "start_time": "2023-04-05T19:19:17.422Z"
   },
   {
    "duration": 56,
    "start_time": "2023-04-05T19:19:17.744Z"
   },
   {
    "duration": 43,
    "start_time": "2023-04-05T19:19:17.802Z"
   },
   {
    "duration": 61,
    "start_time": "2023-04-05T19:19:17.847Z"
   },
   {
    "duration": 43,
    "start_time": "2023-04-05T19:19:17.909Z"
   },
   {
    "duration": 58,
    "start_time": "2023-04-05T19:19:17.954Z"
   },
   {
    "duration": 59,
    "start_time": "2023-04-05T19:19:18.014Z"
   },
   {
    "duration": 12,
    "start_time": "2023-04-05T19:19:18.074Z"
   },
   {
    "duration": 11,
    "start_time": "2023-04-05T19:19:18.087Z"
   },
   {
    "duration": 16,
    "start_time": "2023-04-05T19:19:18.099Z"
   },
   {
    "duration": 5,
    "start_time": "2023-04-05T19:19:18.117Z"
   },
   {
    "duration": 62,
    "start_time": "2023-04-05T19:19:18.124Z"
   },
   {
    "duration": 200,
    "start_time": "2023-04-05T19:19:18.189Z"
   },
   {
    "duration": 198,
    "start_time": "2023-04-05T19:19:18.391Z"
   },
   {
    "duration": 587,
    "start_time": "2023-04-05T19:19:18.591Z"
   },
   {
    "duration": 93,
    "start_time": "2023-04-05T19:19:19.180Z"
   },
   {
    "duration": 94,
    "start_time": "2023-04-05T19:19:19.279Z"
   },
   {
    "duration": 7,
    "start_time": "2023-04-05T19:19:19.375Z"
   },
   {
    "duration": 4,
    "start_time": "2023-04-05T19:19:19.384Z"
   },
   {
    "duration": 9,
    "start_time": "2023-04-05T19:19:19.389Z"
   },
   {
    "duration": 5,
    "start_time": "2023-04-05T19:19:19.399Z"
   },
   {
    "duration": 3348,
    "start_time": "2023-04-05T19:19:19.405Z"
   },
   {
    "duration": 4,
    "start_time": "2023-04-06T14:35:11.368Z"
   },
   {
    "duration": 377,
    "start_time": "2023-04-06T14:35:11.382Z"
   },
   {
    "duration": 62,
    "start_time": "2023-04-06T14:35:11.760Z"
   },
   {
    "duration": 64,
    "start_time": "2023-04-06T14:35:11.824Z"
   },
   {
    "duration": 68,
    "start_time": "2023-04-06T14:35:11.891Z"
   },
   {
    "duration": 64,
    "start_time": "2023-04-06T14:35:11.961Z"
   },
   {
    "duration": 73,
    "start_time": "2023-04-06T14:35:12.027Z"
   },
   {
    "duration": 51,
    "start_time": "2023-04-06T14:35:12.102Z"
   },
   {
    "duration": 31,
    "start_time": "2023-04-06T14:35:12.155Z"
   },
   {
    "duration": 40,
    "start_time": "2023-04-06T14:35:12.188Z"
   },
   {
    "duration": 22,
    "start_time": "2023-04-06T14:35:12.230Z"
   },
   {
    "duration": 19,
    "start_time": "2023-04-06T14:35:12.254Z"
   },
   {
    "duration": 106,
    "start_time": "2023-04-06T14:35:12.276Z"
   },
   {
    "duration": 204,
    "start_time": "2023-04-06T14:35:12.385Z"
   },
   {
    "duration": 191,
    "start_time": "2023-04-06T14:35:12.593Z"
   },
   {
    "duration": 517,
    "start_time": "2023-04-06T14:35:12.787Z"
   },
   {
    "duration": 4,
    "start_time": "2023-04-06T14:35:13.385Z"
   },
   {
    "duration": 94,
    "start_time": "2023-04-06T14:35:13.391Z"
   },
   {
    "duration": 15,
    "start_time": "2023-04-06T14:35:13.487Z"
   },
   {
    "duration": 35,
    "start_time": "2023-04-06T14:35:13.504Z"
   },
   {
    "duration": 13,
    "start_time": "2023-04-06T14:35:13.541Z"
   },
   {
    "duration": 19,
    "start_time": "2023-04-06T14:35:13.556Z"
   },
   {
    "duration": 3927,
    "start_time": "2023-04-06T14:35:13.577Z"
   },
   {
    "duration": 1876,
    "start_time": "2023-04-06T14:58:29.132Z"
   },
   {
    "duration": 1726,
    "start_time": "2023-04-06T14:58:31.010Z"
   },
   {
    "duration": 72,
    "start_time": "2023-04-06T14:58:32.738Z"
   },
   {
    "duration": 53,
    "start_time": "2023-04-06T14:58:32.812Z"
   },
   {
    "duration": 64,
    "start_time": "2023-04-06T14:58:32.867Z"
   },
   {
    "duration": 81,
    "start_time": "2023-04-06T14:58:32.932Z"
   },
   {
    "duration": 51,
    "start_time": "2023-04-06T14:58:33.015Z"
   },
   {
    "duration": 71,
    "start_time": "2023-04-06T14:58:33.068Z"
   },
   {
    "duration": 13,
    "start_time": "2023-04-06T14:58:33.140Z"
   },
   {
    "duration": 34,
    "start_time": "2023-04-06T14:58:33.155Z"
   },
   {
    "duration": 16,
    "start_time": "2023-04-06T14:58:33.193Z"
   },
   {
    "duration": 10,
    "start_time": "2023-04-06T14:58:33.211Z"
   },
   {
    "duration": 166,
    "start_time": "2023-04-06T14:58:33.223Z"
   },
   {
    "duration": 197,
    "start_time": "2023-04-06T14:58:33.391Z"
   },
   {
    "duration": 198,
    "start_time": "2023-04-06T14:58:33.591Z"
   },
   {
    "duration": 601,
    "start_time": "2023-04-06T14:58:33.793Z"
   },
   {
    "duration": 5,
    "start_time": "2023-04-06T14:58:34.396Z"
   },
   {
    "duration": 103,
    "start_time": "2023-04-06T14:58:34.403Z"
   },
   {
    "duration": 9,
    "start_time": "2023-04-06T14:58:34.508Z"
   },
   {
    "duration": 7,
    "start_time": "2023-04-06T14:58:34.519Z"
   },
   {
    "duration": 4,
    "start_time": "2023-04-06T14:58:34.528Z"
   },
   {
    "duration": 5,
    "start_time": "2023-04-06T14:58:34.534Z"
   },
   {
    "duration": 5,
    "start_time": "2023-04-06T14:58:34.541Z"
   },
   {
    "duration": 4564,
    "start_time": "2023-04-06T14:58:34.548Z"
   },
   {
    "duration": 3,
    "start_time": "2023-04-06T14:59:04.281Z"
   },
   {
    "duration": 3,
    "start_time": "2023-04-06T14:59:12.631Z"
   },
   {
    "duration": 2,
    "start_time": "2023-04-06T14:59:15.056Z"
   },
   {
    "duration": 4,
    "start_time": "2023-04-06T14:59:15.248Z"
   },
   {
    "duration": 5,
    "start_time": "2023-04-06T14:59:15.899Z"
   },
   {
    "duration": 4493,
    "start_time": "2023-04-06T14:59:16.706Z"
   },
   {
    "duration": 1618,
    "start_time": "2023-04-06T14:59:33.678Z"
   },
   {
    "duration": 481,
    "start_time": "2023-04-06T14:59:35.299Z"
   },
   {
    "duration": 69,
    "start_time": "2023-04-06T14:59:35.782Z"
   },
   {
    "duration": 73,
    "start_time": "2023-04-06T14:59:35.854Z"
   },
   {
    "duration": 63,
    "start_time": "2023-04-06T14:59:35.929Z"
   },
   {
    "duration": 61,
    "start_time": "2023-04-06T14:59:35.994Z"
   },
   {
    "duration": 84,
    "start_time": "2023-04-06T14:59:36.057Z"
   },
   {
    "duration": 81,
    "start_time": "2023-04-06T14:59:36.143Z"
   },
   {
    "duration": 14,
    "start_time": "2023-04-06T14:59:36.226Z"
   },
   {
    "duration": 26,
    "start_time": "2023-04-06T14:59:36.243Z"
   },
   {
    "duration": 20,
    "start_time": "2023-04-06T14:59:36.271Z"
   },
   {
    "duration": 42,
    "start_time": "2023-04-06T14:59:36.293Z"
   },
   {
    "duration": 160,
    "start_time": "2023-04-06T14:59:36.337Z"
   },
   {
    "duration": 202,
    "start_time": "2023-04-06T14:59:36.499Z"
   },
   {
    "duration": 189,
    "start_time": "2023-04-06T14:59:36.704Z"
   },
   {
    "duration": 526,
    "start_time": "2023-04-06T14:59:36.895Z"
   },
   {
    "duration": 65,
    "start_time": "2023-04-06T14:59:37.426Z"
   },
   {
    "duration": 129,
    "start_time": "2023-04-06T14:59:37.499Z"
   },
   {
    "duration": 12,
    "start_time": "2023-04-06T14:59:37.630Z"
   },
   {
    "duration": 26,
    "start_time": "2023-04-06T14:59:37.644Z"
   },
   {
    "duration": 43,
    "start_time": "2023-04-06T14:59:37.671Z"
   },
   {
    "duration": 8,
    "start_time": "2023-04-06T14:59:37.715Z"
   },
   {
    "duration": 16,
    "start_time": "2023-04-06T14:59:37.725Z"
   },
   {
    "duration": 22,
    "start_time": "2023-04-06T14:59:37.743Z"
   },
   {
    "duration": 4852,
    "start_time": "2023-04-06T14:59:37.767Z"
   },
   {
    "duration": 6,
    "start_time": "2023-04-06T15:11:50.942Z"
   },
   {
    "duration": 121,
    "start_time": "2023-04-06T15:12:13.351Z"
   },
   {
    "duration": 5,
    "start_time": "2023-04-06T15:35:03.787Z"
   },
   {
    "duration": 4,
    "start_time": "2023-04-06T15:35:55.213Z"
   },
   {
    "duration": 4271,
    "start_time": "2023-04-06T15:35:56.746Z"
   },
   {
    "duration": 1396,
    "start_time": "2023-04-06T15:36:53.372Z"
   },
   {
    "duration": 471,
    "start_time": "2023-04-06T15:36:54.770Z"
   },
   {
    "duration": 76,
    "start_time": "2023-04-06T15:36:55.243Z"
   },
   {
    "duration": 50,
    "start_time": "2023-04-06T15:36:55.321Z"
   },
   {
    "duration": 77,
    "start_time": "2023-04-06T15:36:55.373Z"
   },
   {
    "duration": 77,
    "start_time": "2023-04-06T15:36:55.452Z"
   },
   {
    "duration": 67,
    "start_time": "2023-04-06T15:36:55.531Z"
   },
   {
    "duration": 54,
    "start_time": "2023-04-06T15:36:55.601Z"
   },
   {
    "duration": 33,
    "start_time": "2023-04-06T15:36:55.656Z"
   },
   {
    "duration": 21,
    "start_time": "2023-04-06T15:36:55.693Z"
   },
   {
    "duration": 14,
    "start_time": "2023-04-06T15:36:55.715Z"
   },
   {
    "duration": 6,
    "start_time": "2023-04-06T15:36:55.731Z"
   },
   {
    "duration": 162,
    "start_time": "2023-04-06T15:36:55.739Z"
   },
   {
    "duration": 184,
    "start_time": "2023-04-06T15:36:55.905Z"
   },
   {
    "duration": 198,
    "start_time": "2023-04-06T15:36:56.091Z"
   },
   {
    "duration": 525,
    "start_time": "2023-04-06T15:36:56.291Z"
   },
   {
    "duration": 4,
    "start_time": "2023-04-06T15:36:56.889Z"
   },
   {
    "duration": 95,
    "start_time": "2023-04-06T15:36:56.895Z"
   },
   {
    "duration": 19,
    "start_time": "2023-04-06T15:36:56.992Z"
   },
   {
    "duration": 10,
    "start_time": "2023-04-06T15:36:57.013Z"
   },
   {
    "duration": 7,
    "start_time": "2023-04-06T15:36:57.024Z"
   },
   {
    "duration": 8,
    "start_time": "2023-04-06T15:36:57.032Z"
   },
   {
    "duration": 9,
    "start_time": "2023-04-06T15:36:57.041Z"
   },
   {
    "duration": 6,
    "start_time": "2023-04-06T15:36:57.051Z"
   },
   {
    "duration": 6,
    "start_time": "2023-04-06T15:36:57.058Z"
   },
   {
    "duration": 4474,
    "start_time": "2023-04-06T15:36:57.065Z"
   },
   {
    "duration": 53,
    "start_time": "2023-04-07T11:23:53.899Z"
   },
   {
    "duration": 1475,
    "start_time": "2024-01-06T10:21:11.491Z"
   },
   {
    "duration": 978,
    "start_time": "2024-01-06T10:21:12.968Z"
   }
  ],
  "kernelspec": {
   "display_name": "Python 3 (ipykernel)",
   "language": "python",
   "name": "python3"
  },
  "language_info": {
   "codemirror_mode": {
    "name": "ipython",
    "version": 3
   },
   "file_extension": ".py",
   "mimetype": "text/x-python",
   "name": "python",
   "nbconvert_exporter": "python",
   "pygments_lexer": "ipython3",
   "version": "3.11.4"
  },
  "toc": {
   "base_numbering": 1,
   "nav_menu": {},
   "number_sections": true,
   "sideBar": true,
   "skip_h1_title": true,
   "title_cell": "Table of Contents",
   "title_sidebar": "Contents",
   "toc_cell": false,
   "toc_position": {},
   "toc_section_display": true,
   "toc_window_display": false
  }
 },
 "nbformat": 4,
 "nbformat_minor": 2
}
