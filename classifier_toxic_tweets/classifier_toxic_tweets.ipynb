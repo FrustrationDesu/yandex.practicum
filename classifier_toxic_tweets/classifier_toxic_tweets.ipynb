{
 "cells": [
  {
   "cell_type": "markdown",
   "metadata": {
    "toc": true
   },
   "source": [
    "<h1>Содержание<span class=\"tocSkip\"></span></h1>\n",
    "<div class=\"toc\"><ul class=\"toc-item\"><li><span><a href=\"#Подготовка\" data-toc-modified-id=\"Подготовка-1\"><span class=\"toc-item-num\">1&nbsp;&nbsp;</span>Подготовка</a></span></li><li><span><a href=\"#Обучение\" data-toc-modified-id=\"Обучение-2\"><span class=\"toc-item-num\">2&nbsp;&nbsp;</span>Обучение</a></span><ul class=\"toc-item\"><li><span><a href=\"#Linear-Regression\" data-toc-modified-id=\"Linear-Regression-2.1\"><span class=\"toc-item-num\">2.1&nbsp;&nbsp;</span>Linear Regression</a></span></li><li><span><a href=\"#CatBoost\" data-toc-modified-id=\"CatBoost-2.2\"><span class=\"toc-item-num\">2.2&nbsp;&nbsp;</span>CatBoost</a></span></li><li><span><a href=\"#Проверка-на-тесте\" data-toc-modified-id=\"Проверка-на-тесте-2.3\"><span class=\"toc-item-num\">2.3&nbsp;&nbsp;</span>Проверка на тесте</a></span></li></ul></li><li><span><a href=\"#Выводы\" data-toc-modified-id=\"Выводы-3\"><span class=\"toc-item-num\">3&nbsp;&nbsp;</span>Выводы</a></span></li><li><span><a href=\"#Чек-лист-проверки\" data-toc-modified-id=\"Чек-лист-проверки-4\"><span class=\"toc-item-num\">4&nbsp;&nbsp;</span>Чек-лист проверки</a></span></li></ul></div>"
   ]
  },
  {
   "cell_type": "markdown",
   "metadata": {},
   "source": [
    "# Проект для «Викишоп»"
   ]
  },
  {
   "cell_type": "markdown",
   "metadata": {},
   "source": [
    "Интернет-магазин «Викишоп» запускает новый сервис. Теперь пользователи могут редактировать и дополнять описания товаров, как в вики-сообществах. То есть клиенты предлагают свои правки и комментируют изменения других. Магазину нужен инструмент, который будет искать токсичные комментарии и отправлять их на модерацию. \n",
    "\n",
    "Обучите модель классифицировать комментарии на позитивные и негативные. В вашем распоряжении набор данных с разметкой о токсичности правок.\n",
    "\n",
    "Постройте модель со значением метрики качества *F1* не меньше 0.75. \n",
    "\n",
    "**Инструкция по выполнению проекта**\n",
    "\n",
    "1. Загрузите и подготовьте данные.\n",
    "2. Обучите разные модели. \n",
    "3. Сделайте выводы.\n",
    "\n",
    "Для выполнения проекта применять *BERT* необязательно, но вы можете попробовать.\n",
    "\n",
    "**Описание данных**\n",
    "\n",
    "Данные находятся в файле `toxic_comments.csv`. Столбец *text* в нём содержит текст комментария, а *toxic* — целевой признак."
   ]
  },
  {
   "cell_type": "markdown",
   "metadata": {},
   "source": [
    "## Подготовка"
   ]
  },
  {
   "cell_type": "code",
   "execution_count": 20,
   "metadata": {
    "execution": {
     "iopub.execute_input": "2024-01-12T14:42:38.955292Z",
     "iopub.status.busy": "2024-01-12T14:42:38.954319Z",
     "iopub.status.idle": "2024-01-12T14:42:40.514941Z",
     "shell.execute_reply": "2024-01-12T14:42:40.513855Z",
     "shell.execute_reply.started": "2024-01-12T14:42:38.955248Z"
    }
   },
   "outputs": [],
   "source": [
    "import pandas as pd\n",
    "import re\n",
    "import catboost\n",
    "import spacy\n",
    "from spacy.lang.en.stop_words import STOP_WORDS\n",
    "from sklearn.model_selection import train_test_split\n",
    "from catboost import CatBoostClassifier\n",
    "from sklearn.metrics import f1_score\n",
    "import numpy as np\n",
    "from sklearn.metrics import average_precision_score\n",
    "from sklearn.feature_extraction.text import TfidfVectorizer\n",
    "from sklearn.linear_model import LogisticRegression\n",
    "from sklearn.metrics import accuracy_score, classification_report\n",
    "from sklearn.tree import DecisionTreeClassifier\n",
    "import spacy\n",
    "from spacy.lang.en.stop_words import STOP_WORDS\n",
    "nlp = spacy.load(\"en_core_web_sm\")\n",
    "from tqdm import tqdm\n",
    "from collections import Counter\n",
    "from sklearn.pipeline import Pipeline\n",
    "import optuna\n",
    "import optuna.distributions as dist\n",
    "RANDOM_STATE = 12345\n",
    "from wordcloud import WordCloud\n",
    "import matplotlib.pyplot as plt\n"
   ]
  },
  {
   "cell_type": "code",
   "execution_count": 2,
   "metadata": {
    "execution": {
     "iopub.execute_input": "2024-01-12T13:41:11.009180Z",
     "iopub.status.busy": "2024-01-12T13:41:11.008632Z",
     "iopub.status.idle": "2024-01-12T13:41:12.688302Z",
     "shell.execute_reply": "2024-01-12T13:41:12.687165Z",
     "shell.execute_reply.started": "2024-01-12T13:41:11.009132Z"
    }
   },
   "outputs": [],
   "source": [
    "try:\n",
    "    df = pd.read_csv('/datasets/toxic_comments.csv', index_col=0)\n",
    "except:\n",
    "    df = pd.read_csv('/kaggle/input/toxic-comments-csv/toxic_comments (2).csv', index_col=0)"
   ]
  },
  {
   "cell_type": "code",
   "execution_count": 3,
   "metadata": {
    "execution": {
     "iopub.execute_input": "2024-01-12T13:41:12.690096Z",
     "iopub.status.busy": "2024-01-12T13:41:12.689723Z",
     "iopub.status.idle": "2024-01-12T13:41:12.709837Z",
     "shell.execute_reply": "2024-01-12T13:41:12.708792Z",
     "shell.execute_reply.started": "2024-01-12T13:41:12.690068Z"
    },
    "scrolled": true
   },
   "outputs": [
    {
     "data": {
      "text/html": [
       "<div>\n",
       "<style scoped>\n",
       "    .dataframe tbody tr th:only-of-type {\n",
       "        vertical-align: middle;\n",
       "    }\n",
       "\n",
       "    .dataframe tbody tr th {\n",
       "        vertical-align: top;\n",
       "    }\n",
       "\n",
       "    .dataframe thead th {\n",
       "        text-align: right;\n",
       "    }\n",
       "</style>\n",
       "<table border=\"1\" class=\"dataframe\">\n",
       "  <thead>\n",
       "    <tr style=\"text-align: right;\">\n",
       "      <th></th>\n",
       "      <th>text</th>\n",
       "      <th>toxic</th>\n",
       "    </tr>\n",
       "  </thead>\n",
       "  <tbody>\n",
       "    <tr>\n",
       "      <th>0</th>\n",
       "      <td>Explanation\\nWhy the edits made under my usern...</td>\n",
       "      <td>0</td>\n",
       "    </tr>\n",
       "    <tr>\n",
       "      <th>1</th>\n",
       "      <td>D'aww! He matches this background colour I'm s...</td>\n",
       "      <td>0</td>\n",
       "    </tr>\n",
       "    <tr>\n",
       "      <th>2</th>\n",
       "      <td>Hey man, I'm really not trying to edit war. It...</td>\n",
       "      <td>0</td>\n",
       "    </tr>\n",
       "    <tr>\n",
       "      <th>3</th>\n",
       "      <td>\"\\nMore\\nI can't make any real suggestions on ...</td>\n",
       "      <td>0</td>\n",
       "    </tr>\n",
       "    <tr>\n",
       "      <th>4</th>\n",
       "      <td>You, sir, are my hero. Any chance you remember...</td>\n",
       "      <td>0</td>\n",
       "    </tr>\n",
       "    <tr>\n",
       "      <th>5</th>\n",
       "      <td>\"\\n\\nCongratulations from me as well, use the ...</td>\n",
       "      <td>0</td>\n",
       "    </tr>\n",
       "    <tr>\n",
       "      <th>6</th>\n",
       "      <td>COCKSUCKER BEFORE YOU PISS AROUND ON MY WORK</td>\n",
       "      <td>1</td>\n",
       "    </tr>\n",
       "    <tr>\n",
       "      <th>7</th>\n",
       "      <td>Your vandalism to the Matt Shirvington article...</td>\n",
       "      <td>0</td>\n",
       "    </tr>\n",
       "    <tr>\n",
       "      <th>8</th>\n",
       "      <td>Sorry if the word 'nonsense' was offensive to ...</td>\n",
       "      <td>0</td>\n",
       "    </tr>\n",
       "    <tr>\n",
       "      <th>9</th>\n",
       "      <td>alignment on this subject and which are contra...</td>\n",
       "      <td>0</td>\n",
       "    </tr>\n",
       "    <tr>\n",
       "      <th>10</th>\n",
       "      <td>\"\\nFair use rationale for Image:Wonju.jpg\\n\\nT...</td>\n",
       "      <td>0</td>\n",
       "    </tr>\n",
       "    <tr>\n",
       "      <th>11</th>\n",
       "      <td>bbq \\n\\nbe a man and lets discuss it-maybe ove...</td>\n",
       "      <td>0</td>\n",
       "    </tr>\n",
       "    <tr>\n",
       "      <th>12</th>\n",
       "      <td>Hey... what is it..\\n@ | talk .\\nWhat is it......</td>\n",
       "      <td>1</td>\n",
       "    </tr>\n",
       "    <tr>\n",
       "      <th>13</th>\n",
       "      <td>Before you start throwing accusations and warn...</td>\n",
       "      <td>0</td>\n",
       "    </tr>\n",
       "    <tr>\n",
       "      <th>14</th>\n",
       "      <td>Oh, and the girl above started her arguments w...</td>\n",
       "      <td>0</td>\n",
       "    </tr>\n",
       "    <tr>\n",
       "      <th>15</th>\n",
       "      <td>\"\\n\\nJuelz Santanas Age\\n\\nIn 2002, Juelz Sant...</td>\n",
       "      <td>0</td>\n",
       "    </tr>\n",
       "    <tr>\n",
       "      <th>16</th>\n",
       "      <td>Bye! \\n\\nDon't look, come or think of comming ...</td>\n",
       "      <td>1</td>\n",
       "    </tr>\n",
       "    <tr>\n",
       "      <th>17</th>\n",
       "      <td>REDIRECT Talk:Voydan Pop Georgiev- Chernodrinski</td>\n",
       "      <td>0</td>\n",
       "    </tr>\n",
       "    <tr>\n",
       "      <th>18</th>\n",
       "      <td>The Mitsurugi point made no sense - why not ar...</td>\n",
       "      <td>0</td>\n",
       "    </tr>\n",
       "    <tr>\n",
       "      <th>19</th>\n",
       "      <td>Don't mean to bother you \\n\\nI see that you're...</td>\n",
       "      <td>0</td>\n",
       "    </tr>\n",
       "    <tr>\n",
       "      <th>20</th>\n",
       "      <td>\"\\n\\n Regarding your recent edits \\n\\nOnce aga...</td>\n",
       "      <td>0</td>\n",
       "    </tr>\n",
       "    <tr>\n",
       "      <th>21</th>\n",
       "      <td>\"\\nGood to know. About me, yeah, I'm studying ...</td>\n",
       "      <td>0</td>\n",
       "    </tr>\n",
       "    <tr>\n",
       "      <th>22</th>\n",
       "      <td>\"\\n\\n Snowflakes are NOT always symmetrical! \\...</td>\n",
       "      <td>0</td>\n",
       "    </tr>\n",
       "    <tr>\n",
       "      <th>23</th>\n",
       "      <td>\"\\n\\n The Signpost: 24 September 2012 \\n\\n Rea...</td>\n",
       "      <td>0</td>\n",
       "    </tr>\n",
       "    <tr>\n",
       "      <th>24</th>\n",
       "      <td>\"\\n\\nRe-considering 1st paragraph edit?\\nI don...</td>\n",
       "      <td>0</td>\n",
       "    </tr>\n",
       "    <tr>\n",
       "      <th>25</th>\n",
       "      <td>Radial symmetry \\n\\nSeveral now extinct lineag...</td>\n",
       "      <td>0</td>\n",
       "    </tr>\n",
       "    <tr>\n",
       "      <th>26</th>\n",
       "      <td>There's no need to apologize. A Wikipedia arti...</td>\n",
       "      <td>0</td>\n",
       "    </tr>\n",
       "    <tr>\n",
       "      <th>27</th>\n",
       "      <td>Yes, because the mother of the child in the ca...</td>\n",
       "      <td>0</td>\n",
       "    </tr>\n",
       "    <tr>\n",
       "      <th>28</th>\n",
       "      <td>\"\\nOk. But it will take a bit of work but I ca...</td>\n",
       "      <td>0</td>\n",
       "    </tr>\n",
       "    <tr>\n",
       "      <th>29</th>\n",
       "      <td>\"== A barnstar for you! ==\\n\\n  The Real Life ...</td>\n",
       "      <td>0</td>\n",
       "    </tr>\n",
       "    <tr>\n",
       "      <th>30</th>\n",
       "      <td>How could I post before the block expires?  Th...</td>\n",
       "      <td>0</td>\n",
       "    </tr>\n",
       "    <tr>\n",
       "      <th>31</th>\n",
       "      <td>Not sure about a heading of 'Fight for Freedom...</td>\n",
       "      <td>0</td>\n",
       "    </tr>\n",
       "    <tr>\n",
       "      <th>32</th>\n",
       "      <td>Praise \\n\\nlooked at this article about 6 mont...</td>\n",
       "      <td>0</td>\n",
       "    </tr>\n",
       "    <tr>\n",
       "      <th>33</th>\n",
       "      <td>I was able to post the above list so quickly b...</td>\n",
       "      <td>0</td>\n",
       "    </tr>\n",
       "    <tr>\n",
       "      <th>34</th>\n",
       "      <td>\"\\nWell, not \"\"before the process\"\" but \"\"befo...</td>\n",
       "      <td>0</td>\n",
       "    </tr>\n",
       "    <tr>\n",
       "      <th>35</th>\n",
       "      <td>\"\\n\\nNot at all, you are making a straw man ar...</td>\n",
       "      <td>0</td>\n",
       "    </tr>\n",
       "    <tr>\n",
       "      <th>36</th>\n",
       "      <td>\"\\n\\n \"\"Mainland Asia\"\" includes \"\"the lower b...</td>\n",
       "      <td>0</td>\n",
       "    </tr>\n",
       "    <tr>\n",
       "      <th>37</th>\n",
       "      <td>pretty much everyone from warren county/surrou...</td>\n",
       "      <td>0</td>\n",
       "    </tr>\n",
       "    <tr>\n",
       "      <th>38</th>\n",
       "      <td>Hi Explicit, can you block O Fenian for edit-w...</td>\n",
       "      <td>0</td>\n",
       "    </tr>\n",
       "    <tr>\n",
       "      <th>39</th>\n",
       "      <td>Notability of Rurika Kasuga\\nA tag has been pl...</td>\n",
       "      <td>0</td>\n",
       "    </tr>\n",
       "    <tr>\n",
       "      <th>40</th>\n",
       "      <td>\"\\n Sure, but the lead must briefly summarize ...</td>\n",
       "      <td>0</td>\n",
       "    </tr>\n",
       "    <tr>\n",
       "      <th>41</th>\n",
       "      <td>TFD \\n\\nI think we just eced. I think we respo...</td>\n",
       "      <td>0</td>\n",
       "    </tr>\n",
       "    <tr>\n",
       "      <th>42</th>\n",
       "      <td>You are gay or antisemmitian? \\n\\nArchangel WH...</td>\n",
       "      <td>1</td>\n",
       "    </tr>\n",
       "    <tr>\n",
       "      <th>43</th>\n",
       "      <td>FUCK YOUR FILTHY MOTHER IN THE ASS, DRY!</td>\n",
       "      <td>1</td>\n",
       "    </tr>\n",
       "    <tr>\n",
       "      <th>44</th>\n",
       "      <td>I'm Sorry \\n\\nI'm sorry I screwed around with ...</td>\n",
       "      <td>1</td>\n",
       "    </tr>\n",
       "    <tr>\n",
       "      <th>45</th>\n",
       "      <td>I don't believe the Lisak criticism present th...</td>\n",
       "      <td>0</td>\n",
       "    </tr>\n",
       "    <tr>\n",
       "      <th>46</th>\n",
       "      <td>You had a point, and it's now ammended with ap...</td>\n",
       "      <td>0</td>\n",
       "    </tr>\n",
       "    <tr>\n",
       "      <th>47</th>\n",
       "      <td>In other words, you're too lazy to actually po...</td>\n",
       "      <td>0</td>\n",
       "    </tr>\n",
       "    <tr>\n",
       "      <th>48</th>\n",
       "      <td>\"\\nAs for your claims of \"\"stalking\"\", that is...</td>\n",
       "      <td>0</td>\n",
       "    </tr>\n",
       "    <tr>\n",
       "      <th>49</th>\n",
       "      <td>\"::::Jmabel; in regards to predominant scholar...</td>\n",
       "      <td>0</td>\n",
       "    </tr>\n",
       "  </tbody>\n",
       "</table>\n",
       "</div>"
      ],
      "text/plain": [
       "                                                 text  toxic\n",
       "0   Explanation\\nWhy the edits made under my usern...      0\n",
       "1   D'aww! He matches this background colour I'm s...      0\n",
       "2   Hey man, I'm really not trying to edit war. It...      0\n",
       "3   \"\\nMore\\nI can't make any real suggestions on ...      0\n",
       "4   You, sir, are my hero. Any chance you remember...      0\n",
       "5   \"\\n\\nCongratulations from me as well, use the ...      0\n",
       "6        COCKSUCKER BEFORE YOU PISS AROUND ON MY WORK      1\n",
       "7   Your vandalism to the Matt Shirvington article...      0\n",
       "8   Sorry if the word 'nonsense' was offensive to ...      0\n",
       "9   alignment on this subject and which are contra...      0\n",
       "10  \"\\nFair use rationale for Image:Wonju.jpg\\n\\nT...      0\n",
       "11  bbq \\n\\nbe a man and lets discuss it-maybe ove...      0\n",
       "12  Hey... what is it..\\n@ | talk .\\nWhat is it......      1\n",
       "13  Before you start throwing accusations and warn...      0\n",
       "14  Oh, and the girl above started her arguments w...      0\n",
       "15  \"\\n\\nJuelz Santanas Age\\n\\nIn 2002, Juelz Sant...      0\n",
       "16  Bye! \\n\\nDon't look, come or think of comming ...      1\n",
       "17   REDIRECT Talk:Voydan Pop Georgiev- Chernodrinski      0\n",
       "18  The Mitsurugi point made no sense - why not ar...      0\n",
       "19  Don't mean to bother you \\n\\nI see that you're...      0\n",
       "20  \"\\n\\n Regarding your recent edits \\n\\nOnce aga...      0\n",
       "21  \"\\nGood to know. About me, yeah, I'm studying ...      0\n",
       "22  \"\\n\\n Snowflakes are NOT always symmetrical! \\...      0\n",
       "23  \"\\n\\n The Signpost: 24 September 2012 \\n\\n Rea...      0\n",
       "24  \"\\n\\nRe-considering 1st paragraph edit?\\nI don...      0\n",
       "25  Radial symmetry \\n\\nSeveral now extinct lineag...      0\n",
       "26  There's no need to apologize. A Wikipedia arti...      0\n",
       "27  Yes, because the mother of the child in the ca...      0\n",
       "28  \"\\nOk. But it will take a bit of work but I ca...      0\n",
       "29  \"== A barnstar for you! ==\\n\\n  The Real Life ...      0\n",
       "30  How could I post before the block expires?  Th...      0\n",
       "31  Not sure about a heading of 'Fight for Freedom...      0\n",
       "32  Praise \\n\\nlooked at this article about 6 mont...      0\n",
       "33  I was able to post the above list so quickly b...      0\n",
       "34  \"\\nWell, not \"\"before the process\"\" but \"\"befo...      0\n",
       "35  \"\\n\\nNot at all, you are making a straw man ar...      0\n",
       "36  \"\\n\\n \"\"Mainland Asia\"\" includes \"\"the lower b...      0\n",
       "37  pretty much everyone from warren county/surrou...      0\n",
       "38  Hi Explicit, can you block O Fenian for edit-w...      0\n",
       "39  Notability of Rurika Kasuga\\nA tag has been pl...      0\n",
       "40  \"\\n Sure, but the lead must briefly summarize ...      0\n",
       "41  TFD \\n\\nI think we just eced. I think we respo...      0\n",
       "42  You are gay or antisemmitian? \\n\\nArchangel WH...      1\n",
       "43           FUCK YOUR FILTHY MOTHER IN THE ASS, DRY!      1\n",
       "44  I'm Sorry \\n\\nI'm sorry I screwed around with ...      1\n",
       "45  I don't believe the Lisak criticism present th...      0\n",
       "46  You had a point, and it's now ammended with ap...      0\n",
       "47  In other words, you're too lazy to actually po...      0\n",
       "48  \"\\nAs for your claims of \"\"stalking\"\", that is...      0\n",
       "49  \"::::Jmabel; in regards to predominant scholar...      0"
      ]
     },
     "execution_count": 3,
     "metadata": {},
     "output_type": "execute_result"
    }
   ],
   "source": [
    "df.head(50)"
   ]
  },
  {
   "cell_type": "code",
   "execution_count": 4,
   "metadata": {
    "execution": {
     "iopub.execute_input": "2024-01-12T13:41:12.712664Z",
     "iopub.status.busy": "2024-01-12T13:41:12.712324Z",
     "iopub.status.idle": "2024-01-12T13:41:12.722865Z",
     "shell.execute_reply": "2024-01-12T13:41:12.721768Z",
     "shell.execute_reply.started": "2024-01-12T13:41:12.712637Z"
    }
   },
   "outputs": [
    {
     "data": {
      "text/plain": [
       "toxic\n",
       "0    143106\n",
       "1     16186\n",
       "Name: count, dtype: int64"
      ]
     },
     "execution_count": 4,
     "metadata": {},
     "output_type": "execute_result"
    }
   ],
   "source": [
    "df['toxic'].value_counts()"
   ]
  },
  {
   "cell_type": "markdown",
   "metadata": {},
   "source": [
    "В целевом таргете данных явный дисбаланс"
   ]
  },
  {
   "cell_type": "code",
   "execution_count": 5,
   "metadata": {
    "execution": {
     "iopub.execute_input": "2024-01-12T13:41:12.724387Z",
     "iopub.status.busy": "2024-01-12T13:41:12.724080Z",
     "iopub.status.idle": "2024-01-12T13:41:12.767039Z",
     "shell.execute_reply": "2024-01-12T13:41:12.766103Z",
     "shell.execute_reply.started": "2024-01-12T13:41:12.724338Z"
    },
    "scrolled": true
   },
   "outputs": [
    {
     "name": "stdout",
     "output_type": "stream",
     "text": [
      "<class 'pandas.core.frame.DataFrame'>\n",
      "Index: 159292 entries, 0 to 159450\n",
      "Data columns (total 2 columns):\n",
      " #   Column  Non-Null Count   Dtype \n",
      "---  ------  --------------   ----- \n",
      " 0   text    159292 non-null  object\n",
      " 1   toxic   159292 non-null  int64 \n",
      "dtypes: int64(1), object(1)\n",
      "memory usage: 3.6+ MB\n"
     ]
    }
   ],
   "source": [
    "df.info()"
   ]
  },
  {
   "cell_type": "markdown",
   "metadata": {},
   "source": [
    "Уберем лишние символы и оставим лишь буквы и цифры"
   ]
  },
  {
   "cell_type": "code",
   "execution_count": 6,
   "metadata": {
    "execution": {
     "iopub.execute_input": "2024-01-12T13:41:12.770545Z",
     "iopub.status.busy": "2024-01-12T13:41:12.770229Z",
     "iopub.status.idle": "2024-01-12T13:41:12.776230Z",
     "shell.execute_reply": "2024-01-12T13:41:12.775153Z",
     "shell.execute_reply.started": "2024-01-12T13:41:12.770517Z"
    }
   },
   "outputs": [],
   "source": [
    "def cleaning_text(text):\n",
    "    cleaning = ' '.join(re.sub(r\"http\\S+|www\\S+|#\\S+|@\\S+\", \" \", text).split())\n",
    "    cleaning = re.sub(r'[^a-zA-Zа-яА-Я\\s]', '', text)\n",
    "    return ' '.join(cleaning.split())"
   ]
  },
  {
   "cell_type": "code",
   "execution_count": 7,
   "metadata": {
    "execution": {
     "iopub.execute_input": "2024-01-12T13:41:12.777764Z",
     "iopub.status.busy": "2024-01-12T13:41:12.777475Z",
     "iopub.status.idle": "2024-01-12T13:41:19.347937Z",
     "shell.execute_reply": "2024-01-12T13:41:19.347053Z",
     "shell.execute_reply.started": "2024-01-12T13:41:12.777740Z"
    }
   },
   "outputs": [],
   "source": [
    "df['text'] = df['text'].apply(cleaning_text)"
   ]
  },
  {
   "cell_type": "code",
   "execution_count": 8,
   "metadata": {
    "execution": {
     "iopub.execute_input": "2024-01-12T13:41:19.349639Z",
     "iopub.status.busy": "2024-01-12T13:41:19.349321Z",
     "iopub.status.idle": "2024-01-12T13:41:19.362960Z",
     "shell.execute_reply": "2024-01-12T13:41:19.361933Z",
     "shell.execute_reply.started": "2024-01-12T13:41:19.349612Z"
    },
    "scrolled": true
   },
   "outputs": [
    {
     "data": {
      "text/html": [
       "<div>\n",
       "<style scoped>\n",
       "    .dataframe tbody tr th:only-of-type {\n",
       "        vertical-align: middle;\n",
       "    }\n",
       "\n",
       "    .dataframe tbody tr th {\n",
       "        vertical-align: top;\n",
       "    }\n",
       "\n",
       "    .dataframe thead th {\n",
       "        text-align: right;\n",
       "    }\n",
       "</style>\n",
       "<table border=\"1\" class=\"dataframe\">\n",
       "  <thead>\n",
       "    <tr style=\"text-align: right;\">\n",
       "      <th></th>\n",
       "      <th>text</th>\n",
       "      <th>toxic</th>\n",
       "    </tr>\n",
       "  </thead>\n",
       "  <tbody>\n",
       "    <tr>\n",
       "      <th>0</th>\n",
       "      <td>Explanation Why the edits made under my userna...</td>\n",
       "      <td>0</td>\n",
       "    </tr>\n",
       "    <tr>\n",
       "      <th>1</th>\n",
       "      <td>Daww He matches this background colour Im seem...</td>\n",
       "      <td>0</td>\n",
       "    </tr>\n",
       "    <tr>\n",
       "      <th>2</th>\n",
       "      <td>Hey man Im really not trying to edit war Its j...</td>\n",
       "      <td>0</td>\n",
       "    </tr>\n",
       "    <tr>\n",
       "      <th>3</th>\n",
       "      <td>More I cant make any real suggestions on impro...</td>\n",
       "      <td>0</td>\n",
       "    </tr>\n",
       "    <tr>\n",
       "      <th>4</th>\n",
       "      <td>You sir are my hero Any chance you remember wh...</td>\n",
       "      <td>0</td>\n",
       "    </tr>\n",
       "    <tr>\n",
       "      <th>5</th>\n",
       "      <td>Congratulations from me as well use the tools ...</td>\n",
       "      <td>0</td>\n",
       "    </tr>\n",
       "    <tr>\n",
       "      <th>6</th>\n",
       "      <td>COCKSUCKER BEFORE YOU PISS AROUND ON MY WORK</td>\n",
       "      <td>1</td>\n",
       "    </tr>\n",
       "    <tr>\n",
       "      <th>7</th>\n",
       "      <td>Your vandalism to the Matt Shirvington article...</td>\n",
       "      <td>0</td>\n",
       "    </tr>\n",
       "    <tr>\n",
       "      <th>8</th>\n",
       "      <td>Sorry if the word nonsense was offensive to yo...</td>\n",
       "      <td>0</td>\n",
       "    </tr>\n",
       "    <tr>\n",
       "      <th>9</th>\n",
       "      <td>alignment on this subject and which are contra...</td>\n",
       "      <td>0</td>\n",
       "    </tr>\n",
       "    <tr>\n",
       "      <th>10</th>\n",
       "      <td>Fair use rationale for ImageWonjujpg Thanks fo...</td>\n",
       "      <td>0</td>\n",
       "    </tr>\n",
       "    <tr>\n",
       "      <th>11</th>\n",
       "      <td>bbq be a man and lets discuss itmaybe over the...</td>\n",
       "      <td>0</td>\n",
       "    </tr>\n",
       "    <tr>\n",
       "      <th>12</th>\n",
       "      <td>Hey what is it talk What is it an exclusive gr...</td>\n",
       "      <td>1</td>\n",
       "    </tr>\n",
       "    <tr>\n",
       "      <th>13</th>\n",
       "      <td>Before you start throwing accusations and warn...</td>\n",
       "      <td>0</td>\n",
       "    </tr>\n",
       "    <tr>\n",
       "      <th>14</th>\n",
       "      <td>Oh and the girl above started her arguments wi...</td>\n",
       "      <td>0</td>\n",
       "    </tr>\n",
       "    <tr>\n",
       "      <th>15</th>\n",
       "      <td>Juelz Santanas Age In Juelz Santana was years ...</td>\n",
       "      <td>0</td>\n",
       "    </tr>\n",
       "    <tr>\n",
       "      <th>16</th>\n",
       "      <td>Bye Dont look come or think of comming back To...</td>\n",
       "      <td>1</td>\n",
       "    </tr>\n",
       "    <tr>\n",
       "      <th>17</th>\n",
       "      <td>REDIRECT TalkVoydan Pop Georgiev Chernodrinski</td>\n",
       "      <td>0</td>\n",
       "    </tr>\n",
       "    <tr>\n",
       "      <th>18</th>\n",
       "      <td>The Mitsurugi point made no sense why not argu...</td>\n",
       "      <td>0</td>\n",
       "    </tr>\n",
       "    <tr>\n",
       "      <th>19</th>\n",
       "      <td>Dont mean to bother you I see that youre writi...</td>\n",
       "      <td>0</td>\n",
       "    </tr>\n",
       "    <tr>\n",
       "      <th>20</th>\n",
       "      <td>Regarding your recent edits Once again please ...</td>\n",
       "      <td>0</td>\n",
       "    </tr>\n",
       "    <tr>\n",
       "      <th>21</th>\n",
       "      <td>Good to know About me yeah Im studying nowDeepu</td>\n",
       "      <td>0</td>\n",
       "    </tr>\n",
       "    <tr>\n",
       "      <th>22</th>\n",
       "      <td>Snowflakes are NOT always symmetrical Under Ge...</td>\n",
       "      <td>0</td>\n",
       "    </tr>\n",
       "    <tr>\n",
       "      <th>23</th>\n",
       "      <td>The Signpost September Read this Signpost in f...</td>\n",
       "      <td>0</td>\n",
       "    </tr>\n",
       "    <tr>\n",
       "      <th>24</th>\n",
       "      <td>Reconsidering st paragraph edit I dont underst...</td>\n",
       "      <td>0</td>\n",
       "    </tr>\n",
       "    <tr>\n",
       "      <th>25</th>\n",
       "      <td>Radial symmetry Several now extinct lineages i...</td>\n",
       "      <td>0</td>\n",
       "    </tr>\n",
       "    <tr>\n",
       "      <th>26</th>\n",
       "      <td>Theres no need to apologize A Wikipedia articl...</td>\n",
       "      <td>0</td>\n",
       "    </tr>\n",
       "    <tr>\n",
       "      <th>27</th>\n",
       "      <td>Yes because the mother of the child in the cas...</td>\n",
       "      <td>0</td>\n",
       "    </tr>\n",
       "    <tr>\n",
       "      <th>28</th>\n",
       "      <td>Ok But it will take a bit of work but I cant q...</td>\n",
       "      <td>0</td>\n",
       "    </tr>\n",
       "    <tr>\n",
       "      <th>29</th>\n",
       "      <td>A barnstar for you The Real Life Barnstar lets...</td>\n",
       "      <td>0</td>\n",
       "    </tr>\n",
       "    <tr>\n",
       "      <th>30</th>\n",
       "      <td>How could I post before the block expires The ...</td>\n",
       "      <td>0</td>\n",
       "    </tr>\n",
       "    <tr>\n",
       "      <th>31</th>\n",
       "      <td>Not sure about a heading of Fight for Freedom ...</td>\n",
       "      <td>0</td>\n",
       "    </tr>\n",
       "    <tr>\n",
       "      <th>32</th>\n",
       "      <td>Praise looked at this article about months ago...</td>\n",
       "      <td>0</td>\n",
       "    </tr>\n",
       "    <tr>\n",
       "      <th>33</th>\n",
       "      <td>I was able to post the above list so quickly b...</td>\n",
       "      <td>0</td>\n",
       "    </tr>\n",
       "    <tr>\n",
       "      <th>34</th>\n",
       "      <td>Well not before the process but before how we ...</td>\n",
       "      <td>0</td>\n",
       "    </tr>\n",
       "    <tr>\n",
       "      <th>35</th>\n",
       "      <td>Not at all you are making a straw man argument...</td>\n",
       "      <td>0</td>\n",
       "    </tr>\n",
       "    <tr>\n",
       "      <th>36</th>\n",
       "      <td>Mainland Asia includes the lower basin of Chin...</td>\n",
       "      <td>0</td>\n",
       "    </tr>\n",
       "    <tr>\n",
       "      <th>37</th>\n",
       "      <td>pretty much everyone from warren countysurroun...</td>\n",
       "      <td>0</td>\n",
       "    </tr>\n",
       "    <tr>\n",
       "      <th>38</th>\n",
       "      <td>Hi Explicit can you block O Fenian for editwar...</td>\n",
       "      <td>0</td>\n",
       "    </tr>\n",
       "    <tr>\n",
       "      <th>39</th>\n",
       "      <td>Notability of Rurika Kasuga A tag has been pla...</td>\n",
       "      <td>0</td>\n",
       "    </tr>\n",
       "    <tr>\n",
       "      <th>40</th>\n",
       "      <td>Sure but the lead must briefly summarize Armen...</td>\n",
       "      <td>0</td>\n",
       "    </tr>\n",
       "    <tr>\n",
       "      <th>41</th>\n",
       "      <td>TFD I think we just eced I think we responded ...</td>\n",
       "      <td>0</td>\n",
       "    </tr>\n",
       "    <tr>\n",
       "      <th>42</th>\n",
       "      <td>You are gay or antisemmitian Archangel WHite T...</td>\n",
       "      <td>1</td>\n",
       "    </tr>\n",
       "    <tr>\n",
       "      <th>43</th>\n",
       "      <td>FUCK YOUR FILTHY MOTHER IN THE ASS DRY</td>\n",
       "      <td>1</td>\n",
       "    </tr>\n",
       "    <tr>\n",
       "      <th>44</th>\n",
       "      <td>Im Sorry Im sorry I screwed around with someon...</td>\n",
       "      <td>1</td>\n",
       "    </tr>\n",
       "    <tr>\n",
       "      <th>45</th>\n",
       "      <td>I dont believe the Lisak criticism present the...</td>\n",
       "      <td>0</td>\n",
       "    </tr>\n",
       "    <tr>\n",
       "      <th>46</th>\n",
       "      <td>You had a point and its now ammended with appr...</td>\n",
       "      <td>0</td>\n",
       "    </tr>\n",
       "    <tr>\n",
       "      <th>47</th>\n",
       "      <td>In other words youre too lazy to actually poin...</td>\n",
       "      <td>0</td>\n",
       "    </tr>\n",
       "    <tr>\n",
       "      <th>48</th>\n",
       "      <td>As for your claims of stalking that is absolut...</td>\n",
       "      <td>0</td>\n",
       "    </tr>\n",
       "    <tr>\n",
       "      <th>49</th>\n",
       "      <td>Jmabel in regards to predominant scholary cons...</td>\n",
       "      <td>0</td>\n",
       "    </tr>\n",
       "  </tbody>\n",
       "</table>\n",
       "</div>"
      ],
      "text/plain": [
       "                                                 text  toxic\n",
       "0   Explanation Why the edits made under my userna...      0\n",
       "1   Daww He matches this background colour Im seem...      0\n",
       "2   Hey man Im really not trying to edit war Its j...      0\n",
       "3   More I cant make any real suggestions on impro...      0\n",
       "4   You sir are my hero Any chance you remember wh...      0\n",
       "5   Congratulations from me as well use the tools ...      0\n",
       "6        COCKSUCKER BEFORE YOU PISS AROUND ON MY WORK      1\n",
       "7   Your vandalism to the Matt Shirvington article...      0\n",
       "8   Sorry if the word nonsense was offensive to yo...      0\n",
       "9   alignment on this subject and which are contra...      0\n",
       "10  Fair use rationale for ImageWonjujpg Thanks fo...      0\n",
       "11  bbq be a man and lets discuss itmaybe over the...      0\n",
       "12  Hey what is it talk What is it an exclusive gr...      1\n",
       "13  Before you start throwing accusations and warn...      0\n",
       "14  Oh and the girl above started her arguments wi...      0\n",
       "15  Juelz Santanas Age In Juelz Santana was years ...      0\n",
       "16  Bye Dont look come or think of comming back To...      1\n",
       "17     REDIRECT TalkVoydan Pop Georgiev Chernodrinski      0\n",
       "18  The Mitsurugi point made no sense why not argu...      0\n",
       "19  Dont mean to bother you I see that youre writi...      0\n",
       "20  Regarding your recent edits Once again please ...      0\n",
       "21    Good to know About me yeah Im studying nowDeepu      0\n",
       "22  Snowflakes are NOT always symmetrical Under Ge...      0\n",
       "23  The Signpost September Read this Signpost in f...      0\n",
       "24  Reconsidering st paragraph edit I dont underst...      0\n",
       "25  Radial symmetry Several now extinct lineages i...      0\n",
       "26  Theres no need to apologize A Wikipedia articl...      0\n",
       "27  Yes because the mother of the child in the cas...      0\n",
       "28  Ok But it will take a bit of work but I cant q...      0\n",
       "29  A barnstar for you The Real Life Barnstar lets...      0\n",
       "30  How could I post before the block expires The ...      0\n",
       "31  Not sure about a heading of Fight for Freedom ...      0\n",
       "32  Praise looked at this article about months ago...      0\n",
       "33  I was able to post the above list so quickly b...      0\n",
       "34  Well not before the process but before how we ...      0\n",
       "35  Not at all you are making a straw man argument...      0\n",
       "36  Mainland Asia includes the lower basin of Chin...      0\n",
       "37  pretty much everyone from warren countysurroun...      0\n",
       "38  Hi Explicit can you block O Fenian for editwar...      0\n",
       "39  Notability of Rurika Kasuga A tag has been pla...      0\n",
       "40  Sure but the lead must briefly summarize Armen...      0\n",
       "41  TFD I think we just eced I think we responded ...      0\n",
       "42  You are gay or antisemmitian Archangel WHite T...      1\n",
       "43             FUCK YOUR FILTHY MOTHER IN THE ASS DRY      1\n",
       "44  Im Sorry Im sorry I screwed around with someon...      1\n",
       "45  I dont believe the Lisak criticism present the...      0\n",
       "46  You had a point and its now ammended with appr...      0\n",
       "47  In other words youre too lazy to actually poin...      0\n",
       "48  As for your claims of stalking that is absolut...      0\n",
       "49  Jmabel in regards to predominant scholary cons...      0"
      ]
     },
     "execution_count": 8,
     "metadata": {},
     "output_type": "execute_result"
    }
   ],
   "source": [
    "df.head(50)"
   ]
  },
  {
   "cell_type": "markdown",
   "metadata": {},
   "source": [
    "Далее лемматизируем и удалим стоп слова. "
   ]
  },
  {
   "cell_type": "code",
   "execution_count": 9,
   "metadata": {
    "execution": {
     "iopub.execute_input": "2024-01-12T13:41:19.365064Z",
     "iopub.status.busy": "2024-01-12T13:41:19.364637Z",
     "iopub.status.idle": "2024-01-12T13:41:19.375373Z",
     "shell.execute_reply": "2024-01-12T13:41:19.374382Z",
     "shell.execute_reply.started": "2024-01-12T13:41:19.365026Z"
    }
   },
   "outputs": [],
   "source": [
    "def clean_and_lemmatize(text):\n",
    "    doc = nlp(text)\n",
    "    lemmas_and_stop_words = [token.lemma_ for token in doc if token.lemma_ not in STOP_WORDS]\n",
    "    cleaned_text = ' '.join(lemmas_and_stop_words)\n",
    "    return cleaned_text"
   ]
  },
  {
   "cell_type": "code",
   "execution_count": 10,
   "metadata": {
    "execution": {
     "iopub.execute_input": "2024-01-12T13:41:19.379472Z",
     "iopub.status.busy": "2024-01-12T13:41:19.379114Z",
     "iopub.status.idle": "2024-01-12T13:41:19.387119Z",
     "shell.execute_reply": "2024-01-12T13:41:19.386324Z",
     "shell.execute_reply.started": "2024-01-12T13:41:19.379437Z"
    }
   },
   "outputs": [],
   "source": [
    "tqdm.pandas()"
   ]
  },
  {
   "cell_type": "code",
   "execution_count": 11,
   "metadata": {
    "execution": {
     "iopub.execute_input": "2024-01-12T13:41:19.388586Z",
     "iopub.status.busy": "2024-01-12T13:41:19.388205Z",
     "iopub.status.idle": "2024-01-12T14:26:25.381516Z",
     "shell.execute_reply": "2024-01-12T14:26:25.380535Z",
     "shell.execute_reply.started": "2024-01-12T13:41:19.388560Z"
    }
   },
   "outputs": [
    {
     "name": "stderr",
     "output_type": "stream",
     "text": [
      "100%|██████████| 159292/159292 [45:05<00:00, 58.87it/s] \n"
     ]
    }
   ],
   "source": [
    "df['text'] = df['text'].progress_apply(clean_and_lemmatize)"
   ]
  },
  {
   "cell_type": "code",
   "execution_count": 12,
   "metadata": {
    "execution": {
     "iopub.execute_input": "2024-01-12T14:26:25.383267Z",
     "iopub.status.busy": "2024-01-12T14:26:25.382955Z",
     "iopub.status.idle": "2024-01-12T14:26:38.624566Z",
     "shell.execute_reply": "2024-01-12T14:26:38.623363Z",
     "shell.execute_reply.started": "2024-01-12T14:26:25.383242Z"
    }
   },
   "outputs": [
    {
     "name": "stdout",
     "output_type": "stream",
     "text": [
      "Requirement already satisfied: wordcloud in /opt/conda/lib/python3.10/site-packages (1.9.2)\n",
      "Requirement already satisfied: numpy>=1.6.1 in /opt/conda/lib/python3.10/site-packages (from wordcloud) (1.24.3)\n",
      "Requirement already satisfied: pillow in /opt/conda/lib/python3.10/site-packages (from wordcloud) (9.5.0)\n",
      "Requirement already satisfied: matplotlib in /opt/conda/lib/python3.10/site-packages (from wordcloud) (3.7.4)\n",
      "Requirement already satisfied: contourpy>=1.0.1 in /opt/conda/lib/python3.10/site-packages (from matplotlib->wordcloud) (1.1.0)\n",
      "Requirement already satisfied: cycler>=0.10 in /opt/conda/lib/python3.10/site-packages (from matplotlib->wordcloud) (0.11.0)\n",
      "Requirement already satisfied: fonttools>=4.22.0 in /opt/conda/lib/python3.10/site-packages (from matplotlib->wordcloud) (4.42.1)\n",
      "Requirement already satisfied: kiwisolver>=1.0.1 in /opt/conda/lib/python3.10/site-packages (from matplotlib->wordcloud) (1.4.4)\n",
      "Requirement already satisfied: packaging>=20.0 in /opt/conda/lib/python3.10/site-packages (from matplotlib->wordcloud) (21.3)\n",
      "Requirement already satisfied: pyparsing>=2.3.1 in /opt/conda/lib/python3.10/site-packages (from matplotlib->wordcloud) (3.0.9)\n",
      "Requirement already satisfied: python-dateutil>=2.7 in /opt/conda/lib/python3.10/site-packages (from matplotlib->wordcloud) (2.8.2)\n",
      "Requirement already satisfied: six>=1.5 in /opt/conda/lib/python3.10/site-packages (from python-dateutil>=2.7->matplotlib->wordcloud) (1.16.0)\n"
     ]
    }
   ],
   "source": [
    "!/opt/conda/bin/python -m pip install wordcloud "
   ]
  },
  {
   "cell_type": "code",
   "execution_count": 24,
   "metadata": {
    "execution": {
     "iopub.execute_input": "2024-01-12T14:46:26.998931Z",
     "iopub.status.busy": "2024-01-12T14:46:26.998080Z",
     "iopub.status.idle": "2024-01-12T14:46:27.130479Z",
     "shell.execute_reply": "2024-01-12T14:46:27.129375Z",
     "shell.execute_reply.started": "2024-01-12T14:46:26.998894Z"
    }
   },
   "outputs": [
    {
     "name": "stdout",
     "output_type": "stream",
     "text": [
      "0         explanation edit username hardcore metallica f...\n",
      "1         daww match background colour i m seemingly stu...\n",
      "2         hey man i m try edit war guy constantly remove...\n",
      "3         more i real suggestion improvement i wonder se...\n",
      "4                           sir hero chance remember page s\n",
      "                                ...                        \n",
      "159446    second time ask view completely contradict cov...\n",
      "159447                     ashamed horrible thing talk page\n",
      "159448    spitzer umm s actual article prostitution ring...\n",
      "159449      look like actually speedy version delete i look\n",
      "159450    i think understand i come idea bad right away ...\n",
      "Name: text, Length: 159292, dtype: object\n"
     ]
    }
   ],
   "source": [
    "df['text'] = df['text'].str.lower()\n",
    "print(df['text'])"
   ]
  },
  {
   "cell_type": "code",
   "execution_count": 25,
   "metadata": {
    "execution": {
     "iopub.execute_input": "2024-01-12T14:46:32.534137Z",
     "iopub.status.busy": "2024-01-12T14:46:32.533188Z",
     "iopub.status.idle": "2024-01-12T14:46:37.567897Z",
     "shell.execute_reply": "2024-01-12T14:46:37.566873Z",
     "shell.execute_reply.started": "2024-01-12T14:46:32.534101Z"
    }
   },
   "outputs": [
    {
     "data": {
      "image/png": "[encoded data removed]",
      "text/plain": [
       "<Figure size 1000x500 with 1 Axes>"
      ]
     },
     "metadata": {},
     "output_type": "display_data"
    }
   ],
   "source": [
    "# Создание облака слов для токсичных текстов\n",
    "toxic_words = ' '.join(df[df['toxic'] == 1]['text']).split()\n",
    "wordcloud_toxic = WordCloud(width=800, height=400, max_words=200, background_color='black').generate(' '.join(toxic_words))\n",
    "\n",
    "# Отображение облака слов для токсичных текстов\n",
    "plt.figure(figsize=(10, 5))\n",
    "plt.imshow(wordcloud_toxic, interpolation='bilinear')\n",
    "plt.axis('off')\n",
    "plt.show()"
   ]
  },
  {
   "cell_type": "markdown",
   "metadata": {},
   "source": [
    "## Обучение"
   ]
  },
  {
   "cell_type": "markdown",
   "metadata": {},
   "source": [
    "### Linear Regression"
   ]
  },
  {
   "cell_type": "markdown",
   "metadata": {},
   "source": [
    "Разделим выборки"
   ]
  },
  {
   "cell_type": "code",
   "execution_count": 26,
   "metadata": {
    "execution": {
     "iopub.execute_input": "2024-01-12T14:47:21.745228Z",
     "iopub.status.busy": "2024-01-12T14:47:21.744451Z",
     "iopub.status.idle": "2024-01-12T14:47:21.854289Z",
     "shell.execute_reply": "2024-01-12T14:47:21.853471Z",
     "shell.execute_reply.started": "2024-01-12T14:47:21.745195Z"
    }
   },
   "outputs": [],
   "source": [
    "train, test = train_test_split(df, test_size=0.2, random_state= RANDOM_STATE, stratify = df['toxic'])\n",
    "test, val = train_test_split(test, test_size=0.5, random_state= RANDOM_STATE, stratify = test['toxic'])"
   ]
  },
  {
   "cell_type": "code",
   "execution_count": 27,
   "metadata": {
    "execution": {
     "iopub.execute_input": "2024-01-12T14:47:23.570947Z",
     "iopub.status.busy": "2024-01-12T14:47:23.570173Z",
     "iopub.status.idle": "2024-01-12T14:47:23.575340Z",
     "shell.execute_reply": "2024-01-12T14:47:23.574219Z",
     "shell.execute_reply.started": "2024-01-12T14:47:23.570914Z"
    }
   },
   "outputs": [],
   "source": [
    "X = ['text']\n",
    "text_features = ['text']\n",
    "y = ['toxic']"
   ]
  },
  {
   "cell_type": "code",
   "execution_count": 28,
   "metadata": {
    "execution": {
     "iopub.execute_input": "2024-01-12T14:47:25.035084Z",
     "iopub.status.busy": "2024-01-12T14:47:25.034305Z",
     "iopub.status.idle": "2024-01-12T14:47:25.053294Z",
     "shell.execute_reply": "2024-01-12T14:47:25.052296Z",
     "shell.execute_reply.started": "2024-01-12T14:47:25.035049Z"
    }
   },
   "outputs": [],
   "source": [
    "X_train, y_train = train[text_features], train[y].values.ravel()\n",
    "X_val, y_val = val[text_features], val[y].values.ravel()\n",
    "X_test, y_test = test[text_features], test[y].values.ravel()"
   ]
  },
  {
   "cell_type": "code",
   "execution_count": 29,
   "metadata": {
    "execution": {
     "iopub.execute_input": "2024-01-12T14:47:30.667534Z",
     "iopub.status.busy": "2024-01-12T14:47:30.667114Z",
     "iopub.status.idle": "2024-01-12T15:02:08.984774Z",
     "shell.execute_reply": "2024-01-12T15:02:08.983761Z",
     "shell.execute_reply.started": "2024-01-12T14:47:30.667501Z"
    }
   },
   "outputs": [
    {
     "name": "stderr",
     "output_type": "stream",
     "text": [
      "[I 2024-01-12 14:47:30,675] A new study created in memory with name: no-name-fc1bcb30-9d18-4ea7-bdd0-ad6583d34682\n",
      "[I 2024-01-12 14:48:10,815] Trial 0 finished with value: 0.7733598409542743 and parameters: {'C': 81.13400277873694, 'penalty': 'l2', 'solver': 'saga', 'max_iter': 516}. Best is trial 0 with value: 0.7733598409542743.\n",
      "[I 2024-01-12 14:48:21,609] Trial 1 finished with value: 0.7833503923575571 and parameters: {'C': 7.221903554245897, 'penalty': 'l2', 'solver': 'liblinear', 'max_iter': 416}. Best is trial 1 with value: 0.7833503923575571.\n",
      "[I 2024-01-12 14:48:41,500] Trial 2 finished with value: 0.7799535346830401 and parameters: {'C': 41.59064086139884, 'penalty': 'l2', 'solver': 'newton-cg', 'max_iter': 652}. Best is trial 1 with value: 0.7833503923575571.\n",
      "[I 2024-01-12 14:48:58,134] Trial 3 finished with value: 0.7798195790177079 and parameters: {'C': 31.11440973346116, 'penalty': 'l2', 'solver': 'sag', 'max_iter': 224}. Best is trial 1 with value: 0.7833503923575571.\n",
      "[I 2024-01-12 14:49:16,482] Trial 4 finished with value: 0.7802086839447998 and parameters: {'C': 20.54878377567593, 'penalty': 'l2', 'solver': 'saga', 'max_iter': 264}. Best is trial 1 with value: 0.7833503923575571.\n",
      "[I 2024-01-12 14:49:26,819] Trial 5 finished with value: 0.7785515320334262 and parameters: {'C': 3.3177744927685393, 'penalty': 'l2', 'solver': 'saga', 'max_iter': 458}. Best is trial 1 with value: 0.7833503923575571.\n",
      "[I 2024-01-12 14:49:50,536] Trial 6 finished with value: 0.7789263087695899 and parameters: {'C': 34.37810845611459, 'penalty': 'l2', 'solver': 'saga', 'max_iter': 470}. Best is trial 1 with value: 0.7833503923575571.\n",
      "[I 2024-01-12 14:50:10,413] Trial 7 finished with value: 0.7798532354903269 and parameters: {'C': 33.23850024146433, 'penalty': 'l2', 'solver': 'newton-cg', 'max_iter': 611}. Best is trial 1 with value: 0.7833503923575571.\n",
      "[I 2024-01-12 14:50:33,003] Trial 8 finished with value: 0.7758620689655171 and parameters: {'C': 66.01504305690048, 'penalty': 'l2', 'solver': 'sag', 'max_iter': 227}. Best is trial 1 with value: 0.7833503923575571.\n",
      "[I 2024-01-12 14:50:53,068] Trial 9 finished with value: 0.7799535346830401 and parameters: {'C': 41.446933464560935, 'penalty': 'l2', 'solver': 'newton-cg', 'max_iter': 106}. Best is trial 1 with value: 0.7833503923575571.\n",
      "[I 2024-01-12 14:51:04,502] Trial 10 finished with value: 0.7837653478854025 and parameters: {'C': 7.909320668131016, 'penalty': 'l2', 'solver': 'liblinear', 'max_iter': 764}. Best is trial 10 with value: 0.7837653478854025.\n",
      "[I 2024-01-12 14:51:14,641] Trial 11 finished with value: 0.7745786516853932 and parameters: {'C': 2.6232331423390294, 'penalty': 'l2', 'solver': 'liblinear', 'max_iter': 794}. Best is trial 10 with value: 0.7837653478854025.\n",
      "[I 2024-01-12 14:51:26,311] Trial 12 finished with value: 0.7798444369293203 and parameters: {'C': 15.847538542259876, 'penalty': 'l2', 'solver': 'liblinear', 'max_iter': 352}. Best is trial 10 with value: 0.7837653478854025.\n",
      "[I 2024-01-12 14:51:41,966] Trial 13 finished with value: 0.7739590218109715 and parameters: {'C': 99.92515335561122, 'penalty': 'l2', 'solver': 'liblinear', 'max_iter': 799}. Best is trial 10 with value: 0.7837653478854025.\n",
      "[I 2024-01-12 14:52:32,115] Trial 14 finished with value: 0.7813134732566013 and parameters: {'C': 14.563677997261195, 'penalty': 'l2', 'solver': 'lbfgs', 'max_iter': 616}. Best is trial 10 with value: 0.7837653478854025.\n",
      "[I 2024-01-12 14:52:45,684] Trial 15 finished with value: 0.7768924302788843 and parameters: {'C': 57.36105885436363, 'penalty': 'l2', 'solver': 'liblinear', 'max_iter': 358}. Best is trial 10 with value: 0.7837653478854025.\n",
      "[I 2024-01-12 14:52:54,823] Trial 16 finished with value: 0.7383699292891702 and parameters: {'C': 0.9223501969899175, 'penalty': 'l2', 'solver': 'liblinear', 'max_iter': 687}. Best is trial 10 with value: 0.7837653478854025.\n",
      "[I 2024-01-12 14:53:50,031] Trial 17 finished with value: 0.7802086839447998 and parameters: {'C': 21.149762365375047, 'penalty': 'l2', 'solver': 'lbfgs', 'max_iter': 543}. Best is trial 10 with value: 0.7837653478854025.\n",
      "[I 2024-01-12 14:54:01,113] Trial 18 finished with value: 0.7830220713073005 and parameters: {'C': 10.808840016004448, 'penalty': 'l2', 'solver': 'liblinear', 'max_iter': 365}. Best is trial 10 with value: 0.7837653478854025.\n",
      "[I 2024-01-12 14:54:12,912] Trial 19 finished with value: 0.7806841046277666 and parameters: {'C': 25.51998698575793, 'penalty': 'l2', 'solver': 'liblinear', 'max_iter': 63}. Best is trial 10 with value: 0.7837653478854025.\n",
      "[I 2024-01-12 14:54:26,128] Trial 20 finished with value: 0.7763769077637691 and parameters: {'C': 59.054624589927904, 'penalty': 'l2', 'solver': 'liblinear', 'max_iter': 734}. Best is trial 10 with value: 0.7837653478854025.\n",
      "[I 2024-01-12 14:54:37,457] Trial 21 finished with value: 0.7834070044202651 and parameters: {'C': 10.046146592961291, 'penalty': 'l2', 'solver': 'liblinear', 'max_iter': 379}. Best is trial 10 with value: 0.7837653478854025.\n",
      "[I 2024-01-12 14:54:48,717] Trial 22 finished with value: 0.7831407205982324 and parameters: {'C': 10.167207803407189, 'penalty': 'l2', 'solver': 'liblinear', 'max_iter': 411}. Best is trial 10 with value: 0.7837653478854025.\n",
      "[I 2024-01-12 14:54:59,690] Trial 23 finished with value: 0.7840327533265097 and parameters: {'C': 7.724669884654318, 'penalty': 'l2', 'solver': 'liblinear', 'max_iter': 297}. Best is trial 23 with value: 0.7840327533265097.\n",
      "[I 2024-01-12 14:55:11,298] Trial 24 finished with value: 0.7804223935635266 and parameters: {'C': 25.822911010594986, 'penalty': 'l2', 'solver': 'liblinear', 'max_iter': 296}. Best is trial 23 with value: 0.7840327533265097.\n",
      "[I 2024-01-12 14:55:23,534] Trial 25 finished with value: 0.7799932409597836 and parameters: {'C': 16.454991219395044, 'penalty': 'l2', 'solver': 'sag', 'max_iter': 145}. Best is trial 23 with value: 0.7840327533265097.\n",
      "[I 2024-01-12 14:55:32,427] Trial 26 finished with value: 0.7253494522100492 and parameters: {'C': 0.7409178297680814, 'penalty': 'l2', 'solver': 'liblinear', 'max_iter': 306}. Best is trial 23 with value: 0.7840327533265097.\n",
      "/opt/conda/lib/python3.10/site-packages/sklearn/linear_model/_logistic.py:458: ConvergenceWarning: lbfgs failed to converge (status=1):\n",
      "STOP: TOTAL NO. of ITERATIONS REACHED LIMIT.\n",
      "\n",
      "Increase the number of iterations (max_iter) or scale the data as shown in:\n",
      "    https://scikit-learn.org/stable/modules/preprocessing.html\n",
      "Please also refer to the documentation for alternative solver options:\n",
      "    https://scikit-learn.org/stable/modules/linear_model.html#logistic-regression\n",
      "  n_iter_i = _check_optimize_result(\n",
      "[I 2024-01-12 14:56:01,454] Trial 27 finished with value: 0.7795144662454273 and parameters: {'C': 42.189477982685496, 'penalty': 'l2', 'solver': 'lbfgs', 'max_iter': 167}. Best is trial 23 with value: 0.7840327533265097.\n",
      "[I 2024-01-12 14:56:12,445] Trial 28 finished with value: 0.7847151142954623 and parameters: {'C': 8.633201292970412, 'penalty': 'l2', 'solver': 'liblinear', 'max_iter': 513}. Best is trial 28 with value: 0.7847151142954623.\n",
      "[I 2024-01-12 14:56:24,033] Trial 29 finished with value: 0.7806841046277666 and parameters: {'C': 25.284803249650277, 'penalty': 'l2', 'solver': 'liblinear', 'max_iter': 542}. Best is trial 28 with value: 0.7847151142954623.\n",
      "[I 2024-01-12 14:56:51,845] Trial 30 finished with value: 0.7743216412971541 and parameters: {'C': 85.08232441991343, 'penalty': 'l2', 'solver': 'sag', 'max_iter': 490}. Best is trial 28 with value: 0.7847151142954623.\n",
      "[I 2024-01-12 14:57:03,048] Trial 31 finished with value: 0.7834070044202651 and parameters: {'C': 10.075596217693395, 'penalty': 'l2', 'solver': 'liblinear', 'max_iter': 527}. Best is trial 28 with value: 0.7847151142954623.\n",
      "[I 2024-01-12 14:57:14,130] Trial 32 finished with value: 0.7837653478854025 and parameters: {'C': 8.314156744109615, 'penalty': 'l2', 'solver': 'liblinear', 'max_iter': 400}. Best is trial 28 with value: 0.7847151142954623.\n",
      "[I 2024-01-12 14:57:24,807] Trial 33 finished with value: 0.7842195540308748 and parameters: {'C': 5.758788884763041, 'penalty': 'l2', 'solver': 'liblinear', 'max_iter': 594}. Best is trial 28 with value: 0.7847151142954623.\n",
      "[I 2024-01-12 14:57:42,578] Trial 34 finished with value: 0.7811129848229342 and parameters: {'C': 19.153373586705026, 'penalty': 'l2', 'solver': 'newton-cg', 'max_iter': 593}. Best is trial 28 with value: 0.7847151142954623.\n",
      "[I 2024-01-12 14:57:53,458] Trial 35 finished with value: 0.7834416695176188 and parameters: {'C': 6.734038248428907, 'penalty': 'l2', 'solver': 'liblinear', 'max_iter': 702}. Best is trial 28 with value: 0.7847151142954623.\n",
      "[I 2024-01-12 14:58:09,609] Trial 36 finished with value: 0.7803722504230118 and parameters: {'C': 15.632153217655288, 'penalty': 'l2', 'solver': 'saga', 'max_iter': 738}. Best is trial 28 with value: 0.7847151142954623.\n",
      "[I 2024-01-12 14:58:19,571] Trial 37 finished with value: 0.7818559556786703 and parameters: {'C': 4.118311465808847, 'penalty': 'l2', 'solver': 'liblinear', 'max_iter': 663}. Best is trial 28 with value: 0.7847151142954623.\n",
      "[I 2024-01-12 14:58:40,924] Trial 38 finished with value: 0.7800802139037433 and parameters: {'C': 29.6342521016418, 'penalty': 'l2', 'solver': 'saga', 'max_iter': 448}. Best is trial 28 with value: 0.7847151142954623.\n",
      "[I 2024-01-12 14:59:51,523] Trial 39 finished with value: 0.7795144662454273 and parameters: {'C': 38.812470709934686, 'penalty': 'l2', 'solver': 'lbfgs', 'max_iter': 602}. Best is trial 28 with value: 0.7847151142954623.\n",
      "[I 2024-01-12 15:00:10,815] Trial 40 finished with value: 0.7803895231699126 and parameters: {'C': 23.224998413598044, 'penalty': 'l2', 'solver': 'newton-cg', 'max_iter': 491}. Best is trial 28 with value: 0.7847151142954623.\n",
      "[I 2024-01-12 15:00:21,320] Trial 41 finished with value: 0.7837653478854025 and parameters: {'C': 7.385416231705631, 'penalty': 'l2', 'solver': 'liblinear', 'max_iter': 414}. Best is trial 28 with value: 0.7847151142954623.\n",
      "[I 2024-01-12 15:00:32,012] Trial 42 finished with value: 0.7818120122158126 and parameters: {'C': 12.782919858929077, 'penalty': 'l2', 'solver': 'liblinear', 'max_iter': 569}. Best is trial 28 with value: 0.7847151142954623.\n",
      "[I 2024-01-12 15:00:39,875] Trial 43 finished with value: 0.2957894736842105 and parameters: {'C': 0.027087949037518655, 'penalty': 'l2', 'solver': 'liblinear', 'max_iter': 305}. Best is trial 28 with value: 0.7847151142954623.\n",
      "[I 2024-01-12 15:00:50,274] Trial 44 finished with value: 0.7841258980499487 and parameters: {'C': 6.529659805429006, 'penalty': 'l2', 'solver': 'liblinear', 'max_iter': 252}. Best is trial 28 with value: 0.7847151142954623.\n",
      "[I 2024-01-12 15:01:03,066] Trial 45 finished with value: 0.7811129848229342 and parameters: {'C': 19.425209461306977, 'penalty': 'l2', 'solver': 'sag', 'max_iter': 218}. Best is trial 28 with value: 0.7847151142954623.\n",
      "[I 2024-01-12 15:01:13,052] Trial 46 finished with value: 0.7818559556786703 and parameters: {'C': 4.090890200198121, 'penalty': 'l2', 'solver': 'liblinear', 'max_iter': 255}. Best is trial 28 with value: 0.7847151142954623.\n",
      "[I 2024-01-12 15:01:24,428] Trial 47 finished with value: 0.7832360013740983 and parameters: {'C': 5.6361379131672145, 'penalty': 'l2', 'solver': 'saga', 'max_iter': 183}. Best is trial 28 with value: 0.7847151142954623.\n",
      "[I 2024-01-12 15:01:38,743] Trial 48 finished with value: 0.7733598409542743 and parameters: {'C': 75.36473896024867, 'penalty': 'l2', 'solver': 'liblinear', 'max_iter': 643}. Best is trial 28 with value: 0.7847151142954623.\n",
      "[I 2024-01-12 15:01:58,040] Trial 49 finished with value: 0.7798195790177079 and parameters: {'C': 31.019477839063445, 'penalty': 'l2', 'solver': 'newton-cg', 'max_iter': 329}. Best is trial 28 with value: 0.7847151142954623.\n"
     ]
    },
    {
     "name": "stdout",
     "output_type": "stream",
     "text": [
      "Best hyperparameters: {'C': 8.633201292970412, 'penalty': 'l2', 'solver': 'liblinear', 'max_iter': 513}\n"
     ]
    },
    {
     "data": {
      "text/html": [
       "<style>#sk-container-id-1 {color: black;background-color: white;}#sk-container-id-1 pre{padding: 0;}#sk-container-id-1 div.sk-toggleable {background-color: white;}#sk-container-id-1 label.sk-toggleable__label {cursor: pointer;display: block;width: 100%;margin-bottom: 0;padding: 0.3em;box-sizing: border-box;text-align: center;}#sk-container-id-1 label.sk-toggleable__label-arrow:before {content: \"▸\";float: left;margin-right: 0.25em;color: #696969;}#sk-container-id-1 label.sk-toggleable__label-arrow:hover:before {color: black;}#sk-container-id-1 div.sk-estimator:hover label.sk-toggleable__label-arrow:before {color: black;}#sk-container-id-1 div.sk-toggleable__content {max-height: 0;max-width: 0;overflow: hidden;text-align: left;background-color: #f0f8ff;}#sk-container-id-1 div.sk-toggleable__content pre {margin: 0.2em;color: black;border-radius: 0.25em;background-color: #f0f8ff;}#sk-container-id-1 input.sk-toggleable__control:checked~div.sk-toggleable__content {max-height: 200px;max-width: 100%;overflow: auto;}#sk-container-id-1 input.sk-toggleable__control:checked~label.sk-toggleable__label-arrow:before {content: \"▾\";}#sk-container-id-1 div.sk-estimator input.sk-toggleable__control:checked~label.sk-toggleable__label {background-color: #d4ebff;}#sk-container-id-1 div.sk-label input.sk-toggleable__control:checked~label.sk-toggleable__label {background-color: #d4ebff;}#sk-container-id-1 input.sk-hidden--visually {border: 0;clip: rect(1px 1px 1px 1px);clip: rect(1px, 1px, 1px, 1px);height: 1px;margin: -1px;overflow: hidden;padding: 0;position: absolute;width: 1px;}#sk-container-id-1 div.sk-estimator {font-family: monospace;background-color: #f0f8ff;border: 1px dotted black;border-radius: 0.25em;box-sizing: border-box;margin-bottom: 0.5em;}#sk-container-id-1 div.sk-estimator:hover {background-color: #d4ebff;}#sk-container-id-1 div.sk-parallel-item::after {content: \"\";width: 100%;border-bottom: 1px solid gray;flex-grow: 1;}#sk-container-id-1 div.sk-label:hover label.sk-toggleable__label {background-color: #d4ebff;}#sk-container-id-1 div.sk-serial::before {content: \"\";position: absolute;border-left: 1px solid gray;box-sizing: border-box;top: 0;bottom: 0;left: 50%;z-index: 0;}#sk-container-id-1 div.sk-serial {display: flex;flex-direction: column;align-items: center;background-color: white;padding-right: 0.2em;padding-left: 0.2em;position: relative;}#sk-container-id-1 div.sk-item {position: relative;z-index: 1;}#sk-container-id-1 div.sk-parallel {display: flex;align-items: stretch;justify-content: center;background-color: white;position: relative;}#sk-container-id-1 div.sk-item::before, #sk-container-id-1 div.sk-parallel-item::before {content: \"\";position: absolute;border-left: 1px solid gray;box-sizing: border-box;top: 0;bottom: 0;left: 50%;z-index: -1;}#sk-container-id-1 div.sk-parallel-item {display: flex;flex-direction: column;z-index: 1;position: relative;background-color: white;}#sk-container-id-1 div.sk-parallel-item:first-child::after {align-self: flex-end;width: 50%;}#sk-container-id-1 div.sk-parallel-item:last-child::after {align-self: flex-start;width: 50%;}#sk-container-id-1 div.sk-parallel-item:only-child::after {width: 0;}#sk-container-id-1 div.sk-dashed-wrapped {border: 1px dashed gray;margin: 0 0.4em 0.5em 0.4em;box-sizing: border-box;padding-bottom: 0.4em;background-color: white;}#sk-container-id-1 div.sk-label label {font-family: monospace;font-weight: bold;display: inline-block;line-height: 1.2em;}#sk-container-id-1 div.sk-label-container {text-align: center;}#sk-container-id-1 div.sk-container {/* jupyter's `normalize.less` sets `[hidden] { display: none; }` but bootstrap.min.css set `[hidden] { display: none !important; }` so we also need the `!important` here to be able to override the default hidden behavior on the sphinx rendered scikit-learn.org. See: https://github.com/scikit-learn/scikit-learn/issues/21755 */display: inline-block !important;position: relative;}#sk-container-id-1 div.sk-text-repr-fallback {display: none;}</style><div id=\"sk-container-id-1\" class=\"sk-top-container\"><div class=\"sk-text-repr-fallback\"><pre>Pipeline(steps=[(&#x27;tfidf&#x27;, TfidfVectorizer()),\n",
       "                (&#x27;classifier&#x27;,\n",
       "                 LogisticRegression(C=8.633201292970412, max_iter=513,\n",
       "                                    solver=&#x27;liblinear&#x27;))])</pre><b>In a Jupyter environment, please rerun this cell to show the HTML representation or trust the notebook. <br />On GitHub, the HTML representation is unable to render, please try loading this page with nbviewer.org.</b></div><div class=\"sk-container\" hidden><div class=\"sk-item sk-dashed-wrapped\"><div class=\"sk-label-container\"><div class=\"sk-label sk-toggleable\"><input class=\"sk-toggleable__control sk-hidden--visually\" id=\"sk-estimator-id-1\" type=\"checkbox\" ><label for=\"sk-estimator-id-1\" class=\"sk-toggleable__label sk-toggleable__label-arrow\">Pipeline</label><div class=\"sk-toggleable__content\"><pre>Pipeline(steps=[(&#x27;tfidf&#x27;, TfidfVectorizer()),\n",
       "                (&#x27;classifier&#x27;,\n",
       "                 LogisticRegression(C=8.633201292970412, max_iter=513,\n",
       "                                    solver=&#x27;liblinear&#x27;))])</pre></div></div></div><div class=\"sk-serial\"><div class=\"sk-item\"><div class=\"sk-estimator sk-toggleable\"><input class=\"sk-toggleable__control sk-hidden--visually\" id=\"sk-estimator-id-2\" type=\"checkbox\" ><label for=\"sk-estimator-id-2\" class=\"sk-toggleable__label sk-toggleable__label-arrow\">TfidfVectorizer</label><div class=\"sk-toggleable__content\"><pre>TfidfVectorizer()</pre></div></div></div><div class=\"sk-item\"><div class=\"sk-estimator sk-toggleable\"><input class=\"sk-toggleable__control sk-hidden--visually\" id=\"sk-estimator-id-3\" type=\"checkbox\" ><label for=\"sk-estimator-id-3\" class=\"sk-toggleable__label sk-toggleable__label-arrow\">LogisticRegression</label><div class=\"sk-toggleable__content\"><pre>LogisticRegression(C=8.633201292970412, max_iter=513, solver=&#x27;liblinear&#x27;)</pre></div></div></div></div></div></div></div>"
      ],
      "text/plain": [
       "Pipeline(steps=[('tfidf', TfidfVectorizer()),\n",
       "                ('classifier',\n",
       "                 LogisticRegression(C=8.633201292970412, max_iter=513,\n",
       "                                    solver='liblinear'))])"
      ]
     },
     "execution_count": 29,
     "metadata": {},
     "output_type": "execute_result"
    }
   ],
   "source": [
    "def objective(trial):\n",
    "    # Определение модели с несколькими гиперпараметрами\n",
    "    model = LogisticRegression(\n",
    "        C=trial.suggest_float(\"C\", 1e-5, 1e2),\n",
    "        penalty=trial.suggest_categorical(\"penalty\", [ 'l2']),\n",
    "        solver=trial.suggest_categorical(\"solver\", ['newton-cg', 'lbfgs', 'liblinear', 'sag', 'saga']),\n",
    "        max_iter=trial.suggest_int(\"max_iter\", 50, 800)\n",
    "    )\n",
    "  \n",
    "    # Определение pipeline\n",
    "    pipeline = Pipeline([\n",
    "        ('tfidf', TfidfVectorizer()),  # Преобразование текста в TF-IDF признаки\n",
    "        ('classifier', model)  # Обучение логистической регрессии\n",
    "    ])\n",
    "\n",
    "    # Обучение и оценка модели\n",
    "    pipeline.fit(X_train['text'], y_train)\n",
    "    y_val_pred = pipeline.predict(X_val['text'])\n",
    "    f1 = f1_score(y_val, y_val_pred, average='binary')  # Метрика F1 для бинарной классификации\n",
    "\n",
    "    return f1\n",
    "\n",
    "# запуск оптимизации\n",
    "study = optuna.create_study(direction=\"maximize\")\n",
    "study.optimize(objective, n_trials=30)\n",
    "\n",
    "# Получение лучших гиперпараметров\n",
    "best_params = study.best_params\n",
    "print('Best hyperparameters:', best_params)\n",
    "\n",
    "# Создание финальной модели с лучшими гиперпараметрами\n",
    "best_model = LogisticRegression(\n",
    "    C=best_params[\"C\"],\n",
    "    penalty=best_params[\"penalty\"],\n",
    "    solver=best_params[\"solver\"],\n",
    "    max_iter=best_params[\"max_iter\"]\n",
    ")\n",
    "final_pipeline = Pipeline([\n",
    "    ('tfidf', TfidfVectorizer()), \n",
    "    ('classifier', best_model)  \n",
    "])\n",
    "\n",
    "# Обучение финальной модели на всем тренировочном наборе\n",
    "final_pipeline.fit(X_train['text'], y_train)\n"
   ]
  },
  {
   "cell_type": "code",
   "execution_count": 53,
   "metadata": {
    "execution": {
     "iopub.execute_input": "2024-01-12T17:23:42.355225Z",
     "iopub.status.busy": "2024-01-12T17:23:42.354204Z",
     "iopub.status.idle": "2024-01-12T17:23:43.012697Z",
     "shell.execute_reply": "2024-01-12T17:23:43.011606Z",
     "shell.execute_reply.started": "2024-01-12T17:23:42.355188Z"
    }
   },
   "outputs": [
    {
     "data": {
      "text/plain": [
       "0.7847151142954623"
      ]
     },
     "execution_count": 53,
     "metadata": {},
     "output_type": "execute_result"
    }
   ],
   "source": [
    "y_val_pred = final_pipeline.predict(X_val['text'])\n",
    "f1_lr = f1_score(y_val, y_val_pred, average='binary')\n",
    "f1_lr"
   ]
  },
  {
   "cell_type": "code",
   "execution_count": 31,
   "metadata": {
    "execution": {
     "iopub.execute_input": "2024-01-12T15:02:09.626223Z",
     "iopub.status.busy": "2024-01-12T15:02:09.625887Z",
     "iopub.status.idle": "2024-01-12T15:02:09.633626Z",
     "shell.execute_reply": "2024-01-12T15:02:09.632628Z",
     "shell.execute_reply.started": "2024-01-12T15:02:09.626193Z"
    }
   },
   "outputs": [],
   "source": [
    "# Assuming val['toxic'] contains the true binary labels and val['y_score'] contains the model's predicted probabilities\n",
    "def calculate_optimal_threshold(true_labels, predicted_probabilities):\n",
    "    # Calculate F1 score for different thresholds\n",
    "    thresholds = np.linspace(0, 1, 101)\n",
    "    f1_scores = []\n",
    "    for threshold in thresholds:\n",
    "        predicted_labels = (predicted_probabilities >= threshold).astype(int)\n",
    "        f1 = f1_score(true_labels, predicted_labels)\n",
    "        f1_scores.append(f1)\n",
    "\n",
    "    # Find threshold with the maximum F1 score\n",
    "    max_f1_index = np.argmax(f1_scores)\n",
    "    optimal_threshold = thresholds[max_f1_index]\n",
    "    max_f1_score = f1_scores[max_f1_index]\n",
    "\n",
    "    return optimal_threshold, max_f1_score"
   ]
  },
  {
   "cell_type": "markdown",
   "metadata": {},
   "source": [
    "### CatBoost"
   ]
  },
  {
   "cell_type": "markdown",
   "metadata": {},
   "source": [
    "CatBoost умеет работать с текстовыми фичами, поэтому доп. преобразований проводить не надо"
   ]
  },
  {
   "cell_type": "code",
   "execution_count": 37,
   "metadata": {
    "execution": {
     "iopub.execute_input": "2024-01-12T16:46:29.728484Z",
     "iopub.status.busy": "2024-01-12T16:46:29.728075Z",
     "iopub.status.idle": "2024-01-12T17:02:03.810729Z",
     "shell.execute_reply": "2024-01-12T17:02:03.809583Z",
     "shell.execute_reply.started": "2024-01-12T16:46:29.728451Z"
    }
   },
   "outputs": [
    {
     "name": "stderr",
     "output_type": "stream",
     "text": [
      "[I 2024-01-12 16:46:29,737] A new study created in memory with name: no-name-abad4155-4872-4542-b1a4-d1aabbe45fa3\n"
     ]
    },
    {
     "name": "stdout",
     "output_type": "stream",
     "text": [
      "0:\tlearn: 0.6656730\ttotal: 112ms\tremaining: 1m 19s\n",
      "100:\tlearn: 0.1624332\ttotal: 9.52s\tremaining: 57.3s\n",
      "200:\tlearn: 0.1485165\ttotal: 18.9s\tremaining: 47.8s\n",
      "300:\tlearn: 0.1424564\ttotal: 28.4s\tremaining: 38.4s\n",
      "400:\tlearn: 0.1383216\ttotal: 37.7s\tremaining: 28.9s\n",
      "500:\tlearn: 0.1347958\ttotal: 47.2s\tremaining: 19.6s\n",
      "600:\tlearn: 0.1316343\ttotal: 56.6s\tremaining: 10.2s\n",
      "700:\tlearn: 0.1290103\ttotal: 1m 5s\tremaining: 752ms\n",
      "708:\tlearn: 0.1288322\ttotal: 1m 6s\tremaining: 0us\n"
     ]
    },
    {
     "name": "stderr",
     "output_type": "stream",
     "text": [
      "[I 2024-01-12 16:47:42,196] Trial 0 finished with value: 0.7537154989384289 and parameters: {'iterations': 709, 'learning_rate': 0.0184278621656654, 'depth': 10, 'l2_leaf_reg': 0.029012007708096928, 'bootstrap_type': 'Bayesian', 'random_strength': 1.406403054129803e-06, 'bagging_temperature': 6.664228129428025, 'od_type': 'Iter', 'od_wait': 45}. Best is trial 0 with value: 0.7537154989384289.\n"
     ]
    },
    {
     "name": "stdout",
     "output_type": "stream",
     "text": [
      "0:\tlearn: 0.6767714\ttotal: 14.2ms\tremaining: 12.9s\n",
      "100:\tlearn: 0.1936762\ttotal: 1.84s\tremaining: 14.7s\n",
      "200:\tlearn: 0.1593775\ttotal: 3.57s\tremaining: 12.6s\n",
      "300:\tlearn: 0.1520727\ttotal: 5.31s\tremaining: 10.7s\n",
      "400:\tlearn: 0.1482941\ttotal: 6.97s\tremaining: 8.81s\n",
      "500:\tlearn: 0.1458872\ttotal: 8.68s\tremaining: 7.05s\n",
      "600:\tlearn: 0.1438444\ttotal: 10.4s\tremaining: 5.32s\n",
      "700:\tlearn: 0.1420443\ttotal: 12s\tremaining: 3.56s\n",
      "800:\tlearn: 0.1406195\ttotal: 13.7s\tremaining: 1.83s\n",
      "900:\tlearn: 0.1393919\ttotal: 15.5s\tremaining: 120ms\n",
      "907:\tlearn: 0.1393144\ttotal: 15.6s\tremaining: 0us\n"
     ]
    },
    {
     "name": "stderr",
     "output_type": "stream",
     "text": [
      "[I 2024-01-12 16:48:03,306] Trial 1 finished with value: 0.7499118165784833 and parameters: {'iterations': 908, 'learning_rate': 0.010725693067121693, 'depth': 4, 'l2_leaf_reg': 3.2067223325320057e-07, 'bootstrap_type': 'Bayesian', 'random_strength': 2.863440763072341e-05, 'bagging_temperature': 1.8749969835509472, 'od_type': 'IncToDec', 'od_wait': 11}. Best is trial 0 with value: 0.7537154989384289.\n"
     ]
    },
    {
     "name": "stdout",
     "output_type": "stream",
     "text": [
      "0:\tlearn: 0.6769189\ttotal: 67.7ms\tremaining: 44.7s\n",
      "100:\tlearn: 0.1976342\ttotal: 5.62s\tremaining: 31.2s\n",
      "200:\tlearn: 0.1597910\ttotal: 11.2s\tremaining: 25.6s\n",
      "300:\tlearn: 0.1507710\ttotal: 17s\tremaining: 20.3s\n",
      "400:\tlearn: 0.1465911\ttotal: 22.6s\tremaining: 14.6s\n",
      "500:\tlearn: 0.1434052\ttotal: 28.1s\tremaining: 8.98s\n",
      "600:\tlearn: 0.1408428\ttotal: 33.7s\tremaining: 3.36s\n",
      "660:\tlearn: 0.1395941\ttotal: 37s\tremaining: 0us\n"
     ]
    },
    {
     "name": "stderr",
     "output_type": "stream",
     "text": [
      "[I 2024-01-12 16:48:46,218] Trial 2 finished with value: 0.745679012345679 and parameters: {'iterations': 661, 'learning_rate': 0.009856605390053034, 'depth': 9, 'l2_leaf_reg': 9.669478942486824e-06, 'bootstrap_type': 'Bayesian', 'random_strength': 0.05281146496595148, 'bagging_temperature': 4.597895023877468, 'od_type': 'IncToDec', 'od_wait': 22}. Best is trial 0 with value: 0.7537154989384289.\n"
     ]
    },
    {
     "name": "stdout",
     "output_type": "stream",
     "text": [
      "0:\tlearn: 0.6728240\ttotal: 79.2ms\tremaining: 1m 6s\n",
      "100:\tlearn: 0.1810780\ttotal: 5.7s\tremaining: 41.8s\n",
      "200:\tlearn: 0.1599758\ttotal: 11.2s\tremaining: 35.7s\n",
      "300:\tlearn: 0.1530016\ttotal: 16.8s\tremaining: 30.1s\n",
      "400:\tlearn: 0.1484242\ttotal: 22.3s\tremaining: 24.5s\n",
      "500:\tlearn: 0.1447074\ttotal: 27.9s\tremaining: 18.9s\n",
      "600:\tlearn: 0.1415409\ttotal: 33.5s\tremaining: 13.4s\n",
      "700:\tlearn: 0.1386089\ttotal: 39.1s\tremaining: 7.81s\n",
      "800:\tlearn: 0.1359717\ttotal: 44.6s\tremaining: 2.23s\n",
      "840:\tlearn: 0.1350692\ttotal: 46.9s\tremaining: 0us\n"
     ]
    },
    {
     "name": "stderr",
     "output_type": "stream",
     "text": [
      "[I 2024-01-12 16:49:38,982] Trial 3 finished with value: 0.7474318101310663 and parameters: {'iterations': 841, 'learning_rate': 0.014055868509488183, 'depth': 9, 'l2_leaf_reg': 5.983961863515435e-08, 'bootstrap_type': 'Bayesian', 'random_strength': 0.6497484384572527, 'bagging_temperature': 9.819303841630525, 'od_type': 'Iter', 'od_wait': 40}. Best is trial 0 with value: 0.7537154989384289.\n"
     ]
    },
    {
     "name": "stdout",
     "output_type": "stream",
     "text": [
      "0:\tlearn: 0.6913191\ttotal: 53.7ms\tremaining: 35.7s\n",
      "100:\tlearn: 0.5368417\ttotal: 3.85s\tremaining: 21.5s\n",
      "200:\tlearn: 0.4301391\ttotal: 7.61s\tremaining: 17.6s\n",
      "300:\tlearn: 0.3558392\ttotal: 11.5s\tremaining: 13.9s\n",
      "400:\tlearn: 0.3045750\ttotal: 15.3s\tremaining: 10.1s\n",
      "500:\tlearn: 0.2682622\ttotal: 19s\tremaining: 6.26s\n",
      "600:\tlearn: 0.2421770\ttotal: 22.8s\tremaining: 2.47s\n",
      "665:\tlearn: 0.2290008\ttotal: 25.2s\tremaining: 0us\n"
     ]
    },
    {
     "name": "stderr",
     "output_type": "stream",
     "text": [
      "[I 2024-01-12 16:50:09,796] Trial 4 finished with value: 0.7183762232693006 and parameters: {'iterations': 666, 'learning_rate': 0.001226351528197156, 'depth': 8, 'l2_leaf_reg': 0.0021043973633442397, 'bootstrap_type': 'Bayesian', 'random_strength': 0.6798087267263443, 'bagging_temperature': 6.524396399374314, 'od_type': 'Iter', 'od_wait': 33}. Best is trial 0 with value: 0.7537154989384289.\n"
     ]
    },
    {
     "name": "stdout",
     "output_type": "stream",
     "text": [
      "0:\tlearn: 0.6801346\ttotal: 14.6ms\tremaining: 11.2s\n",
      "100:\tlearn: 0.2267070\ttotal: 1.84s\tremaining: 12.1s\n",
      "200:\tlearn: 0.1794572\ttotal: 3.69s\tremaining: 10.4s\n",
      "300:\tlearn: 0.1683449\ttotal: 5.51s\tremaining: 8.57s\n",
      "400:\tlearn: 0.1638699\ttotal: 7.44s\tremaining: 6.83s\n",
      "500:\tlearn: 0.1610569\ttotal: 9.3s\tremaining: 4.97s\n",
      "600:\tlearn: 0.1589566\ttotal: 11.1s\tremaining: 3.11s\n",
      "700:\tlearn: 0.1571735\ttotal: 13.1s\tremaining: 1.27s\n",
      "768:\tlearn: 0.1557955\ttotal: 14.4s\tremaining: 0us\n"
     ]
    },
    {
     "name": "stderr",
     "output_type": "stream",
     "text": [
      "[I 2024-01-12 16:50:29,793] Trial 5 finished with value: 0.7326732673267328 and parameters: {'iterations': 769, 'learning_rate': 0.008856138023097525, 'depth': 5, 'l2_leaf_reg': 0.12107713676326337, 'bootstrap_type': 'Bayesian', 'random_strength': 0.009916427083202742, 'bagging_temperature': 6.458626118028844, 'od_type': 'IncToDec', 'od_wait': 49}. Best is trial 0 with value: 0.7537154989384289.\n"
     ]
    },
    {
     "name": "stdout",
     "output_type": "stream",
     "text": [
      "0:\tlearn: 0.6891640\ttotal: 103ms\tremaining: 1m 34s\n",
      "100:\tlearn: 0.4052642\ttotal: 9.51s\tremaining: 1m 17s\n",
      "200:\tlearn: 0.2791907\ttotal: 18.9s\tremaining: 1m 8s\n",
      "300:\tlearn: 0.2208670\ttotal: 28.4s\tremaining: 58.8s\n",
      "400:\tlearn: 0.1921814\ttotal: 37.8s\tremaining: 49.2s\n",
      "500:\tlearn: 0.1770979\ttotal: 47.2s\tremaining: 39.8s\n",
      "600:\tlearn: 0.1685231\ttotal: 56.7s\tremaining: 30.4s\n",
      "700:\tlearn: 0.1632403\ttotal: 1m 5s\tremaining: 20.9s\n",
      "800:\tlearn: 0.1593634\ttotal: 1m 15s\tremaining: 11.5s\n",
      "900:\tlearn: 0.1565359\ttotal: 1m 24s\tremaining: 2.07s\n",
      "922:\tlearn: 0.1560538\ttotal: 1m 27s\tremaining: 0us\n"
     ]
    },
    {
     "name": "stderr",
     "output_type": "stream",
     "text": [
      "[I 2024-01-12 16:52:02,660] Trial 6 finished with value: 0.7334283677833215 and parameters: {'iterations': 923, 'learning_rate': 0.002735568306170248, 'depth': 10, 'l2_leaf_reg': 7.317361186878127e-08, 'bootstrap_type': 'Bayesian', 'random_strength': 0.00011888348391323143, 'bagging_temperature': 7.124837144324603, 'od_type': 'Iter', 'od_wait': 46}. Best is trial 0 with value: 0.7537154989384289.\n"
     ]
    },
    {
     "name": "stdout",
     "output_type": "stream",
     "text": [
      "0:\tlearn: 0.6778653\ttotal: 19.6ms\tremaining: 12s\n",
      "100:\tlearn: 0.2044760\ttotal: 2.16s\tremaining: 10.9s\n",
      "200:\tlearn: 0.1729782\ttotal: 4.24s\tremaining: 8.67s\n",
      "300:\tlearn: 0.1654778\ttotal: 6.39s\tremaining: 6.6s\n",
      "400:\tlearn: 0.1616883\ttotal: 8.49s\tremaining: 4.47s\n",
      "500:\tlearn: 0.1587762\ttotal: 10.7s\tremaining: 2.36s\n",
      "600:\tlearn: 0.1560870\ttotal: 12.7s\tremaining: 233ms\n",
      "611:\tlearn: 0.1557736\ttotal: 12.9s\tremaining: 0us\n"
     ]
    },
    {
     "name": "stderr",
     "output_type": "stream",
     "text": [
      "[I 2024-01-12 16:52:21,240] Trial 7 finished with value: 0.7324142806645458 and parameters: {'iterations': 612, 'learning_rate': 0.011563167955534732, 'depth': 6, 'l2_leaf_reg': 7.229279339514956e-07, 'bootstrap_type': 'Bayesian', 'random_strength': 0.00010184832296408265, 'bagging_temperature': 9.523848933909413, 'od_type': 'IncToDec', 'od_wait': 17}. Best is trial 0 with value: 0.7537154989384289.\n"
     ]
    },
    {
     "name": "stdout",
     "output_type": "stream",
     "text": [
      "0:\tlearn: 0.6046488\ttotal: 50.7ms\tremaining: 38.7s\n",
      "100:\tlearn: 0.1504227\ttotal: 3.8s\tremaining: 24.9s\n",
      "200:\tlearn: 0.1420322\ttotal: 7.64s\tremaining: 21.4s\n",
      "300:\tlearn: 0.1374352\ttotal: 11.4s\tremaining: 17.5s\n",
      "400:\tlearn: 0.1343214\ttotal: 15.1s\tremaining: 13.7s\n",
      "500:\tlearn: 0.1316803\ttotal: 18.9s\tremaining: 9.91s\n",
      "600:\tlearn: 0.1293050\ttotal: 22.6s\tremaining: 6.13s\n",
      "700:\tlearn: 0.1273150\ttotal: 26.3s\tremaining: 2.36s\n",
      "763:\tlearn: 0.1263988\ttotal: 28.7s\tremaining: 0us\n"
     ]
    },
    {
     "name": "stderr",
     "output_type": "stream",
     "text": [
      "[I 2024-01-12 16:52:55,597] Trial 8 finished with value: 0.7576289021396002 and parameters: {'iterations': 764, 'learning_rate': 0.06327622990972105, 'depth': 8, 'l2_leaf_reg': 70.50089497068879, 'bootstrap_type': 'Bayesian', 'random_strength': 3.266464242459714e-05, 'bagging_temperature': 7.966680350850904, 'od_type': 'Iter', 'od_wait': 10}. Best is trial 8 with value: 0.7576289021396002.\n"
     ]
    },
    {
     "name": "stdout",
     "output_type": "stream",
     "text": [
      "0:\tlearn: 0.6868444\ttotal: 54.5ms\tremaining: 27.6s\n",
      "100:\tlearn: 0.3258408\ttotal: 3.92s\tremaining: 15.7s\n",
      "200:\tlearn: 0.2213052\ttotal: 7.74s\tremaining: 11.8s\n",
      "300:\tlearn: 0.1849414\ttotal: 11.5s\tremaining: 7.88s\n",
      "400:\tlearn: 0.1705939\ttotal: 15.3s\tremaining: 4.04s\n",
      "500:\tlearn: 0.1634397\ttotal: 19s\tremaining: 227ms\n",
      "506:\tlearn: 0.1631236\ttotal: 19.2s\tremaining: 0us\n"
     ]
    },
    {
     "name": "stderr",
     "output_type": "stream",
     "text": [
      "[I 2024-01-12 16:53:20,393] Trial 9 finished with value: 0.7281867145421904 and parameters: {'iterations': 507, 'learning_rate': 0.004250167409298242, 'depth': 8, 'l2_leaf_reg': 0.0010531727005963275, 'bootstrap_type': 'Bayesian', 'random_strength': 5.412843779247202e-08, 'bagging_temperature': 5.9678014085133535, 'od_type': 'Iter', 'od_wait': 47}. Best is trial 8 with value: 0.7576289021396002.\n"
     ]
    },
    {
     "name": "stdout",
     "output_type": "stream",
     "text": [
      "0:\tlearn: 0.5599581\ttotal: 24.7ms\tremaining: 19.8s\n",
      "100:\tlearn: 0.1304867\ttotal: 2.82s\tremaining: 19.6s\n",
      "200:\tlearn: 0.1232849\ttotal: 5.65s\tremaining: 16.9s\n",
      "300:\tlearn: 0.1196002\ttotal: 8.49s\tremaining: 14.1s\n",
      "400:\tlearn: 0.1174772\ttotal: 11.4s\tremaining: 11.4s\n",
      "500:\tlearn: 0.1156964\ttotal: 14.1s\tremaining: 8.48s\n",
      "600:\tlearn: 0.1141431\ttotal: 16.9s\tremaining: 5.64s\n",
      "700:\tlearn: 0.1131157\ttotal: 19.6s\tremaining: 2.83s\n",
      "800:\tlearn: 0.1118163\ttotal: 22.4s\tremaining: 27.9ms\n",
      "801:\tlearn: 0.1118104\ttotal: 22.4s\tremaining: 0us\n"
     ]
    },
    {
     "name": "stderr",
     "output_type": "stream",
     "text": [
      "[I 2024-01-12 16:53:48,383] Trial 10 finished with value: 0.769496204278813 and parameters: {'iterations': 802, 'learning_rate': 0.09028266467030953, 'depth': 7, 'l2_leaf_reg': 35.487586321120226, 'bootstrap_type': 'Bayesian', 'random_strength': 4.380140374482195e-08, 'bagging_temperature': 0.2909043360886967, 'od_type': 'Iter', 'od_wait': 26}. Best is trial 10 with value: 0.769496204278813.\n"
     ]
    },
    {
     "name": "stdout",
     "output_type": "stream",
     "text": [
      "0:\tlearn: 0.5563605\ttotal: 41.5ms\tremaining: 33.1s\n",
      "100:\tlearn: 0.1316540\ttotal: 2.81s\tremaining: 19.4s\n",
      "200:\tlearn: 0.1246640\ttotal: 5.53s\tremaining: 16.4s\n",
      "300:\tlearn: 0.1211316\ttotal: 8.29s\tremaining: 13.7s\n",
      "400:\tlearn: 0.1187587\ttotal: 11.1s\tremaining: 10.9s\n",
      "500:\tlearn: 0.1169934\ttotal: 13.8s\tremaining: 8.15s\n",
      "600:\tlearn: 0.1155556\ttotal: 16.5s\tremaining: 5.42s\n",
      "700:\tlearn: 0.1145102\ttotal: 19.2s\tremaining: 2.65s\n",
      "797:\tlearn: 0.1135750\ttotal: 21.8s\tremaining: 0us\n"
     ]
    },
    {
     "name": "stderr",
     "output_type": "stream",
     "text": [
      "[I 2024-01-12 16:54:15,720] Trial 11 finished with value: 0.772508591065292 and parameters: {'iterations': 798, 'learning_rate': 0.09289760943300962, 'depth': 7, 'l2_leaf_reg': 80.19687870369397, 'bootstrap_type': 'Bayesian', 'random_strength': 1.0434487935807952e-08, 'bagging_temperature': 0.1973385192669744, 'od_type': 'Iter', 'od_wait': 26}. Best is trial 11 with value: 0.772508591065292.\n"
     ]
    },
    {
     "name": "stdout",
     "output_type": "stream",
     "text": [
      "0:\tlearn: 0.5708446\ttotal: 17.6ms\tremaining: 14.6s\n",
      "100:\tlearn: 0.1344039\ttotal: 2.16s\tremaining: 15.6s\n",
      "200:\tlearn: 0.1268447\ttotal: 4.32s\tremaining: 13.5s\n",
      "300:\tlearn: 0.1231316\ttotal: 6.49s\tremaining: 11.4s\n",
      "400:\tlearn: 0.1208313\ttotal: 8.65s\tremaining: 9.25s\n",
      "500:\tlearn: 0.1194230\ttotal: 10.8s\tremaining: 7.09s\n",
      "600:\tlearn: 0.1180959\ttotal: 12.9s\tremaining: 4.92s\n",
      "700:\tlearn: 0.1171442\ttotal: 15.1s\tremaining: 2.77s\n",
      "800:\tlearn: 0.1162581\ttotal: 17.2s\tremaining: 621ms\n",
      "829:\tlearn: 0.1160399\ttotal: 17.8s\tremaining: 0us\n"
     ]
    },
    {
     "name": "stderr",
     "output_type": "stream",
     "text": [
      "[I 2024-01-12 16:54:38,946] Trial 12 finished with value: 0.769177608845888 and parameters: {'iterations': 830, 'learning_rate': 0.08315457396727562, 'depth': 6, 'l2_leaf_reg': 59.625129779785745, 'bootstrap_type': 'Bayesian', 'random_strength': 2.3337596634130125e-08, 'bagging_temperature': 0.14306419602906043, 'od_type': 'Iter', 'od_wait': 27}. Best is trial 11 with value: 0.772508591065292.\n"
     ]
    },
    {
     "name": "stdout",
     "output_type": "stream",
     "text": [
      "0:\tlearn: 0.6332461\ttotal: 25ms\tremaining: 24.8s\n",
      "100:\tlearn: 0.1403436\ttotal: 2.75s\tremaining: 24.4s\n",
      "200:\tlearn: 0.1308115\ttotal: 5.49s\tremaining: 21.7s\n",
      "300:\tlearn: 0.1253728\ttotal: 8.27s\tremaining: 19.1s\n",
      "400:\tlearn: 0.1215427\ttotal: 11s\tremaining: 16.3s\n",
      "500:\tlearn: 0.1187398\ttotal: 13.7s\tremaining: 13.5s\n",
      "600:\tlearn: 0.1163663\ttotal: 16.4s\tremaining: 10.8s\n",
      "700:\tlearn: 0.1142858\ttotal: 19.1s\tremaining: 8.02s\n",
      "800:\tlearn: 0.1124444\ttotal: 21.8s\tremaining: 5.29s\n",
      "900:\tlearn: 0.1107368\ttotal: 24.6s\tremaining: 2.56s\n",
      "994:\tlearn: 0.1092662\ttotal: 27.2s\tremaining: 0us\n"
     ]
    },
    {
     "name": "stderr",
     "output_type": "stream",
     "text": [
      "[I 2024-01-12 16:55:12,219] Trial 13 finished with value: 0.7679003804911795 and parameters: {'iterations': 995, 'learning_rate': 0.03797187979520836, 'depth': 7, 'l2_leaf_reg': 0.954907446655836, 'bootstrap_type': 'Bayesian', 'random_strength': 6.295161900676925e-07, 'bagging_temperature': 0.1570466390065822, 'od_type': 'Iter', 'od_wait': 32}. Best is trial 11 with value: 0.772508591065292.\n"
     ]
    },
    {
     "name": "stdout",
     "output_type": "stream",
     "text": [
      "0:\tlearn: 0.6430830\ttotal: 19ms\tremaining: 15.6s\n",
      "100:\tlearn: 0.1493002\ttotal: 2.17s\tremaining: 15.5s\n",
      "200:\tlearn: 0.1416664\ttotal: 4.32s\tremaining: 13.3s\n",
      "300:\tlearn: 0.1375591\ttotal: 6.44s\tremaining: 11.2s\n",
      "400:\tlearn: 0.1347259\ttotal: 8.54s\tremaining: 8.97s\n",
      "500:\tlearn: 0.1325668\ttotal: 10.7s\tremaining: 6.83s\n",
      "600:\tlearn: 0.1306955\ttotal: 12.8s\tremaining: 4.71s\n",
      "700:\tlearn: 0.1290542\ttotal: 14.9s\tremaining: 2.58s\n",
      "800:\tlearn: 0.1277071\ttotal: 17s\tremaining: 446ms\n",
      "821:\tlearn: 0.1274093\ttotal: 17.5s\tremaining: 0us\n"
     ]
    },
    {
     "name": "stderr",
     "output_type": "stream",
     "text": [
      "[I 2024-01-12 16:55:35,289] Trial 14 finished with value: 0.7556022408963585 and parameters: {'iterations': 822, 'learning_rate': 0.03292331518859015, 'depth': 6, 'l2_leaf_reg': 2.2036634360043226, 'bootstrap_type': 'Bayesian', 'random_strength': 1.3088742150413247e-08, 'bagging_temperature': 2.814136421531023, 'od_type': 'Iter', 'od_wait': 26}. Best is trial 11 with value: 0.772508591065292.\n"
     ]
    },
    {
     "name": "stdout",
     "output_type": "stream",
     "text": [
      "0:\tlearn: 0.6150250\ttotal: 24ms\tremaining: 21.3s\n",
      "100:\tlearn: 0.1388795\ttotal: 2.84s\tremaining: 22.1s\n",
      "200:\tlearn: 0.1317743\ttotal: 5.56s\tremaining: 19s\n",
      "300:\tlearn: 0.1277492\ttotal: 8.29s\tremaining: 16.1s\n",
      "400:\tlearn: 0.1250251\ttotal: 11s\tremaining: 13.3s\n",
      "500:\tlearn: 0.1228998\ttotal: 13.7s\tremaining: 10.6s\n",
      "600:\tlearn: 0.1210628\ttotal: 16.5s\tremaining: 7.84s\n",
      "700:\tlearn: 0.1194060\ttotal: 19.2s\tremaining: 5.08s\n",
      "800:\tlearn: 0.1178651\ttotal: 21.8s\tremaining: 2.34s\n",
      "886:\tlearn: 0.1167142\ttotal: 24.2s\tremaining: 0us\n"
     ]
    },
    {
     "name": "stderr",
     "output_type": "stream",
     "text": [
      "[I 2024-01-12 16:56:05,220] Trial 15 finished with value: 0.7614424410540914 and parameters: {'iterations': 887, 'learning_rate': 0.05141207719951366, 'depth': 7, 'l2_leaf_reg': 4.1368365518642705, 'bootstrap_type': 'Bayesian', 'random_strength': 5.906313114569627e-07, 'bagging_temperature': 1.9996717041585939, 'od_type': 'Iter', 'od_wait': 18}. Best is trial 11 with value: 0.772508591065292.\n"
     ]
    },
    {
     "name": "stdout",
     "output_type": "stream",
     "text": [
      "0:\tlearn: 0.5538466\ttotal: 14.8ms\tremaining: 14.7s\n",
      "100:\tlearn: 0.1450719\ttotal: 1.81s\tremaining: 16s\n",
      "200:\tlearn: 0.1383596\ttotal: 3.7s\tremaining: 14.5s\n",
      "300:\tlearn: 0.1330390\ttotal: 5.7s\tremaining: 13s\n",
      "400:\tlearn: 0.1295381\ttotal: 7.61s\tremaining: 11.2s\n",
      "500:\tlearn: 0.1263663\ttotal: 9.39s\tremaining: 9.15s\n",
      "600:\tlearn: 0.1238038\ttotal: 11.2s\tremaining: 7.24s\n",
      "700:\tlearn: 0.1216017\ttotal: 13.1s\tremaining: 5.36s\n",
      "800:\tlearn: 0.1196104\ttotal: 14.9s\tremaining: 3.49s\n",
      "900:\tlearn: 0.1175105\ttotal: 16.7s\tremaining: 1.63s\n",
      "988:\tlearn: 0.1158739\ttotal: 18.3s\tremaining: 0us\n"
     ]
    },
    {
     "name": "stderr",
     "output_type": "stream",
     "text": [
      "[I 2024-01-12 16:56:29,255] Trial 16 finished with value: 0.7627711686494052 and parameters: {'iterations': 989, 'learning_rate': 0.09728851257520611, 'depth': 5, 'l2_leaf_reg': 4.0660298095036726e-05, 'bootstrap_type': 'Bayesian', 'random_strength': 3.968375359367747e-06, 'bagging_temperature': 4.3953716886748335, 'od_type': 'Iter', 'od_wait': 37}. Best is trial 11 with value: 0.772508591065292.\n"
     ]
    },
    {
     "name": "stdout",
     "output_type": "stream",
     "text": [
      "0:\tlearn: 0.6528348\ttotal: 23.3ms\tremaining: 16.9s\n",
      "100:\tlearn: 0.1470941\ttotal: 2.73s\tremaining: 17s\n",
      "200:\tlearn: 0.1373335\ttotal: 5.44s\tremaining: 14.3s\n",
      "300:\tlearn: 0.1323559\ttotal: 8.13s\tremaining: 11.6s\n",
      "400:\tlearn: 0.1292190\ttotal: 10.8s\tremaining: 8.87s\n",
      "500:\tlearn: 0.1268251\ttotal: 13.6s\tremaining: 6.2s\n",
      "600:\tlearn: 0.1250065\ttotal: 16.3s\tremaining: 3.48s\n",
      "700:\tlearn: 0.1236641\ttotal: 19s\tremaining: 758ms\n",
      "728:\tlearn: 0.1232951\ttotal: 19.7s\tremaining: 0us\n"
     ]
    },
    {
     "name": "stderr",
     "output_type": "stream",
     "text": [
      "[I 2024-01-12 16:56:54,375] Trial 17 finished with value: 0.763724808895066 and parameters: {'iterations': 729, 'learning_rate': 0.025346225402162765, 'depth': 7, 'l2_leaf_reg': 7.515440203029557, 'bootstrap_type': 'Bayesian', 'random_strength': 1.0162288696124748e-07, 'bagging_temperature': 1.0295345171931056, 'od_type': 'Iter', 'od_wait': 23}. Best is trial 11 with value: 0.772508591065292.\n"
     ]
    },
    {
     "name": "stdout",
     "output_type": "stream",
     "text": [
      "0:\tlearn: 0.6198807\ttotal: 14.3ms\tremaining: 8.53s\n",
      "100:\tlearn: 0.1481984\ttotal: 1.74s\tremaining: 8.55s\n",
      "200:\tlearn: 0.1410874\ttotal: 3.51s\tremaining: 6.92s\n",
      "300:\tlearn: 0.1368297\ttotal: 5.37s\tremaining: 5.28s\n",
      "400:\tlearn: 0.1339546\ttotal: 7.17s\tremaining: 3.5s\n",
      "500:\tlearn: 0.1315175\ttotal: 8.99s\tremaining: 1.72s\n",
      "596:\tlearn: 0.1293884\ttotal: 10.7s\tremaining: 0us\n"
     ]
    },
    {
     "name": "stderr",
     "output_type": "stream",
     "text": [
      "[I 2024-01-12 16:57:10,510] Trial 18 finished with value: 0.7519434628975264 and parameters: {'iterations': 597, 'learning_rate': 0.04908285180454821, 'depth': 5, 'l2_leaf_reg': 0.03923050225151213, 'bootstrap_type': 'Bayesian', 'random_strength': 0.0033261395401499427, 'bagging_temperature': 3.1837584077801973, 'od_type': 'IncToDec', 'od_wait': 29}. Best is trial 11 with value: 0.772508591065292.\n"
     ]
    },
    {
     "name": "stdout",
     "output_type": "stream",
     "text": [
      "0:\tlearn: 0.5460171\ttotal: 69.6ms\tremaining: 55.2s\n",
      "100:\tlearn: 0.1318402\ttotal: 5.66s\tremaining: 38.8s\n",
      "200:\tlearn: 0.1223407\ttotal: 11.2s\tremaining: 33.2s\n",
      "300:\tlearn: 0.1162532\ttotal: 16.7s\tremaining: 27.4s\n",
      "400:\tlearn: 0.1117294\ttotal: 22.3s\tremaining: 21.9s\n",
      "500:\tlearn: 0.1079444\ttotal: 27.8s\tremaining: 16.3s\n",
      "600:\tlearn: 0.1043987\ttotal: 33.4s\tremaining: 10.7s\n",
      "700:\tlearn: 0.1013966\ttotal: 39s\tremaining: 5.18s\n",
      "793:\tlearn: 0.0987123\ttotal: 44.1s\tremaining: 0us\n"
     ]
    },
    {
     "name": "stderr",
     "output_type": "stream",
     "text": [
      "[I 2024-01-12 16:58:00,286] Trial 19 finished with value: 0.7694974003466204 and parameters: {'iterations': 794, 'learning_rate': 0.09685829295483972, 'depth': 9, 'l2_leaf_reg': 0.2635321475641664, 'bootstrap_type': 'Bayesian', 'random_strength': 1.667299976301658e-07, 'bagging_temperature': 3.362028856741193, 'od_type': 'Iter', 'od_wait': 36}. Best is trial 11 with value: 0.772508591065292.\n"
     ]
    },
    {
     "name": "stdout",
     "output_type": "stream",
     "text": [
      "0:\tlearn: 0.6839843\ttotal: 70.2ms\tremaining: 1m 1s\n",
      "100:\tlearn: 0.2706991\ttotal: 5.66s\tremaining: 43.1s\n",
      "200:\tlearn: 0.1880700\ttotal: 11.3s\tremaining: 37.5s\n",
      "300:\tlearn: 0.1638845\ttotal: 16.9s\tremaining: 31.9s\n",
      "400:\tlearn: 0.1549168\ttotal: 22.4s\tremaining: 26.3s\n",
      "500:\tlearn: 0.1503396\ttotal: 28s\tremaining: 20.6s\n",
      "600:\tlearn: 0.1473537\ttotal: 33.6s\tremaining: 15s\n",
      "700:\tlearn: 0.1453119\ttotal: 39.3s\tremaining: 9.47s\n",
      "800:\tlearn: 0.1434572\ttotal: 44.9s\tremaining: 3.87s\n",
      "869:\tlearn: 0.1423631\ttotal: 48.9s\tremaining: 0us\n"
     ]
    },
    {
     "name": "stderr",
     "output_type": "stream",
     "text": [
      "[I 2024-01-12 16:58:54,972] Trial 20 finished with value: 0.7447787610619468 and parameters: {'iterations': 870, 'learning_rate': 0.0054826143939462595, 'depth': 9, 'l2_leaf_reg': 0.30641872245216195, 'bootstrap_type': 'Bayesian', 'random_strength': 7.714162088928403e-06, 'bagging_temperature': 3.892302763647626, 'od_type': 'Iter', 'od_wait': 38}. Best is trial 11 with value: 0.772508591065292.\n"
     ]
    },
    {
     "name": "stdout",
     "output_type": "stream",
     "text": [
      "0:\tlearn: 0.5477334\ttotal: 53.6ms\tremaining: 42.5s\n",
      "100:\tlearn: 0.1304841\ttotal: 3.83s\tremaining: 26.3s\n",
      "200:\tlearn: 0.1242456\ttotal: 7.58s\tremaining: 22.4s\n",
      "300:\tlearn: 0.1209808\ttotal: 11.3s\tremaining: 18.5s\n",
      "400:\tlearn: 0.1189286\ttotal: 15.1s\tremaining: 14.8s\n",
      "500:\tlearn: 0.1171270\ttotal: 18.8s\tremaining: 11s\n",
      "600:\tlearn: 0.1158124\ttotal: 22.5s\tremaining: 7.23s\n",
      "700:\tlearn: 0.1147986\ttotal: 26.4s\tremaining: 3.5s\n",
      "793:\tlearn: 0.1137906\ttotal: 29.8s\tremaining: 0us\n"
     ]
    },
    {
     "name": "stderr",
     "output_type": "stream",
     "text": [
      "[I 2024-01-12 16:59:30,523] Trial 21 finished with value: 0.7729302645139128 and parameters: {'iterations': 794, 'learning_rate': 0.0985356765968238, 'depth': 8, 'l2_leaf_reg': 95.73151042573794, 'bootstrap_type': 'Bayesian', 'random_strength': 1.9828098788155632e-07, 'bagging_temperature': 0.9839101481470829, 'od_type': 'Iter', 'od_wait': 34}. Best is trial 21 with value: 0.7729302645139128.\n"
     ]
    },
    {
     "name": "stdout",
     "output_type": "stream",
     "text": [
      "0:\tlearn: 0.6038878\ttotal: 52ms\tremaining: 40.3s\n",
      "100:\tlearn: 0.1330044\ttotal: 3.81s\tremaining: 25.5s\n",
      "200:\tlearn: 0.1243933\ttotal: 7.53s\tremaining: 21.6s\n",
      "300:\tlearn: 0.1189480\ttotal: 11.3s\tremaining: 17.9s\n",
      "400:\tlearn: 0.1148991\ttotal: 15s\tremaining: 14.1s\n",
      "500:\tlearn: 0.1111002\ttotal: 18.8s\tremaining: 10.4s\n",
      "600:\tlearn: 0.1078907\ttotal: 22.6s\tremaining: 6.61s\n",
      "700:\tlearn: 0.1051191\ttotal: 26.3s\tremaining: 2.85s\n",
      "776:\tlearn: 0.1033672\ttotal: 29.2s\tremaining: 0us\n"
     ]
    },
    {
     "name": "stderr",
     "output_type": "stream",
     "text": [
      "[I 2024-01-12 17:00:05,537] Trial 22 finished with value: 0.7679003804911795 and parameters: {'iterations': 777, 'learning_rate': 0.057198432002404605, 'depth': 8, 'l2_leaf_reg': 0.00780673233879103, 'bootstrap_type': 'Bayesian', 'random_strength': 1.808838703204606e-07, 'bagging_temperature': 1.6980640297347285, 'od_type': 'Iter', 'od_wait': 35}. Best is trial 21 with value: 0.7729302645139128.\n"
     ]
    },
    {
     "name": "stdout",
     "output_type": "stream",
     "text": [
      "0:\tlearn: 0.6525529\ttotal: 72.4ms\tremaining: 50.7s\n",
      "100:\tlearn: 0.1435240\ttotal: 5.78s\tremaining: 34.4s\n",
      "200:\tlearn: 0.1334828\ttotal: 11.4s\tremaining: 28.4s\n",
      "300:\tlearn: 0.1286588\ttotal: 17.1s\tremaining: 22.7s\n",
      "400:\tlearn: 0.1256669\ttotal: 22.7s\tremaining: 17s\n",
      "500:\tlearn: 0.1234501\ttotal: 28.3s\tremaining: 11.4s\n",
      "600:\tlearn: 0.1216369\ttotal: 33.9s\tremaining: 5.69s\n",
      "700:\tlearn: 0.1202533\ttotal: 39.4s\tremaining: 56.2ms\n",
      "701:\tlearn: 0.1202392\ttotal: 39.5s\tremaining: 0us\n"
     ]
    },
    {
     "name": "stderr",
     "output_type": "stream",
     "text": [
      "[I 2024-01-12 17:00:50,582] Trial 23 finished with value: 0.7675148135238758 and parameters: {'iterations': 702, 'learning_rate': 0.025045949126261024, 'depth': 9, 'l2_leaf_reg': 9.5249353882382, 'bootstrap_type': 'Bayesian', 'random_strength': 2.2269543556306548e-07, 'bagging_temperature': 1.1695843249064188, 'od_type': 'Iter', 'od_wait': 42}. Best is trial 21 with value: 0.7729302645139128.\n"
     ]
    },
    {
     "name": "stdout",
     "output_type": "stream",
     "text": [
      "0:\tlearn: 0.5824170\ttotal: 53.4ms\tremaining: 45.5s\n",
      "100:\tlearn: 0.1360607\ttotal: 3.85s\tremaining: 28.6s\n",
      "200:\tlearn: 0.1281040\ttotal: 7.54s\tremaining: 24.4s\n",
      "300:\tlearn: 0.1232375\ttotal: 11.2s\tremaining: 20.6s\n",
      "400:\tlearn: 0.1195989\ttotal: 14.9s\tremaining: 16.8s\n",
      "500:\tlearn: 0.1164347\ttotal: 18.7s\tremaining: 13.1s\n",
      "600:\tlearn: 0.1137973\ttotal: 22.4s\tremaining: 9.35s\n",
      "700:\tlearn: 0.1111777\ttotal: 26.1s\tremaining: 5.62s\n",
      "800:\tlearn: 0.1089574\ttotal: 29.8s\tremaining: 1.9s\n",
      "851:\tlearn: 0.1078738\ttotal: 31.7s\tremaining: 0us\n"
     ]
    },
    {
     "name": "stderr",
     "output_type": "stream",
     "text": [
      "[I 2024-01-12 17:01:28,047] Trial 24 finished with value: 0.7677889621659145 and parameters: {'iterations': 852, 'learning_rate': 0.07211383809951134, 'depth': 8, 'l2_leaf_reg': 0.5231447085862738, 'bootstrap_type': 'Bayesian', 'random_strength': 1.1776473215279886e-08, 'bagging_temperature': 2.95278518176056, 'od_type': 'Iter', 'od_wait': 31}. Best is trial 21 with value: 0.7729302645139128.\n"
     ]
    },
    {
     "name": "stdout",
     "output_type": "stream",
     "text": [
      "Best hyperparameters for CatBoost: {'iterations': 794, 'learning_rate': 0.0985356765968238, 'depth': 8, 'l2_leaf_reg': 95.73151042573794, 'bootstrap_type': 'Bayesian', 'random_strength': 1.9828098788155632e-07, 'bagging_temperature': 0.9839101481470829, 'od_type': 'Iter', 'od_wait': 34}\n",
      "0:\tlearn: 0.5477334\ttotal: 51.5ms\tremaining: 40.8s\n",
      "100:\tlearn: 0.1304841\ttotal: 3.83s\tremaining: 26.3s\n",
      "200:\tlearn: 0.1242457\ttotal: 7.56s\tremaining: 22.3s\n",
      "300:\tlearn: 0.1209808\ttotal: 11.3s\tremaining: 18.5s\n",
      "400:\tlearn: 0.1189286\ttotal: 15s\tremaining: 14.7s\n",
      "500:\tlearn: 0.1171270\ttotal: 18.8s\tremaining: 11s\n",
      "600:\tlearn: 0.1158124\ttotal: 22.5s\tremaining: 7.21s\n",
      "700:\tlearn: 0.1147986\ttotal: 26.2s\tremaining: 3.47s\n",
      "793:\tlearn: 0.1137906\ttotal: 29.7s\tremaining: 0us\n",
      "F1 Score on test set (CatBoost): 0.7729302645139128\n"
     ]
    }
   ],
   "source": [
    "def catboost_objective(trial):\n",
    "    # Определение параметров модели с несколькими гиперпараметрами\n",
    "    params = {'eval_metric': 'AUC',\n",
    "        'iterations': trial.suggest_int(\"iterations\", 500, 1000),\n",
    "        'learning_rate': trial.suggest_float(\"learning_rate\", 1e-3, 1e-1, log=True),\n",
    "        'depth': trial.suggest_int(\"depth\", 4, 10),\n",
    "        'l2_leaf_reg': trial.suggest_float(\"l2_leaf_reg\", 1e-8, 100.0, log=True),\n",
    "        'bootstrap_type': trial.suggest_categorical(\"bootstrap_type\", [\"Bayesian\"]),\n",
    "        'random_strength': trial.suggest_float(\"random_strength\", 1e-8, 10.0, log=True),\n",
    "        'bagging_temperature': trial.suggest_float(\"bagging_temperature\", 0.0, 10.0),\n",
    "        'od_type': trial.suggest_categorical(\"od_type\", [\"IncToDec\", \"Iter\"]),\n",
    "        'od_wait': trial.suggest_int(\"od_wait\", 10, 50),\n",
    "        'text_features': text_features,\n",
    "        'verbose': 100\n",
    "    }\n",
    "\n",
    "    # Определение pipeline\n",
    "    pipeline = Pipeline([\n",
    "        ('classifier', CatBoostClassifier(**params))  # Обучение CatBoost\n",
    "    ])\n",
    "\n",
    "    # Обучение и оценка модели\n",
    "    pipeline.fit(X_train, y_train)\n",
    "    y_val_pred = pipeline.predict(X_val)\n",
    "    f1 = f1_score(y_val, y_val_pred, average='binary')  # Метрика F1 для бинарной классификации\n",
    "\n",
    "    return f1\n",
    "\n",
    "# Создание и запуск оптимизации\n",
    "catboost_study = optuna.create_study(direction=\"maximize\")\n",
    "catboost_study.optimize(catboost_objective, n_trials=25)\n",
    "\n",
    "# Получение лучших гиперпараметров\n",
    "catboost_best_params = catboost_study.best_params\n",
    "print('Best hyperparameters for CatBoost:', catboost_best_params)\n",
    "\n",
    "# Создание финальной модели с лучшими гиперпараметрами\n",
    "catboost_best_model = CatBoostClassifier(**catboost_best_params, verbose= 100,\n",
    "          task_type= 'GPU',  text_features= text_features,'eval_metric': 'AUC')\n",
    "catboost_final_pipeline = Pipeline([\n",
    "    ('classifier', catboost_best_model)  # Обучение CatBoost\n",
    "])\n",
    "\n",
    "# Обучение финальной модели на всем тренировочном наборе\n",
    "catboost_final_pipeline.fit(X_train, y_train)\n",
    "\n",
    "# Оценка финальной модели на тестовом наборе\n",
    "y_val_pred_catboost = catboost_final_pipeline.predict(X_val)\n",
    "final_f1_catboost = f1_score(y_val, y_val_pred_catboost, average='binary')\n",
    "print(f'F1 Score on test set (CatBoost): {final_f1_catboost}')"
   ]
  },
  {
   "cell_type": "code",
   "execution_count": 41,
   "metadata": {
    "execution": {
     "iopub.execute_input": "2024-01-12T17:10:22.416210Z",
     "iopub.status.busy": "2024-01-12T17:10:22.415249Z",
     "iopub.status.idle": "2024-01-12T17:10:22.420753Z",
     "shell.execute_reply": "2024-01-12T17:10:22.419694Z",
     "shell.execute_reply.started": "2024-01-12T17:10:22.416172Z"
    }
   },
   "outputs": [],
   "source": [
    "params = {'eval_metric': 'AUC',\n",
    "          'learning_rate': 0.15,\n",
    "          'text_features':text_features,\n",
    "          'task_type': 'GPU',\n",
    "          'verbose': 100}"
   ]
  },
  {
   "cell_type": "code",
   "execution_count": 42,
   "metadata": {
    "execution": {
     "iopub.execute_input": "2024-01-12T17:10:24.339051Z",
     "iopub.status.busy": "2024-01-12T17:10:24.338130Z",
     "iopub.status.idle": "2024-01-12T17:10:24.343249Z",
     "shell.execute_reply": "2024-01-12T17:10:24.342269Z",
     "shell.execute_reply.started": "2024-01-12T17:10:24.339015Z"
    }
   },
   "outputs": [],
   "source": [
    "model = CatBoostClassifier(**params)"
   ]
  },
  {
   "cell_type": "code",
   "execution_count": 43,
   "metadata": {
    "execution": {
     "iopub.execute_input": "2024-01-12T17:10:50.833560Z",
     "iopub.status.busy": "2024-01-12T17:10:50.832772Z",
     "iopub.status.idle": "2024-01-12T17:11:32.590810Z",
     "shell.execute_reply": "2024-01-12T17:11:32.589715Z",
     "shell.execute_reply.started": "2024-01-12T17:10:50.833516Z"
    }
   },
   "outputs": [
    {
     "name": "stderr",
     "output_type": "stream",
     "text": [
      "Default metric period is 5 because AUC is/are not implemented for GPU\n"
     ]
    },
    {
     "name": "stdout",
     "output_type": "stream",
     "text": [
      "0:\ttest: 0.8984511\tbest: 0.8984511 (0)\ttotal: 13s\tremaining: 3h 36m 7s\n",
      "100:\ttest: 0.9622275\tbest: 0.9622275 (100)\ttotal: 15.3s\tremaining: 2m 15s\n",
      "200:\ttest: 0.9646468\tbest: 0.9646546 (190)\ttotal: 17.5s\tremaining: 1m 9s\n",
      "300:\ttest: 0.9656105\tbest: 0.9656105 (300)\ttotal: 19.9s\tremaining: 46.1s\n",
      "400:\ttest: 0.9659535\tbest: 0.9659571 (395)\ttotal: 22.1s\tremaining: 33s\n",
      "500:\ttest: 0.9666591\tbest: 0.9666591 (500)\ttotal: 24.3s\tremaining: 24.2s\n",
      "600:\ttest: 0.9670749\tbest: 0.9671032 (590)\ttotal: 26.5s\tremaining: 17.6s\n",
      "700:\ttest: 0.9673591\tbest: 0.9673591 (700)\ttotal: 28.8s\tremaining: 12.3s\n",
      "800:\ttest: 0.9677656\tbest: 0.9677656 (800)\ttotal: 31.3s\tremaining: 7.77s\n",
      "900:\ttest: 0.9676415\tbest: 0.9678651 (840)\ttotal: 33.5s\tremaining: 3.68s\n",
      "999:\ttest: 0.9677800\tbest: 0.9678651 (840)\ttotal: 35.7s\tremaining: 0us\n",
      "bestTest = 0.9678651392\n",
      "bestIteration = 840\n",
      "Shrink model to first 841 iterations.\n"
     ]
    },
    {
     "data": {
      "text/plain": [
       "<catboost.core.CatBoostClassifier at 0x7863edaf78b0>"
      ]
     },
     "execution_count": 43,
     "metadata": {},
     "output_type": "execute_result"
    }
   ],
   "source": [
    "model.fit(train[X], train[y], eval_set=(val[X], val[y]))"
   ]
  },
  {
   "cell_type": "code",
   "execution_count": 51,
   "metadata": {
    "execution": {
     "iopub.execute_input": "2024-01-12T17:21:59.961286Z",
     "iopub.status.busy": "2024-01-12T17:21:59.960187Z",
     "iopub.status.idle": "2024-01-12T17:22:00.919167Z",
     "shell.execute_reply": "2024-01-12T17:22:00.918162Z",
     "shell.execute_reply.started": "2024-01-12T17:21:59.961243Z"
    }
   },
   "outputs": [
    {
     "data": {
      "text/plain": [
       "(0.7883843064565956, 0.3)"
      ]
     },
     "execution_count": 51,
     "metadata": {},
     "output_type": "execute_result"
    }
   ],
   "source": [
    "threshhold, f1_score_cat, = calculate_optimal_threshold(y_val, model.predict_proba(val[X])[:,1])\n",
    "f1_score_cat, threshhold"
   ]
  },
  {
   "cell_type": "markdown",
   "metadata": {},
   "source": [
    "Типичная ситуация для кетбуста, он из коробки работает лучше, чем при попытках оптимизировать его гиперпараметры. Будем использовать дефолтные настройки"
   ]
  },
  {
   "cell_type": "code",
   "execution_count": 55,
   "metadata": {
    "execution": {
     "iopub.execute_input": "2024-01-12T17:24:01.841177Z",
     "iopub.status.busy": "2024-01-12T17:24:01.840252Z",
     "iopub.status.idle": "2024-01-12T17:24:01.849447Z",
     "shell.execute_reply": "2024-01-12T17:24:01.848416Z",
     "shell.execute_reply.started": "2024-01-12T17:24:01.841142Z"
    }
   },
   "outputs": [
    {
     "name": "stdout",
     "output_type": "stream",
     "text": [
      "             Score\n",
      "Model             \n",
      "CatBoost  0.788384\n",
      "LR        0.784715\n"
     ]
    }
   ],
   "source": [
    "scores = {'CatBoost': f1_score_cat, 'LR': f1_lr}\n",
    "\n",
    "df_scores = pd.DataFrame(list(scores.items()), columns=['Model', 'Score']).set_index('Model')\n",
    "\n",
    "print(df_scores)"
   ]
  },
  {
   "cell_type": "markdown",
   "metadata": {},
   "source": [
    "### Проверка на тесте"
   ]
  },
  {
   "cell_type": "code",
   "execution_count": 56,
   "metadata": {
    "execution": {
     "iopub.execute_input": "2024-01-12T17:27:59.590219Z",
     "iopub.status.busy": "2024-01-12T17:27:59.589446Z",
     "iopub.status.idle": "2024-01-12T17:27:59.595575Z",
     "shell.execute_reply": "2024-01-12T17:27:59.594575Z",
     "shell.execute_reply.started": "2024-01-12T17:27:59.590177Z"
    }
   },
   "outputs": [],
   "source": [
    "params = {'eval_metric': 'AUC',\n",
    "          'iterations': model.best_iteration_,\n",
    "          'learning_rate': model.learning_rate_,\n",
    "          'text_features':text_features,\n",
    "          'verbose': 100}"
   ]
  },
  {
   "cell_type": "code",
   "execution_count": 57,
   "metadata": {
    "execution": {
     "iopub.execute_input": "2024-01-12T17:28:05.642156Z",
     "iopub.status.busy": "2024-01-12T17:28:05.641266Z",
     "iopub.status.idle": "2024-01-12T17:28:05.647031Z",
     "shell.execute_reply": "2024-01-12T17:28:05.645825Z",
     "shell.execute_reply.started": "2024-01-12T17:28:05.642120Z"
    }
   },
   "outputs": [],
   "source": [
    "model = CatBoostClassifier(**params)"
   ]
  },
  {
   "cell_type": "code",
   "execution_count": 58,
   "metadata": {
    "execution": {
     "iopub.execute_input": "2024-01-12T17:29:53.438295Z",
     "iopub.status.busy": "2024-01-12T17:29:53.437844Z",
     "iopub.status.idle": "2024-01-12T17:29:53.451781Z",
     "shell.execute_reply": "2024-01-12T17:29:53.450940Z",
     "shell.execute_reply.started": "2024-01-12T17:29:53.438262Z"
    }
   },
   "outputs": [],
   "source": [
    "train_val = pd.concat([train, val])"
   ]
  },
  {
   "cell_type": "code",
   "execution_count": 59,
   "metadata": {
    "execution": {
     "iopub.execute_input": "2024-01-12T17:30:03.959362Z",
     "iopub.status.busy": "2024-01-12T17:30:03.958526Z",
     "iopub.status.idle": "2024-01-12T17:30:28.763832Z",
     "shell.execute_reply": "2024-01-12T17:30:28.762649Z",
     "shell.execute_reply.started": "2024-01-12T17:30:03.959319Z"
    }
   },
   "outputs": [
    {
     "name": "stderr",
     "output_type": "stream",
     "text": [
      "Default metric period is 5 because AUC is/are not implemented for GPU\n"
     ]
    },
    {
     "name": "stdout",
     "output_type": "stream",
     "text": [
      "0:\ttotal: 20.3ms\tremaining: 17s\n",
      "100:\ttotal: 2.26s\tremaining: 16.5s\n",
      "200:\ttotal: 4.65s\tremaining: 14.8s\n",
      "300:\ttotal: 6.9s\tremaining: 12.4s\n",
      "400:\ttotal: 9.09s\tremaining: 9.95s\n",
      "500:\ttotal: 11.3s\tremaining: 7.63s\n",
      "600:\ttotal: 13.4s\tremaining: 5.35s\n",
      "700:\ttotal: 15.7s\tremaining: 3.12s\n",
      "800:\ttotal: 17.9s\tremaining: 872ms\n",
      "839:\ttotal: 18.8s\tremaining: 0us\n"
     ]
    },
    {
     "data": {
      "text/plain": [
       "<catboost.core.CatBoostClassifier at 0x7863edaed030>"
      ]
     },
     "execution_count": 59,
     "metadata": {},
     "output_type": "execute_result"
    }
   ],
   "source": [
    "model.fit(train_val[X],train_val[y])"
   ]
  },
  {
   "cell_type": "code",
   "execution_count": 60,
   "metadata": {
    "execution": {
     "iopub.execute_input": "2024-01-12T17:31:19.670981Z",
     "iopub.status.busy": "2024-01-12T17:31:19.670559Z",
     "iopub.status.idle": "2024-01-12T17:31:20.019304Z",
     "shell.execute_reply": "2024-01-12T17:31:20.018149Z",
     "shell.execute_reply.started": "2024-01-12T17:31:19.670946Z"
    }
   },
   "outputs": [],
   "source": [
    "test['y_score'] = model.predict_proba(test[X])[:,1]\n",
    "catboost_score = f1_score(test['toxic'], test['y_score'] >= optimal_threshold)"
   ]
  },
  {
   "cell_type": "code",
   "execution_count": 62,
   "metadata": {
    "execution": {
     "iopub.execute_input": "2024-01-12T17:33:35.474725Z",
     "iopub.status.busy": "2024-01-12T17:33:35.473789Z",
     "iopub.status.idle": "2024-01-12T17:33:35.479700Z",
     "shell.execute_reply": "2024-01-12T17:33:35.478606Z",
     "shell.execute_reply.started": "2024-01-12T17:33:35.474689Z"
    }
   },
   "outputs": [
    {
     "name": "stdout",
     "output_type": "stream",
     "text": [
      "Final result f1 score for catboost model on test: 0.7947761194029851\n"
     ]
    }
   ],
   "source": [
    "print('Final result f1 score for catboost model on test:',catboost_score)"
   ]
  },
  {
   "cell_type": "markdown",
   "metadata": {},
   "source": [
    "## Выводы"
   ]
  },
  {
   "cell_type": "markdown",
   "metadata": {},
   "source": [
    "Обе модели успешно справились с назначенным порогом в 0.75.<br>\n",
    "Однако, catboost не требует создания фичей на основе текстовых данных, что является огромнейшим плюсом.<br>\n",
    "подбор гиперпараметров не дал ожидаемого прироста для кетбуста, а вот логистическая регрессия слегка выросла в скоринге f1 меры. <br>\n"
   ]
  }
 ],
 "metadata": {
  "ExecuteTimeLog": [
   {
    "duration": 635,
    "start_time": "2024-01-10T12:36:34.658Z"
   },
   {
    "duration": 105,
    "start_time": "2024-01-10T12:37:14.536Z"
   },
   {
    "duration": 2337,
    "start_time": "2024-01-10T12:37:24.059Z"
   },
   {
    "duration": 12,
    "start_time": "2024-01-10T12:37:37.445Z"
   },
   {
    "duration": 9,
    "start_time": "2024-01-10T12:37:50.118Z"
   },
   {
    "duration": 527,
    "start_time": "2024-01-10T12:37:55.817Z"
   },
   {
    "duration": 9,
    "start_time": "2024-01-10T12:38:20.667Z"
   },
   {
    "duration": 30,
    "start_time": "2024-01-10T12:38:35.041Z"
   },
   {
    "duration": 8,
    "start_time": "2024-01-10T12:39:34.660Z"
   },
   {
    "duration": 10,
    "start_time": "2024-01-10T12:39:44.489Z"
   },
   {
    "duration": 104,
    "start_time": "2024-01-10T12:44:14.937Z"
   },
   {
    "duration": 3,
    "start_time": "2024-01-10T12:44:19.952Z"
   },
   {
    "duration": 537,
    "start_time": "2024-01-10T12:44:44.608Z"
   },
   {
    "duration": 3,
    "start_time": "2024-01-10T12:44:57.992Z"
   },
   {
    "duration": 394,
    "start_time": "2024-01-10T12:45:04.260Z"
   },
   {
    "duration": 353,
    "start_time": "2024-01-10T12:45:09.940Z"
   },
   {
    "duration": 3,
    "start_time": "2024-01-10T12:45:15.851Z"
   },
   {
    "duration": 3564,
    "start_time": "2024-01-10T12:45:16.415Z"
   },
   {
    "duration": 9,
    "start_time": "2024-01-10T12:46:03.322Z"
   },
   {
    "duration": 4573,
    "start_time": "2024-01-10T13:03:38.922Z"
   },
   {
    "duration": 448,
    "start_time": "2024-01-10T13:07:10.623Z"
   },
   {
    "duration": 4,
    "start_time": "2024-01-10T13:07:18.525Z"
   },
   {
    "duration": 105823,
    "start_time": "2024-01-10T13:07:39.551Z"
   },
   {
    "duration": 17,
    "start_time": "2024-01-10T13:09:31.753Z"
   },
   {
    "duration": 2,
    "start_time": "2024-01-10T13:10:55.472Z"
   },
   {
    "duration": 3,
    "start_time": "2024-01-10T13:10:55.661Z"
   },
   {
    "duration": 16646,
    "start_time": "2024-01-10T13:10:56.255Z"
   },
   {
    "duration": 8737,
    "start_time": "2024-01-10T13:11:17.540Z"
   },
   {
    "duration": 48,
    "start_time": "2024-01-10T13:11:30.812Z"
   },
   {
    "duration": 66148,
    "start_time": "2024-01-10T13:12:21.083Z"
   },
   {
    "duration": 631,
    "start_time": "2024-01-10T13:13:35.361Z"
   },
   {
    "duration": 891,
    "start_time": "2024-01-10T13:13:35.994Z"
   },
   {
    "duration": 15,
    "start_time": "2024-01-10T13:13:36.887Z"
   },
   {
    "duration": 5,
    "start_time": "2024-01-10T13:13:36.912Z"
   },
   {
    "duration": 30,
    "start_time": "2024-01-10T13:13:36.918Z"
   },
   {
    "duration": 3,
    "start_time": "2024-01-10T13:13:36.950Z"
   },
   {
    "duration": 3712,
    "start_time": "2024-01-10T13:13:36.955Z"
   },
   {
    "duration": 11,
    "start_time": "2024-01-10T13:13:40.669Z"
   },
   {
    "duration": 2631,
    "start_time": "2024-01-10T13:13:40.681Z"
   },
   {
    "duration": 3,
    "start_time": "2024-01-10T13:13:43.314Z"
   },
   {
    "duration": 5,
    "start_time": "2024-01-10T13:13:43.318Z"
   },
   {
    "duration": 23,
    "start_time": "2024-01-10T13:13:43.324Z"
   },
   {
    "duration": 2552,
    "start_time": "2024-01-10T13:13:43.349Z"
   },
   {
    "duration": 0,
    "start_time": "2024-01-10T13:14:35.302Z"
   },
   {
    "duration": 628,
    "start_time": "2024-01-10T13:17:16.160Z"
   },
   {
    "duration": 906,
    "start_time": "2024-01-10T13:17:16.790Z"
   },
   {
    "duration": 19,
    "start_time": "2024-01-10T13:17:17.697Z"
   },
   {
    "duration": 10,
    "start_time": "2024-01-10T13:17:17.718Z"
   },
   {
    "duration": 47,
    "start_time": "2024-01-10T13:17:17.730Z"
   },
   {
    "duration": 29,
    "start_time": "2024-01-10T13:17:17.779Z"
   },
   {
    "duration": 3669,
    "start_time": "2024-01-10T13:17:17.810Z"
   },
   {
    "duration": 10,
    "start_time": "2024-01-10T13:17:21.480Z"
   },
   {
    "duration": 5624,
    "start_time": "2024-01-10T13:17:21.491Z"
   },
   {
    "duration": 2,
    "start_time": "2024-01-10T13:17:27.117Z"
   },
   {
    "duration": 6,
    "start_time": "2024-01-10T13:17:27.121Z"
   },
   {
    "duration": 194461,
    "start_time": "2024-01-10T13:17:27.128Z"
   },
   {
    "duration": 3446,
    "start_time": "2024-01-11T10:16:08.783Z"
   },
   {
    "duration": 2280,
    "start_time": "2024-01-11T10:16:12.231Z"
   },
   {
    "duration": 16,
    "start_time": "2024-01-11T10:16:14.513Z"
   },
   {
    "duration": 8,
    "start_time": "2024-01-11T10:16:14.531Z"
   },
   {
    "duration": 35,
    "start_time": "2024-01-11T10:16:14.544Z"
   },
   {
    "duration": 9,
    "start_time": "2024-01-11T10:16:14.580Z"
   },
   {
    "duration": 3683,
    "start_time": "2024-01-11T10:16:14.590Z"
   },
   {
    "duration": 16,
    "start_time": "2024-01-11T10:16:18.274Z"
   },
   {
    "duration": 502,
    "start_time": "2024-01-11T10:16:18.292Z"
   },
   {
    "duration": 2,
    "start_time": "2024-01-11T10:16:18.796Z"
   },
   {
    "duration": 13,
    "start_time": "2024-01-11T10:16:18.799Z"
   },
   {
    "duration": 2058399,
    "start_time": "2024-01-11T10:16:18.814Z"
   },
   {
    "duration": 248,
    "start_time": "2024-01-11T11:01:20.586Z"
   },
   {
    "duration": 3,
    "start_time": "2024-01-11T11:01:37.488Z"
   },
   {
    "duration": 3,
    "start_time": "2024-01-11T11:02:35.825Z"
   },
   {
    "duration": 23,
    "start_time": "2024-01-11T11:02:36.389Z"
   },
   {
    "duration": 30,
    "start_time": "2024-01-11T11:03:10.463Z"
   },
   {
    "duration": 3,
    "start_time": "2024-01-11T11:04:03.437Z"
   },
   {
    "duration": 3,
    "start_time": "2024-01-11T11:04:18.707Z"
   },
   {
    "duration": 4,
    "start_time": "2024-01-11T11:04:21.126Z"
   },
   {
    "duration": 462824,
    "start_time": "2024-01-11T11:04:28.300Z"
   },
   {
    "duration": 554,
    "start_time": "2024-01-11T11:12:11.126Z"
   },
   {
    "duration": 7,
    "start_time": "2024-01-11T11:12:11.681Z"
   },
   {
    "duration": 481,
    "start_time": "2024-01-11T11:12:11.689Z"
   },
   {
    "duration": 5,
    "start_time": "2024-01-11T11:12:12.176Z"
   },
   {
    "duration": 4,
    "start_time": "2024-01-11T11:12:12.183Z"
   },
   {
    "duration": 27,
    "start_time": "2024-01-11T11:12:12.188Z"
   },
   {
    "duration": 295276,
    "start_time": "2024-01-11T11:12:12.217Z"
   },
   {
    "duration": 584,
    "start_time": "2024-01-11T11:17:07.496Z"
   },
   {
    "duration": 3,
    "start_time": "2024-01-11T11:17:08.082Z"
   },
   {
    "duration": 38,
    "start_time": "2024-01-11T11:17:08.087Z"
   },
   {
    "duration": 47,
    "start_time": "2024-01-11T11:17:08.126Z"
   },
   {
    "duration": 4,
    "start_time": "2024-01-11T11:28:12.041Z"
   },
   {
    "duration": 449,
    "start_time": "2024-01-11T11:28:59.699Z"
   },
   {
    "duration": 458,
    "start_time": "2024-01-11T11:30:26.888Z"
   },
   {
    "duration": 3,
    "start_time": "2024-01-11T11:30:31.851Z"
   },
   {
    "duration": 23,
    "start_time": "2024-01-11T11:38:02.270Z"
   },
   {
    "duration": 22,
    "start_time": "2024-01-11T11:38:39.956Z"
   },
   {
    "duration": 2,
    "start_time": "2024-01-11T11:39:13.927Z"
   },
   {
    "duration": 294,
    "start_time": "2024-01-11T11:39:30.681Z"
   },
   {
    "duration": 31,
    "start_time": "2024-01-11T11:39:36.214Z"
   },
   {
    "duration": 14,
    "start_time": "2024-01-11T11:41:11.793Z"
   },
   {
    "duration": 3,
    "start_time": "2024-01-11T11:41:17.435Z"
   },
   {
    "duration": 3,
    "start_time": "2024-01-11T11:41:27.048Z"
   },
   {
    "duration": 31,
    "start_time": "2024-01-11T11:41:27.202Z"
   },
   {
    "duration": 15,
    "start_time": "2024-01-11T11:43:41.189Z"
   },
   {
    "duration": 12,
    "start_time": "2024-01-11T11:44:03.412Z"
   },
   {
    "duration": 18,
    "start_time": "2024-01-11T11:46:05.529Z"
   },
   {
    "duration": 14,
    "start_time": "2024-01-11T11:46:21.536Z"
   },
   {
    "duration": 2,
    "start_time": "2024-01-11T11:46:28.661Z"
   },
   {
    "duration": 2,
    "start_time": "2024-01-11T11:46:35.632Z"
   },
   {
    "duration": 30,
    "start_time": "2024-01-11T11:46:35.810Z"
   },
   {
    "duration": 18,
    "start_time": "2024-01-11T11:46:35.996Z"
   },
   {
    "duration": 4291,
    "start_time": "2024-01-11T11:46:36.321Z"
   },
   {
    "duration": 43257,
    "start_time": "2024-01-11T11:46:53.193Z"
   },
   {
    "duration": 114,
    "start_time": "2024-01-11T11:47:36.453Z"
   },
   {
    "duration": 3,
    "start_time": "2024-01-11T11:47:36.569Z"
   },
   {
    "duration": 24,
    "start_time": "2024-01-11T11:49:00.896Z"
   },
   {
    "duration": 5,
    "start_time": "2024-01-11T11:50:18.276Z"
   },
   {
    "duration": 462,
    "start_time": "2024-01-11T11:50:27.209Z"
   },
   {
    "duration": 44627,
    "start_time": "2024-01-11T11:53:13.826Z"
   },
   {
    "duration": 5,
    "start_time": "2024-01-11T11:56:57.830Z"
   },
   {
    "duration": 9,
    "start_time": "2024-01-11T11:57:41.515Z"
   },
   {
    "duration": 5,
    "start_time": "2024-01-11T11:58:11.004Z"
   },
   {
    "duration": 7,
    "start_time": "2024-01-11T11:58:34.255Z"
   },
   {
    "duration": 10,
    "start_time": "2024-01-11T11:58:42.255Z"
   },
   {
    "duration": 3374,
    "start_time": "2024-01-11T12:30:27.382Z"
   },
   {
    "duration": 806,
    "start_time": "2024-01-11T12:30:30.758Z"
   },
   {
    "duration": 16,
    "start_time": "2024-01-11T12:30:31.565Z"
   },
   {
    "duration": 41,
    "start_time": "2024-01-11T12:30:31.582Z"
   },
   {
    "duration": 58,
    "start_time": "2024-01-11T12:30:31.625Z"
   },
   {
    "duration": 28,
    "start_time": "2024-01-11T12:30:31.684Z"
   },
   {
    "duration": 3470,
    "start_time": "2024-01-11T12:30:31.713Z"
   },
   {
    "duration": 9,
    "start_time": "2024-01-11T12:30:35.185Z"
   },
   {
    "duration": 450,
    "start_time": "2024-01-11T12:30:35.196Z"
   },
   {
    "duration": 2,
    "start_time": "2024-01-11T12:30:35.647Z"
   },
   {
    "duration": 17,
    "start_time": "2024-01-11T12:30:35.650Z"
   },
   {
    "duration": 2001956,
    "start_time": "2024-01-11T12:30:35.668Z"
   },
   {
    "duration": 2,
    "start_time": "2024-01-11T13:03:57.626Z"
   },
   {
    "duration": 54,
    "start_time": "2024-01-11T13:03:57.631Z"
   },
   {
    "duration": 305,
    "start_time": "2024-01-11T13:03:57.687Z"
   },
   {
    "duration": 0,
    "start_time": "2024-01-11T13:03:57.994Z"
   },
   {
    "duration": 0,
    "start_time": "2024-01-11T13:03:57.995Z"
   },
   {
    "duration": 0,
    "start_time": "2024-01-11T13:03:57.996Z"
   },
   {
    "duration": 0,
    "start_time": "2024-01-11T13:03:57.997Z"
   },
   {
    "duration": 0,
    "start_time": "2024-01-11T13:03:57.998Z"
   },
   {
    "duration": 0,
    "start_time": "2024-01-11T13:03:57.999Z"
   },
   {
    "duration": 0,
    "start_time": "2024-01-11T13:03:58.000Z"
   },
   {
    "duration": 0,
    "start_time": "2024-01-11T13:03:58.001Z"
   },
   {
    "duration": 0,
    "start_time": "2024-01-11T13:03:58.002Z"
   },
   {
    "duration": 0,
    "start_time": "2024-01-11T13:03:58.003Z"
   },
   {
    "duration": 0,
    "start_time": "2024-01-11T13:03:58.004Z"
   },
   {
    "duration": 0,
    "start_time": "2024-01-11T13:03:58.005Z"
   },
   {
    "duration": 0,
    "start_time": "2024-01-11T13:03:58.006Z"
   },
   {
    "duration": 0,
    "start_time": "2024-01-11T13:03:58.007Z"
   },
   {
    "duration": 0,
    "start_time": "2024-01-11T13:03:58.008Z"
   },
   {
    "duration": 0,
    "start_time": "2024-01-11T13:03:58.009Z"
   },
   {
    "duration": 0,
    "start_time": "2024-01-11T13:03:58.010Z"
   },
   {
    "duration": 0,
    "start_time": "2024-01-11T13:03:58.011Z"
   },
   {
    "duration": 0,
    "start_time": "2024-01-11T13:03:58.012Z"
   },
   {
    "duration": 0,
    "start_time": "2024-01-11T13:03:58.013Z"
   },
   {
    "duration": 0,
    "start_time": "2024-01-11T13:03:58.044Z"
   },
   {
    "duration": 0,
    "start_time": "2024-01-11T13:03:58.046Z"
   },
   {
    "duration": 3,
    "start_time": "2024-01-11T13:36:07.293Z"
   },
   {
    "duration": 16,
    "start_time": "2024-01-11T13:36:08.414Z"
   },
   {
    "duration": 4206,
    "start_time": "2024-01-11T13:36:09.615Z"
   },
   {
    "duration": 43426,
    "start_time": "2024-01-11T13:36:13.823Z"
   },
   {
    "duration": 94,
    "start_time": "2024-01-11T13:36:57.251Z"
   },
   {
    "duration": 14,
    "start_time": "2024-01-11T13:36:57.347Z"
   },
   {
    "duration": 0,
    "start_time": "2024-01-11T13:36:57.363Z"
   },
   {
    "duration": 0,
    "start_time": "2024-01-11T13:36:57.364Z"
   },
   {
    "duration": 0,
    "start_time": "2024-01-11T13:36:57.365Z"
   },
   {
    "duration": 0,
    "start_time": "2024-01-11T13:36:57.366Z"
   },
   {
    "duration": 0,
    "start_time": "2024-01-11T13:36:57.367Z"
   },
   {
    "duration": 0,
    "start_time": "2024-01-11T13:36:57.368Z"
   },
   {
    "duration": 0,
    "start_time": "2024-01-11T13:36:57.369Z"
   },
   {
    "duration": 0,
    "start_time": "2024-01-11T13:36:57.370Z"
   },
   {
    "duration": 0,
    "start_time": "2024-01-11T13:36:57.371Z"
   },
   {
    "duration": 0,
    "start_time": "2024-01-11T13:36:57.372Z"
   },
   {
    "duration": 0,
    "start_time": "2024-01-11T13:36:57.373Z"
   },
   {
    "duration": 0,
    "start_time": "2024-01-11T13:36:57.374Z"
   },
   {
    "duration": 0,
    "start_time": "2024-01-11T13:36:57.375Z"
   },
   {
    "duration": 0,
    "start_time": "2024-01-11T13:36:57.376Z"
   },
   {
    "duration": 0,
    "start_time": "2024-01-11T13:36:57.377Z"
   },
   {
    "duration": 0,
    "start_time": "2024-01-11T13:36:57.378Z"
   },
   {
    "duration": 0,
    "start_time": "2024-01-11T13:36:57.380Z"
   },
   {
    "duration": 0,
    "start_time": "2024-01-11T13:36:57.381Z"
   },
   {
    "duration": 1669,
    "start_time": "2024-01-11T13:37:47.042Z"
   },
   {
    "duration": 0,
    "start_time": "2024-01-11T13:37:48.713Z"
   },
   {
    "duration": 0,
    "start_time": "2024-01-11T13:37:48.714Z"
   },
   {
    "duration": 0,
    "start_time": "2024-01-11T13:37:48.714Z"
   },
   {
    "duration": 0,
    "start_time": "2024-01-11T13:37:48.716Z"
   },
   {
    "duration": 0,
    "start_time": "2024-01-11T13:37:48.716Z"
   },
   {
    "duration": 3,
    "start_time": "2024-01-11T13:37:48.824Z"
   },
   {
    "duration": 2,
    "start_time": "2024-01-11T13:37:49.010Z"
   },
   {
    "duration": 2,
    "start_time": "2024-01-11T13:37:49.188Z"
   },
   {
    "duration": 114445,
    "start_time": "2024-01-11T13:37:49.369Z"
   },
   {
    "duration": 0,
    "start_time": "2024-01-11T13:39:43.815Z"
   },
   {
    "duration": 0,
    "start_time": "2024-01-11T13:39:43.816Z"
   },
   {
    "duration": 0,
    "start_time": "2024-01-11T13:39:43.817Z"
   },
   {
    "duration": 0,
    "start_time": "2024-01-11T13:39:43.818Z"
   },
   {
    "duration": 0,
    "start_time": "2024-01-11T13:39:43.819Z"
   },
   {
    "duration": 0,
    "start_time": "2024-01-11T13:39:43.821Z"
   },
   {
    "duration": 0,
    "start_time": "2024-01-11T13:39:43.822Z"
   },
   {
    "duration": 0,
    "start_time": "2024-01-11T13:39:43.823Z"
   },
   {
    "duration": 4,
    "start_time": "2024-01-11T13:39:46.032Z"
   },
   {
    "duration": 17,
    "start_time": "2024-01-11T13:39:47.098Z"
   },
   {
    "duration": 42581,
    "start_time": "2024-01-11T13:39:57.978Z"
   },
   {
    "duration": 3,
    "start_time": "2024-01-11T13:40:40.646Z"
   },
   {
    "duration": 15,
    "start_time": "2024-01-11T13:40:40.651Z"
   },
   {
    "duration": 432,
    "start_time": "2024-01-11T13:40:44.809Z"
   },
   {
    "duration": 44512,
    "start_time": "2024-01-11T13:40:47.734Z"
   },
   {
    "duration": 6,
    "start_time": "2024-01-11T13:41:32.247Z"
   },
   {
    "duration": 27,
    "start_time": "2024-01-11T13:41:32.254Z"
   },
   {
    "duration": 17,
    "start_time": "2024-01-11T13:41:32.283Z"
   },
   {
    "duration": 16,
    "start_time": "2024-01-11T13:41:32.301Z"
   },
   {
    "duration": 454457,
    "start_time": "2024-01-11T13:41:32.318Z"
   },
   {
    "duration": 603,
    "start_time": "2024-01-11T13:49:06.776Z"
   },
   {
    "duration": 6,
    "start_time": "2024-01-11T13:49:07.380Z"
   },
   {
    "duration": 543,
    "start_time": "2024-01-11T13:49:07.388Z"
   },
   {
    "duration": 3,
    "start_time": "2024-01-11T13:49:07.933Z"
   },
   {
    "duration": 38,
    "start_time": "2024-01-11T13:49:07.937Z"
   },
   {
    "duration": 51,
    "start_time": "2024-01-11T13:49:07.977Z"
   },
   {
    "duration": 302344,
    "start_time": "2024-01-11T13:49:08.029Z"
   },
   {
    "duration": 3,
    "start_time": "2024-01-11T13:54:10.376Z"
   },
   {
    "duration": 603,
    "start_time": "2024-01-11T13:54:10.381Z"
   },
   {
    "duration": 8,
    "start_time": "2024-01-11T13:54:10.986Z"
   },
   {
    "duration": 13,
    "start_time": "2024-01-11T13:54:10.996Z"
   },
   {
    "duration": 8,
    "start_time": "2024-01-11T14:01:02.280Z"
   },
   {
    "duration": 8,
    "start_time": "2024-01-11T14:01:18.409Z"
   },
   {
    "duration": 21,
    "start_time": "2024-01-11T14:03:06.965Z"
   },
   {
    "duration": 4,
    "start_time": "2024-01-11T14:04:29.503Z"
   },
   {
    "duration": 6,
    "start_time": "2024-01-11T14:04:34.062Z"
   },
   {
    "duration": 20,
    "start_time": "2024-01-11T14:05:12.652Z"
   },
   {
    "duration": 6,
    "start_time": "2024-01-11T14:07:53.135Z"
   },
   {
    "duration": 20,
    "start_time": "2024-01-11T14:08:06.051Z"
   },
   {
    "duration": 6,
    "start_time": "2024-01-11T14:08:10.191Z"
   },
   {
    "duration": 6,
    "start_time": "2024-01-11T14:08:37.362Z"
   },
   {
    "duration": 6,
    "start_time": "2024-01-11T14:09:09.817Z"
   },
   {
    "duration": 6,
    "start_time": "2024-01-11T14:09:41.728Z"
   },
   {
    "duration": 4,
    "start_time": "2024-01-11T14:10:19.630Z"
   },
   {
    "duration": 76,
    "start_time": "2024-01-11T14:11:16.297Z"
   },
   {
    "duration": 4,
    "start_time": "2024-01-11T14:14:43.042Z"
   },
   {
    "duration": 4,
    "start_time": "2024-01-11T14:14:47.262Z"
   },
   {
    "duration": 9,
    "start_time": "2024-01-11T14:15:07.541Z"
   },
   {
    "duration": 3399,
    "start_time": "2024-01-11T14:15:35.771Z"
   },
   {
    "duration": 796,
    "start_time": "2024-01-11T14:15:39.171Z"
   },
   {
    "duration": 15,
    "start_time": "2024-01-11T14:15:39.969Z"
   },
   {
    "duration": 5,
    "start_time": "2024-01-11T14:15:39.985Z"
   },
   {
    "duration": 32,
    "start_time": "2024-01-11T14:15:39.992Z"
   },
   {
    "duration": 33,
    "start_time": "2024-01-11T14:15:40.025Z"
   },
   {
    "duration": 3408,
    "start_time": "2024-01-11T14:15:40.060Z"
   },
   {
    "duration": 10,
    "start_time": "2024-01-11T14:15:43.470Z"
   },
   {
    "duration": 487,
    "start_time": "2024-01-11T14:15:43.481Z"
   },
   {
    "duration": 2,
    "start_time": "2024-01-11T14:15:43.969Z"
   },
   {
    "duration": 5,
    "start_time": "2024-01-11T14:15:43.972Z"
   },
   {
    "duration": 1992097,
    "start_time": "2024-01-11T14:15:43.978Z"
   },
   {
    "duration": 22,
    "start_time": "2024-01-11T14:48:56.077Z"
   },
   {
    "duration": 2,
    "start_time": "2024-01-11T14:48:56.102Z"
   },
   {
    "duration": 32,
    "start_time": "2024-01-11T14:48:56.106Z"
   },
   {
    "duration": 4311,
    "start_time": "2024-01-11T14:48:56.140Z"
   },
   {
    "duration": 46002,
    "start_time": "2024-01-11T14:49:00.452Z"
   },
   {
    "duration": 89,
    "start_time": "2024-01-11T14:49:46.456Z"
   },
   {
    "duration": 18,
    "start_time": "2024-01-11T14:49:46.547Z"
   },
   {
    "duration": 474,
    "start_time": "2024-01-11T14:49:46.566Z"
   },
   {
    "duration": 47003,
    "start_time": "2024-01-11T14:49:47.045Z"
   },
   {
    "duration": 5,
    "start_time": "2024-01-11T14:50:34.050Z"
   },
   {
    "duration": 28,
    "start_time": "2024-01-11T14:50:34.056Z"
   },
   {
    "duration": 2,
    "start_time": "2024-01-11T14:50:34.146Z"
   },
   {
    "duration": 33,
    "start_time": "2024-01-11T14:50:34.149Z"
   },
   {
    "duration": 454939,
    "start_time": "2024-01-11T14:50:34.183Z"
   },
   {
    "duration": 574,
    "start_time": "2024-01-11T14:58:09.124Z"
   },
   {
    "duration": 6,
    "start_time": "2024-01-11T14:58:09.700Z"
   },
   {
    "duration": 493,
    "start_time": "2024-01-11T14:58:09.708Z"
   },
   {
    "duration": 3,
    "start_time": "2024-01-11T14:58:10.202Z"
   },
   {
    "duration": 14,
    "start_time": "2024-01-11T14:58:10.206Z"
   },
   {
    "duration": 31,
    "start_time": "2024-01-11T14:58:10.221Z"
   },
   {
    "duration": 302203,
    "start_time": "2024-01-11T14:58:10.253Z"
   },
   {
    "duration": 3,
    "start_time": "2024-01-11T15:03:12.457Z"
   },
   {
    "duration": 604,
    "start_time": "2024-01-11T15:03:12.461Z"
   },
   {
    "duration": 8,
    "start_time": "2024-01-11T15:03:13.067Z"
   },
   {
    "duration": 33,
    "start_time": "2024-01-11T15:03:13.076Z"
   },
   {
    "duration": 24,
    "start_time": "2024-01-11T15:03:13.110Z"
   },
   {
    "duration": 23,
    "start_time": "2024-01-11T15:03:13.135Z"
   },
   {
    "duration": 22,
    "start_time": "2024-01-11T15:03:13.159Z"
   },
   {
    "duration": 4014,
    "start_time": "2024-01-11T17:44:01.361Z"
   },
   {
    "duration": 4451,
    "start_time": "2024-01-12T08:21:21.002Z"
   },
   {
    "duration": 614,
    "start_time": "2024-01-12T08:21:34.214Z"
   },
   {
    "duration": 3756,
    "start_time": "2024-01-12T08:22:40.731Z"
   },
   {
    "duration": 99,
    "start_time": "2024-01-12T08:25:50.449Z"
   },
   {
    "duration": 713,
    "start_time": "2024-01-12T08:25:58.588Z"
   },
   {
    "duration": 17,
    "start_time": "2024-01-12T08:26:09.486Z"
   },
   {
    "duration": 4334,
    "start_time": "2024-01-12T08:26:21.205Z"
   },
   {
    "duration": 2251,
    "start_time": "2024-01-12T08:26:25.541Z"
   },
   {
    "duration": 23,
    "start_time": "2024-01-12T08:26:27.794Z"
   },
   {
    "duration": 7,
    "start_time": "2024-01-12T08:26:27.818Z"
   },
   {
    "duration": 171,
    "start_time": "2024-01-12T08:26:27.826Z"
   },
   {
    "duration": 3,
    "start_time": "2024-01-12T08:26:27.999Z"
   },
   {
    "duration": 3893,
    "start_time": "2024-01-12T08:26:28.004Z"
   },
   {
    "duration": 11,
    "start_time": "2024-01-12T08:26:31.899Z"
   },
   {
    "duration": 26,
    "start_time": "2024-01-12T08:26:31.911Z"
   },
   {
    "duration": 27,
    "start_time": "2024-01-12T08:26:31.941Z"
   }
  ],
  "kaggle": {
   "accelerator": "gpu",
   "dataSources": [
    {
     "datasetId": 4294677,
     "sourceId": 7388385,
     "sourceType": "datasetVersion"
    }
   ],
   "dockerImageVersionId": 30636,
   "isGpuEnabled": true,
   "isInternetEnabled": true,
   "language": "python",
   "sourceType": "notebook"
  },
  "kernelspec": {
   "display_name": "Python 3 (ipykernel)",
   "language": "python",
   "name": "python3"
  },
  "language_info": {
   "codemirror_mode": {
    "name": "ipython",
    "version": 3
   },
   "file_extension": ".py",
   "mimetype": "text/x-python",
   "name": "python",
   "nbconvert_exporter": "python",
   "pygments_lexer": "ipython3",
   "version": "3.10.9"
  },
  "toc": {
   "base_numbering": 1,
   "nav_menu": {},
   "number_sections": true,
   "sideBar": true,
   "skip_h1_title": true,
   "title_cell": "Содержание",
   "title_sidebar": "Contents",
   "toc_cell": true,
   "toc_position": {
    "height": "calc(100% - 180px)",
    "left": "10px",
    "top": "150px",
    "width": "302.391px"
   },
   "toc_section_display": true,
   "toc_window_display": false
  }
 },
 "nbformat": 4,
 "nbformat_minor": 4
}
