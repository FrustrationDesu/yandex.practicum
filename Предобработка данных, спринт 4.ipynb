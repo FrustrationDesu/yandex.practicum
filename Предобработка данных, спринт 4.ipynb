{
 "cells": [
  {
   "cell_type": "markdown",
   "id": "4fa09e01",
   "metadata": {
    "deletable": false,
    "editable": false,
    "id": "c81daeeb"
   },
   "source": [
    "# Исследование надежности заемщиков\n"
   ]
  },
  {
   "cell_type": "markdown",
   "id": "dac99feb",
   "metadata": {
    "deletable": false,
    "editable": false,
    "id": "827c20bf"
   },
   "source": [
    "Во второй части проекта вы выполните шаги 3 и 4. Их вручную проверит ревьюер.\n",
    "Чтобы вам не пришлось писать код заново для шагов 1 и 2, мы добавили авторские решения в ячейки с кодом. \n",
    "\n"
   ]
  },
  {
   "cell_type": "markdown",
   "id": "8dbf028e",
   "metadata": {
    "deletable": false,
    "editable": false,
    "id": "744d7639"
   },
   "source": [
    "## Откройте таблицу и изучите общую информацию о данных"
   ]
  },
  {
   "cell_type": "markdown",
   "id": "a9b4ec36",
   "metadata": {
    "deletable": false,
    "editable": false,
    "id": "e7a14c31"
   },
   "source": [
    "**Задание 1. Импортируйте библиотеку pandas. Считайте данные из csv-файла в датафрейм и сохраните в переменную `data`. Путь к файлу:**\n",
    "\n",
    "`/datasets/data.csv`"
   ]
  },
  {
   "cell_type": "code",
   "execution_count": 1,
   "id": "6bc95fa7",
   "metadata": {
    "deletable": false,
    "id": "7bcf75c9"
   },
   "outputs": [],
   "source": [
    "import pandas as pd\n",
    "\n",
    "try:\n",
    "    data = pd.read_csv('/datasets/data.csv')\n",
    "except:\n",
    "    data = pd.read_csv('https://code.s3.yandex.net/datasets/data.csv')"
   ]
  },
  {
   "cell_type": "markdown",
   "id": "197f3e5b",
   "metadata": {
    "deletable": false,
    "editable": false,
    "id": "b8038fe3"
   },
   "source": [
    "**Задание 2. Выведите первые 20 строчек датафрейма `data` на экран.**"
   ]
  },
  {
   "cell_type": "code",
   "execution_count": 2,
   "id": "b81d4cc4",
   "metadata": {
    "deletable": false,
    "id": "2a7cab99",
    "outputId": "1a8f3ef2-d323-4ec2-ddf7-89670b5944c4"
   },
   "outputs": [
    {
     "data": {
      "text/html": [
       "<div>\n",
       "<style scoped>\n",
       "    .dataframe tbody tr th:only-of-type {\n",
       "        vertical-align: middle;\n",
       "    }\n",
       "\n",
       "    .dataframe tbody tr th {\n",
       "        vertical-align: top;\n",
       "    }\n",
       "\n",
       "    .dataframe thead th {\n",
       "        text-align: right;\n",
       "    }\n",
       "</style>\n",
       "<table border=\"1\" class=\"dataframe\">\n",
       "  <thead>\n",
       "    <tr style=\"text-align: right;\">\n",
       "      <th></th>\n",
       "      <th>children</th>\n",
       "      <th>days_employed</th>\n",
       "      <th>dob_years</th>\n",
       "      <th>education</th>\n",
       "      <th>education_id</th>\n",
       "      <th>family_status</th>\n",
       "      <th>family_status_id</th>\n",
       "      <th>gender</th>\n",
       "      <th>income_type</th>\n",
       "      <th>debt</th>\n",
       "      <th>total_income</th>\n",
       "      <th>purpose</th>\n",
       "    </tr>\n",
       "  </thead>\n",
       "  <tbody>\n",
       "    <tr>\n",
       "      <th>0</th>\n",
       "      <td>1</td>\n",
       "      <td>-8437.673028</td>\n",
       "      <td>42</td>\n",
       "      <td>высшее</td>\n",
       "      <td>0</td>\n",
       "      <td>женат / замужем</td>\n",
       "      <td>0</td>\n",
       "      <td>F</td>\n",
       "      <td>сотрудник</td>\n",
       "      <td>0</td>\n",
       "      <td>253875.639453</td>\n",
       "      <td>покупка жилья</td>\n",
       "    </tr>\n",
       "    <tr>\n",
       "      <th>1</th>\n",
       "      <td>1</td>\n",
       "      <td>-4024.803754</td>\n",
       "      <td>36</td>\n",
       "      <td>среднее</td>\n",
       "      <td>1</td>\n",
       "      <td>женат / замужем</td>\n",
       "      <td>0</td>\n",
       "      <td>F</td>\n",
       "      <td>сотрудник</td>\n",
       "      <td>0</td>\n",
       "      <td>112080.014102</td>\n",
       "      <td>приобретение автомобиля</td>\n",
       "    </tr>\n",
       "    <tr>\n",
       "      <th>2</th>\n",
       "      <td>0</td>\n",
       "      <td>-5623.422610</td>\n",
       "      <td>33</td>\n",
       "      <td>Среднее</td>\n",
       "      <td>1</td>\n",
       "      <td>женат / замужем</td>\n",
       "      <td>0</td>\n",
       "      <td>M</td>\n",
       "      <td>сотрудник</td>\n",
       "      <td>0</td>\n",
       "      <td>145885.952297</td>\n",
       "      <td>покупка жилья</td>\n",
       "    </tr>\n",
       "    <tr>\n",
       "      <th>3</th>\n",
       "      <td>3</td>\n",
       "      <td>-4124.747207</td>\n",
       "      <td>32</td>\n",
       "      <td>среднее</td>\n",
       "      <td>1</td>\n",
       "      <td>женат / замужем</td>\n",
       "      <td>0</td>\n",
       "      <td>M</td>\n",
       "      <td>сотрудник</td>\n",
       "      <td>0</td>\n",
       "      <td>267628.550329</td>\n",
       "      <td>дополнительное образование</td>\n",
       "    </tr>\n",
       "    <tr>\n",
       "      <th>4</th>\n",
       "      <td>0</td>\n",
       "      <td>340266.072047</td>\n",
       "      <td>53</td>\n",
       "      <td>среднее</td>\n",
       "      <td>1</td>\n",
       "      <td>гражданский брак</td>\n",
       "      <td>1</td>\n",
       "      <td>F</td>\n",
       "      <td>пенсионер</td>\n",
       "      <td>0</td>\n",
       "      <td>158616.077870</td>\n",
       "      <td>сыграть свадьбу</td>\n",
       "    </tr>\n",
       "    <tr>\n",
       "      <th>5</th>\n",
       "      <td>0</td>\n",
       "      <td>-926.185831</td>\n",
       "      <td>27</td>\n",
       "      <td>высшее</td>\n",
       "      <td>0</td>\n",
       "      <td>гражданский брак</td>\n",
       "      <td>1</td>\n",
       "      <td>M</td>\n",
       "      <td>компаньон</td>\n",
       "      <td>0</td>\n",
       "      <td>255763.565419</td>\n",
       "      <td>покупка жилья</td>\n",
       "    </tr>\n",
       "    <tr>\n",
       "      <th>6</th>\n",
       "      <td>0</td>\n",
       "      <td>-2879.202052</td>\n",
       "      <td>43</td>\n",
       "      <td>высшее</td>\n",
       "      <td>0</td>\n",
       "      <td>женат / замужем</td>\n",
       "      <td>0</td>\n",
       "      <td>F</td>\n",
       "      <td>компаньон</td>\n",
       "      <td>0</td>\n",
       "      <td>240525.971920</td>\n",
       "      <td>операции с жильем</td>\n",
       "    </tr>\n",
       "    <tr>\n",
       "      <th>7</th>\n",
       "      <td>0</td>\n",
       "      <td>-152.779569</td>\n",
       "      <td>50</td>\n",
       "      <td>СРЕДНЕЕ</td>\n",
       "      <td>1</td>\n",
       "      <td>женат / замужем</td>\n",
       "      <td>0</td>\n",
       "      <td>M</td>\n",
       "      <td>сотрудник</td>\n",
       "      <td>0</td>\n",
       "      <td>135823.934197</td>\n",
       "      <td>образование</td>\n",
       "    </tr>\n",
       "    <tr>\n",
       "      <th>8</th>\n",
       "      <td>2</td>\n",
       "      <td>-6929.865299</td>\n",
       "      <td>35</td>\n",
       "      <td>ВЫСШЕЕ</td>\n",
       "      <td>0</td>\n",
       "      <td>гражданский брак</td>\n",
       "      <td>1</td>\n",
       "      <td>F</td>\n",
       "      <td>сотрудник</td>\n",
       "      <td>0</td>\n",
       "      <td>95856.832424</td>\n",
       "      <td>на проведение свадьбы</td>\n",
       "    </tr>\n",
       "    <tr>\n",
       "      <th>9</th>\n",
       "      <td>0</td>\n",
       "      <td>-2188.756445</td>\n",
       "      <td>41</td>\n",
       "      <td>среднее</td>\n",
       "      <td>1</td>\n",
       "      <td>женат / замужем</td>\n",
       "      <td>0</td>\n",
       "      <td>M</td>\n",
       "      <td>сотрудник</td>\n",
       "      <td>0</td>\n",
       "      <td>144425.938277</td>\n",
       "      <td>покупка жилья для семьи</td>\n",
       "    </tr>\n",
       "    <tr>\n",
       "      <th>10</th>\n",
       "      <td>2</td>\n",
       "      <td>-4171.483647</td>\n",
       "      <td>36</td>\n",
       "      <td>высшее</td>\n",
       "      <td>0</td>\n",
       "      <td>женат / замужем</td>\n",
       "      <td>0</td>\n",
       "      <td>M</td>\n",
       "      <td>компаньон</td>\n",
       "      <td>0</td>\n",
       "      <td>113943.491460</td>\n",
       "      <td>покупка недвижимости</td>\n",
       "    </tr>\n",
       "    <tr>\n",
       "      <th>11</th>\n",
       "      <td>0</td>\n",
       "      <td>-792.701887</td>\n",
       "      <td>40</td>\n",
       "      <td>среднее</td>\n",
       "      <td>1</td>\n",
       "      <td>женат / замужем</td>\n",
       "      <td>0</td>\n",
       "      <td>F</td>\n",
       "      <td>сотрудник</td>\n",
       "      <td>0</td>\n",
       "      <td>77069.234271</td>\n",
       "      <td>покупка коммерческой недвижимости</td>\n",
       "    </tr>\n",
       "    <tr>\n",
       "      <th>12</th>\n",
       "      <td>0</td>\n",
       "      <td>NaN</td>\n",
       "      <td>65</td>\n",
       "      <td>среднее</td>\n",
       "      <td>1</td>\n",
       "      <td>гражданский брак</td>\n",
       "      <td>1</td>\n",
       "      <td>M</td>\n",
       "      <td>пенсионер</td>\n",
       "      <td>0</td>\n",
       "      <td>NaN</td>\n",
       "      <td>сыграть свадьбу</td>\n",
       "    </tr>\n",
       "    <tr>\n",
       "      <th>13</th>\n",
       "      <td>0</td>\n",
       "      <td>-1846.641941</td>\n",
       "      <td>54</td>\n",
       "      <td>неоконченное высшее</td>\n",
       "      <td>2</td>\n",
       "      <td>женат / замужем</td>\n",
       "      <td>0</td>\n",
       "      <td>F</td>\n",
       "      <td>сотрудник</td>\n",
       "      <td>0</td>\n",
       "      <td>130458.228857</td>\n",
       "      <td>приобретение автомобиля</td>\n",
       "    </tr>\n",
       "    <tr>\n",
       "      <th>14</th>\n",
       "      <td>0</td>\n",
       "      <td>-1844.956182</td>\n",
       "      <td>56</td>\n",
       "      <td>высшее</td>\n",
       "      <td>0</td>\n",
       "      <td>гражданский брак</td>\n",
       "      <td>1</td>\n",
       "      <td>F</td>\n",
       "      <td>компаньон</td>\n",
       "      <td>1</td>\n",
       "      <td>165127.911772</td>\n",
       "      <td>покупка жилой недвижимости</td>\n",
       "    </tr>\n",
       "    <tr>\n",
       "      <th>15</th>\n",
       "      <td>1</td>\n",
       "      <td>-972.364419</td>\n",
       "      <td>26</td>\n",
       "      <td>среднее</td>\n",
       "      <td>1</td>\n",
       "      <td>женат / замужем</td>\n",
       "      <td>0</td>\n",
       "      <td>F</td>\n",
       "      <td>сотрудник</td>\n",
       "      <td>0</td>\n",
       "      <td>116820.904450</td>\n",
       "      <td>строительство собственной недвижимости</td>\n",
       "    </tr>\n",
       "    <tr>\n",
       "      <th>16</th>\n",
       "      <td>0</td>\n",
       "      <td>-1719.934226</td>\n",
       "      <td>35</td>\n",
       "      <td>среднее</td>\n",
       "      <td>1</td>\n",
       "      <td>женат / замужем</td>\n",
       "      <td>0</td>\n",
       "      <td>F</td>\n",
       "      <td>сотрудник</td>\n",
       "      <td>0</td>\n",
       "      <td>289202.704229</td>\n",
       "      <td>недвижимость</td>\n",
       "    </tr>\n",
       "    <tr>\n",
       "      <th>17</th>\n",
       "      <td>0</td>\n",
       "      <td>-2369.999720</td>\n",
       "      <td>33</td>\n",
       "      <td>высшее</td>\n",
       "      <td>0</td>\n",
       "      <td>гражданский брак</td>\n",
       "      <td>1</td>\n",
       "      <td>M</td>\n",
       "      <td>сотрудник</td>\n",
       "      <td>0</td>\n",
       "      <td>90410.586745</td>\n",
       "      <td>строительство недвижимости</td>\n",
       "    </tr>\n",
       "    <tr>\n",
       "      <th>18</th>\n",
       "      <td>0</td>\n",
       "      <td>400281.136913</td>\n",
       "      <td>53</td>\n",
       "      <td>среднее</td>\n",
       "      <td>1</td>\n",
       "      <td>вдовец / вдова</td>\n",
       "      <td>2</td>\n",
       "      <td>F</td>\n",
       "      <td>пенсионер</td>\n",
       "      <td>0</td>\n",
       "      <td>56823.777243</td>\n",
       "      <td>на покупку подержанного автомобиля</td>\n",
       "    </tr>\n",
       "    <tr>\n",
       "      <th>19</th>\n",
       "      <td>0</td>\n",
       "      <td>-10038.818549</td>\n",
       "      <td>48</td>\n",
       "      <td>СРЕДНЕЕ</td>\n",
       "      <td>1</td>\n",
       "      <td>в разводе</td>\n",
       "      <td>3</td>\n",
       "      <td>F</td>\n",
       "      <td>сотрудник</td>\n",
       "      <td>0</td>\n",
       "      <td>242831.107982</td>\n",
       "      <td>на покупку своего автомобиля</td>\n",
       "    </tr>\n",
       "  </tbody>\n",
       "</table>\n",
       "</div>"
      ],
      "text/plain": [
       "    children  days_employed  dob_years            education  education_id  \\\n",
       "0          1   -8437.673028         42               высшее             0   \n",
       "1          1   -4024.803754         36              среднее             1   \n",
       "2          0   -5623.422610         33              Среднее             1   \n",
       "3          3   -4124.747207         32              среднее             1   \n",
       "4          0  340266.072047         53              среднее             1   \n",
       "5          0    -926.185831         27               высшее             0   \n",
       "6          0   -2879.202052         43               высшее             0   \n",
       "7          0    -152.779569         50              СРЕДНЕЕ             1   \n",
       "8          2   -6929.865299         35               ВЫСШЕЕ             0   \n",
       "9          0   -2188.756445         41              среднее             1   \n",
       "10         2   -4171.483647         36               высшее             0   \n",
       "11         0    -792.701887         40              среднее             1   \n",
       "12         0            NaN         65              среднее             1   \n",
       "13         0   -1846.641941         54  неоконченное высшее             2   \n",
       "14         0   -1844.956182         56               высшее             0   \n",
       "15         1    -972.364419         26              среднее             1   \n",
       "16         0   -1719.934226         35              среднее             1   \n",
       "17         0   -2369.999720         33               высшее             0   \n",
       "18         0  400281.136913         53              среднее             1   \n",
       "19         0  -10038.818549         48              СРЕДНЕЕ             1   \n",
       "\n",
       "       family_status  family_status_id gender income_type  debt  \\\n",
       "0    женат / замужем                 0      F   сотрудник     0   \n",
       "1    женат / замужем                 0      F   сотрудник     0   \n",
       "2    женат / замужем                 0      M   сотрудник     0   \n",
       "3    женат / замужем                 0      M   сотрудник     0   \n",
       "4   гражданский брак                 1      F   пенсионер     0   \n",
       "5   гражданский брак                 1      M   компаньон     0   \n",
       "6    женат / замужем                 0      F   компаньон     0   \n",
       "7    женат / замужем                 0      M   сотрудник     0   \n",
       "8   гражданский брак                 1      F   сотрудник     0   \n",
       "9    женат / замужем                 0      M   сотрудник     0   \n",
       "10   женат / замужем                 0      M   компаньон     0   \n",
       "11   женат / замужем                 0      F   сотрудник     0   \n",
       "12  гражданский брак                 1      M   пенсионер     0   \n",
       "13   женат / замужем                 0      F   сотрудник     0   \n",
       "14  гражданский брак                 1      F   компаньон     1   \n",
       "15   женат / замужем                 0      F   сотрудник     0   \n",
       "16   женат / замужем                 0      F   сотрудник     0   \n",
       "17  гражданский брак                 1      M   сотрудник     0   \n",
       "18    вдовец / вдова                 2      F   пенсионер     0   \n",
       "19         в разводе                 3      F   сотрудник     0   \n",
       "\n",
       "     total_income                                 purpose  \n",
       "0   253875.639453                           покупка жилья  \n",
       "1   112080.014102                 приобретение автомобиля  \n",
       "2   145885.952297                           покупка жилья  \n",
       "3   267628.550329              дополнительное образование  \n",
       "4   158616.077870                         сыграть свадьбу  \n",
       "5   255763.565419                           покупка жилья  \n",
       "6   240525.971920                       операции с жильем  \n",
       "7   135823.934197                             образование  \n",
       "8    95856.832424                   на проведение свадьбы  \n",
       "9   144425.938277                 покупка жилья для семьи  \n",
       "10  113943.491460                    покупка недвижимости  \n",
       "11   77069.234271       покупка коммерческой недвижимости  \n",
       "12            NaN                         сыграть свадьбу  \n",
       "13  130458.228857                 приобретение автомобиля  \n",
       "14  165127.911772              покупка жилой недвижимости  \n",
       "15  116820.904450  строительство собственной недвижимости  \n",
       "16  289202.704229                            недвижимость  \n",
       "17   90410.586745              строительство недвижимости  \n",
       "18   56823.777243      на покупку подержанного автомобиля  \n",
       "19  242831.107982            на покупку своего автомобиля  "
      ]
     },
     "execution_count": 2,
     "metadata": {},
     "output_type": "execute_result"
    }
   ],
   "source": [
    "data.head(20)"
   ]
  },
  {
   "cell_type": "markdown",
   "id": "ede05b2b",
   "metadata": {
    "deletable": false,
    "editable": false,
    "id": "1c12e233"
   },
   "source": [
    "**Задание 3. Выведите основную информацию о датафрейме с помощью метода `info()`.**"
   ]
  },
  {
   "cell_type": "code",
   "execution_count": 3,
   "id": "e7e5a922",
   "metadata": {
    "deletable": false,
    "id": "2b757bca",
    "outputId": "15376089-8dad-46c9-b520-c05248d43158"
   },
   "outputs": [
    {
     "name": "stdout",
     "output_type": "stream",
     "text": [
      "<class 'pandas.core.frame.DataFrame'>\n",
      "RangeIndex: 21525 entries, 0 to 21524\n",
      "Data columns (total 12 columns):\n",
      " #   Column            Non-Null Count  Dtype  \n",
      "---  ------            --------------  -----  \n",
      " 0   children          21525 non-null  int64  \n",
      " 1   days_employed     19351 non-null  float64\n",
      " 2   dob_years         21525 non-null  int64  \n",
      " 3   education         21525 non-null  object \n",
      " 4   education_id      21525 non-null  int64  \n",
      " 5   family_status     21525 non-null  object \n",
      " 6   family_status_id  21525 non-null  int64  \n",
      " 7   gender            21525 non-null  object \n",
      " 8   income_type       21525 non-null  object \n",
      " 9   debt              21525 non-null  int64  \n",
      " 10  total_income      19351 non-null  float64\n",
      " 11  purpose           21525 non-null  object \n",
      "dtypes: float64(2), int64(5), object(5)\n",
      "memory usage: 2.0+ MB\n"
     ]
    }
   ],
   "source": [
    "data.info()"
   ]
  },
  {
   "cell_type": "markdown",
   "id": "41af49a1",
   "metadata": {
    "deletable": false,
    "editable": false,
    "id": "333ec665"
   },
   "source": [
    "## Предобработка данных"
   ]
  },
  {
   "cell_type": "markdown",
   "id": "b0df8afe",
   "metadata": {
    "deletable": false,
    "editable": false,
    "id": "02d92d53"
   },
   "source": [
    "### Удаление пропусков"
   ]
  },
  {
   "cell_type": "markdown",
   "id": "f3ade206",
   "metadata": {
    "deletable": false,
    "editable": false,
    "id": "cd84967c"
   },
   "source": [
    "**Задание 4. Выведите количество пропущенных значений для каждого столбца. Используйте комбинацию двух методов.**"
   ]
  },
  {
   "cell_type": "code",
   "execution_count": 4,
   "id": "a1f7137f",
   "metadata": {
    "deletable": false,
    "id": "7f9b2309",
    "outputId": "81f4d817-781c-465c-ed15-91ce4446810d"
   },
   "outputs": [
    {
     "data": {
      "text/plain": [
       "children               0\n",
       "days_employed       2174\n",
       "dob_years              0\n",
       "education              0\n",
       "education_id           0\n",
       "family_status          0\n",
       "family_status_id       0\n",
       "gender                 0\n",
       "income_type            0\n",
       "debt                   0\n",
       "total_income        2174\n",
       "purpose                0\n",
       "dtype: int64"
      ]
     },
     "execution_count": 4,
     "metadata": {},
     "output_type": "execute_result"
    }
   ],
   "source": [
    "data.isna().sum()"
   ]
  },
  {
   "cell_type": "markdown",
   "id": "b7e9f66e",
   "metadata": {
    "deletable": false,
    "editable": false,
    "id": "db86e27b"
   },
   "source": [
    "**Задание 5. В двух столбцах есть пропущенные значения. Один из них — `days_employed`. Пропуски в этом столбце вы обработаете на следующем этапе. Другой столбец с пропущенными значениями — `total_income` — хранит данные о доходах. На сумму дохода сильнее всего влияет тип занятости, поэтому заполнить пропуски в этом столбце нужно медианным значением по каждому типу из столбца `income_type`. Например, у человека с типом занятости `сотрудник` пропуск в столбце `total_income` должен быть заполнен медианным доходом среди всех записей с тем же типом.**"
   ]
  },
  {
   "cell_type": "code",
   "execution_count": 5,
   "id": "20d07657",
   "metadata": {
    "deletable": false,
    "id": "42006a93"
   },
   "outputs": [],
   "source": [
    "for t in data['income_type'].unique():\n",
    "    data.loc[(data['income_type'] == t) & (data['total_income'].isna()), 'total_income'] = \\\n",
    "    data.loc[(data['income_type'] == t), 'total_income'].median()\n",
    "    "
   ]
  },
  {
   "cell_type": "markdown",
   "id": "732bade7",
   "metadata": {
    "deletable": false,
    "editable": false,
    "id": "89da5ece"
   },
   "source": [
    "### Обработка аномальных значений"
   ]
  },
  {
   "cell_type": "markdown",
   "id": "b5baacb5",
   "metadata": {
    "deletable": false,
    "editable": false,
    "id": "57964554"
   },
   "source": [
    "**Задание 6. В данных могут встречаться артефакты (аномалии) — значения, которые не отражают действительность и появились по какой-то ошибке. таким артефактом будет отрицательное количество дней трудового стажа в столбце `days_employed`. Для реальных данных это нормально. Обработайте значения в этом столбце: замените все отрицательные значения положительными с помощью метода `abs()`.**"
   ]
  },
  {
   "cell_type": "code",
   "execution_count": 6,
   "id": "88c16d28",
   "metadata": {
    "deletable": false,
    "id": "f6f055bf"
   },
   "outputs": [],
   "source": [
    "data['days_employed'] = data['days_employed'].abs()"
   ]
  },
  {
   "cell_type": "markdown",
   "id": "d77e7f90",
   "metadata": {
    "deletable": false,
    "editable": false,
    "id": "6107dd2f"
   },
   "source": [
    "**Задание 7. Для каждого типа занятости выведите медианное значение трудового стажа `days_employed` в днях.**"
   ]
  },
  {
   "cell_type": "code",
   "execution_count": 7,
   "id": "fb60b713",
   "metadata": {
    "deletable": false,
    "id": "85a5faf6",
    "outputId": "801ef80e-522b-4668-f34e-565af7432bcf"
   },
   "outputs": [
    {
     "data": {
      "text/plain": [
       "income_type\n",
       "безработный        366413.652744\n",
       "в декрете            3296.759962\n",
       "госслужащий          2689.368353\n",
       "компаньон            1547.382223\n",
       "пенсионер          365213.306266\n",
       "предприниматель       520.848083\n",
       "сотрудник            1574.202821\n",
       "студент               578.751554\n",
       "Name: days_employed, dtype: float64"
      ]
     },
     "execution_count": 7,
     "metadata": {},
     "output_type": "execute_result"
    }
   ],
   "source": [
    "data.groupby('income_type')['days_employed'].agg('median')"
   ]
  },
  {
   "cell_type": "markdown",
   "id": "aab402b4",
   "metadata": {
    "deletable": false,
    "editable": false,
    "id": "38d1a030"
   },
   "source": [
    "У двух типов (безработные и пенсионеры) получатся аномально большие значения. Исправить такие значения сложно, поэтому оставьте их как есть. Тем более этот столбец не понадобится вам для исследования."
   ]
  },
  {
   "cell_type": "markdown",
   "id": "dc6b7c10",
   "metadata": {
    "deletable": false,
    "editable": false,
    "id": "d8a9f147"
   },
   "source": [
    "**Задание 8. Выведите перечень уникальных значений столбца `children`.**"
   ]
  },
  {
   "cell_type": "code",
   "execution_count": 8,
   "id": "c536dbb0",
   "metadata": {
    "deletable": false,
    "id": "ef5056eb",
    "outputId": "6975b15c-7f95-4697-d16d-a0c79b657b03"
   },
   "outputs": [
    {
     "data": {
      "text/plain": [
       "array([ 1,  0,  3,  2, -1,  4, 20,  5])"
      ]
     },
     "execution_count": 8,
     "metadata": {},
     "output_type": "execute_result"
    }
   ],
   "source": [
    "data['children'].unique()"
   ]
  },
  {
   "cell_type": "markdown",
   "id": "2e99f9c1",
   "metadata": {
    "deletable": false,
    "editable": false,
    "id": "40b9ebf2"
   },
   "source": [
    "**Задание 9. В столбце `children` есть два аномальных значения. Удалите строки, в которых встречаются такие аномальные значения из датафрейма `data`.**"
   ]
  },
  {
   "cell_type": "code",
   "execution_count": 9,
   "id": "e4449035",
   "metadata": {
    "deletable": false,
    "id": "3ff9801d"
   },
   "outputs": [],
   "source": [
    "data = data[(data['children'] != -1) & (data['children'] != 20)]"
   ]
  },
  {
   "cell_type": "markdown",
   "id": "8c3d5e11",
   "metadata": {
    "deletable": false,
    "editable": false,
    "id": "bbc4d0ce"
   },
   "source": [
    "**Задание 10. Ещё раз выведите перечень уникальных значений столбца `children`, чтобы убедиться, что артефакты удалены.**"
   ]
  },
  {
   "cell_type": "code",
   "execution_count": 10,
   "id": "ae1fd26b",
   "metadata": {
    "deletable": false,
    "id": "ad4fa8b7",
    "outputId": "b2097101-d49d-44d9-901b-32a65c9463d1"
   },
   "outputs": [
    {
     "data": {
      "text/plain": [
       "array([1, 0, 3, 2, 4, 5])"
      ]
     },
     "execution_count": 10,
     "metadata": {},
     "output_type": "execute_result"
    }
   ],
   "source": [
    "data['children'].unique()"
   ]
  },
  {
   "cell_type": "markdown",
   "id": "a23e0a2e",
   "metadata": {
    "deletable": false,
    "editable": false,
    "id": "75440b63"
   },
   "source": [
    "### Удаление пропусков (продолжение)"
   ]
  },
  {
   "cell_type": "markdown",
   "id": "0c20d2af",
   "metadata": {
    "deletable": false,
    "editable": false,
    "id": "f4ea573f"
   },
   "source": [
    "**Задание 11. Заполните пропуски в столбце `days_employed` медианными значениями по каждого типа занятости `income_type`.**"
   ]
  },
  {
   "cell_type": "code",
   "execution_count": 11,
   "id": "ff3509ed",
   "metadata": {
    "deletable": false,
    "id": "af6b1a7e"
   },
   "outputs": [],
   "source": [
    "for t in data['income_type'].unique():\n",
    "    data.loc[(data['income_type'] == t) & (data['days_employed'].isna()), 'days_employed'] = \\\n",
    "    data.loc[(data['income_type'] == t), 'days_employed'].median()"
   ]
  },
  {
   "cell_type": "markdown",
   "id": "a6d2cff5",
   "metadata": {
    "deletable": false,
    "editable": false,
    "id": "2753f40d"
   },
   "source": [
    "**Задание 12. Убедитесь, что все пропуски заполнены. Проверьте себя и ещё раз выведите количество пропущенных значений для каждого столбца с помощью двух методов.**"
   ]
  },
  {
   "cell_type": "code",
   "execution_count": 12,
   "id": "b6b0e2f0",
   "metadata": {
    "deletable": false,
    "id": "55f78bc2",
    "outputId": "8da1e4e1-358e-4e87-98c9-f261bce0a7b2"
   },
   "outputs": [
    {
     "data": {
      "text/plain": [
       "children            0\n",
       "days_employed       0\n",
       "dob_years           0\n",
       "education           0\n",
       "education_id        0\n",
       "family_status       0\n",
       "family_status_id    0\n",
       "gender              0\n",
       "income_type         0\n",
       "debt                0\n",
       "total_income        0\n",
       "purpose             0\n",
       "dtype: int64"
      ]
     },
     "execution_count": 12,
     "metadata": {},
     "output_type": "execute_result"
    }
   ],
   "source": [
    "data.isna().sum()"
   ]
  },
  {
   "cell_type": "markdown",
   "id": "7779a634",
   "metadata": {
    "deletable": false,
    "editable": false,
    "id": "ddc81e43"
   },
   "source": [
    "### Изменение типов данных"
   ]
  },
  {
   "cell_type": "markdown",
   "id": "925c9371",
   "metadata": {
    "deletable": false,
    "editable": false,
    "id": "42d19d24"
   },
   "source": [
    "**Задание 13. Замените вещественный тип данных в столбце `total_income` на целочисленный с помощью метода `astype()`.**"
   ]
  },
  {
   "cell_type": "code",
   "execution_count": 13,
   "id": "a3d01432",
   "metadata": {
    "deletable": false,
    "id": "920b65ad"
   },
   "outputs": [],
   "source": [
    "data['total_income'] = data['total_income'].astype(int)"
   ]
  },
  {
   "cell_type": "markdown",
   "id": "cc87c727",
   "metadata": {
    "deletable": false,
    "editable": false,
    "id": "80c420ba"
   },
   "source": [
    "### Обработка дубликатов"
   ]
  },
  {
   "cell_type": "markdown",
   "id": "66df3d86",
   "metadata": {
    "deletable": false,
    "editable": false
   },
   "source": [
    "**Задание 14. Обработайте неявные дубликаты в столбце `education`. В этом столбце есть одни и те же значения, но записанные по-разному: с использованием заглавных и строчных букв. Приведите их к нижнему регистру. Проверьте остальные столбцы.**"
   ]
  },
  {
   "cell_type": "code",
   "execution_count": 14,
   "id": "71b6a434",
   "metadata": {
    "deletable": false
   },
   "outputs": [],
   "source": [
    "data['education'] = data['education'].str.lower()"
   ]
  },
  {
   "cell_type": "markdown",
   "id": "40b570b5",
   "metadata": {
    "deletable": false,
    "editable": false,
    "id": "dc587695"
   },
   "source": [
    "**Задание 15. Выведите на экран количество строк-дубликатов в данных. Если такие строки присутствуют, удалите их.**"
   ]
  },
  {
   "cell_type": "code",
   "execution_count": 15,
   "id": "348954e7",
   "metadata": {
    "deletable": false,
    "id": "3ee445e4",
    "outputId": "9684deba-1934-42d1-99e1-cda61740f822"
   },
   "outputs": [
    {
     "data": {
      "text/plain": [
       "71"
      ]
     },
     "execution_count": 15,
     "metadata": {},
     "output_type": "execute_result"
    }
   ],
   "source": [
    "data.duplicated().sum()"
   ]
  },
  {
   "cell_type": "code",
   "execution_count": 16,
   "id": "06a3c157",
   "metadata": {
    "deletable": false,
    "id": "8575fe05"
   },
   "outputs": [],
   "source": [
    "data = data.drop_duplicates()"
   ]
  },
  {
   "cell_type": "markdown",
   "id": "fc88580f",
   "metadata": {
    "deletable": false,
    "editable": false,
    "id": "9904cf55"
   },
   "source": [
    "### Категоризация данных"
   ]
  },
  {
   "cell_type": "markdown",
   "id": "24a78d33",
   "metadata": {
    "deletable": false,
    "editable": false,
    "id": "72fcc8a2"
   },
   "source": [
    "**Задание 16. На основании диапазонов, указанных ниже, создайте в датафрейме `data` столбец `total_income_category` с категориями:**\n",
    "\n",
    "- 0–30000 — `'E'`;\n",
    "- 30001–50000 — `'D'`;\n",
    "- 50001–200000 — `'C'`;\n",
    "- 200001–1000000 — `'B'`;\n",
    "- 1000001 и выше — `'A'`.\n",
    "\n",
    "\n",
    "**Например, кредитополучателю с доходом 25000 нужно назначить категорию `'E'`, а клиенту, получающему 235000, — `'B'`. Используйте собственную функцию с именем `categorize_income()` и метод `apply()`.**"
   ]
  },
  {
   "cell_type": "code",
   "execution_count": 17,
   "id": "0c4b9fa4",
   "metadata": {
    "deletable": false,
    "id": "e1771346"
   },
   "outputs": [],
   "source": [
    "def categorize_income(income):\n",
    "    try:\n",
    "        if 0 <= income <= 30000:\n",
    "            return 'E'\n",
    "        elif 30001 <= income <= 50000:\n",
    "            return 'D'\n",
    "        elif 50001 <= income <= 200000:\n",
    "            return 'C'\n",
    "        elif 200001 <= income <= 1000000:\n",
    "            return 'B'\n",
    "        elif income >= 1000001:\n",
    "            return 'A'\n",
    "    except:\n",
    "        pass"
   ]
  },
  {
   "cell_type": "code",
   "execution_count": 18,
   "id": "d7479e79",
   "metadata": {
    "deletable": false,
    "id": "d5f3586d"
   },
   "outputs": [],
   "source": [
    "data['total_income_category'] = data['total_income'].apply(categorize_income)"
   ]
  },
  {
   "cell_type": "markdown",
   "id": "9b3269e9",
   "metadata": {
    "deletable": false,
    "editable": false,
    "id": "dde49b5c"
   },
   "source": [
    "**Задание 17. Выведите на экран перечень уникальных целей взятия кредита из столбца `purpose`.**"
   ]
  },
  {
   "cell_type": "code",
   "execution_count": 19,
   "id": "eaa28e87",
   "metadata": {
    "deletable": false,
    "id": "f67ce9b3",
    "outputId": "673c12d9-7d7e-4ae0-9812-c622c89dd244"
   },
   "outputs": [
    {
     "data": {
      "text/plain": [
       "array(['покупка жилья', 'приобретение автомобиля',\n",
       "       'дополнительное образование', 'сыграть свадьбу',\n",
       "       'операции с жильем', 'образование', 'на проведение свадьбы',\n",
       "       'покупка жилья для семьи', 'покупка недвижимости',\n",
       "       'покупка коммерческой недвижимости', 'покупка жилой недвижимости',\n",
       "       'строительство собственной недвижимости', 'недвижимость',\n",
       "       'строительство недвижимости', 'на покупку подержанного автомобиля',\n",
       "       'на покупку своего автомобиля',\n",
       "       'операции с коммерческой недвижимостью',\n",
       "       'строительство жилой недвижимости', 'жилье',\n",
       "       'операции со своей недвижимостью', 'автомобили',\n",
       "       'заняться образованием', 'сделка с подержанным автомобилем',\n",
       "       'получение образования', 'автомобиль', 'свадьба',\n",
       "       'получение дополнительного образования', 'покупка своего жилья',\n",
       "       'операции с недвижимостью', 'получение высшего образования',\n",
       "       'свой автомобиль', 'сделка с автомобилем',\n",
       "       'профильное образование', 'высшее образование',\n",
       "       'покупка жилья для сдачи', 'на покупку автомобиля', 'ремонт жилью',\n",
       "       'заняться высшим образованием'], dtype=object)"
      ]
     },
     "execution_count": 19,
     "metadata": {},
     "output_type": "execute_result"
    }
   ],
   "source": [
    "data['purpose'].unique()"
   ]
  },
  {
   "cell_type": "markdown",
   "id": "1f903e9c",
   "metadata": {
    "deletable": false,
    "editable": false,
    "id": "85d0aef0"
   },
   "source": [
    "**Задание 18. Создайте функцию, которая на основании данных из столбца `purpose` сформирует новый столбец `purpose_category`, в который войдут следующие категории:**\n",
    "\n",
    "- `'операции с автомобилем'`,\n",
    "- `'операции с недвижимостью'`,\n",
    "- `'проведение свадьбы'`,\n",
    "- `'получение образования'`.\n",
    "\n",
    "**Например, если в столбце `purpose` находится подстрока `'на покупку автомобиля'`, то в столбце `purpose_category` должна появиться строка `'операции с автомобилем'`.**\n",
    "\n",
    "**Используйте собственную функцию с именем `categorize_purpose()` и метод `apply()`. Изучите данные в столбце `purpose` и определите, какие подстроки помогут вам правильно определить категорию.**"
   ]
  },
  {
   "cell_type": "code",
   "execution_count": 20,
   "id": "27b2091c",
   "metadata": {
    "deletable": false,
    "id": "e149fab4"
   },
   "outputs": [],
   "source": [
    "def categorize_purpose(row):\n",
    "    try:\n",
    "        if 'автом' in row:\n",
    "            return 'операции с автомобилем'\n",
    "        elif 'жил' in row or 'недвиж' in row:\n",
    "            return 'операции с недвижимостью'\n",
    "        elif 'свад' in row:\n",
    "            return 'проведение свадьбы'\n",
    "        elif 'образов' in row:\n",
    "            return 'получение образования'\n",
    "    except:\n",
    "        return 'нет категории'"
   ]
  },
  {
   "cell_type": "code",
   "execution_count": 21,
   "id": "2a6744fb",
   "metadata": {
    "deletable": false,
    "id": "bf36e69b"
   },
   "outputs": [],
   "source": [
    "data['purpose_category'] = data['purpose'].apply(categorize_purpose)"
   ]
  },
  {
   "cell_type": "markdown",
   "id": "afb35aed",
   "metadata": {
    "deletable": false,
    "editable": false,
    "id": "09b242bf"
   },
   "source": [
    "### Шаг 3. Исследуйте данные и ответьте на вопросы"
   ]
  },
  {
   "cell_type": "markdown",
   "id": "c1c73bc3",
   "metadata": {
    "deletable": false,
    "editable": false,
    "id": "c5d66278"
   },
   "source": [
    "#### 3.1 Есть ли зависимость между количеством детей и возвратом кредита в срок?"
   ]
  },
  {
   "cell_type": "code",
   "execution_count": 22,
   "id": "02e22066",
   "metadata": {
    "deletable": false,
    "id": "2cacfc4a",
    "scrolled": false
   },
   "outputs": [
    {
     "data": {
      "text/html": [
       "<div>\n",
       "<style scoped>\n",
       "    .dataframe tbody tr th:only-of-type {\n",
       "        vertical-align: middle;\n",
       "    }\n",
       "\n",
       "    .dataframe tbody tr th {\n",
       "        vertical-align: top;\n",
       "    }\n",
       "\n",
       "    .dataframe thead tr th {\n",
       "        text-align: left;\n",
       "    }\n",
       "\n",
       "    .dataframe thead tr:last-of-type th {\n",
       "        text-align: right;\n",
       "    }\n",
       "</style>\n",
       "<table border=\"1\" class=\"dataframe\">\n",
       "  <thead>\n",
       "    <tr>\n",
       "      <th></th>\n",
       "      <th colspan=\"2\" halign=\"left\">debt</th>\n",
       "    </tr>\n",
       "    <tr>\n",
       "      <th></th>\n",
       "      <th>count</th>\n",
       "      <th>mean</th>\n",
       "    </tr>\n",
       "    <tr>\n",
       "      <th>children</th>\n",
       "      <th></th>\n",
       "      <th></th>\n",
       "    </tr>\n",
       "  </thead>\n",
       "  <tbody>\n",
       "    <tr>\n",
       "      <th>0</th>\n",
       "      <td>14091</td>\n",
       "      <td>0.075438</td>\n",
       "    </tr>\n",
       "    <tr>\n",
       "      <th>1</th>\n",
       "      <td>4808</td>\n",
       "      <td>0.092346</td>\n",
       "    </tr>\n",
       "    <tr>\n",
       "      <th>2</th>\n",
       "      <td>2052</td>\n",
       "      <td>0.094542</td>\n",
       "    </tr>\n",
       "    <tr>\n",
       "      <th>3</th>\n",
       "      <td>330</td>\n",
       "      <td>0.081818</td>\n",
       "    </tr>\n",
       "    <tr>\n",
       "      <th>4</th>\n",
       "      <td>41</td>\n",
       "      <td>0.097561</td>\n",
       "    </tr>\n",
       "    <tr>\n",
       "      <th>5</th>\n",
       "      <td>9</td>\n",
       "      <td>0.000000</td>\n",
       "    </tr>\n",
       "  </tbody>\n",
       "</table>\n",
       "</div>"
      ],
      "text/plain": [
       "           debt          \n",
       "          count      mean\n",
       "children                 \n",
       "0         14091  0.075438\n",
       "1          4808  0.092346\n",
       "2          2052  0.094542\n",
       "3           330  0.081818\n",
       "4            41  0.097561\n",
       "5             9  0.000000"
      ]
     },
     "execution_count": 22,
     "metadata": {},
     "output_type": "execute_result"
    }
   ],
   "source": [
    "# Ваш код будет здесь. Вы можете создавать новые ячейки.\n",
    "debt_children = data.groupby(\"children\")[\"debt\"].mean()\n",
    "data.groupby(\"children\").agg({\"debt\":[\"count\",\"mean\"]})"
   ]
  },
  {
   "cell_type": "code",
   "execution_count": 23,
   "id": "982247ba",
   "metadata": {},
   "outputs": [
    {
     "name": "stdout",
     "output_type": "stream",
     "text": [
      "Случаи задолжностей к погашениям без задолжностей без детей в семье: 7.54%\n",
      "Случаи задолжностей к погашениям без задолжностей c одним ребенком в семье: 9.23%\n",
      "Случаи задолжностей к погашениям без задолжностей с двумя детьми в семье: 9.45%\n",
      "Случаи задолжностей к погашениям без задолжностей с тремя  детьми в семье: 8.18%\n",
      "Случаи задолжностей к погашениям без задолжностей с четырьмя детьми в семье: 9.76%\n",
      "Случаи задолжностей к погашениям без задолжностей с пятью детьми в семье: 0.00%\n"
     ]
    }
   ],
   "source": [
    "print(f\"Случаи задолжностей к погашениям без задолжностей без детей в семье: {('%.2f' % (debt_children[0] * 100))}%\")\n",
    "print(f\"Случаи задолжностей к погашениям без задолжностей c одним ребенком в семье: {('%.2f' % (debt_children[1] * 100))}%\")\n",
    "print(f\"Случаи задолжностей к погашениям без задолжностей с двумя детьми в семье: {('%.2f' % (debt_children[2] * 100))}%\")\n",
    "print(f\"Случаи задолжностей к погашениям без задолжностей с тремя  детьми в семье: {('%.2f' % (debt_children[3] * 100))}%\")\n",
    "print(f\"Случаи задолжностей к погашениям без задолжностей с четырьмя детьми в семье: {('%.2f' % (debt_children[4] * 100))}%\")\n",
    "print(f\"Случаи задолжностей к погашениям без задолжностей с пятью детьми в семье: {('%.2f' % (debt_children[5] * 100))}%\")"
   ]
  },
  {
   "cell_type": "markdown",
   "id": "d298a5aa",
   "metadata": {
    "deletable": false,
    "id": "3a6b99ec"
   },
   "source": [
    "**Вывод:** Что могу сказать точно, то для вывода о зависимости кол-ва детей и возвратом кредита в срок, для случаев, когда детей в семье 4 и 5, не хватает данных.\n",
    "Если же брать в целом, то наличие детей в семье всё же действительно сказывается на проблемы возврата кредита в срок - касаемо случаев, когда в семья 1-2 ребенка, данные отличаются не сильно.\n",
    "Что касаемо случаев, когда в семье 3 ребенка, то процент имел ли задолженность к погашениям без задолжностей сильно ниже, что вероятнее всего можно списать на недостаток данных, ибо таких случаев всего 330, что недостаточно для качественного анализа.\n",
    "Еще большая проблема в кол-ве данных для 4 и 5 детей в семье.\n",
    "Самый же низший процент случаев задолжностей к погашениям без задолжностей - именно без детей вовсе.\n",
    "Но если отбросить проблемы качественного анализа, то чаще всего кредит выплачивают в семьях с 5 детьми (недостаток данных, всего 9 семей)\n"
   ]
  },
  {
   "cell_type": "markdown",
   "id": "d41d72db",
   "metadata": {
    "deletable": false,
    "editable": false,
    "id": "97be82ca"
   },
   "source": [
    "#### 3.2 Есть ли зависимость между семейным положением и возвратом кредита в срок?"
   ]
  },
  {
   "cell_type": "code",
   "execution_count": 24,
   "id": "e859e754",
   "metadata": {
    "scrolled": true
   },
   "outputs": [],
   "source": [
    "data_married = pd.pivot_table(data, index=[\"family_status_id\", \"family_status\"], values=[\"debt\"])\n",
    "data_married1 = data.groupby(\"family_status_id\")[\"debt\"].mean()\n",
    "#data_married[\"debt\"][2][0]"
   ]
  },
  {
   "cell_type": "markdown",
   "id": "ba1eabbc",
   "metadata": {
    "deletable": false,
    "id": "dc3f7ee8",
    "scrolled": true
   },
   "source": [
    "\n"
   ]
  },
  {
   "cell_type": "code",
   "execution_count": 25,
   "id": "0a251542",
   "metadata": {},
   "outputs": [
    {
     "name": "stdout",
     "output_type": "stream",
     "text": [
      "Случаи задолжностей к погашениям без задолжностей для женатых: 7.56%\n",
      "Случаи задолжностей к погашениям без задолжностей в гражданском браке: 9.31%\n",
      "Случаи задолжностей к погашениям без задолжностей для вдов и вдовцев : 6.62%\n",
      "Случаи задолжностей к погашениям без задолжностей для тех, кто в разводе: 7.06%\n",
      "Случаи задолжностей к погашениям без задолжностей для не женатых/не замужних: 9.76%\n"
     ]
    }
   ],
   "source": [
    "print(f\"Случаи задолжностей к погашениям без задолжностей для женатых: {('%.2f' % (data_married1[0] * 100))}%\")\n",
    "print(f\"Случаи задолжностей к погашениям без задолжностей в гражданском браке: {('%.2f' % (data_married1[1] * 100))}%\")\n",
    "print(f\"Случаи задолжностей к погашениям без задолжностей для вдов и вдовцев : {('%.2f' % (data_married1[2] * 100))}%\")\n",
    "print(f\"Случаи задолжностей к погашениям без задолжностей для тех, кто в разводе: {('%.2f' % (data_married1[3] * 100))}%\")\n",
    "print(f\"Случаи задолжностей к погашениям без задолжностей для не женатых/не замужних: {('%.2f' % (data_married1[4] * 100))}%\")\n"
   ]
  },
  {
   "cell_type": "markdown",
   "id": "a6ec04bd",
   "metadata": {
    "deletable": false,
    "id": "1cef7837"
   },
   "source": [
    "**Вывод:** \n",
    "Более ответственны за кредит оказались люди - вдовцы,вдовы. \n",
    "А хуже всего относятся к своим долговым обязательствам люди без своей семьи(не женатые, не замужние)"
   ]
  },
  {
   "cell_type": "markdown",
   "id": "2a503065",
   "metadata": {
    "deletable": false,
    "editable": false,
    "id": "1e8b2fca"
   },
   "source": [
    "#### 3.3 Есть ли зависимость между уровнем дохода и возвратом кредита в срок?"
   ]
  },
  {
   "cell_type": "code",
   "execution_count": 26,
   "id": "2ea3ee01",
   "metadata": {},
   "outputs": [
    {
     "data": {
      "text/html": [
       "<div>\n",
       "<style scoped>\n",
       "    .dataframe tbody tr th:only-of-type {\n",
       "        vertical-align: middle;\n",
       "    }\n",
       "\n",
       "    .dataframe tbody tr th {\n",
       "        vertical-align: top;\n",
       "    }\n",
       "\n",
       "    .dataframe thead th {\n",
       "        text-align: right;\n",
       "    }\n",
       "</style>\n",
       "<table border=\"1\" class=\"dataframe\">\n",
       "  <thead>\n",
       "    <tr style=\"text-align: right;\">\n",
       "      <th></th>\n",
       "      <th>children</th>\n",
       "      <th>days_employed</th>\n",
       "      <th>dob_years</th>\n",
       "      <th>education</th>\n",
       "      <th>education_id</th>\n",
       "      <th>family_status</th>\n",
       "      <th>family_status_id</th>\n",
       "      <th>gender</th>\n",
       "      <th>income_type</th>\n",
       "      <th>debt</th>\n",
       "      <th>total_income</th>\n",
       "      <th>purpose</th>\n",
       "      <th>total_income_category</th>\n",
       "      <th>purpose_category</th>\n",
       "    </tr>\n",
       "  </thead>\n",
       "  <tbody>\n",
       "    <tr>\n",
       "      <th>0</th>\n",
       "      <td>1</td>\n",
       "      <td>8437.673028</td>\n",
       "      <td>42</td>\n",
       "      <td>высшее</td>\n",
       "      <td>0</td>\n",
       "      <td>женат / замужем</td>\n",
       "      <td>0</td>\n",
       "      <td>F</td>\n",
       "      <td>сотрудник</td>\n",
       "      <td>0</td>\n",
       "      <td>253875</td>\n",
       "      <td>покупка жилья</td>\n",
       "      <td>B</td>\n",
       "      <td>операции с недвижимостью</td>\n",
       "    </tr>\n",
       "    <tr>\n",
       "      <th>1</th>\n",
       "      <td>1</td>\n",
       "      <td>4024.803754</td>\n",
       "      <td>36</td>\n",
       "      <td>среднее</td>\n",
       "      <td>1</td>\n",
       "      <td>женат / замужем</td>\n",
       "      <td>0</td>\n",
       "      <td>F</td>\n",
       "      <td>сотрудник</td>\n",
       "      <td>0</td>\n",
       "      <td>112080</td>\n",
       "      <td>приобретение автомобиля</td>\n",
       "      <td>C</td>\n",
       "      <td>операции с автомобилем</td>\n",
       "    </tr>\n",
       "    <tr>\n",
       "      <th>2</th>\n",
       "      <td>0</td>\n",
       "      <td>5623.422610</td>\n",
       "      <td>33</td>\n",
       "      <td>среднее</td>\n",
       "      <td>1</td>\n",
       "      <td>женат / замужем</td>\n",
       "      <td>0</td>\n",
       "      <td>M</td>\n",
       "      <td>сотрудник</td>\n",
       "      <td>0</td>\n",
       "      <td>145885</td>\n",
       "      <td>покупка жилья</td>\n",
       "      <td>C</td>\n",
       "      <td>операции с недвижимостью</td>\n",
       "    </tr>\n",
       "    <tr>\n",
       "      <th>3</th>\n",
       "      <td>3</td>\n",
       "      <td>4124.747207</td>\n",
       "      <td>32</td>\n",
       "      <td>среднее</td>\n",
       "      <td>1</td>\n",
       "      <td>женат / замужем</td>\n",
       "      <td>0</td>\n",
       "      <td>M</td>\n",
       "      <td>сотрудник</td>\n",
       "      <td>0</td>\n",
       "      <td>267628</td>\n",
       "      <td>дополнительное образование</td>\n",
       "      <td>B</td>\n",
       "      <td>получение образования</td>\n",
       "    </tr>\n",
       "    <tr>\n",
       "      <th>4</th>\n",
       "      <td>0</td>\n",
       "      <td>340266.072047</td>\n",
       "      <td>53</td>\n",
       "      <td>среднее</td>\n",
       "      <td>1</td>\n",
       "      <td>гражданский брак</td>\n",
       "      <td>1</td>\n",
       "      <td>F</td>\n",
       "      <td>пенсионер</td>\n",
       "      <td>0</td>\n",
       "      <td>158616</td>\n",
       "      <td>сыграть свадьбу</td>\n",
       "      <td>C</td>\n",
       "      <td>проведение свадьбы</td>\n",
       "    </tr>\n",
       "    <tr>\n",
       "      <th>5</th>\n",
       "      <td>0</td>\n",
       "      <td>926.185831</td>\n",
       "      <td>27</td>\n",
       "      <td>высшее</td>\n",
       "      <td>0</td>\n",
       "      <td>гражданский брак</td>\n",
       "      <td>1</td>\n",
       "      <td>M</td>\n",
       "      <td>компаньон</td>\n",
       "      <td>0</td>\n",
       "      <td>255763</td>\n",
       "      <td>покупка жилья</td>\n",
       "      <td>B</td>\n",
       "      <td>операции с недвижимостью</td>\n",
       "    </tr>\n",
       "    <tr>\n",
       "      <th>6</th>\n",
       "      <td>0</td>\n",
       "      <td>2879.202052</td>\n",
       "      <td>43</td>\n",
       "      <td>высшее</td>\n",
       "      <td>0</td>\n",
       "      <td>женат / замужем</td>\n",
       "      <td>0</td>\n",
       "      <td>F</td>\n",
       "      <td>компаньон</td>\n",
       "      <td>0</td>\n",
       "      <td>240525</td>\n",
       "      <td>операции с жильем</td>\n",
       "      <td>B</td>\n",
       "      <td>операции с недвижимостью</td>\n",
       "    </tr>\n",
       "    <tr>\n",
       "      <th>7</th>\n",
       "      <td>0</td>\n",
       "      <td>152.779569</td>\n",
       "      <td>50</td>\n",
       "      <td>среднее</td>\n",
       "      <td>1</td>\n",
       "      <td>женат / замужем</td>\n",
       "      <td>0</td>\n",
       "      <td>M</td>\n",
       "      <td>сотрудник</td>\n",
       "      <td>0</td>\n",
       "      <td>135823</td>\n",
       "      <td>образование</td>\n",
       "      <td>C</td>\n",
       "      <td>получение образования</td>\n",
       "    </tr>\n",
       "    <tr>\n",
       "      <th>8</th>\n",
       "      <td>2</td>\n",
       "      <td>6929.865299</td>\n",
       "      <td>35</td>\n",
       "      <td>высшее</td>\n",
       "      <td>0</td>\n",
       "      <td>гражданский брак</td>\n",
       "      <td>1</td>\n",
       "      <td>F</td>\n",
       "      <td>сотрудник</td>\n",
       "      <td>0</td>\n",
       "      <td>95856</td>\n",
       "      <td>на проведение свадьбы</td>\n",
       "      <td>C</td>\n",
       "      <td>проведение свадьбы</td>\n",
       "    </tr>\n",
       "    <tr>\n",
       "      <th>9</th>\n",
       "      <td>0</td>\n",
       "      <td>2188.756445</td>\n",
       "      <td>41</td>\n",
       "      <td>среднее</td>\n",
       "      <td>1</td>\n",
       "      <td>женат / замужем</td>\n",
       "      <td>0</td>\n",
       "      <td>M</td>\n",
       "      <td>сотрудник</td>\n",
       "      <td>0</td>\n",
       "      <td>144425</td>\n",
       "      <td>покупка жилья для семьи</td>\n",
       "      <td>C</td>\n",
       "      <td>операции с недвижимостью</td>\n",
       "    </tr>\n",
       "    <tr>\n",
       "      <th>10</th>\n",
       "      <td>2</td>\n",
       "      <td>4171.483647</td>\n",
       "      <td>36</td>\n",
       "      <td>высшее</td>\n",
       "      <td>0</td>\n",
       "      <td>женат / замужем</td>\n",
       "      <td>0</td>\n",
       "      <td>M</td>\n",
       "      <td>компаньон</td>\n",
       "      <td>0</td>\n",
       "      <td>113943</td>\n",
       "      <td>покупка недвижимости</td>\n",
       "      <td>C</td>\n",
       "      <td>операции с недвижимостью</td>\n",
       "    </tr>\n",
       "    <tr>\n",
       "      <th>11</th>\n",
       "      <td>0</td>\n",
       "      <td>792.701887</td>\n",
       "      <td>40</td>\n",
       "      <td>среднее</td>\n",
       "      <td>1</td>\n",
       "      <td>женат / замужем</td>\n",
       "      <td>0</td>\n",
       "      <td>F</td>\n",
       "      <td>сотрудник</td>\n",
       "      <td>0</td>\n",
       "      <td>77069</td>\n",
       "      <td>покупка коммерческой недвижимости</td>\n",
       "      <td>C</td>\n",
       "      <td>операции с недвижимостью</td>\n",
       "    </tr>\n",
       "    <tr>\n",
       "      <th>12</th>\n",
       "      <td>0</td>\n",
       "      <td>365286.622650</td>\n",
       "      <td>65</td>\n",
       "      <td>среднее</td>\n",
       "      <td>1</td>\n",
       "      <td>гражданский брак</td>\n",
       "      <td>1</td>\n",
       "      <td>M</td>\n",
       "      <td>пенсионер</td>\n",
       "      <td>0</td>\n",
       "      <td>118514</td>\n",
       "      <td>сыграть свадьбу</td>\n",
       "      <td>C</td>\n",
       "      <td>проведение свадьбы</td>\n",
       "    </tr>\n",
       "    <tr>\n",
       "      <th>13</th>\n",
       "      <td>0</td>\n",
       "      <td>1846.641941</td>\n",
       "      <td>54</td>\n",
       "      <td>неоконченное высшее</td>\n",
       "      <td>2</td>\n",
       "      <td>женат / замужем</td>\n",
       "      <td>0</td>\n",
       "      <td>F</td>\n",
       "      <td>сотрудник</td>\n",
       "      <td>0</td>\n",
       "      <td>130458</td>\n",
       "      <td>приобретение автомобиля</td>\n",
       "      <td>C</td>\n",
       "      <td>операции с автомобилем</td>\n",
       "    </tr>\n",
       "    <tr>\n",
       "      <th>14</th>\n",
       "      <td>0</td>\n",
       "      <td>1844.956182</td>\n",
       "      <td>56</td>\n",
       "      <td>высшее</td>\n",
       "      <td>0</td>\n",
       "      <td>гражданский брак</td>\n",
       "      <td>1</td>\n",
       "      <td>F</td>\n",
       "      <td>компаньон</td>\n",
       "      <td>1</td>\n",
       "      <td>165127</td>\n",
       "      <td>покупка жилой недвижимости</td>\n",
       "      <td>C</td>\n",
       "      <td>операции с недвижимостью</td>\n",
       "    </tr>\n",
       "    <tr>\n",
       "      <th>15</th>\n",
       "      <td>1</td>\n",
       "      <td>972.364419</td>\n",
       "      <td>26</td>\n",
       "      <td>среднее</td>\n",
       "      <td>1</td>\n",
       "      <td>женат / замужем</td>\n",
       "      <td>0</td>\n",
       "      <td>F</td>\n",
       "      <td>сотрудник</td>\n",
       "      <td>0</td>\n",
       "      <td>116820</td>\n",
       "      <td>строительство собственной недвижимости</td>\n",
       "      <td>C</td>\n",
       "      <td>операции с недвижимостью</td>\n",
       "    </tr>\n",
       "    <tr>\n",
       "      <th>16</th>\n",
       "      <td>0</td>\n",
       "      <td>1719.934226</td>\n",
       "      <td>35</td>\n",
       "      <td>среднее</td>\n",
       "      <td>1</td>\n",
       "      <td>женат / замужем</td>\n",
       "      <td>0</td>\n",
       "      <td>F</td>\n",
       "      <td>сотрудник</td>\n",
       "      <td>0</td>\n",
       "      <td>289202</td>\n",
       "      <td>недвижимость</td>\n",
       "      <td>B</td>\n",
       "      <td>операции с недвижимостью</td>\n",
       "    </tr>\n",
       "    <tr>\n",
       "      <th>17</th>\n",
       "      <td>0</td>\n",
       "      <td>2369.999720</td>\n",
       "      <td>33</td>\n",
       "      <td>высшее</td>\n",
       "      <td>0</td>\n",
       "      <td>гражданский брак</td>\n",
       "      <td>1</td>\n",
       "      <td>M</td>\n",
       "      <td>сотрудник</td>\n",
       "      <td>0</td>\n",
       "      <td>90410</td>\n",
       "      <td>строительство недвижимости</td>\n",
       "      <td>C</td>\n",
       "      <td>операции с недвижимостью</td>\n",
       "    </tr>\n",
       "    <tr>\n",
       "      <th>18</th>\n",
       "      <td>0</td>\n",
       "      <td>400281.136913</td>\n",
       "      <td>53</td>\n",
       "      <td>среднее</td>\n",
       "      <td>1</td>\n",
       "      <td>вдовец / вдова</td>\n",
       "      <td>2</td>\n",
       "      <td>F</td>\n",
       "      <td>пенсионер</td>\n",
       "      <td>0</td>\n",
       "      <td>56823</td>\n",
       "      <td>на покупку подержанного автомобиля</td>\n",
       "      <td>C</td>\n",
       "      <td>операции с автомобилем</td>\n",
       "    </tr>\n",
       "    <tr>\n",
       "      <th>19</th>\n",
       "      <td>0</td>\n",
       "      <td>10038.818549</td>\n",
       "      <td>48</td>\n",
       "      <td>среднее</td>\n",
       "      <td>1</td>\n",
       "      <td>в разводе</td>\n",
       "      <td>3</td>\n",
       "      <td>F</td>\n",
       "      <td>сотрудник</td>\n",
       "      <td>0</td>\n",
       "      <td>242831</td>\n",
       "      <td>на покупку своего автомобиля</td>\n",
       "      <td>B</td>\n",
       "      <td>операции с автомобилем</td>\n",
       "    </tr>\n",
       "  </tbody>\n",
       "</table>\n",
       "</div>"
      ],
      "text/plain": [
       "    children  days_employed  dob_years            education  education_id  \\\n",
       "0          1    8437.673028         42               высшее             0   \n",
       "1          1    4024.803754         36              среднее             1   \n",
       "2          0    5623.422610         33              среднее             1   \n",
       "3          3    4124.747207         32              среднее             1   \n",
       "4          0  340266.072047         53              среднее             1   \n",
       "5          0     926.185831         27               высшее             0   \n",
       "6          0    2879.202052         43               высшее             0   \n",
       "7          0     152.779569         50              среднее             1   \n",
       "8          2    6929.865299         35               высшее             0   \n",
       "9          0    2188.756445         41              среднее             1   \n",
       "10         2    4171.483647         36               высшее             0   \n",
       "11         0     792.701887         40              среднее             1   \n",
       "12         0  365286.622650         65              среднее             1   \n",
       "13         0    1846.641941         54  неоконченное высшее             2   \n",
       "14         0    1844.956182         56               высшее             0   \n",
       "15         1     972.364419         26              среднее             1   \n",
       "16         0    1719.934226         35              среднее             1   \n",
       "17         0    2369.999720         33               высшее             0   \n",
       "18         0  400281.136913         53              среднее             1   \n",
       "19         0   10038.818549         48              среднее             1   \n",
       "\n",
       "       family_status  family_status_id gender income_type  debt  total_income  \\\n",
       "0    женат / замужем                 0      F   сотрудник     0        253875   \n",
       "1    женат / замужем                 0      F   сотрудник     0        112080   \n",
       "2    женат / замужем                 0      M   сотрудник     0        145885   \n",
       "3    женат / замужем                 0      M   сотрудник     0        267628   \n",
       "4   гражданский брак                 1      F   пенсионер     0        158616   \n",
       "5   гражданский брак                 1      M   компаньон     0        255763   \n",
       "6    женат / замужем                 0      F   компаньон     0        240525   \n",
       "7    женат / замужем                 0      M   сотрудник     0        135823   \n",
       "8   гражданский брак                 1      F   сотрудник     0         95856   \n",
       "9    женат / замужем                 0      M   сотрудник     0        144425   \n",
       "10   женат / замужем                 0      M   компаньон     0        113943   \n",
       "11   женат / замужем                 0      F   сотрудник     0         77069   \n",
       "12  гражданский брак                 1      M   пенсионер     0        118514   \n",
       "13   женат / замужем                 0      F   сотрудник     0        130458   \n",
       "14  гражданский брак                 1      F   компаньон     1        165127   \n",
       "15   женат / замужем                 0      F   сотрудник     0        116820   \n",
       "16   женат / замужем                 0      F   сотрудник     0        289202   \n",
       "17  гражданский брак                 1      M   сотрудник     0         90410   \n",
       "18    вдовец / вдова                 2      F   пенсионер     0         56823   \n",
       "19         в разводе                 3      F   сотрудник     0        242831   \n",
       "\n",
       "                                   purpose total_income_category  \\\n",
       "0                            покупка жилья                     B   \n",
       "1                  приобретение автомобиля                     C   \n",
       "2                            покупка жилья                     C   \n",
       "3               дополнительное образование                     B   \n",
       "4                          сыграть свадьбу                     C   \n",
       "5                            покупка жилья                     B   \n",
       "6                        операции с жильем                     B   \n",
       "7                              образование                     C   \n",
       "8                    на проведение свадьбы                     C   \n",
       "9                  покупка жилья для семьи                     C   \n",
       "10                    покупка недвижимости                     C   \n",
       "11       покупка коммерческой недвижимости                     C   \n",
       "12                         сыграть свадьбу                     C   \n",
       "13                 приобретение автомобиля                     C   \n",
       "14              покупка жилой недвижимости                     C   \n",
       "15  строительство собственной недвижимости                     C   \n",
       "16                            недвижимость                     B   \n",
       "17              строительство недвижимости                     C   \n",
       "18      на покупку подержанного автомобиля                     C   \n",
       "19            на покупку своего автомобиля                     B   \n",
       "\n",
       "            purpose_category  \n",
       "0   операции с недвижимостью  \n",
       "1     операции с автомобилем  \n",
       "2   операции с недвижимостью  \n",
       "3      получение образования  \n",
       "4         проведение свадьбы  \n",
       "5   операции с недвижимостью  \n",
       "6   операции с недвижимостью  \n",
       "7      получение образования  \n",
       "8         проведение свадьбы  \n",
       "9   операции с недвижимостью  \n",
       "10  операции с недвижимостью  \n",
       "11  операции с недвижимостью  \n",
       "12        проведение свадьбы  \n",
       "13    операции с автомобилем  \n",
       "14  операции с недвижимостью  \n",
       "15  операции с недвижимостью  \n",
       "16  операции с недвижимостью  \n",
       "17  операции с недвижимостью  \n",
       "18    операции с автомобилем  \n",
       "19    операции с автомобилем  "
      ]
     },
     "execution_count": 26,
     "metadata": {},
     "output_type": "execute_result"
    }
   ],
   "source": [
    "data.head(20)"
   ]
  },
  {
   "cell_type": "code",
   "execution_count": 27,
   "id": "3fa47148",
   "metadata": {
    "deletable": false,
    "id": "cd7e3720"
   },
   "outputs": [
    {
     "data": {
      "text/html": [
       "<div>\n",
       "<style scoped>\n",
       "    .dataframe tbody tr th:only-of-type {\n",
       "        vertical-align: middle;\n",
       "    }\n",
       "\n",
       "    .dataframe tbody tr th {\n",
       "        vertical-align: top;\n",
       "    }\n",
       "\n",
       "    .dataframe thead tr th {\n",
       "        text-align: left;\n",
       "    }\n",
       "\n",
       "    .dataframe thead tr:last-of-type th {\n",
       "        text-align: right;\n",
       "    }\n",
       "</style>\n",
       "<table border=\"1\" class=\"dataframe\">\n",
       "  <thead>\n",
       "    <tr>\n",
       "      <th></th>\n",
       "      <th colspan=\"2\" halign=\"left\">debt</th>\n",
       "    </tr>\n",
       "    <tr>\n",
       "      <th></th>\n",
       "      <th>count</th>\n",
       "      <th>mean</th>\n",
       "    </tr>\n",
       "    <tr>\n",
       "      <th>total_income_category</th>\n",
       "      <th></th>\n",
       "      <th></th>\n",
       "    </tr>\n",
       "  </thead>\n",
       "  <tbody>\n",
       "    <tr>\n",
       "      <th>A</th>\n",
       "      <td>25</td>\n",
       "      <td>0.080000</td>\n",
       "    </tr>\n",
       "    <tr>\n",
       "      <th>B</th>\n",
       "      <td>5014</td>\n",
       "      <td>0.070602</td>\n",
       "    </tr>\n",
       "    <tr>\n",
       "      <th>C</th>\n",
       "      <td>15921</td>\n",
       "      <td>0.084982</td>\n",
       "    </tr>\n",
       "    <tr>\n",
       "      <th>D</th>\n",
       "      <td>349</td>\n",
       "      <td>0.060172</td>\n",
       "    </tr>\n",
       "    <tr>\n",
       "      <th>E</th>\n",
       "      <td>22</td>\n",
       "      <td>0.090909</td>\n",
       "    </tr>\n",
       "  </tbody>\n",
       "</table>\n",
       "</div>"
      ],
      "text/plain": [
       "                        debt          \n",
       "                       count      mean\n",
       "total_income_category                 \n",
       "A                         25  0.080000\n",
       "B                       5014  0.070602\n",
       "C                      15921  0.084982\n",
       "D                        349  0.060172\n",
       "E                         22  0.090909"
      ]
     },
     "execution_count": 27,
     "metadata": {},
     "output_type": "execute_result"
    }
   ],
   "source": [
    "# Ваш код будет здесь. Вы можете создавать новые ячейки.\n",
    "data_total_income_category = data.groupby(\"total_income_category\")[\"debt\"].mean()\n",
    "data.groupby(\"total_income_category\").agg({\"debt\":[\"count\",\"mean\"]})"
   ]
  },
  {
   "cell_type": "code",
   "execution_count": 28,
   "id": "d6795032",
   "metadata": {},
   "outputs": [
    {
     "name": "stdout",
     "output_type": "stream",
     "text": [
      "Случаи задолжностей к погашениям без задолжностей для людей с категорией доходности A : 8.00%\n",
      "Случаи задолжностей к погашениям без задолжностей для людей с категорией доходности B : 7.06%\n",
      "Случаи задолжностей к погашениям без задолжностей для людей с категорией доходности C : 8.50%\n",
      "Случаи задолжностей к погашениям без задолжностей для людей с категорией доходности D : 6.02%\n",
      "Случаи задолжностей к погашениям без задолжностей для людей с категорией доходности E : 9.09%\n"
     ]
    }
   ],
   "source": [
    "print(f\"Случаи задолжностей к погашениям без задолжностей для людей с категорией доходности A : {('%.2f' % (data_total_income_category[0] * 100))}%\")\n",
    "print(f\"Случаи задолжностей к погашениям без задолжностей для людей с категорией доходности B : {('%.2f' % (data_total_income_category[1] * 100))}%\")\n",
    "print(f\"Случаи задолжностей к погашениям без задолжностей для людей с категорией доходности C : {('%.2f' % (data_total_income_category[2] * 100))}%\")\n",
    "print(f\"Случаи задолжностей к погашениям без задолжностей для людей с категорией доходности D : {('%.2f' % (data_total_income_category[3] * 100))}%\")\n",
    "print(f\"Случаи задолжностей к погашениям без задолжностей для людей с категорией доходности E : {('%.2f' % (data_total_income_category[4] * 100))}%\")"
   ]
  },
  {
   "cell_type": "markdown",
   "id": "e8d3b228",
   "metadata": {
    "deletable": false,
    "id": "e8593def"
   },
   "source": [
    "**Вывод:** \n",
    "Лучше всего выплачивают кредит люди с категорией доходности D, а хуже всего выплачивают люди с категорией доходности E.\n",
    "Однако случаев людей с категорией доходности E всего 22, что очень сильно может сказаться на качественности анализа. \n",
    "Такая же ситуация для людей с категорией доходности A.\n"
   ]
  },
  {
   "cell_type": "markdown",
   "id": "ed1fb704",
   "metadata": {
    "deletable": false,
    "editable": false,
    "id": "99ecbd1f"
   },
   "source": [
    "#### 3.4 Как разные цели кредита влияют на его возврат в срок?"
   ]
  },
  {
   "cell_type": "code",
   "execution_count": 29,
   "id": "11c79542",
   "metadata": {
    "deletable": false,
    "id": "2b687290",
    "scrolled": true
   },
   "outputs": [
    {
     "data": {
      "text/html": [
       "<div>\n",
       "<style scoped>\n",
       "    .dataframe tbody tr th:only-of-type {\n",
       "        vertical-align: middle;\n",
       "    }\n",
       "\n",
       "    .dataframe tbody tr th {\n",
       "        vertical-align: top;\n",
       "    }\n",
       "\n",
       "    .dataframe thead tr th {\n",
       "        text-align: left;\n",
       "    }\n",
       "\n",
       "    .dataframe thead tr:last-of-type th {\n",
       "        text-align: right;\n",
       "    }\n",
       "</style>\n",
       "<table border=\"1\" class=\"dataframe\">\n",
       "  <thead>\n",
       "    <tr>\n",
       "      <th></th>\n",
       "      <th colspan=\"2\" halign=\"left\">debt</th>\n",
       "    </tr>\n",
       "    <tr>\n",
       "      <th></th>\n",
       "      <th>count</th>\n",
       "      <th>mean</th>\n",
       "    </tr>\n",
       "    <tr>\n",
       "      <th>purpose_category</th>\n",
       "      <th></th>\n",
       "      <th></th>\n",
       "    </tr>\n",
       "  </thead>\n",
       "  <tbody>\n",
       "    <tr>\n",
       "      <th>операции с автомобилем</th>\n",
       "      <td>4279</td>\n",
       "      <td>0.093480</td>\n",
       "    </tr>\n",
       "    <tr>\n",
       "      <th>операции с недвижимостью</th>\n",
       "      <td>10751</td>\n",
       "      <td>0.072551</td>\n",
       "    </tr>\n",
       "    <tr>\n",
       "      <th>получение образования</th>\n",
       "      <td>3988</td>\n",
       "      <td>0.092528</td>\n",
       "    </tr>\n",
       "    <tr>\n",
       "      <th>проведение свадьбы</th>\n",
       "      <td>2313</td>\n",
       "      <td>0.079118</td>\n",
       "    </tr>\n",
       "  </tbody>\n",
       "</table>\n",
       "</div>"
      ],
      "text/plain": [
       "                           debt          \n",
       "                          count      mean\n",
       "purpose_category                         \n",
       "операции с автомобилем     4279  0.093480\n",
       "операции с недвижимостью  10751  0.072551\n",
       "получение образования      3988  0.092528\n",
       "проведение свадьбы         2313  0.079118"
      ]
     },
     "execution_count": 29,
     "metadata": {},
     "output_type": "execute_result"
    }
   ],
   "source": [
    "# Ваш код будет здесь. Вы можете создавать новые ячейки.\n",
    "data_purpose_category = data.groupby(\"purpose_category\")[\"debt\"].mean()\n",
    "data.groupby(\"purpose_category\").agg({\"debt\":[\"count\",\"mean\"]})"
   ]
  },
  {
   "cell_type": "code",
   "execution_count": 30,
   "id": "a38f6822",
   "metadata": {},
   "outputs": [
    {
     "name": "stdout",
     "output_type": "stream",
     "text": [
      "Случаи задолжностей к погашениям без задолжностей для людей берущих кредит на операции с автомобилем : 9.35%\n",
      "Случаи задолжностей к погашениям без задолжностей для людей берущих кредит на операции с недвижимостью : 7.26%\n",
      "Случаи задолжностей к погашениям без задолжностей для людей берущих кредит на получение образования : 9.25%\n",
      "Случаи задолжностей к погашениям без задолжностей для людей берущих кредит на проведение свадьбы : 7.91%\n"
     ]
    }
   ],
   "source": [
    "print(f\"Случаи задолжностей к погашениям без задолжностей для людей берущих кредит на операции с автомобилем : {('%.2f' % (data_purpose_category[0] * 100))}%\")\n",
    "print(f\"Случаи задолжностей к погашениям без задолжностей для людей берущих кредит на операции с недвижимостью : {('%.2f' % (data_purpose_category[1] * 100))}%\")\n",
    "print(f\"Случаи задолжностей к погашениям без задолжностей для людей берущих кредит на получение образования : {('%.2f' % (data_purpose_category[2] * 100))}%\")\n",
    "print(f\"Случаи задолжностей к погашениям без задолжностей для людей берущих кредит на проведение свадьбы : {('%.2f' % (data_purpose_category[3] * 100))}%\")"
   ]
  },
  {
   "cell_type": "markdown",
   "id": "11bea5a1",
   "metadata": {
    "deletable": false,
    "id": "b4bb2ce6"
   },
   "source": [
    "**Вывод:** \n",
    "Лучше всего отдают кредит люди, берущие кредит для операций с недвижимостью.\n",
    "Хуже всего отдают кредит люди, которые берут кредит для получения образования."
   ]
  },
  {
   "cell_type": "markdown",
   "id": "01692983",
   "metadata": {
    "deletable": false,
    "editable": false,
    "id": "09c3ac4c"
   },
   "source": [
    "#### 3.5 Приведите возможные причины появления пропусков в исходных данных."
   ]
  },
  {
   "cell_type": "markdown",
   "id": "a0c7b0bd",
   "metadata": {
    "deletable": false,
    "id": "9da2ceda"
   },
   "source": [
    "*Ответ:* Для данной таблицы пропуски были в столбцах трудового стажа и дохода.\n",
    "Скорее всего эти поля были необязательными для заполнения в анкетах кредитуемых."
   ]
  },
  {
   "cell_type": "markdown",
   "id": "f61c80b0",
   "metadata": {
    "deletable": false,
    "editable": false,
    "id": "7b0487d6"
   },
   "source": [
    "#### 3.6 Объясните, почему заполнить пропуски медианным значением — лучшее решение для количественных переменных."
   ]
  },
  {
   "cell_type": "markdown",
   "id": "d60a9330",
   "metadata": {
    "deletable": false,
    "id": "7ecf2b8e"
   },
   "source": [
    "*Ответ:* Медиана - это более качественная характеристика, которая позволяет более точно подходить к анализу. \n",
    "На нее меньше всего влияют случайные аномалии.\n"
   ]
  },
  {
   "cell_type": "code",
   "execution_count": null,
   "id": "c44cb81c",
   "metadata": {},
   "outputs": [],
   "source": []
  },
  {
   "cell_type": "markdown",
   "id": "278ca4a0",
   "metadata": {
    "deletable": false,
    "editable": false,
    "id": "6db5255a"
   },
   "source": [
    "### Шаг 4: общий вывод."
   ]
  },
  {
   "cell_type": "markdown",
   "id": "d7e8c3b2",
   "metadata": {
    "deletable": false,
    "id": "bad65432"
   },
   "source": [
    "В исследовании была проведена предообработка данных: удалили пропуски, обработали аномалии, изменили типы данных на корректные и удобные для текущей работы, обработали дубликаты и категоризировали доход по категориям в зависимости от значений дохода, а также категоризировали различные \"поводы\" для взятия кредита на более общие для удобства работы.\n",
    "Изучив данные, выясняли, как различные условия влияют на возврат кредита.\n",
    "По категориям более ответственными при возврате кредита оказались люди: которые не имеют детей, вдовцы(вдовы), с категорией доходности D (с уровнем дохода более 50к рублей и до 200к рублей) и люди, которые берут кредит для операций с недвижимостью.\n",
    "Также было выяснено, что хуже всего отдают кредит люди: которые имеют 4 детей (но данные имеют малочисленное кол-во для качественного анализа), не женатых, с категорией доходности E - доходность до 30к рублей  (также малочисленное кол-во для качественного анализа) и для операций с автомобилем."
   ]
  }
 ],
 "metadata": {
  "ExecuteTimeLog": [
   {
    "duration": 703,
    "start_time": "2022-11-29T05:13:28.066Z"
   },
   {
    "duration": 21,
    "start_time": "2022-11-29T05:13:28.770Z"
   },
   {
    "duration": 17,
    "start_time": "2022-11-29T05:13:28.792Z"
   },
   {
    "duration": 17,
    "start_time": "2022-11-29T05:13:28.811Z"
   },
   {
    "duration": 31,
    "start_time": "2022-11-29T05:13:28.829Z"
   },
   {
    "duration": 4,
    "start_time": "2022-11-29T05:13:28.861Z"
   },
   {
    "duration": 12,
    "start_time": "2022-11-29T05:13:28.866Z"
   },
   {
    "duration": 20,
    "start_time": "2022-11-29T05:13:28.880Z"
   },
   {
    "duration": 16,
    "start_time": "2022-11-29T05:13:28.902Z"
   },
   {
    "duration": 10,
    "start_time": "2022-11-29T05:13:28.920Z"
   },
   {
    "duration": 41,
    "start_time": "2022-11-29T05:13:28.932Z"
   },
   {
    "duration": 9,
    "start_time": "2022-11-29T05:13:28.975Z"
   },
   {
    "duration": 6,
    "start_time": "2022-11-29T05:13:28.986Z"
   },
   {
    "duration": 18,
    "start_time": "2022-11-29T05:13:28.994Z"
   },
   {
    "duration": 18,
    "start_time": "2022-11-29T05:13:29.014Z"
   },
   {
    "duration": 15,
    "start_time": "2022-11-29T05:13:29.034Z"
   },
   {
    "duration": 3,
    "start_time": "2022-11-29T05:13:29.051Z"
   },
   {
    "duration": 13,
    "start_time": "2022-11-29T05:13:29.056Z"
   },
   {
    "duration": 11,
    "start_time": "2022-11-29T05:13:29.070Z"
   },
   {
    "duration": 3,
    "start_time": "2022-11-29T05:13:29.097Z"
   },
   {
    "duration": 16,
    "start_time": "2022-11-29T05:13:29.101Z"
   },
   {
    "duration": 8,
    "start_time": "2022-11-29T05:13:29.118Z"
   },
   {
    "duration": 15,
    "start_time": "2022-11-29T05:13:29.127Z"
   },
   {
    "duration": 41,
    "start_time": "2022-11-29T05:13:29.144Z"
   },
   {
    "duration": 28,
    "start_time": "2022-11-29T05:13:29.187Z"
   },
   {
    "duration": 14,
    "start_time": "2022-11-29T05:15:22.885Z"
   },
   {
    "duration": 4,
    "start_time": "2022-11-29T05:18:34.253Z"
   },
   {
    "duration": 3,
    "start_time": "2022-11-29T05:18:45.251Z"
   },
   {
    "duration": 5,
    "start_time": "2022-11-29T05:18:52.424Z"
   },
   {
    "duration": 12,
    "start_time": "2022-11-29T05:19:37.284Z"
   },
   {
    "duration": 6,
    "start_time": "2022-11-29T05:20:07.140Z"
   },
   {
    "duration": 7,
    "start_time": "2022-11-29T05:20:40.946Z"
   },
   {
    "duration": 15,
    "start_time": "2022-11-29T05:22:19.193Z"
   },
   {
    "duration": 6,
    "start_time": "2022-11-29T05:35:59.687Z"
   },
   {
    "duration": 6,
    "start_time": "2022-11-29T05:36:06.831Z"
   },
   {
    "duration": 17,
    "start_time": "2022-11-29T05:36:59.180Z"
   },
   {
    "duration": 21,
    "start_time": "2022-11-29T05:38:46.980Z"
   },
   {
    "duration": 20,
    "start_time": "2022-11-29T05:53:08.732Z"
   },
   {
    "duration": 21,
    "start_time": "2022-11-29T05:53:32.584Z"
   },
   {
    "duration": 25,
    "start_time": "2022-11-29T05:53:44.607Z"
   },
   {
    "duration": 18,
    "start_time": "2022-11-29T05:53:51.366Z"
   },
   {
    "duration": 18,
    "start_time": "2022-11-29T05:54:47.481Z"
   },
   {
    "duration": 20,
    "start_time": "2022-11-29T05:54:54.767Z"
   },
   {
    "duration": 6,
    "start_time": "2022-11-29T05:55:24.842Z"
   },
   {
    "duration": 21,
    "start_time": "2022-11-29T05:56:44.036Z"
   },
   {
    "duration": 7,
    "start_time": "2022-11-29T06:05:58.193Z"
   },
   {
    "duration": 8,
    "start_time": "2022-11-29T06:06:15.215Z"
   },
   {
    "duration": 20,
    "start_time": "2022-11-29T06:07:31.004Z"
   },
   {
    "duration": 4,
    "start_time": "2022-11-29T06:12:43.001Z"
   },
   {
    "duration": 6,
    "start_time": "2022-11-29T06:12:58.031Z"
   },
   {
    "duration": 6,
    "start_time": "2022-11-29T06:13:02.605Z"
   },
   {
    "duration": 7,
    "start_time": "2022-11-29T06:13:07.611Z"
   },
   {
    "duration": 6,
    "start_time": "2022-11-29T06:13:16.380Z"
   },
   {
    "duration": 5,
    "start_time": "2022-11-29T06:13:19.277Z"
   },
   {
    "duration": 6,
    "start_time": "2022-11-29T06:13:37.591Z"
   },
   {
    "duration": 47,
    "start_time": "2022-11-29T06:14:37.632Z"
   },
   {
    "duration": 41,
    "start_time": "2022-11-29T06:14:44.198Z"
   },
   {
    "duration": 45,
    "start_time": "2022-11-29T06:14:59.124Z"
   },
   {
    "duration": 3,
    "start_time": "2022-11-29T06:15:35.155Z"
   },
   {
    "duration": 5,
    "start_time": "2022-11-29T06:15:49.058Z"
   },
   {
    "duration": 64,
    "start_time": "2022-11-29T06:16:04.359Z"
   },
   {
    "duration": 44,
    "start_time": "2022-11-29T06:18:23.903Z"
   },
   {
    "duration": 56,
    "start_time": "2022-11-29T06:18:42.619Z"
   },
   {
    "duration": 42,
    "start_time": "2022-11-29T06:18:52.508Z"
   },
   {
    "duration": 60,
    "start_time": "2022-11-29T06:19:00.962Z"
   },
   {
    "duration": 4,
    "start_time": "2022-11-29T06:19:36.498Z"
   },
   {
    "duration": 4,
    "start_time": "2022-11-29T06:22:01.556Z"
   },
   {
    "duration": 4,
    "start_time": "2022-11-29T06:22:14.086Z"
   },
   {
    "duration": 4,
    "start_time": "2022-11-29T06:22:23.609Z"
   },
   {
    "duration": 4,
    "start_time": "2022-11-29T06:22:47.241Z"
   },
   {
    "duration": 7,
    "start_time": "2022-11-29T06:23:00.158Z"
   },
   {
    "duration": 4,
    "start_time": "2022-11-29T06:23:28.149Z"
   },
   {
    "duration": 6,
    "start_time": "2022-11-29T06:23:37.034Z"
   },
   {
    "duration": 4,
    "start_time": "2022-11-29T06:23:49.132Z"
   },
   {
    "duration": 5,
    "start_time": "2022-11-29T06:25:49.870Z"
   },
   {
    "duration": 5,
    "start_time": "2022-11-29T06:26:29.342Z"
   },
   {
    "duration": 13,
    "start_time": "2022-11-29T06:30:36.309Z"
   },
   {
    "duration": 4,
    "start_time": "2022-11-29T06:35:12.243Z"
   },
   {
    "duration": 7,
    "start_time": "2022-11-29T06:35:22.609Z"
   },
   {
    "duration": 5,
    "start_time": "2022-11-29T06:36:07.808Z"
   },
   {
    "duration": 20,
    "start_time": "2022-11-29T06:36:39.045Z"
   },
   {
    "duration": 20,
    "start_time": "2022-11-29T06:36:48.224Z"
   },
   {
    "duration": 19,
    "start_time": "2022-11-29T06:36:52.198Z"
   },
   {
    "duration": 19,
    "start_time": "2022-11-29T06:36:56.784Z"
   },
   {
    "duration": 21,
    "start_time": "2022-11-29T06:37:01.128Z"
   },
   {
    "duration": 20,
    "start_time": "2022-11-29T06:37:09.433Z"
   },
   {
    "duration": 21,
    "start_time": "2022-11-29T06:37:26.519Z"
   },
   {
    "duration": 23,
    "start_time": "2022-11-29T06:37:29.999Z"
   },
   {
    "duration": 20,
    "start_time": "2022-11-29T06:37:32.896Z"
   },
   {
    "duration": 14,
    "start_time": "2022-11-29T06:42:44.224Z"
   },
   {
    "duration": 11,
    "start_time": "2022-11-29T06:43:07.498Z"
   },
   {
    "duration": 13,
    "start_time": "2022-11-29T06:43:30.672Z"
   },
   {
    "duration": 11,
    "start_time": "2022-11-29T06:44:36.518Z"
   },
   {
    "duration": 14,
    "start_time": "2022-11-29T06:46:30.483Z"
   },
   {
    "duration": 21,
    "start_time": "2022-11-29T06:46:50.180Z"
   },
   {
    "duration": 57,
    "start_time": "2022-11-29T06:48:21.173Z"
   },
   {
    "duration": 26,
    "start_time": "2022-11-29T06:48:48.114Z"
   },
   {
    "duration": 52,
    "start_time": "2022-11-29T06:50:18.374Z"
   },
   {
    "duration": 79,
    "start_time": "2022-11-29T06:50:25.133Z"
   },
   {
    "duration": 58,
    "start_time": "2022-11-29T06:50:45.976Z"
   },
   {
    "duration": 47,
    "start_time": "2022-11-29T06:50:56.712Z"
   },
   {
    "duration": 44,
    "start_time": "2022-11-29T06:51:18.512Z"
   },
   {
    "duration": 41,
    "start_time": "2022-11-29T06:51:34.836Z"
   },
   {
    "duration": 43,
    "start_time": "2022-11-29T06:51:48.799Z"
   },
   {
    "duration": 45,
    "start_time": "2022-11-29T06:52:19.136Z"
   },
   {
    "duration": 17,
    "start_time": "2022-11-29T06:52:30.805Z"
   },
   {
    "duration": 60,
    "start_time": "2022-11-29T06:52:55.506Z"
   },
   {
    "duration": 46,
    "start_time": "2022-11-29T06:53:08.323Z"
   },
   {
    "duration": 46,
    "start_time": "2022-11-29T06:53:38.300Z"
   },
   {
    "duration": 50,
    "start_time": "2022-11-29T06:53:49.941Z"
   },
   {
    "duration": 51,
    "start_time": "2022-11-29T06:55:03.761Z"
   },
   {
    "duration": 55,
    "start_time": "2022-11-29T06:55:09.172Z"
   },
   {
    "duration": 45,
    "start_time": "2022-11-29T06:55:14.409Z"
   },
   {
    "duration": 20,
    "start_time": "2022-11-29T06:56:04.045Z"
   },
   {
    "duration": 15,
    "start_time": "2022-11-29T06:56:15.979Z"
   },
   {
    "duration": 12,
    "start_time": "2022-11-29T06:56:22.373Z"
   },
   {
    "duration": 20,
    "start_time": "2022-11-29T06:58:19.233Z"
   },
   {
    "duration": 12,
    "start_time": "2022-11-29T06:59:28.328Z"
   },
   {
    "duration": 4,
    "start_time": "2022-11-29T06:59:53.334Z"
   },
   {
    "duration": 16,
    "start_time": "2022-11-29T06:59:59.727Z"
   },
   {
    "duration": 7,
    "start_time": "2022-11-29T07:08:04.822Z"
   },
   {
    "duration": 11,
    "start_time": "2022-11-29T07:08:14.083Z"
   },
   {
    "duration": 13,
    "start_time": "2022-11-29T07:08:14.640Z"
   },
   {
    "duration": 970,
    "start_time": "2022-11-29T07:08:15.160Z"
   },
   {
    "duration": 886,
    "start_time": "2022-11-29T07:09:07.203Z"
   },
   {
    "duration": 866,
    "start_time": "2022-11-29T07:09:19.814Z"
   },
   {
    "duration": 976,
    "start_time": "2022-11-29T07:09:39.444Z"
   },
   {
    "duration": 1031,
    "start_time": "2022-11-29T07:09:51.801Z"
   },
   {
    "duration": 17,
    "start_time": "2022-11-29T07:10:01.186Z"
   },
   {
    "duration": 15,
    "start_time": "2022-11-29T07:10:53.754Z"
   },
   {
    "duration": 4,
    "start_time": "2022-11-29T07:11:42.598Z"
   },
   {
    "duration": 13,
    "start_time": "2022-11-29T07:11:47.856Z"
   },
   {
    "duration": 16,
    "start_time": "2022-11-29T07:11:59.087Z"
   },
   {
    "duration": 611,
    "start_time": "2022-11-29T07:13:43.253Z"
   },
   {
    "duration": 740,
    "start_time": "2022-11-29T07:13:57.282Z"
   },
   {
    "duration": 746,
    "start_time": "2022-11-29T07:15:16.985Z"
   },
   {
    "duration": 902,
    "start_time": "2022-11-29T07:15:21.332Z"
   },
   {
    "duration": 18,
    "start_time": "2022-11-29T07:17:21.922Z"
   },
   {
    "duration": 5,
    "start_time": "2022-11-29T07:17:45.932Z"
   },
   {
    "duration": 19,
    "start_time": "2022-11-29T07:18:05.070Z"
   },
   {
    "duration": 12,
    "start_time": "2022-11-29T07:18:05.784Z"
   },
   {
    "duration": 17,
    "start_time": "2022-11-29T07:18:42.088Z"
   },
   {
    "duration": 5,
    "start_time": "2022-11-29T07:19:54.335Z"
   },
   {
    "duration": 5,
    "start_time": "2022-11-29T07:20:02.629Z"
   },
   {
    "duration": 5,
    "start_time": "2022-11-29T07:20:13.292Z"
   },
   {
    "duration": 4,
    "start_time": "2022-11-29T07:23:21.549Z"
   },
   {
    "duration": 16,
    "start_time": "2022-11-29T07:29:17.324Z"
   },
   {
    "duration": 428,
    "start_time": "2022-11-29T07:30:08.216Z"
   },
   {
    "duration": 861,
    "start_time": "2022-11-29T07:30:18.498Z"
   },
   {
    "duration": 15,
    "start_time": "2022-11-29T07:30:27.253Z"
   },
   {
    "duration": 15,
    "start_time": "2022-11-29T07:30:43.447Z"
   },
   {
    "duration": 0,
    "start_time": "2022-11-29T07:31:12.004Z"
   },
   {
    "duration": 3105,
    "start_time": "2022-11-29T07:31:14.343Z"
   },
   {
    "duration": 16,
    "start_time": "2022-11-29T07:31:20.650Z"
   },
   {
    "duration": 235,
    "start_time": "2022-11-29T07:32:19.704Z"
   },
   {
    "duration": 2106,
    "start_time": "2022-11-29T07:32:30.001Z"
   },
   {
    "duration": 17,
    "start_time": "2022-11-29T07:32:38.581Z"
   },
   {
    "duration": 14,
    "start_time": "2022-11-29T07:32:43.424Z"
   },
   {
    "duration": 18,
    "start_time": "2022-11-29T07:32:53.430Z"
   },
   {
    "duration": 14,
    "start_time": "2022-11-29T07:33:01.307Z"
   },
   {
    "duration": 14,
    "start_time": "2022-11-29T07:33:05.497Z"
   },
   {
    "duration": 12,
    "start_time": "2022-11-29T07:33:57.810Z"
   },
   {
    "duration": 12,
    "start_time": "2022-11-29T07:34:00.607Z"
   },
   {
    "duration": 49,
    "start_time": "2022-11-29T07:34:01.986Z"
   },
   {
    "duration": 60,
    "start_time": "2022-11-29T07:35:59.919Z"
   },
   {
    "duration": 86,
    "start_time": "2022-11-29T07:36:18.755Z"
   },
   {
    "duration": 84,
    "start_time": "2022-11-29T07:36:49.055Z"
   },
   {
    "duration": 47,
    "start_time": "2022-11-29T07:37:17.176Z"
   },
   {
    "duration": 46,
    "start_time": "2022-11-29T07:37:45.321Z"
   },
   {
    "duration": 4,
    "start_time": "2022-11-29T07:38:03.491Z"
   },
   {
    "duration": 4,
    "start_time": "2022-11-29T07:38:13.749Z"
   },
   {
    "duration": 62,
    "start_time": "2022-11-29T07:38:22.980Z"
   },
   {
    "duration": 48,
    "start_time": "2022-11-29T07:38:32.935Z"
   },
   {
    "duration": 17,
    "start_time": "2022-11-29T07:39:35.868Z"
   },
   {
    "duration": 5,
    "start_time": "2022-11-29T07:39:36.679Z"
   },
   {
    "duration": 16,
    "start_time": "2022-11-29T07:47:58.933Z"
   },
   {
    "duration": 6,
    "start_time": "2022-11-29T07:49:00.895Z"
   },
   {
    "duration": 14,
    "start_time": "2022-11-29T07:50:03.654Z"
   },
   {
    "duration": 14,
    "start_time": "2022-11-29T07:51:16.936Z"
   },
   {
    "duration": 14,
    "start_time": "2022-11-29T07:51:32.510Z"
   },
   {
    "duration": 4,
    "start_time": "2022-11-29T07:53:54.911Z"
   },
   {
    "duration": 14,
    "start_time": "2022-11-29T08:00:21.188Z"
   },
   {
    "duration": 8,
    "start_time": "2022-11-29T08:04:18.417Z"
   },
   {
    "duration": 19,
    "start_time": "2022-11-29T08:04:24.662Z"
   },
   {
    "duration": 5,
    "start_time": "2022-11-29T08:04:24.945Z"
   },
   {
    "duration": 464,
    "start_time": "2022-11-29T08:06:41.054Z"
   },
   {
    "duration": 26,
    "start_time": "2022-11-29T08:06:41.522Z"
   },
   {
    "duration": 16,
    "start_time": "2022-11-29T08:06:41.550Z"
   },
   {
    "duration": 8,
    "start_time": "2022-11-29T08:06:41.567Z"
   },
   {
    "duration": 50,
    "start_time": "2022-11-29T08:06:41.577Z"
   },
   {
    "duration": 4,
    "start_time": "2022-11-29T08:06:41.628Z"
   },
   {
    "duration": 10,
    "start_time": "2022-11-29T08:06:41.634Z"
   },
   {
    "duration": 5,
    "start_time": "2022-11-29T08:06:41.645Z"
   },
   {
    "duration": 7,
    "start_time": "2022-11-29T08:06:41.653Z"
   },
   {
    "duration": 4,
    "start_time": "2022-11-29T08:06:41.662Z"
   },
   {
    "duration": 33,
    "start_time": "2022-11-29T08:06:41.698Z"
   },
   {
    "duration": 9,
    "start_time": "2022-11-29T08:06:41.733Z"
   },
   {
    "duration": 3,
    "start_time": "2022-11-29T08:06:41.744Z"
   },
   {
    "duration": 17,
    "start_time": "2022-11-29T08:06:41.748Z"
   },
   {
    "duration": 40,
    "start_time": "2022-11-29T08:06:41.766Z"
   },
   {
    "duration": 16,
    "start_time": "2022-11-29T08:06:41.807Z"
   },
   {
    "duration": 3,
    "start_time": "2022-11-29T08:06:41.824Z"
   },
   {
    "duration": 13,
    "start_time": "2022-11-29T08:06:41.829Z"
   },
   {
    "duration": 5,
    "start_time": "2022-11-29T08:06:41.844Z"
   },
   {
    "duration": 4,
    "start_time": "2022-11-29T08:06:41.850Z"
   },
   {
    "duration": 10,
    "start_time": "2022-11-29T08:06:41.856Z"
   },
   {
    "duration": 36,
    "start_time": "2022-11-29T08:06:41.868Z"
   },
   {
    "duration": 4,
    "start_time": "2022-11-29T08:06:41.906Z"
   },
   {
    "duration": 25,
    "start_time": "2022-11-29T08:06:41.912Z"
   },
   {
    "duration": 4,
    "start_time": "2022-11-29T08:06:41.939Z"
   },
   {
    "duration": 25,
    "start_time": "2022-11-29T08:06:41.945Z"
   },
   {
    "duration": 36,
    "start_time": "2022-11-29T08:06:41.973Z"
   },
   {
    "duration": 4,
    "start_time": "2022-11-29T08:06:42.011Z"
   },
   {
    "duration": 46,
    "start_time": "2022-11-29T08:06:42.017Z"
   },
   {
    "duration": 4,
    "start_time": "2022-11-29T08:06:42.065Z"
   },
   {
    "duration": 8,
    "start_time": "2022-11-29T08:14:56.482Z"
   },
   {
    "duration": 10,
    "start_time": "2022-11-29T08:15:24.799Z"
   },
   {
    "duration": 35,
    "start_time": "2022-11-29T08:20:31.980Z"
   },
   {
    "duration": 34,
    "start_time": "2022-11-29T08:21:21.145Z"
   },
   {
    "duration": 33,
    "start_time": "2022-11-29T08:21:47.425Z"
   },
   {
    "duration": 36,
    "start_time": "2022-11-29T08:22:01.275Z"
   },
   {
    "duration": 32,
    "start_time": "2022-11-29T08:22:38.847Z"
   },
   {
    "duration": 464,
    "start_time": "2022-11-29T09:08:50.982Z"
   },
   {
    "duration": 20,
    "start_time": "2022-11-29T09:08:51.447Z"
   },
   {
    "duration": 20,
    "start_time": "2022-11-29T09:08:51.468Z"
   },
   {
    "duration": 17,
    "start_time": "2022-11-29T09:08:51.490Z"
   },
   {
    "duration": 38,
    "start_time": "2022-11-29T09:08:51.509Z"
   },
   {
    "duration": 3,
    "start_time": "2022-11-29T09:08:51.548Z"
   },
   {
    "duration": 22,
    "start_time": "2022-11-29T09:08:51.552Z"
   },
   {
    "duration": 4,
    "start_time": "2022-11-29T09:08:51.575Z"
   },
   {
    "duration": 12,
    "start_time": "2022-11-29T09:08:51.580Z"
   },
   {
    "duration": 5,
    "start_time": "2022-11-29T09:08:51.594Z"
   },
   {
    "duration": 40,
    "start_time": "2022-11-29T09:08:51.600Z"
   },
   {
    "duration": 9,
    "start_time": "2022-11-29T09:08:51.641Z"
   },
   {
    "duration": 23,
    "start_time": "2022-11-29T09:08:51.651Z"
   },
   {
    "duration": 31,
    "start_time": "2022-11-29T09:08:51.675Z"
   },
   {
    "duration": 19,
    "start_time": "2022-11-29T09:08:51.707Z"
   },
   {
    "duration": 14,
    "start_time": "2022-11-29T09:08:51.728Z"
   },
   {
    "duration": 3,
    "start_time": "2022-11-29T09:08:51.744Z"
   },
   {
    "duration": 13,
    "start_time": "2022-11-29T09:08:51.749Z"
   },
   {
    "duration": 15,
    "start_time": "2022-11-29T09:08:51.763Z"
   },
   {
    "duration": 11,
    "start_time": "2022-11-29T09:08:51.779Z"
   },
   {
    "duration": 8,
    "start_time": "2022-11-29T09:08:51.797Z"
   },
   {
    "duration": 16,
    "start_time": "2022-11-29T09:08:51.806Z"
   },
   {
    "duration": 7,
    "start_time": "2022-11-29T09:08:51.824Z"
   },
   {
    "duration": 25,
    "start_time": "2022-11-29T09:08:51.833Z"
   },
   {
    "duration": 4,
    "start_time": "2022-11-29T09:08:51.860Z"
   },
   {
    "duration": 21,
    "start_time": "2022-11-29T09:08:51.865Z"
   },
   {
    "duration": 12,
    "start_time": "2022-11-29T09:08:51.897Z"
   },
   {
    "duration": 5,
    "start_time": "2022-11-29T09:08:51.911Z"
   },
   {
    "duration": 19,
    "start_time": "2022-11-29T09:08:51.918Z"
   },
   {
    "duration": 5,
    "start_time": "2022-11-29T09:08:51.938Z"
   },
   {
    "duration": 475,
    "start_time": "2022-11-29T09:40:05.714Z"
   },
   {
    "duration": 21,
    "start_time": "2022-11-29T09:40:06.191Z"
   },
   {
    "duration": 13,
    "start_time": "2022-11-29T09:40:06.213Z"
   },
   {
    "duration": 11,
    "start_time": "2022-11-29T09:40:06.229Z"
   },
   {
    "duration": 39,
    "start_time": "2022-11-29T09:40:06.242Z"
   },
   {
    "duration": 3,
    "start_time": "2022-11-29T09:40:06.283Z"
   },
   {
    "duration": 19,
    "start_time": "2022-11-29T09:40:06.289Z"
   },
   {
    "duration": 5,
    "start_time": "2022-11-29T09:40:06.322Z"
   },
   {
    "duration": 15,
    "start_time": "2022-11-29T09:40:06.328Z"
   },
   {
    "duration": 5,
    "start_time": "2022-11-29T09:40:06.347Z"
   },
   {
    "duration": 68,
    "start_time": "2022-11-29T09:40:06.354Z"
   },
   {
    "duration": 9,
    "start_time": "2022-11-29T09:40:06.425Z"
   },
   {
    "duration": 6,
    "start_time": "2022-11-29T09:40:06.436Z"
   },
   {
    "duration": 21,
    "start_time": "2022-11-29T09:40:06.443Z"
   },
   {
    "duration": 26,
    "start_time": "2022-11-29T09:40:06.466Z"
   },
   {
    "duration": 33,
    "start_time": "2022-11-29T09:40:06.494Z"
   },
   {
    "duration": 3,
    "start_time": "2022-11-29T09:40:06.529Z"
   },
   {
    "duration": 18,
    "start_time": "2022-11-29T09:40:06.534Z"
   },
   {
    "duration": 16,
    "start_time": "2022-11-29T09:40:06.553Z"
   },
   {
    "duration": 7,
    "start_time": "2022-11-29T09:40:06.570Z"
   },
   {
    "duration": 14,
    "start_time": "2022-11-29T09:40:06.578Z"
   },
   {
    "duration": 29,
    "start_time": "2022-11-29T09:40:06.594Z"
   },
   {
    "duration": 5,
    "start_time": "2022-11-29T09:40:06.625Z"
   },
   {
    "duration": 20,
    "start_time": "2022-11-29T09:40:06.632Z"
   },
   {
    "duration": 5,
    "start_time": "2022-11-29T09:40:06.654Z"
   },
   {
    "duration": 18,
    "start_time": "2022-11-29T09:40:06.660Z"
   },
   {
    "duration": 42,
    "start_time": "2022-11-29T09:40:06.680Z"
   },
   {
    "duration": 4,
    "start_time": "2022-11-29T09:40:06.725Z"
   },
   {
    "duration": 23,
    "start_time": "2022-11-29T09:40:06.731Z"
   },
   {
    "duration": 5,
    "start_time": "2022-11-29T09:40:06.755Z"
   },
   {
    "duration": 86,
    "start_time": "2022-11-29T10:58:30.457Z"
   },
   {
    "duration": 74,
    "start_time": "2022-11-29T11:01:15.035Z"
   },
   {
    "duration": 505,
    "start_time": "2022-11-29T11:04:50.782Z"
   },
   {
    "duration": 23,
    "start_time": "2022-11-29T11:04:51.289Z"
   },
   {
    "duration": 15,
    "start_time": "2022-11-29T11:04:51.313Z"
   },
   {
    "duration": 8,
    "start_time": "2022-11-29T11:04:51.330Z"
   },
   {
    "duration": 37,
    "start_time": "2022-11-29T11:04:51.339Z"
   },
   {
    "duration": 3,
    "start_time": "2022-11-29T11:04:51.378Z"
   },
   {
    "duration": 13,
    "start_time": "2022-11-29T11:04:51.383Z"
   },
   {
    "duration": 5,
    "start_time": "2022-11-29T11:04:51.397Z"
   },
   {
    "duration": 8,
    "start_time": "2022-11-29T11:04:51.423Z"
   },
   {
    "duration": 5,
    "start_time": "2022-11-29T11:04:51.434Z"
   },
   {
    "duration": 37,
    "start_time": "2022-11-29T11:04:51.440Z"
   },
   {
    "duration": 10,
    "start_time": "2022-11-29T11:04:51.479Z"
   },
   {
    "duration": 10,
    "start_time": "2022-11-29T11:04:51.490Z"
   },
   {
    "duration": 41,
    "start_time": "2022-11-29T11:04:51.502Z"
   },
   {
    "duration": 27,
    "start_time": "2022-11-29T11:04:51.545Z"
   },
   {
    "duration": 30,
    "start_time": "2022-11-29T11:04:51.574Z"
   },
   {
    "duration": 8,
    "start_time": "2022-11-29T11:04:51.606Z"
   },
   {
    "duration": 34,
    "start_time": "2022-11-29T11:04:51.615Z"
   },
   {
    "duration": 16,
    "start_time": "2022-11-29T11:04:51.652Z"
   },
   {
    "duration": 6,
    "start_time": "2022-11-29T11:04:51.670Z"
   },
   {
    "duration": 17,
    "start_time": "2022-11-29T11:04:51.678Z"
   },
   {
    "duration": 21,
    "start_time": "2022-11-29T11:04:51.697Z"
   },
   {
    "duration": 7,
    "start_time": "2022-11-29T11:04:51.719Z"
   },
   {
    "duration": 25,
    "start_time": "2022-11-29T11:04:51.728Z"
   },
   {
    "duration": 6,
    "start_time": "2022-11-29T11:04:51.755Z"
   },
   {
    "duration": 36,
    "start_time": "2022-11-29T11:04:51.763Z"
   },
   {
    "duration": 24,
    "start_time": "2022-11-29T11:04:51.801Z"
   },
   {
    "duration": 4,
    "start_time": "2022-11-29T11:04:51.829Z"
   },
   {
    "duration": 37,
    "start_time": "2022-11-29T11:04:51.835Z"
   },
   {
    "duration": 20,
    "start_time": "2022-11-29T11:04:51.874Z"
   }
  ],
  "colab": {
   "name": "dpp_template_part2.ipynb",
   "provenance": []
  },
  "kernelspec": {
   "display_name": "Python 3 (ipykernel)",
   "language": "python",
   "name": "python3"
  },
  "language_info": {
   "codemirror_mode": {
    "name": "ipython",
    "version": 3
   },
   "file_extension": ".py",
   "mimetype": "text/x-python",
   "name": "python",
   "nbconvert_exporter": "python",
   "pygments_lexer": "ipython3",
   "version": "3.10.9"
  },
  "toc": {
   "base_numbering": 1,
   "nav_menu": {},
   "number_sections": true,
   "sideBar": true,
   "skip_h1_title": true,
   "title_cell": "Table of Contents",
   "title_sidebar": "Contents",
   "toc_cell": false,
   "toc_position": {},
   "toc_section_display": true,
   "toc_window_display": false
  }
 },
 "nbformat": 4,
 "nbformat_minor": 5
}
